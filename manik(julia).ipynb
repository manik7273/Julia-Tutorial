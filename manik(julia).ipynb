{
 "cells": [
  {
   "cell_type": "markdown",
   "metadata": {},
   "source": [
    "# ABOUT JULIA:\n",
    "1. open source and free\n",
    "2. Developed in MIT in the Applied computing Group by Jeff Bezanson,stefn Karpinski andviral shah\n",
    "3. Development Started in 2009 and completed in 2012\n",
    "4. Popularity is increasing in Technical,data science and high performance computing area\n",
    "5. high level fexible programming language\n",
    "6. Easy to learn and Fast to execute\n",
    "7. Faster than current programming language (R,python,matlab) "
   ]
  },
  {
   "cell_type": "markdown",
   "metadata": {},
   "source": [
    "# (some basic command use in julia )\n",
    "1. ctrl + l    (which is use for cleaning all the coding in julia)\n",
    "2. ctrl + d    (which is use for exit the julia)\n",
    "3. ctrl + c    (which is use for exit the program without interepting the julia)\n",
    "4. workspace() (which is use for exiting the old session and start a new session )\n",
    "5. ?           (which is use for help...for ex. help?>sort )\n",
    "6. ]?          (which is for pkg help...for ex..(v1.4)pkg>help)\n",
    "7. press(a to z)+double tab       (which is use for viewing all the method or function related to any alphabet in julia for example...type (s+tab+tab))\n"
   ]
  },
  {
   "cell_type": "markdown",
   "metadata": {},
   "source": [
    "# For installing or add package library in julia \n",
    "## Browse more info about julia package site is (pkg.julialang.org/docs/)\n",
    "### command for (add,remove,activate etc) a package in julia.\n",
    "#### step 1. using Pkg\n",
    "#### step 2. Pkg.add(\"pakage name\") \n",
    "#### for example... Pkg.add(\"IJulia\") (IJulia is a package name)\n",
    "### some basic command for pkg\n",
    "1. Pkg.acivate   (for activate a package)\n",
    "2. Pkg.update    (for updating a package)\n",
    "3. Pkg.test      (for testing a package)\n",
    "4. Pkg.remove    (for removing a package)\n",
    "### know more  .....run pkg help command in julia."
   ]
  },
  {
   "cell_type": "code",
   "execution_count": 81,
   "metadata": {
    "scrolled": true
   },
   "outputs": [
    {
     "name": "stdout",
     "output_type": "stream",
     "text": [
      "hello world"
     ]
    },
    {
     "data": {
      "text/plain": [
       "\"hello world\""
      ]
     },
     "execution_count": 81,
     "metadata": {},
     "output_type": "execute_result"
    }
   ],
   "source": [
    "# single line comment (# is use for commenting in julia programming language)\n",
    "# first hello world program\n",
    "print(\"hello world\")\n",
    "\"hello world\"   # (to print same output )\n"
   ]
  },
  {
   "cell_type": "markdown",
   "metadata": {},
   "source": [
    "# Mathematical calculation in julia"
   ]
  },
  {
   "cell_type": "code",
   "execution_count": 82,
   "metadata": {},
   "outputs": [
    {
     "data": {
      "text/plain": [
       "72"
      ]
     },
     "execution_count": 82,
     "metadata": {},
     "output_type": "execute_result"
    }
   ],
   "source": [
    "# julia is also understand multiline statement so its does not matter your line is single or multiple julia understand both for example...\n",
    "12 +\n",
    "30 +\n",
    "10 +\n",
    "20"
   ]
  },
  {
   "cell_type": "code",
   "execution_count": 83,
   "metadata": {},
   "outputs": [
    {
     "data": {
      "text/plain": [
       "4"
      ]
     },
     "execution_count": 83,
     "metadata": {},
     "output_type": "execute_result"
    }
   ],
   "source": [
    "2+2"
   ]
  },
  {
   "cell_type": "code",
   "execution_count": 84,
   "metadata": {},
   "outputs": [
    {
     "data": {
      "text/plain": [
       "3.0"
      ]
     },
     "execution_count": 84,
     "metadata": {},
     "output_type": "execute_result"
    }
   ],
   "source": [
    "12/4"
   ]
  },
  {
   "cell_type": "code",
   "execution_count": 85,
   "metadata": {},
   "outputs": [
    {
     "data": {
      "text/plain": [
       "10"
      ]
     },
     "execution_count": 85,
     "metadata": {},
     "output_type": "execute_result"
    }
   ],
   "source": [
    "loan_amount = 10000\n",
    "interest_rate = .15\n",
    "year = 10"
   ]
  },
  {
   "cell_type": "code",
   "execution_count": 86,
   "metadata": {},
   "outputs": [
    {
     "data": {
      "text/plain": [
       "1500.0"
      ]
     },
     "execution_count": 86,
     "metadata": {},
     "output_type": "execute_result"
    }
   ],
   "source": [
    "interest_amount=loan_amount*interest_rate"
   ]
  },
  {
   "cell_type": "code",
   "execution_count": 87,
   "metadata": {},
   "outputs": [
    {
     "data": {
      "text/plain": [
       "15000.0"
      ]
     },
     "execution_count": 87,
     "metadata": {},
     "output_type": "execute_result"
    }
   ],
   "source": [
    "total_interest = interest_amount*year"
   ]
  },
  {
   "cell_type": "code",
   "execution_count": 88,
   "metadata": {},
   "outputs": [
    {
     "data": {
      "text/plain": [
       "\"manik.julia\""
      ]
     },
     "execution_count": 88,
     "metadata": {},
     "output_type": "execute_result"
    }
   ],
   "source": [
    "my_first_program=\"manik.julia\""
   ]
  },
  {
   "cell_type": "code",
   "execution_count": 89,
   "metadata": {},
   "outputs": [
    {
     "name": "stdout",
     "output_type": "stream",
     "text": [
      "manik.julia"
     ]
    }
   ],
   "source": [
    "my_first_program=\"manik.julia\"\n",
    "print(my_first_program)"
   ]
  },
  {
   "cell_type": "code",
   "execution_count": 90,
   "metadata": {},
   "outputs": [
    {
     "data": {
      "text/plain": [
       "\"manik.juliajupitor\""
      ]
     },
     "execution_count": 90,
     "metadata": {},
     "output_type": "execute_result"
    }
   ],
   "source": [
    "my_editior= \"jupitor\"\n",
    "my_first_program*my_editior"
   ]
  },
  {
   "cell_type": "code",
   "execution_count": 91,
   "metadata": {},
   "outputs": [
    {
     "name": "stdout",
     "output_type": "stream",
     "text": [
      "200"
     ]
    },
    {
     "data": {
      "text/plain": [
       "Int64"
      ]
     },
     "execution_count": 91,
     "metadata": {},
     "output_type": "execute_result"
    }
   ],
   "source": [
    "n1 = 20\n",
    "n2 = 10\n",
    "n3 = n1 * n2\n",
    "print(n3)\n",
    "typeof(n1)"
   ]
  },
  {
   "cell_type": "code",
   "execution_count": 92,
   "metadata": {},
   "outputs": [
    {
     "data": {
      "text/plain": [
       "String"
      ]
     },
     "execution_count": 92,
     "metadata": {},
     "output_type": "execute_result"
    }
   ],
   "source": [
    "typeof(my_editior) # for knowing the type of variable"
   ]
  },
  {
   "cell_type": "markdown",
   "metadata": {},
   "source": [
    "# Airthmetic Operators Precedece"
   ]
  },
  {
   "cell_type": "code",
   "execution_count": 93,
   "metadata": {},
   "outputs": [
    {
     "data": {
      "text/plain": [
       "-2.0"
      ]
     },
     "execution_count": 93,
     "metadata": {},
     "output_type": "execute_result"
    }
   ],
   "source": [
    "2+5-6/2*3"
   ]
  },
  {
   "cell_type": "code",
   "execution_count": 94,
   "metadata": {},
   "outputs": [
    {
     "data": {
      "text/plain": [
       "-2.0"
      ]
     },
     "execution_count": 94,
     "metadata": {},
     "output_type": "execute_result"
    }
   ],
   "source": [
    "(2+5)-(6/2)*3"
   ]
  },
  {
   "cell_type": "code",
   "execution_count": 95,
   "metadata": {},
   "outputs": [
    {
     "ename": "LoadError",
     "evalue": "syntax: \"/\" is not a unary operator",
     "output_type": "error",
     "traceback": [
      "syntax: \"/\" is not a unary operator",
      ""
     ]
    }
   ],
   "source": [
    "#This is the airthmetic operator precendence in julia\n",
    "/ * + -"
   ]
  },
  {
   "cell_type": "code",
   "execution_count": 96,
   "metadata": {},
   "outputs": [
    {
     "data": {
      "text/plain": [
       "2.0"
      ]
     },
     "execution_count": 96,
     "metadata": {},
     "output_type": "execute_result"
    }
   ],
   "source": [
    "2*3/3"
   ]
  },
  {
   "cell_type": "code",
   "execution_count": 97,
   "metadata": {},
   "outputs": [
    {
     "data": {
      "text/plain": [
       "9.0"
      ]
     },
     "execution_count": 97,
     "metadata": {},
     "output_type": "execute_result"
    }
   ],
   "source": [
    "6/2*3"
   ]
  },
  {
   "cell_type": "markdown",
   "metadata": {},
   "source": [
    "# Correct Variable Names"
   ]
  },
  {
   "cell_type": "code",
   "execution_count": 98,
   "metadata": {},
   "outputs": [
    {
     "data": {
      "text/plain": [
       "\"this is manik\""
      ]
     },
     "execution_count": 98,
     "metadata": {},
     "output_type": "execute_result"
    }
   ],
   "source": [
    "names =\"this is manik\""
   ]
  },
  {
   "cell_type": "code",
   "execution_count": 99,
   "metadata": {},
   "outputs": [
    {
     "ename": "ErrorException",
     "evalue": "syntax: invalid assignment location \"5\"",
     "output_type": "error",
     "traceback": [
      "syntax: invalid assignment location \"5\"",
      "",
      "Stacktrace:",
      " [1] top-level scope at C:\\Users\\aksha\\.julia\\packages\\IJulia\\DrVMH\\src\\kernel.jl:52"
     ]
    }
   ],
   "source": [
    "#variable name never be assign in integer format(2,3,4,5,6,etc)\n",
    "5 = \"this is manik\""
   ]
  },
  {
   "cell_type": "code",
   "execution_count": 100,
   "metadata": {},
   "outputs": [
    {
     "ename": "LoadError",
     "evalue": "syntax: extra token \"@\" after end of expression",
     "output_type": "error",
     "traceback": [
      "syntax: extra token \"@\" after end of expression",
      ""
     ]
    }
   ],
   "source": [
    "#variable name also never be assign with special character such as(@,#,$,&,etc)\n",
    "place@=\"this is manik\""
   ]
  },
  {
   "cell_type": "code",
   "execution_count": 101,
   "metadata": {},
   "outputs": [
    {
     "ename": "LoadError",
     "evalue": "syntax: unexpected \"=\"",
     "output_type": "error",
     "traceback": [
      "syntax: unexpected \"=\"",
      ""
     ]
    }
   ],
   "source": [
    "#variable name never be assign in pre define keyword in julia\n",
    "quote = \"this is manik\" #quotes is already define in julia name as julia keywords"
   ]
  },
  {
   "cell_type": "code",
   "execution_count": 102,
   "metadata": {},
   "outputs": [
    {
     "data": {
      "text/plain": [
       "\"this is manik\""
      ]
     },
     "execution_count": 102,
     "metadata": {},
     "output_type": "execute_result"
    }
   ],
   "source": [
    "#best way to assign variable name is like(my_name,my_class,etc)\n",
    "my_name= \"this is manik\""
   ]
  },
  {
   "cell_type": "markdown",
   "metadata": {},
   "source": [
    "# Arrays"
   ]
  },
  {
   "cell_type": "code",
   "execution_count": 103,
   "metadata": {},
   "outputs": [
    {
     "data": {
      "text/plain": [
       "5-element Array{Int64,1}:\n",
       " 1\n",
       " 2\n",
       " 3\n",
       " 4\n",
       " 5"
      ]
     },
     "execution_count": 103,
     "metadata": {},
     "output_type": "execute_result"
    }
   ],
   "source": [
    "#integer types arrays\n",
    "a1=[1,2,3,4,5]"
   ]
  },
  {
   "cell_type": "code",
   "execution_count": 104,
   "metadata": {},
   "outputs": [
    {
     "data": {
      "text/plain": [
       "5-element Array{Float64,1}:\n",
       " 1.0\n",
       " 2.0\n",
       " 3.0\n",
       " 4.0\n",
       " 5.0"
      ]
     },
     "execution_count": 104,
     "metadata": {},
     "output_type": "execute_result"
    }
   ],
   "source": [
    "#float types arrays\n",
    "a2= [1,2.0,3,4,5]"
   ]
  },
  {
   "cell_type": "code",
   "execution_count": 105,
   "metadata": {},
   "outputs": [
    {
     "data": {
      "text/plain": [
       "3-element Array{String,1}:\n",
       " \"I\"\n",
       " \"love\"\n",
       " \"julia\""
      ]
     },
     "execution_count": 105,
     "metadata": {},
     "output_type": "execute_result"
    }
   ],
   "source": [
    "#string types arrays\n",
    "s1 = [\"I\",\"love\",\"julia\"]"
   ]
  },
  {
   "cell_type": "code",
   "execution_count": 106,
   "metadata": {},
   "outputs": [
    {
     "data": {
      "text/plain": [
       "3-element Array{Function,1}:\n",
       " print\n",
       " println\n",
       " printstyled"
      ]
     },
     "execution_count": 106,
     "metadata": {},
     "output_type": "execute_result"
    }
   ],
   "source": [
    "#function types arrays\n",
    "f1= [print,println,printstyled]"
   ]
  },
  {
   "cell_type": "code",
   "execution_count": 107,
   "metadata": {},
   "outputs": [
    {
     "data": {
      "text/plain": [
       "3-element Array{Any,1}:\n",
       " 1\n",
       " 2.0\n",
       "  \"julia\""
      ]
     },
     "execution_count": 107,
     "metadata": {},
     "output_type": "execute_result"
    }
   ],
   "source": [
    "#mix type arrays\n",
    "a3= [1,2.0,\"julia\"]"
   ]
  },
  {
   "cell_type": "markdown",
   "metadata": {},
   "source": [
    "## TYPE CASTING\n",
    "### It is nothing but forcing the specified variable which type that you used in next step\n",
    "### It also reduce run time (mns varible type is already defined so system doesn't waste time to knowing type)  "
   ]
  },
  {
   "cell_type": "code",
   "execution_count": 108,
   "metadata": {},
   "outputs": [
    {
     "data": {
      "text/plain": [
       "5-element Array{Int64,1}:\n",
       " 1\n",
       " 2\n",
       " 3\n",
       " 4\n",
       " 5"
      ]
     },
     "execution_count": 108,
     "metadata": {},
     "output_type": "execute_result"
    }
   ],
   "source": [
    "#for assigning the variable in integer\n",
    "type_int = Int64[1,2,3,4,5]"
   ]
  },
  {
   "cell_type": "code",
   "execution_count": 109,
   "metadata": {},
   "outputs": [
    {
     "data": {
      "text/plain": [
       "5-element Array{Float64,1}:\n",
       " 1.0\n",
       " 2.0\n",
       " 3.0\n",
       " 4.0\n",
       " 5.0"
      ]
     },
     "execution_count": 109,
     "metadata": {},
     "output_type": "execute_result"
    }
   ],
   "source": [
    "#for assigning the variable in float\n",
    "type_int = Float64[1,2,3,4,5]"
   ]
  },
  {
   "cell_type": "code",
   "execution_count": 110,
   "metadata": {},
   "outputs": [
    {
     "data": {
      "text/plain": [
       "3-element Array{String,1}:\n",
       " \"this\"\n",
       " \"is\"\n",
       " \"manik\""
      ]
     },
     "execution_count": 110,
     "metadata": {},
     "output_type": "execute_result"
    }
   ],
   "source": [
    "#For assigning the variable in string\n",
    "type_string = String[\"this\",\"is\",\"manik\"]"
   ]
  },
  {
   "cell_type": "markdown",
   "metadata": {},
   "source": [
    "# ARRAY FOR 2D & 1D"
   ]
  },
  {
   "cell_type": "code",
   "execution_count": 111,
   "metadata": {},
   "outputs": [
    {
     "data": {
      "text/plain": [
       "2×4 Array{Int64,2}:\n",
       " 1  2  3  4\n",
       " 5  6  7  8"
      ]
     },
     "execution_count": 111,
     "metadata": {},
     "output_type": "execute_result"
    }
   ],
   "source": [
    "#array for 2 dimensional\n",
    "# That mean  we have two seperate row in table\n",
    "array_2d = [1 2 3 4;5 6 7 8]"
   ]
  },
  {
   "cell_type": "code",
   "execution_count": 112,
   "metadata": {},
   "outputs": [
    {
     "data": {
      "text/plain": [
       "1×5 Array{Int64,2}:\n",
       " 1  2  3  4  5"
      ]
     },
     "execution_count": 112,
     "metadata": {},
     "output_type": "execute_result"
    }
   ],
   "source": [
    "#array for 1 dimensional\n",
    "# That mean  we have two seperate row in table\n",
    "array_1d = [1 2 3 4 5]"
   ]
  },
  {
   "cell_type": "markdown",
   "metadata": {},
   "source": [
    "### Arrays for print random number"
   ]
  },
  {
   "cell_type": "code",
   "execution_count": 113,
   "metadata": {},
   "outputs": [
    {
     "data": {
      "text/plain": [
       "5-element Array{Float64,1}:\n",
       " 0.5121540662558701\n",
       " 0.32458330937370516\n",
       " 0.43735085930093387\n",
       " 0.24712547662438933\n",
       " 0.6804326867525026"
      ]
     },
     "execution_count": 113,
     "metadata": {},
     "output_type": "execute_result"
    }
   ],
   "source": [
    "#print five random number float mode\n",
    "array_rand = rand(5)"
   ]
  },
  {
   "cell_type": "code",
   "execution_count": 114,
   "metadata": {},
   "outputs": [
    {
     "data": {
      "text/plain": [
       "5-element Array{Int64,1}:\n",
       " 5\n",
       " 5\n",
       " 3\n",
       " 0\n",
       " 4"
      ]
     },
     "execution_count": 114,
     "metadata": {},
     "output_type": "execute_result"
    }
   ],
   "source": [
    "#print five random number in integer mode \n",
    "array_rand = rand(0:5,5)"
   ]
  },
  {
   "cell_type": "code",
   "execution_count": 115,
   "metadata": {},
   "outputs": [
    {
     "data": {
      "text/plain": [
       "3×3 Array{Int64,2}:\n",
       " 1  4  3\n",
       " 4  4  4\n",
       " 1  2  2"
      ]
     },
     "execution_count": 115,
     "metadata": {},
     "output_type": "execute_result"
    }
   ],
   "source": [
    "#print random number in 3*3 row and coloum\n",
    "array_rand2 = rand(0:5,3,3)"
   ]
  },
  {
   "cell_type": "markdown",
   "metadata": {},
   "source": [
    "### Ranges"
   ]
  },
  {
   "cell_type": "code",
   "execution_count": 70,
   "metadata": {},
   "outputs": [
    {
     "data": {
      "text/plain": [
       "10-element Array{Int64,1}:\n",
       "  1\n",
       "  2\n",
       "  3\n",
       "  4\n",
       "  5\n",
       "  6\n",
       "  7\n",
       "  8\n",
       "  9\n",
       " 10"
      ]
     },
     "execution_count": 70,
     "metadata": {},
     "output_type": "execute_result"
    }
   ],
   "source": [
    "#arrays in integer for print in range\n",
    "#for print arrays of 1 to 10\n",
    "collect(1:10)"
   ]
  },
  {
   "cell_type": "code",
   "execution_count": 71,
   "metadata": {},
   "outputs": [
    {
     "data": {
      "text/plain": [
       "5-element Array{Float64,1}:\n",
       " 1.5\n",
       " 2.5\n",
       " 3.5\n",
       " 4.5\n",
       " 5.5"
      ]
     },
     "execution_count": 71,
     "metadata": {},
     "output_type": "execute_result"
    }
   ],
   "source": [
    "# arrays in float for print in range\n",
    "collect(1.5:5.5)"
   ]
  },
  {
   "cell_type": "code",
   "execution_count": 88,
   "metadata": {},
   "outputs": [
    {
     "data": {
      "text/plain": [
       "6-element Array{Int64,1}:\n",
       " 100\n",
       "  80\n",
       "  60\n",
       "  40\n",
       "  20\n",
       "   0"
      ]
     },
     "execution_count": 88,
     "metadata": {},
     "output_type": "execute_result"
    }
   ],
   "source": [
    "collect(100:-20:0)"
   ]
  },
  {
   "cell_type": "code",
   "execution_count": 89,
   "metadata": {},
   "outputs": [
    {
     "data": {
      "text/plain": [
       "6-element Array{Int64,1}:\n",
       " 100\n",
       "  80\n",
       "  60\n",
       "  40\n",
       "  20\n",
       "   0"
      ]
     },
     "execution_count": 89,
     "metadata": {},
     "output_type": "execute_result"
    }
   ],
   "source": [
    "c1 = collect(100:-20:0)"
   ]
  },
  {
   "cell_type": "code",
   "execution_count": 90,
   "metadata": {},
   "outputs": [
    {
     "data": {
      "text/plain": [
       "6-element Array{Int64,1}:\n",
       " 100\n",
       "  80\n",
       "  60\n",
       "  40\n",
       "  20\n",
       "   0"
      ]
     },
     "execution_count": 90,
     "metadata": {},
     "output_type": "execute_result"
    }
   ],
   "source": [
    "c1"
   ]
  },
  {
   "cell_type": "code",
   "execution_count": 101,
   "metadata": {},
   "outputs": [
    {
     "data": {
      "text/plain": [
       "60"
      ]
     },
     "execution_count": 101,
     "metadata": {},
     "output_type": "execute_result"
    }
   ],
   "source": [
    "c1 = collect(100:-20:0)\n",
    "c1[3]"
   ]
  },
  {
   "cell_type": "code",
   "execution_count": 113,
   "metadata": {},
   "outputs": [
    {
     "data": {
      "text/plain": [
       "0"
      ]
     },
     "execution_count": 113,
     "metadata": {},
     "output_type": "execute_result"
    }
   ],
   "source": [
    "c1[end]"
   ]
  },
  {
   "cell_type": "code",
   "execution_count": 108,
   "metadata": {},
   "outputs": [
    {
     "data": {
      "text/plain": [
       "40"
      ]
     },
     "execution_count": 108,
     "metadata": {},
     "output_type": "execute_result"
    }
   ],
   "source": [
    "c1[end-2]"
   ]
  },
  {
   "cell_type": "code",
   "execution_count": 117,
   "metadata": {},
   "outputs": [
    {
     "data": {
      "text/plain": [
       "5-element Array{Int64,1}:\n",
       " 80\n",
       " 60\n",
       " 40\n",
       " 20\n",
       "  0"
      ]
     },
     "execution_count": 117,
     "metadata": {},
     "output_type": "execute_result"
    }
   ],
   "source": [
    "c1[2:end]"
   ]
  },
  {
   "cell_type": "code",
   "execution_count": 114,
   "metadata": {},
   "outputs": [
    {
     "data": {
      "text/plain": [
       "4-element Array{Int64,1}:\n",
       " 80\n",
       " 60\n",
       " 40\n",
       " 20"
      ]
     },
     "execution_count": 114,
     "metadata": {},
     "output_type": "execute_result"
    }
   ],
   "source": [
    "c1[2:5]"
   ]
  },
  {
   "cell_type": "code",
   "execution_count": 116,
   "metadata": {},
   "outputs": [
    {
     "data": {
      "text/plain": [
       "3-element Array{Int64,1}:\n",
       " 80\n",
       " 60\n",
       " 20"
      ]
     },
     "execution_count": 116,
     "metadata": {},
     "output_type": "execute_result"
    }
   ],
   "source": [
    "c1[[2,3,5]]"
   ]
  },
  {
   "cell_type": "markdown",
   "metadata": {},
   "source": [
    "### Tuples"
   ]
  },
  {
   "cell_type": "markdown",
   "metadata": {},
   "source": [
    "#### You can not be assign a new value in tuble\n",
    "#### Tuple can not be change after execution"
   ]
  },
  {
   "cell_type": "markdown",
   "metadata": {},
   "source": [
    "#### In arrays we always use \"[]\" this but in tuple we use this \"()\" bracket"
   ]
  },
  {
   "cell_type": "markdown",
   "metadata": {},
   "source": [
    "#### If you want nobody can change your data and program in web application or program you assign the data or program in tuple"
   ]
  },
  {
   "cell_type": "code",
   "execution_count": 120,
   "metadata": {},
   "outputs": [
    {
     "data": {
      "text/plain": [
       "(1, 2, 3, 4, 5)"
      ]
     },
     "execution_count": 120,
     "metadata": {},
     "output_type": "execute_result"
    }
   ],
   "source": [
    "t1 = (1,2,3,4,5)"
   ]
  },
  {
   "cell_type": "code",
   "execution_count": 121,
   "metadata": {},
   "outputs": [
    {
     "data": {
      "text/plain": [
       "5-element Array{Int64,1}:\n",
       " 1\n",
       " 2\n",
       " 3\n",
       " 4\n",
       " 5"
      ]
     },
     "execution_count": 121,
     "metadata": {},
     "output_type": "execute_result"
    }
   ],
   "source": [
    "# In arrays we print like this\n",
    "a1 = [1,2,3,4,5]"
   ]
  },
  {
   "cell_type": "code",
   "execution_count": 123,
   "metadata": {},
   "outputs": [
    {
     "data": {
      "text/plain": [
       "5-element Array{Int64,1}:\n",
       " 1\n",
       " 6\n",
       " 3\n",
       " 4\n",
       " 5"
      ]
     },
     "execution_count": 123,
     "metadata": {},
     "output_type": "execute_result"
    }
   ],
   "source": [
    "# we easly change the value in arrays\n",
    "a1[2]=6\n",
    "a1"
   ]
  },
  {
   "cell_type": "code",
   "execution_count": 125,
   "metadata": {},
   "outputs": [
    {
     "ename": "MethodError",
     "evalue": "MethodError: no method matching setindex!(::NTuple{5,Int64}, ::Int64, ::Int64)",
     "output_type": "error",
     "traceback": [
      "MethodError: no method matching setindex!(::NTuple{5,Int64}, ::Int64, ::Int64)",
      "",
      "Stacktrace:",
      " [1] top-level scope at In[125]:1"
     ]
    }
   ],
   "source": [
    "# But in tuple we can not change the value\n",
    "t1[4]=6"
   ]
  },
  {
   "cell_type": "code",
   "execution_count": 129,
   "metadata": {},
   "outputs": [
    {
     "data": {
      "text/plain": [
       "3"
      ]
     },
     "execution_count": 129,
     "metadata": {},
     "output_type": "execute_result"
    }
   ],
   "source": [
    "t1[3]"
   ]
  },
  {
   "cell_type": "code",
   "execution_count": 134,
   "metadata": {},
   "outputs": [
    {
     "data": {
      "text/plain": [
       "(1, 2, 3)"
      ]
     },
     "execution_count": 134,
     "metadata": {},
     "output_type": "execute_result"
    }
   ],
   "source": [
    "t1[1:3]"
   ]
  },
  {
   "cell_type": "code",
   "execution_count": 135,
   "metadata": {},
   "outputs": [
    {
     "data": {
      "text/plain": [
       "5"
      ]
     },
     "execution_count": 135,
     "metadata": {},
     "output_type": "execute_result"
    }
   ],
   "source": [
    "t1[end]"
   ]
  },
  {
   "cell_type": "code",
   "execution_count": 139,
   "metadata": {},
   "outputs": [
    {
     "data": {
      "text/plain": [
       "3"
      ]
     },
     "execution_count": 139,
     "metadata": {},
     "output_type": "execute_result"
    }
   ],
   "source": [
    "t1[end-2]"
   ]
  },
  {
   "cell_type": "code",
   "execution_count": 136,
   "metadata": {},
   "outputs": [
    {
     "data": {
      "text/plain": [
       "(2, 3, 4, 5)"
      ]
     },
     "execution_count": 136,
     "metadata": {},
     "output_type": "execute_result"
    }
   ],
   "source": [
    "t1[2:end]"
   ]
  },
  {
   "cell_type": "markdown",
   "metadata": {},
   "source": [
    "#### 2D in tuple"
   ]
  },
  {
   "cell_type": "code",
   "execution_count": 142,
   "metadata": {},
   "outputs": [
    {
     "data": {
      "text/plain": [
       "((1, 2, 3, 4), (5, 6, 7, 8))"
      ]
     },
     "execution_count": 142,
     "metadata": {},
     "output_type": "execute_result"
    }
   ],
   "source": [
    "#to print all row present in tuple\n",
    "t2 = ((1,2,3,4),(5,6,7,8))"
   ]
  },
  {
   "cell_type": "code",
   "execution_count": 143,
   "metadata": {},
   "outputs": [
    {
     "data": {
      "text/plain": [
       "(1, 2, 3, 4)"
      ]
     },
     "execution_count": 143,
     "metadata": {},
     "output_type": "execute_result"
    }
   ],
   "source": [
    "#to print first row in tuple\n",
    "t2[1]"
   ]
  },
  {
   "cell_type": "code",
   "execution_count": 146,
   "metadata": {},
   "outputs": [
    {
     "data": {
      "text/plain": [
       "2"
      ]
     },
     "execution_count": 146,
     "metadata": {},
     "output_type": "execute_result"
    }
   ],
   "source": [
    "#tp print second value present in first row\n",
    "t2[1][2]"
   ]
  },
  {
   "cell_type": "code",
   "execution_count": 153,
   "metadata": {},
   "outputs": [
    {
     "data": {
      "text/plain": [
       "(85, 100)"
      ]
     },
     "execution_count": 153,
     "metadata": {},
     "output_type": "execute_result"
    }
   ],
   "source": [
    "#best example is marksheet in web server that is never change in future\n",
    "#for example\n",
    "marks = (science = (90,100),math = (85,100),english = (80,100))\n",
    "marks.math"
   ]
  },
  {
   "cell_type": "code",
   "execution_count": 156,
   "metadata": {},
   "outputs": [
    {
     "ename": "MethodError",
     "evalue": "MethodError: no method matching setindex!(::Tuple{Int64,Int64}, ::Array{Int64,1}, ::Int64)",
     "output_type": "error",
     "traceback": [
      "MethodError: no method matching setindex!(::Tuple{Int64,Int64}, ::Array{Int64,1}, ::Int64)",
      "",
      "Stacktrace:",
      " [1] top-level scope at In[156]:1"
     ]
    }
   ],
   "source": [
    "# because tuple cant be change after execution\n",
    "marks.science = (75,100)"
   ]
  },
  {
   "cell_type": "code",
   "execution_count": 158,
   "metadata": {},
   "outputs": [
    {
     "data": {
      "text/plain": [
       "(science = (90, 100), math = (85, 100), english = (80, 100), history = (80, 100), sport = (76, 100))"
      ]
     },
     "execution_count": 158,
     "metadata": {},
     "output_type": "execute_result"
    }
   ],
   "source": [
    "# for merging or adding another tuple list in table\n",
    "marks2 = (history=(80,100),sport=(76,100))\n",
    "merge(marks,marks2)"
   ]
  },
  {
   "cell_type": "markdown",
   "metadata": {},
   "source": [
    "### Dictionary"
   ]
  },
  {
   "cell_type": "code",
   "execution_count": 195,
   "metadata": {},
   "outputs": [
    {
     "data": {
      "text/plain": [
       "Dict{String,Int64} with 3 entries:\n",
       "  \"audi\"  => 10000\n",
       "  \"honda\" => 4500\n",
       "  \"swift\" => 5000"
      ]
     },
     "execution_count": 195,
     "metadata": {},
     "output_type": "execute_result"
    }
   ],
   "source": [
    "cars = Dict(\"audi\"=> 10000, \"swift\"=> 5000,\"honda\"=>4500 )"
   ]
  },
  {
   "cell_type": "code",
   "execution_count": 196,
   "metadata": {},
   "outputs": [
    {
     "data": {
      "text/plain": [
       "10000"
      ]
     },
     "execution_count": 196,
     "metadata": {},
     "output_type": "execute_result"
    }
   ],
   "source": [
    "#print by name\n",
    "cars[\"audi\"]"
   ]
  },
  {
   "cell_type": "code",
   "execution_count": 197,
   "metadata": {},
   "outputs": [
    {
     "data": {
      "text/plain": [
       "Dict{String,Int64} with 3 entries:\n",
       "  \"audi\"  => 15000\n",
       "  \"honda\" => 4500\n",
       "  \"swift\" => 5000"
      ]
     },
     "execution_count": 197,
     "metadata": {},
     "output_type": "execute_result"
    }
   ],
   "source": [
    "# for changing the price tag in dict.\n",
    "cars[\"audi\"]=15000\n",
    "cars"
   ]
  },
  {
   "cell_type": "code",
   "execution_count": 198,
   "metadata": {},
   "outputs": [
    {
     "data": {
      "text/plain": [
       "Dict{Symbol,Int64} with 3 entries:\n",
       "  :honda1 => 5000\n",
       "  :audi1  => 20000\n",
       "  :swift1 => 6000"
      ]
     },
     "execution_count": 198,
     "metadata": {},
     "output_type": "execute_result"
    }
   ],
   "source": [
    "#another way to print dictionary without \" \" (double cotation)\n",
    "cars1 = Dict(:audi1 => 20000, :honda1 => 5000, :swift1 =>6000)"
   ]
  },
  {
   "cell_type": "code",
   "execution_count": 199,
   "metadata": {},
   "outputs": [
    {
     "data": {
      "text/plain": [
       "20000"
      ]
     },
     "execution_count": 199,
     "metadata": {},
     "output_type": "execute_result"
    }
   ],
   "source": [
    "cars1[:audi1]"
   ]
  },
  {
   "cell_type": "code",
   "execution_count": 200,
   "metadata": {},
   "outputs": [
    {
     "data": {
      "text/plain": [
       "Dict{Symbol,Int64} with 3 entries:\n",
       "  :honda1 => 5000\n",
       "  :audi1  => 25000\n",
       "  :swift1 => 6000"
      ]
     },
     "execution_count": 200,
     "metadata": {},
     "output_type": "execute_result"
    }
   ],
   "source": [
    "cars1[:audi1]= 25000\n",
    "cars1"
   ]
  },
  {
   "cell_type": "code",
   "execution_count": 201,
   "metadata": {},
   "outputs": [
    {
     "data": {
      "text/plain": [
       "Dict{Any,Int64} with 6 entries:\n",
       "  \"audi\"  => 15000\n",
       "  :honda1 => 5000\n",
       "  \"honda\" => 4500\n",
       "  :audi1  => 25000\n",
       "  :swift1 => 6000\n",
       "  \"swift\" => 5000"
      ]
     },
     "execution_count": 201,
     "metadata": {},
     "output_type": "execute_result"
    }
   ],
   "source": [
    "#for mergeing or adding another dictionary\n",
    "cars2 = merge(cars,cars1)"
   ]
  },
  {
   "cell_type": "code",
   "execution_count": 202,
   "metadata": {},
   "outputs": [
    {
     "data": {
      "text/plain": [
       "true"
      ]
     },
     "execution_count": 202,
     "metadata": {},
     "output_type": "execute_result"
    }
   ],
   "source": [
    "#default keyword in julia to check searched cars available or not in dict.\n",
    "haskey(cars2, :swift1)"
   ]
  },
  {
   "cell_type": "code",
   "execution_count": 203,
   "metadata": {},
   "outputs": [
    {
     "data": {
      "text/plain": [
       "Dict{Any,Int64} with 5 entries:\n",
       "  \"audi\"  => 15000\n",
       "  :honda1 => 5000\n",
       "  \"honda\" => 4500\n",
       "  :swift1 => 6000\n",
       "  \"swift\" => 5000"
      ]
     },
     "execution_count": 203,
     "metadata": {},
     "output_type": "execute_result"
    }
   ],
   "source": [
    "#defult keyword or function in julia to delete item in dictionary.\n",
    "delete!(cars2, :audi1)\n",
    "cars2"
   ]
  },
  {
   "cell_type": "code",
   "execution_count": 204,
   "metadata": {},
   "outputs": [
    {
     "data": {
      "text/plain": [
       "Base.KeySet for a Dict{String,Int64} with 3 entries. Keys:\n",
       "  \"audi\"\n",
       "  \"honda\"\n",
       "  \"swift\""
      ]
     },
     "execution_count": 204,
     "metadata": {},
     "output_type": "execute_result"
    }
   ],
   "source": [
    "#default key or function to print only car name available in dictionary\n",
    "keys(cars)"
   ]
  },
  {
   "cell_type": "code",
   "execution_count": 206,
   "metadata": {},
   "outputs": [
    {
     "data": {
      "text/plain": [
       "Base.ValueIterator for a Dict{Any,Int64} with 5 entries. Values:\n",
       "  15000\n",
       "  5000\n",
       "  4500\n",
       "  6000\n",
       "  5000"
      ]
     },
     "execution_count": 206,
     "metadata": {},
     "output_type": "execute_result"
    }
   ],
   "source": [
    "#default key or function to print value(cars price) available in dict.\n",
    "values(cars2)"
   ]
  },
  {
   "cell_type": "markdown",
   "metadata": {},
   "source": [
    "# SETS"
   ]
  },
  {
   "cell_type": "markdown",
   "metadata": {},
   "source": [
    "#### set are another type of variable holder or a collection holder. like, we have seen array,dict,tupple\n",
    "#### The major differece it does not have dublicate element"
   ]
  },
  {
   "cell_type": "code",
   "execution_count": 14,
   "metadata": {
    "scrolled": true
   },
   "outputs": [
    {
     "data": {
      "text/plain": [
       "Set{String} with 4 elements:\n",
       "  \"rebook\"\n",
       "  \"nike\"\n",
       "  \"adidas\"\n",
       "  \"puma\""
      ]
     },
     "execution_count": 14,
     "metadata": {},
     "output_type": "execute_result"
    }
   ],
   "source": [
    "#print elements in set \n",
    "sport_brands = Set([\"adidas\",\"nike\",\"puma\",\"rebook\"])"
   ]
  },
  {
   "cell_type": "code",
   "execution_count": 2,
   "metadata": {},
   "outputs": [
    {
     "data": {
      "text/plain": [
       "true"
      ]
     },
     "execution_count": 2,
     "metadata": {},
     "output_type": "execute_result"
    }
   ],
   "source": [
    "#function for checking the element in list\n",
    "in(\"adidas\",sport_brands)"
   ]
  },
  {
   "cell_type": "code",
   "execution_count": 3,
   "metadata": {},
   "outputs": [
    {
     "data": {
      "text/plain": [
       "false"
      ]
     },
     "execution_count": 3,
     "metadata": {},
     "output_type": "execute_result"
    }
   ],
   "source": [
    "in(\"Hrx\",sport_brands)"
   ]
  },
  {
   "cell_type": "code",
   "execution_count": 4,
   "metadata": {},
   "outputs": [
    {
     "data": {
      "text/plain": [
       "Set{String} with 3 elements:\n",
       "  \"hrx\"\n",
       "  \"nike\"\n",
       "  \"adidas\""
      ]
     },
     "execution_count": 4,
     "metadata": {},
     "output_type": "execute_result"
    }
   ],
   "source": [
    "#create second lists in set\n",
    "sports_brands_india = Set([\"adidas\",\"nike\",\"hrx\"])"
   ]
  },
  {
   "cell_type": "code",
   "execution_count": 6,
   "metadata": {},
   "outputs": [
    {
     "data": {
      "text/plain": [
       "Set{String} with 5 elements:\n",
       "  \"rebook\"\n",
       "  \"hrx\"\n",
       "  \"nike\"\n",
       "  \"adidas\"\n",
       "  \"puma\""
      ]
     },
     "execution_count": 6,
     "metadata": {},
     "output_type": "execute_result"
    }
   ],
   "source": [
    "#function for merging or adding \n",
    "union(sport_brands,sports_brands_india)"
   ]
  },
  {
   "cell_type": "code",
   "execution_count": 8,
   "metadata": {},
   "outputs": [
    {
     "data": {
      "text/plain": [
       "Set{String} with 2 elements:\n",
       "  \"nike\"\n",
       "  \"adidas\""
      ]
     },
     "execution_count": 8,
     "metadata": {},
     "output_type": "execute_result"
    }
   ],
   "source": [
    "#function for checking the repeted element present in both list \n",
    "intersect(sport_brands,sports_brands_india)"
   ]
  },
  {
   "cell_type": "code",
   "execution_count": 9,
   "metadata": {},
   "outputs": [
    {
     "data": {
      "text/plain": [
       "Set{String} with 2 elements:\n",
       "  \"rebook\"\n",
       "  \"puma\""
      ]
     },
     "execution_count": 9,
     "metadata": {},
     "output_type": "execute_result"
    }
   ],
   "source": [
    "#function for checking the difference in first sets of list\n",
    "setdiff(sport_brands,sports_brands_india)"
   ]
  },
  {
   "cell_type": "code",
   "execution_count": 11,
   "metadata": {},
   "outputs": [
    {
     "data": {
      "text/plain": [
       "Set{String} with 1 element:\n",
       "  \"hrx\""
      ]
     },
     "execution_count": 11,
     "metadata": {},
     "output_type": "execute_result"
    }
   ],
   "source": [
    "#function for checking the difference in second sets of lists\n",
    "setdiff(sports_brands_india,sport_brands)"
   ]
  },
  {
   "cell_type": "code",
   "execution_count": 12,
   "metadata": {},
   "outputs": [
    {
     "data": {
      "text/plain": [
       "Set{String} with 5 elements:\n",
       "  \"rebook\"\n",
       "  \"hrx\"\n",
       "  \"nike\"\n",
       "  \"adidas\"\n",
       "  \"puma\""
      ]
     },
     "execution_count": 12,
     "metadata": {},
     "output_type": "execute_result"
    }
   ],
   "source": [
    "#for adding the elements in list of set\n",
    "push!(sport_brands,\"hrx\")"
   ]
  },
  {
   "cell_type": "markdown",
   "metadata": {},
   "source": [
    "#### Many more functions you can easily browse on internet just typing \" julia function \""
   ]
  },
  {
   "cell_type": "markdown",
   "metadata": {},
   "source": [
    "# Working with date and time"
   ]
  },
  {
   "cell_type": "code",
   "execution_count": 147,
   "metadata": {},
   "outputs": [
    {
     "ename": "UndefVarError",
     "evalue": "UndefVarError: Datetime not defined",
     "output_type": "error",
     "traceback": [
      "UndefVarError: Datetime not defined",
      "",
      "Stacktrace:",
      " [1] getproperty(::Module, ::Symbol) at .\\Base.jl:26",
      " [2] top-level scope at In[147]:7"
     ]
    }
   ],
   "source": [
    "#pkg library(using Dates) for importing date in julia\n",
    "using Dates\n",
    "#for time only\n",
    "Dates.Time\n",
    "#for date only\n",
    "Dates.Date\n",
    "#for date and time both\n",
    "Dates.Datetime"
   ]
  },
  {
   "cell_type": "code",
   "execution_count": 149,
   "metadata": {},
   "outputs": [],
   "source": [
    "using Dates"
   ]
  },
  {
   "cell_type": "code",
   "execution_count": 150,
   "metadata": {},
   "outputs": [
    {
     "data": {
      "text/plain": [
       "2020-05-15T16:39:29.316"
      ]
     },
     "execution_count": 150,
     "metadata": {},
     "output_type": "execute_result"
    }
   ],
   "source": [
    "#function for print current date and time\n",
    "now()"
   ]
  },
  {
   "cell_type": "code",
   "execution_count": 151,
   "metadata": {},
   "outputs": [
    {
     "data": {
      "text/plain": [
       "2020-05-15"
      ]
     },
     "execution_count": 151,
     "metadata": {},
     "output_type": "execute_result"
    }
   ],
   "source": [
    "#function for print today date\n",
    "today()"
   ]
  },
  {
   "cell_type": "code",
   "execution_count": 169,
   "metadata": {},
   "outputs": [
    {
     "data": {
      "text/plain": [
       "1999-05-04"
      ]
     },
     "execution_count": 169,
     "metadata": {},
     "output_type": "execute_result"
    }
   ],
   "source": [
    "# for store only date in variable\n",
    "birthdate = Date(1999,5,4)   #yyyy,mm,dd"
   ]
  },
  {
   "cell_type": "code",
   "execution_count": 170,
   "metadata": {},
   "outputs": [
    {
     "data": {
      "text/plain": [
       "1999-05-04T10:14:11"
      ]
     },
     "execution_count": 170,
     "metadata": {},
     "output_type": "execute_result"
    }
   ],
   "source": [
    "# for store date and time both in a variable\n",
    "birth_date = DateTime(1999,5,4,10,14,11)"
   ]
  },
  {
   "cell_type": "code",
   "execution_count": 171,
   "metadata": {},
   "outputs": [
    {
     "data": {
      "text/plain": [
       "2020-05-15T11:11:15.446"
      ]
     },
     "execution_count": 171,
     "metadata": {},
     "output_type": "execute_result"
    }
   ],
   "source": [
    "#function for print date and time for different time zone\n",
    "now(UTC)"
   ]
  },
  {
   "cell_type": "code",
   "execution_count": 172,
   "metadata": {},
   "outputs": [
    {
     "data": {
      "text/plain": [
       "1999"
      ]
     },
     "execution_count": 172,
     "metadata": {},
     "output_type": "execute_result"
    }
   ],
   "source": [
    "# function for print only year \n",
    "year(birthdate)"
   ]
  },
  {
   "cell_type": "code",
   "execution_count": 173,
   "metadata": {},
   "outputs": [
    {
     "data": {
      "text/plain": [
       "5"
      ]
     },
     "execution_count": 173,
     "metadata": {},
     "output_type": "execute_result"
    }
   ],
   "source": [
    "#function for print only month\n",
    "month(birthdate)"
   ]
  },
  {
   "cell_type": "code",
   "execution_count": 174,
   "metadata": {},
   "outputs": [
    {
     "data": {
      "text/plain": [
       "4"
      ]
     },
     "execution_count": 174,
     "metadata": {},
     "output_type": "execute_result"
    }
   ],
   "source": [
    "#function for print only date\n",
    "day(birthdate)"
   ]
  },
  {
   "cell_type": "code",
   "execution_count": 175,
   "metadata": {},
   "outputs": [
    {
     "data": {
      "text/plain": [
       "2020"
      ]
     },
     "execution_count": 175,
     "metadata": {},
     "output_type": "execute_result"
    }
   ],
   "source": [
    "#function for print year in current date\n",
    "year(now())"
   ]
  },
  {
   "cell_type": "code",
   "execution_count": 176,
   "metadata": {},
   "outputs": [
    {
     "data": {
      "text/plain": [
       "16"
      ]
     },
     "execution_count": 176,
     "metadata": {},
     "output_type": "execute_result"
    }
   ],
   "source": [
    "#function for print hour in current date\n",
    "hour(now())"
   ]
  },
  {
   "cell_type": "code",
   "execution_count": 177,
   "metadata": {},
   "outputs": [
    {
     "data": {
      "text/plain": [
       "2"
      ]
     },
     "execution_count": 177,
     "metadata": {},
     "output_type": "execute_result"
    }
   ],
   "source": [
    "#function for print week of birthday\n",
    "dayofweek(birthdate)"
   ]
  },
  {
   "cell_type": "code",
   "execution_count": 178,
   "metadata": {},
   "outputs": [
    {
     "data": {
      "text/plain": [
       "\"Tuesday\""
      ]
     },
     "execution_count": 178,
     "metadata": {},
     "output_type": "execute_result"
    }
   ],
   "source": [
    "#function for print day name of your birthday\n",
    "dayname(birthdate)"
   ]
  },
  {
   "cell_type": "code",
   "execution_count": 179,
   "metadata": {},
   "outputs": [
    {
     "data": {
      "text/plain": [
       "34"
      ]
     },
     "execution_count": 179,
     "metadata": {},
     "output_type": "execute_result"
    }
   ],
   "source": [
    "#function for print day of  birth day in a quater\n",
    "dayofquarter(birthdate) #day of quarter = a period of three months"
   ]
  },
  {
   "cell_type": "code",
   "execution_count": 180,
   "metadata": {},
   "outputs": [
    {
     "data": {
      "text/plain": [
       "31"
      ]
     },
     "execution_count": 180,
     "metadata": {},
     "output_type": "execute_result"
    }
   ],
   "source": [
    "#function for print total day present in your birth day month\n",
    "daysinmonth(birthdate)"
   ]
  },
  {
   "cell_type": "code",
   "execution_count": 188,
   "metadata": {},
   "outputs": [
    {
     "data": {
      "text/plain": [
       "124"
      ]
     },
     "execution_count": 188,
     "metadata": {},
     "output_type": "execute_result"
    }
   ],
   "source": [
    "#function for print day of your birth day in a year\n",
    "dayofyear(birthdate)"
   ]
  },
  {
   "cell_type": "code",
   "execution_count": 182,
   "metadata": {},
   "outputs": [
    {
     "data": {
      "text/plain": [
       "7682 days"
      ]
     },
     "execution_count": 182,
     "metadata": {},
     "output_type": "execute_result"
    }
   ],
   "source": [
    "#function for print total day(birth day to current day)\n",
    "today() - birthdate"
   ]
  },
  {
   "cell_type": "code",
   "execution_count": 183,
   "metadata": {},
   "outputs": [
    {
     "data": {
      "text/plain": [
       "2021-01-15"
      ]
     },
     "execution_count": 183,
     "metadata": {},
     "output_type": "execute_result"
    }
   ],
   "source": [
    "#function for print adding month in your current day\n",
    "today() + Month(8)"
   ]
  },
  {
   "cell_type": "code",
   "execution_count": 184,
   "metadata": {},
   "outputs": [
    {
     "data": {
      "text/plain": [
       "dateformat\"dd-mm-yyyy\""
      ]
     },
     "execution_count": 184,
     "metadata": {},
     "output_type": "execute_result"
    }
   ],
   "source": [
    "#function for change date format\n",
    "date_format = DateFormat(\"dd-mm-yyyy\")"
   ]
  },
  {
   "cell_type": "code",
   "execution_count": 187,
   "metadata": {},
   "outputs": [
    {
     "data": {
      "text/plain": [
       "\"04-05-1999\""
      ]
     },
     "execution_count": 187,
     "metadata": {},
     "output_type": "execute_result"
    }
   ],
   "source": [
    "#function for change format in any variable\n",
    "Dates.format(birthdate,date_format)"
   ]
  },
  {
   "cell_type": "markdown",
   "metadata": {},
   "source": [
    "# CONDITIONAL STATEMENTS"
   ]
  },
  {
   "cell_type": "code",
   "execution_count": 189,
   "metadata": {},
   "outputs": [
    {
     "data": {
      "text/plain": [
       "10"
      ]
     },
     "execution_count": 189,
     "metadata": {},
     "output_type": "execute_result"
    }
   ],
   "source": [
    "a = 10 "
   ]
  },
  {
   "cell_type": "code",
   "execution_count": 190,
   "metadata": {},
   "outputs": [
    {
     "data": {
      "text/plain": [
       "20"
      ]
     },
     "execution_count": 190,
     "metadata": {},
     "output_type": "execute_result"
    }
   ],
   "source": [
    "b = 20"
   ]
  },
  {
   "cell_type": "code",
   "execution_count": 193,
   "metadata": {},
   "outputs": [
    {
     "data": {
      "text/plain": [
       "\"No\""
      ]
     },
     "execution_count": 193,
     "metadata": {},
     "output_type": "execute_result"
    }
   ],
   "source": [
    "#THIS CONDITION MEANS IF A GREATER THEN B THEN PRINT YES OTHERWISE NO\n",
    "a > b ? \"Yes\" : \"No\""
   ]
  },
  {
   "cell_type": "code",
   "execution_count": 194,
   "metadata": {},
   "outputs": [
    {
     "data": {
      "text/plain": [
       "\"yes\""
      ]
     },
     "execution_count": 194,
     "metadata": {},
     "output_type": "execute_result"
    }
   ],
   "source": [
    "a < b ? \"yes\" : \"no\""
   ]
  },
  {
   "cell_type": "markdown",
   "metadata": {},
   "source": [
    "### OR CONDITION\n",
    "#### In OR Condition if one condition will true then print true and come out on the loop but if both the condition will false then after print false.\n",
    "#### OR denoted by \" | | \""
   ]
  },
  {
   "cell_type": "code",
   "execution_count": 199,
   "metadata": {},
   "outputs": [
    {
     "data": {
      "text/plain": [
       "true"
      ]
     },
     "execution_count": 199,
     "metadata": {},
     "output_type": "execute_result"
    }
   ],
   "source": [
    "a >= 10 || b < 20"
   ]
  },
  {
   "cell_type": "code",
   "execution_count": 200,
   "metadata": {},
   "outputs": [
    {
     "data": {
      "text/plain": [
       "false"
      ]
     },
     "execution_count": 200,
     "metadata": {},
     "output_type": "execute_result"
    }
   ],
   "source": [
    "a > 10 || b<20"
   ]
  },
  {
   "cell_type": "markdown",
   "metadata": {},
   "source": [
    "### AND CONDITION\n",
    "#### In and condition if both the statement is true then only print true otherwise print false.(similiar in false condition also)"
   ]
  },
  {
   "cell_type": "code",
   "execution_count": 201,
   "metadata": {},
   "outputs": [
    {
     "data": {
      "text/plain": [
       "false"
      ]
     },
     "execution_count": 201,
     "metadata": {},
     "output_type": "execute_result"
    }
   ],
   "source": [
    "# only one condition true\n",
    "a >= 10 && b < 20"
   ]
  },
  {
   "cell_type": "code",
   "execution_count": 202,
   "metadata": {},
   "outputs": [
    {
     "data": {
      "text/plain": [
       "true"
      ]
     },
     "execution_count": 202,
     "metadata": {},
     "output_type": "execute_result"
    }
   ],
   "source": [
    "# both condition true\n",
    "a >= 10 && b <= 20"
   ]
  },
  {
   "cell_type": "markdown",
   "metadata": {},
   "source": [
    "### IF , ELSE AND ELSEIF CONDITIONAL STATEMENT  "
   ]
  },
  {
   "cell_type": "code",
   "execution_count": 205,
   "metadata": {},
   "outputs": [
    {
     "name": "stdout",
     "output_type": "stream",
     "text": [
      "a is equal"
     ]
    }
   ],
   "source": [
    "if a > 10\n",
    "    print(\"a is greater\")\n",
    "elseif a < 10\n",
    "    print(\"a is smaller\")\n",
    "else\n",
    "    print(\"a is equal\")\n",
    "end"
   ]
  },
  {
   "cell_type": "code",
   "execution_count": 221,
   "metadata": {},
   "outputs": [
    {
     "data": {
      "text/plain": [
       "\"india\""
      ]
     },
     "execution_count": 221,
     "metadata": {},
     "output_type": "execute_result"
    }
   ],
   "source": [
    "country = \"india\""
   ]
  },
  {
   "cell_type": "code",
   "execution_count": 223,
   "metadata": {},
   "outputs": [
    {
     "name": "stdout",
     "output_type": "stream",
     "text": [
      "you mentioned india"
     ]
    }
   ],
   "source": [
    "if country == \"india\"\n",
    "    print(\"you mentioned india\")\n",
    "else\n",
    "    print(\"you are outside in india\")\n",
    "end"
   ]
  },
  {
   "cell_type": "markdown",
   "metadata": {},
   "source": [
    "# LOOPS"
   ]
  },
  {
   "cell_type": "code",
   "execution_count": 230,
   "metadata": {},
   "outputs": [
    {
     "name": "stdout",
     "output_type": "stream",
     "text": [
      "adidas adidas\n",
      "nike nike\n",
      "puma puma\n"
     ]
    }
   ],
   "source": [
    "for i in [\"adidas\",\"nike\",\"puma\"]  # i is a variable\n",
    "    print(i,\" \") #for print in row\n",
    "    println(i)  #for print in line\n",
    "end"
   ]
  },
  {
   "cell_type": "code",
   "execution_count": 232,
   "metadata": {},
   "outputs": [
    {
     "name": "stdout",
     "output_type": "stream",
     "text": [
      "a\n",
      "d\n",
      "i\n",
      "d\n",
      "a\n",
      "s\n"
     ]
    }
   ],
   "source": [
    "#print in line using println(print+line)\n",
    "for i in \"adidas\"\n",
    "    println(i)\n",
    "end"
   ]
  },
  {
   "cell_type": "code",
   "execution_count": 234,
   "metadata": {},
   "outputs": [
    {
     "name": "stdout",
     "output_type": "stream",
     "text": [
      "1\n",
      "2\n",
      "3\n",
      "4\n",
      "5\n"
     ]
    }
   ],
   "source": [
    "#same in tuple\n",
    "for t in (1,2,3,4,5)\n",
    "    println(t)\n",
    "end"
   ]
  },
  {
   "cell_type": "code",
   "execution_count": 235,
   "metadata": {},
   "outputs": [
    {
     "name": "stdout",
     "output_type": "stream",
     "text": [
      ":BMW => 1000 :audi => 2000 "
     ]
    }
   ],
   "source": [
    "#same in dictionary\n",
    "for d in Dict(:BMW => 1000, :audi => 2000)\n",
    "    print(d, \" \")\n",
    "end"
   ]
  },
  {
   "cell_type": "code",
   "execution_count": 3,
   "metadata": {},
   "outputs": [
    {
     "name": "stdout",
     "output_type": "stream",
     "text": [
      "4\n",
      "2\n",
      "3\n",
      "5\n",
      "1\n"
     ]
    }
   ],
   "source": [
    "#same in sets\n",
    "for s in Set([1,2,3,4,5])\n",
    "    println(s)\n",
    "end"
   ]
  },
  {
   "cell_type": "code",
   "execution_count": 5,
   "metadata": {},
   "outputs": [
    {
     "name": "stdout",
     "output_type": "stream",
     "text": [
      "1 2 3 4 5 6 7 8 9 10 11 12 13 14 15 16 17 18 19 20 21 22 23 24 25 26 27 28 29 30 31 32 33 34 35 36 37 38 39 40 41 42 43 44 45 46 47 48 49 50 51 52 53 54 55 56 57 58 59 60 61 62 63 64 65 66 67 68 69 70 71 72 73 74 75 76 77 78 79 80 81 82 83 84 85 86 87 88 89 90 91 92 93 94 95 96 97 98 99 100 "
     ]
    }
   ],
   "source": [
    "#for print in  range\n",
    "for range in 1:100\n",
    "    print(range,\" \")\n",
    "end"
   ]
  },
  {
   "cell_type": "code",
   "execution_count": 6,
   "metadata": {},
   "outputs": [
    {
     "name": "stdout",
     "output_type": "stream",
     "text": [
      "range = 1\n",
      "range = 2\n",
      "range = 3\n",
      "range = 4\n",
      "range = 5\n",
      "range = 6\n",
      "range = 7\n",
      "range = 8\n",
      "range = 9\n",
      "range = 10\n",
      "range = 11\n",
      "range = 12\n",
      "range = 13\n",
      "range = 14\n",
      "range = 15\n",
      "range = 16\n",
      "range = 17\n",
      "range = 18\n",
      "range = 19\n",
      "range = 20\n"
     ]
    }
   ],
   "source": [
    "#for print to show range of a variable\n",
    "for range in 1:20\n",
    "    @show range\n",
    "end"
   ]
  },
  {
   "cell_type": "code",
   "execution_count": 8,
   "metadata": {},
   "outputs": [
    {
     "name": "stdout",
     "output_type": "stream",
     "text": [
      "2\n",
      "4\n",
      "6\n",
      "8\n",
      "10\n",
      "12\n",
      "14\n",
      "16\n",
      "18\n",
      "20\n"
     ]
    }
   ],
   "source": [
    "#for print that number is only divisible by 2\n",
    "for x in 1:20\n",
    "    if x % 2 == 0\n",
    "        println(x)\n",
    "    end\n",
    "end"
   ]
  },
  {
   "cell_type": "code",
   "execution_count": 24,
   "metadata": {},
   "outputs": [
    {
     "name": "stdout",
     "output_type": "stream",
     "text": [
      "3 6 9 12 15 18 21 24 27 30 33 36 39 42 45 48 51 54 57 60 63 66 69 72 75 78 81 84 87 90 93 96 99 "
     ]
    }
   ],
   "source": [
    "# printing the value which is divisible by 3\n",
    "for i in 1:100\n",
    "    if i % 3 == 0\n",
    "        print(i,\" \")\n",
    "    end\n",
    "end"
   ]
  },
  {
   "cell_type": "code",
   "execution_count": 27,
   "metadata": {},
   "outputs": [
    {
     "name": "stdout",
     "output_type": "stream",
     "text": [
      "2 is multiplication between 1 and 10\n",
      "4 is multiplication between 2 and 10\n",
      "6 is multiplication between 3 and 10\n",
      "8 is multiplication between 4 and 10\n",
      "10 is multiplication between 5 and 10\n",
      "12 is multiplication between 6 and 10\n",
      "14 is multiplication between 7 and 10\n",
      "16 is multiplication between 8 and 10\n",
      "18 is multiplication between 9 and 10\n",
      "20 is multiplication between 10 and 10\n"
     ]
    }
   ],
   "source": [
    "# printing the table of 10\n",
    "for i in 1:10\n",
    "    j = i * 10\n",
    "    println(\"$(j) is multiplication between $(i) and 10\")\n",
    "end"
   ]
  },
  {
   "cell_type": "code",
   "execution_count": 29,
   "metadata": {},
   "outputs": [
    {
     "name": "stdout",
     "output_type": "stream",
     "text": [
      "3\n",
      "5\n",
      "7\n",
      "9\n"
     ]
    }
   ],
   "source": [
    "# for printing odd number\n",
    "for i in 1:10\n",
    "   if i % 2 == 0\n",
    "        continue\n",
    "    end\n",
    "    println(i)\n",
    "end"
   ]
  },
  {
   "cell_type": "markdown",
   "metadata": {},
   "source": [
    "### while loop"
   ]
  },
  {
   "cell_type": "markdown",
   "metadata": {},
   "source": [
    "####  while is condition based loop if until the condition wil false keep it running"
   ]
  },
  {
   "cell_type": "code",
   "execution_count": 30,
   "metadata": {},
   "outputs": [
    {
     "data": {
      "text/plain": [
       "1"
      ]
     },
     "execution_count": 30,
     "metadata": {},
     "output_type": "execute_result"
    }
   ],
   "source": [
    "a = 1"
   ]
  },
  {
   "cell_type": "code",
   "execution_count": 31,
   "metadata": {},
   "outputs": [
    {
     "name": "stdout",
     "output_type": "stream",
     "text": [
      "1\n",
      "2\n",
      "3\n",
      "4\n",
      "5\n",
      "6\n",
      "7\n",
      "8\n",
      "9\n"
     ]
    }
   ],
   "source": [
    "while a < 10\n",
    "    println(a)\n",
    "    a += 1\n",
    "end"
   ]
  },
  {
   "cell_type": "markdown",
   "metadata": {},
   "source": [
    "# COMPREHENSION\n",
    "#### SIMILIAR TO THE LOOP IN THE FORM OF COMPREHENSION LIKE(ARRAY BASED ,DICT BASED , SET BASED COMPREHENSION)\n",
    "#### SIMPALLY COMPREHENSION IS CALLED SMART LOOP\n"
   ]
  },
  {
   "cell_type": "code",
   "execution_count": 32,
   "metadata": {},
   "outputs": [
    {
     "data": {
      "text/plain": [
       "10-element Array{Int64,1}:\n",
       "  1\n",
       "  2\n",
       "  3\n",
       "  4\n",
       "  5\n",
       "  6\n",
       "  7\n",
       "  8\n",
       "  9\n",
       " 10"
      ]
     },
     "execution_count": 32,
     "metadata": {},
     "output_type": "execute_result"
    }
   ],
   "source": [
    "#smart way to print 1 to 10\n",
    "x = [i for i in 1:10]"
   ]
  },
  {
   "cell_type": "code",
   "execution_count": 33,
   "metadata": {},
   "outputs": [
    {
     "data": {
      "text/plain": [
       "10-element Array{Int64,1}:\n",
       "  2\n",
       "  4\n",
       "  6\n",
       "  8\n",
       " 10\n",
       " 12\n",
       " 14\n",
       " 16\n",
       " 18\n",
       " 20"
      ]
     },
     "execution_count": 33,
     "metadata": {},
     "output_type": "execute_result"
    }
   ],
   "source": [
    "# print multiplication method in range\n",
    "x = [i *2 for i in 1:10]"
   ]
  },
  {
   "cell_type": "code",
   "execution_count": 34,
   "metadata": {},
   "outputs": [
    {
     "data": {
      "text/plain": [
       "10-element Array{Int64,1}:\n",
       "   1\n",
       "   4\n",
       "   9\n",
       "  16\n",
       "  25\n",
       "  36\n",
       "  49\n",
       "  64\n",
       "  81\n",
       " 100"
      ]
     },
     "execution_count": 34,
     "metadata": {},
     "output_type": "execute_result"
    }
   ],
   "source": [
    "# for square(2^2,3^3,4^4 etc) of element\n",
    "x = [i^2 for i in 1:10]"
   ]
  },
  {
   "cell_type": "code",
   "execution_count": 36,
   "metadata": {},
   "outputs": [
    {
     "name": "stdout",
     "output_type": "stream",
     "text": [
      "Set([7, 4, 9, 10, 2, 3, 5, 8, 6, 1])"
     ]
    }
   ],
   "source": [
    "# same method in set for print 1 to 10\n",
    "s = Set([i for i in 1:10])\n",
    "print(s)"
   ]
  },
  {
   "cell_type": "code",
   "execution_count": 37,
   "metadata": {},
   "outputs": [
    {
     "data": {
      "text/plain": [
       "Dict{String,Int64} with 26 entries:\n",
       "  \"Z\" => 26\n",
       "  \"Q\" => 17\n",
       "  \"W\" => 23\n",
       "  \"T\" => 20\n",
       "  \"C\" => 3\n",
       "  \"P\" => 16\n",
       "  \"V\" => 22\n",
       "  \"L\" => 12\n",
       "  \"O\" => 15\n",
       "  \"B\" => 2\n",
       "  \"M\" => 13\n",
       "  \"N\" => 14\n",
       "  \"H\" => 8\n",
       "  \"A\" => 1\n",
       "  \"X\" => 24\n",
       "  \"D\" => 4\n",
       "  \"G\" => 7\n",
       "  \"E\" => 5\n",
       "  \"Y\" => 25\n",
       "  \"I\" => 9\n",
       "  \"J\" => 10\n",
       "  \"S\" => 19\n",
       "  \"U\" => 21\n",
       "  \"K\" => 11\n",
       "  \"R\" => 18\n",
       "  \"F\" => 6"
      ]
     },
     "execution_count": 37,
     "metadata": {},
     "output_type": "execute_result"
    }
   ],
   "source": [
    "# print alphabet with position value in integer in range\n",
    "alphabet = Dict(string(Char(a + 64)) => a for a in 1:26)"
   ]
  },
  {
   "cell_type": "code",
   "execution_count": 38,
   "metadata": {},
   "outputs": [
    {
     "data": {
      "text/plain": [
       "5-element Array{Int64,1}:\n",
       "  2\n",
       "  4\n",
       "  6\n",
       "  8\n",
       " 10"
      ]
     },
     "execution_count": 38,
     "metadata": {},
     "output_type": "execute_result"
    }
   ],
   "source": [
    "#smart way to print table of 2 in loop\n",
    "[x for x in 1:10 if x%2 ==0]"
   ]
  },
  {
   "cell_type": "markdown",
   "metadata": {},
   "source": [
    "# WORKING WITH STRING"
   ]
  },
  {
   "cell_type": "code",
   "execution_count": 3,
   "metadata": {},
   "outputs": [
    {
     "data": {
      "text/plain": [
       "\"i love julia\""
      ]
     },
     "execution_count": 3,
     "metadata": {},
     "output_type": "execute_result"
    }
   ],
   "source": [
    "# store string in variable\n",
    "s1 = \"i love julia\""
   ]
  },
  {
   "cell_type": "code",
   "execution_count": 4,
   "metadata": {},
   "outputs": [
    {
     "data": {
      "text/plain": [
       "12"
      ]
     },
     "execution_count": 4,
     "metadata": {},
     "output_type": "execute_result"
    }
   ],
   "source": [
    "# for checking the length of string\n",
    "length(s1)"
   ]
  },
  {
   "cell_type": "code",
   "execution_count": 5,
   "metadata": {},
   "outputs": [
    {
     "data": {
      "text/plain": [
       "12"
      ]
     },
     "execution_count": 5,
     "metadata": {},
     "output_type": "execute_result"
    }
   ],
   "source": [
    "#checking the last length of string\n",
    "lastindex(s1)"
   ]
  },
  {
   "cell_type": "code",
   "execution_count": 6,
   "metadata": {},
   "outputs": [
    {
     "data": {
      "text/plain": [
       "'l': ASCII/Unicode U+006C (category Ll: Letter, lowercase)"
      ]
     },
     "execution_count": 6,
     "metadata": {},
     "output_type": "execute_result"
    }
   ],
   "source": [
    "# print the string by the help of length\n",
    "s1[3]"
   ]
  },
  {
   "cell_type": "code",
   "execution_count": 7,
   "metadata": {},
   "outputs": [
    {
     "data": {
      "text/plain": [
       "\"love \""
      ]
     },
     "execution_count": 7,
     "metadata": {},
     "output_type": "execute_result"
    }
   ],
   "source": [
    "# print the string by the help of range in string\n",
    "s1[3:7]"
   ]
  },
  {
   "cell_type": "code",
   "execution_count": 8,
   "metadata": {},
   "outputs": [
    {
     "data": {
      "text/plain": [
       "true"
      ]
     },
     "execution_count": 8,
     "metadata": {},
     "output_type": "execute_result"
    }
   ],
   "source": [
    "# checking the string is isascii(alpha, numeric, special char) or not\n",
    "isascii(s1)"
   ]
  },
  {
   "cell_type": "code",
   "execution_count": 9,
   "metadata": {},
   "outputs": [
    {
     "data": {
      "text/plain": [
       "\"love julia\""
      ]
     },
     "execution_count": 9,
     "metadata": {},
     "output_type": "execute_result"
    }
   ],
   "source": [
    "#how to add string\n",
    "\"love \" * \"julia\""
   ]
  },
  {
   "cell_type": "code",
   "execution_count": 10,
   "metadata": {},
   "outputs": [
    {
     "data": {
      "text/plain": [
       "\"love love love love love \""
      ]
     },
     "execution_count": 10,
     "metadata": {},
     "output_type": "execute_result"
    }
   ],
   "source": [
    "#how to print multiple time \n",
    "\"love \" ^ 5"
   ]
  },
  {
   "cell_type": "code",
   "execution_count": 11,
   "metadata": {},
   "outputs": [
    {
     "data": {
      "text/plain": [
       "\"lovejulia\""
      ]
     },
     "execution_count": 11,
     "metadata": {},
     "output_type": "execute_result"
    }
   ],
   "source": [
    "# another way for merging string\n",
    "string(\"love\",\"julia\")"
   ]
  },
  {
   "cell_type": "code",
   "execution_count": 12,
   "metadata": {},
   "outputs": [
    {
     "data": {
      "text/plain": [
       "3-element Array{SubString{String},1}:\n",
       " \"i\"\n",
       " \"love\"\n",
       " \"julia\""
      ]
     },
     "execution_count": 12,
     "metadata": {},
     "output_type": "execute_result"
    }
   ],
   "source": [
    "#how to split\n",
    "split(s1)"
   ]
  },
  {
   "cell_type": "code",
   "execution_count": 13,
   "metadata": {},
   "outputs": [
    {
     "data": {
      "text/plain": [
       "2-element Array{SubString{String},1}:\n",
       " \"i lov\"\n",
       " \" julia\""
      ]
     },
     "execution_count": 13,
     "metadata": {},
     "output_type": "execute_result"
    }
   ],
   "source": [
    "#how to split with given location in string\n",
    "split(s1,\"e\")"
   ]
  },
  {
   "cell_type": "code",
   "execution_count": 14,
   "metadata": {},
   "outputs": [
    {
     "data": {
      "text/plain": [
       "2-element Array{SubString{String},1}:\n",
       " \"i \"\n",
       " \" julia\""
      ]
     },
     "execution_count": 14,
     "metadata": {},
     "output_type": "execute_result"
    }
   ],
   "source": [
    "#split with given location\n",
    "split(s1,\"love\")"
   ]
  },
  {
   "cell_type": "code",
   "execution_count": 15,
   "metadata": {},
   "outputs": [
    {
     "data": {
      "text/plain": [
       "12-element Array{SubString{String},1}:\n",
       " \"i\"\n",
       " \" \"\n",
       " \"l\"\n",
       " \"o\"\n",
       " \"v\"\n",
       " \"e\"\n",
       " \" \"\n",
       " \"j\"\n",
       " \"u\"\n",
       " \"l\"\n",
       " \"i\"\n",
       " \"a\""
      ]
     },
     "execution_count": 15,
     "metadata": {},
     "output_type": "execute_result"
    }
   ],
   "source": [
    "#split with given location\n",
    "split(s1,\"\")"
   ]
  },
  {
   "cell_type": "code",
   "execution_count": 16,
   "metadata": {},
   "outputs": [
    {
     "data": {
      "text/plain": [
       "100"
      ]
     },
     "execution_count": 16,
     "metadata": {},
     "output_type": "execute_result"
    }
   ],
   "source": [
    "#TYPE casting(string to integer)\n",
    "parse(Int64,\"100\")"
   ]
  },
  {
   "cell_type": "code",
   "execution_count": 17,
   "metadata": {},
   "outputs": [
    {
     "data": {
      "text/plain": [
       "100.0"
      ]
     },
     "execution_count": 17,
     "metadata": {},
     "output_type": "execute_result"
    }
   ],
   "source": [
    "#string to float\n",
    "parse(Float64,\"100\")"
   ]
  },
  {
   "cell_type": "code",
   "execution_count": 18,
   "metadata": {},
   "outputs": [
    {
     "data": {
      "text/plain": [
       "true"
      ]
     },
     "execution_count": 18,
     "metadata": {},
     "output_type": "execute_result"
    }
   ],
   "source": [
    "#finding the string\n",
    "in('i',s1)"
   ]
  },
  {
   "cell_type": "code",
   "execution_count": 19,
   "metadata": {},
   "outputs": [
    {
     "data": {
      "text/plain": [
       "true"
      ]
     },
     "execution_count": 19,
     "metadata": {},
     "output_type": "execute_result"
    }
   ],
   "source": [
    "#find out the multiple character in string\n",
    "occursin(\"love\",s1)"
   ]
  },
  {
   "cell_type": "code",
   "execution_count": 20,
   "metadata": {},
   "outputs": [
    {
     "data": {
      "text/plain": [
       "1:1"
      ]
     },
     "execution_count": 20,
     "metadata": {},
     "output_type": "execute_result"
    }
   ],
   "source": [
    "#find out the first occursin in path range\n",
    "findfirst(\"i\",s1)"
   ]
  },
  {
   "cell_type": "code",
   "execution_count": 21,
   "metadata": {},
   "outputs": [
    {
     "data": {
      "text/plain": [
       "3:6"
      ]
     },
     "execution_count": 21,
     "metadata": {},
     "output_type": "execute_result"
    }
   ],
   "source": [
    "findfirst(\"love\",s1)"
   ]
  },
  {
   "cell_type": "code",
   "execution_count": 28,
   "metadata": {},
   "outputs": [
    {
     "data": {
      "text/plain": [
       "\"i adore julia\""
      ]
     },
     "execution_count": 28,
     "metadata": {},
     "output_type": "execute_result"
    }
   ],
   "source": [
    "#for replace string\n",
    "s1 = replace(s1,\"love\" => \"adore\")"
   ]
  },
  {
   "cell_type": "code",
   "execution_count": 29,
   "metadata": {},
   "outputs": [
    {
     "data": {
      "text/plain": [
       "\"i adore julia\""
      ]
     },
     "execution_count": 29,
     "metadata": {},
     "output_type": "execute_result"
    }
   ],
   "source": [
    "s1"
   ]
  },
  {
   "cell_type": "markdown",
   "metadata": {},
   "source": [
    "# FUNCTIONS\n",
    "#### FUNCTION IS BASICALLY BLOCK OF CODE THAT RUN MULTIPLE TIME FOR MULTIPLE USER"
   ]
  },
  {
   "cell_type": "code",
   "execution_count": 73,
   "metadata": {},
   "outputs": [
    {
     "data": {
      "text/plain": [
       "f (generic function with 2 methods)"
      ]
     },
     "execution_count": 73,
     "metadata": {},
     "output_type": "execute_result"
    }
   ],
   "source": [
    "#use adding through function\n",
    "f(x) = x + x"
   ]
  },
  {
   "cell_type": "code",
   "execution_count": 74,
   "metadata": {},
   "outputs": [
    {
     "data": {
      "text/plain": [
       "8"
      ]
     },
     "execution_count": 74,
     "metadata": {},
     "output_type": "execute_result"
    }
   ],
   "source": [
    "f(4)"
   ]
  },
  {
   "cell_type": "code",
   "execution_count": 75,
   "metadata": {},
   "outputs": [
    {
     "data": {
      "text/plain": [
       "254"
      ]
     },
     "execution_count": 75,
     "metadata": {},
     "output_type": "execute_result"
    }
   ],
   "source": [
    "f(127)"
   ]
  },
  {
   "cell_type": "code",
   "execution_count": 76,
   "metadata": {},
   "outputs": [
    {
     "data": {
      "text/plain": [
       "f (generic function with 2 methods)"
      ]
     },
     "execution_count": 76,
     "metadata": {},
     "output_type": "execute_result"
    }
   ],
   "source": [
    "# function for calculate two element\n",
    "f(x,y) = x * 2 - y"
   ]
  },
  {
   "cell_type": "code",
   "execution_count": 77,
   "metadata": {},
   "outputs": [
    {
     "data": {
      "text/plain": [
       "2"
      ]
     },
     "execution_count": 77,
     "metadata": {},
     "output_type": "execute_result"
    }
   ],
   "source": [
    "f(3,4)"
   ]
  },
  {
   "cell_type": "code",
   "execution_count": 78,
   "metadata": {},
   "outputs": [
    {
     "data": {
      "text/plain": [
       "multiply (generic function with 1 method)"
      ]
     },
     "execution_count": 78,
     "metadata": {},
     "output_type": "execute_result"
    }
   ],
   "source": [
    "# use of function with return statement\n",
    "function multiply(x,y)\n",
    "    return x * y\n",
    "end"
   ]
  },
  {
   "cell_type": "code",
   "execution_count": 79,
   "metadata": {},
   "outputs": [
    {
     "data": {
      "text/plain": [
       "625"
      ]
     },
     "execution_count": 79,
     "metadata": {},
     "output_type": "execute_result"
    }
   ],
   "source": [
    "multiply(25,25)"
   ]
  },
  {
   "cell_type": "code",
   "execution_count": 80,
   "metadata": {},
   "outputs": [
    {
     "data": {
      "text/plain": [
       "converter (generic function with 2 methods)"
      ]
     },
     "execution_count": 80,
     "metadata": {},
     "output_type": "execute_result"
    }
   ],
   "source": [
    "#convert meter to inch in function\n",
    "function converter(val)\n",
    "    return val * 39.37\n",
    "end"
   ]
  },
  {
   "cell_type": "code",
   "execution_count": 81,
   "metadata": {},
   "outputs": [
    {
     "data": {
      "text/plain": [
       "78.74"
      ]
     },
     "execution_count": 81,
     "metadata": {},
     "output_type": "execute_result"
    }
   ],
   "source": [
    "converter(2)"
   ]
  },
  {
   "cell_type": "code",
   "execution_count": 82,
   "metadata": {},
   "outputs": [
    {
     "data": {
      "text/plain": [
       "converter (generic function with 2 methods)"
      ]
     },
     "execution_count": 82,
     "metadata": {},
     "output_type": "execute_result"
    }
   ],
   "source": [
    "# convert meter to inch with if statement in function\n",
    "function converter(val,name = \"manik\")\n",
    "    if name == \"manik\"\n",
    "        println(\"value for name is not supplied\")\n",
    "    else\n",
    "        println(\"hi..\",name,\"the conversion value is\")\n",
    "        return val * 39*37\n",
    "    end\n",
    "end"
   ]
  },
  {
   "cell_type": "code",
   "execution_count": 83,
   "metadata": {},
   "outputs": [
    {
     "name": "stdout",
     "output_type": "stream",
     "text": [
      "value for name is not supplied\n"
     ]
    }
   ],
   "source": [
    "converter(2)"
   ]
  },
  {
   "cell_type": "code",
   "execution_count": 84,
   "metadata": {},
   "outputs": [
    {
     "name": "stdout",
     "output_type": "stream",
     "text": [
      "hi..manik the conversion value is\n"
     ]
    },
    {
     "data": {
      "text/plain": [
       "2886"
      ]
     },
     "execution_count": 84,
     "metadata": {},
     "output_type": "execute_result"
    }
   ],
   "source": [
    "converter(2,\"manik \")"
   ]
  },
  {
   "cell_type": "markdown",
   "metadata": {},
   "source": [
    "# Formatting numbers and strings"
   ]
  },
  {
   "cell_type": "code",
   "execution_count": 90,
   "metadata": {},
   "outputs": [],
   "source": [
    "using Printf"
   ]
  },
  {
   "cell_type": "code",
   "execution_count": 91,
   "metadata": {},
   "outputs": [
    {
     "data": {
      "text/plain": [
       "\"manik\""
      ]
     },
     "execution_count": 91,
     "metadata": {},
     "output_type": "execute_result"
    }
   ],
   "source": [
    "name = \"manik\""
   ]
  },
  {
   "cell_type": "code",
   "execution_count": 92,
   "metadata": {},
   "outputs": [],
   "source": [
    "# if you dont want output simplly use \" ; \" \n",
    "name = \"manik\";"
   ]
  },
  {
   "cell_type": "code",
   "execution_count": 96,
   "metadata": {},
   "outputs": [
    {
     "name": "stdout",
     "output_type": "stream",
     "text": [
      "Hello manik"
     ]
    }
   ],
   "source": [
    "# simply print in string format\n",
    "@printf(\"Hello %s\",name)"
   ]
  },
  {
   "cell_type": "code",
   "execution_count": 98,
   "metadata": {},
   "outputs": [
    {
     "name": "stdout",
     "output_type": "stream",
     "text": [
      "hello i"
     ]
    }
   ],
   "source": [
    "# simply print char(a,b,c,d...) format\n",
    "ch = 'i'\n",
    "@printf(\"hello %c\",ch)"
   ]
  },
  {
   "cell_type": "code",
   "execution_count": 99,
   "metadata": {},
   "outputs": [
    {
     "name": "stdout",
     "output_type": "stream",
     "text": [
      "value of x is 100"
     ]
    }
   ],
   "source": [
    "# simply print integer format\n",
    "x = 100\n",
    "@printf(\"value of x is %d\",x )"
   ]
  },
  {
   "cell_type": "code",
   "execution_count": 101,
   "metadata": {},
   "outputs": [
    {
     "name": "stdout",
     "output_type": "stream",
     "text": [
      "value of y is 10.500000"
     ]
    }
   ],
   "source": [
    "# simply print float format\n",
    "y = 10.5\n",
    "@printf(\"value of y is %f\",y)"
   ]
  },
  {
   "cell_type": "code",
   "execution_count": 102,
   "metadata": {},
   "outputs": [
    {
     "name": "stdout",
     "output_type": "stream",
     "text": [
      "value of y is 10.50"
     ]
    }
   ],
   "source": [
    "#simply print float format with \" . \" location\n",
    "@printf(\"value of y is %.2f\",y)"
   ]
  },
  {
   "cell_type": "code",
   "execution_count": 104,
   "metadata": {},
   "outputs": [
    {
     "name": "stdout",
     "output_type": "stream",
     "text": [
      "2.468e+08"
     ]
    }
   ],
   "source": [
    "# if you need only 3 value after dot notation\n",
    "z = 246834575\n",
    "@printf(\"%.3e\",z)"
   ]
  },
  {
   "cell_type": "markdown",
   "metadata": {},
   "source": [
    "# WORKING WITH REAL WORD FILES (.CSV FILES)"
   ]
  },
  {
   "cell_type": "code",
   "execution_count": 77,
   "metadata": {},
   "outputs": [],
   "source": [
    "# for importing CSV files\n",
    "using CSV"
   ]
  },
  {
   "cell_type": "code",
   "execution_count": 78,
   "metadata": {},
   "outputs": [],
   "source": [
    "#install CSV package\n",
    "using Pkg"
   ]
  },
  {
   "cell_type": "code",
   "execution_count": 79,
   "metadata": {},
   "outputs": [
    {
     "name": "stderr",
     "output_type": "stream",
     "text": [
      "\u001b[32m\u001b[1m  Resolving\u001b[22m\u001b[39m package versions...\n",
      "\u001b[32m\u001b[1m   Updating\u001b[22m\u001b[39m `C:\\Users\\aksha\\.julia\\environments\\v1.4\\Project.toml`\n",
      "\u001b[90m [no changes]\u001b[39m\n",
      "\u001b[32m\u001b[1m   Updating\u001b[22m\u001b[39m `C:\\Users\\aksha\\.julia\\environments\\v1.4\\Manifest.toml`\n",
      "\u001b[90m [no changes]\u001b[39m\n"
     ]
    }
   ],
   "source": [
    "#installing command for CSV package adding\n",
    "Pkg.add(\"CSV\")"
   ]
  },
  {
   "cell_type": "code",
   "execution_count": 80,
   "metadata": {},
   "outputs": [
    {
     "data": {
      "text/html": [
       "<table class=\"data-frame\"><thead><tr><th></th><th>Student.name</th><th>English</th><th>Math</th><th>Computer</th><th>Science</th></tr><tr><th></th><th>String</th><th>Int64</th><th>Int64</th><th>Int64</th><th>Int64</th></tr></thead><tbody><p>4 rows × 5 columns</p><tr><th>1</th><td>Manik =&gt;</td><td>98</td><td>83</td><td>85</td><td>90</td></tr><tr><th>2</th><td>Rudra =&gt;</td><td>97</td><td>87</td><td>89</td><td>78</td></tr><tr><th>3</th><td>Akshay =&gt;</td><td>99</td><td>87</td><td>66</td><td>86</td></tr><tr><th>4</th><td>vishal =&gt;</td><td>88</td><td>86</td><td>77</td><td>88</td></tr></tbody></table>"
      ],
      "text/latex": [
       "\\begin{tabular}{r|ccccc}\n",
       "\t& Student.name & English & Math & Computer & Science\\\\\n",
       "\t\\hline\n",
       "\t& String & Int64 & Int64 & Int64 & Int64\\\\\n",
       "\t\\hline\n",
       "\t1 & Manik => & 98 & 83 & 85 & 90 \\\\\n",
       "\t2 & Rudra => & 97 & 87 & 89 & 78 \\\\\n",
       "\t3 & Akshay => & 99 & 87 & 66 & 86 \\\\\n",
       "\t4 & vishal => & 88 & 86 & 77 & 88 \\\\\n",
       "\\end{tabular}\n"
      ],
      "text/plain": [
       "4×5 DataFrame\n",
       "│ Row │ Student.name │ English │ Math  │ Computer │ Science │\n",
       "│     │ \u001b[90mString\u001b[39m       │ \u001b[90mInt64\u001b[39m   │ \u001b[90mInt64\u001b[39m │ \u001b[90mInt64\u001b[39m    │ \u001b[90mInt64\u001b[39m   │\n",
       "├─────┼──────────────┼─────────┼───────┼──────────┼─────────┤\n",
       "│ 1   │ Manik =>     │ 98      │ 83    │ 85       │ 90      │\n",
       "│ 2   │ Rudra =>     │ 97      │ 87    │ 89       │ 78      │\n",
       "│ 3   │ Akshay =>    │ 99      │ 87    │ 66       │ 86      │\n",
       "│ 4   │ vishal =>    │ 88      │ 86    │ 77       │ 88      │"
      ]
     },
     "execution_count": 80,
     "metadata": {},
     "output_type": "execute_result"
    }
   ],
   "source": [
    "# for open CSV files in read mode\n",
    "manik = CSV.read(\"manik.csv\")"
   ]
  },
  {
   "cell_type": "code",
   "execution_count": 190,
   "metadata": {},
   "outputs": [
    {
     "data": {
      "text/html": [
       "<table class=\"data-frame\"><thead><tr><th></th><th>Student_name</th><th>English</th><th>Math</th><th>Computer</th><th>Science</th></tr><tr><th></th><th>String</th><th>Int64</th><th>Int64</th><th>Int64</th><th>Int64</th></tr></thead><tbody><p>4 rows × 5 columns</p><tr><th>1</th><td>Manik =&gt;</td><td>98</td><td>83</td><td>85</td><td>90</td></tr><tr><th>2</th><td>Rudra =&gt;</td><td>97</td><td>87</td><td>89</td><td>78</td></tr><tr><th>3</th><td>Akshay =&gt;</td><td>99</td><td>87</td><td>66</td><td>86</td></tr><tr><th>4</th><td>vishal =&gt;</td><td>88</td><td>86</td><td>77</td><td>88</td></tr></tbody></table>"
      ],
      "text/latex": [
       "\\begin{tabular}{r|ccccc}\n",
       "\t& Student\\_name & English & Math & Computer & Science\\\\\n",
       "\t\\hline\n",
       "\t& String & Int64 & Int64 & Int64 & Int64\\\\\n",
       "\t\\hline\n",
       "\t1 & Manik => & 98 & 83 & 85 & 90 \\\\\n",
       "\t2 & Rudra => & 97 & 87 & 89 & 78 \\\\\n",
       "\t3 & Akshay => & 99 & 87 & 66 & 86 \\\\\n",
       "\t4 & vishal => & 88 & 86 & 77 & 88 \\\\\n",
       "\\end{tabular}\n"
      ],
      "text/plain": [
       "4×5 DataFrame\n",
       "│ Row │ Student_name │ English │ Math  │ Computer │ Science │\n",
       "│     │ \u001b[90mString\u001b[39m       │ \u001b[90mInt64\u001b[39m   │ \u001b[90mInt64\u001b[39m │ \u001b[90mInt64\u001b[39m    │ \u001b[90mInt64\u001b[39m   │\n",
       "├─────┼──────────────┼─────────┼───────┼──────────┼─────────┤\n",
       "│ 1   │ Manik =>     │ 98      │ 83    │ 85       │ 90      │\n",
       "│ 2   │ Rudra =>     │ 97      │ 87    │ 89       │ 78      │\n",
       "│ 3   │ Akshay =>    │ 99      │ 87    │ 66       │ 86      │\n",
       "│ 4   │ vishal =>    │ 88      │ 86    │ 77       │ 88      │"
      ]
     },
     "execution_count": 190,
     "metadata": {},
     "output_type": "execute_result"
    }
   ],
   "source": [
    "# for normalize the heading string in CSV file\n",
    "manik = CSV.read(\"manik.csv\",normalizenames = true)"
   ]
  },
  {
   "cell_type": "code",
   "execution_count": 191,
   "metadata": {},
   "outputs": [
    {
     "data": {
      "text/plain": [
       "DataFrame"
      ]
     },
     "execution_count": 191,
     "metadata": {},
     "output_type": "execute_result"
    }
   ],
   "source": [
    "# type of CSV file\n",
    "typeof(manik)"
   ]
  },
  {
   "cell_type": "code",
   "execution_count": 192,
   "metadata": {},
   "outputs": [
    {
     "data": {
      "text/plain": [
       "5-element Array{String,1}:\n",
       " \"Student_name\"\n",
       " \"English\"\n",
       " \"Math\"\n",
       " \"Computer\"\n",
       " \"Science\""
      ]
     },
     "execution_count": 192,
     "metadata": {},
     "output_type": "execute_result"
    }
   ],
   "source": [
    "# for print only heading name(sub name)i in CSV files\n",
    "names(manik)"
   ]
  },
  {
   "cell_type": "code",
   "execution_count": 193,
   "metadata": {},
   "outputs": [
    {
     "data": {
      "text/plain": [
       "(4, 5)"
      ]
     },
     "execution_count": 193,
     "metadata": {},
     "output_type": "execute_result"
    }
   ],
   "source": [
    "# for print size of CSV files\n",
    "size(manik)"
   ]
  },
  {
   "cell_type": "code",
   "execution_count": 194,
   "metadata": {},
   "outputs": [
    {
     "name": "stderr",
     "output_type": "stream",
     "text": [
      "\u001b[32m\u001b[1m  Resolving\u001b[22m\u001b[39m package versions...\n",
      "\u001b[32m\u001b[1m   Updating\u001b[22m\u001b[39m `C:\\Users\\aksha\\.julia\\environments\\v1.4\\Project.toml`\n",
      "\u001b[90m [no changes]\u001b[39m\n",
      "\u001b[32m\u001b[1m   Updating\u001b[22m\u001b[39m `C:\\Users\\aksha\\.julia\\environments\\v1.4\\Manifest.toml`\n",
      "\u001b[90m [no changes]\u001b[39m\n"
     ]
    }
   ],
   "source": [
    "# for adding new package DATAFRAMES\n",
    "using Pkg\n",
    "Pkg.add(\"DataFrames\")"
   ]
  },
  {
   "cell_type": "code",
   "execution_count": 195,
   "metadata": {},
   "outputs": [
    {
     "name": "stderr",
     "output_type": "stream",
     "text": [
      "┌ Warning: `head(df::AbstractDataFrame, n::Integer)` is deprecated, use `first(df, n)` instead.\n",
      "│   caller = top-level scope at In[195]:3\n",
      "└ @ Core In[195]:3\n"
     ]
    },
    {
     "data": {
      "text/html": [
       "<table class=\"data-frame\"><thead><tr><th></th><th>Student_name</th><th>English</th><th>Math</th><th>Computer</th><th>Science</th></tr><tr><th></th><th>String</th><th>Int64</th><th>Int64</th><th>Int64</th><th>Int64</th></tr></thead><tbody><p>3 rows × 5 columns</p><tr><th>1</th><td>Manik =&gt;</td><td>98</td><td>83</td><td>85</td><td>90</td></tr><tr><th>2</th><td>Rudra =&gt;</td><td>97</td><td>87</td><td>89</td><td>78</td></tr><tr><th>3</th><td>Akshay =&gt;</td><td>99</td><td>87</td><td>66</td><td>86</td></tr></tbody></table>"
      ],
      "text/latex": [
       "\\begin{tabular}{r|ccccc}\n",
       "\t& Student\\_name & English & Math & Computer & Science\\\\\n",
       "\t\\hline\n",
       "\t& String & Int64 & Int64 & Int64 & Int64\\\\\n",
       "\t\\hline\n",
       "\t1 & Manik => & 98 & 83 & 85 & 90 \\\\\n",
       "\t2 & Rudra => & 97 & 87 & 89 & 78 \\\\\n",
       "\t3 & Akshay => & 99 & 87 & 66 & 86 \\\\\n",
       "\\end{tabular}\n"
      ],
      "text/plain": [
       "3×5 DataFrame\n",
       "│ Row │ Student_name │ English │ Math  │ Computer │ Science │\n",
       "│     │ \u001b[90mString\u001b[39m       │ \u001b[90mInt64\u001b[39m   │ \u001b[90mInt64\u001b[39m │ \u001b[90mInt64\u001b[39m    │ \u001b[90mInt64\u001b[39m   │\n",
       "├─────┼──────────────┼─────────┼───────┼──────────┼─────────┤\n",
       "│ 1   │ Manik =>     │ 98      │ 83    │ 85       │ 90      │\n",
       "│ 2   │ Rudra =>     │ 97      │ 87    │ 89       │ 78      │\n",
       "│ 3   │ Akshay =>    │ 99      │ 87    │ 66       │ 86      │"
      ]
     },
     "execution_count": 195,
     "metadata": {},
     "output_type": "execute_result"
    }
   ],
   "source": [
    "#command for print first three row\n",
    "using DataFrames\n",
    "head(manik,3)"
   ]
  },
  {
   "cell_type": "code",
   "execution_count": 196,
   "metadata": {},
   "outputs": [
    {
     "name": "stderr",
     "output_type": "stream",
     "text": [
      "┌ Warning: `tail(df::AbstractDataFrame, n::Integer)` is deprecated, use `last(df, n)` instead.\n",
      "│   caller = top-level scope at In[196]:1\n",
      "└ @ Core In[196]:1\n"
     ]
    },
    {
     "data": {
      "text/html": [
       "<table class=\"data-frame\"><thead><tr><th></th><th>Student_name</th><th>English</th><th>Math</th><th>Computer</th><th>Science</th></tr><tr><th></th><th>String</th><th>Int64</th><th>Int64</th><th>Int64</th><th>Int64</th></tr></thead><tbody><p>2 rows × 5 columns</p><tr><th>1</th><td>Akshay =&gt;</td><td>99</td><td>87</td><td>66</td><td>86</td></tr><tr><th>2</th><td>vishal =&gt;</td><td>88</td><td>86</td><td>77</td><td>88</td></tr></tbody></table>"
      ],
      "text/latex": [
       "\\begin{tabular}{r|ccccc}\n",
       "\t& Student\\_name & English & Math & Computer & Science\\\\\n",
       "\t\\hline\n",
       "\t& String & Int64 & Int64 & Int64 & Int64\\\\\n",
       "\t\\hline\n",
       "\t1 & Akshay => & 99 & 87 & 66 & 86 \\\\\n",
       "\t2 & vishal => & 88 & 86 & 77 & 88 \\\\\n",
       "\\end{tabular}\n"
      ],
      "text/plain": [
       "2×5 DataFrame\n",
       "│ Row │ Student_name │ English │ Math  │ Computer │ Science │\n",
       "│     │ \u001b[90mString\u001b[39m       │ \u001b[90mInt64\u001b[39m   │ \u001b[90mInt64\u001b[39m │ \u001b[90mInt64\u001b[39m    │ \u001b[90mInt64\u001b[39m   │\n",
       "├─────┼──────────────┼─────────┼───────┼──────────┼─────────┤\n",
       "│ 1   │ Akshay =>    │ 99      │ 87    │ 66       │ 86      │\n",
       "│ 2   │ vishal =>    │ 88      │ 86    │ 77       │ 88      │"
      ]
     },
     "execution_count": 196,
     "metadata": {},
     "output_type": "execute_result"
    }
   ],
   "source": [
    "#command for print last row\n",
    "tail(manik,2)"
   ]
  },
  {
   "cell_type": "code",
   "execution_count": 197,
   "metadata": {},
   "outputs": [
    {
     "data": {
      "text/html": [
       "<table class=\"data-frame\"><thead><tr><th></th><th>variable</th><th>mean</th><th>min</th><th>median</th><th>max</th><th>nunique</th><th>nmissing</th><th>eltype</th></tr><tr><th></th><th>Symbol</th><th>Union…</th><th>Any</th><th>Union…</th><th>Any</th><th>Union…</th><th>Nothing</th><th>DataType</th></tr></thead><tbody><p>5 rows × 8 columns</p><tr><th>1</th><td>Student_name</td><td></td><td>Akshay =&gt;</td><td></td><td>vishal =&gt;</td><td>4</td><td></td><td>String</td></tr><tr><th>2</th><td>English</td><td>95.5</td><td>88</td><td>97.5</td><td>99</td><td></td><td></td><td>Int64</td></tr><tr><th>3</th><td>Math</td><td>85.75</td><td>83</td><td>86.5</td><td>87</td><td></td><td></td><td>Int64</td></tr><tr><th>4</th><td>Computer</td><td>79.25</td><td>66</td><td>81.0</td><td>89</td><td></td><td></td><td>Int64</td></tr><tr><th>5</th><td>Science</td><td>85.5</td><td>78</td><td>87.0</td><td>90</td><td></td><td></td><td>Int64</td></tr></tbody></table>"
      ],
      "text/latex": [
       "\\begin{tabular}{r|cccccccc}\n",
       "\t& variable & mean & min & median & max & nunique & nmissing & eltype\\\\\n",
       "\t\\hline\n",
       "\t& Symbol & Union… & Any & Union… & Any & Union… & Nothing & DataType\\\\\n",
       "\t\\hline\n",
       "\t1 & Student\\_name &  & Akshay => &  & vishal => & 4 &  & String \\\\\n",
       "\t2 & English & 95.5 & 88 & 97.5 & 99 &  &  & Int64 \\\\\n",
       "\t3 & Math & 85.75 & 83 & 86.5 & 87 &  &  & Int64 \\\\\n",
       "\t4 & Computer & 79.25 & 66 & 81.0 & 89 &  &  & Int64 \\\\\n",
       "\t5 & Science & 85.5 & 78 & 87.0 & 90 &  &  & Int64 \\\\\n",
       "\\end{tabular}\n"
      ],
      "text/plain": [
       "5×8 DataFrame. Omitted printing of 2 columns\n",
       "│ Row │ variable     │ mean   │ min       │ median │ max       │ nunique │\n",
       "│     │ \u001b[90mSymbol\u001b[39m       │ \u001b[90mUnion…\u001b[39m │ \u001b[90mAny\u001b[39m       │ \u001b[90mUnion…\u001b[39m │ \u001b[90mAny\u001b[39m       │ \u001b[90mUnion…\u001b[39m  │\n",
       "├─────┼──────────────┼────────┼───────────┼────────┼───────────┼─────────┤\n",
       "│ 1   │ Student_name │        │ Akshay => │        │ vishal => │ 4       │\n",
       "│ 2   │ English      │ 95.5   │ 88        │ 97.5   │ 99        │         │\n",
       "│ 3   │ Math         │ 85.75  │ 83        │ 86.5   │ 87        │         │\n",
       "│ 4   │ Computer     │ 79.25  │ 66        │ 81.0   │ 89        │         │\n",
       "│ 5   │ Science      │ 85.5   │ 78        │ 87.0   │ 90        │         │"
      ]
     },
     "execution_count": 197,
     "metadata": {},
     "output_type": "execute_result"
    }
   ],
   "source": [
    "# command for print overall statics(min,ma,mean,median) in CSV files\n",
    "describe(manik)"
   ]
  },
  {
   "cell_type": "code",
   "execution_count": 198,
   "metadata": {},
   "outputs": [
    {
     "data": {
      "text/plain": [
       "4-element CSV.Column{Int64,Int64}:\n",
       " 98\n",
       " 97\n",
       " 99\n",
       " 88"
      ]
     },
     "execution_count": 198,
     "metadata": {},
     "output_type": "execute_result"
    }
   ],
   "source": [
    "#print only only one column\n",
    "manik.English"
   ]
  },
  {
   "cell_type": "code",
   "execution_count": 199,
   "metadata": {},
   "outputs": [
    {
     "data": {
      "text/plain": [
       "4-element Array{Int64,1}:\n",
       " 83\n",
       " 87\n",
       " 87\n",
       " 86"
      ]
     },
     "execution_count": 199,
     "metadata": {},
     "output_type": "execute_result"
    }
   ],
   "source": [
    "# print 3rd row column\n",
    "manik[:,3]"
   ]
  },
  {
   "cell_type": "code",
   "execution_count": 200,
   "metadata": {},
   "outputs": [
    {
     "data": {
      "text/html": [
       "<table class=\"data-frame\"><thead><tr><th></th><th>Student_name</th><th>English</th><th>Math</th></tr><tr><th></th><th>String</th><th>Int64</th><th>Int64</th></tr></thead><tbody><p>4 rows × 3 columns</p><tr><th>1</th><td>Manik =&gt;</td><td>98</td><td>83</td></tr><tr><th>2</th><td>Rudra =&gt;</td><td>97</td><td>87</td></tr><tr><th>3</th><td>Akshay =&gt;</td><td>99</td><td>87</td></tr><tr><th>4</th><td>vishal =&gt;</td><td>88</td><td>86</td></tr></tbody></table>"
      ],
      "text/latex": [
       "\\begin{tabular}{r|ccc}\n",
       "\t& Student\\_name & English & Math\\\\\n",
       "\t\\hline\n",
       "\t& String & Int64 & Int64\\\\\n",
       "\t\\hline\n",
       "\t1 & Manik => & 98 & 83 \\\\\n",
       "\t2 & Rudra => & 97 & 87 \\\\\n",
       "\t3 & Akshay => & 99 & 87 \\\\\n",
       "\t4 & vishal => & 88 & 86 \\\\\n",
       "\\end{tabular}\n"
      ],
      "text/plain": [
       "4×3 DataFrame\n",
       "│ Row │ Student_name │ English │ Math  │\n",
       "│     │ \u001b[90mString\u001b[39m       │ \u001b[90mInt64\u001b[39m   │ \u001b[90mInt64\u001b[39m │\n",
       "├─────┼──────────────┼─────────┼───────┤\n",
       "│ 1   │ Manik =>     │ 98      │ 83    │\n",
       "│ 2   │ Rudra =>     │ 97      │ 87    │\n",
       "│ 3   │ Akshay =>    │ 99      │ 87    │\n",
       "│ 4   │ vishal =>    │ 88      │ 86    │"
      ]
     },
     "execution_count": 200,
     "metadata": {},
     "output_type": "execute_result"
    }
   ],
   "source": [
    "# command for print selected column 1,2,3\n",
    "manik[:,[1,2,3]]"
   ]
  },
  {
   "cell_type": "code",
   "execution_count": 201,
   "metadata": {},
   "outputs": [
    {
     "data": {
      "text/html": [
       "<table class=\"data-frame\"><thead><tr><th></th><th>Student_name</th><th>English</th><th>Math</th><th>Computer</th><th>Science</th></tr><tr><th></th><th>String</th><th>Int64</th><th>Int64</th><th>Int64</th><th>Int64</th></tr></thead><tbody><p>2 rows × 5 columns</p><tr><th>1</th><td>Manik =&gt;</td><td>98</td><td>83</td><td>85</td><td>90</td></tr><tr><th>2</th><td>Rudra =&gt;</td><td>97</td><td>87</td><td>89</td><td>78</td></tr></tbody></table>"
      ],
      "text/latex": [
       "\\begin{tabular}{r|ccccc}\n",
       "\t& Student\\_name & English & Math & Computer & Science\\\\\n",
       "\t\\hline\n",
       "\t& String & Int64 & Int64 & Int64 & Int64\\\\\n",
       "\t\\hline\n",
       "\t1 & Manik => & 98 & 83 & 85 & 90 \\\\\n",
       "\t2 & Rudra => & 97 & 87 & 89 & 78 \\\\\n",
       "\\end{tabular}\n"
      ],
      "text/plain": [
       "2×5 DataFrame\n",
       "│ Row │ Student_name │ English │ Math  │ Computer │ Science │\n",
       "│     │ \u001b[90mString\u001b[39m       │ \u001b[90mInt64\u001b[39m   │ \u001b[90mInt64\u001b[39m │ \u001b[90mInt64\u001b[39m    │ \u001b[90mInt64\u001b[39m   │\n",
       "├─────┼──────────────┼─────────┼───────┼──────────┼─────────┤\n",
       "│ 1   │ Manik =>     │ 98      │ 83    │ 85       │ 90      │\n",
       "│ 2   │ Rudra =>     │ 97      │ 87    │ 89       │ 78      │"
      ]
     },
     "execution_count": 201,
     "metadata": {},
     "output_type": "execute_result"
    }
   ],
   "source": [
    "# command for print 2 row and 5 column in range\n",
    "manik[1:2,1:5]"
   ]
  },
  {
   "cell_type": "markdown",
   "metadata": {},
   "source": [
    "# VISUALIZATION DATA\n",
    "#### iT IS GENERALLY USED BY DATA ANALASIS , MACHINE LEARNING OR PERSON WHO PERFORMING IN GENERAL ENQUIRY OF DATA"
   ]
  },
  {
   "cell_type": "code",
   "execution_count": 202,
   "metadata": {},
   "outputs": [],
   "source": [
    "using Pkg"
   ]
  },
  {
   "cell_type": "code",
   "execution_count": 203,
   "metadata": {},
   "outputs": [
    {
     "name": "stderr",
     "output_type": "stream",
     "text": [
      "\u001b[32m\u001b[1m  Resolving\u001b[22m\u001b[39m package versions...\n",
      "\u001b[32m\u001b[1m   Updating\u001b[22m\u001b[39m `C:\\Users\\aksha\\.julia\\environments\\v1.4\\Project.toml`\n",
      "\u001b[90m [no changes]\u001b[39m\n",
      "\u001b[32m\u001b[1m   Updating\u001b[22m\u001b[39m `C:\\Users\\aksha\\.julia\\environments\\v1.4\\Manifest.toml`\n",
      "\u001b[90m [no changes]\u001b[39m\n"
     ]
    }
   ],
   "source": [
    "Pkg.add(\"Plots\")"
   ]
  },
  {
   "cell_type": "code",
   "execution_count": 204,
   "metadata": {},
   "outputs": [],
   "source": [
    "using Plots"
   ]
  },
  {
   "cell_type": "code",
   "execution_count": 205,
   "metadata": {},
   "outputs": [
    {
     "data": {
      "image/svg+xml": [
       "<?xml version=\"1.0\" encoding=\"utf-8\"?>\n",
       "<svg xmlns=\"http://www.w3.org/2000/svg\" xmlns:xlink=\"http://www.w3.org/1999/xlink\" width=\"600\" height=\"400\" viewBox=\"0 0 2400 1600\">\n",
       "<defs>\n",
       "  <clipPath id=\"clip610\">\n",
       "    <rect x=\"0\" y=\"0\" width=\"2400\" height=\"1600\"/>\n",
       "  </clipPath>\n",
       "</defs>\n",
       "<path clip-path=\"url(#clip610)\" d=\"\n",
       "M0 1600 L2400 1600 L2400 0 L0 0  Z\n",
       "  \" fill=\"#ffffff\" fill-rule=\"evenodd\" fill-opacity=\"1\"/>\n",
       "<defs>\n",
       "  <clipPath id=\"clip611\">\n",
       "    <rect x=\"480\" y=\"0\" width=\"1681\" height=\"1600\"/>\n",
       "  </clipPath>\n",
       "</defs>\n",
       "<path clip-path=\"url(#clip610)\" d=\"\n",
       "M148.334 1486.45 L2352.76 1486.45 L2352.76 47.2441 L148.334 47.2441  Z\n",
       "  \" fill=\"#ffffff\" fill-rule=\"evenodd\" fill-opacity=\"1\"/>\n",
       "<defs>\n",
       "  <clipPath id=\"clip612\">\n",
       "    <rect x=\"148\" y=\"47\" width=\"2205\" height=\"1440\"/>\n",
       "  </clipPath>\n",
       "</defs>\n",
       "<polyline clip-path=\"url(#clip612)\" style=\"stroke:#000000; stroke-width:2; stroke-opacity:0.1; fill:none\" points=\"\n",
       "  148.334,1486.45 148.334,47.2441 \n",
       "  \"/>\n",
       "<polyline clip-path=\"url(#clip612)\" style=\"stroke:#000000; stroke-width:2; stroke-opacity:0.1; fill:none\" points=\"\n",
       "  589.219,1486.45 589.219,47.2441 \n",
       "  \"/>\n",
       "<polyline clip-path=\"url(#clip612)\" style=\"stroke:#000000; stroke-width:2; stroke-opacity:0.1; fill:none\" points=\"\n",
       "  1030.1,1486.45 1030.1,47.2441 \n",
       "  \"/>\n",
       "<polyline clip-path=\"url(#clip612)\" style=\"stroke:#000000; stroke-width:2; stroke-opacity:0.1; fill:none\" points=\"\n",
       "  1470.99,1486.45 1470.99,47.2441 \n",
       "  \"/>\n",
       "<polyline clip-path=\"url(#clip612)\" style=\"stroke:#000000; stroke-width:2; stroke-opacity:0.1; fill:none\" points=\"\n",
       "  1911.87,1486.45 1911.87,47.2441 \n",
       "  \"/>\n",
       "<polyline clip-path=\"url(#clip612)\" style=\"stroke:#000000; stroke-width:2; stroke-opacity:0.1; fill:none\" points=\"\n",
       "  2352.76,1486.45 2352.76,47.2441 \n",
       "  \"/>\n",
       "<polyline clip-path=\"url(#clip612)\" style=\"stroke:#000000; stroke-width:2; stroke-opacity:0.1; fill:none\" points=\"\n",
       "  148.334,1486.45 2352.76,1486.45 \n",
       "  \"/>\n",
       "<polyline clip-path=\"url(#clip612)\" style=\"stroke:#000000; stroke-width:2; stroke-opacity:0.1; fill:none\" points=\"\n",
       "  148.334,1198.61 2352.76,1198.61 \n",
       "  \"/>\n",
       "<polyline clip-path=\"url(#clip612)\" style=\"stroke:#000000; stroke-width:2; stroke-opacity:0.1; fill:none\" points=\"\n",
       "  148.334,910.766 2352.76,910.766 \n",
       "  \"/>\n",
       "<polyline clip-path=\"url(#clip612)\" style=\"stroke:#000000; stroke-width:2; stroke-opacity:0.1; fill:none\" points=\"\n",
       "  148.334,622.926 2352.76,622.926 \n",
       "  \"/>\n",
       "<polyline clip-path=\"url(#clip612)\" style=\"stroke:#000000; stroke-width:2; stroke-opacity:0.1; fill:none\" points=\"\n",
       "  148.334,335.085 2352.76,335.085 \n",
       "  \"/>\n",
       "<polyline clip-path=\"url(#clip612)\" style=\"stroke:#000000; stroke-width:2; stroke-opacity:0.1; fill:none\" points=\"\n",
       "  148.334,47.2441 2352.76,47.2441 \n",
       "  \"/>\n",
       "<polyline clip-path=\"url(#clip610)\" style=\"stroke:#000000; stroke-width:4; stroke-opacity:1; fill:none\" points=\"\n",
       "  148.334,1486.45 2352.76,1486.45 \n",
       "  \"/>\n",
       "<polyline clip-path=\"url(#clip610)\" style=\"stroke:#000000; stroke-width:4; stroke-opacity:1; fill:none\" points=\"\n",
       "  148.334,1486.45 148.334,47.2441 \n",
       "  \"/>\n",
       "<polyline clip-path=\"url(#clip610)\" style=\"stroke:#000000; stroke-width:4; stroke-opacity:1; fill:none\" points=\"\n",
       "  148.334,1486.45 148.334,1469.18 \n",
       "  \"/>\n",
       "<polyline clip-path=\"url(#clip610)\" style=\"stroke:#000000; stroke-width:4; stroke-opacity:1; fill:none\" points=\"\n",
       "  589.219,1486.45 589.219,1469.18 \n",
       "  \"/>\n",
       "<polyline clip-path=\"url(#clip610)\" style=\"stroke:#000000; stroke-width:4; stroke-opacity:1; fill:none\" points=\"\n",
       "  1030.1,1486.45 1030.1,1469.18 \n",
       "  \"/>\n",
       "<polyline clip-path=\"url(#clip610)\" style=\"stroke:#000000; stroke-width:4; stroke-opacity:1; fill:none\" points=\"\n",
       "  1470.99,1486.45 1470.99,1469.18 \n",
       "  \"/>\n",
       "<polyline clip-path=\"url(#clip610)\" style=\"stroke:#000000; stroke-width:4; stroke-opacity:1; fill:none\" points=\"\n",
       "  1911.87,1486.45 1911.87,1469.18 \n",
       "  \"/>\n",
       "<polyline clip-path=\"url(#clip610)\" style=\"stroke:#000000; stroke-width:4; stroke-opacity:1; fill:none\" points=\"\n",
       "  2352.76,1486.45 2352.76,1469.18 \n",
       "  \"/>\n",
       "<polyline clip-path=\"url(#clip610)\" style=\"stroke:#000000; stroke-width:4; stroke-opacity:1; fill:none\" points=\"\n",
       "  148.334,1486.45 174.787,1486.45 \n",
       "  \"/>\n",
       "<polyline clip-path=\"url(#clip610)\" style=\"stroke:#000000; stroke-width:4; stroke-opacity:1; fill:none\" points=\"\n",
       "  148.334,1198.61 174.787,1198.61 \n",
       "  \"/>\n",
       "<polyline clip-path=\"url(#clip610)\" style=\"stroke:#000000; stroke-width:4; stroke-opacity:1; fill:none\" points=\"\n",
       "  148.334,910.766 174.787,910.766 \n",
       "  \"/>\n",
       "<polyline clip-path=\"url(#clip610)\" style=\"stroke:#000000; stroke-width:4; stroke-opacity:1; fill:none\" points=\"\n",
       "  148.334,622.926 174.787,622.926 \n",
       "  \"/>\n",
       "<polyline clip-path=\"url(#clip610)\" style=\"stroke:#000000; stroke-width:4; stroke-opacity:1; fill:none\" points=\"\n",
       "  148.334,335.085 174.787,335.085 \n",
       "  \"/>\n",
       "<polyline clip-path=\"url(#clip610)\" style=\"stroke:#000000; stroke-width:4; stroke-opacity:1; fill:none\" points=\"\n",
       "  148.334,47.2441 174.787,47.2441 \n",
       "  \"/>\n",
       "<path clip-path=\"url(#clip610)\" d=\"M 0 0 M129.851 1508.44 Q126.24 1508.44 124.411 1512 Q122.605 1515.55 122.605 1522.67 Q122.605 1529.78 124.411 1533.35 Q126.24 1536.89 129.851 1536.89 Q133.485 1536.89 135.29 1533.35 Q137.119 1529.78 137.119 1522.67 Q137.119 1515.55 135.29 1512 Q133.485 1508.44 129.851 1508.44 M129.851 1504.73 Q135.661 1504.73 138.716 1509.34 Q141.795 1513.92 141.795 1522.67 Q141.795 1531.4 138.716 1536.01 Q135.661 1540.59 129.851 1540.59 Q124.041 1540.59 120.962 1536.01 Q117.906 1531.4 117.906 1522.67 Q117.906 1513.92 120.962 1509.34 Q124.041 1504.73 129.851 1504.73 Z\" fill=\"#000000\" fill-rule=\"evenodd\" fill-opacity=\"1\" /><path clip-path=\"url(#clip610)\" d=\"M 0 0 M146.864 1534.04 L151.749 1534.04 L151.749 1539.92 L146.864 1539.92 L146.864 1534.04 Z\" fill=\"#000000\" fill-rule=\"evenodd\" fill-opacity=\"1\" /><path clip-path=\"url(#clip610)\" d=\"M 0 0 M166.818 1508.44 Q163.207 1508.44 161.378 1512 Q159.573 1515.55 159.573 1522.67 Q159.573 1529.78 161.378 1533.35 Q163.207 1536.89 166.818 1536.89 Q170.452 1536.89 172.258 1533.35 Q174.087 1529.78 174.087 1522.67 Q174.087 1515.55 172.258 1512 Q170.452 1508.44 166.818 1508.44 M166.818 1504.73 Q172.628 1504.73 175.684 1509.34 Q178.762 1513.92 178.762 1522.67 Q178.762 1531.4 175.684 1536.01 Q172.628 1540.59 166.818 1540.59 Q161.008 1540.59 157.929 1536.01 Q154.874 1531.4 154.874 1522.67 Q154.874 1513.92 157.929 1509.34 Q161.008 1504.73 166.818 1504.73 Z\" fill=\"#000000\" fill-rule=\"evenodd\" fill-opacity=\"1\" /><path clip-path=\"url(#clip610)\" d=\"M 0 0 M571.534 1508.44 Q567.923 1508.44 566.094 1512 Q564.288 1515.55 564.288 1522.67 Q564.288 1529.78 566.094 1533.35 Q567.923 1536.89 571.534 1536.89 Q575.168 1536.89 576.973 1533.35 Q578.802 1529.78 578.802 1522.67 Q578.802 1515.55 576.973 1512 Q575.168 1508.44 571.534 1508.44 M571.534 1504.73 Q577.344 1504.73 580.399 1509.34 Q583.478 1513.92 583.478 1522.67 Q583.478 1531.4 580.399 1536.01 Q577.344 1540.59 571.534 1540.59 Q565.723 1540.59 562.645 1536.01 Q559.589 1531.4 559.589 1522.67 Q559.589 1513.92 562.645 1509.34 Q565.723 1504.73 571.534 1504.73 Z\" fill=\"#000000\" fill-rule=\"evenodd\" fill-opacity=\"1\" /><path clip-path=\"url(#clip610)\" d=\"M 0 0 M588.547 1534.04 L593.432 1534.04 L593.432 1539.92 L588.547 1539.92 L588.547 1534.04 Z\" fill=\"#000000\" fill-rule=\"evenodd\" fill-opacity=\"1\" /><path clip-path=\"url(#clip610)\" d=\"M 0 0 M602.529 1535.98 L618.848 1535.98 L618.848 1539.92 L596.904 1539.92 L596.904 1535.98 Q599.566 1533.23 604.149 1528.6 Q608.756 1523.95 609.936 1522.61 Q612.182 1520.08 613.061 1518.35 Q613.964 1516.59 613.964 1514.9 Q613.964 1512.14 612.019 1510.41 Q610.098 1508.67 606.996 1508.67 Q604.797 1508.67 602.344 1509.43 Q599.913 1510.2 597.135 1511.75 L597.135 1507.03 Q599.959 1505.89 602.413 1505.31 Q604.867 1504.73 606.904 1504.73 Q612.274 1504.73 615.469 1507.42 Q618.663 1510.11 618.663 1514.6 Q618.663 1516.73 617.853 1518.65 Q617.066 1520.54 614.959 1523.14 Q614.381 1523.81 611.279 1527.03 Q608.177 1530.22 602.529 1535.98 Z\" fill=\"#000000\" fill-rule=\"evenodd\" fill-opacity=\"1\" /><path clip-path=\"url(#clip610)\" d=\"M 0 0 M1011.38 1508.44 Q1007.77 1508.44 1005.94 1512 Q1004.13 1515.55 1004.13 1522.67 Q1004.13 1529.78 1005.94 1533.35 Q1007.77 1536.89 1011.38 1536.89 Q1015.01 1536.89 1016.82 1533.35 Q1018.64 1529.78 1018.64 1522.67 Q1018.64 1515.55 1016.82 1512 Q1015.01 1508.44 1011.38 1508.44 M1011.38 1504.73 Q1017.19 1504.73 1020.24 1509.34 Q1023.32 1513.92 1023.32 1522.67 Q1023.32 1531.4 1020.24 1536.01 Q1017.19 1540.59 1011.38 1540.59 Q1005.57 1540.59 1002.49 1536.01 Q999.432 1531.4 999.432 1522.67 Q999.432 1513.92 1002.49 1509.34 Q1005.57 1504.73 1011.38 1504.73 Z\" fill=\"#000000\" fill-rule=\"evenodd\" fill-opacity=\"1\" /><path clip-path=\"url(#clip610)\" d=\"M 0 0 M1028.39 1534.04 L1033.27 1534.04 L1033.27 1539.92 L1028.39 1539.92 L1028.39 1534.04 Z\" fill=\"#000000\" fill-rule=\"evenodd\" fill-opacity=\"1\" /><path clip-path=\"url(#clip610)\" d=\"M 0 0 M1051.19 1509.43 L1039.39 1527.88 L1051.19 1527.88 L1051.19 1509.43 M1049.96 1505.36 L1055.84 1505.36 L1055.84 1527.88 L1060.77 1527.88 L1060.77 1531.77 L1055.84 1531.77 L1055.84 1539.92 L1051.19 1539.92 L1051.19 1531.77 L1035.59 1531.77 L1035.59 1527.26 L1049.96 1505.36 Z\" fill=\"#000000\" fill-rule=\"evenodd\" fill-opacity=\"1\" /><path clip-path=\"url(#clip610)\" d=\"M 0 0 M1452.42 1508.44 Q1448.81 1508.44 1446.98 1512 Q1445.18 1515.55 1445.18 1522.67 Q1445.18 1529.78 1446.98 1533.35 Q1448.81 1536.89 1452.42 1536.89 Q1456.06 1536.89 1457.86 1533.35 Q1459.69 1529.78 1459.69 1522.67 Q1459.69 1515.55 1457.86 1512 Q1456.06 1508.44 1452.42 1508.44 M1452.42 1504.73 Q1458.23 1504.73 1461.29 1509.34 Q1464.37 1513.92 1464.37 1522.67 Q1464.37 1531.4 1461.29 1536.01 Q1458.23 1540.59 1452.42 1540.59 Q1446.61 1540.59 1443.53 1536.01 Q1440.48 1531.4 1440.48 1522.67 Q1440.48 1513.92 1443.53 1509.34 Q1446.61 1504.73 1452.42 1504.73 Z\" fill=\"#000000\" fill-rule=\"evenodd\" fill-opacity=\"1\" /><path clip-path=\"url(#clip610)\" d=\"M 0 0 M1469.44 1534.04 L1474.32 1534.04 L1474.32 1539.92 L1469.44 1539.92 L1469.44 1534.04 Z\" fill=\"#000000\" fill-rule=\"evenodd\" fill-opacity=\"1\" /><path clip-path=\"url(#clip610)\" d=\"M 0 0 M1489.97 1520.78 Q1486.82 1520.78 1484.97 1522.93 Q1483.14 1525.08 1483.14 1528.83 Q1483.14 1532.56 1484.97 1534.73 Q1486.82 1536.89 1489.97 1536.89 Q1493.12 1536.89 1494.95 1534.73 Q1496.8 1532.56 1496.8 1528.83 Q1496.8 1525.08 1494.95 1522.93 Q1493.12 1520.78 1489.97 1520.78 M1499.25 1506.12 L1499.25 1510.38 Q1497.49 1509.55 1495.69 1509.11 Q1493.9 1508.67 1492.14 1508.67 Q1487.51 1508.67 1485.06 1511.8 Q1482.63 1514.92 1482.28 1521.24 Q1483.65 1519.23 1485.71 1518.16 Q1487.77 1517.07 1490.25 1517.07 Q1495.45 1517.07 1498.46 1520.24 Q1501.5 1523.39 1501.5 1528.83 Q1501.5 1534.16 1498.35 1537.37 Q1495.2 1540.59 1489.97 1540.59 Q1483.97 1540.59 1480.8 1536.01 Q1477.63 1531.4 1477.63 1522.67 Q1477.63 1514.48 1481.52 1509.62 Q1485.41 1504.73 1491.96 1504.73 Q1493.72 1504.73 1495.5 1505.08 Q1497.31 1505.43 1499.25 1506.12 Z\" fill=\"#000000\" fill-rule=\"evenodd\" fill-opacity=\"1\" /><path clip-path=\"url(#clip610)\" d=\"M 0 0 M1893.43 1508.44 Q1889.82 1508.44 1887.99 1512 Q1886.19 1515.55 1886.19 1522.67 Q1886.19 1529.78 1887.99 1533.35 Q1889.82 1536.89 1893.43 1536.89 Q1897.07 1536.89 1898.87 1533.35 Q1900.7 1529.78 1900.7 1522.67 Q1900.7 1515.55 1898.87 1512 Q1897.07 1508.44 1893.43 1508.44 M1893.43 1504.73 Q1899.24 1504.73 1902.3 1509.34 Q1905.38 1513.92 1905.38 1522.67 Q1905.38 1531.4 1902.3 1536.01 Q1899.24 1540.59 1893.43 1540.59 Q1887.62 1540.59 1884.55 1536.01 Q1881.49 1531.4 1881.49 1522.67 Q1881.49 1513.92 1884.55 1509.34 Q1887.62 1504.73 1893.43 1504.73 Z\" fill=\"#000000\" fill-rule=\"evenodd\" fill-opacity=\"1\" /><path clip-path=\"url(#clip610)\" d=\"M 0 0 M1910.45 1534.04 L1915.33 1534.04 L1915.33 1539.92 L1910.45 1539.92 L1910.45 1534.04 Z\" fill=\"#000000\" fill-rule=\"evenodd\" fill-opacity=\"1\" /><path clip-path=\"url(#clip610)\" d=\"M 0 0 M1930.4 1523.51 Q1927.07 1523.51 1925.15 1525.29 Q1923.25 1527.07 1923.25 1530.2 Q1923.25 1533.32 1925.15 1535.11 Q1927.07 1536.89 1930.4 1536.89 Q1933.73 1536.89 1935.66 1535.11 Q1937.58 1533.3 1937.58 1530.2 Q1937.58 1527.07 1935.66 1525.29 Q1933.76 1523.51 1930.4 1523.51 M1925.73 1521.52 Q1922.72 1520.78 1921.03 1518.72 Q1919.36 1516.66 1919.36 1513.69 Q1919.36 1509.55 1922.3 1507.14 Q1925.26 1504.73 1930.4 1504.73 Q1935.56 1504.73 1938.5 1507.14 Q1941.44 1509.55 1941.44 1513.69 Q1941.44 1516.66 1939.75 1518.72 Q1938.09 1520.78 1935.1 1521.52 Q1938.48 1522.3 1940.36 1524.6 Q1942.25 1526.89 1942.25 1530.2 Q1942.25 1535.22 1939.17 1537.91 Q1936.12 1540.59 1930.4 1540.59 Q1924.68 1540.59 1921.61 1537.91 Q1918.55 1535.22 1918.55 1530.2 Q1918.55 1526.89 1920.45 1524.6 Q1922.35 1522.3 1925.73 1521.52 M1924.01 1514.13 Q1924.01 1516.82 1925.68 1518.32 Q1927.37 1519.83 1930.4 1519.83 Q1933.41 1519.83 1935.1 1518.32 Q1936.81 1516.82 1936.81 1514.13 Q1936.81 1511.45 1935.1 1509.94 Q1933.41 1508.44 1930.4 1508.44 Q1927.37 1508.44 1925.68 1509.94 Q1924.01 1511.45 1924.01 1514.13 Z\" fill=\"#000000\" fill-rule=\"evenodd\" fill-opacity=\"1\" /><path clip-path=\"url(#clip610)\" d=\"M 0 0 M2324.65 1535.98 L2332.29 1535.98 L2332.29 1509.62 L2323.98 1511.29 L2323.98 1507.03 L2332.25 1505.36 L2336.92 1505.36 L2336.92 1535.98 L2344.56 1535.98 L2344.56 1539.92 L2324.65 1539.92 L2324.65 1535.98 Z\" fill=\"#000000\" fill-rule=\"evenodd\" fill-opacity=\"1\" /><path clip-path=\"url(#clip610)\" d=\"M 0 0 M2349.63 1534.04 L2354.52 1534.04 L2354.52 1539.92 L2349.63 1539.92 L2349.63 1534.04 Z\" fill=\"#000000\" fill-rule=\"evenodd\" fill-opacity=\"1\" /><path clip-path=\"url(#clip610)\" d=\"M 0 0 M2369.58 1508.44 Q2365.97 1508.44 2364.14 1512 Q2362.34 1515.55 2362.34 1522.67 Q2362.34 1529.78 2364.14 1533.35 Q2365.97 1536.89 2369.58 1536.89 Q2373.22 1536.89 2375.02 1533.35 Q2376.85 1529.78 2376.85 1522.67 Q2376.85 1515.55 2375.02 1512 Q2373.22 1508.44 2369.58 1508.44 M2369.58 1504.73 Q2375.39 1504.73 2378.45 1509.34 Q2381.53 1513.92 2381.53 1522.67 Q2381.53 1531.4 2378.45 1536.01 Q2375.39 1540.59 2369.58 1540.59 Q2363.77 1540.59 2360.7 1536.01 Q2357.64 1531.4 2357.64 1522.67 Q2357.64 1513.92 2360.7 1509.34 Q2363.77 1504.73 2369.58 1504.73 Z\" fill=\"#000000\" fill-rule=\"evenodd\" fill-opacity=\"1\" /><path clip-path=\"url(#clip610)\" d=\"M 0 0 M75.4226 1472.25 Q71.8115 1472.25 69.9828 1475.81 Q68.1773 1479.35 68.1773 1486.48 Q68.1773 1493.59 69.9828 1497.15 Q71.8115 1500.7 75.4226 1500.7 Q79.0569 1500.7 80.8624 1497.15 Q82.6911 1493.59 82.6911 1486.48 Q82.6911 1479.35 80.8624 1475.81 Q79.0569 1472.25 75.4226 1472.25 M75.4226 1468.54 Q81.2328 1468.54 84.2883 1473.15 Q87.367 1477.73 87.367 1486.48 Q87.367 1495.21 84.2883 1499.82 Q81.2328 1504.4 75.4226 1504.4 Q69.6125 1504.4 66.5338 1499.82 Q63.4782 1495.21 63.4782 1486.48 Q63.4782 1477.73 66.5338 1473.15 Q69.6125 1468.54 75.4226 1468.54 Z\" fill=\"#000000\" fill-rule=\"evenodd\" fill-opacity=\"1\" /><path clip-path=\"url(#clip610)\" d=\"M 0 0 M92.4364 1497.85 L97.3206 1497.85 L97.3206 1503.73 L92.4364 1503.73 L92.4364 1497.85 Z\" fill=\"#000000\" fill-rule=\"evenodd\" fill-opacity=\"1\" /><path clip-path=\"url(#clip610)\" d=\"M 0 0 M112.39 1472.25 Q108.779 1472.25 106.95 1475.81 Q105.145 1479.35 105.145 1486.48 Q105.145 1493.59 106.95 1497.15 Q108.779 1500.7 112.39 1500.7 Q116.024 1500.7 117.83 1497.15 Q119.658 1493.59 119.658 1486.48 Q119.658 1479.35 117.83 1475.81 Q116.024 1472.25 112.39 1472.25 M112.39 1468.54 Q118.2 1468.54 121.256 1473.15 Q124.334 1477.73 124.334 1486.48 Q124.334 1495.21 121.256 1499.82 Q118.2 1504.4 112.39 1504.4 Q106.58 1504.4 103.501 1499.82 Q100.446 1495.21 100.446 1486.48 Q100.446 1477.73 103.501 1473.15 Q106.58 1468.54 112.39 1468.54 Z\" fill=\"#000000\" fill-rule=\"evenodd\" fill-opacity=\"1\" /><path clip-path=\"url(#clip610)\" d=\"M 0 0 M77.0198 1184.41 Q73.4087 1184.41 71.58 1187.97 Q69.7745 1191.51 69.7745 1198.64 Q69.7745 1205.75 71.58 1209.31 Q73.4087 1212.85 77.0198 1212.85 Q80.6541 1212.85 82.4596 1209.31 Q84.2883 1205.75 84.2883 1198.64 Q84.2883 1191.51 82.4596 1187.97 Q80.6541 1184.41 77.0198 1184.41 M77.0198 1180.7 Q82.83 1180.7 85.8855 1185.31 Q88.9642 1189.89 88.9642 1198.64 Q88.9642 1207.37 85.8855 1211.98 Q82.83 1216.56 77.0198 1216.56 Q71.2097 1216.56 68.131 1211.98 Q65.0754 1207.37 65.0754 1198.64 Q65.0754 1189.89 68.131 1185.31 Q71.2097 1180.7 77.0198 1180.7 Z\" fill=\"#000000\" fill-rule=\"evenodd\" fill-opacity=\"1\" /><path clip-path=\"url(#clip610)\" d=\"M 0 0 M94.0336 1210.01 L98.9179 1210.01 L98.9179 1215.89 L94.0336 1215.89 L94.0336 1210.01 Z\" fill=\"#000000\" fill-rule=\"evenodd\" fill-opacity=\"1\" /><path clip-path=\"url(#clip610)\" d=\"M 0 0 M108.015 1211.95 L124.334 1211.95 L124.334 1215.89 L102.39 1215.89 L102.39 1211.95 Q105.052 1209.2 109.635 1204.57 Q114.242 1199.91 115.422 1198.57 Q117.668 1196.05 118.547 1194.31 Q119.45 1192.55 119.45 1190.86 Q119.45 1188.11 117.506 1186.37 Q115.584 1184.64 112.483 1184.64 Q110.284 1184.64 107.83 1185.4 Q105.399 1186.17 102.622 1187.72 L102.622 1182.99 Q105.446 1181.86 107.899 1181.28 Q110.353 1180.7 112.39 1180.7 Q117.76 1180.7 120.955 1183.39 Q124.149 1186.07 124.149 1190.56 Q124.149 1192.69 123.339 1194.61 Q122.552 1196.51 120.446 1199.1 Q119.867 1199.78 116.765 1202.99 Q113.663 1206.19 108.015 1211.95 Z\" fill=\"#000000\" fill-rule=\"evenodd\" fill-opacity=\"1\" /><path clip-path=\"url(#clip610)\" d=\"M 0 0 M74.9365 896.565 Q71.3254 896.565 69.4967 900.13 Q67.6912 903.671 67.6912 910.801 Q67.6912 917.908 69.4967 921.472 Q71.3254 925.014 74.9365 925.014 Q78.5707 925.014 80.3763 921.472 Q82.205 917.908 82.205 910.801 Q82.205 903.671 80.3763 900.13 Q78.5707 896.565 74.9365 896.565 M74.9365 892.861 Q80.7467 892.861 83.8022 897.468 Q86.8809 902.051 86.8809 910.801 Q86.8809 919.528 83.8022 924.134 Q80.7467 928.718 74.9365 928.718 Q69.1264 928.718 66.0477 924.134 Q62.9921 919.528 62.9921 910.801 Q62.9921 902.051 66.0477 897.468 Q69.1264 892.861 74.9365 892.861 Z\" fill=\"#000000\" fill-rule=\"evenodd\" fill-opacity=\"1\" /><path clip-path=\"url(#clip610)\" d=\"M 0 0 M91.9503 922.167 L96.8345 922.167 L96.8345 928.046 L91.9503 928.046 L91.9503 922.167 Z\" fill=\"#000000\" fill-rule=\"evenodd\" fill-opacity=\"1\" /><path clip-path=\"url(#clip610)\" d=\"M 0 0 M114.751 897.56 L102.946 916.009 L114.751 916.009 L114.751 897.56 M113.524 893.486 L119.404 893.486 L119.404 916.009 L124.334 916.009 L124.334 919.898 L119.404 919.898 L119.404 928.046 L114.751 928.046 L114.751 919.898 L99.1493 919.898 L99.1493 915.384 L113.524 893.486 Z\" fill=\"#000000\" fill-rule=\"evenodd\" fill-opacity=\"1\" /><path clip-path=\"url(#clip610)\" d=\"M 0 0 M75.2606 608.724 Q71.6495 608.724 69.8208 612.289 Q68.0152 615.831 68.0152 622.96 Q68.0152 630.067 69.8208 633.632 Q71.6495 637.173 75.2606 637.173 Q78.8948 637.173 80.7004 633.632 Q82.5291 630.067 82.5291 622.96 Q82.5291 615.831 80.7004 612.289 Q78.8948 608.724 75.2606 608.724 M75.2606 605.021 Q81.0707 605.021 84.1263 609.627 Q87.205 614.21 87.205 622.96 Q87.205 631.687 84.1263 636.294 Q81.0707 640.877 75.2606 640.877 Q69.4504 640.877 66.3717 636.294 Q63.3162 631.687 63.3162 622.96 Q63.3162 614.21 66.3717 609.627 Q69.4504 605.021 75.2606 605.021 Z\" fill=\"#000000\" fill-rule=\"evenodd\" fill-opacity=\"1\" /><path clip-path=\"url(#clip610)\" d=\"M 0 0 M92.2744 634.326 L97.1586 634.326 L97.1586 640.206 L92.2744 640.206 L92.2744 634.326 Z\" fill=\"#000000\" fill-rule=\"evenodd\" fill-opacity=\"1\" /><path clip-path=\"url(#clip610)\" d=\"M 0 0 M112.807 621.062 Q109.659 621.062 107.807 623.215 Q105.978 625.368 105.978 629.118 Q105.978 632.845 107.807 635.02 Q109.659 637.173 112.807 637.173 Q115.955 637.173 117.783 635.02 Q119.635 632.845 119.635 629.118 Q119.635 625.368 117.783 623.215 Q115.955 621.062 112.807 621.062 M122.089 606.409 L122.089 610.669 Q120.33 609.835 118.524 609.396 Q116.742 608.956 114.983 608.956 Q110.353 608.956 107.899 612.081 Q105.469 615.206 105.122 621.525 Q106.487 619.511 108.547 618.446 Q110.608 617.359 113.084 617.359 Q118.293 617.359 121.302 620.53 Q124.334 623.678 124.334 629.118 Q124.334 634.442 121.186 637.659 Q118.038 640.877 112.807 640.877 Q106.811 640.877 103.64 636.294 Q100.469 631.687 100.469 622.96 Q100.469 614.766 104.358 609.905 Q108.247 605.021 114.797 605.021 Q116.557 605.021 118.339 605.368 Q120.145 605.715 122.089 606.409 Z\" fill=\"#000000\" fill-rule=\"evenodd\" fill-opacity=\"1\" /><path clip-path=\"url(#clip610)\" d=\"M 0 0 M75.5152 320.884 Q71.9041 320.884 70.0754 324.448 Q68.2699 327.99 68.2699 335.12 Q68.2699 342.226 70.0754 345.791 Q71.9041 349.332 75.5152 349.332 Q79.1494 349.332 80.955 345.791 Q82.7837 342.226 82.7837 335.12 Q82.7837 327.99 80.955 324.448 Q79.1494 320.884 75.5152 320.884 M75.5152 317.18 Q81.3254 317.18 84.3809 321.786 Q87.4596 326.37 87.4596 335.12 Q87.4596 343.846 84.3809 348.453 Q81.3254 353.036 75.5152 353.036 Q69.7051 353.036 66.6264 348.453 Q63.5708 343.846 63.5708 335.12 Q63.5708 326.37 66.6264 321.786 Q69.7051 317.18 75.5152 317.18 Z\" fill=\"#000000\" fill-rule=\"evenodd\" fill-opacity=\"1\" /><path clip-path=\"url(#clip610)\" d=\"M 0 0 M92.529 346.485 L97.4132 346.485 L97.4132 352.365 L92.529 352.365 L92.529 346.485 Z\" fill=\"#000000\" fill-rule=\"evenodd\" fill-opacity=\"1\" /><path clip-path=\"url(#clip610)\" d=\"M 0 0 M112.483 335.953 Q109.149 335.953 107.228 337.735 Q105.33 339.518 105.33 342.643 Q105.33 345.768 107.228 347.55 Q109.149 349.332 112.483 349.332 Q115.816 349.332 117.737 347.55 Q119.658 345.745 119.658 342.643 Q119.658 339.518 117.737 337.735 Q115.839 335.953 112.483 335.953 M107.807 333.962 Q104.797 333.221 103.108 331.161 Q101.441 329.101 101.441 326.138 Q101.441 321.995 104.381 319.587 Q107.344 317.18 112.483 317.18 Q117.645 317.18 120.584 319.587 Q123.524 321.995 123.524 326.138 Q123.524 329.101 121.834 331.161 Q120.168 333.221 117.182 333.962 Q120.561 334.749 122.436 337.041 Q124.334 339.333 124.334 342.643 Q124.334 347.666 121.256 350.351 Q118.2 353.036 112.483 353.036 Q106.765 353.036 103.686 350.351 Q100.631 347.666 100.631 342.643 Q100.631 339.333 102.529 337.041 Q104.427 334.749 107.807 333.962 M106.094 326.578 Q106.094 329.263 107.76 330.768 Q109.45 332.272 112.483 332.272 Q115.492 332.272 117.182 330.768 Q118.895 329.263 118.895 326.578 Q118.895 323.893 117.182 322.388 Q115.492 320.884 112.483 320.884 Q109.45 320.884 107.76 322.388 Q106.094 323.893 106.094 326.578 Z\" fill=\"#000000\" fill-rule=\"evenodd\" fill-opacity=\"1\" /><path clip-path=\"url(#clip610)\" d=\"M 0 0 M67.4597 60.5889 L75.0985 60.5889 L75.0985 34.2233 L66.7884 35.89 L66.7884 31.6308 L75.0522 29.9641 L79.7281 29.9641 L79.7281 60.5889 L87.367 60.5889 L87.367 64.5241 L67.4597 64.5241 L67.4597 60.5889 Z\" fill=\"#000000\" fill-rule=\"evenodd\" fill-opacity=\"1\" /><path clip-path=\"url(#clip610)\" d=\"M 0 0 M92.4364 58.6445 L97.3206 58.6445 L97.3206 64.5241 L92.4364 64.5241 L92.4364 58.6445 Z\" fill=\"#000000\" fill-rule=\"evenodd\" fill-opacity=\"1\" /><path clip-path=\"url(#clip610)\" d=\"M 0 0 M112.39 33.0428 Q108.779 33.0428 106.95 36.6076 Q105.145 40.1492 105.145 47.2788 Q105.145 54.3853 106.95 57.9501 Q108.779 61.4917 112.39 61.4917 Q116.024 61.4917 117.83 57.9501 Q119.658 54.3853 119.658 47.2788 Q119.658 40.1492 117.83 36.6076 Q116.024 33.0428 112.39 33.0428 M112.39 29.3391 Q118.2 29.3391 121.256 33.9456 Q124.334 38.5289 124.334 47.2788 Q124.334 56.0056 121.256 60.6121 Q118.2 65.1954 112.39 65.1954 Q106.58 65.1954 103.501 60.6121 Q100.446 56.0056 100.446 47.2788 Q100.446 38.5289 103.501 33.9456 Q106.58 29.3391 112.39 29.3391 Z\" fill=\"#000000\" fill-rule=\"evenodd\" fill-opacity=\"1\" /></svg>\n"
      ]
     },
     "execution_count": 205,
     "metadata": {},
     "output_type": "execute_result"
    }
   ],
   "source": [
    "# print blanck plots\n",
    "plot()"
   ]
  },
  {
   "cell_type": "code",
   "execution_count": 206,
   "metadata": {},
   "outputs": [
    {
     "data": {
      "text/plain": [
       "10-element Array{Float64,1}:\n",
       " 0.16732929642555638\n",
       " 0.5304580537306842\n",
       " 0.6305790259034694\n",
       " 0.39415914811427766\n",
       " 0.11812838864161201\n",
       " 0.8628938943814453\n",
       " 0.590191159881331\n",
       " 0.3862135137614562\n",
       " 0.8656020287550203\n",
       " 0.3791578166045255"
      ]
     },
     "execution_count": 206,
     "metadata": {},
     "output_type": "execute_result"
    }
   ],
   "source": [
    "#now add some value in plots\n",
    "x = 1:10; y = rand(10)"
   ]
  },
  {
   "cell_type": "code",
   "execution_count": 207,
   "metadata": {},
   "outputs": [
    {
     "data": {
      "image/svg+xml": [
       "<?xml version=\"1.0\" encoding=\"utf-8\"?>\n",
       "<svg xmlns=\"http://www.w3.org/2000/svg\" xmlns:xlink=\"http://www.w3.org/1999/xlink\" width=\"600\" height=\"400\" viewBox=\"0 0 2400 1600\">\n",
       "<defs>\n",
       "  <clipPath id=\"clip650\">\n",
       "    <rect x=\"0\" y=\"0\" width=\"2400\" height=\"1600\"/>\n",
       "  </clipPath>\n",
       "</defs>\n",
       "<path clip-path=\"url(#clip650)\" d=\"\n",
       "M0 1600 L2400 1600 L2400 0 L0 0  Z\n",
       "  \" fill=\"#ffffff\" fill-rule=\"evenodd\" fill-opacity=\"1\"/>\n",
       "<defs>\n",
       "  <clipPath id=\"clip651\">\n",
       "    <rect x=\"480\" y=\"0\" width=\"1681\" height=\"1600\"/>\n",
       "  </clipPath>\n",
       "</defs>\n",
       "<path clip-path=\"url(#clip650)\" d=\"\n",
       "M148.334 1486.45 L2352.76 1486.45 L2352.76 47.2441 L148.334 47.2441  Z\n",
       "  \" fill=\"#ffffff\" fill-rule=\"evenodd\" fill-opacity=\"1\"/>\n",
       "<defs>\n",
       "  <clipPath id=\"clip652\">\n",
       "    <rect x=\"148\" y=\"47\" width=\"2205\" height=\"1440\"/>\n",
       "  </clipPath>\n",
       "</defs>\n",
       "<polyline clip-path=\"url(#clip652)\" style=\"stroke:#000000; stroke-width:2; stroke-opacity:0.1; fill:none\" points=\"\n",
       "  441.795,1486.45 441.795,47.2441 \n",
       "  \"/>\n",
       "<polyline clip-path=\"url(#clip652)\" style=\"stroke:#000000; stroke-width:2; stroke-opacity:0.1; fill:none\" points=\"\n",
       "  903.938,1486.45 903.938,47.2441 \n",
       "  \"/>\n",
       "<polyline clip-path=\"url(#clip652)\" style=\"stroke:#000000; stroke-width:2; stroke-opacity:0.1; fill:none\" points=\"\n",
       "  1366.08,1486.45 1366.08,47.2441 \n",
       "  \"/>\n",
       "<polyline clip-path=\"url(#clip652)\" style=\"stroke:#000000; stroke-width:2; stroke-opacity:0.1; fill:none\" points=\"\n",
       "  1828.22,1486.45 1828.22,47.2441 \n",
       "  \"/>\n",
       "<polyline clip-path=\"url(#clip652)\" style=\"stroke:#000000; stroke-width:2; stroke-opacity:0.1; fill:none\" points=\"\n",
       "  2290.37,1486.45 2290.37,47.2441 \n",
       "  \"/>\n",
       "<polyline clip-path=\"url(#clip652)\" style=\"stroke:#000000; stroke-width:2; stroke-opacity:0.1; fill:none\" points=\"\n",
       "  148.334,1297 2352.76,1297 \n",
       "  \"/>\n",
       "<polyline clip-path=\"url(#clip652)\" style=\"stroke:#000000; stroke-width:2; stroke-opacity:0.1; fill:none\" points=\"\n",
       "  148.334,933.713 2352.76,933.713 \n",
       "  \"/>\n",
       "<polyline clip-path=\"url(#clip652)\" style=\"stroke:#000000; stroke-width:2; stroke-opacity:0.1; fill:none\" points=\"\n",
       "  148.334,570.426 2352.76,570.426 \n",
       "  \"/>\n",
       "<polyline clip-path=\"url(#clip652)\" style=\"stroke:#000000; stroke-width:2; stroke-opacity:0.1; fill:none\" points=\"\n",
       "  148.334,207.138 2352.76,207.138 \n",
       "  \"/>\n",
       "<polyline clip-path=\"url(#clip650)\" style=\"stroke:#000000; stroke-width:4; stroke-opacity:1; fill:none\" points=\"\n",
       "  148.334,1486.45 2352.76,1486.45 \n",
       "  \"/>\n",
       "<polyline clip-path=\"url(#clip650)\" style=\"stroke:#000000; stroke-width:4; stroke-opacity:1; fill:none\" points=\"\n",
       "  148.334,1486.45 148.334,47.2441 \n",
       "  \"/>\n",
       "<polyline clip-path=\"url(#clip650)\" style=\"stroke:#000000; stroke-width:4; stroke-opacity:1; fill:none\" points=\"\n",
       "  441.795,1486.45 441.795,1469.18 \n",
       "  \"/>\n",
       "<polyline clip-path=\"url(#clip650)\" style=\"stroke:#000000; stroke-width:4; stroke-opacity:1; fill:none\" points=\"\n",
       "  903.938,1486.45 903.938,1469.18 \n",
       "  \"/>\n",
       "<polyline clip-path=\"url(#clip650)\" style=\"stroke:#000000; stroke-width:4; stroke-opacity:1; fill:none\" points=\"\n",
       "  1366.08,1486.45 1366.08,1469.18 \n",
       "  \"/>\n",
       "<polyline clip-path=\"url(#clip650)\" style=\"stroke:#000000; stroke-width:4; stroke-opacity:1; fill:none\" points=\"\n",
       "  1828.22,1486.45 1828.22,1469.18 \n",
       "  \"/>\n",
       "<polyline clip-path=\"url(#clip650)\" style=\"stroke:#000000; stroke-width:4; stroke-opacity:1; fill:none\" points=\"\n",
       "  2290.37,1486.45 2290.37,1469.18 \n",
       "  \"/>\n",
       "<polyline clip-path=\"url(#clip650)\" style=\"stroke:#000000; stroke-width:4; stroke-opacity:1; fill:none\" points=\"\n",
       "  148.334,1297 174.787,1297 \n",
       "  \"/>\n",
       "<polyline clip-path=\"url(#clip650)\" style=\"stroke:#000000; stroke-width:4; stroke-opacity:1; fill:none\" points=\"\n",
       "  148.334,933.713 174.787,933.713 \n",
       "  \"/>\n",
       "<polyline clip-path=\"url(#clip650)\" style=\"stroke:#000000; stroke-width:4; stroke-opacity:1; fill:none\" points=\"\n",
       "  148.334,570.426 174.787,570.426 \n",
       "  \"/>\n",
       "<polyline clip-path=\"url(#clip650)\" style=\"stroke:#000000; stroke-width:4; stroke-opacity:1; fill:none\" points=\"\n",
       "  148.334,207.138 174.787,207.138 \n",
       "  \"/>\n",
       "<path clip-path=\"url(#clip650)\" d=\"M 0 0 M436.448 1535.98 L452.767 1535.98 L452.767 1539.92 L430.823 1539.92 L430.823 1535.98 Q433.485 1533.23 438.068 1528.6 Q442.675 1523.95 443.855 1522.61 Q446.101 1520.08 446.98 1518.35 Q447.883 1516.59 447.883 1514.9 Q447.883 1512.14 445.939 1510.41 Q444.017 1508.67 440.915 1508.67 Q438.716 1508.67 436.263 1509.43 Q433.832 1510.2 431.054 1511.75 L431.054 1507.03 Q433.878 1505.89 436.332 1505.31 Q438.786 1504.73 440.823 1504.73 Q446.193 1504.73 449.388 1507.42 Q452.582 1510.11 452.582 1514.6 Q452.582 1516.73 451.772 1518.65 Q450.985 1520.54 448.878 1523.14 Q448.3 1523.81 445.198 1527.03 Q442.096 1530.22 436.448 1535.98 Z\" fill=\"#000000\" fill-rule=\"evenodd\" fill-opacity=\"1\" /><path clip-path=\"url(#clip650)\" d=\"M 0 0 M906.947 1509.43 L895.142 1527.88 L906.947 1527.88 L906.947 1509.43 M905.72 1505.36 L911.6 1505.36 L911.6 1527.88 L916.531 1527.88 L916.531 1531.77 L911.6 1531.77 L911.6 1539.92 L906.947 1539.92 L906.947 1531.77 L891.345 1531.77 L891.345 1527.26 L905.72 1505.36 Z\" fill=\"#000000\" fill-rule=\"evenodd\" fill-opacity=\"1\" /><path clip-path=\"url(#clip650)\" d=\"M 0 0 M1366.49 1520.78 Q1363.34 1520.78 1361.49 1522.93 Q1359.66 1525.08 1359.66 1528.83 Q1359.66 1532.56 1361.49 1534.73 Q1363.34 1536.89 1366.49 1536.89 Q1369.63 1536.89 1371.46 1534.73 Q1373.31 1532.56 1373.31 1528.83 Q1373.31 1525.08 1371.46 1522.93 Q1369.63 1520.78 1366.49 1520.78 M1375.77 1506.12 L1375.77 1510.38 Q1374.01 1509.55 1372.2 1509.11 Q1370.42 1508.67 1368.66 1508.67 Q1364.03 1508.67 1361.58 1511.8 Q1359.15 1514.92 1358.8 1521.24 Q1360.17 1519.23 1362.23 1518.16 Q1364.29 1517.07 1366.76 1517.07 Q1371.97 1517.07 1374.98 1520.24 Q1378.01 1523.39 1378.01 1528.83 Q1378.01 1534.16 1374.87 1537.37 Q1371.72 1540.59 1366.49 1540.59 Q1360.49 1540.59 1357.32 1536.01 Q1354.15 1531.4 1354.15 1522.67 Q1354.15 1514.48 1358.04 1509.62 Q1361.93 1504.73 1368.48 1504.73 Q1370.24 1504.73 1372.02 1505.08 Q1373.82 1505.43 1375.77 1506.12 Z\" fill=\"#000000\" fill-rule=\"evenodd\" fill-opacity=\"1\" /><path clip-path=\"url(#clip650)\" d=\"M 0 0 M1828.22 1523.51 Q1824.89 1523.51 1822.97 1525.29 Q1821.07 1527.07 1821.07 1530.2 Q1821.07 1533.32 1822.97 1535.11 Q1824.89 1536.89 1828.22 1536.89 Q1831.56 1536.89 1833.48 1535.11 Q1835.4 1533.3 1835.4 1530.2 Q1835.4 1527.07 1833.48 1525.29 Q1831.58 1523.51 1828.22 1523.51 M1823.55 1521.52 Q1820.54 1520.78 1818.85 1518.72 Q1817.18 1516.66 1817.18 1513.69 Q1817.18 1509.55 1820.12 1507.14 Q1823.08 1504.73 1828.22 1504.73 Q1833.39 1504.73 1836.33 1507.14 Q1839.27 1509.55 1839.27 1513.69 Q1839.27 1516.66 1837.58 1518.72 Q1835.91 1520.78 1832.92 1521.52 Q1836.3 1522.3 1838.18 1524.6 Q1840.08 1526.89 1840.08 1530.2 Q1840.08 1535.22 1837 1537.91 Q1833.94 1540.59 1828.22 1540.59 Q1822.51 1540.59 1819.43 1537.91 Q1816.37 1535.22 1816.37 1530.2 Q1816.37 1526.89 1818.27 1524.6 Q1820.17 1522.3 1823.55 1521.52 M1821.83 1514.13 Q1821.83 1516.82 1823.5 1518.32 Q1825.19 1519.83 1828.22 1519.83 Q1831.23 1519.83 1832.92 1518.32 Q1834.64 1516.82 1834.64 1514.13 Q1834.64 1511.45 1832.92 1509.94 Q1831.23 1508.44 1828.22 1508.44 Q1825.19 1508.44 1823.5 1509.94 Q1821.83 1511.45 1821.83 1514.13 Z\" fill=\"#000000\" fill-rule=\"evenodd\" fill-opacity=\"1\" /><path clip-path=\"url(#clip650)\" d=\"M 0 0 M2267.24 1535.98 L2274.88 1535.98 L2274.88 1509.62 L2266.57 1511.29 L2266.57 1507.03 L2274.83 1505.36 L2279.51 1505.36 L2279.51 1535.98 L2287.15 1535.98 L2287.15 1539.92 L2267.24 1539.92 L2267.24 1535.98 Z\" fill=\"#000000\" fill-rule=\"evenodd\" fill-opacity=\"1\" /><path clip-path=\"url(#clip650)\" d=\"M 0 0 M2302.22 1508.44 Q2298.61 1508.44 2296.78 1512 Q2294.97 1515.55 2294.97 1522.67 Q2294.97 1529.78 2296.78 1533.35 Q2298.61 1536.89 2302.22 1536.89 Q2305.85 1536.89 2307.66 1533.35 Q2309.49 1529.78 2309.49 1522.67 Q2309.49 1515.55 2307.66 1512 Q2305.85 1508.44 2302.22 1508.44 M2302.22 1504.73 Q2308.03 1504.73 2311.08 1509.34 Q2314.16 1513.92 2314.16 1522.67 Q2314.16 1531.4 2311.08 1536.01 Q2308.03 1540.59 2302.22 1540.59 Q2296.41 1540.59 2293.33 1536.01 Q2290.27 1531.4 2290.27 1522.67 Q2290.27 1513.92 2293.33 1509.34 Q2296.41 1504.73 2302.22 1504.73 Z\" fill=\"#000000\" fill-rule=\"evenodd\" fill-opacity=\"1\" /><path clip-path=\"url(#clip650)\" d=\"M 0 0 M77.0198 1282.8 Q73.4087 1282.8 71.58 1286.36 Q69.7745 1289.91 69.7745 1297.04 Q69.7745 1304.14 71.58 1307.71 Q73.4087 1311.25 77.0198 1311.25 Q80.6541 1311.25 82.4596 1307.71 Q84.2883 1304.14 84.2883 1297.04 Q84.2883 1289.91 82.4596 1286.36 Q80.6541 1282.8 77.0198 1282.8 M77.0198 1279.1 Q82.83 1279.1 85.8855 1283.7 Q88.9642 1288.29 88.9642 1297.04 Q88.9642 1305.76 85.8855 1310.37 Q82.83 1314.95 77.0198 1314.95 Q71.2097 1314.95 68.131 1310.37 Q65.0754 1305.76 65.0754 1297.04 Q65.0754 1288.29 68.131 1283.7 Q71.2097 1279.1 77.0198 1279.1 Z\" fill=\"#000000\" fill-rule=\"evenodd\" fill-opacity=\"1\" /><path clip-path=\"url(#clip650)\" d=\"M 0 0 M94.0336 1308.4 L98.9179 1308.4 L98.9179 1314.28 L94.0336 1314.28 L94.0336 1308.4 Z\" fill=\"#000000\" fill-rule=\"evenodd\" fill-opacity=\"1\" /><path clip-path=\"url(#clip650)\" d=\"M 0 0 M108.015 1310.35 L124.334 1310.35 L124.334 1314.28 L102.39 1314.28 L102.39 1310.35 Q105.052 1307.59 109.635 1302.96 Q114.242 1298.31 115.422 1296.97 Q117.668 1294.44 118.547 1292.71 Q119.45 1290.95 119.45 1289.26 Q119.45 1286.5 117.506 1284.77 Q115.584 1283.03 112.483 1283.03 Q110.284 1283.03 107.83 1283.8 Q105.399 1284.56 102.622 1286.11 L102.622 1281.39 Q105.446 1280.25 107.899 1279.67 Q110.353 1279.1 112.39 1279.1 Q117.76 1279.1 120.955 1281.78 Q124.149 1284.47 124.149 1288.96 Q124.149 1291.09 123.339 1293.01 Q122.552 1294.91 120.446 1297.5 Q119.867 1298.17 116.765 1301.39 Q113.663 1304.58 108.015 1310.35 Z\" fill=\"#000000\" fill-rule=\"evenodd\" fill-opacity=\"1\" /><path clip-path=\"url(#clip650)\" d=\"M 0 0 M74.9365 919.512 Q71.3254 919.512 69.4967 923.077 Q67.6912 926.619 67.6912 933.748 Q67.6912 940.855 69.4967 944.419 Q71.3254 947.961 74.9365 947.961 Q78.5707 947.961 80.3763 944.419 Q82.205 940.855 82.205 933.748 Q82.205 926.619 80.3763 923.077 Q78.5707 919.512 74.9365 919.512 M74.9365 915.808 Q80.7467 915.808 83.8022 920.415 Q86.8809 924.998 86.8809 933.748 Q86.8809 942.475 83.8022 947.081 Q80.7467 951.665 74.9365 951.665 Q69.1264 951.665 66.0477 947.081 Q62.9921 942.475 62.9921 933.748 Q62.9921 924.998 66.0477 920.415 Q69.1264 915.808 74.9365 915.808 Z\" fill=\"#000000\" fill-rule=\"evenodd\" fill-opacity=\"1\" /><path clip-path=\"url(#clip650)\" d=\"M 0 0 M91.9503 945.114 L96.8345 945.114 L96.8345 950.993 L91.9503 950.993 L91.9503 945.114 Z\" fill=\"#000000\" fill-rule=\"evenodd\" fill-opacity=\"1\" /><path clip-path=\"url(#clip650)\" d=\"M 0 0 M114.751 920.507 L102.946 938.956 L114.751 938.956 L114.751 920.507 M113.524 916.433 L119.404 916.433 L119.404 938.956 L124.334 938.956 L124.334 942.845 L119.404 942.845 L119.404 950.993 L114.751 950.993 L114.751 942.845 L99.1493 942.845 L99.1493 938.331 L113.524 916.433 Z\" fill=\"#000000\" fill-rule=\"evenodd\" fill-opacity=\"1\" /><path clip-path=\"url(#clip650)\" d=\"M 0 0 M75.2606 556.225 Q71.6495 556.225 69.8208 559.789 Q68.0152 563.331 68.0152 570.461 Q68.0152 577.567 69.8208 581.132 Q71.6495 584.673 75.2606 584.673 Q78.8948 584.673 80.7004 581.132 Q82.5291 577.567 82.5291 570.461 Q82.5291 563.331 80.7004 559.789 Q78.8948 556.225 75.2606 556.225 M75.2606 552.521 Q81.0707 552.521 84.1263 557.127 Q87.205 561.711 87.205 570.461 Q87.205 579.187 84.1263 583.794 Q81.0707 588.377 75.2606 588.377 Q69.4504 588.377 66.3717 583.794 Q63.3162 579.187 63.3162 570.461 Q63.3162 561.711 66.3717 557.127 Q69.4504 552.521 75.2606 552.521 Z\" fill=\"#000000\" fill-rule=\"evenodd\" fill-opacity=\"1\" /><path clip-path=\"url(#clip650)\" d=\"M 0 0 M92.2744 581.826 L97.1586 581.826 L97.1586 587.706 L92.2744 587.706 L92.2744 581.826 Z\" fill=\"#000000\" fill-rule=\"evenodd\" fill-opacity=\"1\" /><path clip-path=\"url(#clip650)\" d=\"M 0 0 M112.807 568.562 Q109.659 568.562 107.807 570.715 Q105.978 572.868 105.978 576.618 Q105.978 580.345 107.807 582.521 Q109.659 584.673 112.807 584.673 Q115.955 584.673 117.783 582.521 Q119.635 580.345 119.635 576.618 Q119.635 572.868 117.783 570.715 Q115.955 568.562 112.807 568.562 M122.089 553.91 L122.089 558.169 Q120.33 557.336 118.524 556.896 Q116.742 556.456 114.983 556.456 Q110.353 556.456 107.899 559.581 Q105.469 562.706 105.122 569.025 Q106.487 567.012 108.547 565.947 Q110.608 564.859 113.084 564.859 Q118.293 564.859 121.302 568.03 Q124.334 571.178 124.334 576.618 Q124.334 581.942 121.186 585.16 Q118.038 588.377 112.807 588.377 Q106.811 588.377 103.64 583.794 Q100.469 579.187 100.469 570.461 Q100.469 562.266 104.358 557.405 Q108.247 552.521 114.797 552.521 Q116.557 552.521 118.339 552.868 Q120.145 553.215 122.089 553.91 Z\" fill=\"#000000\" fill-rule=\"evenodd\" fill-opacity=\"1\" /><path clip-path=\"url(#clip650)\" d=\"M 0 0 M75.5152 192.937 Q71.9041 192.937 70.0754 196.502 Q68.2699 200.043 68.2699 207.173 Q68.2699 214.279 70.0754 217.844 Q71.9041 221.386 75.5152 221.386 Q79.1494 221.386 80.955 217.844 Q82.7837 214.279 82.7837 207.173 Q82.7837 200.043 80.955 196.502 Q79.1494 192.937 75.5152 192.937 M75.5152 189.233 Q81.3254 189.233 84.3809 193.84 Q87.4596 198.423 87.4596 207.173 Q87.4596 215.9 84.3809 220.506 Q81.3254 225.09 75.5152 225.09 Q69.7051 225.09 66.6264 220.506 Q63.5708 215.9 63.5708 207.173 Q63.5708 198.423 66.6264 193.84 Q69.7051 189.233 75.5152 189.233 Z\" fill=\"#000000\" fill-rule=\"evenodd\" fill-opacity=\"1\" /><path clip-path=\"url(#clip650)\" d=\"M 0 0 M92.529 218.539 L97.4132 218.539 L97.4132 224.418 L92.529 224.418 L92.529 218.539 Z\" fill=\"#000000\" fill-rule=\"evenodd\" fill-opacity=\"1\" /><path clip-path=\"url(#clip650)\" d=\"M 0 0 M112.483 208.006 Q109.149 208.006 107.228 209.789 Q105.33 211.571 105.33 214.696 Q105.33 217.821 107.228 219.603 Q109.149 221.386 112.483 221.386 Q115.816 221.386 117.737 219.603 Q119.658 217.798 119.658 214.696 Q119.658 211.571 117.737 209.789 Q115.839 208.006 112.483 208.006 M107.807 206.016 Q104.797 205.275 103.108 203.215 Q101.441 201.155 101.441 198.192 Q101.441 194.048 104.381 191.641 Q107.344 189.233 112.483 189.233 Q117.645 189.233 120.584 191.641 Q123.524 194.048 123.524 198.192 Q123.524 201.155 121.834 203.215 Q120.168 205.275 117.182 206.016 Q120.561 206.803 122.436 209.094 Q124.334 211.386 124.334 214.696 Q124.334 219.719 121.256 222.404 Q118.2 225.09 112.483 225.09 Q106.765 225.09 103.686 222.404 Q100.631 219.719 100.631 214.696 Q100.631 211.386 102.529 209.094 Q104.427 206.803 107.807 206.016 M106.094 198.631 Q106.094 201.317 107.76 202.821 Q109.45 204.326 112.483 204.326 Q115.492 204.326 117.182 202.821 Q118.895 201.317 118.895 198.631 Q118.895 195.946 117.182 194.442 Q115.492 192.937 112.483 192.937 Q109.45 192.937 107.76 194.442 Q106.094 195.946 106.094 198.631 Z\" fill=\"#000000\" fill-rule=\"evenodd\" fill-opacity=\"1\" /><polyline clip-path=\"url(#clip652)\" style=\"stroke:#009af9; stroke-width:4; stroke-opacity:1; fill:none\" points=\"\n",
       "  210.724,1356.35 441.795,696.744 672.867,514.881 903.938,944.323 1135.01,1445.72 1366.08,92.8954 1597.15,588.243 1828.22,958.756 2059.3,87.9763 2290.37,971.572 \n",
       "  \n",
       "  \"/>\n",
       "<path clip-path=\"url(#clip650)\" d=\"\n",
       "M1989.74 251.724 L2280.76 251.724 L2280.76 130.764 L1989.74 130.764  Z\n",
       "  \" fill=\"#ffffff\" fill-rule=\"evenodd\" fill-opacity=\"1\"/>\n",
       "<polyline clip-path=\"url(#clip650)\" style=\"stroke:#000000; stroke-width:4; stroke-opacity:1; fill:none\" points=\"\n",
       "  1989.74,251.724 2280.76,251.724 2280.76,130.764 1989.74,130.764 1989.74,251.724 \n",
       "  \"/>\n",
       "<polyline clip-path=\"url(#clip650)\" style=\"stroke:#009af9; stroke-width:4; stroke-opacity:1; fill:none\" points=\"\n",
       "  2013.74,191.244 2157.74,191.244 \n",
       "  \"/>\n",
       "<path clip-path=\"url(#clip650)\" d=\"M 0 0 M2195.58 210.931 Q2193.77 215.561 2192.06 216.973 Q2190.35 218.385 2187.48 218.385 L2184.08 218.385 L2184.08 214.82 L2186.58 214.82 Q2188.33 214.82 2189.31 213.987 Q2190.28 213.154 2191.46 210.052 L2192.22 208.107 L2181.74 182.598 L2186.25 182.598 L2194.35 202.876 L2202.46 182.598 L2206.97 182.598 L2195.58 210.931 Z\" fill=\"#000000\" fill-rule=\"evenodd\" fill-opacity=\"1\" /><path clip-path=\"url(#clip650)\" d=\"M 0 0 M2212.85 204.589 L2220.49 204.589 L2220.49 178.223 L2212.18 179.89 L2212.18 175.631 L2220.44 173.964 L2225.12 173.964 L2225.12 204.589 L2232.76 204.589 L2232.76 208.524 L2212.85 208.524 L2212.85 204.589 Z\" fill=\"#000000\" fill-rule=\"evenodd\" fill-opacity=\"1\" /></svg>\n"
      ]
     },
     "execution_count": 207,
     "metadata": {},
     "output_type": "execute_result"
    }
   ],
   "source": [
    "# for show in graph(plot)\n",
    "plot(x,y)"
   ]
  },
  {
   "cell_type": "code",
   "execution_count": 208,
   "metadata": {},
   "outputs": [],
   "source": [
    "#for adding new line in graph\n",
    "z = rand(10);"
   ]
  },
  {
   "cell_type": "code",
   "execution_count": 209,
   "metadata": {},
   "outputs": [
    {
     "data": {
      "image/svg+xml": [
       "<?xml version=\"1.0\" encoding=\"utf-8\"?>\n",
       "<svg xmlns=\"http://www.w3.org/2000/svg\" xmlns:xlink=\"http://www.w3.org/1999/xlink\" width=\"600\" height=\"400\" viewBox=\"0 0 2400 1600\">\n",
       "<defs>\n",
       "  <clipPath id=\"clip690\">\n",
       "    <rect x=\"0\" y=\"0\" width=\"2400\" height=\"1600\"/>\n",
       "  </clipPath>\n",
       "</defs>\n",
       "<path clip-path=\"url(#clip690)\" d=\"\n",
       "M0 1600 L2400 1600 L2400 0 L0 0  Z\n",
       "  \" fill=\"#ffffff\" fill-rule=\"evenodd\" fill-opacity=\"1\"/>\n",
       "<defs>\n",
       "  <clipPath id=\"clip691\">\n",
       "    <rect x=\"480\" y=\"0\" width=\"1681\" height=\"1600\"/>\n",
       "  </clipPath>\n",
       "</defs>\n",
       "<path clip-path=\"url(#clip690)\" d=\"\n",
       "M148.334 1486.45 L2352.76 1486.45 L2352.76 47.2441 L148.334 47.2441  Z\n",
       "  \" fill=\"#ffffff\" fill-rule=\"evenodd\" fill-opacity=\"1\"/>\n",
       "<defs>\n",
       "  <clipPath id=\"clip692\">\n",
       "    <rect x=\"148\" y=\"47\" width=\"2205\" height=\"1440\"/>\n",
       "  </clipPath>\n",
       "</defs>\n",
       "<polyline clip-path=\"url(#clip692)\" style=\"stroke:#000000; stroke-width:2; stroke-opacity:0.1; fill:none\" points=\"\n",
       "  441.795,1486.45 441.795,47.2441 \n",
       "  \"/>\n",
       "<polyline clip-path=\"url(#clip692)\" style=\"stroke:#000000; stroke-width:2; stroke-opacity:0.1; fill:none\" points=\"\n",
       "  903.938,1486.45 903.938,47.2441 \n",
       "  \"/>\n",
       "<polyline clip-path=\"url(#clip692)\" style=\"stroke:#000000; stroke-width:2; stroke-opacity:0.1; fill:none\" points=\"\n",
       "  1366.08,1486.45 1366.08,47.2441 \n",
       "  \"/>\n",
       "<polyline clip-path=\"url(#clip692)\" style=\"stroke:#000000; stroke-width:2; stroke-opacity:0.1; fill:none\" points=\"\n",
       "  1828.22,1486.45 1828.22,47.2441 \n",
       "  \"/>\n",
       "<polyline clip-path=\"url(#clip692)\" style=\"stroke:#000000; stroke-width:2; stroke-opacity:0.1; fill:none\" points=\"\n",
       "  2290.37,1486.45 2290.37,47.2441 \n",
       "  \"/>\n",
       "<polyline clip-path=\"url(#clip692)\" style=\"stroke:#000000; stroke-width:2; stroke-opacity:0.1; fill:none\" points=\"\n",
       "  148.334,1297 2352.76,1297 \n",
       "  \"/>\n",
       "<polyline clip-path=\"url(#clip692)\" style=\"stroke:#000000; stroke-width:2; stroke-opacity:0.1; fill:none\" points=\"\n",
       "  148.334,933.713 2352.76,933.713 \n",
       "  \"/>\n",
       "<polyline clip-path=\"url(#clip692)\" style=\"stroke:#000000; stroke-width:2; stroke-opacity:0.1; fill:none\" points=\"\n",
       "  148.334,570.426 2352.76,570.426 \n",
       "  \"/>\n",
       "<polyline clip-path=\"url(#clip692)\" style=\"stroke:#000000; stroke-width:2; stroke-opacity:0.1; fill:none\" points=\"\n",
       "  148.334,207.138 2352.76,207.138 \n",
       "  \"/>\n",
       "<polyline clip-path=\"url(#clip690)\" style=\"stroke:#000000; stroke-width:4; stroke-opacity:1; fill:none\" points=\"\n",
       "  148.334,1486.45 2352.76,1486.45 \n",
       "  \"/>\n",
       "<polyline clip-path=\"url(#clip690)\" style=\"stroke:#000000; stroke-width:4; stroke-opacity:1; fill:none\" points=\"\n",
       "  148.334,1486.45 148.334,47.2441 \n",
       "  \"/>\n",
       "<polyline clip-path=\"url(#clip690)\" style=\"stroke:#000000; stroke-width:4; stroke-opacity:1; fill:none\" points=\"\n",
       "  441.795,1486.45 441.795,1469.18 \n",
       "  \"/>\n",
       "<polyline clip-path=\"url(#clip690)\" style=\"stroke:#000000; stroke-width:4; stroke-opacity:1; fill:none\" points=\"\n",
       "  903.938,1486.45 903.938,1469.18 \n",
       "  \"/>\n",
       "<polyline clip-path=\"url(#clip690)\" style=\"stroke:#000000; stroke-width:4; stroke-opacity:1; fill:none\" points=\"\n",
       "  1366.08,1486.45 1366.08,1469.18 \n",
       "  \"/>\n",
       "<polyline clip-path=\"url(#clip690)\" style=\"stroke:#000000; stroke-width:4; stroke-opacity:1; fill:none\" points=\"\n",
       "  1828.22,1486.45 1828.22,1469.18 \n",
       "  \"/>\n",
       "<polyline clip-path=\"url(#clip690)\" style=\"stroke:#000000; stroke-width:4; stroke-opacity:1; fill:none\" points=\"\n",
       "  2290.37,1486.45 2290.37,1469.18 \n",
       "  \"/>\n",
       "<polyline clip-path=\"url(#clip690)\" style=\"stroke:#000000; stroke-width:4; stroke-opacity:1; fill:none\" points=\"\n",
       "  148.334,1297 174.787,1297 \n",
       "  \"/>\n",
       "<polyline clip-path=\"url(#clip690)\" style=\"stroke:#000000; stroke-width:4; stroke-opacity:1; fill:none\" points=\"\n",
       "  148.334,933.713 174.787,933.713 \n",
       "  \"/>\n",
       "<polyline clip-path=\"url(#clip690)\" style=\"stroke:#000000; stroke-width:4; stroke-opacity:1; fill:none\" points=\"\n",
       "  148.334,570.426 174.787,570.426 \n",
       "  \"/>\n",
       "<polyline clip-path=\"url(#clip690)\" style=\"stroke:#000000; stroke-width:4; stroke-opacity:1; fill:none\" points=\"\n",
       "  148.334,207.138 174.787,207.138 \n",
       "  \"/>\n",
       "<path clip-path=\"url(#clip690)\" d=\"M 0 0 M436.448 1535.98 L452.767 1535.98 L452.767 1539.92 L430.823 1539.92 L430.823 1535.98 Q433.485 1533.23 438.068 1528.6 Q442.675 1523.95 443.855 1522.61 Q446.101 1520.08 446.98 1518.35 Q447.883 1516.59 447.883 1514.9 Q447.883 1512.14 445.939 1510.41 Q444.017 1508.67 440.915 1508.67 Q438.716 1508.67 436.263 1509.43 Q433.832 1510.2 431.054 1511.75 L431.054 1507.03 Q433.878 1505.89 436.332 1505.31 Q438.786 1504.73 440.823 1504.73 Q446.193 1504.73 449.388 1507.42 Q452.582 1510.11 452.582 1514.6 Q452.582 1516.73 451.772 1518.65 Q450.985 1520.54 448.878 1523.14 Q448.3 1523.81 445.198 1527.03 Q442.096 1530.22 436.448 1535.98 Z\" fill=\"#000000\" fill-rule=\"evenodd\" fill-opacity=\"1\" /><path clip-path=\"url(#clip690)\" d=\"M 0 0 M906.947 1509.43 L895.142 1527.88 L906.947 1527.88 L906.947 1509.43 M905.72 1505.36 L911.6 1505.36 L911.6 1527.88 L916.531 1527.88 L916.531 1531.77 L911.6 1531.77 L911.6 1539.92 L906.947 1539.92 L906.947 1531.77 L891.345 1531.77 L891.345 1527.26 L905.72 1505.36 Z\" fill=\"#000000\" fill-rule=\"evenodd\" fill-opacity=\"1\" /><path clip-path=\"url(#clip690)\" d=\"M 0 0 M1366.49 1520.78 Q1363.34 1520.78 1361.49 1522.93 Q1359.66 1525.08 1359.66 1528.83 Q1359.66 1532.56 1361.49 1534.73 Q1363.34 1536.89 1366.49 1536.89 Q1369.63 1536.89 1371.46 1534.73 Q1373.31 1532.56 1373.31 1528.83 Q1373.31 1525.08 1371.46 1522.93 Q1369.63 1520.78 1366.49 1520.78 M1375.77 1506.12 L1375.77 1510.38 Q1374.01 1509.55 1372.2 1509.11 Q1370.42 1508.67 1368.66 1508.67 Q1364.03 1508.67 1361.58 1511.8 Q1359.15 1514.92 1358.8 1521.24 Q1360.17 1519.23 1362.23 1518.16 Q1364.29 1517.07 1366.76 1517.07 Q1371.97 1517.07 1374.98 1520.24 Q1378.01 1523.39 1378.01 1528.83 Q1378.01 1534.16 1374.87 1537.37 Q1371.72 1540.59 1366.49 1540.59 Q1360.49 1540.59 1357.32 1536.01 Q1354.15 1531.4 1354.15 1522.67 Q1354.15 1514.48 1358.04 1509.62 Q1361.93 1504.73 1368.48 1504.73 Q1370.24 1504.73 1372.02 1505.08 Q1373.82 1505.43 1375.77 1506.12 Z\" fill=\"#000000\" fill-rule=\"evenodd\" fill-opacity=\"1\" /><path clip-path=\"url(#clip690)\" d=\"M 0 0 M1828.22 1523.51 Q1824.89 1523.51 1822.97 1525.29 Q1821.07 1527.07 1821.07 1530.2 Q1821.07 1533.32 1822.97 1535.11 Q1824.89 1536.89 1828.22 1536.89 Q1831.56 1536.89 1833.48 1535.11 Q1835.4 1533.3 1835.4 1530.2 Q1835.4 1527.07 1833.48 1525.29 Q1831.58 1523.51 1828.22 1523.51 M1823.55 1521.52 Q1820.54 1520.78 1818.85 1518.72 Q1817.18 1516.66 1817.18 1513.69 Q1817.18 1509.55 1820.12 1507.14 Q1823.08 1504.73 1828.22 1504.73 Q1833.39 1504.73 1836.33 1507.14 Q1839.27 1509.55 1839.27 1513.69 Q1839.27 1516.66 1837.58 1518.72 Q1835.91 1520.78 1832.92 1521.52 Q1836.3 1522.3 1838.18 1524.6 Q1840.08 1526.89 1840.08 1530.2 Q1840.08 1535.22 1837 1537.91 Q1833.94 1540.59 1828.22 1540.59 Q1822.51 1540.59 1819.43 1537.91 Q1816.37 1535.22 1816.37 1530.2 Q1816.37 1526.89 1818.27 1524.6 Q1820.17 1522.3 1823.55 1521.52 M1821.83 1514.13 Q1821.83 1516.82 1823.5 1518.32 Q1825.19 1519.83 1828.22 1519.83 Q1831.23 1519.83 1832.92 1518.32 Q1834.64 1516.82 1834.64 1514.13 Q1834.64 1511.45 1832.92 1509.94 Q1831.23 1508.44 1828.22 1508.44 Q1825.19 1508.44 1823.5 1509.94 Q1821.83 1511.45 1821.83 1514.13 Z\" fill=\"#000000\" fill-rule=\"evenodd\" fill-opacity=\"1\" /><path clip-path=\"url(#clip690)\" d=\"M 0 0 M2267.24 1535.98 L2274.88 1535.98 L2274.88 1509.62 L2266.57 1511.29 L2266.57 1507.03 L2274.83 1505.36 L2279.51 1505.36 L2279.51 1535.98 L2287.15 1535.98 L2287.15 1539.92 L2267.24 1539.92 L2267.24 1535.98 Z\" fill=\"#000000\" fill-rule=\"evenodd\" fill-opacity=\"1\" /><path clip-path=\"url(#clip690)\" d=\"M 0 0 M2302.22 1508.44 Q2298.61 1508.44 2296.78 1512 Q2294.97 1515.55 2294.97 1522.67 Q2294.97 1529.78 2296.78 1533.35 Q2298.61 1536.89 2302.22 1536.89 Q2305.85 1536.89 2307.66 1533.35 Q2309.49 1529.78 2309.49 1522.67 Q2309.49 1515.55 2307.66 1512 Q2305.85 1508.44 2302.22 1508.44 M2302.22 1504.73 Q2308.03 1504.73 2311.08 1509.34 Q2314.16 1513.92 2314.16 1522.67 Q2314.16 1531.4 2311.08 1536.01 Q2308.03 1540.59 2302.22 1540.59 Q2296.41 1540.59 2293.33 1536.01 Q2290.27 1531.4 2290.27 1522.67 Q2290.27 1513.92 2293.33 1509.34 Q2296.41 1504.73 2302.22 1504.73 Z\" fill=\"#000000\" fill-rule=\"evenodd\" fill-opacity=\"1\" /><path clip-path=\"url(#clip690)\" d=\"M 0 0 M77.0198 1282.8 Q73.4087 1282.8 71.58 1286.36 Q69.7745 1289.91 69.7745 1297.04 Q69.7745 1304.14 71.58 1307.71 Q73.4087 1311.25 77.0198 1311.25 Q80.6541 1311.25 82.4596 1307.71 Q84.2883 1304.14 84.2883 1297.04 Q84.2883 1289.91 82.4596 1286.36 Q80.6541 1282.8 77.0198 1282.8 M77.0198 1279.1 Q82.83 1279.1 85.8855 1283.7 Q88.9642 1288.29 88.9642 1297.04 Q88.9642 1305.76 85.8855 1310.37 Q82.83 1314.95 77.0198 1314.95 Q71.2097 1314.95 68.131 1310.37 Q65.0754 1305.76 65.0754 1297.04 Q65.0754 1288.29 68.131 1283.7 Q71.2097 1279.1 77.0198 1279.1 Z\" fill=\"#000000\" fill-rule=\"evenodd\" fill-opacity=\"1\" /><path clip-path=\"url(#clip690)\" d=\"M 0 0 M94.0336 1308.4 L98.9179 1308.4 L98.9179 1314.28 L94.0336 1314.28 L94.0336 1308.4 Z\" fill=\"#000000\" fill-rule=\"evenodd\" fill-opacity=\"1\" /><path clip-path=\"url(#clip690)\" d=\"M 0 0 M108.015 1310.35 L124.334 1310.35 L124.334 1314.28 L102.39 1314.28 L102.39 1310.35 Q105.052 1307.59 109.635 1302.96 Q114.242 1298.31 115.422 1296.97 Q117.668 1294.44 118.547 1292.71 Q119.45 1290.95 119.45 1289.26 Q119.45 1286.5 117.506 1284.77 Q115.584 1283.03 112.483 1283.03 Q110.284 1283.03 107.83 1283.8 Q105.399 1284.56 102.622 1286.11 L102.622 1281.39 Q105.446 1280.25 107.899 1279.67 Q110.353 1279.1 112.39 1279.1 Q117.76 1279.1 120.955 1281.78 Q124.149 1284.47 124.149 1288.96 Q124.149 1291.09 123.339 1293.01 Q122.552 1294.91 120.446 1297.5 Q119.867 1298.17 116.765 1301.39 Q113.663 1304.58 108.015 1310.35 Z\" fill=\"#000000\" fill-rule=\"evenodd\" fill-opacity=\"1\" /><path clip-path=\"url(#clip690)\" d=\"M 0 0 M74.9365 919.512 Q71.3254 919.512 69.4967 923.077 Q67.6912 926.619 67.6912 933.748 Q67.6912 940.855 69.4967 944.419 Q71.3254 947.961 74.9365 947.961 Q78.5707 947.961 80.3763 944.419 Q82.205 940.855 82.205 933.748 Q82.205 926.619 80.3763 923.077 Q78.5707 919.512 74.9365 919.512 M74.9365 915.808 Q80.7467 915.808 83.8022 920.415 Q86.8809 924.998 86.8809 933.748 Q86.8809 942.475 83.8022 947.081 Q80.7467 951.665 74.9365 951.665 Q69.1264 951.665 66.0477 947.081 Q62.9921 942.475 62.9921 933.748 Q62.9921 924.998 66.0477 920.415 Q69.1264 915.808 74.9365 915.808 Z\" fill=\"#000000\" fill-rule=\"evenodd\" fill-opacity=\"1\" /><path clip-path=\"url(#clip690)\" d=\"M 0 0 M91.9503 945.114 L96.8345 945.114 L96.8345 950.993 L91.9503 950.993 L91.9503 945.114 Z\" fill=\"#000000\" fill-rule=\"evenodd\" fill-opacity=\"1\" /><path clip-path=\"url(#clip690)\" d=\"M 0 0 M114.751 920.507 L102.946 938.956 L114.751 938.956 L114.751 920.507 M113.524 916.433 L119.404 916.433 L119.404 938.956 L124.334 938.956 L124.334 942.845 L119.404 942.845 L119.404 950.993 L114.751 950.993 L114.751 942.845 L99.1493 942.845 L99.1493 938.331 L113.524 916.433 Z\" fill=\"#000000\" fill-rule=\"evenodd\" fill-opacity=\"1\" /><path clip-path=\"url(#clip690)\" d=\"M 0 0 M75.2606 556.225 Q71.6495 556.225 69.8208 559.789 Q68.0152 563.331 68.0152 570.461 Q68.0152 577.567 69.8208 581.132 Q71.6495 584.673 75.2606 584.673 Q78.8948 584.673 80.7004 581.132 Q82.5291 577.567 82.5291 570.461 Q82.5291 563.331 80.7004 559.789 Q78.8948 556.225 75.2606 556.225 M75.2606 552.521 Q81.0707 552.521 84.1263 557.127 Q87.205 561.711 87.205 570.461 Q87.205 579.187 84.1263 583.794 Q81.0707 588.377 75.2606 588.377 Q69.4504 588.377 66.3717 583.794 Q63.3162 579.187 63.3162 570.461 Q63.3162 561.711 66.3717 557.127 Q69.4504 552.521 75.2606 552.521 Z\" fill=\"#000000\" fill-rule=\"evenodd\" fill-opacity=\"1\" /><path clip-path=\"url(#clip690)\" d=\"M 0 0 M92.2744 581.826 L97.1586 581.826 L97.1586 587.706 L92.2744 587.706 L92.2744 581.826 Z\" fill=\"#000000\" fill-rule=\"evenodd\" fill-opacity=\"1\" /><path clip-path=\"url(#clip690)\" d=\"M 0 0 M112.807 568.562 Q109.659 568.562 107.807 570.715 Q105.978 572.868 105.978 576.618 Q105.978 580.345 107.807 582.521 Q109.659 584.673 112.807 584.673 Q115.955 584.673 117.783 582.521 Q119.635 580.345 119.635 576.618 Q119.635 572.868 117.783 570.715 Q115.955 568.562 112.807 568.562 M122.089 553.91 L122.089 558.169 Q120.33 557.336 118.524 556.896 Q116.742 556.456 114.983 556.456 Q110.353 556.456 107.899 559.581 Q105.469 562.706 105.122 569.025 Q106.487 567.012 108.547 565.947 Q110.608 564.859 113.084 564.859 Q118.293 564.859 121.302 568.03 Q124.334 571.178 124.334 576.618 Q124.334 581.942 121.186 585.16 Q118.038 588.377 112.807 588.377 Q106.811 588.377 103.64 583.794 Q100.469 579.187 100.469 570.461 Q100.469 562.266 104.358 557.405 Q108.247 552.521 114.797 552.521 Q116.557 552.521 118.339 552.868 Q120.145 553.215 122.089 553.91 Z\" fill=\"#000000\" fill-rule=\"evenodd\" fill-opacity=\"1\" /><path clip-path=\"url(#clip690)\" d=\"M 0 0 M75.5152 192.937 Q71.9041 192.937 70.0754 196.502 Q68.2699 200.043 68.2699 207.173 Q68.2699 214.279 70.0754 217.844 Q71.9041 221.386 75.5152 221.386 Q79.1494 221.386 80.955 217.844 Q82.7837 214.279 82.7837 207.173 Q82.7837 200.043 80.955 196.502 Q79.1494 192.937 75.5152 192.937 M75.5152 189.233 Q81.3254 189.233 84.3809 193.84 Q87.4596 198.423 87.4596 207.173 Q87.4596 215.9 84.3809 220.506 Q81.3254 225.09 75.5152 225.09 Q69.7051 225.09 66.6264 220.506 Q63.5708 215.9 63.5708 207.173 Q63.5708 198.423 66.6264 193.84 Q69.7051 189.233 75.5152 189.233 Z\" fill=\"#000000\" fill-rule=\"evenodd\" fill-opacity=\"1\" /><path clip-path=\"url(#clip690)\" d=\"M 0 0 M92.529 218.539 L97.4132 218.539 L97.4132 224.418 L92.529 224.418 L92.529 218.539 Z\" fill=\"#000000\" fill-rule=\"evenodd\" fill-opacity=\"1\" /><path clip-path=\"url(#clip690)\" d=\"M 0 0 M112.483 208.006 Q109.149 208.006 107.228 209.789 Q105.33 211.571 105.33 214.696 Q105.33 217.821 107.228 219.603 Q109.149 221.386 112.483 221.386 Q115.816 221.386 117.737 219.603 Q119.658 217.798 119.658 214.696 Q119.658 211.571 117.737 209.789 Q115.839 208.006 112.483 208.006 M107.807 206.016 Q104.797 205.275 103.108 203.215 Q101.441 201.155 101.441 198.192 Q101.441 194.048 104.381 191.641 Q107.344 189.233 112.483 189.233 Q117.645 189.233 120.584 191.641 Q123.524 194.048 123.524 198.192 Q123.524 201.155 121.834 203.215 Q120.168 205.275 117.182 206.016 Q120.561 206.803 122.436 209.094 Q124.334 211.386 124.334 214.696 Q124.334 219.719 121.256 222.404 Q118.2 225.09 112.483 225.09 Q106.765 225.09 103.686 222.404 Q100.631 219.719 100.631 214.696 Q100.631 211.386 102.529 209.094 Q104.427 206.803 107.807 206.016 M106.094 198.631 Q106.094 201.317 107.76 202.821 Q109.45 204.326 112.483 204.326 Q115.492 204.326 117.182 202.821 Q118.895 201.317 118.895 198.631 Q118.895 195.946 117.182 194.442 Q115.492 192.937 112.483 192.937 Q109.45 192.937 107.76 194.442 Q106.094 195.946 106.094 198.631 Z\" fill=\"#000000\" fill-rule=\"evenodd\" fill-opacity=\"1\" /><polyline clip-path=\"url(#clip692)\" style=\"stroke:#009af9; stroke-width:4; stroke-opacity:1; fill:none\" points=\"\n",
       "  210.724,1356.35 441.795,696.744 672.867,514.881 903.938,944.323 1135.01,1445.72 1366.08,92.8954 1597.15,588.243 1828.22,958.756 2059.3,87.9763 2290.37,971.572 \n",
       "  \n",
       "  \"/>\n",
       "<polyline clip-path=\"url(#clip692)\" style=\"stroke:#e26f46; stroke-width:4; stroke-opacity:1; fill:none\" points=\"\n",
       "  210.724,380.22 441.795,1290.76 672.867,1015.48 903.938,477.203 1135.01,1316.49 1366.08,359.865 1597.15,318.42 1828.22,634.564 2059.3,857.173 2290.37,425.336 \n",
       "  \n",
       "  \"/>\n",
       "<path clip-path=\"url(#clip690)\" d=\"\n",
       "M1989.74 312.204 L2280.76 312.204 L2280.76 130.764 L1989.74 130.764  Z\n",
       "  \" fill=\"#ffffff\" fill-rule=\"evenodd\" fill-opacity=\"1\"/>\n",
       "<polyline clip-path=\"url(#clip690)\" style=\"stroke:#000000; stroke-width:4; stroke-opacity:1; fill:none\" points=\"\n",
       "  1989.74,312.204 2280.76,312.204 2280.76,130.764 1989.74,130.764 1989.74,312.204 \n",
       "  \"/>\n",
       "<polyline clip-path=\"url(#clip690)\" style=\"stroke:#009af9; stroke-width:4; stroke-opacity:1; fill:none\" points=\"\n",
       "  2013.74,191.244 2157.74,191.244 \n",
       "  \"/>\n",
       "<path clip-path=\"url(#clip690)\" d=\"M 0 0 M2195.58 210.931 Q2193.77 215.561 2192.06 216.973 Q2190.35 218.385 2187.48 218.385 L2184.08 218.385 L2184.08 214.82 L2186.58 214.82 Q2188.33 214.82 2189.31 213.987 Q2190.28 213.154 2191.46 210.052 L2192.22 208.107 L2181.74 182.598 L2186.25 182.598 L2194.35 202.876 L2202.46 182.598 L2206.97 182.598 L2195.58 210.931 Z\" fill=\"#000000\" fill-rule=\"evenodd\" fill-opacity=\"1\" /><path clip-path=\"url(#clip690)\" d=\"M 0 0 M2212.85 204.589 L2220.49 204.589 L2220.49 178.223 L2212.18 179.89 L2212.18 175.631 L2220.44 173.964 L2225.12 173.964 L2225.12 204.589 L2232.76 204.589 L2232.76 208.524 L2212.85 208.524 L2212.85 204.589 Z\" fill=\"#000000\" fill-rule=\"evenodd\" fill-opacity=\"1\" /><polyline clip-path=\"url(#clip690)\" style=\"stroke:#e26f46; stroke-width:4; stroke-opacity:1; fill:none\" points=\"\n",
       "  2013.74,251.724 2157.74,251.724 \n",
       "  \"/>\n",
       "<path clip-path=\"url(#clip690)\" d=\"M 0 0 M2195.58 271.411 Q2193.77 276.041 2192.06 277.453 Q2190.35 278.865 2187.48 278.865 L2184.08 278.865 L2184.08 275.3 L2186.58 275.3 Q2188.33 275.3 2189.31 274.467 Q2190.28 273.634 2191.46 270.532 L2192.22 268.587 L2181.74 243.078 L2186.25 243.078 L2194.35 263.356 L2202.46 243.078 L2206.97 243.078 L2195.58 271.411 Z\" fill=\"#000000\" fill-rule=\"evenodd\" fill-opacity=\"1\" /><path clip-path=\"url(#clip690)\" d=\"M 0 0 M2216.07 265.069 L2232.39 265.069 L2232.39 269.004 L2210.44 269.004 L2210.44 265.069 Q2213.1 262.314 2217.69 257.685 Q2222.29 253.032 2223.47 251.689 Q2225.72 249.166 2226.6 247.43 Q2227.5 245.671 2227.5 243.981 Q2227.5 241.226 2225.56 239.49 Q2223.64 237.754 2220.53 237.754 Q2218.33 237.754 2215.88 238.518 Q2213.45 239.282 2210.67 240.833 L2210.67 236.111 Q2213.5 234.976 2215.95 234.398 Q2218.4 233.819 2220.44 233.819 Q2225.81 233.819 2229.01 236.504 Q2232.2 239.189 2232.2 243.68 Q2232.2 245.81 2231.39 247.731 Q2230.6 249.629 2228.5 252.222 Q2227.92 252.893 2224.82 256.111 Q2221.71 259.305 2216.07 265.069 Z\" fill=\"#000000\" fill-rule=\"evenodd\" fill-opacity=\"1\" /></svg>\n"
      ]
     },
     "execution_count": 209,
     "metadata": {},
     "output_type": "execute_result"
    }
   ],
   "source": [
    "#command for adding new line in plot or graphs\n",
    "plot!(x,z)"
   ]
  },
  {
   "cell_type": "code",
   "execution_count": 210,
   "metadata": {},
   "outputs": [
    {
     "data": {
      "image/svg+xml": [
       "<?xml version=\"1.0\" encoding=\"utf-8\"?>\n",
       "<svg xmlns=\"http://www.w3.org/2000/svg\" xmlns:xlink=\"http://www.w3.org/1999/xlink\" width=\"600\" height=\"400\" viewBox=\"0 0 2400 1600\">\n",
       "<defs>\n",
       "  <clipPath id=\"clip730\">\n",
       "    <rect x=\"0\" y=\"0\" width=\"2400\" height=\"1600\"/>\n",
       "  </clipPath>\n",
       "</defs>\n",
       "<path clip-path=\"url(#clip730)\" d=\"\n",
       "M0 1600 L2400 1600 L2400 0 L0 0  Z\n",
       "  \" fill=\"#ffffff\" fill-rule=\"evenodd\" fill-opacity=\"1\"/>\n",
       "<defs>\n",
       "  <clipPath id=\"clip731\">\n",
       "    <rect x=\"480\" y=\"0\" width=\"1681\" height=\"1600\"/>\n",
       "  </clipPath>\n",
       "</defs>\n",
       "<path clip-path=\"url(#clip730)\" d=\"\n",
       "M148.334 1486.45 L2352.76 1486.45 L2352.76 47.2441 L148.334 47.2441  Z\n",
       "  \" fill=\"#ffffff\" fill-rule=\"evenodd\" fill-opacity=\"1\"/>\n",
       "<defs>\n",
       "  <clipPath id=\"clip732\">\n",
       "    <rect x=\"148\" y=\"47\" width=\"2205\" height=\"1440\"/>\n",
       "  </clipPath>\n",
       "</defs>\n",
       "<polyline clip-path=\"url(#clip732)\" style=\"stroke:#000000; stroke-width:2; stroke-opacity:0.1; fill:none\" points=\"\n",
       "  441.795,1486.45 441.795,47.2441 \n",
       "  \"/>\n",
       "<polyline clip-path=\"url(#clip732)\" style=\"stroke:#000000; stroke-width:2; stroke-opacity:0.1; fill:none\" points=\"\n",
       "  903.938,1486.45 903.938,47.2441 \n",
       "  \"/>\n",
       "<polyline clip-path=\"url(#clip732)\" style=\"stroke:#000000; stroke-width:2; stroke-opacity:0.1; fill:none\" points=\"\n",
       "  1366.08,1486.45 1366.08,47.2441 \n",
       "  \"/>\n",
       "<polyline clip-path=\"url(#clip732)\" style=\"stroke:#000000; stroke-width:2; stroke-opacity:0.1; fill:none\" points=\"\n",
       "  1828.22,1486.45 1828.22,47.2441 \n",
       "  \"/>\n",
       "<polyline clip-path=\"url(#clip732)\" style=\"stroke:#000000; stroke-width:2; stroke-opacity:0.1; fill:none\" points=\"\n",
       "  2290.37,1486.45 2290.37,47.2441 \n",
       "  \"/>\n",
       "<polyline clip-path=\"url(#clip732)\" style=\"stroke:#000000; stroke-width:2; stroke-opacity:0.1; fill:none\" points=\"\n",
       "  148.334,1297 2352.76,1297 \n",
       "  \"/>\n",
       "<polyline clip-path=\"url(#clip732)\" style=\"stroke:#000000; stroke-width:2; stroke-opacity:0.1; fill:none\" points=\"\n",
       "  148.334,933.713 2352.76,933.713 \n",
       "  \"/>\n",
       "<polyline clip-path=\"url(#clip732)\" style=\"stroke:#000000; stroke-width:2; stroke-opacity:0.1; fill:none\" points=\"\n",
       "  148.334,570.426 2352.76,570.426 \n",
       "  \"/>\n",
       "<polyline clip-path=\"url(#clip732)\" style=\"stroke:#000000; stroke-width:2; stroke-opacity:0.1; fill:none\" points=\"\n",
       "  148.334,207.138 2352.76,207.138 \n",
       "  \"/>\n",
       "<polyline clip-path=\"url(#clip730)\" style=\"stroke:#000000; stroke-width:4; stroke-opacity:1; fill:none\" points=\"\n",
       "  148.334,1486.45 2352.76,1486.45 \n",
       "  \"/>\n",
       "<polyline clip-path=\"url(#clip730)\" style=\"stroke:#000000; stroke-width:4; stroke-opacity:1; fill:none\" points=\"\n",
       "  148.334,1486.45 148.334,47.2441 \n",
       "  \"/>\n",
       "<polyline clip-path=\"url(#clip730)\" style=\"stroke:#000000; stroke-width:4; stroke-opacity:1; fill:none\" points=\"\n",
       "  441.795,1486.45 441.795,1469.18 \n",
       "  \"/>\n",
       "<polyline clip-path=\"url(#clip730)\" style=\"stroke:#000000; stroke-width:4; stroke-opacity:1; fill:none\" points=\"\n",
       "  903.938,1486.45 903.938,1469.18 \n",
       "  \"/>\n",
       "<polyline clip-path=\"url(#clip730)\" style=\"stroke:#000000; stroke-width:4; stroke-opacity:1; fill:none\" points=\"\n",
       "  1366.08,1486.45 1366.08,1469.18 \n",
       "  \"/>\n",
       "<polyline clip-path=\"url(#clip730)\" style=\"stroke:#000000; stroke-width:4; stroke-opacity:1; fill:none\" points=\"\n",
       "  1828.22,1486.45 1828.22,1469.18 \n",
       "  \"/>\n",
       "<polyline clip-path=\"url(#clip730)\" style=\"stroke:#000000; stroke-width:4; stroke-opacity:1; fill:none\" points=\"\n",
       "  2290.37,1486.45 2290.37,1469.18 \n",
       "  \"/>\n",
       "<polyline clip-path=\"url(#clip730)\" style=\"stroke:#000000; stroke-width:4; stroke-opacity:1; fill:none\" points=\"\n",
       "  148.334,1297 174.787,1297 \n",
       "  \"/>\n",
       "<polyline clip-path=\"url(#clip730)\" style=\"stroke:#000000; stroke-width:4; stroke-opacity:1; fill:none\" points=\"\n",
       "  148.334,933.713 174.787,933.713 \n",
       "  \"/>\n",
       "<polyline clip-path=\"url(#clip730)\" style=\"stroke:#000000; stroke-width:4; stroke-opacity:1; fill:none\" points=\"\n",
       "  148.334,570.426 174.787,570.426 \n",
       "  \"/>\n",
       "<polyline clip-path=\"url(#clip730)\" style=\"stroke:#000000; stroke-width:4; stroke-opacity:1; fill:none\" points=\"\n",
       "  148.334,207.138 174.787,207.138 \n",
       "  \"/>\n",
       "<path clip-path=\"url(#clip730)\" d=\"M 0 0 M436.448 1535.98 L452.767 1535.98 L452.767 1539.92 L430.823 1539.92 L430.823 1535.98 Q433.485 1533.23 438.068 1528.6 Q442.675 1523.95 443.855 1522.61 Q446.101 1520.08 446.98 1518.35 Q447.883 1516.59 447.883 1514.9 Q447.883 1512.14 445.939 1510.41 Q444.017 1508.67 440.915 1508.67 Q438.716 1508.67 436.263 1509.43 Q433.832 1510.2 431.054 1511.75 L431.054 1507.03 Q433.878 1505.89 436.332 1505.31 Q438.786 1504.73 440.823 1504.73 Q446.193 1504.73 449.388 1507.42 Q452.582 1510.11 452.582 1514.6 Q452.582 1516.73 451.772 1518.65 Q450.985 1520.54 448.878 1523.14 Q448.3 1523.81 445.198 1527.03 Q442.096 1530.22 436.448 1535.98 Z\" fill=\"#000000\" fill-rule=\"evenodd\" fill-opacity=\"1\" /><path clip-path=\"url(#clip730)\" d=\"M 0 0 M906.947 1509.43 L895.142 1527.88 L906.947 1527.88 L906.947 1509.43 M905.72 1505.36 L911.6 1505.36 L911.6 1527.88 L916.531 1527.88 L916.531 1531.77 L911.6 1531.77 L911.6 1539.92 L906.947 1539.92 L906.947 1531.77 L891.345 1531.77 L891.345 1527.26 L905.72 1505.36 Z\" fill=\"#000000\" fill-rule=\"evenodd\" fill-opacity=\"1\" /><path clip-path=\"url(#clip730)\" d=\"M 0 0 M1366.49 1520.78 Q1363.34 1520.78 1361.49 1522.93 Q1359.66 1525.08 1359.66 1528.83 Q1359.66 1532.56 1361.49 1534.73 Q1363.34 1536.89 1366.49 1536.89 Q1369.63 1536.89 1371.46 1534.73 Q1373.31 1532.56 1373.31 1528.83 Q1373.31 1525.08 1371.46 1522.93 Q1369.63 1520.78 1366.49 1520.78 M1375.77 1506.12 L1375.77 1510.38 Q1374.01 1509.55 1372.2 1509.11 Q1370.42 1508.67 1368.66 1508.67 Q1364.03 1508.67 1361.58 1511.8 Q1359.15 1514.92 1358.8 1521.24 Q1360.17 1519.23 1362.23 1518.16 Q1364.29 1517.07 1366.76 1517.07 Q1371.97 1517.07 1374.98 1520.24 Q1378.01 1523.39 1378.01 1528.83 Q1378.01 1534.16 1374.87 1537.37 Q1371.72 1540.59 1366.49 1540.59 Q1360.49 1540.59 1357.32 1536.01 Q1354.15 1531.4 1354.15 1522.67 Q1354.15 1514.48 1358.04 1509.62 Q1361.93 1504.73 1368.48 1504.73 Q1370.24 1504.73 1372.02 1505.08 Q1373.82 1505.43 1375.77 1506.12 Z\" fill=\"#000000\" fill-rule=\"evenodd\" fill-opacity=\"1\" /><path clip-path=\"url(#clip730)\" d=\"M 0 0 M1828.22 1523.51 Q1824.89 1523.51 1822.97 1525.29 Q1821.07 1527.07 1821.07 1530.2 Q1821.07 1533.32 1822.97 1535.11 Q1824.89 1536.89 1828.22 1536.89 Q1831.56 1536.89 1833.48 1535.11 Q1835.4 1533.3 1835.4 1530.2 Q1835.4 1527.07 1833.48 1525.29 Q1831.58 1523.51 1828.22 1523.51 M1823.55 1521.52 Q1820.54 1520.78 1818.85 1518.72 Q1817.18 1516.66 1817.18 1513.69 Q1817.18 1509.55 1820.12 1507.14 Q1823.08 1504.73 1828.22 1504.73 Q1833.39 1504.73 1836.33 1507.14 Q1839.27 1509.55 1839.27 1513.69 Q1839.27 1516.66 1837.58 1518.72 Q1835.91 1520.78 1832.92 1521.52 Q1836.3 1522.3 1838.18 1524.6 Q1840.08 1526.89 1840.08 1530.2 Q1840.08 1535.22 1837 1537.91 Q1833.94 1540.59 1828.22 1540.59 Q1822.51 1540.59 1819.43 1537.91 Q1816.37 1535.22 1816.37 1530.2 Q1816.37 1526.89 1818.27 1524.6 Q1820.17 1522.3 1823.55 1521.52 M1821.83 1514.13 Q1821.83 1516.82 1823.5 1518.32 Q1825.19 1519.83 1828.22 1519.83 Q1831.23 1519.83 1832.92 1518.32 Q1834.64 1516.82 1834.64 1514.13 Q1834.64 1511.45 1832.92 1509.94 Q1831.23 1508.44 1828.22 1508.44 Q1825.19 1508.44 1823.5 1509.94 Q1821.83 1511.45 1821.83 1514.13 Z\" fill=\"#000000\" fill-rule=\"evenodd\" fill-opacity=\"1\" /><path clip-path=\"url(#clip730)\" d=\"M 0 0 M2267.24 1535.98 L2274.88 1535.98 L2274.88 1509.62 L2266.57 1511.29 L2266.57 1507.03 L2274.83 1505.36 L2279.51 1505.36 L2279.51 1535.98 L2287.15 1535.98 L2287.15 1539.92 L2267.24 1539.92 L2267.24 1535.98 Z\" fill=\"#000000\" fill-rule=\"evenodd\" fill-opacity=\"1\" /><path clip-path=\"url(#clip730)\" d=\"M 0 0 M2302.22 1508.44 Q2298.61 1508.44 2296.78 1512 Q2294.97 1515.55 2294.97 1522.67 Q2294.97 1529.78 2296.78 1533.35 Q2298.61 1536.89 2302.22 1536.89 Q2305.85 1536.89 2307.66 1533.35 Q2309.49 1529.78 2309.49 1522.67 Q2309.49 1515.55 2307.66 1512 Q2305.85 1508.44 2302.22 1508.44 M2302.22 1504.73 Q2308.03 1504.73 2311.08 1509.34 Q2314.16 1513.92 2314.16 1522.67 Q2314.16 1531.4 2311.08 1536.01 Q2308.03 1540.59 2302.22 1540.59 Q2296.41 1540.59 2293.33 1536.01 Q2290.27 1531.4 2290.27 1522.67 Q2290.27 1513.92 2293.33 1509.34 Q2296.41 1504.73 2302.22 1504.73 Z\" fill=\"#000000\" fill-rule=\"evenodd\" fill-opacity=\"1\" /><path clip-path=\"url(#clip730)\" d=\"M 0 0 M77.0198 1282.8 Q73.4087 1282.8 71.58 1286.36 Q69.7745 1289.91 69.7745 1297.04 Q69.7745 1304.14 71.58 1307.71 Q73.4087 1311.25 77.0198 1311.25 Q80.6541 1311.25 82.4596 1307.71 Q84.2883 1304.14 84.2883 1297.04 Q84.2883 1289.91 82.4596 1286.36 Q80.6541 1282.8 77.0198 1282.8 M77.0198 1279.1 Q82.83 1279.1 85.8855 1283.7 Q88.9642 1288.29 88.9642 1297.04 Q88.9642 1305.76 85.8855 1310.37 Q82.83 1314.95 77.0198 1314.95 Q71.2097 1314.95 68.131 1310.37 Q65.0754 1305.76 65.0754 1297.04 Q65.0754 1288.29 68.131 1283.7 Q71.2097 1279.1 77.0198 1279.1 Z\" fill=\"#000000\" fill-rule=\"evenodd\" fill-opacity=\"1\" /><path clip-path=\"url(#clip730)\" d=\"M 0 0 M94.0336 1308.4 L98.9179 1308.4 L98.9179 1314.28 L94.0336 1314.28 L94.0336 1308.4 Z\" fill=\"#000000\" fill-rule=\"evenodd\" fill-opacity=\"1\" /><path clip-path=\"url(#clip730)\" d=\"M 0 0 M108.015 1310.35 L124.334 1310.35 L124.334 1314.28 L102.39 1314.28 L102.39 1310.35 Q105.052 1307.59 109.635 1302.96 Q114.242 1298.31 115.422 1296.97 Q117.668 1294.44 118.547 1292.71 Q119.45 1290.95 119.45 1289.26 Q119.45 1286.5 117.506 1284.77 Q115.584 1283.03 112.483 1283.03 Q110.284 1283.03 107.83 1283.8 Q105.399 1284.56 102.622 1286.11 L102.622 1281.39 Q105.446 1280.25 107.899 1279.67 Q110.353 1279.1 112.39 1279.1 Q117.76 1279.1 120.955 1281.78 Q124.149 1284.47 124.149 1288.96 Q124.149 1291.09 123.339 1293.01 Q122.552 1294.91 120.446 1297.5 Q119.867 1298.17 116.765 1301.39 Q113.663 1304.58 108.015 1310.35 Z\" fill=\"#000000\" fill-rule=\"evenodd\" fill-opacity=\"1\" /><path clip-path=\"url(#clip730)\" d=\"M 0 0 M74.9365 919.512 Q71.3254 919.512 69.4967 923.077 Q67.6912 926.619 67.6912 933.748 Q67.6912 940.855 69.4967 944.419 Q71.3254 947.961 74.9365 947.961 Q78.5707 947.961 80.3763 944.419 Q82.205 940.855 82.205 933.748 Q82.205 926.619 80.3763 923.077 Q78.5707 919.512 74.9365 919.512 M74.9365 915.808 Q80.7467 915.808 83.8022 920.415 Q86.8809 924.998 86.8809 933.748 Q86.8809 942.475 83.8022 947.081 Q80.7467 951.665 74.9365 951.665 Q69.1264 951.665 66.0477 947.081 Q62.9921 942.475 62.9921 933.748 Q62.9921 924.998 66.0477 920.415 Q69.1264 915.808 74.9365 915.808 Z\" fill=\"#000000\" fill-rule=\"evenodd\" fill-opacity=\"1\" /><path clip-path=\"url(#clip730)\" d=\"M 0 0 M91.9503 945.114 L96.8345 945.114 L96.8345 950.993 L91.9503 950.993 L91.9503 945.114 Z\" fill=\"#000000\" fill-rule=\"evenodd\" fill-opacity=\"1\" /><path clip-path=\"url(#clip730)\" d=\"M 0 0 M114.751 920.507 L102.946 938.956 L114.751 938.956 L114.751 920.507 M113.524 916.433 L119.404 916.433 L119.404 938.956 L124.334 938.956 L124.334 942.845 L119.404 942.845 L119.404 950.993 L114.751 950.993 L114.751 942.845 L99.1493 942.845 L99.1493 938.331 L113.524 916.433 Z\" fill=\"#000000\" fill-rule=\"evenodd\" fill-opacity=\"1\" /><path clip-path=\"url(#clip730)\" d=\"M 0 0 M75.2606 556.225 Q71.6495 556.225 69.8208 559.789 Q68.0152 563.331 68.0152 570.461 Q68.0152 577.567 69.8208 581.132 Q71.6495 584.673 75.2606 584.673 Q78.8948 584.673 80.7004 581.132 Q82.5291 577.567 82.5291 570.461 Q82.5291 563.331 80.7004 559.789 Q78.8948 556.225 75.2606 556.225 M75.2606 552.521 Q81.0707 552.521 84.1263 557.127 Q87.205 561.711 87.205 570.461 Q87.205 579.187 84.1263 583.794 Q81.0707 588.377 75.2606 588.377 Q69.4504 588.377 66.3717 583.794 Q63.3162 579.187 63.3162 570.461 Q63.3162 561.711 66.3717 557.127 Q69.4504 552.521 75.2606 552.521 Z\" fill=\"#000000\" fill-rule=\"evenodd\" fill-opacity=\"1\" /><path clip-path=\"url(#clip730)\" d=\"M 0 0 M92.2744 581.826 L97.1586 581.826 L97.1586 587.706 L92.2744 587.706 L92.2744 581.826 Z\" fill=\"#000000\" fill-rule=\"evenodd\" fill-opacity=\"1\" /><path clip-path=\"url(#clip730)\" d=\"M 0 0 M112.807 568.562 Q109.659 568.562 107.807 570.715 Q105.978 572.868 105.978 576.618 Q105.978 580.345 107.807 582.521 Q109.659 584.673 112.807 584.673 Q115.955 584.673 117.783 582.521 Q119.635 580.345 119.635 576.618 Q119.635 572.868 117.783 570.715 Q115.955 568.562 112.807 568.562 M122.089 553.91 L122.089 558.169 Q120.33 557.336 118.524 556.896 Q116.742 556.456 114.983 556.456 Q110.353 556.456 107.899 559.581 Q105.469 562.706 105.122 569.025 Q106.487 567.012 108.547 565.947 Q110.608 564.859 113.084 564.859 Q118.293 564.859 121.302 568.03 Q124.334 571.178 124.334 576.618 Q124.334 581.942 121.186 585.16 Q118.038 588.377 112.807 588.377 Q106.811 588.377 103.64 583.794 Q100.469 579.187 100.469 570.461 Q100.469 562.266 104.358 557.405 Q108.247 552.521 114.797 552.521 Q116.557 552.521 118.339 552.868 Q120.145 553.215 122.089 553.91 Z\" fill=\"#000000\" fill-rule=\"evenodd\" fill-opacity=\"1\" /><path clip-path=\"url(#clip730)\" d=\"M 0 0 M75.5152 192.937 Q71.9041 192.937 70.0754 196.502 Q68.2699 200.043 68.2699 207.173 Q68.2699 214.279 70.0754 217.844 Q71.9041 221.386 75.5152 221.386 Q79.1494 221.386 80.955 217.844 Q82.7837 214.279 82.7837 207.173 Q82.7837 200.043 80.955 196.502 Q79.1494 192.937 75.5152 192.937 M75.5152 189.233 Q81.3254 189.233 84.3809 193.84 Q87.4596 198.423 87.4596 207.173 Q87.4596 215.9 84.3809 220.506 Q81.3254 225.09 75.5152 225.09 Q69.7051 225.09 66.6264 220.506 Q63.5708 215.9 63.5708 207.173 Q63.5708 198.423 66.6264 193.84 Q69.7051 189.233 75.5152 189.233 Z\" fill=\"#000000\" fill-rule=\"evenodd\" fill-opacity=\"1\" /><path clip-path=\"url(#clip730)\" d=\"M 0 0 M92.529 218.539 L97.4132 218.539 L97.4132 224.418 L92.529 224.418 L92.529 218.539 Z\" fill=\"#000000\" fill-rule=\"evenodd\" fill-opacity=\"1\" /><path clip-path=\"url(#clip730)\" d=\"M 0 0 M112.483 208.006 Q109.149 208.006 107.228 209.789 Q105.33 211.571 105.33 214.696 Q105.33 217.821 107.228 219.603 Q109.149 221.386 112.483 221.386 Q115.816 221.386 117.737 219.603 Q119.658 217.798 119.658 214.696 Q119.658 211.571 117.737 209.789 Q115.839 208.006 112.483 208.006 M107.807 206.016 Q104.797 205.275 103.108 203.215 Q101.441 201.155 101.441 198.192 Q101.441 194.048 104.381 191.641 Q107.344 189.233 112.483 189.233 Q117.645 189.233 120.584 191.641 Q123.524 194.048 123.524 198.192 Q123.524 201.155 121.834 203.215 Q120.168 205.275 117.182 206.016 Q120.561 206.803 122.436 209.094 Q124.334 211.386 124.334 214.696 Q124.334 219.719 121.256 222.404 Q118.2 225.09 112.483 225.09 Q106.765 225.09 103.686 222.404 Q100.631 219.719 100.631 214.696 Q100.631 211.386 102.529 209.094 Q104.427 206.803 107.807 206.016 M106.094 198.631 Q106.094 201.317 107.76 202.821 Q109.45 204.326 112.483 204.326 Q115.492 204.326 117.182 202.821 Q118.895 201.317 118.895 198.631 Q118.895 195.946 117.182 194.442 Q115.492 192.937 112.483 192.937 Q109.45 192.937 107.76 194.442 Q106.094 195.946 106.094 198.631 Z\" fill=\"#000000\" fill-rule=\"evenodd\" fill-opacity=\"1\" /><polyline clip-path=\"url(#clip732)\" style=\"stroke:#009af9; stroke-width:4; stroke-opacity:1; fill:none\" points=\"\n",
       "  210.724,1356.35 441.795,696.744 672.867,514.881 903.938,944.323 1135.01,1445.72 1366.08,92.8954 1597.15,588.243 1828.22,958.756 2059.3,87.9763 2290.37,971.572 \n",
       "  \n",
       "  \"/>\n",
       "<polyline clip-path=\"url(#clip732)\" style=\"stroke:#e26f46; stroke-width:4; stroke-opacity:1; fill:none\" points=\"\n",
       "  210.724,380.22 441.795,1290.76 672.867,1015.48 903.938,477.203 1135.01,1316.49 1366.08,359.865 1597.15,318.42 1828.22,634.564 2059.3,857.173 2290.37,425.336 \n",
       "  \n",
       "  \"/>\n",
       "<path clip-path=\"url(#clip730)\" d=\"\n",
       "M1989.74 312.204 L2280.76 312.204 L2280.76 130.764 L1989.74 130.764  Z\n",
       "  \" fill=\"#ffffff\" fill-rule=\"evenodd\" fill-opacity=\"1\"/>\n",
       "<polyline clip-path=\"url(#clip730)\" style=\"stroke:#000000; stroke-width:4; stroke-opacity:1; fill:none\" points=\"\n",
       "  1989.74,312.204 2280.76,312.204 2280.76,130.764 1989.74,130.764 1989.74,312.204 \n",
       "  \"/>\n",
       "<polyline clip-path=\"url(#clip730)\" style=\"stroke:#009af9; stroke-width:4; stroke-opacity:1; fill:none\" points=\"\n",
       "  2013.74,191.244 2157.74,191.244 \n",
       "  \"/>\n",
       "<path clip-path=\"url(#clip730)\" d=\"M 0 0 M2195.58 210.931 Q2193.77 215.561 2192.06 216.973 Q2190.35 218.385 2187.48 218.385 L2184.08 218.385 L2184.08 214.82 L2186.58 214.82 Q2188.33 214.82 2189.31 213.987 Q2190.28 213.154 2191.46 210.052 L2192.22 208.107 L2181.74 182.598 L2186.25 182.598 L2194.35 202.876 L2202.46 182.598 L2206.97 182.598 L2195.58 210.931 Z\" fill=\"#000000\" fill-rule=\"evenodd\" fill-opacity=\"1\" /><path clip-path=\"url(#clip730)\" d=\"M 0 0 M2212.85 204.589 L2220.49 204.589 L2220.49 178.223 L2212.18 179.89 L2212.18 175.631 L2220.44 173.964 L2225.12 173.964 L2225.12 204.589 L2232.76 204.589 L2232.76 208.524 L2212.85 208.524 L2212.85 204.589 Z\" fill=\"#000000\" fill-rule=\"evenodd\" fill-opacity=\"1\" /><polyline clip-path=\"url(#clip730)\" style=\"stroke:#e26f46; stroke-width:4; stroke-opacity:1; fill:none\" points=\"\n",
       "  2013.74,251.724 2157.74,251.724 \n",
       "  \"/>\n",
       "<path clip-path=\"url(#clip730)\" d=\"M 0 0 M2195.58 271.411 Q2193.77 276.041 2192.06 277.453 Q2190.35 278.865 2187.48 278.865 L2184.08 278.865 L2184.08 275.3 L2186.58 275.3 Q2188.33 275.3 2189.31 274.467 Q2190.28 273.634 2191.46 270.532 L2192.22 268.587 L2181.74 243.078 L2186.25 243.078 L2194.35 263.356 L2202.46 243.078 L2206.97 243.078 L2195.58 271.411 Z\" fill=\"#000000\" fill-rule=\"evenodd\" fill-opacity=\"1\" /><path clip-path=\"url(#clip730)\" d=\"M 0 0 M2216.07 265.069 L2232.39 265.069 L2232.39 269.004 L2210.44 269.004 L2210.44 265.069 Q2213.1 262.314 2217.69 257.685 Q2222.29 253.032 2223.47 251.689 Q2225.72 249.166 2226.6 247.43 Q2227.5 245.671 2227.5 243.981 Q2227.5 241.226 2225.56 239.49 Q2223.64 237.754 2220.53 237.754 Q2218.33 237.754 2215.88 238.518 Q2213.45 239.282 2210.67 240.833 L2210.67 236.111 Q2213.5 234.976 2215.95 234.398 Q2218.4 233.819 2220.44 233.819 Q2225.81 233.819 2229.01 236.504 Q2232.2 239.189 2232.2 243.68 Q2232.2 245.81 2231.39 247.731 Q2230.6 249.629 2228.5 252.222 Q2227.92 252.893 2224.82 256.111 Q2221.71 259.305 2216.07 265.069 Z\" fill=\"#000000\" fill-rule=\"evenodd\" fill-opacity=\"1\" /></svg>\n"
      ]
     },
     "execution_count": 210,
     "metadata": {},
     "output_type": "execute_result"
    }
   ],
   "source": [
    "# another way for adding a new line in (graph)\n",
    "p = plot(x,y)\n",
    "plot!(p,x,z)"
   ]
  },
  {
   "cell_type": "code",
   "execution_count": 211,
   "metadata": {},
   "outputs": [
    {
     "data": {
      "image/svg+xml": [
       "<?xml version=\"1.0\" encoding=\"utf-8\"?>\n",
       "<svg xmlns=\"http://www.w3.org/2000/svg\" xmlns:xlink=\"http://www.w3.org/1999/xlink\" width=\"600\" height=\"400\" viewBox=\"0 0 2400 1600\">\n",
       "<defs>\n",
       "  <clipPath id=\"clip770\">\n",
       "    <rect x=\"0\" y=\"0\" width=\"2400\" height=\"1600\"/>\n",
       "  </clipPath>\n",
       "</defs>\n",
       "<path clip-path=\"url(#clip770)\" d=\"\n",
       "M0 1600 L2400 1600 L2400 0 L0 0  Z\n",
       "  \" fill=\"#ffffff\" fill-rule=\"evenodd\" fill-opacity=\"1\"/>\n",
       "<defs>\n",
       "  <clipPath id=\"clip771\">\n",
       "    <rect x=\"480\" y=\"0\" width=\"1681\" height=\"1600\"/>\n",
       "  </clipPath>\n",
       "</defs>\n",
       "<path clip-path=\"url(#clip770)\" d=\"\n",
       "M148.334 1486.45 L2352.76 1486.45 L2352.76 123.472 L148.334 123.472  Z\n",
       "  \" fill=\"#ffffff\" fill-rule=\"evenodd\" fill-opacity=\"1\"/>\n",
       "<defs>\n",
       "  <clipPath id=\"clip772\">\n",
       "    <rect x=\"148\" y=\"123\" width=\"2205\" height=\"1364\"/>\n",
       "  </clipPath>\n",
       "</defs>\n",
       "<polyline clip-path=\"url(#clip772)\" style=\"stroke:#000000; stroke-width:2; stroke-opacity:0.1; fill:none\" points=\"\n",
       "  441.795,1486.45 441.795,123.472 \n",
       "  \"/>\n",
       "<polyline clip-path=\"url(#clip772)\" style=\"stroke:#000000; stroke-width:2; stroke-opacity:0.1; fill:none\" points=\"\n",
       "  903.938,1486.45 903.938,123.472 \n",
       "  \"/>\n",
       "<polyline clip-path=\"url(#clip772)\" style=\"stroke:#000000; stroke-width:2; stroke-opacity:0.1; fill:none\" points=\"\n",
       "  1366.08,1486.45 1366.08,123.472 \n",
       "  \"/>\n",
       "<polyline clip-path=\"url(#clip772)\" style=\"stroke:#000000; stroke-width:2; stroke-opacity:0.1; fill:none\" points=\"\n",
       "  1828.22,1486.45 1828.22,123.472 \n",
       "  \"/>\n",
       "<polyline clip-path=\"url(#clip772)\" style=\"stroke:#000000; stroke-width:2; stroke-opacity:0.1; fill:none\" points=\"\n",
       "  2290.37,1486.45 2290.37,123.472 \n",
       "  \"/>\n",
       "<polyline clip-path=\"url(#clip772)\" style=\"stroke:#000000; stroke-width:2; stroke-opacity:0.1; fill:none\" points=\"\n",
       "  148.334,1307.04 2352.76,1307.04 \n",
       "  \"/>\n",
       "<polyline clip-path=\"url(#clip772)\" style=\"stroke:#000000; stroke-width:2; stroke-opacity:0.1; fill:none\" points=\"\n",
       "  148.334,962.989 2352.76,962.989 \n",
       "  \"/>\n",
       "<polyline clip-path=\"url(#clip772)\" style=\"stroke:#000000; stroke-width:2; stroke-opacity:0.1; fill:none\" points=\"\n",
       "  148.334,618.943 2352.76,618.943 \n",
       "  \"/>\n",
       "<polyline clip-path=\"url(#clip772)\" style=\"stroke:#000000; stroke-width:2; stroke-opacity:0.1; fill:none\" points=\"\n",
       "  148.334,274.897 2352.76,274.897 \n",
       "  \"/>\n",
       "<polyline clip-path=\"url(#clip770)\" style=\"stroke:#000000; stroke-width:4; stroke-opacity:1; fill:none\" points=\"\n",
       "  148.334,1486.45 2352.76,1486.45 \n",
       "  \"/>\n",
       "<polyline clip-path=\"url(#clip770)\" style=\"stroke:#000000; stroke-width:4; stroke-opacity:1; fill:none\" points=\"\n",
       "  148.334,1486.45 148.334,123.472 \n",
       "  \"/>\n",
       "<polyline clip-path=\"url(#clip770)\" style=\"stroke:#000000; stroke-width:4; stroke-opacity:1; fill:none\" points=\"\n",
       "  441.795,1486.45 441.795,1470.09 \n",
       "  \"/>\n",
       "<polyline clip-path=\"url(#clip770)\" style=\"stroke:#000000; stroke-width:4; stroke-opacity:1; fill:none\" points=\"\n",
       "  903.938,1486.45 903.938,1470.09 \n",
       "  \"/>\n",
       "<polyline clip-path=\"url(#clip770)\" style=\"stroke:#000000; stroke-width:4; stroke-opacity:1; fill:none\" points=\"\n",
       "  1366.08,1486.45 1366.08,1470.09 \n",
       "  \"/>\n",
       "<polyline clip-path=\"url(#clip770)\" style=\"stroke:#000000; stroke-width:4; stroke-opacity:1; fill:none\" points=\"\n",
       "  1828.22,1486.45 1828.22,1470.09 \n",
       "  \"/>\n",
       "<polyline clip-path=\"url(#clip770)\" style=\"stroke:#000000; stroke-width:4; stroke-opacity:1; fill:none\" points=\"\n",
       "  2290.37,1486.45 2290.37,1470.09 \n",
       "  \"/>\n",
       "<polyline clip-path=\"url(#clip770)\" style=\"stroke:#000000; stroke-width:4; stroke-opacity:1; fill:none\" points=\"\n",
       "  148.334,1307.04 174.787,1307.04 \n",
       "  \"/>\n",
       "<polyline clip-path=\"url(#clip770)\" style=\"stroke:#000000; stroke-width:4; stroke-opacity:1; fill:none\" points=\"\n",
       "  148.334,962.989 174.787,962.989 \n",
       "  \"/>\n",
       "<polyline clip-path=\"url(#clip770)\" style=\"stroke:#000000; stroke-width:4; stroke-opacity:1; fill:none\" points=\"\n",
       "  148.334,618.943 174.787,618.943 \n",
       "  \"/>\n",
       "<polyline clip-path=\"url(#clip770)\" style=\"stroke:#000000; stroke-width:4; stroke-opacity:1; fill:none\" points=\"\n",
       "  148.334,274.897 174.787,274.897 \n",
       "  \"/>\n",
       "<path clip-path=\"url(#clip770)\" d=\"M 0 0 M436.448 1535.98 L452.767 1535.98 L452.767 1539.92 L430.823 1539.92 L430.823 1535.98 Q433.485 1533.23 438.068 1528.6 Q442.675 1523.95 443.855 1522.61 Q446.101 1520.08 446.98 1518.35 Q447.883 1516.59 447.883 1514.9 Q447.883 1512.14 445.939 1510.41 Q444.017 1508.67 440.915 1508.67 Q438.716 1508.67 436.263 1509.43 Q433.832 1510.2 431.054 1511.75 L431.054 1507.03 Q433.878 1505.89 436.332 1505.31 Q438.786 1504.73 440.823 1504.73 Q446.193 1504.73 449.388 1507.42 Q452.582 1510.11 452.582 1514.6 Q452.582 1516.73 451.772 1518.65 Q450.985 1520.54 448.878 1523.14 Q448.3 1523.81 445.198 1527.03 Q442.096 1530.22 436.448 1535.98 Z\" fill=\"#000000\" fill-rule=\"evenodd\" fill-opacity=\"1\" /><path clip-path=\"url(#clip770)\" d=\"M 0 0 M906.947 1509.43 L895.142 1527.88 L906.947 1527.88 L906.947 1509.43 M905.72 1505.36 L911.6 1505.36 L911.6 1527.88 L916.531 1527.88 L916.531 1531.77 L911.6 1531.77 L911.6 1539.92 L906.947 1539.92 L906.947 1531.77 L891.345 1531.77 L891.345 1527.26 L905.72 1505.36 Z\" fill=\"#000000\" fill-rule=\"evenodd\" fill-opacity=\"1\" /><path clip-path=\"url(#clip770)\" d=\"M 0 0 M1366.49 1520.78 Q1363.34 1520.78 1361.49 1522.93 Q1359.66 1525.08 1359.66 1528.83 Q1359.66 1532.56 1361.49 1534.73 Q1363.34 1536.89 1366.49 1536.89 Q1369.63 1536.89 1371.46 1534.73 Q1373.31 1532.56 1373.31 1528.83 Q1373.31 1525.08 1371.46 1522.93 Q1369.63 1520.78 1366.49 1520.78 M1375.77 1506.12 L1375.77 1510.38 Q1374.01 1509.55 1372.2 1509.11 Q1370.42 1508.67 1368.66 1508.67 Q1364.03 1508.67 1361.58 1511.8 Q1359.15 1514.92 1358.8 1521.24 Q1360.17 1519.23 1362.23 1518.16 Q1364.29 1517.07 1366.76 1517.07 Q1371.97 1517.07 1374.98 1520.24 Q1378.01 1523.39 1378.01 1528.83 Q1378.01 1534.16 1374.87 1537.37 Q1371.72 1540.59 1366.49 1540.59 Q1360.49 1540.59 1357.32 1536.01 Q1354.15 1531.4 1354.15 1522.67 Q1354.15 1514.48 1358.04 1509.62 Q1361.93 1504.73 1368.48 1504.73 Q1370.24 1504.73 1372.02 1505.08 Q1373.82 1505.43 1375.77 1506.12 Z\" fill=\"#000000\" fill-rule=\"evenodd\" fill-opacity=\"1\" /><path clip-path=\"url(#clip770)\" d=\"M 0 0 M1828.22 1523.51 Q1824.89 1523.51 1822.97 1525.29 Q1821.07 1527.07 1821.07 1530.2 Q1821.07 1533.32 1822.97 1535.11 Q1824.89 1536.89 1828.22 1536.89 Q1831.56 1536.89 1833.48 1535.11 Q1835.4 1533.3 1835.4 1530.2 Q1835.4 1527.07 1833.48 1525.29 Q1831.58 1523.51 1828.22 1523.51 M1823.55 1521.52 Q1820.54 1520.78 1818.85 1518.72 Q1817.18 1516.66 1817.18 1513.69 Q1817.18 1509.55 1820.12 1507.14 Q1823.08 1504.73 1828.22 1504.73 Q1833.39 1504.73 1836.33 1507.14 Q1839.27 1509.55 1839.27 1513.69 Q1839.27 1516.66 1837.58 1518.72 Q1835.91 1520.78 1832.92 1521.52 Q1836.3 1522.3 1838.18 1524.6 Q1840.08 1526.89 1840.08 1530.2 Q1840.08 1535.22 1837 1537.91 Q1833.94 1540.59 1828.22 1540.59 Q1822.51 1540.59 1819.43 1537.91 Q1816.37 1535.22 1816.37 1530.2 Q1816.37 1526.89 1818.27 1524.6 Q1820.17 1522.3 1823.55 1521.52 M1821.83 1514.13 Q1821.83 1516.82 1823.5 1518.32 Q1825.19 1519.83 1828.22 1519.83 Q1831.23 1519.83 1832.92 1518.32 Q1834.64 1516.82 1834.64 1514.13 Q1834.64 1511.45 1832.92 1509.94 Q1831.23 1508.44 1828.22 1508.44 Q1825.19 1508.44 1823.5 1509.94 Q1821.83 1511.45 1821.83 1514.13 Z\" fill=\"#000000\" fill-rule=\"evenodd\" fill-opacity=\"1\" /><path clip-path=\"url(#clip770)\" d=\"M 0 0 M2267.24 1535.98 L2274.88 1535.98 L2274.88 1509.62 L2266.57 1511.29 L2266.57 1507.03 L2274.83 1505.36 L2279.51 1505.36 L2279.51 1535.98 L2287.15 1535.98 L2287.15 1539.92 L2267.24 1539.92 L2267.24 1535.98 Z\" fill=\"#000000\" fill-rule=\"evenodd\" fill-opacity=\"1\" /><path clip-path=\"url(#clip770)\" d=\"M 0 0 M2302.22 1508.44 Q2298.61 1508.44 2296.78 1512 Q2294.97 1515.55 2294.97 1522.67 Q2294.97 1529.78 2296.78 1533.35 Q2298.61 1536.89 2302.22 1536.89 Q2305.85 1536.89 2307.66 1533.35 Q2309.49 1529.78 2309.49 1522.67 Q2309.49 1515.55 2307.66 1512 Q2305.85 1508.44 2302.22 1508.44 M2302.22 1504.73 Q2308.03 1504.73 2311.08 1509.34 Q2314.16 1513.92 2314.16 1522.67 Q2314.16 1531.4 2311.08 1536.01 Q2308.03 1540.59 2302.22 1540.59 Q2296.41 1540.59 2293.33 1536.01 Q2290.27 1531.4 2290.27 1522.67 Q2290.27 1513.92 2293.33 1509.34 Q2296.41 1504.73 2302.22 1504.73 Z\" fill=\"#000000\" fill-rule=\"evenodd\" fill-opacity=\"1\" /><path clip-path=\"url(#clip770)\" d=\"M 0 0 M77.0198 1292.83 Q73.4087 1292.83 71.58 1296.4 Q69.7745 1299.94 69.7745 1307.07 Q69.7745 1314.18 71.58 1317.74 Q73.4087 1321.28 77.0198 1321.28 Q80.6541 1321.28 82.4596 1317.74 Q84.2883 1314.18 84.2883 1307.07 Q84.2883 1299.94 82.4596 1296.4 Q80.6541 1292.83 77.0198 1292.83 M77.0198 1289.13 Q82.83 1289.13 85.8855 1293.74 Q88.9642 1298.32 88.9642 1307.07 Q88.9642 1315.8 85.8855 1320.4 Q82.83 1324.99 77.0198 1324.99 Q71.2097 1324.99 68.131 1320.4 Q65.0754 1315.8 65.0754 1307.07 Q65.0754 1298.32 68.131 1293.74 Q71.2097 1289.13 77.0198 1289.13 Z\" fill=\"#000000\" fill-rule=\"evenodd\" fill-opacity=\"1\" /><path clip-path=\"url(#clip770)\" d=\"M 0 0 M94.0336 1318.44 L98.9179 1318.44 L98.9179 1324.32 L94.0336 1324.32 L94.0336 1318.44 Z\" fill=\"#000000\" fill-rule=\"evenodd\" fill-opacity=\"1\" /><path clip-path=\"url(#clip770)\" d=\"M 0 0 M108.015 1320.38 L124.334 1320.38 L124.334 1324.32 L102.39 1324.32 L102.39 1320.38 Q105.052 1317.63 109.635 1313 Q114.242 1308.34 115.422 1307 Q117.668 1304.48 118.547 1302.74 Q119.45 1300.98 119.45 1299.29 Q119.45 1296.54 117.506 1294.8 Q115.584 1293.07 112.483 1293.07 Q110.284 1293.07 107.83 1293.83 Q105.399 1294.59 102.622 1296.14 L102.622 1291.42 Q105.446 1290.29 107.899 1289.71 Q110.353 1289.13 112.39 1289.13 Q117.76 1289.13 120.955 1291.82 Q124.149 1294.5 124.149 1298.99 Q124.149 1301.12 123.339 1303.04 Q122.552 1304.94 120.446 1307.53 Q119.867 1308.2 116.765 1311.42 Q113.663 1314.62 108.015 1320.38 Z\" fill=\"#000000\" fill-rule=\"evenodd\" fill-opacity=\"1\" /><path clip-path=\"url(#clip770)\" d=\"M 0 0 M74.9365 948.788 Q71.3254 948.788 69.4967 952.353 Q67.6912 955.894 67.6912 963.024 Q67.6912 970.13 69.4967 973.695 Q71.3254 977.237 74.9365 977.237 Q78.5707 977.237 80.3763 973.695 Q82.205 970.13 82.205 963.024 Q82.205 955.894 80.3763 952.353 Q78.5707 948.788 74.9365 948.788 M74.9365 945.084 Q80.7467 945.084 83.8022 949.691 Q86.8809 954.274 86.8809 963.024 Q86.8809 971.751 83.8022 976.357 Q80.7467 980.941 74.9365 980.941 Q69.1264 980.941 66.0477 976.357 Q62.9921 971.751 62.9921 963.024 Q62.9921 954.274 66.0477 949.691 Q69.1264 945.084 74.9365 945.084 Z\" fill=\"#000000\" fill-rule=\"evenodd\" fill-opacity=\"1\" /><path clip-path=\"url(#clip770)\" d=\"M 0 0 M91.9503 974.39 L96.8345 974.39 L96.8345 980.269 L91.9503 980.269 L91.9503 974.39 Z\" fill=\"#000000\" fill-rule=\"evenodd\" fill-opacity=\"1\" /><path clip-path=\"url(#clip770)\" d=\"M 0 0 M114.751 949.783 L102.946 968.232 L114.751 968.232 L114.751 949.783 M113.524 945.709 L119.404 945.709 L119.404 968.232 L124.334 968.232 L124.334 972.121 L119.404 972.121 L119.404 980.269 L114.751 980.269 L114.751 972.121 L99.1493 972.121 L99.1493 967.607 L113.524 945.709 Z\" fill=\"#000000\" fill-rule=\"evenodd\" fill-opacity=\"1\" /><path clip-path=\"url(#clip770)\" d=\"M 0 0 M75.2606 604.742 Q71.6495 604.742 69.8208 608.307 Q68.0152 611.848 68.0152 618.978 Q68.0152 626.085 69.8208 629.649 Q71.6495 633.191 75.2606 633.191 Q78.8948 633.191 80.7004 629.649 Q82.5291 626.085 82.5291 618.978 Q82.5291 611.848 80.7004 608.307 Q78.8948 604.742 75.2606 604.742 M75.2606 601.038 Q81.0707 601.038 84.1263 605.645 Q87.205 610.228 87.205 618.978 Q87.205 627.705 84.1263 632.311 Q81.0707 636.895 75.2606 636.895 Q69.4504 636.895 66.3717 632.311 Q63.3162 627.705 63.3162 618.978 Q63.3162 610.228 66.3717 605.645 Q69.4504 601.038 75.2606 601.038 Z\" fill=\"#000000\" fill-rule=\"evenodd\" fill-opacity=\"1\" /><path clip-path=\"url(#clip770)\" d=\"M 0 0 M92.2744 630.344 L97.1586 630.344 L97.1586 636.223 L92.2744 636.223 L92.2744 630.344 Z\" fill=\"#000000\" fill-rule=\"evenodd\" fill-opacity=\"1\" /><path clip-path=\"url(#clip770)\" d=\"M 0 0 M112.807 617.08 Q109.659 617.08 107.807 619.233 Q105.978 621.385 105.978 625.135 Q105.978 628.862 107.807 631.038 Q109.659 633.191 112.807 633.191 Q115.955 633.191 117.783 631.038 Q119.635 628.862 119.635 625.135 Q119.635 621.385 117.783 619.233 Q115.955 617.08 112.807 617.08 M122.089 602.427 L122.089 606.686 Q120.33 605.853 118.524 605.413 Q116.742 604.974 114.983 604.974 Q110.353 604.974 107.899 608.098 Q105.469 611.223 105.122 617.543 Q106.487 615.529 108.547 614.464 Q110.608 613.376 113.084 613.376 Q118.293 613.376 121.302 616.548 Q124.334 619.696 124.334 625.135 Q124.334 630.459 121.186 633.677 Q118.038 636.895 112.807 636.895 Q106.811 636.895 103.64 632.311 Q100.469 627.705 100.469 618.978 Q100.469 610.784 104.358 605.923 Q108.247 601.038 114.797 601.038 Q116.557 601.038 118.339 601.386 Q120.145 601.733 122.089 602.427 Z\" fill=\"#000000\" fill-rule=\"evenodd\" fill-opacity=\"1\" /><path clip-path=\"url(#clip770)\" d=\"M 0 0 M75.5152 260.696 Q71.9041 260.696 70.0754 264.261 Q68.2699 267.803 68.2699 274.932 Q68.2699 282.039 70.0754 285.603 Q71.9041 289.145 75.5152 289.145 Q79.1494 289.145 80.955 285.603 Q82.7837 282.039 82.7837 274.932 Q82.7837 267.803 80.955 264.261 Q79.1494 260.696 75.5152 260.696 M75.5152 256.992 Q81.3254 256.992 84.3809 261.599 Q87.4596 266.182 87.4596 274.932 Q87.4596 283.659 84.3809 288.265 Q81.3254 292.849 75.5152 292.849 Q69.7051 292.849 66.6264 288.265 Q63.5708 283.659 63.5708 274.932 Q63.5708 266.182 66.6264 261.599 Q69.7051 256.992 75.5152 256.992 Z\" fill=\"#000000\" fill-rule=\"evenodd\" fill-opacity=\"1\" /><path clip-path=\"url(#clip770)\" d=\"M 0 0 M92.529 286.298 L97.4132 286.298 L97.4132 292.177 L92.529 292.177 L92.529 286.298 Z\" fill=\"#000000\" fill-rule=\"evenodd\" fill-opacity=\"1\" /><path clip-path=\"url(#clip770)\" d=\"M 0 0 M112.483 275.766 Q109.149 275.766 107.228 277.548 Q105.33 279.33 105.33 282.455 Q105.33 285.58 107.228 287.363 Q109.149 289.145 112.483 289.145 Q115.816 289.145 117.737 287.363 Q119.658 285.557 119.658 282.455 Q119.658 279.33 117.737 277.548 Q115.839 275.766 112.483 275.766 M107.807 273.775 Q104.797 273.034 103.108 270.974 Q101.441 268.914 101.441 265.951 Q101.441 261.807 104.381 259.4 Q107.344 256.992 112.483 256.992 Q117.645 256.992 120.584 259.4 Q123.524 261.807 123.524 265.951 Q123.524 268.914 121.834 270.974 Q120.168 273.034 117.182 273.775 Q120.561 274.562 122.436 276.853 Q124.334 279.145 124.334 282.455 Q124.334 287.478 121.256 290.164 Q118.2 292.849 112.483 292.849 Q106.765 292.849 103.686 290.164 Q100.631 287.478 100.631 282.455 Q100.631 279.145 102.529 276.853 Q104.427 274.562 107.807 273.775 M106.094 266.391 Q106.094 269.076 107.76 270.58 Q109.45 272.085 112.483 272.085 Q115.492 272.085 117.182 270.58 Q118.895 269.076 118.895 266.391 Q118.895 263.705 117.182 262.201 Q115.492 260.696 112.483 260.696 Q109.45 260.696 107.76 262.201 Q106.094 263.705 106.094 266.391 Z\" fill=\"#000000\" fill-rule=\"evenodd\" fill-opacity=\"1\" /><path clip-path=\"url(#clip770)\" d=\"M 0 0 M847.338 17.6457 Q838.426 17.6457 833.16 24.2892 Q827.935 30.9327 827.935 42.3968 Q827.935 53.8203 833.16 60.4638 Q838.426 67.1073 847.338 67.1073 Q856.25 67.1073 861.436 60.4638 Q866.661 53.8203 866.661 42.3968 Q866.661 30.9327 861.436 24.2892 Q856.25 17.6457 847.338 17.6457 M847.338 11.0023 Q860.058 11.0023 867.674 19.5497 Q875.29 28.0566 875.29 42.3968 Q875.29 56.6965 867.674 65.2439 Q860.058 73.7508 847.338 73.7508 Q834.578 73.7508 826.922 65.2439 Q819.306 56.737 819.306 42.3968 Q819.306 28.0566 826.922 19.5497 Q834.578 11.0023 847.338 11.0023 Z\" fill=\"#000000\" fill-rule=\"evenodd\" fill-opacity=\"1\" /><path clip-path=\"url(#clip770)\" d=\"M 0 0 M920.822 45.1919 L920.822 72.576 L913.368 72.576 L913.368 45.4349 Q913.368 38.994 910.857 35.7938 Q908.345 32.5936 903.322 32.5936 Q897.286 32.5936 893.802 36.4419 Q890.318 40.2903 890.318 46.9338 L890.318 72.576 L882.824 72.576 L882.824 27.2059 L890.318 27.2059 L890.318 34.2544 Q892.992 30.163 896.597 28.1376 Q900.243 26.1121 904.983 26.1121 Q912.801 26.1121 916.811 30.9732 Q920.822 35.7938 920.822 45.1919 Z\" fill=\"#000000\" fill-rule=\"evenodd\" fill-opacity=\"1\" /><path clip-path=\"url(#clip770)\" d=\"M 0 0 M967.448 48.0275 L967.448 51.6733 L933.177 51.6733 Q933.663 59.3701 937.795 63.421 Q941.968 67.4314 949.381 67.4314 Q953.675 67.4314 957.685 66.3781 Q961.736 65.3249 965.706 63.2184 L965.706 70.267 Q961.695 71.9684 957.482 72.8596 Q953.27 73.7508 948.935 73.7508 Q938.079 73.7508 931.719 67.4314 Q925.399 61.1119 925.399 50.3365 Q925.399 39.1965 931.395 32.6746 Q937.431 26.1121 947.639 26.1121 Q956.794 26.1121 962.101 32.0264 Q967.448 37.9003 967.448 48.0275 M959.994 45.84 Q959.913 39.7232 956.551 36.0774 Q953.229 32.4315 947.72 32.4315 Q941.481 32.4315 937.714 35.9558 Q933.987 39.4801 933.42 45.8805 L959.994 45.84 Z\" fill=\"#000000\" fill-rule=\"evenodd\" fill-opacity=\"1\" /><path clip-path=\"url(#clip770)\" d=\"M 0 0 M1027.93 34.1734 Q1026.67 33.4443 1025.17 33.1202 Q1023.71 32.7556 1021.93 32.7556 Q1015.61 32.7556 1012.21 36.8875 Q1008.85 40.9789 1008.85 48.6757 L1008.85 72.576 L1001.35 72.576 L1001.35 27.2059 L1008.85 27.2059 L1008.85 34.2544 Q1011.2 30.1225 1014.96 28.1376 Q1018.73 26.1121 1024.12 26.1121 Q1024.89 26.1121 1025.82 26.2337 Q1026.75 26.3147 1027.89 26.5172 L1027.93 34.1734 Z\" fill=\"#000000\" fill-rule=\"evenodd\" fill-opacity=\"1\" /><path clip-path=\"url(#clip770)\" d=\"M 0 0 M1056.37 49.7694 Q1047.33 49.7694 1043.85 51.8354 Q1040.36 53.9013 1040.36 58.8839 Q1040.36 62.8538 1042.96 65.2034 Q1045.59 67.5124 1050.09 67.5124 Q1056.28 67.5124 1060.01 63.1374 Q1063.78 58.7219 1063.78 51.4303 L1063.78 49.7694 L1056.37 49.7694 M1071.23 46.6907 L1071.23 72.576 L1063.78 72.576 L1063.78 65.6895 Q1061.23 69.8214 1057.42 71.8063 Q1053.61 73.7508 1048.1 73.7508 Q1041.13 73.7508 1037 69.8619 Q1032.91 65.9325 1032.91 59.3701 Q1032.91 51.7138 1038.01 47.825 Q1043.16 43.9361 1053.33 43.9361 L1063.78 43.9361 L1063.78 43.2069 Q1063.78 38.0623 1060.38 35.2672 Q1057.01 32.4315 1050.9 32.4315 Q1047.01 32.4315 1043.32 33.3632 Q1039.63 34.295 1036.23 36.1584 L1036.23 29.2718 Q1040.32 27.692 1044.17 26.9223 Q1048.02 26.1121 1051.67 26.1121 Q1061.51 26.1121 1066.37 31.2163 Q1071.23 36.3204 1071.23 46.6907 Z\" fill=\"#000000\" fill-rule=\"evenodd\" fill-opacity=\"1\" /><path clip-path=\"url(#clip770)\" d=\"M 0 0 M1116.76 45.1919 L1116.76 72.576 L1109.31 72.576 L1109.31 45.4349 Q1109.31 38.994 1106.8 35.7938 Q1104.29 32.5936 1099.26 32.5936 Q1093.23 32.5936 1089.74 36.4419 Q1086.26 40.2903 1086.26 46.9338 L1086.26 72.576 L1078.77 72.576 L1078.77 27.2059 L1086.26 27.2059 L1086.26 34.2544 Q1088.93 30.163 1092.54 28.1376 Q1096.19 26.1121 1100.93 26.1121 Q1108.74 26.1121 1112.75 30.9732 Q1116.76 35.7938 1116.76 45.1919 Z\" fill=\"#000000\" fill-rule=\"evenodd\" fill-opacity=\"1\" /><path clip-path=\"url(#clip770)\" d=\"M 0 0 M1154.44 34.0924 L1154.44 9.54393 L1161.89 9.54393 L1161.89 72.576 L1154.44 72.576 L1154.44 65.7705 Q1152.09 69.8214 1148.48 71.8063 Q1144.92 73.7508 1139.89 73.7508 Q1131.67 73.7508 1126.49 67.1883 Q1121.34 60.6258 1121.34 49.9314 Q1121.34 39.2371 1126.49 32.6746 Q1131.67 26.1121 1139.89 26.1121 Q1144.92 26.1121 1148.48 28.0971 Q1152.09 30.0415 1154.44 34.0924 M1129.04 49.9314 Q1129.04 58.1548 1132.4 62.8538 Q1135.8 67.5124 1141.72 67.5124 Q1147.63 67.5124 1151.03 62.8538 Q1154.44 58.1548 1154.44 49.9314 Q1154.44 41.7081 1151.03 37.0496 Q1147.63 32.3505 1141.72 32.3505 Q1135.8 32.3505 1132.4 37.0496 Q1129.04 41.7081 1129.04 49.9314 Z\" fill=\"#000000\" fill-rule=\"evenodd\" fill-opacity=\"1\" /><path clip-path=\"url(#clip770)\" d=\"M 0 0 M1187.29 32.4315 Q1181.29 32.4315 1177.81 37.1306 Q1174.33 41.7891 1174.33 49.9314 Q1174.33 58.0738 1177.77 62.7728 Q1181.25 67.4314 1187.29 67.4314 Q1193.25 67.4314 1196.73 62.7323 Q1200.21 58.0333 1200.21 49.9314 Q1200.21 41.8701 1196.73 37.1711 Q1193.25 32.4315 1187.29 32.4315 M1187.29 26.1121 Q1197.01 26.1121 1202.56 32.4315 Q1208.11 38.7509 1208.11 49.9314 Q1208.11 61.0714 1202.56 67.4314 Q1197.01 73.7508 1187.29 73.7508 Q1177.53 73.7508 1171.98 67.4314 Q1166.47 61.0714 1166.47 49.9314 Q1166.47 38.7509 1171.98 32.4315 Q1177.53 26.1121 1187.29 26.1121 Z\" fill=\"#000000\" fill-rule=\"evenodd\" fill-opacity=\"1\" /><path clip-path=\"url(#clip770)\" d=\"M 0 0 M1251.25 35.9153 Q1254.05 30.8922 1257.94 28.5022 Q1261.83 26.1121 1267.09 26.1121 Q1274.18 26.1121 1278.03 31.0947 Q1281.88 36.0368 1281.88 45.1919 L1281.88 72.576 L1274.38 72.576 L1274.38 45.4349 Q1274.38 38.913 1272.08 35.7533 Q1269.77 32.5936 1265.03 32.5936 Q1259.23 32.5936 1255.87 36.4419 Q1252.51 40.2903 1252.51 46.9338 L1252.51 72.576 L1245.02 72.576 L1245.02 45.4349 Q1245.02 38.8725 1242.71 35.7533 Q1240.4 32.5936 1235.58 32.5936 Q1229.87 32.5936 1226.5 36.4824 Q1223.14 40.3308 1223.14 46.9338 L1223.14 72.576 L1215.65 72.576 L1215.65 27.2059 L1223.14 27.2059 L1223.14 34.2544 Q1225.69 30.082 1229.26 28.0971 Q1232.82 26.1121 1237.72 26.1121 Q1242.67 26.1121 1246.11 28.6237 Q1249.59 31.1352 1251.25 35.9153 Z\" fill=\"#000000\" fill-rule=\"evenodd\" fill-opacity=\"1\" /><path clip-path=\"url(#clip770)\" d=\"M 0 0 M1316.39 12.096 L1324.58 12.096 L1324.58 65.6895 L1354.03 65.6895 L1354.03 72.576 L1316.39 72.576 L1316.39 12.096 Z\" fill=\"#000000\" fill-rule=\"evenodd\" fill-opacity=\"1\" /><path clip-path=\"url(#clip770)\" d=\"M 0 0 M1361.84 27.2059 L1369.3 27.2059 L1369.3 72.576 L1361.84 72.576 L1361.84 27.2059 M1361.84 9.54393 L1369.3 9.54393 L1369.3 18.9825 L1361.84 18.9825 L1361.84 9.54393 Z\" fill=\"#000000\" fill-rule=\"evenodd\" fill-opacity=\"1\" /><path clip-path=\"url(#clip770)\" d=\"M 0 0 M1414.83 45.1919 L1414.83 72.576 L1407.38 72.576 L1407.38 45.4349 Q1407.38 38.994 1404.86 35.7938 Q1402.35 32.5936 1397.33 32.5936 Q1391.29 32.5936 1387.81 36.4419 Q1384.33 40.2903 1384.33 46.9338 L1384.33 72.576 L1376.83 72.576 L1376.83 27.2059 L1384.33 27.2059 L1384.33 34.2544 Q1387 30.163 1390.61 28.1376 Q1394.25 26.1121 1398.99 26.1121 Q1406.81 26.1121 1410.82 30.9732 Q1414.83 35.7938 1414.83 45.1919 Z\" fill=\"#000000\" fill-rule=\"evenodd\" fill-opacity=\"1\" /><path clip-path=\"url(#clip770)\" d=\"M 0 0 M1461.46 48.0275 L1461.46 51.6733 L1427.18 51.6733 Q1427.67 59.3701 1431.8 63.421 Q1435.98 67.4314 1443.39 67.4314 Q1447.68 67.4314 1451.69 66.3781 Q1455.74 65.3249 1459.71 63.2184 L1459.71 70.267 Q1455.7 71.9684 1451.49 72.8596 Q1447.28 73.7508 1442.94 73.7508 Q1432.09 73.7508 1425.73 67.4314 Q1419.41 61.1119 1419.41 50.3365 Q1419.41 39.1965 1425.4 32.6746 Q1431.44 26.1121 1441.65 26.1121 Q1450.8 26.1121 1456.11 32.0264 Q1461.46 37.9003 1461.46 48.0275 M1454 45.84 Q1453.92 39.7232 1450.56 36.0774 Q1447.24 32.4315 1441.73 32.4315 Q1435.49 32.4315 1431.72 35.9558 Q1428 39.4801 1427.43 45.8805 L1454 45.84 Z\" fill=\"#000000\" fill-rule=\"evenodd\" fill-opacity=\"1\" /><path clip-path=\"url(#clip770)\" d=\"M 0 0 M1528.3 28.9478 L1528.3 35.9153 Q1525.14 34.1734 1521.94 33.3227 Q1518.78 32.4315 1515.54 32.4315 Q1508.28 32.4315 1504.27 37.0496 Q1500.26 41.6271 1500.26 49.9314 Q1500.26 58.2358 1504.27 62.8538 Q1508.28 67.4314 1515.54 67.4314 Q1518.78 67.4314 1521.94 66.5807 Q1525.14 65.6895 1528.3 63.9476 L1528.3 70.8341 Q1525.18 72.2924 1521.81 73.0216 Q1518.49 73.7508 1514.72 73.7508 Q1504.48 73.7508 1498.44 67.3098 Q1492.4 60.8689 1492.4 49.9314 Q1492.4 38.832 1498.48 32.472 Q1504.6 26.1121 1515.21 26.1121 Q1518.65 26.1121 1521.94 26.8413 Q1525.22 27.5299 1528.3 28.9478 Z\" fill=\"#000000\" fill-rule=\"evenodd\" fill-opacity=\"1\" /><path clip-path=\"url(#clip770)\" d=\"M 0 0 M1573.83 45.1919 L1573.83 72.576 L1566.37 72.576 L1566.37 45.4349 Q1566.37 38.994 1563.86 35.7938 Q1561.35 32.5936 1556.33 32.5936 Q1550.29 32.5936 1546.81 36.4419 Q1543.32 40.2903 1543.32 46.9338 L1543.32 72.576 L1535.83 72.576 L1535.83 9.54393 L1543.32 9.54393 L1543.32 34.2544 Q1546 30.163 1549.6 28.1376 Q1553.25 26.1121 1557.99 26.1121 Q1565.81 26.1121 1569.82 30.9732 Q1573.83 35.7938 1573.83 45.1919 Z\" fill=\"#000000\" fill-rule=\"evenodd\" fill-opacity=\"1\" /><path clip-path=\"url(#clip770)\" d=\"M 0 0 M1602.26 49.7694 Q1593.23 49.7694 1589.75 51.8354 Q1586.26 53.9013 1586.26 58.8839 Q1586.26 62.8538 1588.86 65.2034 Q1591.49 67.5124 1595.99 67.5124 Q1602.18 67.5124 1605.91 63.1374 Q1609.68 58.7219 1609.68 51.4303 L1609.68 49.7694 L1602.26 49.7694 M1617.13 46.6907 L1617.13 72.576 L1609.68 72.576 L1609.68 65.6895 Q1607.13 69.8214 1603.32 71.8063 Q1599.51 73.7508 1594 73.7508 Q1587.03 73.7508 1582.9 69.8619 Q1578.81 65.9325 1578.81 59.3701 Q1578.81 51.7138 1583.91 47.825 Q1589.06 43.9361 1599.23 43.9361 L1609.68 43.9361 L1609.68 43.2069 Q1609.68 38.0623 1606.28 35.2672 Q1602.91 32.4315 1596.8 32.4315 Q1592.91 32.4315 1589.22 33.3632 Q1585.53 34.295 1582.13 36.1584 L1582.13 29.2718 Q1586.22 27.692 1590.07 26.9223 Q1593.92 26.1121 1597.57 26.1121 Q1607.41 26.1121 1612.27 31.2163 Q1617.13 36.3204 1617.13 46.6907 Z\" fill=\"#000000\" fill-rule=\"evenodd\" fill-opacity=\"1\" /><path clip-path=\"url(#clip770)\" d=\"M 0 0 M1651.24 34.1734 Q1649.98 33.4443 1648.49 33.1202 Q1647.03 32.7556 1645.25 32.7556 Q1638.93 32.7556 1635.52 36.8875 Q1632.16 40.9789 1632.16 48.6757 L1632.16 72.576 L1624.67 72.576 L1624.67 27.2059 L1632.16 27.2059 L1632.16 34.2544 Q1634.51 30.1225 1638.28 28.1376 Q1642.04 26.1121 1647.43 26.1121 Q1648.2 26.1121 1649.13 26.2337 Q1650.07 26.3147 1651.2 26.5172 L1651.24 34.1734 Z\" fill=\"#000000\" fill-rule=\"evenodd\" fill-opacity=\"1\" /><path clip-path=\"url(#clip770)\" d=\"M 0 0 M1666.43 14.324 L1666.43 27.2059 L1681.78 27.2059 L1681.78 32.9987 L1666.43 32.9987 L1666.43 57.6282 Q1666.43 63.1779 1667.93 64.7578 Q1669.47 66.3376 1674.13 66.3376 L1681.78 66.3376 L1681.78 72.576 L1674.13 72.576 Q1665.5 72.576 1662.22 69.3758 Q1658.94 66.1351 1658.94 57.6282 L1658.94 32.9987 L1653.47 32.9987 L1653.47 27.2059 L1658.94 27.2059 L1658.94 14.324 L1666.43 14.324 Z\" fill=\"#000000\" fill-rule=\"evenodd\" fill-opacity=\"1\" /><polyline clip-path=\"url(#clip772)\" style=\"stroke:#009af9; stroke-width:4; stroke-opacity:1; fill:none\" points=\"\n",
       "  210.724,1363.24 441.795,738.571 672.867,566.34 903.938,973.037 1135.01,1447.87 1366.08,166.706 1597.15,635.817 1828.22,986.705 2059.3,162.047 2290.37,998.843 \n",
       "  \n",
       "  \"/>\n",
       "<path clip-path=\"url(#clip770)\" d=\"\n",
       "M1989.74 327.952 L2280.76 327.952 L2280.76 206.992 L1989.74 206.992  Z\n",
       "  \" fill=\"#ffffff\" fill-rule=\"evenodd\" fill-opacity=\"1\"/>\n",
       "<polyline clip-path=\"url(#clip770)\" style=\"stroke:#000000; stroke-width:4; stroke-opacity:1; fill:none\" points=\"\n",
       "  1989.74,327.952 2280.76,327.952 2280.76,206.992 1989.74,206.992 1989.74,327.952 \n",
       "  \"/>\n",
       "<polyline clip-path=\"url(#clip770)\" style=\"stroke:#009af9; stroke-width:4; stroke-opacity:1; fill:none\" points=\"\n",
       "  2013.74,267.472 2157.74,267.472 \n",
       "  \"/>\n",
       "<path clip-path=\"url(#clip770)\" d=\"M 0 0 M2195.58 287.16 Q2193.77 291.789 2192.06 293.201 Q2190.35 294.613 2187.48 294.613 L2184.08 294.613 L2184.08 291.048 L2186.58 291.048 Q2188.33 291.048 2189.31 290.215 Q2190.28 289.382 2191.46 286.28 L2192.22 284.335 L2181.74 258.826 L2186.25 258.826 L2194.35 279.104 L2202.46 258.826 L2206.97 258.826 L2195.58 287.16 Z\" fill=\"#000000\" fill-rule=\"evenodd\" fill-opacity=\"1\" /><path clip-path=\"url(#clip770)\" d=\"M 0 0 M2212.85 280.817 L2220.49 280.817 L2220.49 254.451 L2212.18 256.118 L2212.18 251.859 L2220.44 250.192 L2225.12 250.192 L2225.12 280.817 L2232.76 280.817 L2232.76 284.752 L2212.85 284.752 L2212.85 280.817 Z\" fill=\"#000000\" fill-rule=\"evenodd\" fill-opacity=\"1\" /></svg>\n"
      ]
     },
     "execution_count": 211,
     "metadata": {},
     "output_type": "execute_result"
    }
   ],
   "source": [
    "# command for adding a title in plot(graph)\n",
    "plot(x,y,title = \"One random Line chart\")"
   ]
  },
  {
   "cell_type": "code",
   "execution_count": 212,
   "metadata": {},
   "outputs": [
    {
     "data": {
      "image/svg+xml": [
       "<?xml version=\"1.0\" encoding=\"utf-8\"?>\n",
       "<svg xmlns=\"http://www.w3.org/2000/svg\" xmlns:xlink=\"http://www.w3.org/1999/xlink\" width=\"600\" height=\"400\" viewBox=\"0 0 2400 1600\">\n",
       "<defs>\n",
       "  <clipPath id=\"clip810\">\n",
       "    <rect x=\"0\" y=\"0\" width=\"2400\" height=\"1600\"/>\n",
       "  </clipPath>\n",
       "</defs>\n",
       "<path clip-path=\"url(#clip810)\" d=\"\n",
       "M0 1600 L2400 1600 L2400 0 L0 0  Z\n",
       "  \" fill=\"#ffffff\" fill-rule=\"evenodd\" fill-opacity=\"1\"/>\n",
       "<defs>\n",
       "  <clipPath id=\"clip811\">\n",
       "    <rect x=\"480\" y=\"0\" width=\"1681\" height=\"1600\"/>\n",
       "  </clipPath>\n",
       "</defs>\n",
       "<path clip-path=\"url(#clip810)\" d=\"\n",
       "M148.334 1486.45 L2352.76 1486.45 L2352.76 123.472 L148.334 123.472  Z\n",
       "  \" fill=\"#ffffff\" fill-rule=\"evenodd\" fill-opacity=\"1\"/>\n",
       "<defs>\n",
       "  <clipPath id=\"clip812\">\n",
       "    <rect x=\"148\" y=\"123\" width=\"2205\" height=\"1364\"/>\n",
       "  </clipPath>\n",
       "</defs>\n",
       "<polyline clip-path=\"url(#clip812)\" style=\"stroke:#000000; stroke-width:2; stroke-opacity:0.1; fill:none\" points=\"\n",
       "  441.795,1486.45 441.795,123.472 \n",
       "  \"/>\n",
       "<polyline clip-path=\"url(#clip812)\" style=\"stroke:#000000; stroke-width:2; stroke-opacity:0.1; fill:none\" points=\"\n",
       "  903.938,1486.45 903.938,123.472 \n",
       "  \"/>\n",
       "<polyline clip-path=\"url(#clip812)\" style=\"stroke:#000000; stroke-width:2; stroke-opacity:0.1; fill:none\" points=\"\n",
       "  1366.08,1486.45 1366.08,123.472 \n",
       "  \"/>\n",
       "<polyline clip-path=\"url(#clip812)\" style=\"stroke:#000000; stroke-width:2; stroke-opacity:0.1; fill:none\" points=\"\n",
       "  1828.22,1486.45 1828.22,123.472 \n",
       "  \"/>\n",
       "<polyline clip-path=\"url(#clip812)\" style=\"stroke:#000000; stroke-width:2; stroke-opacity:0.1; fill:none\" points=\"\n",
       "  2290.37,1486.45 2290.37,123.472 \n",
       "  \"/>\n",
       "<polyline clip-path=\"url(#clip812)\" style=\"stroke:#000000; stroke-width:2; stroke-opacity:0.1; fill:none\" points=\"\n",
       "  148.334,1307.04 2352.76,1307.04 \n",
       "  \"/>\n",
       "<polyline clip-path=\"url(#clip812)\" style=\"stroke:#000000; stroke-width:2; stroke-opacity:0.1; fill:none\" points=\"\n",
       "  148.334,962.989 2352.76,962.989 \n",
       "  \"/>\n",
       "<polyline clip-path=\"url(#clip812)\" style=\"stroke:#000000; stroke-width:2; stroke-opacity:0.1; fill:none\" points=\"\n",
       "  148.334,618.943 2352.76,618.943 \n",
       "  \"/>\n",
       "<polyline clip-path=\"url(#clip812)\" style=\"stroke:#000000; stroke-width:2; stroke-opacity:0.1; fill:none\" points=\"\n",
       "  148.334,274.897 2352.76,274.897 \n",
       "  \"/>\n",
       "<polyline clip-path=\"url(#clip810)\" style=\"stroke:#000000; stroke-width:4; stroke-opacity:1; fill:none\" points=\"\n",
       "  148.334,1486.45 2352.76,1486.45 \n",
       "  \"/>\n",
       "<polyline clip-path=\"url(#clip810)\" style=\"stroke:#000000; stroke-width:4; stroke-opacity:1; fill:none\" points=\"\n",
       "  148.334,1486.45 148.334,123.472 \n",
       "  \"/>\n",
       "<polyline clip-path=\"url(#clip810)\" style=\"stroke:#000000; stroke-width:4; stroke-opacity:1; fill:none\" points=\"\n",
       "  441.795,1486.45 441.795,1470.09 \n",
       "  \"/>\n",
       "<polyline clip-path=\"url(#clip810)\" style=\"stroke:#000000; stroke-width:4; stroke-opacity:1; fill:none\" points=\"\n",
       "  903.938,1486.45 903.938,1470.09 \n",
       "  \"/>\n",
       "<polyline clip-path=\"url(#clip810)\" style=\"stroke:#000000; stroke-width:4; stroke-opacity:1; fill:none\" points=\"\n",
       "  1366.08,1486.45 1366.08,1470.09 \n",
       "  \"/>\n",
       "<polyline clip-path=\"url(#clip810)\" style=\"stroke:#000000; stroke-width:4; stroke-opacity:1; fill:none\" points=\"\n",
       "  1828.22,1486.45 1828.22,1470.09 \n",
       "  \"/>\n",
       "<polyline clip-path=\"url(#clip810)\" style=\"stroke:#000000; stroke-width:4; stroke-opacity:1; fill:none\" points=\"\n",
       "  2290.37,1486.45 2290.37,1470.09 \n",
       "  \"/>\n",
       "<polyline clip-path=\"url(#clip810)\" style=\"stroke:#000000; stroke-width:4; stroke-opacity:1; fill:none\" points=\"\n",
       "  148.334,1307.04 174.787,1307.04 \n",
       "  \"/>\n",
       "<polyline clip-path=\"url(#clip810)\" style=\"stroke:#000000; stroke-width:4; stroke-opacity:1; fill:none\" points=\"\n",
       "  148.334,962.989 174.787,962.989 \n",
       "  \"/>\n",
       "<polyline clip-path=\"url(#clip810)\" style=\"stroke:#000000; stroke-width:4; stroke-opacity:1; fill:none\" points=\"\n",
       "  148.334,618.943 174.787,618.943 \n",
       "  \"/>\n",
       "<polyline clip-path=\"url(#clip810)\" style=\"stroke:#000000; stroke-width:4; stroke-opacity:1; fill:none\" points=\"\n",
       "  148.334,274.897 174.787,274.897 \n",
       "  \"/>\n",
       "<path clip-path=\"url(#clip810)\" d=\"M 0 0 M436.448 1535.98 L452.767 1535.98 L452.767 1539.92 L430.823 1539.92 L430.823 1535.98 Q433.485 1533.23 438.068 1528.6 Q442.675 1523.95 443.855 1522.61 Q446.101 1520.08 446.98 1518.35 Q447.883 1516.59 447.883 1514.9 Q447.883 1512.14 445.939 1510.41 Q444.017 1508.67 440.915 1508.67 Q438.716 1508.67 436.263 1509.43 Q433.832 1510.2 431.054 1511.75 L431.054 1507.03 Q433.878 1505.89 436.332 1505.31 Q438.786 1504.73 440.823 1504.73 Q446.193 1504.73 449.388 1507.42 Q452.582 1510.11 452.582 1514.6 Q452.582 1516.73 451.772 1518.65 Q450.985 1520.54 448.878 1523.14 Q448.3 1523.81 445.198 1527.03 Q442.096 1530.22 436.448 1535.98 Z\" fill=\"#000000\" fill-rule=\"evenodd\" fill-opacity=\"1\" /><path clip-path=\"url(#clip810)\" d=\"M 0 0 M906.947 1509.43 L895.142 1527.88 L906.947 1527.88 L906.947 1509.43 M905.72 1505.36 L911.6 1505.36 L911.6 1527.88 L916.531 1527.88 L916.531 1531.77 L911.6 1531.77 L911.6 1539.92 L906.947 1539.92 L906.947 1531.77 L891.345 1531.77 L891.345 1527.26 L905.72 1505.36 Z\" fill=\"#000000\" fill-rule=\"evenodd\" fill-opacity=\"1\" /><path clip-path=\"url(#clip810)\" d=\"M 0 0 M1366.49 1520.78 Q1363.34 1520.78 1361.49 1522.93 Q1359.66 1525.08 1359.66 1528.83 Q1359.66 1532.56 1361.49 1534.73 Q1363.34 1536.89 1366.49 1536.89 Q1369.63 1536.89 1371.46 1534.73 Q1373.31 1532.56 1373.31 1528.83 Q1373.31 1525.08 1371.46 1522.93 Q1369.63 1520.78 1366.49 1520.78 M1375.77 1506.12 L1375.77 1510.38 Q1374.01 1509.55 1372.2 1509.11 Q1370.42 1508.67 1368.66 1508.67 Q1364.03 1508.67 1361.58 1511.8 Q1359.15 1514.92 1358.8 1521.24 Q1360.17 1519.23 1362.23 1518.16 Q1364.29 1517.07 1366.76 1517.07 Q1371.97 1517.07 1374.98 1520.24 Q1378.01 1523.39 1378.01 1528.83 Q1378.01 1534.16 1374.87 1537.37 Q1371.72 1540.59 1366.49 1540.59 Q1360.49 1540.59 1357.32 1536.01 Q1354.15 1531.4 1354.15 1522.67 Q1354.15 1514.48 1358.04 1509.62 Q1361.93 1504.73 1368.48 1504.73 Q1370.24 1504.73 1372.02 1505.08 Q1373.82 1505.43 1375.77 1506.12 Z\" fill=\"#000000\" fill-rule=\"evenodd\" fill-opacity=\"1\" /><path clip-path=\"url(#clip810)\" d=\"M 0 0 M1828.22 1523.51 Q1824.89 1523.51 1822.97 1525.29 Q1821.07 1527.07 1821.07 1530.2 Q1821.07 1533.32 1822.97 1535.11 Q1824.89 1536.89 1828.22 1536.89 Q1831.56 1536.89 1833.48 1535.11 Q1835.4 1533.3 1835.4 1530.2 Q1835.4 1527.07 1833.48 1525.29 Q1831.58 1523.51 1828.22 1523.51 M1823.55 1521.52 Q1820.54 1520.78 1818.85 1518.72 Q1817.18 1516.66 1817.18 1513.69 Q1817.18 1509.55 1820.12 1507.14 Q1823.08 1504.73 1828.22 1504.73 Q1833.39 1504.73 1836.33 1507.14 Q1839.27 1509.55 1839.27 1513.69 Q1839.27 1516.66 1837.58 1518.72 Q1835.91 1520.78 1832.92 1521.52 Q1836.3 1522.3 1838.18 1524.6 Q1840.08 1526.89 1840.08 1530.2 Q1840.08 1535.22 1837 1537.91 Q1833.94 1540.59 1828.22 1540.59 Q1822.51 1540.59 1819.43 1537.91 Q1816.37 1535.22 1816.37 1530.2 Q1816.37 1526.89 1818.27 1524.6 Q1820.17 1522.3 1823.55 1521.52 M1821.83 1514.13 Q1821.83 1516.82 1823.5 1518.32 Q1825.19 1519.83 1828.22 1519.83 Q1831.23 1519.83 1832.92 1518.32 Q1834.64 1516.82 1834.64 1514.13 Q1834.64 1511.45 1832.92 1509.94 Q1831.23 1508.44 1828.22 1508.44 Q1825.19 1508.44 1823.5 1509.94 Q1821.83 1511.45 1821.83 1514.13 Z\" fill=\"#000000\" fill-rule=\"evenodd\" fill-opacity=\"1\" /><path clip-path=\"url(#clip810)\" d=\"M 0 0 M2267.24 1535.98 L2274.88 1535.98 L2274.88 1509.62 L2266.57 1511.29 L2266.57 1507.03 L2274.83 1505.36 L2279.51 1505.36 L2279.51 1535.98 L2287.15 1535.98 L2287.15 1539.92 L2267.24 1539.92 L2267.24 1535.98 Z\" fill=\"#000000\" fill-rule=\"evenodd\" fill-opacity=\"1\" /><path clip-path=\"url(#clip810)\" d=\"M 0 0 M2302.22 1508.44 Q2298.61 1508.44 2296.78 1512 Q2294.97 1515.55 2294.97 1522.67 Q2294.97 1529.78 2296.78 1533.35 Q2298.61 1536.89 2302.22 1536.89 Q2305.85 1536.89 2307.66 1533.35 Q2309.49 1529.78 2309.49 1522.67 Q2309.49 1515.55 2307.66 1512 Q2305.85 1508.44 2302.22 1508.44 M2302.22 1504.73 Q2308.03 1504.73 2311.08 1509.34 Q2314.16 1513.92 2314.16 1522.67 Q2314.16 1531.4 2311.08 1536.01 Q2308.03 1540.59 2302.22 1540.59 Q2296.41 1540.59 2293.33 1536.01 Q2290.27 1531.4 2290.27 1522.67 Q2290.27 1513.92 2293.33 1509.34 Q2296.41 1504.73 2302.22 1504.73 Z\" fill=\"#000000\" fill-rule=\"evenodd\" fill-opacity=\"1\" /><path clip-path=\"url(#clip810)\" d=\"M 0 0 M77.0198 1292.83 Q73.4087 1292.83 71.58 1296.4 Q69.7745 1299.94 69.7745 1307.07 Q69.7745 1314.18 71.58 1317.74 Q73.4087 1321.28 77.0198 1321.28 Q80.6541 1321.28 82.4596 1317.74 Q84.2883 1314.18 84.2883 1307.07 Q84.2883 1299.94 82.4596 1296.4 Q80.6541 1292.83 77.0198 1292.83 M77.0198 1289.13 Q82.83 1289.13 85.8855 1293.74 Q88.9642 1298.32 88.9642 1307.07 Q88.9642 1315.8 85.8855 1320.4 Q82.83 1324.99 77.0198 1324.99 Q71.2097 1324.99 68.131 1320.4 Q65.0754 1315.8 65.0754 1307.07 Q65.0754 1298.32 68.131 1293.74 Q71.2097 1289.13 77.0198 1289.13 Z\" fill=\"#000000\" fill-rule=\"evenodd\" fill-opacity=\"1\" /><path clip-path=\"url(#clip810)\" d=\"M 0 0 M94.0336 1318.44 L98.9179 1318.44 L98.9179 1324.32 L94.0336 1324.32 L94.0336 1318.44 Z\" fill=\"#000000\" fill-rule=\"evenodd\" fill-opacity=\"1\" /><path clip-path=\"url(#clip810)\" d=\"M 0 0 M108.015 1320.38 L124.334 1320.38 L124.334 1324.32 L102.39 1324.32 L102.39 1320.38 Q105.052 1317.63 109.635 1313 Q114.242 1308.34 115.422 1307 Q117.668 1304.48 118.547 1302.74 Q119.45 1300.98 119.45 1299.29 Q119.45 1296.54 117.506 1294.8 Q115.584 1293.07 112.483 1293.07 Q110.284 1293.07 107.83 1293.83 Q105.399 1294.59 102.622 1296.14 L102.622 1291.42 Q105.446 1290.29 107.899 1289.71 Q110.353 1289.13 112.39 1289.13 Q117.76 1289.13 120.955 1291.82 Q124.149 1294.5 124.149 1298.99 Q124.149 1301.12 123.339 1303.04 Q122.552 1304.94 120.446 1307.53 Q119.867 1308.2 116.765 1311.42 Q113.663 1314.62 108.015 1320.38 Z\" fill=\"#000000\" fill-rule=\"evenodd\" fill-opacity=\"1\" /><path clip-path=\"url(#clip810)\" d=\"M 0 0 M74.9365 948.788 Q71.3254 948.788 69.4967 952.353 Q67.6912 955.894 67.6912 963.024 Q67.6912 970.13 69.4967 973.695 Q71.3254 977.237 74.9365 977.237 Q78.5707 977.237 80.3763 973.695 Q82.205 970.13 82.205 963.024 Q82.205 955.894 80.3763 952.353 Q78.5707 948.788 74.9365 948.788 M74.9365 945.084 Q80.7467 945.084 83.8022 949.691 Q86.8809 954.274 86.8809 963.024 Q86.8809 971.751 83.8022 976.357 Q80.7467 980.941 74.9365 980.941 Q69.1264 980.941 66.0477 976.357 Q62.9921 971.751 62.9921 963.024 Q62.9921 954.274 66.0477 949.691 Q69.1264 945.084 74.9365 945.084 Z\" fill=\"#000000\" fill-rule=\"evenodd\" fill-opacity=\"1\" /><path clip-path=\"url(#clip810)\" d=\"M 0 0 M91.9503 974.39 L96.8345 974.39 L96.8345 980.269 L91.9503 980.269 L91.9503 974.39 Z\" fill=\"#000000\" fill-rule=\"evenodd\" fill-opacity=\"1\" /><path clip-path=\"url(#clip810)\" d=\"M 0 0 M114.751 949.783 L102.946 968.232 L114.751 968.232 L114.751 949.783 M113.524 945.709 L119.404 945.709 L119.404 968.232 L124.334 968.232 L124.334 972.121 L119.404 972.121 L119.404 980.269 L114.751 980.269 L114.751 972.121 L99.1493 972.121 L99.1493 967.607 L113.524 945.709 Z\" fill=\"#000000\" fill-rule=\"evenodd\" fill-opacity=\"1\" /><path clip-path=\"url(#clip810)\" d=\"M 0 0 M75.2606 604.742 Q71.6495 604.742 69.8208 608.307 Q68.0152 611.848 68.0152 618.978 Q68.0152 626.085 69.8208 629.649 Q71.6495 633.191 75.2606 633.191 Q78.8948 633.191 80.7004 629.649 Q82.5291 626.085 82.5291 618.978 Q82.5291 611.848 80.7004 608.307 Q78.8948 604.742 75.2606 604.742 M75.2606 601.038 Q81.0707 601.038 84.1263 605.645 Q87.205 610.228 87.205 618.978 Q87.205 627.705 84.1263 632.311 Q81.0707 636.895 75.2606 636.895 Q69.4504 636.895 66.3717 632.311 Q63.3162 627.705 63.3162 618.978 Q63.3162 610.228 66.3717 605.645 Q69.4504 601.038 75.2606 601.038 Z\" fill=\"#000000\" fill-rule=\"evenodd\" fill-opacity=\"1\" /><path clip-path=\"url(#clip810)\" d=\"M 0 0 M92.2744 630.344 L97.1586 630.344 L97.1586 636.223 L92.2744 636.223 L92.2744 630.344 Z\" fill=\"#000000\" fill-rule=\"evenodd\" fill-opacity=\"1\" /><path clip-path=\"url(#clip810)\" d=\"M 0 0 M112.807 617.08 Q109.659 617.08 107.807 619.233 Q105.978 621.385 105.978 625.135 Q105.978 628.862 107.807 631.038 Q109.659 633.191 112.807 633.191 Q115.955 633.191 117.783 631.038 Q119.635 628.862 119.635 625.135 Q119.635 621.385 117.783 619.233 Q115.955 617.08 112.807 617.08 M122.089 602.427 L122.089 606.686 Q120.33 605.853 118.524 605.413 Q116.742 604.974 114.983 604.974 Q110.353 604.974 107.899 608.098 Q105.469 611.223 105.122 617.543 Q106.487 615.529 108.547 614.464 Q110.608 613.376 113.084 613.376 Q118.293 613.376 121.302 616.548 Q124.334 619.696 124.334 625.135 Q124.334 630.459 121.186 633.677 Q118.038 636.895 112.807 636.895 Q106.811 636.895 103.64 632.311 Q100.469 627.705 100.469 618.978 Q100.469 610.784 104.358 605.923 Q108.247 601.038 114.797 601.038 Q116.557 601.038 118.339 601.386 Q120.145 601.733 122.089 602.427 Z\" fill=\"#000000\" fill-rule=\"evenodd\" fill-opacity=\"1\" /><path clip-path=\"url(#clip810)\" d=\"M 0 0 M75.5152 260.696 Q71.9041 260.696 70.0754 264.261 Q68.2699 267.803 68.2699 274.932 Q68.2699 282.039 70.0754 285.603 Q71.9041 289.145 75.5152 289.145 Q79.1494 289.145 80.955 285.603 Q82.7837 282.039 82.7837 274.932 Q82.7837 267.803 80.955 264.261 Q79.1494 260.696 75.5152 260.696 M75.5152 256.992 Q81.3254 256.992 84.3809 261.599 Q87.4596 266.182 87.4596 274.932 Q87.4596 283.659 84.3809 288.265 Q81.3254 292.849 75.5152 292.849 Q69.7051 292.849 66.6264 288.265 Q63.5708 283.659 63.5708 274.932 Q63.5708 266.182 66.6264 261.599 Q69.7051 256.992 75.5152 256.992 Z\" fill=\"#000000\" fill-rule=\"evenodd\" fill-opacity=\"1\" /><path clip-path=\"url(#clip810)\" d=\"M 0 0 M92.529 286.298 L97.4132 286.298 L97.4132 292.177 L92.529 292.177 L92.529 286.298 Z\" fill=\"#000000\" fill-rule=\"evenodd\" fill-opacity=\"1\" /><path clip-path=\"url(#clip810)\" d=\"M 0 0 M112.483 275.766 Q109.149 275.766 107.228 277.548 Q105.33 279.33 105.33 282.455 Q105.33 285.58 107.228 287.363 Q109.149 289.145 112.483 289.145 Q115.816 289.145 117.737 287.363 Q119.658 285.557 119.658 282.455 Q119.658 279.33 117.737 277.548 Q115.839 275.766 112.483 275.766 M107.807 273.775 Q104.797 273.034 103.108 270.974 Q101.441 268.914 101.441 265.951 Q101.441 261.807 104.381 259.4 Q107.344 256.992 112.483 256.992 Q117.645 256.992 120.584 259.4 Q123.524 261.807 123.524 265.951 Q123.524 268.914 121.834 270.974 Q120.168 273.034 117.182 273.775 Q120.561 274.562 122.436 276.853 Q124.334 279.145 124.334 282.455 Q124.334 287.478 121.256 290.164 Q118.2 292.849 112.483 292.849 Q106.765 292.849 103.686 290.164 Q100.631 287.478 100.631 282.455 Q100.631 279.145 102.529 276.853 Q104.427 274.562 107.807 273.775 M106.094 266.391 Q106.094 269.076 107.76 270.58 Q109.45 272.085 112.483 272.085 Q115.492 272.085 117.182 270.58 Q118.895 269.076 118.895 266.391 Q118.895 263.705 117.182 262.201 Q115.492 260.696 112.483 260.696 Q109.45 260.696 107.76 262.201 Q106.094 263.705 106.094 266.391 Z\" fill=\"#000000\" fill-rule=\"evenodd\" fill-opacity=\"1\" /><path clip-path=\"url(#clip810)\" d=\"M 0 0 M847.338 17.6457 Q838.426 17.6457 833.16 24.2892 Q827.935 30.9327 827.935 42.3968 Q827.935 53.8203 833.16 60.4638 Q838.426 67.1073 847.338 67.1073 Q856.25 67.1073 861.436 60.4638 Q866.661 53.8203 866.661 42.3968 Q866.661 30.9327 861.436 24.2892 Q856.25 17.6457 847.338 17.6457 M847.338 11.0023 Q860.058 11.0023 867.674 19.5497 Q875.29 28.0566 875.29 42.3968 Q875.29 56.6965 867.674 65.2439 Q860.058 73.7508 847.338 73.7508 Q834.578 73.7508 826.922 65.2439 Q819.306 56.737 819.306 42.3968 Q819.306 28.0566 826.922 19.5497 Q834.578 11.0023 847.338 11.0023 Z\" fill=\"#000000\" fill-rule=\"evenodd\" fill-opacity=\"1\" /><path clip-path=\"url(#clip810)\" d=\"M 0 0 M920.822 45.1919 L920.822 72.576 L913.368 72.576 L913.368 45.4349 Q913.368 38.994 910.857 35.7938 Q908.345 32.5936 903.322 32.5936 Q897.286 32.5936 893.802 36.4419 Q890.318 40.2903 890.318 46.9338 L890.318 72.576 L882.824 72.576 L882.824 27.2059 L890.318 27.2059 L890.318 34.2544 Q892.992 30.163 896.597 28.1376 Q900.243 26.1121 904.983 26.1121 Q912.801 26.1121 916.811 30.9732 Q920.822 35.7938 920.822 45.1919 Z\" fill=\"#000000\" fill-rule=\"evenodd\" fill-opacity=\"1\" /><path clip-path=\"url(#clip810)\" d=\"M 0 0 M967.448 48.0275 L967.448 51.6733 L933.177 51.6733 Q933.663 59.3701 937.795 63.421 Q941.968 67.4314 949.381 67.4314 Q953.675 67.4314 957.685 66.3781 Q961.736 65.3249 965.706 63.2184 L965.706 70.267 Q961.695 71.9684 957.482 72.8596 Q953.27 73.7508 948.935 73.7508 Q938.079 73.7508 931.719 67.4314 Q925.399 61.1119 925.399 50.3365 Q925.399 39.1965 931.395 32.6746 Q937.431 26.1121 947.639 26.1121 Q956.794 26.1121 962.101 32.0264 Q967.448 37.9003 967.448 48.0275 M959.994 45.84 Q959.913 39.7232 956.551 36.0774 Q953.229 32.4315 947.72 32.4315 Q941.481 32.4315 937.714 35.9558 Q933.987 39.4801 933.42 45.8805 L959.994 45.84 Z\" fill=\"#000000\" fill-rule=\"evenodd\" fill-opacity=\"1\" /><path clip-path=\"url(#clip810)\" d=\"M 0 0 M1027.93 34.1734 Q1026.67 33.4443 1025.17 33.1202 Q1023.71 32.7556 1021.93 32.7556 Q1015.61 32.7556 1012.21 36.8875 Q1008.85 40.9789 1008.85 48.6757 L1008.85 72.576 L1001.35 72.576 L1001.35 27.2059 L1008.85 27.2059 L1008.85 34.2544 Q1011.2 30.1225 1014.96 28.1376 Q1018.73 26.1121 1024.12 26.1121 Q1024.89 26.1121 1025.82 26.2337 Q1026.75 26.3147 1027.89 26.5172 L1027.93 34.1734 Z\" fill=\"#000000\" fill-rule=\"evenodd\" fill-opacity=\"1\" /><path clip-path=\"url(#clip810)\" d=\"M 0 0 M1056.37 49.7694 Q1047.33 49.7694 1043.85 51.8354 Q1040.36 53.9013 1040.36 58.8839 Q1040.36 62.8538 1042.96 65.2034 Q1045.59 67.5124 1050.09 67.5124 Q1056.28 67.5124 1060.01 63.1374 Q1063.78 58.7219 1063.78 51.4303 L1063.78 49.7694 L1056.37 49.7694 M1071.23 46.6907 L1071.23 72.576 L1063.78 72.576 L1063.78 65.6895 Q1061.23 69.8214 1057.42 71.8063 Q1053.61 73.7508 1048.1 73.7508 Q1041.13 73.7508 1037 69.8619 Q1032.91 65.9325 1032.91 59.3701 Q1032.91 51.7138 1038.01 47.825 Q1043.16 43.9361 1053.33 43.9361 L1063.78 43.9361 L1063.78 43.2069 Q1063.78 38.0623 1060.38 35.2672 Q1057.01 32.4315 1050.9 32.4315 Q1047.01 32.4315 1043.32 33.3632 Q1039.63 34.295 1036.23 36.1584 L1036.23 29.2718 Q1040.32 27.692 1044.17 26.9223 Q1048.02 26.1121 1051.67 26.1121 Q1061.51 26.1121 1066.37 31.2163 Q1071.23 36.3204 1071.23 46.6907 Z\" fill=\"#000000\" fill-rule=\"evenodd\" fill-opacity=\"1\" /><path clip-path=\"url(#clip810)\" d=\"M 0 0 M1116.76 45.1919 L1116.76 72.576 L1109.31 72.576 L1109.31 45.4349 Q1109.31 38.994 1106.8 35.7938 Q1104.29 32.5936 1099.26 32.5936 Q1093.23 32.5936 1089.74 36.4419 Q1086.26 40.2903 1086.26 46.9338 L1086.26 72.576 L1078.77 72.576 L1078.77 27.2059 L1086.26 27.2059 L1086.26 34.2544 Q1088.93 30.163 1092.54 28.1376 Q1096.19 26.1121 1100.93 26.1121 Q1108.74 26.1121 1112.75 30.9732 Q1116.76 35.7938 1116.76 45.1919 Z\" fill=\"#000000\" fill-rule=\"evenodd\" fill-opacity=\"1\" /><path clip-path=\"url(#clip810)\" d=\"M 0 0 M1154.44 34.0924 L1154.44 9.54393 L1161.89 9.54393 L1161.89 72.576 L1154.44 72.576 L1154.44 65.7705 Q1152.09 69.8214 1148.48 71.8063 Q1144.92 73.7508 1139.89 73.7508 Q1131.67 73.7508 1126.49 67.1883 Q1121.34 60.6258 1121.34 49.9314 Q1121.34 39.2371 1126.49 32.6746 Q1131.67 26.1121 1139.89 26.1121 Q1144.92 26.1121 1148.48 28.0971 Q1152.09 30.0415 1154.44 34.0924 M1129.04 49.9314 Q1129.04 58.1548 1132.4 62.8538 Q1135.8 67.5124 1141.72 67.5124 Q1147.63 67.5124 1151.03 62.8538 Q1154.44 58.1548 1154.44 49.9314 Q1154.44 41.7081 1151.03 37.0496 Q1147.63 32.3505 1141.72 32.3505 Q1135.8 32.3505 1132.4 37.0496 Q1129.04 41.7081 1129.04 49.9314 Z\" fill=\"#000000\" fill-rule=\"evenodd\" fill-opacity=\"1\" /><path clip-path=\"url(#clip810)\" d=\"M 0 0 M1187.29 32.4315 Q1181.29 32.4315 1177.81 37.1306 Q1174.33 41.7891 1174.33 49.9314 Q1174.33 58.0738 1177.77 62.7728 Q1181.25 67.4314 1187.29 67.4314 Q1193.25 67.4314 1196.73 62.7323 Q1200.21 58.0333 1200.21 49.9314 Q1200.21 41.8701 1196.73 37.1711 Q1193.25 32.4315 1187.29 32.4315 M1187.29 26.1121 Q1197.01 26.1121 1202.56 32.4315 Q1208.11 38.7509 1208.11 49.9314 Q1208.11 61.0714 1202.56 67.4314 Q1197.01 73.7508 1187.29 73.7508 Q1177.53 73.7508 1171.98 67.4314 Q1166.47 61.0714 1166.47 49.9314 Q1166.47 38.7509 1171.98 32.4315 Q1177.53 26.1121 1187.29 26.1121 Z\" fill=\"#000000\" fill-rule=\"evenodd\" fill-opacity=\"1\" /><path clip-path=\"url(#clip810)\" d=\"M 0 0 M1251.25 35.9153 Q1254.05 30.8922 1257.94 28.5022 Q1261.83 26.1121 1267.09 26.1121 Q1274.18 26.1121 1278.03 31.0947 Q1281.88 36.0368 1281.88 45.1919 L1281.88 72.576 L1274.38 72.576 L1274.38 45.4349 Q1274.38 38.913 1272.08 35.7533 Q1269.77 32.5936 1265.03 32.5936 Q1259.23 32.5936 1255.87 36.4419 Q1252.51 40.2903 1252.51 46.9338 L1252.51 72.576 L1245.02 72.576 L1245.02 45.4349 Q1245.02 38.8725 1242.71 35.7533 Q1240.4 32.5936 1235.58 32.5936 Q1229.87 32.5936 1226.5 36.4824 Q1223.14 40.3308 1223.14 46.9338 L1223.14 72.576 L1215.65 72.576 L1215.65 27.2059 L1223.14 27.2059 L1223.14 34.2544 Q1225.69 30.082 1229.26 28.0971 Q1232.82 26.1121 1237.72 26.1121 Q1242.67 26.1121 1246.11 28.6237 Q1249.59 31.1352 1251.25 35.9153 Z\" fill=\"#000000\" fill-rule=\"evenodd\" fill-opacity=\"1\" /><path clip-path=\"url(#clip810)\" d=\"M 0 0 M1316.39 12.096 L1324.58 12.096 L1324.58 65.6895 L1354.03 65.6895 L1354.03 72.576 L1316.39 72.576 L1316.39 12.096 Z\" fill=\"#000000\" fill-rule=\"evenodd\" fill-opacity=\"1\" /><path clip-path=\"url(#clip810)\" d=\"M 0 0 M1361.84 27.2059 L1369.3 27.2059 L1369.3 72.576 L1361.84 72.576 L1361.84 27.2059 M1361.84 9.54393 L1369.3 9.54393 L1369.3 18.9825 L1361.84 18.9825 L1361.84 9.54393 Z\" fill=\"#000000\" fill-rule=\"evenodd\" fill-opacity=\"1\" /><path clip-path=\"url(#clip810)\" d=\"M 0 0 M1414.83 45.1919 L1414.83 72.576 L1407.38 72.576 L1407.38 45.4349 Q1407.38 38.994 1404.86 35.7938 Q1402.35 32.5936 1397.33 32.5936 Q1391.29 32.5936 1387.81 36.4419 Q1384.33 40.2903 1384.33 46.9338 L1384.33 72.576 L1376.83 72.576 L1376.83 27.2059 L1384.33 27.2059 L1384.33 34.2544 Q1387 30.163 1390.61 28.1376 Q1394.25 26.1121 1398.99 26.1121 Q1406.81 26.1121 1410.82 30.9732 Q1414.83 35.7938 1414.83 45.1919 Z\" fill=\"#000000\" fill-rule=\"evenodd\" fill-opacity=\"1\" /><path clip-path=\"url(#clip810)\" d=\"M 0 0 M1461.46 48.0275 L1461.46 51.6733 L1427.18 51.6733 Q1427.67 59.3701 1431.8 63.421 Q1435.98 67.4314 1443.39 67.4314 Q1447.68 67.4314 1451.69 66.3781 Q1455.74 65.3249 1459.71 63.2184 L1459.71 70.267 Q1455.7 71.9684 1451.49 72.8596 Q1447.28 73.7508 1442.94 73.7508 Q1432.09 73.7508 1425.73 67.4314 Q1419.41 61.1119 1419.41 50.3365 Q1419.41 39.1965 1425.4 32.6746 Q1431.44 26.1121 1441.65 26.1121 Q1450.8 26.1121 1456.11 32.0264 Q1461.46 37.9003 1461.46 48.0275 M1454 45.84 Q1453.92 39.7232 1450.56 36.0774 Q1447.24 32.4315 1441.73 32.4315 Q1435.49 32.4315 1431.72 35.9558 Q1428 39.4801 1427.43 45.8805 L1454 45.84 Z\" fill=\"#000000\" fill-rule=\"evenodd\" fill-opacity=\"1\" /><path clip-path=\"url(#clip810)\" d=\"M 0 0 M1528.3 28.9478 L1528.3 35.9153 Q1525.14 34.1734 1521.94 33.3227 Q1518.78 32.4315 1515.54 32.4315 Q1508.28 32.4315 1504.27 37.0496 Q1500.26 41.6271 1500.26 49.9314 Q1500.26 58.2358 1504.27 62.8538 Q1508.28 67.4314 1515.54 67.4314 Q1518.78 67.4314 1521.94 66.5807 Q1525.14 65.6895 1528.3 63.9476 L1528.3 70.8341 Q1525.18 72.2924 1521.81 73.0216 Q1518.49 73.7508 1514.72 73.7508 Q1504.48 73.7508 1498.44 67.3098 Q1492.4 60.8689 1492.4 49.9314 Q1492.4 38.832 1498.48 32.472 Q1504.6 26.1121 1515.21 26.1121 Q1518.65 26.1121 1521.94 26.8413 Q1525.22 27.5299 1528.3 28.9478 Z\" fill=\"#000000\" fill-rule=\"evenodd\" fill-opacity=\"1\" /><path clip-path=\"url(#clip810)\" d=\"M 0 0 M1573.83 45.1919 L1573.83 72.576 L1566.37 72.576 L1566.37 45.4349 Q1566.37 38.994 1563.86 35.7938 Q1561.35 32.5936 1556.33 32.5936 Q1550.29 32.5936 1546.81 36.4419 Q1543.32 40.2903 1543.32 46.9338 L1543.32 72.576 L1535.83 72.576 L1535.83 9.54393 L1543.32 9.54393 L1543.32 34.2544 Q1546 30.163 1549.6 28.1376 Q1553.25 26.1121 1557.99 26.1121 Q1565.81 26.1121 1569.82 30.9732 Q1573.83 35.7938 1573.83 45.1919 Z\" fill=\"#000000\" fill-rule=\"evenodd\" fill-opacity=\"1\" /><path clip-path=\"url(#clip810)\" d=\"M 0 0 M1602.26 49.7694 Q1593.23 49.7694 1589.75 51.8354 Q1586.26 53.9013 1586.26 58.8839 Q1586.26 62.8538 1588.86 65.2034 Q1591.49 67.5124 1595.99 67.5124 Q1602.18 67.5124 1605.91 63.1374 Q1609.68 58.7219 1609.68 51.4303 L1609.68 49.7694 L1602.26 49.7694 M1617.13 46.6907 L1617.13 72.576 L1609.68 72.576 L1609.68 65.6895 Q1607.13 69.8214 1603.32 71.8063 Q1599.51 73.7508 1594 73.7508 Q1587.03 73.7508 1582.9 69.8619 Q1578.81 65.9325 1578.81 59.3701 Q1578.81 51.7138 1583.91 47.825 Q1589.06 43.9361 1599.23 43.9361 L1609.68 43.9361 L1609.68 43.2069 Q1609.68 38.0623 1606.28 35.2672 Q1602.91 32.4315 1596.8 32.4315 Q1592.91 32.4315 1589.22 33.3632 Q1585.53 34.295 1582.13 36.1584 L1582.13 29.2718 Q1586.22 27.692 1590.07 26.9223 Q1593.92 26.1121 1597.57 26.1121 Q1607.41 26.1121 1612.27 31.2163 Q1617.13 36.3204 1617.13 46.6907 Z\" fill=\"#000000\" fill-rule=\"evenodd\" fill-opacity=\"1\" /><path clip-path=\"url(#clip810)\" d=\"M 0 0 M1651.24 34.1734 Q1649.98 33.4443 1648.49 33.1202 Q1647.03 32.7556 1645.25 32.7556 Q1638.93 32.7556 1635.52 36.8875 Q1632.16 40.9789 1632.16 48.6757 L1632.16 72.576 L1624.67 72.576 L1624.67 27.2059 L1632.16 27.2059 L1632.16 34.2544 Q1634.51 30.1225 1638.28 28.1376 Q1642.04 26.1121 1647.43 26.1121 Q1648.2 26.1121 1649.13 26.2337 Q1650.07 26.3147 1651.2 26.5172 L1651.24 34.1734 Z\" fill=\"#000000\" fill-rule=\"evenodd\" fill-opacity=\"1\" /><path clip-path=\"url(#clip810)\" d=\"M 0 0 M1666.43 14.324 L1666.43 27.2059 L1681.78 27.2059 L1681.78 32.9987 L1666.43 32.9987 L1666.43 57.6282 Q1666.43 63.1779 1667.93 64.7578 Q1669.47 66.3376 1674.13 66.3376 L1681.78 66.3376 L1681.78 72.576 L1674.13 72.576 Q1665.5 72.576 1662.22 69.3758 Q1658.94 66.1351 1658.94 57.6282 L1658.94 32.9987 L1653.47 32.9987 L1653.47 27.2059 L1658.94 27.2059 L1658.94 14.324 L1666.43 14.324 Z\" fill=\"#000000\" fill-rule=\"evenodd\" fill-opacity=\"1\" /><polyline clip-path=\"url(#clip812)\" style=\"stroke:#009af9; stroke-width:4; stroke-opacity:1; fill:none\" points=\"\n",
       "  210.724,1363.24 441.795,738.571 672.867,566.34 903.938,973.037 1135.01,1447.87 1366.08,166.706 1597.15,635.817 1828.22,986.705 2059.3,162.047 2290.37,998.843 \n",
       "  \n",
       "  \"/>\n",
       "<path clip-path=\"url(#clip810)\" d=\"\n",
       "M1922.33 327.952 L2280.76 327.952 L2280.76 206.992 L1922.33 206.992  Z\n",
       "  \" fill=\"#ffffff\" fill-rule=\"evenodd\" fill-opacity=\"1\"/>\n",
       "<polyline clip-path=\"url(#clip810)\" style=\"stroke:#000000; stroke-width:4; stroke-opacity:1; fill:none\" points=\"\n",
       "  1922.33,327.952 2280.76,327.952 2280.76,206.992 1922.33,206.992 1922.33,327.952 \n",
       "  \"/>\n",
       "<polyline clip-path=\"url(#clip810)\" style=\"stroke:#009af9; stroke-width:4; stroke-opacity:1; fill:none\" points=\"\n",
       "  1946.33,267.472 2090.33,267.472 \n",
       "  \"/>\n",
       "<path clip-path=\"url(#clip810)\" d=\"M 0 0 M2114.33 250.192 L2121.3 250.192 L2130.12 273.711 L2138.98 250.192 L2145.95 250.192 L2145.95 284.752 L2141.39 284.752 L2141.39 254.405 L2132.48 278.109 L2127.78 278.109 L2118.87 254.405 L2118.87 284.752 L2114.33 284.752 L2114.33 250.192 Z\" fill=\"#000000\" fill-rule=\"evenodd\" fill-opacity=\"1\" /><path clip-path=\"url(#clip810)\" d=\"M 0 0 M2162.2 271.72 Q2157.04 271.72 2155.05 272.9 Q2153.06 274.081 2153.06 276.928 Q2153.06 279.197 2154.54 280.539 Q2156.04 281.859 2158.61 281.859 Q2162.15 281.859 2164.28 279.359 Q2166.44 276.836 2166.44 272.669 L2166.44 271.72 L2162.2 271.72 M2170.7 269.961 L2170.7 284.752 L2166.44 284.752 L2166.44 280.817 Q2164.98 283.178 2162.8 284.312 Q2160.63 285.423 2157.48 285.423 Q2153.5 285.423 2151.14 283.201 Q2148.8 280.956 2148.8 277.206 Q2148.8 272.831 2151.71 270.609 Q2154.65 268.386 2160.46 268.386 L2166.44 268.386 L2166.44 267.97 Q2166.44 265.03 2164.49 263.433 Q2162.57 261.812 2159.08 261.812 Q2156.85 261.812 2154.75 262.345 Q2152.64 262.877 2150.7 263.942 L2150.7 260.007 Q2153.03 259.104 2155.23 258.664 Q2157.43 258.201 2159.52 258.201 Q2165.14 258.201 2167.92 261.118 Q2170.7 264.035 2170.7 269.961 Z\" fill=\"#000000\" fill-rule=\"evenodd\" fill-opacity=\"1\" /><path clip-path=\"url(#clip810)\" d=\"M 0 0 M2196.71 269.104 L2196.71 284.752 L2192.46 284.752 L2192.46 269.243 Q2192.46 265.562 2191.02 263.734 Q2189.58 261.905 2186.71 261.905 Q2183.27 261.905 2181.27 264.104 Q2179.28 266.303 2179.28 270.099 L2179.28 284.752 L2175 284.752 L2175 258.826 L2179.28 258.826 L2179.28 262.854 Q2180.81 260.516 2182.87 259.359 Q2184.96 258.201 2187.66 258.201 Q2192.13 258.201 2194.42 260.979 Q2196.71 263.734 2196.71 269.104 Z\" fill=\"#000000\" fill-rule=\"evenodd\" fill-opacity=\"1\" /><path clip-path=\"url(#clip810)\" d=\"M 0 0 M2201.18 258.826 L2205.44 258.826 L2205.44 284.752 L2201.18 284.752 L2201.18 258.826 M2201.18 248.734 L2205.44 248.734 L2205.44 254.127 L2201.18 254.127 L2201.18 248.734 Z\" fill=\"#000000\" fill-rule=\"evenodd\" fill-opacity=\"1\" /><path clip-path=\"url(#clip810)\" d=\"M 0 0 M2209.75 248.734 L2214.03 248.734 L2214.03 270.007 L2226.74 258.826 L2232.18 258.826 L2218.43 270.956 L2232.76 284.752 L2227.2 284.752 L2214.03 272.09 L2214.03 284.752 L2209.75 284.752 L2209.75 248.734 Z\" fill=\"#000000\" fill-rule=\"evenodd\" fill-opacity=\"1\" /></svg>\n"
      ]
     },
     "execution_count": 212,
     "metadata": {},
     "output_type": "execute_result"
    }
   ],
   "source": [
    "# command for labeling a line name\n",
    "plot(x,y,title = \"One random Line chart\",label =\"Manik\")"
   ]
  },
  {
   "cell_type": "code",
   "execution_count": 213,
   "metadata": {},
   "outputs": [
    {
     "data": {
      "image/svg+xml": [
       "<?xml version=\"1.0\" encoding=\"utf-8\"?>\n",
       "<svg xmlns=\"http://www.w3.org/2000/svg\" xmlns:xlink=\"http://www.w3.org/1999/xlink\" width=\"600\" height=\"400\" viewBox=\"0 0 2400 1600\">\n",
       "<defs>\n",
       "  <clipPath id=\"clip850\">\n",
       "    <rect x=\"0\" y=\"0\" width=\"2400\" height=\"1600\"/>\n",
       "  </clipPath>\n",
       "</defs>\n",
       "<path clip-path=\"url(#clip850)\" d=\"\n",
       "M0 1600 L2400 1600 L2400 0 L0 0  Z\n",
       "  \" fill=\"#ffffff\" fill-rule=\"evenodd\" fill-opacity=\"1\"/>\n",
       "<defs>\n",
       "  <clipPath id=\"clip851\">\n",
       "    <rect x=\"480\" y=\"0\" width=\"1681\" height=\"1600\"/>\n",
       "  </clipPath>\n",
       "</defs>\n",
       "<path clip-path=\"url(#clip850)\" d=\"\n",
       "M211.602 1423.18 L2352.76 1423.18 L2352.76 47.2441 L211.602 47.2441  Z\n",
       "  \" fill=\"#ffffff\" fill-rule=\"evenodd\" fill-opacity=\"1\"/>\n",
       "<defs>\n",
       "  <clipPath id=\"clip852\">\n",
       "    <rect x=\"211\" y=\"47\" width=\"2142\" height=\"1377\"/>\n",
       "  </clipPath>\n",
       "</defs>\n",
       "<polyline clip-path=\"url(#clip852)\" style=\"stroke:#000000; stroke-width:2; stroke-opacity:0.1; fill:none\" points=\"\n",
       "  496.641,1423.18 496.641,47.2441 \n",
       "  \"/>\n",
       "<polyline clip-path=\"url(#clip852)\" style=\"stroke:#000000; stroke-width:2; stroke-opacity:0.1; fill:none\" points=\"\n",
       "  945.52,1423.18 945.52,47.2441 \n",
       "  \"/>\n",
       "<polyline clip-path=\"url(#clip852)\" style=\"stroke:#000000; stroke-width:2; stroke-opacity:0.1; fill:none\" points=\"\n",
       "  1394.4,1423.18 1394.4,47.2441 \n",
       "  \"/>\n",
       "<polyline clip-path=\"url(#clip852)\" style=\"stroke:#000000; stroke-width:2; stroke-opacity:0.1; fill:none\" points=\"\n",
       "  1843.28,1423.18 1843.28,47.2441 \n",
       "  \"/>\n",
       "<polyline clip-path=\"url(#clip852)\" style=\"stroke:#000000; stroke-width:2; stroke-opacity:0.1; fill:none\" points=\"\n",
       "  2292.16,1423.18 2292.16,47.2441 \n",
       "  \"/>\n",
       "<polyline clip-path=\"url(#clip852)\" style=\"stroke:#000000; stroke-width:2; stroke-opacity:0.1; fill:none\" points=\"\n",
       "  211.602,1242.06 2352.76,1242.06 \n",
       "  \"/>\n",
       "<polyline clip-path=\"url(#clip852)\" style=\"stroke:#000000; stroke-width:2; stroke-opacity:0.1; fill:none\" points=\"\n",
       "  211.602,894.744 2352.76,894.744 \n",
       "  \"/>\n",
       "<polyline clip-path=\"url(#clip852)\" style=\"stroke:#000000; stroke-width:2; stroke-opacity:0.1; fill:none\" points=\"\n",
       "  211.602,547.427 2352.76,547.427 \n",
       "  \"/>\n",
       "<polyline clip-path=\"url(#clip852)\" style=\"stroke:#000000; stroke-width:2; stroke-opacity:0.1; fill:none\" points=\"\n",
       "  211.602,200.109 2352.76,200.109 \n",
       "  \"/>\n",
       "<polyline clip-path=\"url(#clip850)\" style=\"stroke:#000000; stroke-width:4; stroke-opacity:1; fill:none\" points=\"\n",
       "  211.602,1423.18 2352.76,1423.18 \n",
       "  \"/>\n",
       "<polyline clip-path=\"url(#clip850)\" style=\"stroke:#000000; stroke-width:4; stroke-opacity:1; fill:none\" points=\"\n",
       "  211.602,1423.18 211.602,47.2441 \n",
       "  \"/>\n",
       "<polyline clip-path=\"url(#clip850)\" style=\"stroke:#000000; stroke-width:4; stroke-opacity:1; fill:none\" points=\"\n",
       "  496.641,1423.18 496.641,1406.67 \n",
       "  \"/>\n",
       "<polyline clip-path=\"url(#clip850)\" style=\"stroke:#000000; stroke-width:4; stroke-opacity:1; fill:none\" points=\"\n",
       "  945.52,1423.18 945.52,1406.67 \n",
       "  \"/>\n",
       "<polyline clip-path=\"url(#clip850)\" style=\"stroke:#000000; stroke-width:4; stroke-opacity:1; fill:none\" points=\"\n",
       "  1394.4,1423.18 1394.4,1406.67 \n",
       "  \"/>\n",
       "<polyline clip-path=\"url(#clip850)\" style=\"stroke:#000000; stroke-width:4; stroke-opacity:1; fill:none\" points=\"\n",
       "  1843.28,1423.18 1843.28,1406.67 \n",
       "  \"/>\n",
       "<polyline clip-path=\"url(#clip850)\" style=\"stroke:#000000; stroke-width:4; stroke-opacity:1; fill:none\" points=\"\n",
       "  2292.16,1423.18 2292.16,1406.67 \n",
       "  \"/>\n",
       "<polyline clip-path=\"url(#clip850)\" style=\"stroke:#000000; stroke-width:4; stroke-opacity:1; fill:none\" points=\"\n",
       "  211.602,1242.06 237.296,1242.06 \n",
       "  \"/>\n",
       "<polyline clip-path=\"url(#clip850)\" style=\"stroke:#000000; stroke-width:4; stroke-opacity:1; fill:none\" points=\"\n",
       "  211.602,894.744 237.296,894.744 \n",
       "  \"/>\n",
       "<polyline clip-path=\"url(#clip850)\" style=\"stroke:#000000; stroke-width:4; stroke-opacity:1; fill:none\" points=\"\n",
       "  211.602,547.427 237.296,547.427 \n",
       "  \"/>\n",
       "<polyline clip-path=\"url(#clip850)\" style=\"stroke:#000000; stroke-width:4; stroke-opacity:1; fill:none\" points=\"\n",
       "  211.602,200.109 237.296,200.109 \n",
       "  \"/>\n",
       "<path clip-path=\"url(#clip850)\" d=\"M 0 0 M491.293 1472.72 L507.613 1472.72 L507.613 1476.65 L485.669 1476.65 L485.669 1472.72 Q488.331 1469.96 492.914 1465.33 Q497.52 1460.68 498.701 1459.34 Q500.946 1456.81 501.826 1455.08 Q502.729 1453.32 502.729 1451.63 Q502.729 1448.87 500.784 1447.14 Q498.863 1445.4 495.761 1445.4 Q493.562 1445.4 491.108 1446.17 Q488.678 1446.93 485.9 1448.48 L485.9 1443.76 Q488.724 1442.62 491.178 1442.05 Q493.631 1441.47 495.668 1441.47 Q501.039 1441.47 504.233 1444.15 Q507.428 1446.84 507.428 1451.33 Q507.428 1453.46 506.617 1455.38 Q505.83 1457.28 503.724 1459.87 Q503.145 1460.54 500.043 1463.76 Q496.942 1466.95 491.293 1472.72 Z\" fill=\"#000000\" fill-rule=\"evenodd\" fill-opacity=\"1\" /><path clip-path=\"url(#clip850)\" d=\"M 0 0 M948.529 1446.17 L936.724 1464.61 L948.529 1464.61 L948.529 1446.17 M947.302 1442.09 L953.182 1442.09 L953.182 1464.61 L958.112 1464.61 L958.112 1468.5 L953.182 1468.5 L953.182 1476.65 L948.529 1476.65 L948.529 1468.5 L932.927 1468.5 L932.927 1463.99 L947.302 1442.09 Z\" fill=\"#000000\" fill-rule=\"evenodd\" fill-opacity=\"1\" /><path clip-path=\"url(#clip850)\" d=\"M 0 0 M1394.8 1457.51 Q1391.66 1457.51 1389.8 1459.66 Q1387.98 1461.81 1387.98 1465.56 Q1387.98 1469.29 1389.8 1471.47 Q1391.66 1473.62 1394.8 1473.62 Q1397.95 1473.62 1399.78 1471.47 Q1401.63 1469.29 1401.63 1465.56 Q1401.63 1461.81 1399.78 1459.66 Q1397.95 1457.51 1394.8 1457.51 M1404.09 1442.86 L1404.09 1447.11 Q1402.33 1446.28 1400.52 1445.84 Q1398.74 1445.4 1396.98 1445.4 Q1392.35 1445.4 1389.9 1448.53 Q1387.47 1451.65 1387.12 1457.97 Q1388.48 1455.96 1390.54 1454.89 Q1392.6 1453.8 1395.08 1453.8 Q1400.29 1453.8 1403.3 1456.98 Q1406.33 1460.12 1406.33 1465.56 Q1406.33 1470.89 1403.18 1474.11 Q1400.04 1477.32 1394.8 1477.32 Q1388.81 1477.32 1385.64 1472.74 Q1382.47 1468.13 1382.47 1459.41 Q1382.47 1451.21 1386.36 1446.35 Q1390.24 1441.47 1396.79 1441.47 Q1398.55 1441.47 1400.34 1441.81 Q1402.14 1442.16 1404.09 1442.86 Z\" fill=\"#000000\" fill-rule=\"evenodd\" fill-opacity=\"1\" /><path clip-path=\"url(#clip850)\" d=\"M 0 0 M1843.28 1460.24 Q1839.94 1460.24 1838.02 1462.02 Q1836.13 1463.8 1836.13 1466.93 Q1836.13 1470.05 1838.02 1471.84 Q1839.94 1473.62 1843.28 1473.62 Q1846.61 1473.62 1848.53 1471.84 Q1850.45 1470.03 1850.45 1466.93 Q1850.45 1463.8 1848.53 1462.02 Q1846.63 1460.24 1843.28 1460.24 M1838.6 1458.25 Q1835.59 1457.51 1833.9 1455.45 Q1832.24 1453.39 1832.24 1450.43 Q1832.24 1446.28 1835.18 1443.87 Q1838.14 1441.47 1843.28 1441.47 Q1848.44 1441.47 1851.38 1443.87 Q1854.32 1446.28 1854.32 1450.43 Q1854.32 1453.39 1852.63 1455.45 Q1850.96 1457.51 1847.98 1458.25 Q1851.36 1459.04 1853.23 1461.33 Q1855.13 1463.62 1855.13 1466.93 Q1855.13 1471.95 1852.05 1474.64 Q1849 1477.32 1843.28 1477.32 Q1837.56 1477.32 1834.48 1474.64 Q1831.43 1471.95 1831.43 1466.93 Q1831.43 1463.62 1833.32 1461.33 Q1835.22 1459.04 1838.6 1458.25 M1836.89 1450.86 Q1836.89 1453.55 1838.56 1455.05 Q1840.25 1456.56 1843.28 1456.56 Q1846.29 1456.56 1847.98 1455.05 Q1849.69 1453.55 1849.69 1450.86 Q1849.69 1448.18 1847.98 1446.68 Q1846.29 1445.17 1843.28 1445.17 Q1840.25 1445.17 1838.56 1446.68 Q1836.89 1448.18 1836.89 1450.86 Z\" fill=\"#000000\" fill-rule=\"evenodd\" fill-opacity=\"1\" /><path clip-path=\"url(#clip850)\" d=\"M 0 0 M2269.03 1472.72 L2276.67 1472.72 L2276.67 1446.35 L2268.36 1448.02 L2268.36 1443.76 L2276.62 1442.09 L2281.3 1442.09 L2281.3 1472.72 L2288.94 1472.72 L2288.94 1476.65 L2269.03 1476.65 L2269.03 1472.72 Z\" fill=\"#000000\" fill-rule=\"evenodd\" fill-opacity=\"1\" /><path clip-path=\"url(#clip850)\" d=\"M 0 0 M2304.01 1445.17 Q2300.4 1445.17 2298.57 1448.74 Q2296.76 1452.28 2296.76 1459.41 Q2296.76 1466.51 2298.57 1470.08 Q2300.4 1473.62 2304.01 1473.62 Q2307.64 1473.62 2309.45 1470.08 Q2311.28 1466.51 2311.28 1459.41 Q2311.28 1452.28 2309.45 1448.74 Q2307.64 1445.17 2304.01 1445.17 M2304.01 1441.47 Q2309.82 1441.47 2312.87 1446.07 Q2315.95 1450.66 2315.95 1459.41 Q2315.95 1468.13 2312.87 1472.74 Q2309.82 1477.32 2304.01 1477.32 Q2298.2 1477.32 2295.12 1472.74 Q2292.06 1468.13 2292.06 1459.41 Q2292.06 1450.66 2295.12 1446.07 Q2298.2 1441.47 2304.01 1441.47 Z\" fill=\"#000000\" fill-rule=\"evenodd\" fill-opacity=\"1\" /><path clip-path=\"url(#clip850)\" d=\"M 0 0 M140.288 1227.86 Q136.677 1227.86 134.848 1231.42 Q133.043 1234.97 133.043 1242.1 Q133.043 1249.2 134.848 1252.77 Q136.677 1256.31 140.288 1256.31 Q143.922 1256.31 145.728 1252.77 Q147.556 1249.2 147.556 1242.1 Q147.556 1234.97 145.728 1231.42 Q143.922 1227.86 140.288 1227.86 M140.288 1224.16 Q146.098 1224.16 149.154 1228.76 Q152.232 1233.35 152.232 1242.1 Q152.232 1250.82 149.154 1255.43 Q146.098 1260.01 140.288 1260.01 Q134.478 1260.01 131.399 1255.43 Q128.343 1250.82 128.343 1242.1 Q128.343 1233.35 131.399 1228.76 Q134.478 1224.16 140.288 1224.16 Z\" fill=\"#000000\" fill-rule=\"evenodd\" fill-opacity=\"1\" /><path clip-path=\"url(#clip850)\" d=\"M 0 0 M157.302 1253.46 L162.186 1253.46 L162.186 1259.34 L157.302 1259.34 L157.302 1253.46 Z\" fill=\"#000000\" fill-rule=\"evenodd\" fill-opacity=\"1\" /><path clip-path=\"url(#clip850)\" d=\"M 0 0 M171.283 1255.41 L187.602 1255.41 L187.602 1259.34 L165.658 1259.34 L165.658 1255.41 Q168.32 1252.65 172.903 1248.02 Q177.51 1243.37 178.69 1242.03 Q180.936 1239.5 181.815 1237.77 Q182.718 1236.01 182.718 1234.32 Q182.718 1231.56 180.774 1229.83 Q178.852 1228.09 175.751 1228.09 Q173.552 1228.09 171.098 1228.86 Q168.667 1229.62 165.89 1231.17 L165.89 1226.45 Q168.714 1225.31 171.167 1224.73 Q173.621 1224.16 175.658 1224.16 Q181.028 1224.16 184.223 1226.84 Q187.417 1229.53 187.417 1234.02 Q187.417 1236.15 186.607 1238.07 Q185.82 1239.97 183.714 1242.56 Q183.135 1243.23 180.033 1246.45 Q176.931 1249.64 171.283 1255.41 Z\" fill=\"#000000\" fill-rule=\"evenodd\" fill-opacity=\"1\" /><path clip-path=\"url(#clip850)\" d=\"M 0 0 M138.205 880.543 Q134.593 880.543 132.765 884.107 Q130.959 887.649 130.959 894.779 Q130.959 901.885 132.765 905.45 Q134.593 908.991 138.205 908.991 Q141.839 908.991 143.644 905.45 Q145.473 901.885 145.473 894.779 Q145.473 887.649 143.644 884.107 Q141.839 880.543 138.205 880.543 M138.205 876.839 Q144.015 876.839 147.07 881.445 Q150.149 886.029 150.149 894.779 Q150.149 903.505 147.07 908.112 Q144.015 912.695 138.205 912.695 Q132.394 912.695 129.316 908.112 Q126.26 903.505 126.26 894.779 Q126.26 886.029 129.316 881.445 Q132.394 876.839 138.205 876.839 Z\" fill=\"#000000\" fill-rule=\"evenodd\" fill-opacity=\"1\" /><path clip-path=\"url(#clip850)\" d=\"M 0 0 M155.218 906.144 L160.103 906.144 L160.103 912.024 L155.218 912.024 L155.218 906.144 Z\" fill=\"#000000\" fill-rule=\"evenodd\" fill-opacity=\"1\" /><path clip-path=\"url(#clip850)\" d=\"M 0 0 M178.019 881.538 L166.214 899.987 L178.019 899.987 L178.019 881.538 M176.792 877.464 L182.672 877.464 L182.672 899.987 L187.602 899.987 L187.602 903.876 L182.672 903.876 L182.672 912.024 L178.019 912.024 L178.019 903.876 L162.417 903.876 L162.417 899.362 L176.792 877.464 Z\" fill=\"#000000\" fill-rule=\"evenodd\" fill-opacity=\"1\" /><path clip-path=\"url(#clip850)\" d=\"M 0 0 M138.529 533.225 Q134.918 533.225 133.089 536.79 Q131.283 540.332 131.283 547.461 Q131.283 554.568 133.089 558.133 Q134.918 561.674 138.529 561.674 Q142.163 561.674 143.968 558.133 Q145.797 554.568 145.797 547.461 Q145.797 540.332 143.968 536.79 Q142.163 533.225 138.529 533.225 M138.529 529.522 Q144.339 529.522 147.394 534.128 Q150.473 538.711 150.473 547.461 Q150.473 556.188 147.394 560.795 Q144.339 565.378 138.529 565.378 Q132.718 565.378 129.64 560.795 Q126.584 556.188 126.584 547.461 Q126.584 538.711 129.64 534.128 Q132.718 529.522 138.529 529.522 Z\" fill=\"#000000\" fill-rule=\"evenodd\" fill-opacity=\"1\" /><path clip-path=\"url(#clip850)\" d=\"M 0 0 M155.542 558.827 L160.427 558.827 L160.427 564.707 L155.542 564.707 L155.542 558.827 Z\" fill=\"#000000\" fill-rule=\"evenodd\" fill-opacity=\"1\" /><path clip-path=\"url(#clip850)\" d=\"M 0 0 M176.075 545.563 Q172.927 545.563 171.075 547.716 Q169.246 549.869 169.246 553.619 Q169.246 557.345 171.075 559.521 Q172.927 561.674 176.075 561.674 Q179.223 561.674 181.052 559.521 Q182.903 557.345 182.903 553.619 Q182.903 549.869 181.052 547.716 Q179.223 545.563 176.075 545.563 M185.357 530.91 L185.357 535.17 Q183.598 534.336 181.792 533.897 Q180.01 533.457 178.251 533.457 Q173.621 533.457 171.167 536.582 Q168.737 539.707 168.39 546.026 Q169.755 544.012 171.815 542.947 Q173.876 541.859 176.352 541.859 Q181.561 541.859 184.57 545.031 Q187.602 548.179 187.602 553.619 Q187.602 558.943 184.454 562.16 Q181.306 565.378 176.075 565.378 Q170.079 565.378 166.908 560.795 Q163.737 556.188 163.737 547.461 Q163.737 539.267 167.626 534.406 Q171.515 529.522 178.065 529.522 Q179.825 529.522 181.607 529.869 Q183.413 530.216 185.357 530.91 Z\" fill=\"#000000\" fill-rule=\"evenodd\" fill-opacity=\"1\" /><path clip-path=\"url(#clip850)\" d=\"M 0 0 M138.783 185.908 Q135.172 185.908 133.343 189.473 Q131.538 193.014 131.538 200.144 Q131.538 207.25 133.343 210.815 Q135.172 214.357 138.783 214.357 Q142.417 214.357 144.223 210.815 Q146.052 207.25 146.052 200.144 Q146.052 193.014 144.223 189.473 Q142.417 185.908 138.783 185.908 M138.783 182.204 Q144.593 182.204 147.649 186.811 Q150.728 191.394 150.728 200.144 Q150.728 208.871 147.649 213.477 Q144.593 218.061 138.783 218.061 Q132.973 218.061 129.894 213.477 Q126.839 208.871 126.839 200.144 Q126.839 191.394 129.894 186.811 Q132.973 182.204 138.783 182.204 Z\" fill=\"#000000\" fill-rule=\"evenodd\" fill-opacity=\"1\" /><path clip-path=\"url(#clip850)\" d=\"M 0 0 M155.797 211.51 L160.681 211.51 L160.681 217.389 L155.797 217.389 L155.797 211.51 Z\" fill=\"#000000\" fill-rule=\"evenodd\" fill-opacity=\"1\" /><path clip-path=\"url(#clip850)\" d=\"M 0 0 M175.751 200.977 Q172.417 200.977 170.496 202.76 Q168.598 204.542 168.598 207.667 Q168.598 210.792 170.496 212.574 Q172.417 214.357 175.751 214.357 Q179.084 214.357 181.005 212.574 Q182.927 210.769 182.927 207.667 Q182.927 204.542 181.005 202.76 Q179.107 200.977 175.751 200.977 M171.075 198.987 Q168.065 198.246 166.376 196.186 Q164.709 194.126 164.709 191.163 Q164.709 187.019 167.649 184.612 Q170.612 182.204 175.751 182.204 Q180.913 182.204 183.852 184.612 Q186.792 187.019 186.792 191.163 Q186.792 194.126 185.102 196.186 Q183.436 198.246 180.45 198.987 Q183.829 199.774 185.704 202.065 Q187.602 204.357 187.602 207.667 Q187.602 212.69 184.524 215.375 Q181.468 218.061 175.751 218.061 Q170.033 218.061 166.954 215.375 Q163.899 212.69 163.899 207.667 Q163.899 204.357 165.797 202.065 Q167.695 199.774 171.075 198.987 M169.362 191.602 Q169.362 194.288 171.028 195.792 Q172.718 197.297 175.751 197.297 Q178.76 197.297 180.45 195.792 Q182.163 194.288 182.163 191.602 Q182.163 188.917 180.45 187.413 Q178.76 185.908 175.751 185.908 Q172.718 185.908 171.028 187.413 Q169.362 188.917 169.362 191.602 Z\" fill=\"#000000\" fill-rule=\"evenodd\" fill-opacity=\"1\" /><path clip-path=\"url(#clip850)\" d=\"M 0 0 M1155.22 1520.4 L1142.32 1537.74 L1155.88 1556.04 L1148.98 1556.04 L1138.6 1542.04 L1128.22 1556.04 L1121.32 1556.04 L1135.16 1537.39 L1122.5 1520.4 L1129.4 1520.4 L1138.86 1533.1 L1148.31 1520.4 L1155.22 1520.4 Z\" fill=\"#000000\" fill-rule=\"evenodd\" fill-opacity=\"1\" /><path clip-path=\"url(#clip850)\" d=\"M 0 0 M1198.95 1538.12 Q1191.85 1538.12 1189.11 1539.75 Q1186.38 1541.37 1186.38 1545.29 Q1186.38 1548.4 1188.41 1550.25 Q1190.48 1552.07 1194.01 1552.07 Q1198.88 1552.07 1201.81 1548.63 Q1204.77 1545.16 1204.77 1539.43 L1204.77 1538.12 L1198.95 1538.12 M1210.63 1535.71 L1210.63 1556.04 L1204.77 1556.04 L1204.77 1550.63 Q1202.77 1553.88 1199.78 1555.44 Q1196.78 1556.97 1192.45 1556.97 Q1186.98 1556.97 1183.73 1553.91 Q1180.52 1550.82 1180.52 1545.67 Q1180.52 1539.65 1184.53 1536.6 Q1188.57 1533.54 1196.56 1533.54 L1204.77 1533.54 L1204.77 1532.97 Q1204.77 1528.93 1202.1 1526.73 Q1199.46 1524.5 1194.65 1524.5 Q1191.6 1524.5 1188.7 1525.23 Q1185.8 1525.97 1183.13 1527.43 L1183.13 1522.02 Q1186.34 1520.78 1189.37 1520.17 Q1192.39 1519.54 1195.26 1519.54 Q1202.99 1519.54 1206.81 1523.55 Q1210.63 1527.56 1210.63 1535.71 Z\" fill=\"#000000\" fill-rule=\"evenodd\" fill-opacity=\"1\" /><path clip-path=\"url(#clip850)\" d=\"M 0 0 M1246.4 1520.4 L1233.51 1537.74 L1247.07 1556.04 L1240.17 1556.04 L1229.79 1542.04 L1219.41 1556.04 L1212.51 1556.04 L1226.35 1537.39 L1213.68 1520.4 L1220.59 1520.4 L1230.04 1533.1 L1239.5 1520.4 L1246.4 1520.4 Z\" fill=\"#000000\" fill-rule=\"evenodd\" fill-opacity=\"1\" /><path clip-path=\"url(#clip850)\" d=\"M 0 0 M1253.22 1520.4 L1259.07 1520.4 L1259.07 1556.04 L1253.22 1556.04 L1253.22 1520.4 M1253.22 1506.52 L1259.07 1506.52 L1259.07 1513.93 L1253.22 1513.93 L1253.22 1506.52 Z\" fill=\"#000000\" fill-rule=\"evenodd\" fill-opacity=\"1\" /><path clip-path=\"url(#clip850)\" d=\"M 0 0 M1287.94 1521.45 L1287.94 1526.98 Q1285.46 1525.71 1282.78 1525.07 Q1280.11 1524.44 1277.25 1524.44 Q1272.89 1524.44 1270.69 1525.77 Q1268.52 1527.11 1268.52 1529.79 Q1268.52 1531.82 1270.08 1533 Q1271.64 1534.15 1276.35 1535.2 L1278.36 1535.64 Q1284.6 1536.98 1287.21 1539.43 Q1289.85 1541.85 1289.85 1546.21 Q1289.85 1551.17 1285.9 1554.07 Q1281.99 1556.97 1275.11 1556.97 Q1272.25 1556.97 1269.13 1556.39 Q1266.04 1555.85 1262.6 1554.74 L1262.6 1548.69 Q1265.85 1550.38 1269 1551.24 Q1272.15 1552.07 1275.24 1552.07 Q1279.38 1552.07 1281.61 1550.66 Q1283.83 1549.23 1283.83 1546.65 Q1283.83 1544.27 1282.21 1542.99 Q1280.62 1541.72 1275.18 1540.54 L1273.14 1540.07 Q1267.7 1538.92 1265.28 1536.56 Q1262.86 1534.18 1262.86 1530.04 Q1262.86 1525.01 1266.42 1522.27 Q1269.99 1519.54 1276.55 1519.54 Q1279.79 1519.54 1282.66 1520.01 Q1285.52 1520.49 1287.94 1521.45 Z\" fill=\"#000000\" fill-rule=\"evenodd\" fill-opacity=\"1\" /><path clip-path=\"url(#clip850)\" d=\"M 0 0 M1316.71 1506.52 L1322.57 1506.52 L1322.57 1556.04 L1316.71 1556.04 L1316.71 1506.52 Z\" fill=\"#000000\" fill-rule=\"evenodd\" fill-opacity=\"1\" /><path clip-path=\"url(#clip850)\" d=\"M 0 0 M1344.91 1538.12 Q1337.82 1538.12 1335.08 1539.75 Q1332.34 1541.37 1332.34 1545.29 Q1332.34 1548.4 1334.38 1550.25 Q1336.45 1552.07 1339.98 1552.07 Q1344.85 1552.07 1347.78 1548.63 Q1350.74 1545.16 1350.74 1539.43 L1350.74 1538.12 L1344.91 1538.12 M1356.59 1535.71 L1356.59 1556.04 L1350.74 1556.04 L1350.74 1550.63 Q1348.73 1553.88 1345.74 1555.44 Q1342.75 1556.97 1338.42 1556.97 Q1332.95 1556.97 1329.7 1553.91 Q1326.48 1550.82 1326.48 1545.67 Q1326.48 1539.65 1330.49 1536.6 Q1334.54 1533.54 1342.53 1533.54 L1350.74 1533.54 L1350.74 1532.97 Q1350.74 1528.93 1348.06 1526.73 Q1345.42 1524.5 1340.62 1524.5 Q1337.56 1524.5 1334.66 1525.23 Q1331.77 1525.97 1329.09 1527.43 L1329.09 1522.02 Q1332.31 1520.78 1335.33 1520.17 Q1338.36 1519.54 1341.22 1519.54 Q1348.96 1519.54 1352.77 1523.55 Q1356.59 1527.56 1356.59 1535.71 Z\" fill=\"#000000\" fill-rule=\"evenodd\" fill-opacity=\"1\" /><path clip-path=\"url(#clip850)\" d=\"M 0 0 M1388.33 1538.25 Q1388.33 1531.79 1385.65 1528.13 Q1383.01 1524.44 1378.36 1524.44 Q1373.72 1524.44 1371.04 1528.13 Q1368.4 1531.79 1368.4 1538.25 Q1368.4 1544.71 1371.04 1548.4 Q1373.72 1552.07 1378.36 1552.07 Q1383.01 1552.07 1385.65 1548.4 Q1388.33 1544.71 1388.33 1538.25 M1368.4 1525.81 Q1370.25 1522.62 1373.05 1521.1 Q1375.88 1519.54 1379.8 1519.54 Q1386.29 1519.54 1390.33 1524.69 Q1394.41 1529.85 1394.41 1538.25 Q1394.41 1546.65 1390.33 1551.81 Q1386.29 1556.97 1379.8 1556.97 Q1375.88 1556.97 1373.05 1555.44 Q1370.25 1553.88 1368.4 1550.7 L1368.4 1556.04 L1362.51 1556.04 L1362.51 1506.52 L1368.4 1506.52 L1368.4 1525.81 Z\" fill=\"#000000\" fill-rule=\"evenodd\" fill-opacity=\"1\" /><path clip-path=\"url(#clip850)\" d=\"M 0 0 M1431.04 1536.76 L1431.04 1539.62 L1404.11 1539.62 Q1404.5 1545.67 1407.74 1548.85 Q1411.02 1552 1416.85 1552 Q1420.22 1552 1423.37 1551.17 Q1426.55 1550.35 1429.67 1548.69 L1429.67 1554.23 Q1426.52 1555.57 1423.21 1556.27 Q1419.9 1556.97 1416.5 1556.97 Q1407.97 1556.97 1402.97 1552 Q1398 1547.04 1398 1538.57 Q1398 1529.82 1402.71 1524.69 Q1407.46 1519.54 1415.48 1519.54 Q1422.67 1519.54 1426.84 1524.18 Q1431.04 1528.8 1431.04 1536.76 M1425.18 1535.04 Q1425.12 1530.23 1422.48 1527.37 Q1419.87 1524.5 1415.54 1524.5 Q1410.64 1524.5 1407.68 1527.27 Q1404.75 1530.04 1404.31 1535.07 L1425.18 1535.04 Z\" fill=\"#000000\" fill-rule=\"evenodd\" fill-opacity=\"1\" /><path clip-path=\"url(#clip850)\" d=\"M 0 0 M1437.18 1506.52 L1443.04 1506.52 L1443.04 1556.04 L1437.18 1556.04 L1437.18 1506.52 Z\" fill=\"#000000\" fill-rule=\"evenodd\" fill-opacity=\"1\" /><path clip-path=\"url(#clip850)\" d=\"M 0 0 M91.3143 877.104 Q97.68 879.586 99.6216 881.942 Q101.563 884.297 101.563 888.244 L101.563 892.922 L96.6615 892.922 L96.6615 889.485 Q96.6615 887.066 95.5157 885.729 Q94.3699 884.392 90.1048 882.769 L87.4312 881.719 L52.3562 896.137 L52.3562 889.93 L80.238 878.79 L52.3562 867.65 L52.3562 861.444 L91.3143 877.104 Z\" fill=\"#000000\" fill-rule=\"evenodd\" fill-opacity=\"1\" /><path clip-path=\"url(#clip850)\" d=\"M 0 0 M70.0847 818.38 Q70.0847 825.478 71.7079 828.215 Q73.3312 830.952 77.2461 830.952 Q80.3653 830.952 82.2114 828.915 Q84.0256 826.846 84.0256 823.313 Q84.0256 818.444 80.5881 815.515 Q77.1188 812.555 71.3897 812.555 L70.0847 812.555 L70.0847 818.38 M67.6657 806.699 L88.0042 806.699 L88.0042 812.555 L82.5933 812.555 Q85.8398 814.561 87.3994 817.552 Q88.9272 820.544 88.9272 824.873 Q88.9272 830.347 85.8716 833.594 Q82.7843 836.809 77.6281 836.809 Q71.6125 836.809 68.5569 832.798 Q65.5014 828.756 65.5014 820.767 L65.5014 812.555 L64.9285 812.555 Q60.8862 812.555 58.6901 815.229 Q56.4621 817.871 56.4621 822.677 Q56.4621 825.732 57.1941 828.629 Q57.9262 831.525 59.3903 834.199 L53.9795 834.199 Q52.7381 830.984 52.1334 827.96 Q51.4968 824.937 51.4968 822.072 Q51.4968 814.338 55.5072 810.518 Q59.5176 806.699 67.6657 806.699 Z\" fill=\"#000000\" fill-rule=\"evenodd\" fill-opacity=\"1\" /><path clip-path=\"url(#clip850)\" d=\"M 0 0 M52.3562 770.924 L69.7028 783.814 L88.0042 770.255 L88.0042 777.162 L73.9996 787.538 L88.0042 797.914 L88.0042 804.821 L69.3526 790.976 L52.3562 803.643 L52.3562 796.737 L65.0558 787.283 L52.3562 777.83 L52.3562 770.924 Z\" fill=\"#000000\" fill-rule=\"evenodd\" fill-opacity=\"1\" /><path clip-path=\"url(#clip850)\" d=\"M 0 0 M52.3562 764.112 L52.3562 758.256 L88.0042 758.256 L88.0042 764.112 L52.3562 764.112 M38.479 764.112 L38.479 758.256 L45.895 758.256 L45.895 764.112 L38.479 764.112 Z\" fill=\"#000000\" fill-rule=\"evenodd\" fill-opacity=\"1\" /><path clip-path=\"url(#clip850)\" d=\"M 0 0 M53.4065 729.387 L58.9447 729.387 Q57.6716 731.87 57.035 734.544 Q56.3984 737.217 56.3984 740.082 Q56.3984 744.442 57.7352 746.638 Q59.072 748.803 61.7456 748.803 Q63.7826 748.803 64.9603 747.243 Q66.1061 745.684 67.1565 740.973 L67.6021 738.968 Q68.9389 732.729 71.3897 730.119 Q73.8086 727.478 78.1691 727.478 Q83.1344 727.478 86.0308 731.424 Q88.9272 735.339 88.9272 742.214 Q88.9272 745.079 88.3543 748.198 Q87.8132 751.285 86.6992 754.723 L80.6518 754.723 Q82.3387 751.476 83.198 748.325 Q84.0256 745.174 84.0256 742.087 Q84.0256 737.949 82.6251 735.721 Q81.1929 733.493 78.6147 733.493 Q76.2276 733.493 74.9545 735.116 Q73.6813 736.708 72.5037 742.151 L72.0262 744.188 Q70.8804 749.63 68.5251 752.049 Q66.138 754.468 62.0002 754.468 Q56.9713 754.468 54.2341 750.903 Q51.4968 747.339 51.4968 740.782 Q51.4968 737.535 51.9743 734.671 Q52.4517 731.806 53.4065 729.387 Z\" fill=\"#000000\" fill-rule=\"evenodd\" fill-opacity=\"1\" /><path clip-path=\"url(#clip850)\" d=\"M 0 0 M38.479 700.614 L38.479 694.758 L88.0042 694.758 L88.0042 700.614 L38.479 700.614 Z\" fill=\"#000000\" fill-rule=\"evenodd\" fill-opacity=\"1\" /><path clip-path=\"url(#clip850)\" d=\"M 0 0 M70.0847 672.414 Q70.0847 679.512 71.7079 682.249 Q73.3312 684.987 77.2461 684.987 Q80.3653 684.987 82.2114 682.95 Q84.0256 680.881 84.0256 677.348 Q84.0256 672.478 80.5881 669.55 Q77.1188 666.59 71.3897 666.59 L70.0847 666.59 L70.0847 672.414 M67.6657 660.733 L88.0042 660.733 L88.0042 666.59 L82.5933 666.59 Q85.8398 668.595 87.3994 671.587 Q88.9272 674.579 88.9272 678.907 Q88.9272 684.382 85.8716 687.628 Q82.7843 690.843 77.6281 690.843 Q71.6125 690.843 68.5569 686.833 Q65.5014 682.79 65.5014 674.801 L65.5014 666.59 L64.9285 666.59 Q60.8862 666.59 58.6901 669.263 Q56.4621 671.905 56.4621 676.711 Q56.4621 679.767 57.1941 682.663 Q57.9262 685.559 59.3903 688.233 L53.9795 688.233 Q52.7381 685.018 52.1334 681.995 Q51.4968 678.971 51.4968 676.106 Q51.4968 668.372 55.5072 664.553 Q59.5176 660.733 67.6657 660.733 Z\" fill=\"#000000\" fill-rule=\"evenodd\" fill-opacity=\"1\" /><path clip-path=\"url(#clip850)\" d=\"M 0 0 M70.212 629 Q63.7508 629 60.0905 631.674 Q56.3984 634.316 56.3984 638.962 Q56.3984 643.609 60.0905 646.283 Q63.7508 648.925 70.212 648.925 Q76.6732 648.925 80.3653 646.283 Q84.0256 643.609 84.0256 638.962 Q84.0256 634.316 80.3653 631.674 Q76.6732 629 70.212 629 M57.7671 648.925 Q54.5842 647.079 53.0564 644.278 Q51.4968 641.445 51.4968 637.53 Q51.4968 631.037 56.6531 626.995 Q61.8093 622.921 70.212 622.921 Q78.6147 622.921 83.771 626.995 Q88.9272 631.037 88.9272 637.53 Q88.9272 641.445 87.3994 644.278 Q85.8398 647.079 82.657 648.925 L88.0042 648.925 L88.0042 654.813 L38.479 654.813 L38.479 648.925 L57.7671 648.925 Z\" fill=\"#000000\" fill-rule=\"evenodd\" fill-opacity=\"1\" /><path clip-path=\"url(#clip850)\" d=\"M 0 0 M68.7161 586.286 L71.5806 586.286 L71.5806 613.213 Q77.6281 612.831 80.8109 609.585 Q83.9619 606.306 83.9619 600.482 Q83.9619 597.108 83.1344 593.957 Q82.3069 590.774 80.6518 587.655 L86.1899 587.655 Q87.5267 590.806 88.227 594.116 Q88.9272 597.426 88.9272 600.832 Q88.9272 609.362 83.9619 614.359 Q78.9967 619.324 70.5303 619.324 Q61.7774 619.324 56.6531 614.614 Q51.4968 609.871 51.4968 601.85 Q51.4968 594.657 56.1438 590.488 Q60.7589 586.286 68.7161 586.286 M66.9973 592.143 Q62.1912 592.206 59.3266 594.848 Q56.4621 597.458 56.4621 601.787 Q56.4621 606.688 59.2312 609.648 Q62.0002 612.577 67.0292 613.022 L66.9973 592.143 Z\" fill=\"#000000\" fill-rule=\"evenodd\" fill-opacity=\"1\" /><path clip-path=\"url(#clip850)\" d=\"M 0 0 M38.479 580.143 L38.479 574.287 L88.0042 574.287 L88.0042 580.143 L38.479 580.143 Z\" fill=\"#000000\" fill-rule=\"evenodd\" fill-opacity=\"1\" /><polyline clip-path=\"url(#clip852)\" style=\"stroke:#009af9; stroke-width:4; stroke-opacity:1; fill:none\" points=\"\n",
       "  272.201,1298.8 496.641,668.192 721.08,494.323 945.52,904.887 1169.96,1384.24 1394.4,90.8886 1618.84,564.46 1843.28,918.685 2067.72,86.1857 2292.16,930.938 \n",
       "  \n",
       "  \"/>\n",
       "<path clip-path=\"url(#clip850)\" d=\"\n",
       "M1989.74 251.724 L2280.76 251.724 L2280.76 130.764 L1989.74 130.764  Z\n",
       "  \" fill=\"#ffffff\" fill-rule=\"evenodd\" fill-opacity=\"1\"/>\n",
       "<polyline clip-path=\"url(#clip850)\" style=\"stroke:#000000; stroke-width:4; stroke-opacity:1; fill:none\" points=\"\n",
       "  1989.74,251.724 2280.76,251.724 2280.76,130.764 1989.74,130.764 1989.74,251.724 \n",
       "  \"/>\n",
       "<polyline clip-path=\"url(#clip850)\" style=\"stroke:#009af9; stroke-width:4; stroke-opacity:1; fill:none\" points=\"\n",
       "  2013.74,191.244 2157.74,191.244 \n",
       "  \"/>\n",
       "<path clip-path=\"url(#clip850)\" d=\"M 0 0 M2195.58 210.931 Q2193.77 215.561 2192.06 216.973 Q2190.35 218.385 2187.48 218.385 L2184.08 218.385 L2184.08 214.82 L2186.58 214.82 Q2188.33 214.82 2189.31 213.987 Q2190.28 213.154 2191.46 210.052 L2192.22 208.107 L2181.74 182.598 L2186.25 182.598 L2194.35 202.876 L2202.46 182.598 L2206.97 182.598 L2195.58 210.931 Z\" fill=\"#000000\" fill-rule=\"evenodd\" fill-opacity=\"1\" /><path clip-path=\"url(#clip850)\" d=\"M 0 0 M2212.85 204.589 L2220.49 204.589 L2220.49 178.223 L2212.18 179.89 L2212.18 175.631 L2220.44 173.964 L2225.12 173.964 L2225.12 204.589 L2232.76 204.589 L2232.76 208.524 L2212.85 208.524 L2212.85 204.589 Z\" fill=\"#000000\" fill-rule=\"evenodd\" fill-opacity=\"1\" /></svg>\n"
      ]
     },
     "execution_count": 213,
     "metadata": {},
     "output_type": "execute_result"
    }
   ],
   "source": [
    "# command for labeling a name for x and y axis\n",
    "plot(x,y,xlabel = \"x axis label\",ylabel = \"y axis label\")"
   ]
  },
  {
   "cell_type": "code",
   "execution_count": 214,
   "metadata": {},
   "outputs": [
    {
     "data": {
      "image/svg+xml": [
       "<?xml version=\"1.0\" encoding=\"utf-8\"?>\n",
       "<svg xmlns=\"http://www.w3.org/2000/svg\" xmlns:xlink=\"http://www.w3.org/1999/xlink\" width=\"600\" height=\"400\" viewBox=\"0 0 2400 1600\">\n",
       "<defs>\n",
       "  <clipPath id=\"clip890\">\n",
       "    <rect x=\"0\" y=\"0\" width=\"2400\" height=\"1600\"/>\n",
       "  </clipPath>\n",
       "</defs>\n",
       "<path clip-path=\"url(#clip890)\" d=\"\n",
       "M0 1600 L2400 1600 L2400 0 L0 0  Z\n",
       "  \" fill=\"#ffffff\" fill-rule=\"evenodd\" fill-opacity=\"1\"/>\n",
       "<defs>\n",
       "  <clipPath id=\"clip891\">\n",
       "    <rect x=\"480\" y=\"0\" width=\"1681\" height=\"1600\"/>\n",
       "  </clipPath>\n",
       "</defs>\n",
       "<path clip-path=\"url(#clip890)\" d=\"\n",
       "M148.334 1486.45 L2352.76 1486.45 L2352.76 47.2441 L148.334 47.2441  Z\n",
       "  \" fill=\"#ffffff\" fill-rule=\"evenodd\" fill-opacity=\"1\"/>\n",
       "<defs>\n",
       "  <clipPath id=\"clip892\">\n",
       "    <rect x=\"148\" y=\"47\" width=\"2205\" height=\"1440\"/>\n",
       "  </clipPath>\n",
       "</defs>\n",
       "<polyline clip-path=\"url(#clip892)\" style=\"stroke:#000000; stroke-width:2; stroke-opacity:0.1; fill:none\" points=\"\n",
       "  441.795,1486.45 441.795,47.2441 \n",
       "  \"/>\n",
       "<polyline clip-path=\"url(#clip892)\" style=\"stroke:#000000; stroke-width:2; stroke-opacity:0.1; fill:none\" points=\"\n",
       "  903.938,1486.45 903.938,47.2441 \n",
       "  \"/>\n",
       "<polyline clip-path=\"url(#clip892)\" style=\"stroke:#000000; stroke-width:2; stroke-opacity:0.1; fill:none\" points=\"\n",
       "  1366.08,1486.45 1366.08,47.2441 \n",
       "  \"/>\n",
       "<polyline clip-path=\"url(#clip892)\" style=\"stroke:#000000; stroke-width:2; stroke-opacity:0.1; fill:none\" points=\"\n",
       "  1828.22,1486.45 1828.22,47.2441 \n",
       "  \"/>\n",
       "<polyline clip-path=\"url(#clip892)\" style=\"stroke:#000000; stroke-width:2; stroke-opacity:0.1; fill:none\" points=\"\n",
       "  2290.37,1486.45 2290.37,47.2441 \n",
       "  \"/>\n",
       "<polyline clip-path=\"url(#clip892)\" style=\"stroke:#000000; stroke-width:2; stroke-opacity:0.1; fill:none\" points=\"\n",
       "  148.334,1297 2352.76,1297 \n",
       "  \"/>\n",
       "<polyline clip-path=\"url(#clip892)\" style=\"stroke:#000000; stroke-width:2; stroke-opacity:0.1; fill:none\" points=\"\n",
       "  148.334,933.713 2352.76,933.713 \n",
       "  \"/>\n",
       "<polyline clip-path=\"url(#clip892)\" style=\"stroke:#000000; stroke-width:2; stroke-opacity:0.1; fill:none\" points=\"\n",
       "  148.334,570.426 2352.76,570.426 \n",
       "  \"/>\n",
       "<polyline clip-path=\"url(#clip892)\" style=\"stroke:#000000; stroke-width:2; stroke-opacity:0.1; fill:none\" points=\"\n",
       "  148.334,207.138 2352.76,207.138 \n",
       "  \"/>\n",
       "<polyline clip-path=\"url(#clip890)\" style=\"stroke:#000000; stroke-width:4; stroke-opacity:1; fill:none\" points=\"\n",
       "  148.334,1486.45 2352.76,1486.45 \n",
       "  \"/>\n",
       "<polyline clip-path=\"url(#clip890)\" style=\"stroke:#000000; stroke-width:4; stroke-opacity:1; fill:none\" points=\"\n",
       "  148.334,1486.45 148.334,47.2441 \n",
       "  \"/>\n",
       "<polyline clip-path=\"url(#clip890)\" style=\"stroke:#000000; stroke-width:4; stroke-opacity:1; fill:none\" points=\"\n",
       "  441.795,1486.45 441.795,1469.18 \n",
       "  \"/>\n",
       "<polyline clip-path=\"url(#clip890)\" style=\"stroke:#000000; stroke-width:4; stroke-opacity:1; fill:none\" points=\"\n",
       "  903.938,1486.45 903.938,1469.18 \n",
       "  \"/>\n",
       "<polyline clip-path=\"url(#clip890)\" style=\"stroke:#000000; stroke-width:4; stroke-opacity:1; fill:none\" points=\"\n",
       "  1366.08,1486.45 1366.08,1469.18 \n",
       "  \"/>\n",
       "<polyline clip-path=\"url(#clip890)\" style=\"stroke:#000000; stroke-width:4; stroke-opacity:1; fill:none\" points=\"\n",
       "  1828.22,1486.45 1828.22,1469.18 \n",
       "  \"/>\n",
       "<polyline clip-path=\"url(#clip890)\" style=\"stroke:#000000; stroke-width:4; stroke-opacity:1; fill:none\" points=\"\n",
       "  2290.37,1486.45 2290.37,1469.18 \n",
       "  \"/>\n",
       "<polyline clip-path=\"url(#clip890)\" style=\"stroke:#000000; stroke-width:4; stroke-opacity:1; fill:none\" points=\"\n",
       "  148.334,1297 174.787,1297 \n",
       "  \"/>\n",
       "<polyline clip-path=\"url(#clip890)\" style=\"stroke:#000000; stroke-width:4; stroke-opacity:1; fill:none\" points=\"\n",
       "  148.334,933.713 174.787,933.713 \n",
       "  \"/>\n",
       "<polyline clip-path=\"url(#clip890)\" style=\"stroke:#000000; stroke-width:4; stroke-opacity:1; fill:none\" points=\"\n",
       "  148.334,570.426 174.787,570.426 \n",
       "  \"/>\n",
       "<polyline clip-path=\"url(#clip890)\" style=\"stroke:#000000; stroke-width:4; stroke-opacity:1; fill:none\" points=\"\n",
       "  148.334,207.138 174.787,207.138 \n",
       "  \"/>\n",
       "<path clip-path=\"url(#clip890)\" d=\"M 0 0 M436.448 1535.98 L452.767 1535.98 L452.767 1539.92 L430.823 1539.92 L430.823 1535.98 Q433.485 1533.23 438.068 1528.6 Q442.675 1523.95 443.855 1522.61 Q446.101 1520.08 446.98 1518.35 Q447.883 1516.59 447.883 1514.9 Q447.883 1512.14 445.939 1510.41 Q444.017 1508.67 440.915 1508.67 Q438.716 1508.67 436.263 1509.43 Q433.832 1510.2 431.054 1511.75 L431.054 1507.03 Q433.878 1505.89 436.332 1505.31 Q438.786 1504.73 440.823 1504.73 Q446.193 1504.73 449.388 1507.42 Q452.582 1510.11 452.582 1514.6 Q452.582 1516.73 451.772 1518.65 Q450.985 1520.54 448.878 1523.14 Q448.3 1523.81 445.198 1527.03 Q442.096 1530.22 436.448 1535.98 Z\" fill=\"#000000\" fill-rule=\"evenodd\" fill-opacity=\"1\" /><path clip-path=\"url(#clip890)\" d=\"M 0 0 M906.947 1509.43 L895.142 1527.88 L906.947 1527.88 L906.947 1509.43 M905.72 1505.36 L911.6 1505.36 L911.6 1527.88 L916.531 1527.88 L916.531 1531.77 L911.6 1531.77 L911.6 1539.92 L906.947 1539.92 L906.947 1531.77 L891.345 1531.77 L891.345 1527.26 L905.72 1505.36 Z\" fill=\"#000000\" fill-rule=\"evenodd\" fill-opacity=\"1\" /><path clip-path=\"url(#clip890)\" d=\"M 0 0 M1366.49 1520.78 Q1363.34 1520.78 1361.49 1522.93 Q1359.66 1525.08 1359.66 1528.83 Q1359.66 1532.56 1361.49 1534.73 Q1363.34 1536.89 1366.49 1536.89 Q1369.63 1536.89 1371.46 1534.73 Q1373.31 1532.56 1373.31 1528.83 Q1373.31 1525.08 1371.46 1522.93 Q1369.63 1520.78 1366.49 1520.78 M1375.77 1506.12 L1375.77 1510.38 Q1374.01 1509.55 1372.2 1509.11 Q1370.42 1508.67 1368.66 1508.67 Q1364.03 1508.67 1361.58 1511.8 Q1359.15 1514.92 1358.8 1521.24 Q1360.17 1519.23 1362.23 1518.16 Q1364.29 1517.07 1366.76 1517.07 Q1371.97 1517.07 1374.98 1520.24 Q1378.01 1523.39 1378.01 1528.83 Q1378.01 1534.16 1374.87 1537.37 Q1371.72 1540.59 1366.49 1540.59 Q1360.49 1540.59 1357.32 1536.01 Q1354.15 1531.4 1354.15 1522.67 Q1354.15 1514.48 1358.04 1509.62 Q1361.93 1504.73 1368.48 1504.73 Q1370.24 1504.73 1372.02 1505.08 Q1373.82 1505.43 1375.77 1506.12 Z\" fill=\"#000000\" fill-rule=\"evenodd\" fill-opacity=\"1\" /><path clip-path=\"url(#clip890)\" d=\"M 0 0 M1828.22 1523.51 Q1824.89 1523.51 1822.97 1525.29 Q1821.07 1527.07 1821.07 1530.2 Q1821.07 1533.32 1822.97 1535.11 Q1824.89 1536.89 1828.22 1536.89 Q1831.56 1536.89 1833.48 1535.11 Q1835.4 1533.3 1835.4 1530.2 Q1835.4 1527.07 1833.48 1525.29 Q1831.58 1523.51 1828.22 1523.51 M1823.55 1521.52 Q1820.54 1520.78 1818.85 1518.72 Q1817.18 1516.66 1817.18 1513.69 Q1817.18 1509.55 1820.12 1507.14 Q1823.08 1504.73 1828.22 1504.73 Q1833.39 1504.73 1836.33 1507.14 Q1839.27 1509.55 1839.27 1513.69 Q1839.27 1516.66 1837.58 1518.72 Q1835.91 1520.78 1832.92 1521.52 Q1836.3 1522.3 1838.18 1524.6 Q1840.08 1526.89 1840.08 1530.2 Q1840.08 1535.22 1837 1537.91 Q1833.94 1540.59 1828.22 1540.59 Q1822.51 1540.59 1819.43 1537.91 Q1816.37 1535.22 1816.37 1530.2 Q1816.37 1526.89 1818.27 1524.6 Q1820.17 1522.3 1823.55 1521.52 M1821.83 1514.13 Q1821.83 1516.82 1823.5 1518.32 Q1825.19 1519.83 1828.22 1519.83 Q1831.23 1519.83 1832.92 1518.32 Q1834.64 1516.82 1834.64 1514.13 Q1834.64 1511.45 1832.92 1509.94 Q1831.23 1508.44 1828.22 1508.44 Q1825.19 1508.44 1823.5 1509.94 Q1821.83 1511.45 1821.83 1514.13 Z\" fill=\"#000000\" fill-rule=\"evenodd\" fill-opacity=\"1\" /><path clip-path=\"url(#clip890)\" d=\"M 0 0 M2267.24 1535.98 L2274.88 1535.98 L2274.88 1509.62 L2266.57 1511.29 L2266.57 1507.03 L2274.83 1505.36 L2279.51 1505.36 L2279.51 1535.98 L2287.15 1535.98 L2287.15 1539.92 L2267.24 1539.92 L2267.24 1535.98 Z\" fill=\"#000000\" fill-rule=\"evenodd\" fill-opacity=\"1\" /><path clip-path=\"url(#clip890)\" d=\"M 0 0 M2302.22 1508.44 Q2298.61 1508.44 2296.78 1512 Q2294.97 1515.55 2294.97 1522.67 Q2294.97 1529.78 2296.78 1533.35 Q2298.61 1536.89 2302.22 1536.89 Q2305.85 1536.89 2307.66 1533.35 Q2309.49 1529.78 2309.49 1522.67 Q2309.49 1515.55 2307.66 1512 Q2305.85 1508.44 2302.22 1508.44 M2302.22 1504.73 Q2308.03 1504.73 2311.08 1509.34 Q2314.16 1513.92 2314.16 1522.67 Q2314.16 1531.4 2311.08 1536.01 Q2308.03 1540.59 2302.22 1540.59 Q2296.41 1540.59 2293.33 1536.01 Q2290.27 1531.4 2290.27 1522.67 Q2290.27 1513.92 2293.33 1509.34 Q2296.41 1504.73 2302.22 1504.73 Z\" fill=\"#000000\" fill-rule=\"evenodd\" fill-opacity=\"1\" /><path clip-path=\"url(#clip890)\" d=\"M 0 0 M77.0198 1282.8 Q73.4087 1282.8 71.58 1286.36 Q69.7745 1289.91 69.7745 1297.04 Q69.7745 1304.14 71.58 1307.71 Q73.4087 1311.25 77.0198 1311.25 Q80.6541 1311.25 82.4596 1307.71 Q84.2883 1304.14 84.2883 1297.04 Q84.2883 1289.91 82.4596 1286.36 Q80.6541 1282.8 77.0198 1282.8 M77.0198 1279.1 Q82.83 1279.1 85.8855 1283.7 Q88.9642 1288.29 88.9642 1297.04 Q88.9642 1305.76 85.8855 1310.37 Q82.83 1314.95 77.0198 1314.95 Q71.2097 1314.95 68.131 1310.37 Q65.0754 1305.76 65.0754 1297.04 Q65.0754 1288.29 68.131 1283.7 Q71.2097 1279.1 77.0198 1279.1 Z\" fill=\"#000000\" fill-rule=\"evenodd\" fill-opacity=\"1\" /><path clip-path=\"url(#clip890)\" d=\"M 0 0 M94.0336 1308.4 L98.9179 1308.4 L98.9179 1314.28 L94.0336 1314.28 L94.0336 1308.4 Z\" fill=\"#000000\" fill-rule=\"evenodd\" fill-opacity=\"1\" /><path clip-path=\"url(#clip890)\" d=\"M 0 0 M108.015 1310.35 L124.334 1310.35 L124.334 1314.28 L102.39 1314.28 L102.39 1310.35 Q105.052 1307.59 109.635 1302.96 Q114.242 1298.31 115.422 1296.97 Q117.668 1294.44 118.547 1292.71 Q119.45 1290.95 119.45 1289.26 Q119.45 1286.5 117.506 1284.77 Q115.584 1283.03 112.483 1283.03 Q110.284 1283.03 107.83 1283.8 Q105.399 1284.56 102.622 1286.11 L102.622 1281.39 Q105.446 1280.25 107.899 1279.67 Q110.353 1279.1 112.39 1279.1 Q117.76 1279.1 120.955 1281.78 Q124.149 1284.47 124.149 1288.96 Q124.149 1291.09 123.339 1293.01 Q122.552 1294.91 120.446 1297.5 Q119.867 1298.17 116.765 1301.39 Q113.663 1304.58 108.015 1310.35 Z\" fill=\"#000000\" fill-rule=\"evenodd\" fill-opacity=\"1\" /><path clip-path=\"url(#clip890)\" d=\"M 0 0 M74.9365 919.512 Q71.3254 919.512 69.4967 923.077 Q67.6912 926.619 67.6912 933.748 Q67.6912 940.855 69.4967 944.419 Q71.3254 947.961 74.9365 947.961 Q78.5707 947.961 80.3763 944.419 Q82.205 940.855 82.205 933.748 Q82.205 926.619 80.3763 923.077 Q78.5707 919.512 74.9365 919.512 M74.9365 915.808 Q80.7467 915.808 83.8022 920.415 Q86.8809 924.998 86.8809 933.748 Q86.8809 942.475 83.8022 947.081 Q80.7467 951.665 74.9365 951.665 Q69.1264 951.665 66.0477 947.081 Q62.9921 942.475 62.9921 933.748 Q62.9921 924.998 66.0477 920.415 Q69.1264 915.808 74.9365 915.808 Z\" fill=\"#000000\" fill-rule=\"evenodd\" fill-opacity=\"1\" /><path clip-path=\"url(#clip890)\" d=\"M 0 0 M91.9503 945.114 L96.8345 945.114 L96.8345 950.993 L91.9503 950.993 L91.9503 945.114 Z\" fill=\"#000000\" fill-rule=\"evenodd\" fill-opacity=\"1\" /><path clip-path=\"url(#clip890)\" d=\"M 0 0 M114.751 920.507 L102.946 938.956 L114.751 938.956 L114.751 920.507 M113.524 916.433 L119.404 916.433 L119.404 938.956 L124.334 938.956 L124.334 942.845 L119.404 942.845 L119.404 950.993 L114.751 950.993 L114.751 942.845 L99.1493 942.845 L99.1493 938.331 L113.524 916.433 Z\" fill=\"#000000\" fill-rule=\"evenodd\" fill-opacity=\"1\" /><path clip-path=\"url(#clip890)\" d=\"M 0 0 M75.2606 556.225 Q71.6495 556.225 69.8208 559.789 Q68.0152 563.331 68.0152 570.461 Q68.0152 577.567 69.8208 581.132 Q71.6495 584.673 75.2606 584.673 Q78.8948 584.673 80.7004 581.132 Q82.5291 577.567 82.5291 570.461 Q82.5291 563.331 80.7004 559.789 Q78.8948 556.225 75.2606 556.225 M75.2606 552.521 Q81.0707 552.521 84.1263 557.127 Q87.205 561.711 87.205 570.461 Q87.205 579.187 84.1263 583.794 Q81.0707 588.377 75.2606 588.377 Q69.4504 588.377 66.3717 583.794 Q63.3162 579.187 63.3162 570.461 Q63.3162 561.711 66.3717 557.127 Q69.4504 552.521 75.2606 552.521 Z\" fill=\"#000000\" fill-rule=\"evenodd\" fill-opacity=\"1\" /><path clip-path=\"url(#clip890)\" d=\"M 0 0 M92.2744 581.826 L97.1586 581.826 L97.1586 587.706 L92.2744 587.706 L92.2744 581.826 Z\" fill=\"#000000\" fill-rule=\"evenodd\" fill-opacity=\"1\" /><path clip-path=\"url(#clip890)\" d=\"M 0 0 M112.807 568.562 Q109.659 568.562 107.807 570.715 Q105.978 572.868 105.978 576.618 Q105.978 580.345 107.807 582.521 Q109.659 584.673 112.807 584.673 Q115.955 584.673 117.783 582.521 Q119.635 580.345 119.635 576.618 Q119.635 572.868 117.783 570.715 Q115.955 568.562 112.807 568.562 M122.089 553.91 L122.089 558.169 Q120.33 557.336 118.524 556.896 Q116.742 556.456 114.983 556.456 Q110.353 556.456 107.899 559.581 Q105.469 562.706 105.122 569.025 Q106.487 567.012 108.547 565.947 Q110.608 564.859 113.084 564.859 Q118.293 564.859 121.302 568.03 Q124.334 571.178 124.334 576.618 Q124.334 581.942 121.186 585.16 Q118.038 588.377 112.807 588.377 Q106.811 588.377 103.64 583.794 Q100.469 579.187 100.469 570.461 Q100.469 562.266 104.358 557.405 Q108.247 552.521 114.797 552.521 Q116.557 552.521 118.339 552.868 Q120.145 553.215 122.089 553.91 Z\" fill=\"#000000\" fill-rule=\"evenodd\" fill-opacity=\"1\" /><path clip-path=\"url(#clip890)\" d=\"M 0 0 M75.5152 192.937 Q71.9041 192.937 70.0754 196.502 Q68.2699 200.043 68.2699 207.173 Q68.2699 214.279 70.0754 217.844 Q71.9041 221.386 75.5152 221.386 Q79.1494 221.386 80.955 217.844 Q82.7837 214.279 82.7837 207.173 Q82.7837 200.043 80.955 196.502 Q79.1494 192.937 75.5152 192.937 M75.5152 189.233 Q81.3254 189.233 84.3809 193.84 Q87.4596 198.423 87.4596 207.173 Q87.4596 215.9 84.3809 220.506 Q81.3254 225.09 75.5152 225.09 Q69.7051 225.09 66.6264 220.506 Q63.5708 215.9 63.5708 207.173 Q63.5708 198.423 66.6264 193.84 Q69.7051 189.233 75.5152 189.233 Z\" fill=\"#000000\" fill-rule=\"evenodd\" fill-opacity=\"1\" /><path clip-path=\"url(#clip890)\" d=\"M 0 0 M92.529 218.539 L97.4132 218.539 L97.4132 224.418 L92.529 224.418 L92.529 218.539 Z\" fill=\"#000000\" fill-rule=\"evenodd\" fill-opacity=\"1\" /><path clip-path=\"url(#clip890)\" d=\"M 0 0 M112.483 208.006 Q109.149 208.006 107.228 209.789 Q105.33 211.571 105.33 214.696 Q105.33 217.821 107.228 219.603 Q109.149 221.386 112.483 221.386 Q115.816 221.386 117.737 219.603 Q119.658 217.798 119.658 214.696 Q119.658 211.571 117.737 209.789 Q115.839 208.006 112.483 208.006 M107.807 206.016 Q104.797 205.275 103.108 203.215 Q101.441 201.155 101.441 198.192 Q101.441 194.048 104.381 191.641 Q107.344 189.233 112.483 189.233 Q117.645 189.233 120.584 191.641 Q123.524 194.048 123.524 198.192 Q123.524 201.155 121.834 203.215 Q120.168 205.275 117.182 206.016 Q120.561 206.803 122.436 209.094 Q124.334 211.386 124.334 214.696 Q124.334 219.719 121.256 222.404 Q118.2 225.09 112.483 225.09 Q106.765 225.09 103.686 222.404 Q100.631 219.719 100.631 214.696 Q100.631 211.386 102.529 209.094 Q104.427 206.803 107.807 206.016 M106.094 198.631 Q106.094 201.317 107.76 202.821 Q109.45 204.326 112.483 204.326 Q115.492 204.326 117.182 202.821 Q118.895 201.317 118.895 198.631 Q118.895 195.946 117.182 194.442 Q115.492 192.937 112.483 192.937 Q109.45 192.937 107.76 194.442 Q106.094 195.946 106.094 198.631 Z\" fill=\"#000000\" fill-rule=\"evenodd\" fill-opacity=\"1\" /><circle clip-path=\"url(#clip892)\" cx=\"210.724\" cy=\"1356.35\" r=\"14\" fill=\"#009af9\" fill-rule=\"evenodd\" fill-opacity=\"1\" stroke=\"#000000\" stroke-opacity=\"1\" stroke-width=\"3.2\"/>\n",
       "<circle clip-path=\"url(#clip892)\" cx=\"441.795\" cy=\"696.744\" r=\"14\" fill=\"#009af9\" fill-rule=\"evenodd\" fill-opacity=\"1\" stroke=\"#000000\" stroke-opacity=\"1\" stroke-width=\"3.2\"/>\n",
       "<circle clip-path=\"url(#clip892)\" cx=\"672.867\" cy=\"514.881\" r=\"14\" fill=\"#009af9\" fill-rule=\"evenodd\" fill-opacity=\"1\" stroke=\"#000000\" stroke-opacity=\"1\" stroke-width=\"3.2\"/>\n",
       "<circle clip-path=\"url(#clip892)\" cx=\"903.938\" cy=\"944.323\" r=\"14\" fill=\"#009af9\" fill-rule=\"evenodd\" fill-opacity=\"1\" stroke=\"#000000\" stroke-opacity=\"1\" stroke-width=\"3.2\"/>\n",
       "<circle clip-path=\"url(#clip892)\" cx=\"1135.01\" cy=\"1445.72\" r=\"14\" fill=\"#009af9\" fill-rule=\"evenodd\" fill-opacity=\"1\" stroke=\"#000000\" stroke-opacity=\"1\" stroke-width=\"3.2\"/>\n",
       "<circle clip-path=\"url(#clip892)\" cx=\"1366.08\" cy=\"92.8954\" r=\"14\" fill=\"#009af9\" fill-rule=\"evenodd\" fill-opacity=\"1\" stroke=\"#000000\" stroke-opacity=\"1\" stroke-width=\"3.2\"/>\n",
       "<circle clip-path=\"url(#clip892)\" cx=\"1597.15\" cy=\"588.243\" r=\"14\" fill=\"#009af9\" fill-rule=\"evenodd\" fill-opacity=\"1\" stroke=\"#000000\" stroke-opacity=\"1\" stroke-width=\"3.2\"/>\n",
       "<circle clip-path=\"url(#clip892)\" cx=\"1828.22\" cy=\"958.756\" r=\"14\" fill=\"#009af9\" fill-rule=\"evenodd\" fill-opacity=\"1\" stroke=\"#000000\" stroke-opacity=\"1\" stroke-width=\"3.2\"/>\n",
       "<circle clip-path=\"url(#clip892)\" cx=\"2059.3\" cy=\"87.9763\" r=\"14\" fill=\"#009af9\" fill-rule=\"evenodd\" fill-opacity=\"1\" stroke=\"#000000\" stroke-opacity=\"1\" stroke-width=\"3.2\"/>\n",
       "<circle clip-path=\"url(#clip892)\" cx=\"2290.37\" cy=\"971.572\" r=\"14\" fill=\"#009af9\" fill-rule=\"evenodd\" fill-opacity=\"1\" stroke=\"#000000\" stroke-opacity=\"1\" stroke-width=\"3.2\"/>\n",
       "<path clip-path=\"url(#clip890)\" d=\"\n",
       "M1989.74 251.724 L2280.76 251.724 L2280.76 130.764 L1989.74 130.764  Z\n",
       "  \" fill=\"#ffffff\" fill-rule=\"evenodd\" fill-opacity=\"1\"/>\n",
       "<polyline clip-path=\"url(#clip890)\" style=\"stroke:#000000; stroke-width:4; stroke-opacity:1; fill:none\" points=\"\n",
       "  1989.74,251.724 2280.76,251.724 2280.76,130.764 1989.74,130.764 1989.74,251.724 \n",
       "  \"/>\n",
       "<circle clip-path=\"url(#clip890)\" cx=\"2097.74\" cy=\"191.244\" r=\"23\" fill=\"#009af9\" fill-rule=\"evenodd\" fill-opacity=\"1\" stroke=\"#000000\" stroke-opacity=\"1\" stroke-width=\"5.12\"/>\n",
       "<path clip-path=\"url(#clip890)\" d=\"M 0 0 M2195.58 210.931 Q2193.77 215.561 2192.06 216.973 Q2190.35 218.385 2187.48 218.385 L2184.08 218.385 L2184.08 214.82 L2186.58 214.82 Q2188.33 214.82 2189.31 213.987 Q2190.28 213.154 2191.46 210.052 L2192.22 208.107 L2181.74 182.598 L2186.25 182.598 L2194.35 202.876 L2202.46 182.598 L2206.97 182.598 L2195.58 210.931 Z\" fill=\"#000000\" fill-rule=\"evenodd\" fill-opacity=\"1\" /><path clip-path=\"url(#clip890)\" d=\"M 0 0 M2212.85 204.589 L2220.49 204.589 L2220.49 178.223 L2212.18 179.89 L2212.18 175.631 L2220.44 173.964 L2225.12 173.964 L2225.12 204.589 L2232.76 204.589 L2232.76 208.524 L2212.85 208.524 L2212.85 204.589 Z\" fill=\"#000000\" fill-rule=\"evenodd\" fill-opacity=\"1\" /></svg>\n"
      ]
     },
     "execution_count": 214,
     "metadata": {},
     "output_type": "execute_result"
    }
   ],
   "source": [
    "# command for create scatter chart\n",
    "scatter(x,y)"
   ]
  },
  {
   "cell_type": "code",
   "execution_count": 215,
   "metadata": {},
   "outputs": [
    {
     "data": {
      "image/svg+xml": [
       "<?xml version=\"1.0\" encoding=\"utf-8\"?>\n",
       "<svg xmlns=\"http://www.w3.org/2000/svg\" xmlns:xlink=\"http://www.w3.org/1999/xlink\" width=\"600\" height=\"400\" viewBox=\"0 0 2400 1600\">\n",
       "<defs>\n",
       "  <clipPath id=\"clip930\">\n",
       "    <rect x=\"0\" y=\"0\" width=\"2400\" height=\"1600\"/>\n",
       "  </clipPath>\n",
       "</defs>\n",
       "<path clip-path=\"url(#clip930)\" d=\"\n",
       "M0 1600 L2400 1600 L2400 0 L0 0  Z\n",
       "  \" fill=\"#ffffff\" fill-rule=\"evenodd\" fill-opacity=\"1\"/>\n",
       "<defs>\n",
       "  <clipPath id=\"clip931\">\n",
       "    <rect x=\"480\" y=\"0\" width=\"1681\" height=\"1600\"/>\n",
       "  </clipPath>\n",
       "</defs>\n",
       "<path clip-path=\"url(#clip930)\" d=\"\n",
       "M148.334 1486.45 L2352.76 1486.45 L2352.76 47.2441 L148.334 47.2441  Z\n",
       "  \" fill=\"#ffffff\" fill-rule=\"evenodd\" fill-opacity=\"1\"/>\n",
       "<defs>\n",
       "  <clipPath id=\"clip932\">\n",
       "    <rect x=\"148\" y=\"47\" width=\"2205\" height=\"1440\"/>\n",
       "  </clipPath>\n",
       "</defs>\n",
       "<polyline clip-path=\"url(#clip932)\" style=\"stroke:#000000; stroke-width:2; stroke-opacity:0.1; fill:none\" points=\"\n",
       "  149.463,1486.45 149.463,47.2441 \n",
       "  \"/>\n",
       "<polyline clip-path=\"url(#clip932)\" style=\"stroke:#000000; stroke-width:2; stroke-opacity:0.1; fill:none\" points=\"\n",
       "  649.955,1486.45 649.955,47.2441 \n",
       "  \"/>\n",
       "<polyline clip-path=\"url(#clip932)\" style=\"stroke:#000000; stroke-width:2; stroke-opacity:0.1; fill:none\" points=\"\n",
       "  1150.45,1486.45 1150.45,47.2441 \n",
       "  \"/>\n",
       "<polyline clip-path=\"url(#clip932)\" style=\"stroke:#000000; stroke-width:2; stroke-opacity:0.1; fill:none\" points=\"\n",
       "  1650.94,1486.45 1650.94,47.2441 \n",
       "  \"/>\n",
       "<polyline clip-path=\"url(#clip932)\" style=\"stroke:#000000; stroke-width:2; stroke-opacity:0.1; fill:none\" points=\"\n",
       "  2151.43,1486.45 2151.43,47.2441 \n",
       "  \"/>\n",
       "<polyline clip-path=\"url(#clip932)\" style=\"stroke:#000000; stroke-width:2; stroke-opacity:0.1; fill:none\" points=\"\n",
       "  148.334,1445.72 2352.76,1445.72 \n",
       "  \"/>\n",
       "<polyline clip-path=\"url(#clip932)\" style=\"stroke:#000000; stroke-width:2; stroke-opacity:0.1; fill:none\" points=\"\n",
       "  148.334,1132.01 2352.76,1132.01 \n",
       "  \"/>\n",
       "<polyline clip-path=\"url(#clip932)\" style=\"stroke:#000000; stroke-width:2; stroke-opacity:0.1; fill:none\" points=\"\n",
       "  148.334,818.296 2352.76,818.296 \n",
       "  \"/>\n",
       "<polyline clip-path=\"url(#clip932)\" style=\"stroke:#000000; stroke-width:2; stroke-opacity:0.1; fill:none\" points=\"\n",
       "  148.334,504.586 2352.76,504.586 \n",
       "  \"/>\n",
       "<polyline clip-path=\"url(#clip932)\" style=\"stroke:#000000; stroke-width:2; stroke-opacity:0.1; fill:none\" points=\"\n",
       "  148.334,190.876 2352.76,190.876 \n",
       "  \"/>\n",
       "<polyline clip-path=\"url(#clip930)\" style=\"stroke:#000000; stroke-width:4; stroke-opacity:1; fill:none\" points=\"\n",
       "  148.334,1486.45 2352.76,1486.45 \n",
       "  \"/>\n",
       "<polyline clip-path=\"url(#clip930)\" style=\"stroke:#000000; stroke-width:4; stroke-opacity:1; fill:none\" points=\"\n",
       "  148.334,1486.45 148.334,47.2441 \n",
       "  \"/>\n",
       "<polyline clip-path=\"url(#clip930)\" style=\"stroke:#000000; stroke-width:4; stroke-opacity:1; fill:none\" points=\"\n",
       "  149.463,1486.45 149.463,1469.18 \n",
       "  \"/>\n",
       "<polyline clip-path=\"url(#clip930)\" style=\"stroke:#000000; stroke-width:4; stroke-opacity:1; fill:none\" points=\"\n",
       "  649.955,1486.45 649.955,1469.18 \n",
       "  \"/>\n",
       "<polyline clip-path=\"url(#clip930)\" style=\"stroke:#000000; stroke-width:4; stroke-opacity:1; fill:none\" points=\"\n",
       "  1150.45,1486.45 1150.45,1469.18 \n",
       "  \"/>\n",
       "<polyline clip-path=\"url(#clip930)\" style=\"stroke:#000000; stroke-width:4; stroke-opacity:1; fill:none\" points=\"\n",
       "  1650.94,1486.45 1650.94,1469.18 \n",
       "  \"/>\n",
       "<polyline clip-path=\"url(#clip930)\" style=\"stroke:#000000; stroke-width:4; stroke-opacity:1; fill:none\" points=\"\n",
       "  2151.43,1486.45 2151.43,1469.18 \n",
       "  \"/>\n",
       "<polyline clip-path=\"url(#clip930)\" style=\"stroke:#000000; stroke-width:4; stroke-opacity:1; fill:none\" points=\"\n",
       "  148.334,1445.72 174.787,1445.72 \n",
       "  \"/>\n",
       "<polyline clip-path=\"url(#clip930)\" style=\"stroke:#000000; stroke-width:4; stroke-opacity:1; fill:none\" points=\"\n",
       "  148.334,1132.01 174.787,1132.01 \n",
       "  \"/>\n",
       "<polyline clip-path=\"url(#clip930)\" style=\"stroke:#000000; stroke-width:4; stroke-opacity:1; fill:none\" points=\"\n",
       "  148.334,818.296 174.787,818.296 \n",
       "  \"/>\n",
       "<polyline clip-path=\"url(#clip930)\" style=\"stroke:#000000; stroke-width:4; stroke-opacity:1; fill:none\" points=\"\n",
       "  148.334,504.586 174.787,504.586 \n",
       "  \"/>\n",
       "<polyline clip-path=\"url(#clip930)\" style=\"stroke:#000000; stroke-width:4; stroke-opacity:1; fill:none\" points=\"\n",
       "  148.334,190.876 174.787,190.876 \n",
       "  \"/>\n",
       "<path clip-path=\"url(#clip930)\" d=\"M 0 0 M130.98 1508.44 Q127.369 1508.44 125.54 1512 Q123.734 1515.55 123.734 1522.67 Q123.734 1529.78 125.54 1533.35 Q127.369 1536.89 130.98 1536.89 Q134.614 1536.89 136.42 1533.35 Q138.248 1529.78 138.248 1522.67 Q138.248 1515.55 136.42 1512 Q134.614 1508.44 130.98 1508.44 M130.98 1504.73 Q136.79 1504.73 139.845 1509.34 Q142.924 1513.92 142.924 1522.67 Q142.924 1531.4 139.845 1536.01 Q136.79 1540.59 130.98 1540.59 Q125.17 1540.59 122.091 1536.01 Q119.035 1531.4 119.035 1522.67 Q119.035 1513.92 122.091 1509.34 Q125.17 1504.73 130.98 1504.73 Z\" fill=\"#000000\" fill-rule=\"evenodd\" fill-opacity=\"1\" /><path clip-path=\"url(#clip930)\" d=\"M 0 0 M147.994 1534.04 L152.878 1534.04 L152.878 1539.92 L147.994 1539.92 L147.994 1534.04 Z\" fill=\"#000000\" fill-rule=\"evenodd\" fill-opacity=\"1\" /><path clip-path=\"url(#clip930)\" d=\"M 0 0 M167.947 1508.44 Q164.336 1508.44 162.507 1512 Q160.702 1515.55 160.702 1522.67 Q160.702 1529.78 162.507 1533.35 Q164.336 1536.89 167.947 1536.89 Q171.581 1536.89 173.387 1533.35 Q175.216 1529.78 175.216 1522.67 Q175.216 1515.55 173.387 1512 Q171.581 1508.44 167.947 1508.44 M167.947 1504.73 Q173.757 1504.73 176.813 1509.34 Q179.892 1513.92 179.892 1522.67 Q179.892 1531.4 176.813 1536.01 Q173.757 1540.59 167.947 1540.59 Q162.137 1540.59 159.058 1536.01 Q156.003 1531.4 156.003 1522.67 Q156.003 1513.92 159.058 1509.34 Q162.137 1504.73 167.947 1504.73 Z\" fill=\"#000000\" fill-rule=\"evenodd\" fill-opacity=\"1\" /><path clip-path=\"url(#clip930)\" d=\"M 0 0 M626.622 1535.98 L642.941 1535.98 L642.941 1539.92 L620.997 1539.92 L620.997 1535.98 Q623.659 1533.23 628.242 1528.6 Q632.849 1523.95 634.029 1522.61 Q636.275 1520.08 637.154 1518.35 Q638.057 1516.59 638.057 1514.9 Q638.057 1512.14 636.113 1510.41 Q634.191 1508.67 631.09 1508.67 Q628.89 1508.67 626.437 1509.43 Q624.006 1510.2 621.228 1511.75 L621.228 1507.03 Q624.053 1505.89 626.506 1505.31 Q628.96 1504.73 630.997 1504.73 Q636.367 1504.73 639.562 1507.42 Q642.756 1510.11 642.756 1514.6 Q642.756 1516.73 641.946 1518.65 Q641.159 1520.54 639.052 1523.14 Q638.474 1523.81 635.372 1527.03 Q632.27 1530.22 626.622 1535.98 Z\" fill=\"#000000\" fill-rule=\"evenodd\" fill-opacity=\"1\" /><path clip-path=\"url(#clip930)\" d=\"M 0 0 M648.011 1534.04 L652.895 1534.04 L652.895 1539.92 L648.011 1539.92 L648.011 1534.04 Z\" fill=\"#000000\" fill-rule=\"evenodd\" fill-opacity=\"1\" /><path clip-path=\"url(#clip930)\" d=\"M 0 0 M658.011 1505.36 L676.367 1505.36 L676.367 1509.3 L662.293 1509.3 L662.293 1517.77 Q663.312 1517.42 664.33 1517.26 Q665.349 1517.07 666.367 1517.07 Q672.154 1517.07 675.534 1520.24 Q678.913 1523.42 678.913 1528.83 Q678.913 1534.41 675.441 1537.51 Q671.969 1540.59 665.65 1540.59 Q663.474 1540.59 661.205 1540.22 Q658.96 1539.85 656.552 1539.11 L656.552 1534.41 Q658.636 1535.54 660.858 1536.1 Q663.08 1536.66 665.557 1536.66 Q669.562 1536.66 671.899 1534.55 Q674.237 1532.44 674.237 1528.83 Q674.237 1525.22 671.899 1523.11 Q669.562 1521.01 665.557 1521.01 Q663.682 1521.01 661.807 1521.42 Q659.955 1521.84 658.011 1522.72 L658.011 1505.36 Z\" fill=\"#000000\" fill-rule=\"evenodd\" fill-opacity=\"1\" /><path clip-path=\"url(#clip930)\" d=\"M 0 0 M1122.24 1505.36 L1140.6 1505.36 L1140.6 1509.3 L1126.52 1509.3 L1126.52 1517.77 Q1127.54 1517.42 1128.56 1517.26 Q1129.58 1517.07 1130.6 1517.07 Q1136.38 1517.07 1139.76 1520.24 Q1143.14 1523.42 1143.14 1528.83 Q1143.14 1534.41 1139.67 1537.51 Q1136.2 1540.59 1129.88 1540.59 Q1127.7 1540.59 1125.44 1540.22 Q1123.19 1539.85 1120.78 1539.11 L1120.78 1534.41 Q1122.87 1535.54 1125.09 1536.1 Q1127.31 1536.66 1129.79 1536.66 Q1133.79 1536.66 1136.13 1534.55 Q1138.47 1532.44 1138.47 1528.83 Q1138.47 1525.22 1136.13 1523.11 Q1133.79 1521.01 1129.79 1521.01 Q1127.91 1521.01 1126.04 1521.42 Q1124.19 1521.84 1122.24 1522.72 L1122.24 1505.36 Z\" fill=\"#000000\" fill-rule=\"evenodd\" fill-opacity=\"1\" /><path clip-path=\"url(#clip930)\" d=\"M 0 0 M1148.21 1534.04 L1153.1 1534.04 L1153.1 1539.92 L1148.21 1539.92 L1148.21 1534.04 Z\" fill=\"#000000\" fill-rule=\"evenodd\" fill-opacity=\"1\" /><path clip-path=\"url(#clip930)\" d=\"M 0 0 M1168.17 1508.44 Q1164.56 1508.44 1162.73 1512 Q1160.92 1515.55 1160.92 1522.67 Q1160.92 1529.78 1162.73 1533.35 Q1164.56 1536.89 1168.17 1536.89 Q1171.8 1536.89 1173.61 1533.35 Q1175.44 1529.78 1175.44 1522.67 Q1175.44 1515.55 1173.61 1512 Q1171.8 1508.44 1168.17 1508.44 M1168.17 1504.73 Q1173.98 1504.73 1177.03 1509.34 Q1180.11 1513.92 1180.11 1522.67 Q1180.11 1531.4 1177.03 1536.01 Q1173.98 1540.59 1168.17 1540.59 Q1162.36 1540.59 1159.28 1536.01 Q1156.22 1531.4 1156.22 1522.67 Q1156.22 1513.92 1159.28 1509.34 Q1162.36 1504.73 1168.17 1504.73 Z\" fill=\"#000000\" fill-rule=\"evenodd\" fill-opacity=\"1\" /><path clip-path=\"url(#clip930)\" d=\"M 0 0 M1621.84 1505.36 L1644.06 1505.36 L1644.06 1507.35 L1631.52 1539.92 L1626.63 1539.92 L1638.44 1509.3 L1621.84 1509.3 L1621.84 1505.36 Z\" fill=\"#000000\" fill-rule=\"evenodd\" fill-opacity=\"1\" /><path clip-path=\"url(#clip930)\" d=\"M 0 0 M1649.13 1534.04 L1654.02 1534.04 L1654.02 1539.92 L1649.13 1539.92 L1649.13 1534.04 Z\" fill=\"#000000\" fill-rule=\"evenodd\" fill-opacity=\"1\" /><path clip-path=\"url(#clip930)\" d=\"M 0 0 M1659.13 1505.36 L1677.49 1505.36 L1677.49 1509.3 L1663.42 1509.3 L1663.42 1517.77 Q1664.43 1517.42 1665.45 1517.26 Q1666.47 1517.07 1667.49 1517.07 Q1673.28 1517.07 1676.66 1520.24 Q1680.04 1523.42 1680.04 1528.83 Q1680.04 1534.41 1676.56 1537.51 Q1673.09 1540.59 1666.77 1540.59 Q1664.6 1540.59 1662.33 1540.22 Q1660.08 1539.85 1657.67 1539.11 L1657.67 1534.41 Q1659.76 1535.54 1661.98 1536.1 Q1664.2 1536.66 1666.68 1536.66 Q1670.68 1536.66 1673.02 1534.55 Q1675.36 1532.44 1675.36 1528.83 Q1675.36 1525.22 1673.02 1523.11 Q1670.68 1521.01 1666.68 1521.01 Q1664.8 1521.01 1662.93 1521.42 Q1661.08 1521.84 1659.13 1522.72 L1659.13 1505.36 Z\" fill=\"#000000\" fill-rule=\"evenodd\" fill-opacity=\"1\" /><path clip-path=\"url(#clip930)\" d=\"M 0 0 M2109.82 1535.98 L2117.46 1535.98 L2117.46 1509.62 L2109.15 1511.29 L2109.15 1507.03 L2117.41 1505.36 L2122.09 1505.36 L2122.09 1535.98 L2129.73 1535.98 L2129.73 1539.92 L2109.82 1539.92 L2109.82 1535.98 Z\" fill=\"#000000\" fill-rule=\"evenodd\" fill-opacity=\"1\" /><path clip-path=\"url(#clip930)\" d=\"M 0 0 M2144.8 1508.44 Q2141.19 1508.44 2139.36 1512 Q2137.55 1515.55 2137.55 1522.67 Q2137.55 1529.78 2139.36 1533.35 Q2141.19 1536.89 2144.8 1536.89 Q2148.43 1536.89 2150.24 1533.35 Q2152.07 1529.78 2152.07 1522.67 Q2152.07 1515.55 2150.24 1512 Q2148.43 1508.44 2144.8 1508.44 M2144.8 1504.73 Q2150.61 1504.73 2153.66 1509.34 Q2156.74 1513.92 2156.74 1522.67 Q2156.74 1531.4 2153.66 1536.01 Q2150.61 1540.59 2144.8 1540.59 Q2138.99 1540.59 2135.91 1536.01 Q2132.85 1531.4 2132.85 1522.67 Q2132.85 1513.92 2135.91 1509.34 Q2138.99 1504.73 2144.8 1504.73 Z\" fill=\"#000000\" fill-rule=\"evenodd\" fill-opacity=\"1\" /><path clip-path=\"url(#clip930)\" d=\"M 0 0 M2161.81 1534.04 L2166.7 1534.04 L2166.7 1539.92 L2161.81 1539.92 L2161.81 1534.04 Z\" fill=\"#000000\" fill-rule=\"evenodd\" fill-opacity=\"1\" /><path clip-path=\"url(#clip930)\" d=\"M 0 0 M2181.77 1508.44 Q2178.15 1508.44 2176.33 1512 Q2174.52 1515.55 2174.52 1522.67 Q2174.52 1529.78 2176.33 1533.35 Q2178.15 1536.89 2181.77 1536.89 Q2185.4 1536.89 2187.21 1533.35 Q2189.03 1529.78 2189.03 1522.67 Q2189.03 1515.55 2187.21 1512 Q2185.4 1508.44 2181.77 1508.44 M2181.77 1504.73 Q2187.58 1504.73 2190.63 1509.34 Q2193.71 1513.92 2193.71 1522.67 Q2193.71 1531.4 2190.63 1536.01 Q2187.58 1540.59 2181.77 1540.59 Q2175.96 1540.59 2172.88 1536.01 Q2169.82 1531.4 2169.82 1522.67 Q2169.82 1513.92 2172.88 1509.34 Q2175.96 1504.73 2181.77 1504.73 Z\" fill=\"#000000\" fill-rule=\"evenodd\" fill-opacity=\"1\" /><path clip-path=\"url(#clip930)\" d=\"M 0 0 M75.4226 1431.51 Q71.8115 1431.51 69.9828 1435.08 Q68.1773 1438.62 68.1773 1445.75 Q68.1773 1452.86 69.9828 1456.42 Q71.8115 1459.96 75.4226 1459.96 Q79.0569 1459.96 80.8624 1456.42 Q82.6911 1452.86 82.6911 1445.75 Q82.6911 1438.62 80.8624 1435.08 Q79.0569 1431.51 75.4226 1431.51 M75.4226 1427.81 Q81.2328 1427.81 84.2883 1432.42 Q87.367 1437 87.367 1445.75 Q87.367 1454.48 84.2883 1459.08 Q81.2328 1463.67 75.4226 1463.67 Q69.6125 1463.67 66.5338 1459.08 Q63.4782 1454.48 63.4782 1445.75 Q63.4782 1437 66.5338 1432.42 Q69.6125 1427.81 75.4226 1427.81 Z\" fill=\"#000000\" fill-rule=\"evenodd\" fill-opacity=\"1\" /><path clip-path=\"url(#clip930)\" d=\"M 0 0 M92.4364 1457.12 L97.3206 1457.12 L97.3206 1463 L92.4364 1463 L92.4364 1457.12 Z\" fill=\"#000000\" fill-rule=\"evenodd\" fill-opacity=\"1\" /><path clip-path=\"url(#clip930)\" d=\"M 0 0 M112.39 1431.51 Q108.779 1431.51 106.95 1435.08 Q105.145 1438.62 105.145 1445.75 Q105.145 1452.86 106.95 1456.42 Q108.779 1459.96 112.39 1459.96 Q116.024 1459.96 117.83 1456.42 Q119.658 1452.86 119.658 1445.75 Q119.658 1438.62 117.83 1435.08 Q116.024 1431.51 112.39 1431.51 M112.39 1427.81 Q118.2 1427.81 121.256 1432.42 Q124.334 1437 124.334 1445.75 Q124.334 1454.48 121.256 1459.08 Q118.2 1463.67 112.39 1463.67 Q106.58 1463.67 103.501 1459.08 Q100.446 1454.48 100.446 1445.75 Q100.446 1437 103.501 1432.42 Q106.58 1427.81 112.39 1427.81 Z\" fill=\"#000000\" fill-rule=\"evenodd\" fill-opacity=\"1\" /><path clip-path=\"url(#clip930)\" d=\"M 0 0 M77.0198 1117.8 Q73.4087 1117.8 71.58 1121.37 Q69.7745 1124.91 69.7745 1132.04 Q69.7745 1139.15 71.58 1142.71 Q73.4087 1146.25 77.0198 1146.25 Q80.6541 1146.25 82.4596 1142.71 Q84.2883 1139.15 84.2883 1132.04 Q84.2883 1124.91 82.4596 1121.37 Q80.6541 1117.8 77.0198 1117.8 M77.0198 1114.1 Q82.83 1114.1 85.8855 1118.71 Q88.9642 1123.29 88.9642 1132.04 Q88.9642 1140.77 85.8855 1145.37 Q82.83 1149.96 77.0198 1149.96 Q71.2097 1149.96 68.131 1145.37 Q65.0754 1140.77 65.0754 1132.04 Q65.0754 1123.29 68.131 1118.71 Q71.2097 1114.1 77.0198 1114.1 Z\" fill=\"#000000\" fill-rule=\"evenodd\" fill-opacity=\"1\" /><path clip-path=\"url(#clip930)\" d=\"M 0 0 M94.0336 1143.41 L98.9179 1143.41 L98.9179 1149.29 L94.0336 1149.29 L94.0336 1143.41 Z\" fill=\"#000000\" fill-rule=\"evenodd\" fill-opacity=\"1\" /><path clip-path=\"url(#clip930)\" d=\"M 0 0 M108.015 1145.35 L124.334 1145.35 L124.334 1149.29 L102.39 1149.29 L102.39 1145.35 Q105.052 1142.6 109.635 1137.97 Q114.242 1133.31 115.422 1131.97 Q117.668 1129.45 118.547 1127.71 Q119.45 1125.95 119.45 1124.26 Q119.45 1121.51 117.506 1119.77 Q115.584 1118.04 112.483 1118.04 Q110.284 1118.04 107.83 1118.8 Q105.399 1119.56 102.622 1121.11 L102.622 1116.39 Q105.446 1115.26 107.899 1114.68 Q110.353 1114.1 112.39 1114.1 Q117.76 1114.1 120.955 1116.79 Q124.149 1119.47 124.149 1123.96 Q124.149 1126.09 123.339 1128.01 Q122.552 1129.91 120.446 1132.5 Q119.867 1133.17 116.765 1136.39 Q113.663 1139.59 108.015 1145.35 Z\" fill=\"#000000\" fill-rule=\"evenodd\" fill-opacity=\"1\" /><path clip-path=\"url(#clip930)\" d=\"M 0 0 M74.9365 804.095 Q71.3254 804.095 69.4967 807.659 Q67.6912 811.201 67.6912 818.331 Q67.6912 825.437 69.4967 829.002 Q71.3254 832.544 74.9365 832.544 Q78.5707 832.544 80.3763 829.002 Q82.205 825.437 82.205 818.331 Q82.205 811.201 80.3763 807.659 Q78.5707 804.095 74.9365 804.095 M74.9365 800.391 Q80.7467 800.391 83.8022 804.997 Q86.8809 809.581 86.8809 818.331 Q86.8809 827.058 83.8022 831.664 Q80.7467 836.247 74.9365 836.247 Q69.1264 836.247 66.0477 831.664 Q62.9921 827.058 62.9921 818.331 Q62.9921 809.581 66.0477 804.997 Q69.1264 800.391 74.9365 800.391 Z\" fill=\"#000000\" fill-rule=\"evenodd\" fill-opacity=\"1\" /><path clip-path=\"url(#clip930)\" d=\"M 0 0 M91.9503 829.696 L96.8345 829.696 L96.8345 835.576 L91.9503 835.576 L91.9503 829.696 Z\" fill=\"#000000\" fill-rule=\"evenodd\" fill-opacity=\"1\" /><path clip-path=\"url(#clip930)\" d=\"M 0 0 M114.751 805.09 L102.946 823.539 L114.751 823.539 L114.751 805.09 M113.524 801.016 L119.404 801.016 L119.404 823.539 L124.334 823.539 L124.334 827.428 L119.404 827.428 L119.404 835.576 L114.751 835.576 L114.751 827.428 L99.1493 827.428 L99.1493 822.914 L113.524 801.016 Z\" fill=\"#000000\" fill-rule=\"evenodd\" fill-opacity=\"1\" /><path clip-path=\"url(#clip930)\" d=\"M 0 0 M75.2606 490.385 Q71.6495 490.385 69.8208 493.95 Q68.0152 497.491 68.0152 504.621 Q68.0152 511.727 69.8208 515.292 Q71.6495 518.834 75.2606 518.834 Q78.8948 518.834 80.7004 515.292 Q82.5291 511.727 82.5291 504.621 Q82.5291 497.491 80.7004 493.95 Q78.8948 490.385 75.2606 490.385 M75.2606 486.681 Q81.0707 486.681 84.1263 491.288 Q87.205 495.871 87.205 504.621 Q87.205 513.348 84.1263 517.954 Q81.0707 522.537 75.2606 522.537 Q69.4504 522.537 66.3717 517.954 Q63.3162 513.348 63.3162 504.621 Q63.3162 495.871 66.3717 491.288 Q69.4504 486.681 75.2606 486.681 Z\" fill=\"#000000\" fill-rule=\"evenodd\" fill-opacity=\"1\" /><path clip-path=\"url(#clip930)\" d=\"M 0 0 M92.2744 515.987 L97.1586 515.987 L97.1586 521.866 L92.2744 521.866 L92.2744 515.987 Z\" fill=\"#000000\" fill-rule=\"evenodd\" fill-opacity=\"1\" /><path clip-path=\"url(#clip930)\" d=\"M 0 0 M112.807 502.723 Q109.659 502.723 107.807 504.875 Q105.978 507.028 105.978 510.778 Q105.978 514.505 107.807 516.681 Q109.659 518.834 112.807 518.834 Q115.955 518.834 117.783 516.681 Q119.635 514.505 119.635 510.778 Q119.635 507.028 117.783 504.875 Q115.955 502.723 112.807 502.723 M122.089 488.07 L122.089 492.329 Q120.33 491.496 118.524 491.056 Q116.742 490.616 114.983 490.616 Q110.353 490.616 107.899 493.741 Q105.469 496.866 105.122 503.186 Q106.487 501.172 108.547 500.107 Q110.608 499.019 113.084 499.019 Q118.293 499.019 121.302 502.19 Q124.334 505.338 124.334 510.778 Q124.334 516.102 121.186 519.32 Q118.038 522.537 112.807 522.537 Q106.811 522.537 103.64 517.954 Q100.469 513.348 100.469 504.621 Q100.469 496.426 104.358 491.565 Q108.247 486.681 114.797 486.681 Q116.557 486.681 118.339 487.028 Q120.145 487.376 122.089 488.07 Z\" fill=\"#000000\" fill-rule=\"evenodd\" fill-opacity=\"1\" /><path clip-path=\"url(#clip930)\" d=\"M 0 0 M75.5152 176.675 Q71.9041 176.675 70.0754 180.24 Q68.2699 183.781 68.2699 190.911 Q68.2699 198.017 70.0754 201.582 Q71.9041 205.124 75.5152 205.124 Q79.1494 205.124 80.955 201.582 Q82.7837 198.017 82.7837 190.911 Q82.7837 183.781 80.955 180.24 Q79.1494 176.675 75.5152 176.675 M75.5152 172.971 Q81.3254 172.971 84.3809 177.578 Q87.4596 182.161 87.4596 190.911 Q87.4596 199.638 84.3809 204.244 Q81.3254 208.828 75.5152 208.828 Q69.7051 208.828 66.6264 204.244 Q63.5708 199.638 63.5708 190.911 Q63.5708 182.161 66.6264 177.578 Q69.7051 172.971 75.5152 172.971 Z\" fill=\"#000000\" fill-rule=\"evenodd\" fill-opacity=\"1\" /><path clip-path=\"url(#clip930)\" d=\"M 0 0 M92.529 202.277 L97.4132 202.277 L97.4132 208.156 L92.529 208.156 L92.529 202.277 Z\" fill=\"#000000\" fill-rule=\"evenodd\" fill-opacity=\"1\" /><path clip-path=\"url(#clip930)\" d=\"M 0 0 M112.483 191.744 Q109.149 191.744 107.228 193.527 Q105.33 195.309 105.33 198.434 Q105.33 201.559 107.228 203.342 Q109.149 205.124 112.483 205.124 Q115.816 205.124 117.737 203.342 Q119.658 201.536 119.658 198.434 Q119.658 195.309 117.737 193.527 Q115.839 191.744 112.483 191.744 M107.807 189.754 Q104.797 189.013 103.108 186.953 Q101.441 184.893 101.441 181.93 Q101.441 177.786 104.381 175.379 Q107.344 172.971 112.483 172.971 Q117.645 172.971 120.584 175.379 Q123.524 177.786 123.524 181.93 Q123.524 184.893 121.834 186.953 Q120.168 189.013 117.182 189.754 Q120.561 190.541 122.436 192.832 Q124.334 195.124 124.334 198.434 Q124.334 203.457 121.256 206.142 Q118.2 208.828 112.483 208.828 Q106.765 208.828 103.686 206.142 Q100.631 203.457 100.631 198.434 Q100.631 195.124 102.529 192.832 Q104.427 190.541 107.807 189.754 M106.094 182.369 Q106.094 185.055 107.76 186.559 Q109.45 188.064 112.483 188.064 Q115.492 188.064 117.182 186.559 Q118.895 185.055 118.895 182.369 Q118.895 179.684 117.182 178.18 Q115.492 176.675 112.483 176.675 Q109.45 176.675 107.76 178.18 Q106.094 179.684 106.094 182.369 Z\" fill=\"#000000\" fill-rule=\"evenodd\" fill-opacity=\"1\" /><path clip-path=\"url(#clip932)\" d=\"\n",
       "M269.581 1183.25 L269.581 1445.72 L429.739 1445.72 L429.739 1183.25 L269.581 1183.25 L269.581 1183.25  Z\n",
       "  \" fill=\"#009af9\" fill-rule=\"evenodd\" fill-opacity=\"1\"/>\n",
       "<polyline clip-path=\"url(#clip932)\" style=\"stroke:#000000; stroke-width:4; stroke-opacity:1; fill:none\" points=\"\n",
       "  269.581,1183.25 269.581,1445.72 429.739,1445.72 429.739,1183.25 269.581,1183.25 \n",
       "  \"/>\n",
       "<path clip-path=\"url(#clip932)\" d=\"\n",
       "M469.778 613.666 L469.778 1445.72 L629.935 1445.72 L629.935 613.666 L469.778 613.666 L469.778 613.666  Z\n",
       "  \" fill=\"#009af9\" fill-rule=\"evenodd\" fill-opacity=\"1\"/>\n",
       "<polyline clip-path=\"url(#clip932)\" style=\"stroke:#000000; stroke-width:4; stroke-opacity:1; fill:none\" points=\"\n",
       "  469.778,613.666 469.778,1445.72 629.935,1445.72 629.935,613.666 469.778,613.666 \n",
       "  \"/>\n",
       "<path clip-path=\"url(#clip932)\" d=\"\n",
       "M669.975 456.621 L669.975 1445.72 L830.132 1445.72 L830.132 456.621 L669.975 456.621 L669.975 456.621  Z\n",
       "  \" fill=\"#009af9\" fill-rule=\"evenodd\" fill-opacity=\"1\"/>\n",
       "<polyline clip-path=\"url(#clip932)\" style=\"stroke:#000000; stroke-width:4; stroke-opacity:1; fill:none\" points=\"\n",
       "  669.975,456.621 669.975,1445.72 830.132,1445.72 830.132,456.621 669.975,456.621 \n",
       "  \"/>\n",
       "<path clip-path=\"url(#clip932)\" d=\"\n",
       "M870.171 827.458 L870.171 1445.72 L1030.33 1445.72 L1030.33 827.458 L870.171 827.458 L870.171 827.458  Z\n",
       "  \" fill=\"#009af9\" fill-rule=\"evenodd\" fill-opacity=\"1\"/>\n",
       "<polyline clip-path=\"url(#clip932)\" style=\"stroke:#000000; stroke-width:4; stroke-opacity:1; fill:none\" points=\"\n",
       "  870.171,827.458 870.171,1445.72 1030.33,1445.72 1030.33,827.458 870.171,827.458 \n",
       "  \"/>\n",
       "<path clip-path=\"url(#clip932)\" d=\"\n",
       "M1070.37 1260.43 L1070.37 1445.72 L1230.53 1445.72 L1230.53 1260.43 L1070.37 1260.43 L1070.37 1260.43  Z\n",
       "  \" fill=\"#009af9\" fill-rule=\"evenodd\" fill-opacity=\"1\"/>\n",
       "<polyline clip-path=\"url(#clip932)\" style=\"stroke:#000000; stroke-width:4; stroke-opacity:1; fill:none\" points=\"\n",
       "  1070.37,1260.43 1070.37,1445.72 1230.53,1445.72 1230.53,1260.43 1070.37,1260.43 \n",
       "  \"/>\n",
       "<path clip-path=\"url(#clip932)\" d=\"\n",
       "M1270.56 92.2241 L1270.56 1445.72 L1430.72 1445.72 L1430.72 92.2241 L1270.56 92.2241 L1270.56 92.2241  Z\n",
       "  \" fill=\"#009af9\" fill-rule=\"evenodd\" fill-opacity=\"1\"/>\n",
       "<polyline clip-path=\"url(#clip932)\" style=\"stroke:#000000; stroke-width:4; stroke-opacity:1; fill:none\" points=\"\n",
       "  1270.56,92.2241 1270.56,1445.72 1430.72,1445.72 1430.72,92.2241 1270.56,92.2241 \n",
       "  \"/>\n",
       "<path clip-path=\"url(#clip932)\" d=\"\n",
       "M1470.76 519.972 L1470.76 1445.72 L1630.92 1445.72 L1630.92 519.972 L1470.76 519.972 L1470.76 519.972  Z\n",
       "  \" fill=\"#009af9\" fill-rule=\"evenodd\" fill-opacity=\"1\"/>\n",
       "<polyline clip-path=\"url(#clip932)\" style=\"stroke:#000000; stroke-width:4; stroke-opacity:1; fill:none\" points=\"\n",
       "  1470.76,519.972 1470.76,1445.72 1630.92,1445.72 1630.92,519.972 1470.76,519.972 \n",
       "  \"/>\n",
       "<path clip-path=\"url(#clip932)\" d=\"\n",
       "M1670.96 839.921 L1670.96 1445.72 L1831.12 1445.72 L1831.12 839.921 L1670.96 839.921 L1670.96 839.921  Z\n",
       "  \" fill=\"#009af9\" fill-rule=\"evenodd\" fill-opacity=\"1\"/>\n",
       "<polyline clip-path=\"url(#clip932)\" style=\"stroke:#000000; stroke-width:4; stroke-opacity:1; fill:none\" points=\"\n",
       "  1670.96,839.921 1670.96,1445.72 1831.12,1445.72 1831.12,839.921 1670.96,839.921 \n",
       "  \"/>\n",
       "<path clip-path=\"url(#clip932)\" d=\"\n",
       "M1871.15 87.9763 L1871.15 1445.72 L2031.31 1445.72 L2031.31 87.9763 L1871.15 87.9763 L1871.15 87.9763  Z\n",
       "  \" fill=\"#009af9\" fill-rule=\"evenodd\" fill-opacity=\"1\"/>\n",
       "<polyline clip-path=\"url(#clip932)\" style=\"stroke:#000000; stroke-width:4; stroke-opacity:1; fill:none\" points=\"\n",
       "  1871.15,87.9763 1871.15,1445.72 2031.31,1445.72 2031.31,87.9763 1871.15,87.9763 \n",
       "  \"/>\n",
       "<path clip-path=\"url(#clip932)\" d=\"\n",
       "M2071.35 850.988 L2071.35 1445.72 L2231.51 1445.72 L2231.51 850.988 L2071.35 850.988 L2071.35 850.988  Z\n",
       "  \" fill=\"#009af9\" fill-rule=\"evenodd\" fill-opacity=\"1\"/>\n",
       "<polyline clip-path=\"url(#clip932)\" style=\"stroke:#000000; stroke-width:4; stroke-opacity:1; fill:none\" points=\"\n",
       "  2071.35,850.988 2071.35,1445.72 2231.51,1445.72 2231.51,850.988 2071.35,850.988 \n",
       "  \"/>\n",
       "<path clip-path=\"url(#clip930)\" d=\"\n",
       "M1989.74 251.724 L2280.76 251.724 L2280.76 130.764 L1989.74 130.764  Z\n",
       "  \" fill=\"#ffffff\" fill-rule=\"evenodd\" fill-opacity=\"1\"/>\n",
       "<polyline clip-path=\"url(#clip930)\" style=\"stroke:#000000; stroke-width:4; stroke-opacity:1; fill:none\" points=\"\n",
       "  1989.74,251.724 2280.76,251.724 2280.76,130.764 1989.74,130.764 1989.74,251.724 \n",
       "  \"/>\n",
       "<path clip-path=\"url(#clip930)\" d=\"\n",
       "M2013.74 215.436 L2157.74 215.436 L2157.74 167.052 L2013.74 167.052 L2013.74 215.436  Z\n",
       "  \" fill=\"#009af9\" fill-rule=\"evenodd\" fill-opacity=\"1\"/>\n",
       "<polyline clip-path=\"url(#clip930)\" style=\"stroke:#000000; stroke-width:4; stroke-opacity:1; fill:none\" points=\"\n",
       "  2013.74,215.436 2157.74,215.436 2157.74,167.052 2013.74,167.052 2013.74,215.436 \n",
       "  \"/>\n",
       "<path clip-path=\"url(#clip930)\" d=\"M 0 0 M2195.58 210.931 Q2193.77 215.561 2192.06 216.973 Q2190.35 218.385 2187.48 218.385 L2184.08 218.385 L2184.08 214.82 L2186.58 214.82 Q2188.33 214.82 2189.31 213.987 Q2190.28 213.154 2191.46 210.052 L2192.22 208.107 L2181.74 182.598 L2186.25 182.598 L2194.35 202.876 L2202.46 182.598 L2206.97 182.598 L2195.58 210.931 Z\" fill=\"#000000\" fill-rule=\"evenodd\" fill-opacity=\"1\" /><path clip-path=\"url(#clip930)\" d=\"M 0 0 M2212.85 204.589 L2220.49 204.589 L2220.49 178.223 L2212.18 179.89 L2212.18 175.631 L2220.44 173.964 L2225.12 173.964 L2225.12 204.589 L2232.76 204.589 L2232.76 208.524 L2212.85 208.524 L2212.85 204.589 Z\" fill=\"#000000\" fill-rule=\"evenodd\" fill-opacity=\"1\" /></svg>\n"
      ]
     },
     "execution_count": 215,
     "metadata": {},
     "output_type": "execute_result"
    }
   ],
   "source": [
    "#command for create bar chart\n",
    "bar(x,y)"
   ]
  },
  {
   "cell_type": "code",
   "execution_count": 216,
   "metadata": {
    "scrolled": true
   },
   "outputs": [
    {
     "data": {
      "image/svg+xml": [
       "<?xml version=\"1.0\" encoding=\"utf-8\"?>\n",
       "<svg xmlns=\"http://www.w3.org/2000/svg\" xmlns:xlink=\"http://www.w3.org/1999/xlink\" width=\"600\" height=\"400\" viewBox=\"0 0 2400 1600\">\n",
       "<defs>\n",
       "  <clipPath id=\"clip970\">\n",
       "    <rect x=\"0\" y=\"0\" width=\"2400\" height=\"1600\"/>\n",
       "  </clipPath>\n",
       "</defs>\n",
       "<path clip-path=\"url(#clip970)\" d=\"\n",
       "M0 1600 L2400 1600 L2400 0 L0 0  Z\n",
       "  \" fill=\"#ffffff\" fill-rule=\"evenodd\" fill-opacity=\"1\"/>\n",
       "<defs>\n",
       "  <clipPath id=\"clip971\">\n",
       "    <rect x=\"480\" y=\"0\" width=\"1681\" height=\"1600\"/>\n",
       "  </clipPath>\n",
       "</defs>\n",
       "<path clip-path=\"url(#clip970)\" d=\"\n",
       "M110.881 1486.45 L2352.76 1486.45 L2352.76 47.2441 L110.881 47.2441  Z\n",
       "  \" fill=\"#ffffff\" fill-rule=\"evenodd\" fill-opacity=\"1\"/>\n",
       "<defs>\n",
       "  <clipPath id=\"clip972\">\n",
       "    <rect x=\"110\" y=\"47\" width=\"2243\" height=\"1440\"/>\n",
       "  </clipPath>\n",
       "</defs>\n",
       "<polyline clip-path=\"url(#clip972)\" style=\"stroke:#000000; stroke-width:2; stroke-opacity:0.1; fill:none\" points=\"\n",
       "  234.188,1486.45 234.188,47.2441 \n",
       "  \"/>\n",
       "<polyline clip-path=\"url(#clip972)\" style=\"stroke:#000000; stroke-width:2; stroke-opacity:0.1; fill:none\" points=\"\n",
       "  733.003,1486.45 733.003,47.2441 \n",
       "  \"/>\n",
       "<polyline clip-path=\"url(#clip972)\" style=\"stroke:#000000; stroke-width:2; stroke-opacity:0.1; fill:none\" points=\"\n",
       "  1231.82,1486.45 1231.82,47.2441 \n",
       "  \"/>\n",
       "<polyline clip-path=\"url(#clip972)\" style=\"stroke:#000000; stroke-width:2; stroke-opacity:0.1; fill:none\" points=\"\n",
       "  1730.63,1486.45 1730.63,47.2441 \n",
       "  \"/>\n",
       "<polyline clip-path=\"url(#clip972)\" style=\"stroke:#000000; stroke-width:2; stroke-opacity:0.1; fill:none\" points=\"\n",
       "  2229.45,1486.45 2229.45,47.2441 \n",
       "  \"/>\n",
       "<polyline clip-path=\"url(#clip972)\" style=\"stroke:#000000; stroke-width:2; stroke-opacity:0.1; fill:none\" points=\"\n",
       "  110.881,1445.72 2352.76,1445.72 \n",
       "  \"/>\n",
       "<polyline clip-path=\"url(#clip972)\" style=\"stroke:#000000; stroke-width:2; stroke-opacity:0.1; fill:none\" points=\"\n",
       "  110.881,993.136 2352.76,993.136 \n",
       "  \"/>\n",
       "<polyline clip-path=\"url(#clip972)\" style=\"stroke:#000000; stroke-width:2; stroke-opacity:0.1; fill:none\" points=\"\n",
       "  110.881,540.556 2352.76,540.556 \n",
       "  \"/>\n",
       "<polyline clip-path=\"url(#clip972)\" style=\"stroke:#000000; stroke-width:2; stroke-opacity:0.1; fill:none\" points=\"\n",
       "  110.881,87.9763 2352.76,87.9763 \n",
       "  \"/>\n",
       "<polyline clip-path=\"url(#clip970)\" style=\"stroke:#000000; stroke-width:4; stroke-opacity:1; fill:none\" points=\"\n",
       "  110.881,1486.45 2352.76,1486.45 \n",
       "  \"/>\n",
       "<polyline clip-path=\"url(#clip970)\" style=\"stroke:#000000; stroke-width:4; stroke-opacity:1; fill:none\" points=\"\n",
       "  110.881,1486.45 110.881,47.2441 \n",
       "  \"/>\n",
       "<polyline clip-path=\"url(#clip970)\" style=\"stroke:#000000; stroke-width:4; stroke-opacity:1; fill:none\" points=\"\n",
       "  234.188,1486.45 234.188,1469.18 \n",
       "  \"/>\n",
       "<polyline clip-path=\"url(#clip970)\" style=\"stroke:#000000; stroke-width:4; stroke-opacity:1; fill:none\" points=\"\n",
       "  733.003,1486.45 733.003,1469.18 \n",
       "  \"/>\n",
       "<polyline clip-path=\"url(#clip970)\" style=\"stroke:#000000; stroke-width:4; stroke-opacity:1; fill:none\" points=\"\n",
       "  1231.82,1486.45 1231.82,1469.18 \n",
       "  \"/>\n",
       "<polyline clip-path=\"url(#clip970)\" style=\"stroke:#000000; stroke-width:4; stroke-opacity:1; fill:none\" points=\"\n",
       "  1730.63,1486.45 1730.63,1469.18 \n",
       "  \"/>\n",
       "<polyline clip-path=\"url(#clip970)\" style=\"stroke:#000000; stroke-width:4; stroke-opacity:1; fill:none\" points=\"\n",
       "  2229.45,1486.45 2229.45,1469.18 \n",
       "  \"/>\n",
       "<polyline clip-path=\"url(#clip970)\" style=\"stroke:#000000; stroke-width:4; stroke-opacity:1; fill:none\" points=\"\n",
       "  110.881,1445.72 137.783,1445.72 \n",
       "  \"/>\n",
       "<polyline clip-path=\"url(#clip970)\" style=\"stroke:#000000; stroke-width:4; stroke-opacity:1; fill:none\" points=\"\n",
       "  110.881,993.136 137.783,993.136 \n",
       "  \"/>\n",
       "<polyline clip-path=\"url(#clip970)\" style=\"stroke:#000000; stroke-width:4; stroke-opacity:1; fill:none\" points=\"\n",
       "  110.881,540.556 137.783,540.556 \n",
       "  \"/>\n",
       "<polyline clip-path=\"url(#clip970)\" style=\"stroke:#000000; stroke-width:4; stroke-opacity:1; fill:none\" points=\"\n",
       "  110.881,87.9763 137.783,87.9763 \n",
       "  \"/>\n",
       "<path clip-path=\"url(#clip970)\" d=\"M 0 0 M202.197 1508.44 Q198.586 1508.44 196.758 1512 Q194.952 1515.55 194.952 1522.67 Q194.952 1529.78 196.758 1533.35 Q198.586 1536.89 202.197 1536.89 Q205.832 1536.89 207.637 1533.35 Q209.466 1529.78 209.466 1522.67 Q209.466 1515.55 207.637 1512 Q205.832 1508.44 202.197 1508.44 M202.197 1504.73 Q208.008 1504.73 211.063 1509.34 Q214.142 1513.92 214.142 1522.67 Q214.142 1531.4 211.063 1536.01 Q208.008 1540.59 202.197 1540.59 Q196.387 1540.59 193.309 1536.01 Q190.253 1531.4 190.253 1522.67 Q190.253 1513.92 193.309 1509.34 Q196.387 1504.73 202.197 1504.73 Z\" fill=\"#000000\" fill-rule=\"evenodd\" fill-opacity=\"1\" /><path clip-path=\"url(#clip970)\" d=\"M 0 0 M219.211 1534.04 L224.095 1534.04 L224.095 1539.92 L219.211 1539.92 L219.211 1534.04 Z\" fill=\"#000000\" fill-rule=\"evenodd\" fill-opacity=\"1\" /><path clip-path=\"url(#clip970)\" d=\"M 0 0 M239.165 1508.44 Q235.554 1508.44 233.725 1512 Q231.919 1515.55 231.919 1522.67 Q231.919 1529.78 233.725 1533.35 Q235.554 1536.89 239.165 1536.89 Q242.799 1536.89 244.605 1533.35 Q246.433 1529.78 246.433 1522.67 Q246.433 1515.55 244.605 1512 Q242.799 1508.44 239.165 1508.44 M239.165 1504.73 Q244.975 1504.73 248.031 1509.34 Q251.109 1513.92 251.109 1522.67 Q251.109 1531.4 248.031 1536.01 Q244.975 1540.59 239.165 1540.59 Q233.355 1540.59 230.276 1536.01 Q227.22 1531.4 227.22 1522.67 Q227.22 1513.92 230.276 1509.34 Q233.355 1504.73 239.165 1504.73 Z\" fill=\"#000000\" fill-rule=\"evenodd\" fill-opacity=\"1\" /><path clip-path=\"url(#clip970)\" d=\"M 0 0 M266.179 1508.44 Q262.567 1508.44 260.739 1512 Q258.933 1515.55 258.933 1522.67 Q258.933 1529.78 260.739 1533.35 Q262.567 1536.89 266.179 1536.89 Q269.813 1536.89 271.618 1533.35 Q273.447 1529.78 273.447 1522.67 Q273.447 1515.55 271.618 1512 Q269.813 1508.44 266.179 1508.44 M266.179 1504.73 Q271.989 1504.73 275.044 1509.34 Q278.123 1513.92 278.123 1522.67 Q278.123 1531.4 275.044 1536.01 Q271.989 1540.59 266.179 1540.59 Q260.368 1540.59 257.29 1536.01 Q254.234 1531.4 254.234 1522.67 Q254.234 1513.92 257.29 1509.34 Q260.368 1504.73 266.179 1504.73 Z\" fill=\"#000000\" fill-rule=\"evenodd\" fill-opacity=\"1\" /><path clip-path=\"url(#clip970)\" d=\"M 0 0 M702.309 1508.44 Q698.698 1508.44 696.869 1512 Q695.064 1515.55 695.064 1522.67 Q695.064 1529.78 696.869 1533.35 Q698.698 1536.89 702.309 1536.89 Q705.943 1536.89 707.749 1533.35 Q709.577 1529.78 709.577 1522.67 Q709.577 1515.55 707.749 1512 Q705.943 1508.44 702.309 1508.44 M702.309 1504.73 Q708.119 1504.73 711.175 1509.34 Q714.253 1513.92 714.253 1522.67 Q714.253 1531.4 711.175 1536.01 Q708.119 1540.59 702.309 1540.59 Q696.499 1540.59 693.42 1536.01 Q690.365 1531.4 690.365 1522.67 Q690.365 1513.92 693.42 1509.34 Q696.499 1504.73 702.309 1504.73 Z\" fill=\"#000000\" fill-rule=\"evenodd\" fill-opacity=\"1\" /><path clip-path=\"url(#clip970)\" d=\"M 0 0 M719.323 1534.04 L724.207 1534.04 L724.207 1539.92 L719.323 1539.92 L719.323 1534.04 Z\" fill=\"#000000\" fill-rule=\"evenodd\" fill-opacity=\"1\" /><path clip-path=\"url(#clip970)\" d=\"M 0 0 M733.304 1535.98 L749.623 1535.98 L749.623 1539.92 L727.679 1539.92 L727.679 1535.98 Q730.341 1533.23 734.924 1528.6 Q739.531 1523.95 740.711 1522.61 Q742.957 1520.08 743.836 1518.35 Q744.739 1516.59 744.739 1514.9 Q744.739 1512.14 742.795 1510.41 Q740.874 1508.67 737.772 1508.67 Q735.573 1508.67 733.119 1509.43 Q730.688 1510.2 727.911 1511.75 L727.911 1507.03 Q730.735 1505.89 733.188 1505.31 Q735.642 1504.73 737.679 1504.73 Q743.049 1504.73 746.244 1507.42 Q749.438 1510.11 749.438 1514.6 Q749.438 1516.73 748.628 1518.65 Q747.841 1520.54 745.735 1523.14 Q745.156 1523.81 742.054 1527.03 Q738.952 1530.22 733.304 1535.98 Z\" fill=\"#000000\" fill-rule=\"evenodd\" fill-opacity=\"1\" /><path clip-path=\"url(#clip970)\" d=\"M 0 0 M754.739 1505.36 L773.096 1505.36 L773.096 1509.3 L759.022 1509.3 L759.022 1517.77 Q760.04 1517.42 761.059 1517.26 Q762.077 1517.07 763.096 1517.07 Q768.883 1517.07 772.262 1520.24 Q775.642 1523.42 775.642 1528.83 Q775.642 1534.41 772.17 1537.51 Q768.697 1540.59 762.378 1540.59 Q760.202 1540.59 757.934 1540.22 Q755.688 1539.85 753.281 1539.11 L753.281 1534.41 Q755.364 1535.54 757.586 1536.1 Q759.809 1536.66 762.285 1536.66 Q766.29 1536.66 768.628 1534.55 Q770.966 1532.44 770.966 1528.83 Q770.966 1525.22 768.628 1523.11 Q766.29 1521.01 762.285 1521.01 Q760.41 1521.01 758.535 1521.42 Q756.684 1521.84 754.739 1522.72 L754.739 1505.36 Z\" fill=\"#000000\" fill-rule=\"evenodd\" fill-opacity=\"1\" /><path clip-path=\"url(#clip970)\" d=\"M 0 0 M1200.33 1508.44 Q1196.71 1508.44 1194.89 1512 Q1193.08 1515.55 1193.08 1522.67 Q1193.08 1529.78 1194.89 1533.35 Q1196.71 1536.89 1200.33 1536.89 Q1203.96 1536.89 1205.77 1533.35 Q1207.59 1529.78 1207.59 1522.67 Q1207.59 1515.55 1205.77 1512 Q1203.96 1508.44 1200.33 1508.44 M1200.33 1504.73 Q1206.14 1504.73 1209.19 1509.34 Q1212.27 1513.92 1212.27 1522.67 Q1212.27 1531.4 1209.19 1536.01 Q1206.14 1540.59 1200.33 1540.59 Q1194.52 1540.59 1191.44 1536.01 Q1188.38 1531.4 1188.38 1522.67 Q1188.38 1513.92 1191.44 1509.34 Q1194.52 1504.73 1200.33 1504.73 Z\" fill=\"#000000\" fill-rule=\"evenodd\" fill-opacity=\"1\" /><path clip-path=\"url(#clip970)\" d=\"M 0 0 M1217.34 1534.04 L1222.22 1534.04 L1222.22 1539.92 L1217.34 1539.92 L1217.34 1534.04 Z\" fill=\"#000000\" fill-rule=\"evenodd\" fill-opacity=\"1\" /><path clip-path=\"url(#clip970)\" d=\"M 0 0 M1227.34 1505.36 L1245.7 1505.36 L1245.7 1509.3 L1231.62 1509.3 L1231.62 1517.77 Q1232.64 1517.42 1233.66 1517.26 Q1234.68 1517.07 1235.7 1517.07 Q1241.48 1517.07 1244.86 1520.24 Q1248.24 1523.42 1248.24 1528.83 Q1248.24 1534.41 1244.77 1537.51 Q1241.3 1540.59 1234.98 1540.59 Q1232.8 1540.59 1230.53 1540.22 Q1228.29 1539.85 1225.88 1539.11 L1225.88 1534.41 Q1227.96 1535.54 1230.19 1536.1 Q1232.41 1536.66 1234.89 1536.66 Q1238.89 1536.66 1241.23 1534.55 Q1243.57 1532.44 1243.57 1528.83 Q1243.57 1525.22 1241.23 1523.11 Q1238.89 1521.01 1234.89 1521.01 Q1233.01 1521.01 1231.14 1521.42 Q1229.28 1521.84 1227.34 1522.72 L1227.34 1505.36 Z\" fill=\"#000000\" fill-rule=\"evenodd\" fill-opacity=\"1\" /><path clip-path=\"url(#clip970)\" d=\"M 0 0 M1263.31 1508.44 Q1259.7 1508.44 1257.87 1512 Q1256.07 1515.55 1256.07 1522.67 Q1256.07 1529.78 1257.87 1533.35 Q1259.7 1536.89 1263.31 1536.89 Q1266.95 1536.89 1268.75 1533.35 Q1270.58 1529.78 1270.58 1522.67 Q1270.58 1515.55 1268.75 1512 Q1266.95 1508.44 1263.31 1508.44 M1263.31 1504.73 Q1269.12 1504.73 1272.18 1509.34 Q1275.26 1513.92 1275.26 1522.67 Q1275.26 1531.4 1272.18 1536.01 Q1269.12 1540.59 1263.31 1540.59 Q1257.5 1540.59 1254.42 1536.01 Q1251.37 1531.4 1251.37 1522.67 Q1251.37 1513.92 1254.42 1509.34 Q1257.5 1504.73 1263.31 1504.73 Z\" fill=\"#000000\" fill-rule=\"evenodd\" fill-opacity=\"1\" /><path clip-path=\"url(#clip970)\" d=\"M 0 0 M1699.59 1508.44 Q1695.98 1508.44 1694.15 1512 Q1692.35 1515.55 1692.35 1522.67 Q1692.35 1529.78 1694.15 1533.35 Q1695.98 1536.89 1699.59 1536.89 Q1703.23 1536.89 1705.03 1533.35 Q1706.86 1529.78 1706.86 1522.67 Q1706.86 1515.55 1705.03 1512 Q1703.23 1508.44 1699.59 1508.44 M1699.59 1504.73 Q1705.4 1504.73 1708.46 1509.34 Q1711.54 1513.92 1711.54 1522.67 Q1711.54 1531.4 1708.46 1536.01 Q1705.4 1540.59 1699.59 1540.59 Q1693.78 1540.59 1690.7 1536.01 Q1687.65 1531.4 1687.65 1522.67 Q1687.65 1513.92 1690.7 1509.34 Q1693.78 1504.73 1699.59 1504.73 Z\" fill=\"#000000\" fill-rule=\"evenodd\" fill-opacity=\"1\" /><path clip-path=\"url(#clip970)\" d=\"M 0 0 M1716.61 1534.04 L1721.49 1534.04 L1721.49 1539.92 L1716.61 1539.92 L1716.61 1534.04 Z\" fill=\"#000000\" fill-rule=\"evenodd\" fill-opacity=\"1\" /><path clip-path=\"url(#clip970)\" d=\"M 0 0 M1725.38 1505.36 L1747.6 1505.36 L1747.6 1507.35 L1735.05 1539.92 L1730.17 1539.92 L1741.98 1509.3 L1725.38 1509.3 L1725.38 1505.36 Z\" fill=\"#000000\" fill-rule=\"evenodd\" fill-opacity=\"1\" /><path clip-path=\"url(#clip970)\" d=\"M 0 0 M1752.72 1505.36 L1771.07 1505.36 L1771.07 1509.3 L1757 1509.3 L1757 1517.77 Q1758.02 1517.42 1759.04 1517.26 Q1760.05 1517.07 1761.07 1517.07 Q1766.86 1517.07 1770.24 1520.24 Q1773.62 1523.42 1773.62 1528.83 Q1773.62 1534.41 1770.15 1537.51 Q1766.68 1540.59 1760.36 1540.59 Q1758.18 1540.59 1755.91 1540.22 Q1753.67 1539.85 1751.26 1539.11 L1751.26 1534.41 Q1753.34 1535.54 1755.56 1536.1 Q1757.79 1536.66 1760.26 1536.66 Q1764.27 1536.66 1766.61 1534.55 Q1768.94 1532.44 1768.94 1528.83 Q1768.94 1525.22 1766.61 1523.11 Q1764.27 1521.01 1760.26 1521.01 Q1758.39 1521.01 1756.51 1521.42 Q1754.66 1521.84 1752.72 1522.72 L1752.72 1505.36 Z\" fill=\"#000000\" fill-rule=\"evenodd\" fill-opacity=\"1\" /><path clip-path=\"url(#clip970)\" d=\"M 0 0 M2187.84 1535.98 L2195.48 1535.98 L2195.48 1509.62 L2187.17 1511.29 L2187.17 1507.03 L2195.43 1505.36 L2200.11 1505.36 L2200.11 1535.98 L2207.75 1535.98 L2207.75 1539.92 L2187.84 1539.92 L2187.84 1535.98 Z\" fill=\"#000000\" fill-rule=\"evenodd\" fill-opacity=\"1\" /><path clip-path=\"url(#clip970)\" d=\"M 0 0 M2212.82 1534.04 L2217.7 1534.04 L2217.7 1539.92 L2212.82 1539.92 L2212.82 1534.04 Z\" fill=\"#000000\" fill-rule=\"evenodd\" fill-opacity=\"1\" /><path clip-path=\"url(#clip970)\" d=\"M 0 0 M2232.77 1508.44 Q2229.16 1508.44 2227.33 1512 Q2225.53 1515.55 2225.53 1522.67 Q2225.53 1529.78 2227.33 1533.35 Q2229.16 1536.89 2232.77 1536.89 Q2236.4 1536.89 2238.21 1533.35 Q2240.04 1529.78 2240.04 1522.67 Q2240.04 1515.55 2238.21 1512 Q2236.4 1508.44 2232.77 1508.44 M2232.77 1504.73 Q2238.58 1504.73 2241.64 1509.34 Q2244.71 1513.92 2244.71 1522.67 Q2244.71 1531.4 2241.64 1536.01 Q2238.58 1540.59 2232.77 1540.59 Q2226.96 1540.59 2223.88 1536.01 Q2220.83 1531.4 2220.83 1522.67 Q2220.83 1513.92 2223.88 1509.34 Q2226.96 1504.73 2232.77 1504.73 Z\" fill=\"#000000\" fill-rule=\"evenodd\" fill-opacity=\"1\" /><path clip-path=\"url(#clip970)\" d=\"M 0 0 M2259.78 1508.44 Q2256.17 1508.44 2254.34 1512 Q2252.54 1515.55 2252.54 1522.67 Q2252.54 1529.78 2254.34 1533.35 Q2256.17 1536.89 2259.78 1536.89 Q2263.42 1536.89 2265.22 1533.35 Q2267.05 1529.78 2267.05 1522.67 Q2267.05 1515.55 2265.22 1512 Q2263.42 1508.44 2259.78 1508.44 M2259.78 1504.73 Q2265.59 1504.73 2268.65 1509.34 Q2271.73 1513.92 2271.73 1522.67 Q2271.73 1531.4 2268.65 1536.01 Q2265.59 1540.59 2259.78 1540.59 Q2253.97 1540.59 2250.9 1536.01 Q2247.84 1531.4 2247.84 1522.67 Q2247.84 1513.92 2250.9 1509.34 Q2253.97 1504.73 2259.78 1504.73 Z\" fill=\"#000000\" fill-rule=\"evenodd\" fill-opacity=\"1\" /><path clip-path=\"url(#clip970)\" d=\"M 0 0 M74.9365 1431.51 Q71.3254 1431.51 69.4967 1435.08 Q67.6912 1438.62 67.6912 1445.75 Q67.6912 1452.86 69.4967 1456.42 Q71.3254 1459.96 74.9365 1459.96 Q78.5707 1459.96 80.3763 1456.42 Q82.205 1452.86 82.205 1445.75 Q82.205 1438.62 80.3763 1435.08 Q78.5707 1431.51 74.9365 1431.51 M74.9365 1427.81 Q80.7467 1427.81 83.8022 1432.42 Q86.8809 1437 86.8809 1445.75 Q86.8809 1454.48 83.8022 1459.08 Q80.7467 1463.67 74.9365 1463.67 Q69.1264 1463.67 66.0477 1459.08 Q62.9921 1454.48 62.9921 1445.75 Q62.9921 1437 66.0477 1432.42 Q69.1264 1427.81 74.9365 1427.81 Z\" fill=\"#000000\" fill-rule=\"evenodd\" fill-opacity=\"1\" /><path clip-path=\"url(#clip970)\" d=\"M 0 0 M66.9736 1006.48 L74.6124 1006.48 L74.6124 980.115 L66.3023 981.782 L66.3023 977.523 L74.5661 975.856 L79.242 975.856 L79.242 1006.48 L86.8809 1006.48 L86.8809 1010.42 L66.9736 1010.42 L66.9736 1006.48 Z\" fill=\"#000000\" fill-rule=\"evenodd\" fill-opacity=\"1\" /><path clip-path=\"url(#clip970)\" d=\"M 0 0 M70.5615 553.901 L86.8809 553.901 L86.8809 557.836 L64.9366 557.836 L64.9366 553.901 Q67.5986 551.146 72.1819 546.517 Q76.7883 541.864 77.9689 540.521 Q80.2143 537.998 81.0939 536.262 Q81.9967 534.503 81.9967 532.813 Q81.9967 530.058 80.0522 528.322 Q78.1309 526.586 75.0291 526.586 Q72.83 526.586 70.3763 527.35 Q67.9458 528.114 65.168 529.665 L65.168 524.943 Q67.9921 523.808 70.4458 523.23 Q72.8995 522.651 74.9365 522.651 Q80.3068 522.651 83.5013 525.336 Q86.6957 528.021 86.6957 532.512 Q86.6957 534.642 85.8855 536.563 Q85.0985 538.461 82.992 541.054 Q82.4133 541.725 79.3115 544.943 Q76.2096 548.137 70.5615 553.901 Z\" fill=\"#000000\" fill-rule=\"evenodd\" fill-opacity=\"1\" /><path clip-path=\"url(#clip970)\" d=\"M 0 0 M79.7513 86.6221 Q83.1078 87.3397 84.9827 89.6082 Q86.8809 91.8767 86.8809 95.21 Q86.8809 100.326 83.3624 103.127 Q79.8439 105.928 73.3624 105.928 Q71.1865 105.928 68.8717 105.488 Q66.5801 105.071 64.1264 104.215 L64.1264 99.7008 Q66.0708 100.835 68.3856 101.414 Q70.7004 101.992 73.2236 101.992 Q77.6217 101.992 79.9133 100.256 Q82.2281 98.5202 82.2281 95.21 Q82.2281 92.1545 80.0754 90.4415 Q77.9457 88.7054 74.1263 88.7054 L70.0986 88.7054 L70.0986 84.8629 L74.3115 84.8629 Q77.7606 84.8629 79.5893 83.4971 Q81.418 82.1083 81.418 79.5157 Q81.418 76.8537 79.5198 75.4416 Q77.6448 74.0064 74.1263 74.0064 Q72.205 74.0064 70.006 74.4231 Q67.8069 74.8398 65.168 75.7194 L65.168 71.5528 Q67.8301 70.812 70.1449 70.4416 Q72.4828 70.0713 74.543 70.0713 Q79.867 70.0713 82.9689 72.5018 Q86.0707 74.9092 86.0707 79.0296 Q86.0707 81.8999 84.4272 83.8907 Q82.7837 85.8582 79.7513 86.6221 Z\" fill=\"#000000\" fill-rule=\"evenodd\" fill-opacity=\"1\" /><path clip-path=\"url(#clip972)\" d=\"\n",
       "M234.188 540.556 L234.188 1445.72 L633.24 1445.72 L633.24 540.556 L234.188 540.556 L234.188 540.556  Z\n",
       "  \" fill=\"#009af9\" fill-rule=\"evenodd\" fill-opacity=\"1\"/>\n",
       "<polyline clip-path=\"url(#clip972)\" style=\"stroke:#000000; stroke-width:4; stroke-opacity:1; fill:none\" points=\"\n",
       "  234.188,540.556 234.188,1445.72 633.24,1445.72 633.24,540.556 234.188,540.556 \n",
       "  \"/>\n",
       "<path clip-path=\"url(#clip972)\" d=\"\n",
       "M633.24 87.9763 L633.24 1445.72 L1032.29 1445.72 L1032.29 87.9763 L633.24 87.9763 L633.24 87.9763  Z\n",
       "  \" fill=\"#009af9\" fill-rule=\"evenodd\" fill-opacity=\"1\"/>\n",
       "<polyline clip-path=\"url(#clip972)\" style=\"stroke:#000000; stroke-width:4; stroke-opacity:1; fill:none\" points=\"\n",
       "  633.24,87.9763 633.24,1445.72 1032.29,1445.72 1032.29,87.9763 633.24,87.9763 \n",
       "  \"/>\n",
       "<path clip-path=\"url(#clip972)\" d=\"\n",
       "M1032.29 540.556 L1032.29 1445.72 L1431.34 1445.72 L1431.34 540.556 L1032.29 540.556 L1032.29 540.556  Z\n",
       "  \" fill=\"#009af9\" fill-rule=\"evenodd\" fill-opacity=\"1\"/>\n",
       "<polyline clip-path=\"url(#clip972)\" style=\"stroke:#000000; stroke-width:4; stroke-opacity:1; fill:none\" points=\"\n",
       "  1032.29,540.556 1032.29,1445.72 1431.34,1445.72 1431.34,540.556 1032.29,540.556 \n",
       "  \"/>\n",
       "<path clip-path=\"url(#clip972)\" d=\"\n",
       "M1431.34 993.136 L1431.34 1445.72 L1830.4 1445.72 L1830.4 993.136 L1431.34 993.136 L1431.34 993.136  Z\n",
       "  \" fill=\"#009af9\" fill-rule=\"evenodd\" fill-opacity=\"1\"/>\n",
       "<polyline clip-path=\"url(#clip972)\" style=\"stroke:#000000; stroke-width:4; stroke-opacity:1; fill:none\" points=\"\n",
       "  1431.34,993.136 1431.34,1445.72 1830.4,1445.72 1830.4,993.136 1431.34,993.136 \n",
       "  \"/>\n",
       "<path clip-path=\"url(#clip972)\" d=\"\n",
       "M1830.4 540.556 L1830.4 1445.72 L2229.45 1445.72 L2229.45 540.556 L1830.4 540.556 L1830.4 540.556  Z\n",
       "  \" fill=\"#009af9\" fill-rule=\"evenodd\" fill-opacity=\"1\"/>\n",
       "<polyline clip-path=\"url(#clip972)\" style=\"stroke:#000000; stroke-width:4; stroke-opacity:1; fill:none\" points=\"\n",
       "  1830.4,540.556 1830.4,1445.72 2229.45,1445.72 2229.45,540.556 1830.4,540.556 \n",
       "  \"/>\n",
       "<path clip-path=\"url(#clip970)\" d=\"\n",
       "M1989.74 251.724 L2280.76 251.724 L2280.76 130.764 L1989.74 130.764  Z\n",
       "  \" fill=\"#ffffff\" fill-rule=\"evenodd\" fill-opacity=\"1\"/>\n",
       "<polyline clip-path=\"url(#clip970)\" style=\"stroke:#000000; stroke-width:4; stroke-opacity:1; fill:none\" points=\"\n",
       "  1989.74,251.724 2280.76,251.724 2280.76,130.764 1989.74,130.764 1989.74,251.724 \n",
       "  \"/>\n",
       "<path clip-path=\"url(#clip970)\" d=\"\n",
       "M2013.74 215.436 L2157.74 215.436 L2157.74 167.052 L2013.74 167.052 L2013.74 215.436  Z\n",
       "  \" fill=\"#009af9\" fill-rule=\"evenodd\" fill-opacity=\"1\"/>\n",
       "<polyline clip-path=\"url(#clip970)\" style=\"stroke:#000000; stroke-width:4; stroke-opacity:1; fill:none\" points=\"\n",
       "  2013.74,215.436 2157.74,215.436 2157.74,167.052 2013.74,167.052 2013.74,215.436 \n",
       "  \"/>\n",
       "<path clip-path=\"url(#clip970)\" d=\"M 0 0 M2195.58 210.931 Q2193.77 215.561 2192.06 216.973 Q2190.35 218.385 2187.48 218.385 L2184.08 218.385 L2184.08 214.82 L2186.58 214.82 Q2188.33 214.82 2189.31 213.987 Q2190.28 213.154 2191.46 210.052 L2192.22 208.107 L2181.74 182.598 L2186.25 182.598 L2194.35 202.876 L2202.46 182.598 L2206.97 182.598 L2195.58 210.931 Z\" fill=\"#000000\" fill-rule=\"evenodd\" fill-opacity=\"1\" /><path clip-path=\"url(#clip970)\" d=\"M 0 0 M2212.85 204.589 L2220.49 204.589 L2220.49 178.223 L2212.18 179.89 L2212.18 175.631 L2220.44 173.964 L2225.12 173.964 L2225.12 204.589 L2232.76 204.589 L2232.76 208.524 L2212.85 208.524 L2212.85 204.589 Z\" fill=\"#000000\" fill-rule=\"evenodd\" fill-opacity=\"1\" /></svg>\n"
      ]
     },
     "execution_count": 216,
     "metadata": {},
     "output_type": "execute_result"
    }
   ],
   "source": [
    "histogram(y)"
   ]
  },
  {
   "cell_type": "code",
   "execution_count": 217,
   "metadata": {},
   "outputs": [
    {
     "data": {
      "image/svg+xml": [
       "<?xml version=\"1.0\" encoding=\"utf-8\"?>\n",
       "<svg xmlns=\"http://www.w3.org/2000/svg\" xmlns:xlink=\"http://www.w3.org/1999/xlink\" width=\"600\" height=\"400\" viewBox=\"0 0 2400 1600\">\n",
       "<defs>\n",
       "  <clipPath id=\"clip010\">\n",
       "    <rect x=\"0\" y=\"0\" width=\"2400\" height=\"1600\"/>\n",
       "  </clipPath>\n",
       "</defs>\n",
       "<path clip-path=\"url(#clip010)\" d=\"\n",
       "M0 1600 L2400 1600 L2400 0 L0 0  Z\n",
       "  \" fill=\"#ffffff\" fill-rule=\"evenodd\" fill-opacity=\"1\"/>\n",
       "<defs>\n",
       "  <clipPath id=\"clip011\">\n",
       "    <rect x=\"480\" y=\"0\" width=\"1681\" height=\"1600\"/>\n",
       "  </clipPath>\n",
       "</defs>\n",
       "<path clip-path=\"url(#clip010)\" d=\"\n",
       "M148.334 686.448 L1152.76 686.448 L1152.76 47.2441 L148.334 47.2441  Z\n",
       "  \" fill=\"#ffffff\" fill-rule=\"evenodd\" fill-opacity=\"1\"/>\n",
       "<defs>\n",
       "  <clipPath id=\"clip012\">\n",
       "    <rect x=\"148\" y=\"47\" width=\"1005\" height=\"640\"/>\n",
       "  </clipPath>\n",
       "</defs>\n",
       "<polyline clip-path=\"url(#clip012)\" style=\"stroke:#000000; stroke-width:2; stroke-opacity:0.1; fill:none\" points=\"\n",
       "  282.047,686.448 282.047,47.2441 \n",
       "  \"/>\n",
       "<polyline clip-path=\"url(#clip012)\" style=\"stroke:#000000; stroke-width:2; stroke-opacity:0.1; fill:none\" points=\"\n",
       "  492.617,686.448 492.617,47.2441 \n",
       "  \"/>\n",
       "<polyline clip-path=\"url(#clip012)\" style=\"stroke:#000000; stroke-width:2; stroke-opacity:0.1; fill:none\" points=\"\n",
       "  703.188,686.448 703.188,47.2441 \n",
       "  \"/>\n",
       "<polyline clip-path=\"url(#clip012)\" style=\"stroke:#000000; stroke-width:2; stroke-opacity:0.1; fill:none\" points=\"\n",
       "  913.758,686.448 913.758,47.2441 \n",
       "  \"/>\n",
       "<polyline clip-path=\"url(#clip012)\" style=\"stroke:#000000; stroke-width:2; stroke-opacity:0.1; fill:none\" points=\"\n",
       "  1124.33,686.448 1124.33,47.2441 \n",
       "  \"/>\n",
       "<polyline clip-path=\"url(#clip012)\" style=\"stroke:#000000; stroke-width:2; stroke-opacity:0.1; fill:none\" points=\"\n",
       "  148.334,602.307 1152.76,602.307 \n",
       "  \"/>\n",
       "<polyline clip-path=\"url(#clip012)\" style=\"stroke:#000000; stroke-width:2; stroke-opacity:0.1; fill:none\" points=\"\n",
       "  148.334,440.958 1152.76,440.958 \n",
       "  \"/>\n",
       "<polyline clip-path=\"url(#clip012)\" style=\"stroke:#000000; stroke-width:2; stroke-opacity:0.1; fill:none\" points=\"\n",
       "  148.334,279.609 1152.76,279.609 \n",
       "  \"/>\n",
       "<polyline clip-path=\"url(#clip012)\" style=\"stroke:#000000; stroke-width:2; stroke-opacity:0.1; fill:none\" points=\"\n",
       "  148.334,118.259 1152.76,118.259 \n",
       "  \"/>\n",
       "<polyline clip-path=\"url(#clip010)\" style=\"stroke:#000000; stroke-width:4; stroke-opacity:1; fill:none\" points=\"\n",
       "  148.334,686.448 1152.76,686.448 \n",
       "  \"/>\n",
       "<polyline clip-path=\"url(#clip010)\" style=\"stroke:#000000; stroke-width:4; stroke-opacity:1; fill:none\" points=\"\n",
       "  148.334,686.448 148.334,47.2441 \n",
       "  \"/>\n",
       "<polyline clip-path=\"url(#clip010)\" style=\"stroke:#000000; stroke-width:4; stroke-opacity:1; fill:none\" points=\"\n",
       "  282.047,686.448 282.047,678.777 \n",
       "  \"/>\n",
       "<polyline clip-path=\"url(#clip010)\" style=\"stroke:#000000; stroke-width:4; stroke-opacity:1; fill:none\" points=\"\n",
       "  492.617,686.448 492.617,678.777 \n",
       "  \"/>\n",
       "<polyline clip-path=\"url(#clip010)\" style=\"stroke:#000000; stroke-width:4; stroke-opacity:1; fill:none\" points=\"\n",
       "  703.188,686.448 703.188,678.777 \n",
       "  \"/>\n",
       "<polyline clip-path=\"url(#clip010)\" style=\"stroke:#000000; stroke-width:4; stroke-opacity:1; fill:none\" points=\"\n",
       "  913.758,686.448 913.758,678.777 \n",
       "  \"/>\n",
       "<polyline clip-path=\"url(#clip010)\" style=\"stroke:#000000; stroke-width:4; stroke-opacity:1; fill:none\" points=\"\n",
       "  1124.33,686.448 1124.33,678.777 \n",
       "  \"/>\n",
       "<polyline clip-path=\"url(#clip010)\" style=\"stroke:#000000; stroke-width:4; stroke-opacity:1; fill:none\" points=\"\n",
       "  148.334,602.307 160.387,602.307 \n",
       "  \"/>\n",
       "<polyline clip-path=\"url(#clip010)\" style=\"stroke:#000000; stroke-width:4; stroke-opacity:1; fill:none\" points=\"\n",
       "  148.334,440.958 160.387,440.958 \n",
       "  \"/>\n",
       "<polyline clip-path=\"url(#clip010)\" style=\"stroke:#000000; stroke-width:4; stroke-opacity:1; fill:none\" points=\"\n",
       "  148.334,279.609 160.387,279.609 \n",
       "  \"/>\n",
       "<polyline clip-path=\"url(#clip010)\" style=\"stroke:#000000; stroke-width:4; stroke-opacity:1; fill:none\" points=\"\n",
       "  148.334,118.259 160.387,118.259 \n",
       "  \"/>\n",
       "<path clip-path=\"url(#clip010)\" d=\"M 0 0 M276.699 735.985 L293.019 735.985 L293.019 739.92 L271.075 739.92 L271.075 735.985 Q273.737 733.23 278.32 728.6 Q282.926 723.948 284.107 722.605 Q286.352 720.082 287.232 718.346 Q288.135 716.587 288.135 714.897 Q288.135 712.142 286.19 710.406 Q284.269 708.67 281.167 708.67 Q278.968 708.67 276.514 709.434 Q274.084 710.198 271.306 711.749 L271.306 707.027 Q274.13 705.892 276.584 705.314 Q279.037 704.735 281.074 704.735 Q286.445 704.735 289.639 707.42 Q292.834 710.105 292.834 714.596 Q292.834 716.726 292.023 718.647 Q291.236 720.545 289.13 723.138 Q288.551 723.809 285.449 727.026 Q282.348 730.221 276.699 735.985 Z\" fill=\"#000000\" fill-rule=\"evenodd\" fill-opacity=\"1\" /><path clip-path=\"url(#clip010)\" d=\"M 0 0 M495.626 709.434 L483.821 727.883 L495.626 727.883 L495.626 709.434 M494.4 705.36 L500.279 705.36 L500.279 727.883 L505.21 727.883 L505.21 731.772 L500.279 731.772 L500.279 739.92 L495.626 739.92 L495.626 731.772 L480.025 731.772 L480.025 727.258 L494.4 705.36 Z\" fill=\"#000000\" fill-rule=\"evenodd\" fill-opacity=\"1\" /><path clip-path=\"url(#clip010)\" d=\"M 0 0 M703.593 720.776 Q700.445 720.776 698.593 722.929 Q696.764 725.082 696.764 728.832 Q696.764 732.559 698.593 734.735 Q700.445 736.887 703.593 736.887 Q706.741 736.887 708.57 734.735 Q710.422 732.559 710.422 728.832 Q710.422 725.082 708.57 722.929 Q706.741 720.776 703.593 720.776 M712.875 706.124 L712.875 710.383 Q711.116 709.55 709.31 709.11 Q707.528 708.67 705.769 708.67 Q701.139 708.67 698.685 711.795 Q696.255 714.92 695.908 721.239 Q697.273 719.226 699.334 718.161 Q701.394 717.073 703.871 717.073 Q709.079 717.073 712.088 720.244 Q715.121 723.392 715.121 728.832 Q715.121 734.156 711.972 737.374 Q708.824 740.591 703.593 740.591 Q697.598 740.591 694.426 736.008 Q691.255 731.401 691.255 722.675 Q691.255 714.48 695.144 709.619 Q699.033 704.735 705.584 704.735 Q707.343 704.735 709.125 705.082 Q710.931 705.429 712.875 706.124 Z\" fill=\"#000000\" fill-rule=\"evenodd\" fill-opacity=\"1\" /><path clip-path=\"url(#clip010)\" d=\"M 0 0 M913.758 723.508 Q910.425 723.508 908.504 725.29 Q906.606 727.073 906.606 730.198 Q906.606 733.323 908.504 735.105 Q910.425 736.887 913.758 736.887 Q917.092 736.887 919.013 735.105 Q920.934 733.3 920.934 730.198 Q920.934 727.073 919.013 725.29 Q917.115 723.508 913.758 723.508 M909.082 721.517 Q906.073 720.776 904.383 718.716 Q902.717 716.656 902.717 713.693 Q902.717 709.55 905.657 707.142 Q908.619 704.735 913.758 704.735 Q918.92 704.735 921.86 707.142 Q924.8 709.55 924.8 713.693 Q924.8 716.656 923.11 718.716 Q921.443 720.776 918.457 721.517 Q921.837 722.304 923.712 724.596 Q925.61 726.888 925.61 730.198 Q925.61 735.221 922.531 737.906 Q919.476 740.591 913.758 740.591 Q908.041 740.591 904.962 737.906 Q901.907 735.221 901.907 730.198 Q901.907 726.888 903.805 724.596 Q905.703 722.304 909.082 721.517 M907.369 714.133 Q907.369 716.818 909.036 718.323 Q910.726 719.827 913.758 719.827 Q916.768 719.827 918.457 718.323 Q920.17 716.818 920.17 714.133 Q920.17 711.448 918.457 709.943 Q916.768 708.439 913.758 708.439 Q910.726 708.439 909.036 709.943 Q907.369 711.448 907.369 714.133 Z\" fill=\"#000000\" fill-rule=\"evenodd\" fill-opacity=\"1\" /><path clip-path=\"url(#clip010)\" d=\"M 0 0 M1101.2 735.985 L1108.84 735.985 L1108.84 709.619 L1100.53 711.286 L1100.53 707.027 L1108.8 705.36 L1113.47 705.36 L1113.47 735.985 L1121.11 735.985 L1121.11 739.92 L1101.2 739.92 L1101.2 735.985 Z\" fill=\"#000000\" fill-rule=\"evenodd\" fill-opacity=\"1\" /><path clip-path=\"url(#clip010)\" d=\"M 0 0 M1136.18 708.439 Q1132.57 708.439 1130.74 712.003 Q1128.94 715.545 1128.94 722.675 Q1128.94 729.781 1130.74 733.346 Q1132.57 736.887 1136.18 736.887 Q1139.81 736.887 1141.62 733.346 Q1143.45 729.781 1143.45 722.675 Q1143.45 715.545 1141.62 712.003 Q1139.81 708.439 1136.18 708.439 M1136.18 704.735 Q1141.99 704.735 1145.05 709.341 Q1148.13 713.925 1148.13 722.675 Q1148.13 731.401 1145.05 736.008 Q1141.99 740.591 1136.18 740.591 Q1130.37 740.591 1127.29 736.008 Q1124.24 731.401 1124.24 722.675 Q1124.24 713.925 1127.29 709.341 Q1130.37 704.735 1136.18 704.735 Z\" fill=\"#000000\" fill-rule=\"evenodd\" fill-opacity=\"1\" /><path clip-path=\"url(#clip010)\" d=\"M 0 0 M77.0198 588.106 Q73.4087 588.106 71.58 591.671 Q69.7745 595.213 69.7745 602.342 Q69.7745 609.449 71.58 613.013 Q73.4087 616.555 77.0198 616.555 Q80.6541 616.555 82.4596 613.013 Q84.2883 609.449 84.2883 602.342 Q84.2883 595.213 82.4596 591.671 Q80.6541 588.106 77.0198 588.106 M77.0198 584.402 Q82.83 584.402 85.8855 589.009 Q88.9642 593.592 88.9642 602.342 Q88.9642 611.069 85.8855 615.675 Q82.83 620.259 77.0198 620.259 Q71.2097 620.259 68.131 615.675 Q65.0754 611.069 65.0754 602.342 Q65.0754 593.592 68.131 589.009 Q71.2097 584.402 77.0198 584.402 Z\" fill=\"#000000\" fill-rule=\"evenodd\" fill-opacity=\"1\" /><path clip-path=\"url(#clip010)\" d=\"M 0 0 M94.0336 613.708 L98.9179 613.708 L98.9179 619.587 L94.0336 619.587 L94.0336 613.708 Z\" fill=\"#000000\" fill-rule=\"evenodd\" fill-opacity=\"1\" /><path clip-path=\"url(#clip010)\" d=\"M 0 0 M108.015 615.652 L124.334 615.652 L124.334 619.587 L102.39 619.587 L102.39 615.652 Q105.052 612.898 109.635 608.268 Q114.242 603.615 115.422 602.273 Q117.668 599.75 118.547 598.014 Q119.45 596.254 119.45 594.564 Q119.45 591.81 117.506 590.074 Q115.584 588.338 112.483 588.338 Q110.284 588.338 107.83 589.102 Q105.399 589.865 102.622 591.416 L102.622 586.694 Q105.446 585.56 107.899 584.981 Q110.353 584.402 112.39 584.402 Q117.76 584.402 120.955 587.088 Q124.149 589.773 124.149 594.264 Q124.149 596.393 123.339 598.314 Q122.552 600.213 120.446 602.805 Q119.867 603.476 116.765 606.694 Q113.663 609.888 108.015 615.652 Z\" fill=\"#000000\" fill-rule=\"evenodd\" fill-opacity=\"1\" /><path clip-path=\"url(#clip010)\" d=\"M 0 0 M74.9365 426.757 Q71.3254 426.757 69.4967 430.321 Q67.6912 433.863 67.6912 440.993 Q67.6912 448.099 69.4967 451.664 Q71.3254 455.206 74.9365 455.206 Q78.5707 455.206 80.3763 451.664 Q82.205 448.099 82.205 440.993 Q82.205 433.863 80.3763 430.321 Q78.5707 426.757 74.9365 426.757 M74.9365 423.053 Q80.7467 423.053 83.8022 427.659 Q86.8809 432.243 86.8809 440.993 Q86.8809 449.72 83.8022 454.326 Q80.7467 458.909 74.9365 458.909 Q69.1264 458.909 66.0477 454.326 Q62.9921 449.72 62.9921 440.993 Q62.9921 432.243 66.0477 427.659 Q69.1264 423.053 74.9365 423.053 Z\" fill=\"#000000\" fill-rule=\"evenodd\" fill-opacity=\"1\" /><path clip-path=\"url(#clip010)\" d=\"M 0 0 M91.9503 452.358 L96.8345 452.358 L96.8345 458.238 L91.9503 458.238 L91.9503 452.358 Z\" fill=\"#000000\" fill-rule=\"evenodd\" fill-opacity=\"1\" /><path clip-path=\"url(#clip010)\" d=\"M 0 0 M114.751 427.752 L102.946 446.201 L114.751 446.201 L114.751 427.752 M113.524 423.678 L119.404 423.678 L119.404 446.201 L124.334 446.201 L124.334 450.09 L119.404 450.09 L119.404 458.238 L114.751 458.238 L114.751 450.09 L99.1493 450.09 L99.1493 445.576 L113.524 423.678 Z\" fill=\"#000000\" fill-rule=\"evenodd\" fill-opacity=\"1\" /><path clip-path=\"url(#clip010)\" d=\"M 0 0 M75.2606 265.407 Q71.6495 265.407 69.8208 268.972 Q68.0152 272.514 68.0152 279.643 Q68.0152 286.75 69.8208 290.314 Q71.6495 293.856 75.2606 293.856 Q78.8948 293.856 80.7004 290.314 Q82.5291 286.75 82.5291 279.643 Q82.5291 272.514 80.7004 268.972 Q78.8948 265.407 75.2606 265.407 M75.2606 261.704 Q81.0707 261.704 84.1263 266.31 Q87.205 270.893 87.205 279.643 Q87.205 288.37 84.1263 292.977 Q81.0707 297.56 75.2606 297.56 Q69.4504 297.56 66.3717 292.977 Q63.3162 288.37 63.3162 279.643 Q63.3162 270.893 66.3717 266.31 Q69.4504 261.704 75.2606 261.704 Z\" fill=\"#000000\" fill-rule=\"evenodd\" fill-opacity=\"1\" /><path clip-path=\"url(#clip010)\" d=\"M 0 0 M92.2744 291.009 L97.1586 291.009 L97.1586 296.889 L92.2744 296.889 L92.2744 291.009 Z\" fill=\"#000000\" fill-rule=\"evenodd\" fill-opacity=\"1\" /><path clip-path=\"url(#clip010)\" d=\"M 0 0 M112.807 277.745 Q109.659 277.745 107.807 279.898 Q105.978 282.051 105.978 285.801 Q105.978 289.527 107.807 291.703 Q109.659 293.856 112.807 293.856 Q115.955 293.856 117.783 291.703 Q119.635 289.527 119.635 285.801 Q119.635 282.051 117.783 279.898 Q115.955 277.745 112.807 277.745 M122.089 263.092 L122.089 267.352 Q120.33 266.518 118.524 266.078 Q116.742 265.639 114.983 265.639 Q110.353 265.639 107.899 268.764 Q105.469 271.889 105.122 278.208 Q106.487 276.194 108.547 275.129 Q110.608 274.041 113.084 274.041 Q118.293 274.041 121.302 277.213 Q124.334 280.361 124.334 285.801 Q124.334 291.125 121.186 294.342 Q118.038 297.56 112.807 297.56 Q106.811 297.56 103.64 292.977 Q100.469 288.37 100.469 279.643 Q100.469 271.449 104.358 266.588 Q108.247 261.704 114.797 261.704 Q116.557 261.704 118.339 262.051 Q120.145 262.398 122.089 263.092 Z\" fill=\"#000000\" fill-rule=\"evenodd\" fill-opacity=\"1\" /><path clip-path=\"url(#clip010)\" d=\"M 0 0 M75.5152 104.058 Q71.9041 104.058 70.0754 107.623 Q68.2699 111.164 68.2699 118.294 Q68.2699 125.4 70.0754 128.965 Q71.9041 132.507 75.5152 132.507 Q79.1494 132.507 80.955 128.965 Q82.7837 125.4 82.7837 118.294 Q82.7837 111.164 80.955 107.623 Q79.1494 104.058 75.5152 104.058 M75.5152 100.354 Q81.3254 100.354 84.3809 104.96 Q87.4596 109.544 87.4596 118.294 Q87.4596 127.021 84.3809 131.627 Q81.3254 136.21 75.5152 136.21 Q69.7051 136.21 66.6264 131.627 Q63.5708 127.021 63.5708 118.294 Q63.5708 109.544 66.6264 104.96 Q69.7051 100.354 75.5152 100.354 Z\" fill=\"#000000\" fill-rule=\"evenodd\" fill-opacity=\"1\" /><path clip-path=\"url(#clip010)\" d=\"M 0 0 M92.529 129.659 L97.4132 129.659 L97.4132 135.539 L92.529 135.539 L92.529 129.659 Z\" fill=\"#000000\" fill-rule=\"evenodd\" fill-opacity=\"1\" /><path clip-path=\"url(#clip010)\" d=\"M 0 0 M112.483 119.127 Q109.149 119.127 107.228 120.909 Q105.33 122.692 105.33 125.817 Q105.33 128.942 107.228 130.724 Q109.149 132.507 112.483 132.507 Q115.816 132.507 117.737 130.724 Q119.658 128.919 119.658 125.817 Q119.658 122.692 117.737 120.909 Q115.839 119.127 112.483 119.127 M107.807 117.136 Q104.797 116.396 103.108 114.335 Q101.441 112.275 101.441 109.312 Q101.441 105.169 104.381 102.761 Q107.344 100.354 112.483 100.354 Q117.645 100.354 120.584 102.761 Q123.524 105.169 123.524 109.312 Q123.524 112.275 121.834 114.335 Q120.168 116.396 117.182 117.136 Q120.561 117.923 122.436 120.215 Q124.334 122.507 124.334 125.817 Q124.334 130.84 121.256 133.525 Q118.2 136.21 112.483 136.21 Q106.765 136.21 103.686 133.525 Q100.631 130.84 100.631 125.817 Q100.631 122.507 102.529 120.215 Q104.427 117.923 107.807 117.136 M106.094 109.752 Q106.094 112.437 107.76 113.942 Q109.45 115.447 112.483 115.447 Q115.492 115.447 117.182 113.942 Q118.895 112.437 118.895 109.752 Q118.895 107.067 117.182 105.562 Q115.492 104.058 112.483 104.058 Q109.45 104.058 107.76 105.562 Q106.094 107.067 106.094 109.752 Z\" fill=\"#000000\" fill-rule=\"evenodd\" fill-opacity=\"1\" /><polyline clip-path=\"url(#clip012)\" style=\"stroke:#009af9; stroke-width:4; stroke-opacity:1; fill:none\" points=\"\n",
       "  176.761,628.664 282.047,335.711 387.332,254.939 492.617,445.67 597.903,668.357 703.188,67.5195 808.473,287.522 913.758,452.08 1019.04,65.3348 1124.33,457.772 \n",
       "  \n",
       "  \"/>\n",
       "<path clip-path=\"url(#clip010)\" d=\"\n",
       "M1348.33 686.448 L2352.76 686.448 L2352.76 47.2441 L1348.33 47.2441  Z\n",
       "  \" fill=\"#ffffff\" fill-rule=\"evenodd\" fill-opacity=\"1\"/>\n",
       "<defs>\n",
       "  <clipPath id=\"clip013\">\n",
       "    <rect x=\"1348\" y=\"47\" width=\"1005\" height=\"640\"/>\n",
       "  </clipPath>\n",
       "</defs>\n",
       "<polyline clip-path=\"url(#clip013)\" style=\"stroke:#000000; stroke-width:2; stroke-opacity:0.1; fill:none\" points=\"\n",
       "  1482.05,686.448 1482.05,47.2441 \n",
       "  \"/>\n",
       "<polyline clip-path=\"url(#clip013)\" style=\"stroke:#000000; stroke-width:2; stroke-opacity:0.1; fill:none\" points=\"\n",
       "  1692.62,686.448 1692.62,47.2441 \n",
       "  \"/>\n",
       "<polyline clip-path=\"url(#clip013)\" style=\"stroke:#000000; stroke-width:2; stroke-opacity:0.1; fill:none\" points=\"\n",
       "  1903.19,686.448 1903.19,47.2441 \n",
       "  \"/>\n",
       "<polyline clip-path=\"url(#clip013)\" style=\"stroke:#000000; stroke-width:2; stroke-opacity:0.1; fill:none\" points=\"\n",
       "  2113.76,686.448 2113.76,47.2441 \n",
       "  \"/>\n",
       "<polyline clip-path=\"url(#clip013)\" style=\"stroke:#000000; stroke-width:2; stroke-opacity:0.1; fill:none\" points=\"\n",
       "  2324.33,686.448 2324.33,47.2441 \n",
       "  \"/>\n",
       "<polyline clip-path=\"url(#clip013)\" style=\"stroke:#000000; stroke-width:2; stroke-opacity:0.1; fill:none\" points=\"\n",
       "  1348.33,602.307 2352.76,602.307 \n",
       "  \"/>\n",
       "<polyline clip-path=\"url(#clip013)\" style=\"stroke:#000000; stroke-width:2; stroke-opacity:0.1; fill:none\" points=\"\n",
       "  1348.33,440.958 2352.76,440.958 \n",
       "  \"/>\n",
       "<polyline clip-path=\"url(#clip013)\" style=\"stroke:#000000; stroke-width:2; stroke-opacity:0.1; fill:none\" points=\"\n",
       "  1348.33,279.609 2352.76,279.609 \n",
       "  \"/>\n",
       "<polyline clip-path=\"url(#clip013)\" style=\"stroke:#000000; stroke-width:2; stroke-opacity:0.1; fill:none\" points=\"\n",
       "  1348.33,118.259 2352.76,118.259 \n",
       "  \"/>\n",
       "<polyline clip-path=\"url(#clip010)\" style=\"stroke:#000000; stroke-width:4; stroke-opacity:1; fill:none\" points=\"\n",
       "  1348.33,686.448 2352.76,686.448 \n",
       "  \"/>\n",
       "<polyline clip-path=\"url(#clip010)\" style=\"stroke:#000000; stroke-width:4; stroke-opacity:1; fill:none\" points=\"\n",
       "  1348.33,686.448 1348.33,47.2441 \n",
       "  \"/>\n",
       "<polyline clip-path=\"url(#clip010)\" style=\"stroke:#000000; stroke-width:4; stroke-opacity:1; fill:none\" points=\"\n",
       "  1482.05,686.448 1482.05,678.777 \n",
       "  \"/>\n",
       "<polyline clip-path=\"url(#clip010)\" style=\"stroke:#000000; stroke-width:4; stroke-opacity:1; fill:none\" points=\"\n",
       "  1692.62,686.448 1692.62,678.777 \n",
       "  \"/>\n",
       "<polyline clip-path=\"url(#clip010)\" style=\"stroke:#000000; stroke-width:4; stroke-opacity:1; fill:none\" points=\"\n",
       "  1903.19,686.448 1903.19,678.777 \n",
       "  \"/>\n",
       "<polyline clip-path=\"url(#clip010)\" style=\"stroke:#000000; stroke-width:4; stroke-opacity:1; fill:none\" points=\"\n",
       "  2113.76,686.448 2113.76,678.777 \n",
       "  \"/>\n",
       "<polyline clip-path=\"url(#clip010)\" style=\"stroke:#000000; stroke-width:4; stroke-opacity:1; fill:none\" points=\"\n",
       "  2324.33,686.448 2324.33,678.777 \n",
       "  \"/>\n",
       "<polyline clip-path=\"url(#clip010)\" style=\"stroke:#000000; stroke-width:4; stroke-opacity:1; fill:none\" points=\"\n",
       "  1348.33,602.307 1360.39,602.307 \n",
       "  \"/>\n",
       "<polyline clip-path=\"url(#clip010)\" style=\"stroke:#000000; stroke-width:4; stroke-opacity:1; fill:none\" points=\"\n",
       "  1348.33,440.958 1360.39,440.958 \n",
       "  \"/>\n",
       "<polyline clip-path=\"url(#clip010)\" style=\"stroke:#000000; stroke-width:4; stroke-opacity:1; fill:none\" points=\"\n",
       "  1348.33,279.609 1360.39,279.609 \n",
       "  \"/>\n",
       "<polyline clip-path=\"url(#clip010)\" style=\"stroke:#000000; stroke-width:4; stroke-opacity:1; fill:none\" points=\"\n",
       "  1348.33,118.259 1360.39,118.259 \n",
       "  \"/>\n",
       "<path clip-path=\"url(#clip010)\" d=\"M 0 0 M1476.7 735.985 L1493.02 735.985 L1493.02 739.92 L1471.07 739.92 L1471.07 735.985 Q1473.74 733.23 1478.32 728.6 Q1482.93 723.948 1484.11 722.605 Q1486.35 720.082 1487.23 718.346 Q1488.13 716.587 1488.13 714.897 Q1488.13 712.142 1486.19 710.406 Q1484.27 708.67 1481.17 708.67 Q1478.97 708.67 1476.51 709.434 Q1474.08 710.198 1471.31 711.749 L1471.31 707.027 Q1474.13 705.892 1476.58 705.314 Q1479.04 704.735 1481.07 704.735 Q1486.44 704.735 1489.64 707.42 Q1492.83 710.105 1492.83 714.596 Q1492.83 716.726 1492.02 718.647 Q1491.24 720.545 1489.13 723.138 Q1488.55 723.809 1485.45 727.026 Q1482.35 730.221 1476.7 735.985 Z\" fill=\"#000000\" fill-rule=\"evenodd\" fill-opacity=\"1\" /><path clip-path=\"url(#clip010)\" d=\"M 0 0 M1695.63 709.434 L1683.82 727.883 L1695.63 727.883 L1695.63 709.434 M1694.4 705.36 L1700.28 705.36 L1700.28 727.883 L1705.21 727.883 L1705.21 731.772 L1700.28 731.772 L1700.28 739.92 L1695.63 739.92 L1695.63 731.772 L1680.02 731.772 L1680.02 727.258 L1694.4 705.36 Z\" fill=\"#000000\" fill-rule=\"evenodd\" fill-opacity=\"1\" /><path clip-path=\"url(#clip010)\" d=\"M 0 0 M1903.59 720.776 Q1900.44 720.776 1898.59 722.929 Q1896.76 725.082 1896.76 728.832 Q1896.76 732.559 1898.59 734.735 Q1900.44 736.887 1903.59 736.887 Q1906.74 736.887 1908.57 734.735 Q1910.42 732.559 1910.42 728.832 Q1910.42 725.082 1908.57 722.929 Q1906.74 720.776 1903.59 720.776 M1912.88 706.124 L1912.88 710.383 Q1911.12 709.55 1909.31 709.11 Q1907.53 708.67 1905.77 708.67 Q1901.14 708.67 1898.69 711.795 Q1896.25 714.92 1895.91 721.239 Q1897.27 719.226 1899.33 718.161 Q1901.39 717.073 1903.87 717.073 Q1909.08 717.073 1912.09 720.244 Q1915.12 723.392 1915.12 728.832 Q1915.12 734.156 1911.97 737.374 Q1908.82 740.591 1903.59 740.591 Q1897.6 740.591 1894.43 736.008 Q1891.25 731.401 1891.25 722.675 Q1891.25 714.48 1895.14 709.619 Q1899.03 704.735 1905.58 704.735 Q1907.34 704.735 1909.13 705.082 Q1910.93 705.429 1912.88 706.124 Z\" fill=\"#000000\" fill-rule=\"evenodd\" fill-opacity=\"1\" /><path clip-path=\"url(#clip010)\" d=\"M 0 0 M2113.76 723.508 Q2110.43 723.508 2108.5 725.29 Q2106.61 727.073 2106.61 730.198 Q2106.61 733.323 2108.5 735.105 Q2110.43 736.887 2113.76 736.887 Q2117.09 736.887 2119.01 735.105 Q2120.93 733.3 2120.93 730.198 Q2120.93 727.073 2119.01 725.29 Q2117.11 723.508 2113.76 723.508 M2109.08 721.517 Q2106.07 720.776 2104.38 718.716 Q2102.72 716.656 2102.72 713.693 Q2102.72 709.55 2105.66 707.142 Q2108.62 704.735 2113.76 704.735 Q2118.92 704.735 2121.86 707.142 Q2124.8 709.55 2124.8 713.693 Q2124.8 716.656 2123.11 718.716 Q2121.44 720.776 2118.46 721.517 Q2121.84 722.304 2123.71 724.596 Q2125.61 726.888 2125.61 730.198 Q2125.61 735.221 2122.53 737.906 Q2119.48 740.591 2113.76 740.591 Q2108.04 740.591 2104.96 737.906 Q2101.91 735.221 2101.91 730.198 Q2101.91 726.888 2103.8 724.596 Q2105.7 722.304 2109.08 721.517 M2107.37 714.133 Q2107.37 716.818 2109.04 718.323 Q2110.73 719.827 2113.76 719.827 Q2116.77 719.827 2118.46 718.323 Q2120.17 716.818 2120.17 714.133 Q2120.17 711.448 2118.46 709.943 Q2116.77 708.439 2113.76 708.439 Q2110.73 708.439 2109.04 709.943 Q2107.37 711.448 2107.37 714.133 Z\" fill=\"#000000\" fill-rule=\"evenodd\" fill-opacity=\"1\" /><path clip-path=\"url(#clip010)\" d=\"M 0 0 M2301.2 735.985 L2308.84 735.985 L2308.84 709.619 L2300.53 711.286 L2300.53 707.027 L2308.8 705.36 L2313.47 705.36 L2313.47 735.985 L2321.11 735.985 L2321.11 739.92 L2301.2 739.92 L2301.2 735.985 Z\" fill=\"#000000\" fill-rule=\"evenodd\" fill-opacity=\"1\" /><path clip-path=\"url(#clip010)\" d=\"M 0 0 M2336.18 708.439 Q2332.57 708.439 2330.74 712.003 Q2328.94 715.545 2328.94 722.675 Q2328.94 729.781 2330.74 733.346 Q2332.57 736.887 2336.18 736.887 Q2339.81 736.887 2341.62 733.346 Q2343.45 729.781 2343.45 722.675 Q2343.45 715.545 2341.62 712.003 Q2339.81 708.439 2336.18 708.439 M2336.18 704.735 Q2341.99 704.735 2345.05 709.341 Q2348.13 713.925 2348.13 722.675 Q2348.13 731.401 2345.05 736.008 Q2341.99 740.591 2336.18 740.591 Q2330.37 740.591 2327.29 736.008 Q2324.24 731.401 2324.24 722.675 Q2324.24 713.925 2327.29 709.341 Q2330.37 704.735 2336.18 704.735 Z\" fill=\"#000000\" fill-rule=\"evenodd\" fill-opacity=\"1\" /><path clip-path=\"url(#clip010)\" d=\"M 0 0 M1277.02 588.106 Q1273.41 588.106 1271.58 591.671 Q1269.77 595.213 1269.77 602.342 Q1269.77 609.449 1271.58 613.013 Q1273.41 616.555 1277.02 616.555 Q1280.65 616.555 1282.46 613.013 Q1284.29 609.449 1284.29 602.342 Q1284.29 595.213 1282.46 591.671 Q1280.65 588.106 1277.02 588.106 M1277.02 584.402 Q1282.83 584.402 1285.89 589.009 Q1288.96 593.592 1288.96 602.342 Q1288.96 611.069 1285.89 615.675 Q1282.83 620.259 1277.02 620.259 Q1271.21 620.259 1268.13 615.675 Q1265.08 611.069 1265.08 602.342 Q1265.08 593.592 1268.13 589.009 Q1271.21 584.402 1277.02 584.402 Z\" fill=\"#000000\" fill-rule=\"evenodd\" fill-opacity=\"1\" /><path clip-path=\"url(#clip010)\" d=\"M 0 0 M1294.03 613.708 L1298.92 613.708 L1298.92 619.587 L1294.03 619.587 L1294.03 613.708 Z\" fill=\"#000000\" fill-rule=\"evenodd\" fill-opacity=\"1\" /><path clip-path=\"url(#clip010)\" d=\"M 0 0 M1308.02 615.652 L1324.33 615.652 L1324.33 619.587 L1302.39 619.587 L1302.39 615.652 Q1305.05 612.898 1309.64 608.268 Q1314.24 603.615 1315.42 602.273 Q1317.67 599.75 1318.55 598.014 Q1319.45 596.254 1319.45 594.564 Q1319.45 591.81 1317.51 590.074 Q1315.58 588.338 1312.48 588.338 Q1310.28 588.338 1307.83 589.102 Q1305.4 589.865 1302.62 591.416 L1302.62 586.694 Q1305.45 585.56 1307.9 584.981 Q1310.35 584.402 1312.39 584.402 Q1317.76 584.402 1320.95 587.088 Q1324.15 589.773 1324.15 594.264 Q1324.15 596.393 1323.34 598.314 Q1322.55 600.213 1320.45 602.805 Q1319.87 603.476 1316.76 606.694 Q1313.66 609.888 1308.02 615.652 Z\" fill=\"#000000\" fill-rule=\"evenodd\" fill-opacity=\"1\" /><path clip-path=\"url(#clip010)\" d=\"M 0 0 M1274.94 426.757 Q1271.33 426.757 1269.5 430.321 Q1267.69 433.863 1267.69 440.993 Q1267.69 448.099 1269.5 451.664 Q1271.33 455.206 1274.94 455.206 Q1278.57 455.206 1280.38 451.664 Q1282.2 448.099 1282.2 440.993 Q1282.2 433.863 1280.38 430.321 Q1278.57 426.757 1274.94 426.757 M1274.94 423.053 Q1280.75 423.053 1283.8 427.659 Q1286.88 432.243 1286.88 440.993 Q1286.88 449.72 1283.8 454.326 Q1280.75 458.909 1274.94 458.909 Q1269.13 458.909 1266.05 454.326 Q1262.99 449.72 1262.99 440.993 Q1262.99 432.243 1266.05 427.659 Q1269.13 423.053 1274.94 423.053 Z\" fill=\"#000000\" fill-rule=\"evenodd\" fill-opacity=\"1\" /><path clip-path=\"url(#clip010)\" d=\"M 0 0 M1291.95 452.358 L1296.83 452.358 L1296.83 458.238 L1291.95 458.238 L1291.95 452.358 Z\" fill=\"#000000\" fill-rule=\"evenodd\" fill-opacity=\"1\" /><path clip-path=\"url(#clip010)\" d=\"M 0 0 M1314.75 427.752 L1302.95 446.201 L1314.75 446.201 L1314.75 427.752 M1313.52 423.678 L1319.4 423.678 L1319.4 446.201 L1324.33 446.201 L1324.33 450.09 L1319.4 450.09 L1319.4 458.238 L1314.75 458.238 L1314.75 450.09 L1299.15 450.09 L1299.15 445.576 L1313.52 423.678 Z\" fill=\"#000000\" fill-rule=\"evenodd\" fill-opacity=\"1\" /><path clip-path=\"url(#clip010)\" d=\"M 0 0 M1275.26 265.407 Q1271.65 265.407 1269.82 268.972 Q1268.02 272.514 1268.02 279.643 Q1268.02 286.75 1269.82 290.314 Q1271.65 293.856 1275.26 293.856 Q1278.89 293.856 1280.7 290.314 Q1282.53 286.75 1282.53 279.643 Q1282.53 272.514 1280.7 268.972 Q1278.89 265.407 1275.26 265.407 M1275.26 261.704 Q1281.07 261.704 1284.13 266.31 Q1287.2 270.893 1287.2 279.643 Q1287.2 288.37 1284.13 292.977 Q1281.07 297.56 1275.26 297.56 Q1269.45 297.56 1266.37 292.977 Q1263.32 288.37 1263.32 279.643 Q1263.32 270.893 1266.37 266.31 Q1269.45 261.704 1275.26 261.704 Z\" fill=\"#000000\" fill-rule=\"evenodd\" fill-opacity=\"1\" /><path clip-path=\"url(#clip010)\" d=\"M 0 0 M1292.27 291.009 L1297.16 291.009 L1297.16 296.889 L1292.27 296.889 L1292.27 291.009 Z\" fill=\"#000000\" fill-rule=\"evenodd\" fill-opacity=\"1\" /><path clip-path=\"url(#clip010)\" d=\"M 0 0 M1312.81 277.745 Q1309.66 277.745 1307.81 279.898 Q1305.98 282.051 1305.98 285.801 Q1305.98 289.527 1307.81 291.703 Q1309.66 293.856 1312.81 293.856 Q1315.95 293.856 1317.78 291.703 Q1319.64 289.527 1319.64 285.801 Q1319.64 282.051 1317.78 279.898 Q1315.95 277.745 1312.81 277.745 M1322.09 263.092 L1322.09 267.352 Q1320.33 266.518 1318.52 266.078 Q1316.74 265.639 1314.98 265.639 Q1310.35 265.639 1307.9 268.764 Q1305.47 271.889 1305.12 278.208 Q1306.49 276.194 1308.55 275.129 Q1310.61 274.041 1313.08 274.041 Q1318.29 274.041 1321.3 277.213 Q1324.33 280.361 1324.33 285.801 Q1324.33 291.125 1321.19 294.342 Q1318.04 297.56 1312.81 297.56 Q1306.81 297.56 1303.64 292.977 Q1300.47 288.37 1300.47 279.643 Q1300.47 271.449 1304.36 266.588 Q1308.25 261.704 1314.8 261.704 Q1316.56 261.704 1318.34 262.051 Q1320.14 262.398 1322.09 263.092 Z\" fill=\"#000000\" fill-rule=\"evenodd\" fill-opacity=\"1\" /><path clip-path=\"url(#clip010)\" d=\"M 0 0 M1275.52 104.058 Q1271.9 104.058 1270.08 107.623 Q1268.27 111.164 1268.27 118.294 Q1268.27 125.4 1270.08 128.965 Q1271.9 132.507 1275.52 132.507 Q1279.15 132.507 1280.95 128.965 Q1282.78 125.4 1282.78 118.294 Q1282.78 111.164 1280.95 107.623 Q1279.15 104.058 1275.52 104.058 M1275.52 100.354 Q1281.33 100.354 1284.38 104.96 Q1287.46 109.544 1287.46 118.294 Q1287.46 127.021 1284.38 131.627 Q1281.33 136.21 1275.52 136.21 Q1269.71 136.21 1266.63 131.627 Q1263.57 127.021 1263.57 118.294 Q1263.57 109.544 1266.63 104.96 Q1269.71 100.354 1275.52 100.354 Z\" fill=\"#000000\" fill-rule=\"evenodd\" fill-opacity=\"1\" /><path clip-path=\"url(#clip010)\" d=\"M 0 0 M1292.53 129.659 L1297.41 129.659 L1297.41 135.539 L1292.53 135.539 L1292.53 129.659 Z\" fill=\"#000000\" fill-rule=\"evenodd\" fill-opacity=\"1\" /><path clip-path=\"url(#clip010)\" d=\"M 0 0 M1312.48 119.127 Q1309.15 119.127 1307.23 120.909 Q1305.33 122.692 1305.33 125.817 Q1305.33 128.942 1307.23 130.724 Q1309.15 132.507 1312.48 132.507 Q1315.82 132.507 1317.74 130.724 Q1319.66 128.919 1319.66 125.817 Q1319.66 122.692 1317.74 120.909 Q1315.84 119.127 1312.48 119.127 M1307.81 117.136 Q1304.8 116.396 1303.11 114.335 Q1301.44 112.275 1301.44 109.312 Q1301.44 105.169 1304.38 102.761 Q1307.34 100.354 1312.48 100.354 Q1317.64 100.354 1320.58 102.761 Q1323.52 105.169 1323.52 109.312 Q1323.52 112.275 1321.83 114.335 Q1320.17 116.396 1317.18 117.136 Q1320.56 117.923 1322.44 120.215 Q1324.33 122.507 1324.33 125.817 Q1324.33 130.84 1321.26 133.525 Q1318.2 136.21 1312.48 136.21 Q1306.77 136.21 1303.69 133.525 Q1300.63 130.84 1300.63 125.817 Q1300.63 122.507 1302.53 120.215 Q1304.43 117.923 1307.81 117.136 M1306.09 109.752 Q1306.09 112.437 1307.76 113.942 Q1309.45 115.447 1312.48 115.447 Q1315.49 115.447 1317.18 113.942 Q1318.89 112.437 1318.89 109.752 Q1318.89 107.067 1317.18 105.562 Q1315.49 104.058 1312.48 104.058 Q1309.45 104.058 1307.76 105.562 Q1306.09 107.067 1306.09 109.752 Z\" fill=\"#000000\" fill-rule=\"evenodd\" fill-opacity=\"1\" /><circle clip-path=\"url(#clip013)\" cx=\"1376.76\" cy=\"628.664\" r=\"14\" fill=\"#009af9\" fill-rule=\"evenodd\" fill-opacity=\"1\" stroke=\"#000000\" stroke-opacity=\"1\" stroke-width=\"3.2\"/>\n",
       "<circle clip-path=\"url(#clip013)\" cx=\"1482.05\" cy=\"335.711\" r=\"14\" fill=\"#009af9\" fill-rule=\"evenodd\" fill-opacity=\"1\" stroke=\"#000000\" stroke-opacity=\"1\" stroke-width=\"3.2\"/>\n",
       "<circle clip-path=\"url(#clip013)\" cx=\"1587.33\" cy=\"254.939\" r=\"14\" fill=\"#009af9\" fill-rule=\"evenodd\" fill-opacity=\"1\" stroke=\"#000000\" stroke-opacity=\"1\" stroke-width=\"3.2\"/>\n",
       "<circle clip-path=\"url(#clip013)\" cx=\"1692.62\" cy=\"445.67\" r=\"14\" fill=\"#009af9\" fill-rule=\"evenodd\" fill-opacity=\"1\" stroke=\"#000000\" stroke-opacity=\"1\" stroke-width=\"3.2\"/>\n",
       "<circle clip-path=\"url(#clip013)\" cx=\"1797.9\" cy=\"668.357\" r=\"14\" fill=\"#009af9\" fill-rule=\"evenodd\" fill-opacity=\"1\" stroke=\"#000000\" stroke-opacity=\"1\" stroke-width=\"3.2\"/>\n",
       "<circle clip-path=\"url(#clip013)\" cx=\"1903.19\" cy=\"67.5195\" r=\"14\" fill=\"#009af9\" fill-rule=\"evenodd\" fill-opacity=\"1\" stroke=\"#000000\" stroke-opacity=\"1\" stroke-width=\"3.2\"/>\n",
       "<circle clip-path=\"url(#clip013)\" cx=\"2008.47\" cy=\"287.522\" r=\"14\" fill=\"#009af9\" fill-rule=\"evenodd\" fill-opacity=\"1\" stroke=\"#000000\" stroke-opacity=\"1\" stroke-width=\"3.2\"/>\n",
       "<circle clip-path=\"url(#clip013)\" cx=\"2113.76\" cy=\"452.08\" r=\"14\" fill=\"#009af9\" fill-rule=\"evenodd\" fill-opacity=\"1\" stroke=\"#000000\" stroke-opacity=\"1\" stroke-width=\"3.2\"/>\n",
       "<circle clip-path=\"url(#clip013)\" cx=\"2219.04\" cy=\"65.3348\" r=\"14\" fill=\"#009af9\" fill-rule=\"evenodd\" fill-opacity=\"1\" stroke=\"#000000\" stroke-opacity=\"1\" stroke-width=\"3.2\"/>\n",
       "<circle clip-path=\"url(#clip013)\" cx=\"2324.33\" cy=\"457.772\" r=\"14\" fill=\"#009af9\" fill-rule=\"evenodd\" fill-opacity=\"1\" stroke=\"#000000\" stroke-opacity=\"1\" stroke-width=\"3.2\"/>\n",
       "<path clip-path=\"url(#clip010)\" d=\"\n",
       "M148.334 1486.45 L1152.76 1486.45 L1152.76 847.244 L148.334 847.244  Z\n",
       "  \" fill=\"#ffffff\" fill-rule=\"evenodd\" fill-opacity=\"1\"/>\n",
       "<defs>\n",
       "  <clipPath id=\"clip014\">\n",
       "    <rect x=\"148\" y=\"847\" width=\"1005\" height=\"640\"/>\n",
       "  </clipPath>\n",
       "</defs>\n",
       "<polyline clip-path=\"url(#clip014)\" style=\"stroke:#000000; stroke-width:2; stroke-opacity:0.1; fill:none\" points=\"\n",
       "  148.849,1486.45 148.849,847.244 \n",
       "  \"/>\n",
       "<polyline clip-path=\"url(#clip014)\" style=\"stroke:#000000; stroke-width:2; stroke-opacity:0.1; fill:none\" points=\"\n",
       "  376.893,1486.45 376.893,847.244 \n",
       "  \"/>\n",
       "<polyline clip-path=\"url(#clip014)\" style=\"stroke:#000000; stroke-width:2; stroke-opacity:0.1; fill:none\" points=\"\n",
       "  604.936,1486.45 604.936,847.244 \n",
       "  \"/>\n",
       "<polyline clip-path=\"url(#clip014)\" style=\"stroke:#000000; stroke-width:2; stroke-opacity:0.1; fill:none\" points=\"\n",
       "  832.98,1486.45 832.98,847.244 \n",
       "  \"/>\n",
       "<polyline clip-path=\"url(#clip014)\" style=\"stroke:#000000; stroke-width:2; stroke-opacity:0.1; fill:none\" points=\"\n",
       "  1061.02,1486.45 1061.02,847.244 \n",
       "  \"/>\n",
       "<polyline clip-path=\"url(#clip014)\" style=\"stroke:#000000; stroke-width:2; stroke-opacity:0.1; fill:none\" points=\"\n",
       "  148.334,1468.36 1152.76,1468.36 \n",
       "  \"/>\n",
       "<polyline clip-path=\"url(#clip014)\" style=\"stroke:#000000; stroke-width:2; stroke-opacity:0.1; fill:none\" points=\"\n",
       "  148.334,1329.03 1152.76,1329.03 \n",
       "  \"/>\n",
       "<polyline clip-path=\"url(#clip014)\" style=\"stroke:#000000; stroke-width:2; stroke-opacity:0.1; fill:none\" points=\"\n",
       "  148.334,1189.7 1152.76,1189.7 \n",
       "  \"/>\n",
       "<polyline clip-path=\"url(#clip014)\" style=\"stroke:#000000; stroke-width:2; stroke-opacity:0.1; fill:none\" points=\"\n",
       "  148.334,1050.37 1152.76,1050.37 \n",
       "  \"/>\n",
       "<polyline clip-path=\"url(#clip014)\" style=\"stroke:#000000; stroke-width:2; stroke-opacity:0.1; fill:none\" points=\"\n",
       "  148.334,911.036 1152.76,911.036 \n",
       "  \"/>\n",
       "<polyline clip-path=\"url(#clip010)\" style=\"stroke:#000000; stroke-width:4; stroke-opacity:1; fill:none\" points=\"\n",
       "  148.334,1486.45 1152.76,1486.45 \n",
       "  \"/>\n",
       "<polyline clip-path=\"url(#clip010)\" style=\"stroke:#000000; stroke-width:4; stroke-opacity:1; fill:none\" points=\"\n",
       "  148.334,1486.45 148.334,847.244 \n",
       "  \"/>\n",
       "<polyline clip-path=\"url(#clip010)\" style=\"stroke:#000000; stroke-width:4; stroke-opacity:1; fill:none\" points=\"\n",
       "  148.849,1486.45 148.849,1478.78 \n",
       "  \"/>\n",
       "<polyline clip-path=\"url(#clip010)\" style=\"stroke:#000000; stroke-width:4; stroke-opacity:1; fill:none\" points=\"\n",
       "  376.893,1486.45 376.893,1478.78 \n",
       "  \"/>\n",
       "<polyline clip-path=\"url(#clip010)\" style=\"stroke:#000000; stroke-width:4; stroke-opacity:1; fill:none\" points=\"\n",
       "  604.936,1486.45 604.936,1478.78 \n",
       "  \"/>\n",
       "<polyline clip-path=\"url(#clip010)\" style=\"stroke:#000000; stroke-width:4; stroke-opacity:1; fill:none\" points=\"\n",
       "  832.98,1486.45 832.98,1478.78 \n",
       "  \"/>\n",
       "<polyline clip-path=\"url(#clip010)\" style=\"stroke:#000000; stroke-width:4; stroke-opacity:1; fill:none\" points=\"\n",
       "  1061.02,1486.45 1061.02,1478.78 \n",
       "  \"/>\n",
       "<polyline clip-path=\"url(#clip010)\" style=\"stroke:#000000; stroke-width:4; stroke-opacity:1; fill:none\" points=\"\n",
       "  148.334,1468.36 160.387,1468.36 \n",
       "  \"/>\n",
       "<polyline clip-path=\"url(#clip010)\" style=\"stroke:#000000; stroke-width:4; stroke-opacity:1; fill:none\" points=\"\n",
       "  148.334,1329.03 160.387,1329.03 \n",
       "  \"/>\n",
       "<polyline clip-path=\"url(#clip010)\" style=\"stroke:#000000; stroke-width:4; stroke-opacity:1; fill:none\" points=\"\n",
       "  148.334,1189.7 160.387,1189.7 \n",
       "  \"/>\n",
       "<polyline clip-path=\"url(#clip010)\" style=\"stroke:#000000; stroke-width:4; stroke-opacity:1; fill:none\" points=\"\n",
       "  148.334,1050.37 160.387,1050.37 \n",
       "  \"/>\n",
       "<polyline clip-path=\"url(#clip010)\" style=\"stroke:#000000; stroke-width:4; stroke-opacity:1; fill:none\" points=\"\n",
       "  148.334,911.036 160.387,911.036 \n",
       "  \"/>\n",
       "<path clip-path=\"url(#clip010)\" d=\"M 0 0 M130.365 1508.44 Q126.754 1508.44 124.925 1512 Q123.12 1515.55 123.12 1522.67 Q123.12 1529.78 124.925 1533.35 Q126.754 1536.89 130.365 1536.89 Q133.999 1536.89 135.805 1533.35 Q137.634 1529.78 137.634 1522.67 Q137.634 1515.55 135.805 1512 Q133.999 1508.44 130.365 1508.44 M130.365 1504.73 Q136.175 1504.73 139.231 1509.34 Q142.31 1513.92 142.31 1522.67 Q142.31 1531.4 139.231 1536.01 Q136.175 1540.59 130.365 1540.59 Q124.555 1540.59 121.476 1536.01 Q118.421 1531.4 118.421 1522.67 Q118.421 1513.92 121.476 1509.34 Q124.555 1504.73 130.365 1504.73 Z\" fill=\"#000000\" fill-rule=\"evenodd\" fill-opacity=\"1\" /><path clip-path=\"url(#clip010)\" d=\"M 0 0 M147.379 1534.04 L152.263 1534.04 L152.263 1539.92 L147.379 1539.92 L147.379 1534.04 Z\" fill=\"#000000\" fill-rule=\"evenodd\" fill-opacity=\"1\" /><path clip-path=\"url(#clip010)\" d=\"M 0 0 M167.333 1508.44 Q163.721 1508.44 161.893 1512 Q160.087 1515.55 160.087 1522.67 Q160.087 1529.78 161.893 1533.35 Q163.721 1536.89 167.333 1536.89 Q170.967 1536.89 172.772 1533.35 Q174.601 1529.78 174.601 1522.67 Q174.601 1515.55 172.772 1512 Q170.967 1508.44 167.333 1508.44 M167.333 1504.73 Q173.143 1504.73 176.198 1509.34 Q179.277 1513.92 179.277 1522.67 Q179.277 1531.4 176.198 1536.01 Q173.143 1540.59 167.333 1540.59 Q161.522 1540.59 158.444 1536.01 Q155.388 1531.4 155.388 1522.67 Q155.388 1513.92 158.444 1509.34 Q161.522 1504.73 167.333 1504.73 Z\" fill=\"#000000\" fill-rule=\"evenodd\" fill-opacity=\"1\" /><path clip-path=\"url(#clip010)\" d=\"M 0 0 M353.559 1535.98 L369.879 1535.98 L369.879 1539.92 L347.934 1539.92 L347.934 1535.98 Q350.596 1533.23 355.18 1528.6 Q359.786 1523.95 360.967 1522.61 Q363.212 1520.08 364.092 1518.35 Q364.995 1516.59 364.995 1514.9 Q364.995 1512.14 363.05 1510.41 Q361.129 1508.67 358.027 1508.67 Q355.828 1508.67 353.374 1509.43 Q350.944 1510.2 348.166 1511.75 L348.166 1507.03 Q350.99 1505.89 353.444 1505.31 Q355.897 1504.73 357.934 1504.73 Q363.305 1504.73 366.499 1507.42 Q369.694 1510.11 369.694 1514.6 Q369.694 1516.73 368.883 1518.65 Q368.096 1520.54 365.99 1523.14 Q365.411 1523.81 362.309 1527.03 Q359.208 1530.22 353.559 1535.98 Z\" fill=\"#000000\" fill-rule=\"evenodd\" fill-opacity=\"1\" /><path clip-path=\"url(#clip010)\" d=\"M 0 0 M374.948 1534.04 L379.832 1534.04 L379.832 1539.92 L374.948 1539.92 L374.948 1534.04 Z\" fill=\"#000000\" fill-rule=\"evenodd\" fill-opacity=\"1\" /><path clip-path=\"url(#clip010)\" d=\"M 0 0 M384.948 1505.36 L403.305 1505.36 L403.305 1509.3 L389.231 1509.3 L389.231 1517.77 Q390.249 1517.42 391.268 1517.26 Q392.286 1517.07 393.305 1517.07 Q399.092 1517.07 402.471 1520.24 Q405.851 1523.42 405.851 1528.83 Q405.851 1534.41 402.379 1537.51 Q398.906 1540.59 392.587 1540.59 Q390.411 1540.59 388.143 1540.22 Q385.897 1539.85 383.49 1539.11 L383.49 1534.41 Q385.573 1535.54 387.795 1536.1 Q390.018 1536.66 392.494 1536.66 Q396.499 1536.66 398.837 1534.55 Q401.175 1532.44 401.175 1528.83 Q401.175 1525.22 398.837 1523.11 Q396.499 1521.01 392.494 1521.01 Q390.619 1521.01 388.744 1521.42 Q386.893 1521.84 384.948 1522.72 L384.948 1505.36 Z\" fill=\"#000000\" fill-rule=\"evenodd\" fill-opacity=\"1\" /><path clip-path=\"url(#clip010)\" d=\"M 0 0 M576.731 1505.36 L595.087 1505.36 L595.087 1509.3 L581.013 1509.3 L581.013 1517.77 Q582.031 1517.42 583.05 1517.26 Q584.068 1517.07 585.087 1517.07 Q590.874 1517.07 594.254 1520.24 Q597.633 1523.42 597.633 1528.83 Q597.633 1534.41 594.161 1537.51 Q590.689 1540.59 584.369 1540.59 Q582.193 1540.59 579.925 1540.22 Q577.68 1539.85 575.272 1539.11 L575.272 1534.41 Q577.356 1535.54 579.578 1536.1 Q581.8 1536.66 584.277 1536.66 Q588.281 1536.66 590.619 1534.55 Q592.957 1532.44 592.957 1528.83 Q592.957 1525.22 590.619 1523.11 Q588.281 1521.01 584.277 1521.01 Q582.402 1521.01 580.527 1521.42 Q578.675 1521.84 576.731 1522.72 L576.731 1505.36 Z\" fill=\"#000000\" fill-rule=\"evenodd\" fill-opacity=\"1\" /><path clip-path=\"url(#clip010)\" d=\"M 0 0 M602.703 1534.04 L607.587 1534.04 L607.587 1539.92 L602.703 1539.92 L602.703 1534.04 Z\" fill=\"#000000\" fill-rule=\"evenodd\" fill-opacity=\"1\" /><path clip-path=\"url(#clip010)\" d=\"M 0 0 M622.656 1508.44 Q619.045 1508.44 617.216 1512 Q615.411 1515.55 615.411 1522.67 Q615.411 1529.78 617.216 1533.35 Q619.045 1536.89 622.656 1536.89 Q626.29 1536.89 628.096 1533.35 Q629.925 1529.78 629.925 1522.67 Q629.925 1515.55 628.096 1512 Q626.29 1508.44 622.656 1508.44 M622.656 1504.73 Q628.466 1504.73 631.522 1509.34 Q634.601 1513.92 634.601 1522.67 Q634.601 1531.4 631.522 1536.01 Q628.466 1540.59 622.656 1540.59 Q616.846 1540.59 613.767 1536.01 Q610.712 1531.4 610.712 1522.67 Q610.712 1513.92 613.767 1509.34 Q616.846 1504.73 622.656 1504.73 Z\" fill=\"#000000\" fill-rule=\"evenodd\" fill-opacity=\"1\" /><path clip-path=\"url(#clip010)\" d=\"M 0 0 M803.883 1505.36 L826.105 1505.36 L826.105 1507.35 L813.559 1539.92 L808.675 1539.92 L820.48 1509.3 L803.883 1509.3 L803.883 1505.36 Z\" fill=\"#000000\" fill-rule=\"evenodd\" fill-opacity=\"1\" /><path clip-path=\"url(#clip010)\" d=\"M 0 0 M831.175 1534.04 L836.059 1534.04 L836.059 1539.92 L831.175 1539.92 L831.175 1534.04 Z\" fill=\"#000000\" fill-rule=\"evenodd\" fill-opacity=\"1\" /><path clip-path=\"url(#clip010)\" d=\"M 0 0 M841.175 1505.36 L859.531 1505.36 L859.531 1509.3 L845.457 1509.3 L845.457 1517.77 Q846.475 1517.42 847.494 1517.26 Q848.512 1517.07 849.531 1517.07 Q855.318 1517.07 858.698 1520.24 Q862.077 1523.42 862.077 1528.83 Q862.077 1534.41 858.605 1537.51 Q855.133 1540.59 848.813 1540.59 Q846.637 1540.59 844.369 1540.22 Q842.124 1539.85 839.716 1539.11 L839.716 1534.41 Q841.8 1535.54 844.022 1536.1 Q846.244 1536.66 848.721 1536.66 Q852.725 1536.66 855.063 1534.55 Q857.401 1532.44 857.401 1528.83 Q857.401 1525.22 855.063 1523.11 Q852.725 1521.01 848.721 1521.01 Q846.846 1521.01 844.971 1521.42 Q843.119 1521.84 841.175 1522.72 L841.175 1505.36 Z\" fill=\"#000000\" fill-rule=\"evenodd\" fill-opacity=\"1\" /><path clip-path=\"url(#clip010)\" d=\"M 0 0 M1019.42 1535.98 L1027.05 1535.98 L1027.05 1509.62 L1018.74 1511.29 L1018.74 1507.03 L1027.01 1505.36 L1031.68 1505.36 L1031.68 1535.98 L1039.32 1535.98 L1039.32 1539.92 L1019.42 1539.92 L1019.42 1535.98 Z\" fill=\"#000000\" fill-rule=\"evenodd\" fill-opacity=\"1\" /><path clip-path=\"url(#clip010)\" d=\"M 0 0 M1054.39 1508.44 Q1050.78 1508.44 1048.95 1512 Q1047.15 1515.55 1047.15 1522.67 Q1047.15 1529.78 1048.95 1533.35 Q1050.78 1536.89 1054.39 1536.89 Q1058.03 1536.89 1059.83 1533.35 Q1061.66 1529.78 1061.66 1522.67 Q1061.66 1515.55 1059.83 1512 Q1058.03 1508.44 1054.39 1508.44 M1054.39 1504.73 Q1060.2 1504.73 1063.26 1509.34 Q1066.34 1513.92 1066.34 1522.67 Q1066.34 1531.4 1063.26 1536.01 Q1060.2 1540.59 1054.39 1540.59 Q1048.58 1540.59 1045.5 1536.01 Q1042.45 1531.4 1042.45 1522.67 Q1042.45 1513.92 1045.5 1509.34 Q1048.58 1504.73 1054.39 1504.73 Z\" fill=\"#000000\" fill-rule=\"evenodd\" fill-opacity=\"1\" /><path clip-path=\"url(#clip010)\" d=\"M 0 0 M1071.41 1534.04 L1076.29 1534.04 L1076.29 1539.92 L1071.41 1539.92 L1071.41 1534.04 Z\" fill=\"#000000\" fill-rule=\"evenodd\" fill-opacity=\"1\" /><path clip-path=\"url(#clip010)\" d=\"M 0 0 M1091.36 1508.44 Q1087.75 1508.44 1085.92 1512 Q1084.11 1515.55 1084.11 1522.67 Q1084.11 1529.78 1085.92 1533.35 Q1087.75 1536.89 1091.36 1536.89 Q1094.99 1536.89 1096.8 1533.35 Q1098.63 1529.78 1098.63 1522.67 Q1098.63 1515.55 1096.8 1512 Q1094.99 1508.44 1091.36 1508.44 M1091.36 1504.73 Q1097.17 1504.73 1100.23 1509.34 Q1103.3 1513.92 1103.3 1522.67 Q1103.3 1531.4 1100.23 1536.01 Q1097.17 1540.59 1091.36 1540.59 Q1085.55 1540.59 1082.47 1536.01 Q1079.42 1531.4 1079.42 1522.67 Q1079.42 1513.92 1082.47 1509.34 Q1085.55 1504.73 1091.36 1504.73 Z\" fill=\"#000000\" fill-rule=\"evenodd\" fill-opacity=\"1\" /><path clip-path=\"url(#clip010)\" d=\"M 0 0 M75.4226 1454.16 Q71.8115 1454.16 69.9828 1457.72 Q68.1773 1461.26 68.1773 1468.39 Q68.1773 1475.5 69.9828 1479.06 Q71.8115 1482.6 75.4226 1482.6 Q79.0569 1482.6 80.8624 1479.06 Q82.6911 1475.5 82.6911 1468.39 Q82.6911 1461.26 80.8624 1457.72 Q79.0569 1454.16 75.4226 1454.16 M75.4226 1450.45 Q81.2328 1450.45 84.2883 1455.06 Q87.367 1459.64 87.367 1468.39 Q87.367 1477.12 84.2883 1481.73 Q81.2328 1486.31 75.4226 1486.31 Q69.6125 1486.31 66.5338 1481.73 Q63.4782 1477.12 63.4782 1468.39 Q63.4782 1459.64 66.5338 1455.06 Q69.6125 1450.45 75.4226 1450.45 Z\" fill=\"#000000\" fill-rule=\"evenodd\" fill-opacity=\"1\" /><path clip-path=\"url(#clip010)\" d=\"M 0 0 M92.4364 1479.76 L97.3206 1479.76 L97.3206 1485.64 L92.4364 1485.64 L92.4364 1479.76 Z\" fill=\"#000000\" fill-rule=\"evenodd\" fill-opacity=\"1\" /><path clip-path=\"url(#clip010)\" d=\"M 0 0 M112.39 1454.16 Q108.779 1454.16 106.95 1457.72 Q105.145 1461.26 105.145 1468.39 Q105.145 1475.5 106.95 1479.06 Q108.779 1482.6 112.39 1482.6 Q116.024 1482.6 117.83 1479.06 Q119.658 1475.5 119.658 1468.39 Q119.658 1461.26 117.83 1457.72 Q116.024 1454.16 112.39 1454.16 M112.39 1450.45 Q118.2 1450.45 121.256 1455.06 Q124.334 1459.64 124.334 1468.39 Q124.334 1477.12 121.256 1481.73 Q118.2 1486.31 112.39 1486.31 Q106.58 1486.31 103.501 1481.73 Q100.446 1477.12 100.446 1468.39 Q100.446 1459.64 103.501 1455.06 Q106.58 1450.45 112.39 1450.45 Z\" fill=\"#000000\" fill-rule=\"evenodd\" fill-opacity=\"1\" /><path clip-path=\"url(#clip010)\" d=\"M 0 0 M77.0198 1314.83 Q73.4087 1314.83 71.58 1318.39 Q69.7745 1321.93 69.7745 1329.06 Q69.7745 1336.17 71.58 1339.73 Q73.4087 1343.27 77.0198 1343.27 Q80.6541 1343.27 82.4596 1339.73 Q84.2883 1336.17 84.2883 1329.06 Q84.2883 1321.93 82.4596 1318.39 Q80.6541 1314.83 77.0198 1314.83 M77.0198 1311.12 Q82.83 1311.12 85.8855 1315.73 Q88.9642 1320.31 88.9642 1329.06 Q88.9642 1337.79 85.8855 1342.4 Q82.83 1346.98 77.0198 1346.98 Q71.2097 1346.98 68.131 1342.4 Q65.0754 1337.79 65.0754 1329.06 Q65.0754 1320.31 68.131 1315.73 Q71.2097 1311.12 77.0198 1311.12 Z\" fill=\"#000000\" fill-rule=\"evenodd\" fill-opacity=\"1\" /><path clip-path=\"url(#clip010)\" d=\"M 0 0 M94.0336 1340.43 L98.9179 1340.43 L98.9179 1346.31 L94.0336 1346.31 L94.0336 1340.43 Z\" fill=\"#000000\" fill-rule=\"evenodd\" fill-opacity=\"1\" /><path clip-path=\"url(#clip010)\" d=\"M 0 0 M108.015 1342.37 L124.334 1342.37 L124.334 1346.31 L102.39 1346.31 L102.39 1342.37 Q105.052 1339.62 109.635 1334.99 Q114.242 1330.33 115.422 1328.99 Q117.668 1326.47 118.547 1324.73 Q119.45 1322.97 119.45 1321.28 Q119.45 1318.53 117.506 1316.79 Q115.584 1315.06 112.483 1315.06 Q110.284 1315.06 107.83 1315.82 Q105.399 1316.58 102.622 1318.14 L102.622 1313.41 Q105.446 1312.28 107.899 1311.7 Q110.353 1311.12 112.39 1311.12 Q117.76 1311.12 120.955 1313.81 Q124.149 1316.49 124.149 1320.98 Q124.149 1323.11 123.339 1325.03 Q122.552 1326.93 120.446 1329.52 Q119.867 1330.2 116.765 1333.41 Q113.663 1336.61 108.015 1342.37 Z\" fill=\"#000000\" fill-rule=\"evenodd\" fill-opacity=\"1\" /><path clip-path=\"url(#clip010)\" d=\"M 0 0 M74.9365 1175.5 Q71.3254 1175.5 69.4967 1179.06 Q67.6912 1182.6 67.6912 1189.73 Q67.6912 1196.84 69.4967 1200.4 Q71.3254 1203.94 74.9365 1203.94 Q78.5707 1203.94 80.3763 1200.4 Q82.205 1196.84 82.205 1189.73 Q82.205 1182.6 80.3763 1179.06 Q78.5707 1175.5 74.9365 1175.5 M74.9365 1171.79 Q80.7467 1171.79 83.8022 1176.4 Q86.8809 1180.98 86.8809 1189.73 Q86.8809 1198.46 83.8022 1203.06 Q80.7467 1207.65 74.9365 1207.65 Q69.1264 1207.65 66.0477 1203.06 Q62.9921 1198.46 62.9921 1189.73 Q62.9921 1180.98 66.0477 1176.4 Q69.1264 1171.79 74.9365 1171.79 Z\" fill=\"#000000\" fill-rule=\"evenodd\" fill-opacity=\"1\" /><path clip-path=\"url(#clip010)\" d=\"M 0 0 M91.9503 1201.1 L96.8345 1201.1 L96.8345 1206.98 L91.9503 1206.98 L91.9503 1201.1 Z\" fill=\"#000000\" fill-rule=\"evenodd\" fill-opacity=\"1\" /><path clip-path=\"url(#clip010)\" d=\"M 0 0 M114.751 1176.49 L102.946 1194.94 L114.751 1194.94 L114.751 1176.49 M113.524 1172.42 L119.404 1172.42 L119.404 1194.94 L124.334 1194.94 L124.334 1198.83 L119.404 1198.83 L119.404 1206.98 L114.751 1206.98 L114.751 1198.83 L99.1493 1198.83 L99.1493 1194.31 L113.524 1172.42 Z\" fill=\"#000000\" fill-rule=\"evenodd\" fill-opacity=\"1\" /><path clip-path=\"url(#clip010)\" d=\"M 0 0 M75.2606 1036.17 Q71.6495 1036.17 69.8208 1039.73 Q68.0152 1043.27 68.0152 1050.4 Q68.0152 1057.51 69.8208 1061.07 Q71.6495 1064.61 75.2606 1064.61 Q78.8948 1064.61 80.7004 1061.07 Q82.5291 1057.51 82.5291 1050.4 Q82.5291 1043.27 80.7004 1039.73 Q78.8948 1036.17 75.2606 1036.17 M75.2606 1032.46 Q81.0707 1032.46 84.1263 1037.07 Q87.205 1041.65 87.205 1050.4 Q87.205 1059.13 84.1263 1063.73 Q81.0707 1068.32 75.2606 1068.32 Q69.4504 1068.32 66.3717 1063.73 Q63.3162 1059.13 63.3162 1050.4 Q63.3162 1041.65 66.3717 1037.07 Q69.4504 1032.46 75.2606 1032.46 Z\" fill=\"#000000\" fill-rule=\"evenodd\" fill-opacity=\"1\" /><path clip-path=\"url(#clip010)\" d=\"M 0 0 M92.2744 1061.77 L97.1586 1061.77 L97.1586 1067.65 L92.2744 1067.65 L92.2744 1061.77 Z\" fill=\"#000000\" fill-rule=\"evenodd\" fill-opacity=\"1\" /><path clip-path=\"url(#clip010)\" d=\"M 0 0 M112.807 1048.5 Q109.659 1048.5 107.807 1050.66 Q105.978 1052.81 105.978 1056.56 Q105.978 1060.29 107.807 1062.46 Q109.659 1064.61 112.807 1064.61 Q115.955 1064.61 117.783 1062.46 Q119.635 1060.29 119.635 1056.56 Q119.635 1052.81 117.783 1050.66 Q115.955 1048.5 112.807 1048.5 M122.089 1033.85 L122.089 1038.11 Q120.33 1037.28 118.524 1036.84 Q116.742 1036.4 114.983 1036.4 Q110.353 1036.4 107.899 1039.52 Q105.469 1042.65 105.122 1048.97 Q106.487 1046.95 108.547 1045.89 Q110.608 1044.8 113.084 1044.8 Q118.293 1044.8 121.302 1047.97 Q124.334 1051.12 124.334 1056.56 Q124.334 1061.88 121.186 1065.1 Q118.038 1068.32 112.807 1068.32 Q106.811 1068.32 103.64 1063.73 Q100.469 1059.13 100.469 1050.4 Q100.469 1042.21 104.358 1037.35 Q108.247 1032.46 114.797 1032.46 Q116.557 1032.46 118.339 1032.81 Q120.145 1033.16 122.089 1033.85 Z\" fill=\"#000000\" fill-rule=\"evenodd\" fill-opacity=\"1\" /><path clip-path=\"url(#clip010)\" d=\"M 0 0 M75.5152 896.835 Q71.9041 896.835 70.0754 900.4 Q68.2699 903.942 68.2699 911.071 Q68.2699 918.178 70.0754 921.742 Q71.9041 925.284 75.5152 925.284 Q79.1494 925.284 80.955 921.742 Q82.7837 918.178 82.7837 911.071 Q82.7837 903.942 80.955 900.4 Q79.1494 896.835 75.5152 896.835 M75.5152 893.131 Q81.3254 893.131 84.3809 897.738 Q87.4596 902.321 87.4596 911.071 Q87.4596 919.798 84.3809 924.404 Q81.3254 928.988 75.5152 928.988 Q69.7051 928.988 66.6264 924.404 Q63.5708 919.798 63.5708 911.071 Q63.5708 902.321 66.6264 897.738 Q69.7051 893.131 75.5152 893.131 Z\" fill=\"#000000\" fill-rule=\"evenodd\" fill-opacity=\"1\" /><path clip-path=\"url(#clip010)\" d=\"M 0 0 M92.529 922.437 L97.4132 922.437 L97.4132 928.316 L92.529 928.316 L92.529 922.437 Z\" fill=\"#000000\" fill-rule=\"evenodd\" fill-opacity=\"1\" /><path clip-path=\"url(#clip010)\" d=\"M 0 0 M112.483 911.905 Q109.149 911.905 107.228 913.687 Q105.33 915.469 105.33 918.594 Q105.33 921.719 107.228 923.502 Q109.149 925.284 112.483 925.284 Q115.816 925.284 117.737 923.502 Q119.658 921.696 119.658 918.594 Q119.658 915.469 117.737 913.687 Q115.839 911.905 112.483 911.905 M107.807 909.914 Q104.797 909.173 103.108 907.113 Q101.441 905.053 101.441 902.09 Q101.441 897.946 104.381 895.539 Q107.344 893.131 112.483 893.131 Q117.645 893.131 120.584 895.539 Q123.524 897.946 123.524 902.09 Q123.524 905.053 121.834 907.113 Q120.168 909.173 117.182 909.914 Q120.561 910.701 122.436 912.992 Q124.334 915.284 124.334 918.594 Q124.334 923.617 121.256 926.303 Q118.2 928.988 112.483 928.988 Q106.765 928.988 103.686 926.303 Q100.631 923.617 100.631 918.594 Q100.631 915.284 102.529 912.992 Q104.427 910.701 107.807 909.914 M106.094 902.53 Q106.094 905.215 107.76 906.719 Q109.45 908.224 112.483 908.224 Q115.492 908.224 117.182 906.719 Q118.895 905.215 118.895 902.53 Q118.895 899.844 117.182 898.34 Q115.492 896.835 112.483 896.835 Q109.45 896.835 107.76 898.34 Q106.094 899.844 106.094 902.53 Z\" fill=\"#000000\" fill-rule=\"evenodd\" fill-opacity=\"1\" /><path clip-path=\"url(#clip014)\" d=\"\n",
       "M203.579 1351.79 L203.579 1468.36 L276.553 1468.36 L276.553 1351.79 L203.579 1351.79 L203.579 1351.79  Z\n",
       "  \" fill=\"#009af9\" fill-rule=\"evenodd\" fill-opacity=\"1\"/>\n",
       "<polyline clip-path=\"url(#clip014)\" style=\"stroke:#000000; stroke-width:4; stroke-opacity:1; fill:none\" points=\"\n",
       "  203.579,1351.79 203.579,1468.36 276.553,1468.36 276.553,1351.79 203.579,1351.79 \n",
       "  \"/>\n",
       "<path clip-path=\"url(#clip014)\" d=\"\n",
       "M294.797 1098.81 L294.797 1468.36 L367.771 1468.36 L367.771 1098.81 L294.797 1098.81 L294.797 1098.81  Z\n",
       "  \" fill=\"#009af9\" fill-rule=\"evenodd\" fill-opacity=\"1\"/>\n",
       "<polyline clip-path=\"url(#clip014)\" style=\"stroke:#000000; stroke-width:4; stroke-opacity:1; fill:none\" points=\"\n",
       "  294.797,1098.81 294.797,1468.36 367.771,1468.36 367.771,1098.81 294.797,1098.81 \n",
       "  \"/>\n",
       "<path clip-path=\"url(#clip014)\" d=\"\n",
       "M386.014 1029.06 L386.014 1468.36 L458.988 1468.36 L458.988 1029.06 L386.014 1029.06 L386.014 1029.06  Z\n",
       "  \" fill=\"#009af9\" fill-rule=\"evenodd\" fill-opacity=\"1\"/>\n",
       "<polyline clip-path=\"url(#clip014)\" style=\"stroke:#000000; stroke-width:4; stroke-opacity:1; fill:none\" points=\"\n",
       "  386.014,1029.06 386.014,1468.36 458.988,1468.36 458.988,1029.06 386.014,1029.06 \n",
       "  \"/>\n",
       "<path clip-path=\"url(#clip014)\" d=\"\n",
       "M477.232 1193.77 L477.232 1468.36 L550.206 1468.36 L550.206 1193.77 L477.232 1193.77 L477.232 1193.77  Z\n",
       "  \" fill=\"#009af9\" fill-rule=\"evenodd\" fill-opacity=\"1\"/>\n",
       "<polyline clip-path=\"url(#clip014)\" style=\"stroke:#000000; stroke-width:4; stroke-opacity:1; fill:none\" points=\"\n",
       "  477.232,1193.77 477.232,1468.36 550.206,1468.36 550.206,1193.77 477.232,1193.77 \n",
       "  \"/>\n",
       "<path clip-path=\"url(#clip014)\" d=\"\n",
       "M568.449 1386.06 L568.449 1468.36 L641.423 1468.36 L641.423 1386.06 L568.449 1386.06 L568.449 1386.06  Z\n",
       "  \" fill=\"#009af9\" fill-rule=\"evenodd\" fill-opacity=\"1\"/>\n",
       "<polyline clip-path=\"url(#clip014)\" style=\"stroke:#000000; stroke-width:4; stroke-opacity:1; fill:none\" points=\"\n",
       "  568.449,1386.06 568.449,1468.36 641.423,1468.36 641.423,1386.06 568.449,1386.06 \n",
       "  \"/>\n",
       "<path clip-path=\"url(#clip014)\" d=\"\n",
       "M659.667 867.221 L659.667 1468.36 L732.641 1468.36 L732.641 867.221 L659.667 867.221 L659.667 867.221  Z\n",
       "  \" fill=\"#009af9\" fill-rule=\"evenodd\" fill-opacity=\"1\"/>\n",
       "<polyline clip-path=\"url(#clip014)\" style=\"stroke:#000000; stroke-width:4; stroke-opacity:1; fill:none\" points=\"\n",
       "  659.667,867.221 659.667,1468.36 732.641,1468.36 732.641,867.221 659.667,867.221 \n",
       "  \"/>\n",
       "<path clip-path=\"url(#clip014)\" d=\"\n",
       "M750.884 1057.2 L750.884 1468.36 L823.858 1468.36 L823.858 1057.2 L750.884 1057.2 L750.884 1057.2  Z\n",
       "  \" fill=\"#009af9\" fill-rule=\"evenodd\" fill-opacity=\"1\"/>\n",
       "<polyline clip-path=\"url(#clip014)\" style=\"stroke:#000000; stroke-width:4; stroke-opacity:1; fill:none\" points=\"\n",
       "  750.884,1057.2 750.884,1468.36 823.858,1468.36 823.858,1057.2 750.884,1057.2 \n",
       "  \"/>\n",
       "<path clip-path=\"url(#clip014)\" d=\"\n",
       "M842.102 1199.3 L842.102 1468.36 L915.076 1468.36 L915.076 1199.3 L842.102 1199.3 L842.102 1199.3  Z\n",
       "  \" fill=\"#009af9\" fill-rule=\"evenodd\" fill-opacity=\"1\"/>\n",
       "<polyline clip-path=\"url(#clip014)\" style=\"stroke:#000000; stroke-width:4; stroke-opacity:1; fill:none\" points=\"\n",
       "  842.102,1199.3 842.102,1468.36 915.076,1468.36 915.076,1199.3 842.102,1199.3 \n",
       "  \"/>\n",
       "<path clip-path=\"url(#clip014)\" d=\"\n",
       "M933.319 865.335 L933.319 1468.36 L1006.29 1468.36 L1006.29 865.335 L933.319 865.335 L933.319 865.335  Z\n",
       "  \" fill=\"#009af9\" fill-rule=\"evenodd\" fill-opacity=\"1\"/>\n",
       "<polyline clip-path=\"url(#clip014)\" style=\"stroke:#000000; stroke-width:4; stroke-opacity:1; fill:none\" points=\"\n",
       "  933.319,865.335 933.319,1468.36 1006.29,1468.36 1006.29,865.335 933.319,865.335 \n",
       "  \"/>\n",
       "<path clip-path=\"url(#clip014)\" d=\"\n",
       "M1024.54 1204.22 L1024.54 1468.36 L1097.51 1468.36 L1097.51 1204.22 L1024.54 1204.22 L1024.54 1204.22  Z\n",
       "  \" fill=\"#009af9\" fill-rule=\"evenodd\" fill-opacity=\"1\"/>\n",
       "<polyline clip-path=\"url(#clip014)\" style=\"stroke:#000000; stroke-width:4; stroke-opacity:1; fill:none\" points=\"\n",
       "  1024.54,1204.22 1024.54,1468.36 1097.51,1468.36 1097.51,1204.22 1024.54,1204.22 \n",
       "  \"/>\n",
       "<path clip-path=\"url(#clip010)\" d=\"\n",
       "M1310.88 1486.45 L2352.76 1486.45 L2352.76 847.244 L1310.88 847.244  Z\n",
       "  \" fill=\"#ffffff\" fill-rule=\"evenodd\" fill-opacity=\"1\"/>\n",
       "<defs>\n",
       "  <clipPath id=\"clip015\">\n",
       "    <rect x=\"1310\" y=\"847\" width=\"1043\" height=\"640\"/>\n",
       "  </clipPath>\n",
       "</defs>\n",
       "<polyline clip-path=\"url(#clip015)\" style=\"stroke:#000000; stroke-width:2; stroke-opacity:0.1; fill:none\" points=\"\n",
       "  1368.19,1486.45 1368.19,847.244 \n",
       "  \"/>\n",
       "<polyline clip-path=\"url(#clip015)\" style=\"stroke:#000000; stroke-width:2; stroke-opacity:0.1; fill:none\" points=\"\n",
       "  1600,1486.45 1600,847.244 \n",
       "  \"/>\n",
       "<polyline clip-path=\"url(#clip015)\" style=\"stroke:#000000; stroke-width:2; stroke-opacity:0.1; fill:none\" points=\"\n",
       "  1831.82,1486.45 1831.82,847.244 \n",
       "  \"/>\n",
       "<polyline clip-path=\"url(#clip015)\" style=\"stroke:#000000; stroke-width:2; stroke-opacity:0.1; fill:none\" points=\"\n",
       "  2063.63,1486.45 2063.63,847.244 \n",
       "  \"/>\n",
       "<polyline clip-path=\"url(#clip015)\" style=\"stroke:#000000; stroke-width:2; stroke-opacity:0.1; fill:none\" points=\"\n",
       "  2295.45,1486.45 2295.45,847.244 \n",
       "  \"/>\n",
       "<polyline clip-path=\"url(#clip015)\" style=\"stroke:#000000; stroke-width:2; stroke-opacity:0.1; fill:none\" points=\"\n",
       "  1310.88,1468.36 2352.76,1468.36 \n",
       "  \"/>\n",
       "<polyline clip-path=\"url(#clip015)\" style=\"stroke:#000000; stroke-width:2; stroke-opacity:0.1; fill:none\" points=\"\n",
       "  1310.88,1267.35 2352.76,1267.35 \n",
       "  \"/>\n",
       "<polyline clip-path=\"url(#clip015)\" style=\"stroke:#000000; stroke-width:2; stroke-opacity:0.1; fill:none\" points=\"\n",
       "  1310.88,1066.34 2352.76,1066.34 \n",
       "  \"/>\n",
       "<polyline clip-path=\"url(#clip015)\" style=\"stroke:#000000; stroke-width:2; stroke-opacity:0.1; fill:none\" points=\"\n",
       "  1310.88,865.335 2352.76,865.335 \n",
       "  \"/>\n",
       "<polyline clip-path=\"url(#clip010)\" style=\"stroke:#000000; stroke-width:4; stroke-opacity:1; fill:none\" points=\"\n",
       "  1310.88,1486.45 2352.76,1486.45 \n",
       "  \"/>\n",
       "<polyline clip-path=\"url(#clip010)\" style=\"stroke:#000000; stroke-width:4; stroke-opacity:1; fill:none\" points=\"\n",
       "  1310.88,1486.45 1310.88,847.244 \n",
       "  \"/>\n",
       "<polyline clip-path=\"url(#clip010)\" style=\"stroke:#000000; stroke-width:4; stroke-opacity:1; fill:none\" points=\"\n",
       "  1368.19,1486.45 1368.19,1478.78 \n",
       "  \"/>\n",
       "<polyline clip-path=\"url(#clip010)\" style=\"stroke:#000000; stroke-width:4; stroke-opacity:1; fill:none\" points=\"\n",
       "  1600,1486.45 1600,1478.78 \n",
       "  \"/>\n",
       "<polyline clip-path=\"url(#clip010)\" style=\"stroke:#000000; stroke-width:4; stroke-opacity:1; fill:none\" points=\"\n",
       "  1831.82,1486.45 1831.82,1478.78 \n",
       "  \"/>\n",
       "<polyline clip-path=\"url(#clip010)\" style=\"stroke:#000000; stroke-width:4; stroke-opacity:1; fill:none\" points=\"\n",
       "  2063.63,1486.45 2063.63,1478.78 \n",
       "  \"/>\n",
       "<polyline clip-path=\"url(#clip010)\" style=\"stroke:#000000; stroke-width:4; stroke-opacity:1; fill:none\" points=\"\n",
       "  2295.45,1486.45 2295.45,1478.78 \n",
       "  \"/>\n",
       "<polyline clip-path=\"url(#clip010)\" style=\"stroke:#000000; stroke-width:4; stroke-opacity:1; fill:none\" points=\"\n",
       "  1310.88,1468.36 1323.38,1468.36 \n",
       "  \"/>\n",
       "<polyline clip-path=\"url(#clip010)\" style=\"stroke:#000000; stroke-width:4; stroke-opacity:1; fill:none\" points=\"\n",
       "  1310.88,1267.35 1323.38,1267.35 \n",
       "  \"/>\n",
       "<polyline clip-path=\"url(#clip010)\" style=\"stroke:#000000; stroke-width:4; stroke-opacity:1; fill:none\" points=\"\n",
       "  1310.88,1066.34 1323.38,1066.34 \n",
       "  \"/>\n",
       "<polyline clip-path=\"url(#clip010)\" style=\"stroke:#000000; stroke-width:4; stroke-opacity:1; fill:none\" points=\"\n",
       "  1310.88,865.335 1323.38,865.335 \n",
       "  \"/>\n",
       "<path clip-path=\"url(#clip010)\" d=\"M 0 0 M1336.2 1508.44 Q1332.58 1508.44 1330.76 1512 Q1328.95 1515.55 1328.95 1522.67 Q1328.95 1529.78 1330.76 1533.35 Q1332.58 1536.89 1336.2 1536.89 Q1339.83 1536.89 1341.64 1533.35 Q1343.46 1529.78 1343.46 1522.67 Q1343.46 1515.55 1341.64 1512 Q1339.83 1508.44 1336.2 1508.44 M1336.2 1504.73 Q1342.01 1504.73 1345.06 1509.34 Q1348.14 1513.92 1348.14 1522.67 Q1348.14 1531.4 1345.06 1536.01 Q1342.01 1540.59 1336.2 1540.59 Q1330.39 1540.59 1327.31 1536.01 Q1324.25 1531.4 1324.25 1522.67 Q1324.25 1513.92 1327.31 1509.34 Q1330.39 1504.73 1336.2 1504.73 Z\" fill=\"#000000\" fill-rule=\"evenodd\" fill-opacity=\"1\" /><path clip-path=\"url(#clip010)\" d=\"M 0 0 M1353.21 1534.04 L1358.09 1534.04 L1358.09 1539.92 L1353.21 1539.92 L1353.21 1534.04 Z\" fill=\"#000000\" fill-rule=\"evenodd\" fill-opacity=\"1\" /><path clip-path=\"url(#clip010)\" d=\"M 0 0 M1373.16 1508.44 Q1369.55 1508.44 1367.72 1512 Q1365.92 1515.55 1365.92 1522.67 Q1365.92 1529.78 1367.72 1533.35 Q1369.55 1536.89 1373.16 1536.89 Q1376.8 1536.89 1378.6 1533.35 Q1380.43 1529.78 1380.43 1522.67 Q1380.43 1515.55 1378.6 1512 Q1376.8 1508.44 1373.16 1508.44 M1373.16 1504.73 Q1378.97 1504.73 1382.03 1509.34 Q1385.11 1513.92 1385.11 1522.67 Q1385.11 1531.4 1382.03 1536.01 Q1378.97 1540.59 1373.16 1540.59 Q1367.35 1540.59 1364.27 1536.01 Q1361.22 1531.4 1361.22 1522.67 Q1361.22 1513.92 1364.27 1509.34 Q1367.35 1504.73 1373.16 1504.73 Z\" fill=\"#000000\" fill-rule=\"evenodd\" fill-opacity=\"1\" /><path clip-path=\"url(#clip010)\" d=\"M 0 0 M1400.18 1508.44 Q1396.57 1508.44 1394.74 1512 Q1392.93 1515.55 1392.93 1522.67 Q1392.93 1529.78 1394.74 1533.35 Q1396.57 1536.89 1400.18 1536.89 Q1403.81 1536.89 1405.62 1533.35 Q1407.44 1529.78 1407.44 1522.67 Q1407.44 1515.55 1405.62 1512 Q1403.81 1508.44 1400.18 1508.44 M1400.18 1504.73 Q1405.99 1504.73 1409.04 1509.34 Q1412.12 1513.92 1412.12 1522.67 Q1412.12 1531.4 1409.04 1536.01 Q1405.99 1540.59 1400.18 1540.59 Q1394.37 1540.59 1391.29 1536.01 Q1388.23 1531.4 1388.23 1522.67 Q1388.23 1513.92 1391.29 1509.34 Q1394.37 1504.73 1400.18 1504.73 Z\" fill=\"#000000\" fill-rule=\"evenodd\" fill-opacity=\"1\" /><path clip-path=\"url(#clip010)\" d=\"M 0 0 M1569.31 1508.44 Q1565.7 1508.44 1563.87 1512 Q1562.06 1515.55 1562.06 1522.67 Q1562.06 1529.78 1563.87 1533.35 Q1565.7 1536.89 1569.31 1536.89 Q1572.94 1536.89 1574.75 1533.35 Q1576.58 1529.78 1576.58 1522.67 Q1576.58 1515.55 1574.75 1512 Q1572.94 1508.44 1569.31 1508.44 M1569.31 1504.73 Q1575.12 1504.73 1578.17 1509.34 Q1581.25 1513.92 1581.25 1522.67 Q1581.25 1531.4 1578.17 1536.01 Q1575.12 1540.59 1569.31 1540.59 Q1563.5 1540.59 1560.42 1536.01 Q1557.36 1531.4 1557.36 1522.67 Q1557.36 1513.92 1560.42 1509.34 Q1563.5 1504.73 1569.31 1504.73 Z\" fill=\"#000000\" fill-rule=\"evenodd\" fill-opacity=\"1\" /><path clip-path=\"url(#clip010)\" d=\"M 0 0 M1586.32 1534.04 L1591.21 1534.04 L1591.21 1539.92 L1586.32 1539.92 L1586.32 1534.04 Z\" fill=\"#000000\" fill-rule=\"evenodd\" fill-opacity=\"1\" /><path clip-path=\"url(#clip010)\" d=\"M 0 0 M1600.3 1535.98 L1616.62 1535.98 L1616.62 1539.92 L1594.68 1539.92 L1594.68 1535.98 Q1597.34 1533.23 1601.92 1528.6 Q1606.53 1523.95 1607.71 1522.61 Q1609.96 1520.08 1610.84 1518.35 Q1611.74 1516.59 1611.74 1514.9 Q1611.74 1512.14 1609.79 1510.41 Q1607.87 1508.67 1604.77 1508.67 Q1602.57 1508.67 1600.12 1509.43 Q1597.69 1510.2 1594.91 1511.75 L1594.91 1507.03 Q1597.73 1505.89 1600.19 1505.31 Q1602.64 1504.73 1604.68 1504.73 Q1610.05 1504.73 1613.24 1507.42 Q1616.44 1510.11 1616.44 1514.6 Q1616.44 1516.73 1615.63 1518.65 Q1614.84 1520.54 1612.73 1523.14 Q1612.15 1523.81 1609.05 1527.03 Q1605.95 1530.22 1600.3 1535.98 Z\" fill=\"#000000\" fill-rule=\"evenodd\" fill-opacity=\"1\" /><path clip-path=\"url(#clip010)\" d=\"M 0 0 M1621.74 1505.36 L1640.09 1505.36 L1640.09 1509.3 L1626.02 1509.3 L1626.02 1517.77 Q1627.04 1517.42 1628.06 1517.26 Q1629.08 1517.07 1630.09 1517.07 Q1635.88 1517.07 1639.26 1520.24 Q1642.64 1523.42 1642.64 1528.83 Q1642.64 1534.41 1639.17 1537.51 Q1635.7 1540.59 1629.38 1540.59 Q1627.2 1540.59 1624.93 1540.22 Q1622.69 1539.85 1620.28 1539.11 L1620.28 1534.41 Q1622.36 1535.54 1624.59 1536.1 Q1626.81 1536.66 1629.28 1536.66 Q1633.29 1536.66 1635.63 1534.55 Q1637.96 1532.44 1637.96 1528.83 Q1637.96 1525.22 1635.63 1523.11 Q1633.29 1521.01 1629.28 1521.01 Q1627.41 1521.01 1625.53 1521.42 Q1623.68 1521.84 1621.74 1522.72 L1621.74 1505.36 Z\" fill=\"#000000\" fill-rule=\"evenodd\" fill-opacity=\"1\" /><path clip-path=\"url(#clip010)\" d=\"M 0 0 M1800.33 1508.44 Q1796.71 1508.44 1794.89 1512 Q1793.08 1515.55 1793.08 1522.67 Q1793.08 1529.78 1794.89 1533.35 Q1796.71 1536.89 1800.33 1536.89 Q1803.96 1536.89 1805.77 1533.35 Q1807.59 1529.78 1807.59 1522.67 Q1807.59 1515.55 1805.77 1512 Q1803.96 1508.44 1800.33 1508.44 M1800.33 1504.73 Q1806.14 1504.73 1809.19 1509.34 Q1812.27 1513.92 1812.27 1522.67 Q1812.27 1531.4 1809.19 1536.01 Q1806.14 1540.59 1800.33 1540.59 Q1794.52 1540.59 1791.44 1536.01 Q1788.38 1531.4 1788.38 1522.67 Q1788.38 1513.92 1791.44 1509.34 Q1794.52 1504.73 1800.33 1504.73 Z\" fill=\"#000000\" fill-rule=\"evenodd\" fill-opacity=\"1\" /><path clip-path=\"url(#clip010)\" d=\"M 0 0 M1817.34 1534.04 L1822.22 1534.04 L1822.22 1539.92 L1817.34 1539.92 L1817.34 1534.04 Z\" fill=\"#000000\" fill-rule=\"evenodd\" fill-opacity=\"1\" /><path clip-path=\"url(#clip010)\" d=\"M 0 0 M1827.34 1505.36 L1845.7 1505.36 L1845.7 1509.3 L1831.62 1509.3 L1831.62 1517.77 Q1832.64 1517.42 1833.66 1517.26 Q1834.68 1517.07 1835.7 1517.07 Q1841.48 1517.07 1844.86 1520.24 Q1848.24 1523.42 1848.24 1528.83 Q1848.24 1534.41 1844.77 1537.51 Q1841.3 1540.59 1834.98 1540.59 Q1832.8 1540.59 1830.53 1540.22 Q1828.29 1539.85 1825.88 1539.11 L1825.88 1534.41 Q1827.96 1535.54 1830.19 1536.1 Q1832.41 1536.66 1834.89 1536.66 Q1838.89 1536.66 1841.23 1534.55 Q1843.57 1532.44 1843.57 1528.83 Q1843.57 1525.22 1841.23 1523.11 Q1838.89 1521.01 1834.89 1521.01 Q1833.01 1521.01 1831.14 1521.42 Q1829.28 1521.84 1827.34 1522.72 L1827.34 1505.36 Z\" fill=\"#000000\" fill-rule=\"evenodd\" fill-opacity=\"1\" /><path clip-path=\"url(#clip010)\" d=\"M 0 0 M1863.31 1508.44 Q1859.7 1508.44 1857.87 1512 Q1856.07 1515.55 1856.07 1522.67 Q1856.07 1529.78 1857.87 1533.35 Q1859.7 1536.89 1863.31 1536.89 Q1866.95 1536.89 1868.75 1533.35 Q1870.58 1529.78 1870.58 1522.67 Q1870.58 1515.55 1868.75 1512 Q1866.95 1508.44 1863.31 1508.44 M1863.31 1504.73 Q1869.12 1504.73 1872.18 1509.34 Q1875.26 1513.92 1875.26 1522.67 Q1875.26 1531.4 1872.18 1536.01 Q1869.12 1540.59 1863.31 1540.59 Q1857.5 1540.59 1854.42 1536.01 Q1851.37 1531.4 1851.37 1522.67 Q1851.37 1513.92 1854.42 1509.34 Q1857.5 1504.73 1863.31 1504.73 Z\" fill=\"#000000\" fill-rule=\"evenodd\" fill-opacity=\"1\" /><path clip-path=\"url(#clip010)\" d=\"M 0 0 M2032.59 1508.44 Q2028.98 1508.44 2027.15 1512 Q2025.35 1515.55 2025.35 1522.67 Q2025.35 1529.78 2027.15 1533.35 Q2028.98 1536.89 2032.59 1536.89 Q2036.23 1536.89 2038.03 1533.35 Q2039.86 1529.78 2039.86 1522.67 Q2039.86 1515.55 2038.03 1512 Q2036.23 1508.44 2032.59 1508.44 M2032.59 1504.73 Q2038.4 1504.73 2041.46 1509.34 Q2044.54 1513.92 2044.54 1522.67 Q2044.54 1531.4 2041.46 1536.01 Q2038.4 1540.59 2032.59 1540.59 Q2026.78 1540.59 2023.7 1536.01 Q2020.65 1531.4 2020.65 1522.67 Q2020.65 1513.92 2023.7 1509.34 Q2026.78 1504.73 2032.59 1504.73 Z\" fill=\"#000000\" fill-rule=\"evenodd\" fill-opacity=\"1\" /><path clip-path=\"url(#clip010)\" d=\"M 0 0 M2049.61 1534.04 L2054.49 1534.04 L2054.49 1539.92 L2049.61 1539.92 L2049.61 1534.04 Z\" fill=\"#000000\" fill-rule=\"evenodd\" fill-opacity=\"1\" /><path clip-path=\"url(#clip010)\" d=\"M 0 0 M2058.38 1505.36 L2080.6 1505.36 L2080.6 1507.35 L2068.06 1539.92 L2063.17 1539.92 L2074.98 1509.3 L2058.38 1509.3 L2058.38 1505.36 Z\" fill=\"#000000\" fill-rule=\"evenodd\" fill-opacity=\"1\" /><path clip-path=\"url(#clip010)\" d=\"M 0 0 M2085.72 1505.36 L2104.07 1505.36 L2104.07 1509.3 L2090 1509.3 L2090 1517.77 Q2091.02 1517.42 2092.04 1517.26 Q2093.06 1517.07 2094.07 1517.07 Q2099.86 1517.07 2103.24 1520.24 Q2106.62 1523.42 2106.62 1528.83 Q2106.62 1534.41 2103.15 1537.51 Q2099.68 1540.59 2093.36 1540.59 Q2091.18 1540.59 2088.91 1540.22 Q2086.67 1539.85 2084.26 1539.11 L2084.26 1534.41 Q2086.34 1535.54 2088.57 1536.1 Q2090.79 1536.66 2093.26 1536.66 Q2097.27 1536.66 2099.61 1534.55 Q2101.94 1532.44 2101.94 1528.83 Q2101.94 1525.22 2099.61 1523.11 Q2097.27 1521.01 2093.26 1521.01 Q2091.39 1521.01 2089.51 1521.42 Q2087.66 1521.84 2085.72 1522.72 L2085.72 1505.36 Z\" fill=\"#000000\" fill-rule=\"evenodd\" fill-opacity=\"1\" /><path clip-path=\"url(#clip010)\" d=\"M 0 0 M2253.84 1535.98 L2261.48 1535.98 L2261.48 1509.62 L2253.17 1511.29 L2253.17 1507.03 L2261.43 1505.36 L2266.11 1505.36 L2266.11 1535.98 L2273.75 1535.98 L2273.75 1539.92 L2253.84 1539.92 L2253.84 1535.98 Z\" fill=\"#000000\" fill-rule=\"evenodd\" fill-opacity=\"1\" /><path clip-path=\"url(#clip010)\" d=\"M 0 0 M2278.82 1534.04 L2283.7 1534.04 L2283.7 1539.92 L2278.82 1539.92 L2278.82 1534.04 Z\" fill=\"#000000\" fill-rule=\"evenodd\" fill-opacity=\"1\" /><path clip-path=\"url(#clip010)\" d=\"M 0 0 M2298.77 1508.44 Q2295.16 1508.44 2293.33 1512 Q2291.53 1515.55 2291.53 1522.67 Q2291.53 1529.78 2293.33 1533.35 Q2295.16 1536.89 2298.77 1536.89 Q2302.41 1536.89 2304.21 1533.35 Q2306.04 1529.78 2306.04 1522.67 Q2306.04 1515.55 2304.21 1512 Q2302.41 1508.44 2298.77 1508.44 M2298.77 1504.73 Q2304.58 1504.73 2307.64 1509.34 Q2310.72 1513.92 2310.72 1522.67 Q2310.72 1531.4 2307.64 1536.01 Q2304.58 1540.59 2298.77 1540.59 Q2292.96 1540.59 2289.88 1536.01 Q2286.83 1531.4 2286.83 1522.67 Q2286.83 1513.92 2289.88 1509.34 Q2292.96 1504.73 2298.77 1504.73 Z\" fill=\"#000000\" fill-rule=\"evenodd\" fill-opacity=\"1\" /><path clip-path=\"url(#clip010)\" d=\"M 0 0 M2325.79 1508.44 Q2322.18 1508.44 2320.35 1512 Q2318.54 1515.55 2318.54 1522.67 Q2318.54 1529.78 2320.35 1533.35 Q2322.18 1536.89 2325.79 1536.89 Q2329.42 1536.89 2331.23 1533.35 Q2333.05 1529.78 2333.05 1522.67 Q2333.05 1515.55 2331.23 1512 Q2329.42 1508.44 2325.79 1508.44 M2325.79 1504.73 Q2331.6 1504.73 2334.65 1509.34 Q2337.73 1513.92 2337.73 1522.67 Q2337.73 1531.4 2334.65 1536.01 Q2331.6 1540.59 2325.79 1540.59 Q2319.98 1540.59 2316.9 1536.01 Q2313.84 1531.4 2313.84 1522.67 Q2313.84 1513.92 2316.9 1509.34 Q2319.98 1504.73 2325.79 1504.73 Z\" fill=\"#000000\" fill-rule=\"evenodd\" fill-opacity=\"1\" /><path clip-path=\"url(#clip010)\" d=\"M 0 0 M1274.94 1454.16 Q1271.33 1454.16 1269.5 1457.72 Q1267.69 1461.26 1267.69 1468.39 Q1267.69 1475.5 1269.5 1479.06 Q1271.33 1482.6 1274.94 1482.6 Q1278.57 1482.6 1280.38 1479.06 Q1282.2 1475.5 1282.2 1468.39 Q1282.2 1461.26 1280.38 1457.72 Q1278.57 1454.16 1274.94 1454.16 M1274.94 1450.45 Q1280.75 1450.45 1283.8 1455.06 Q1286.88 1459.64 1286.88 1468.39 Q1286.88 1477.12 1283.8 1481.73 Q1280.75 1486.31 1274.94 1486.31 Q1269.13 1486.31 1266.05 1481.73 Q1262.99 1477.12 1262.99 1468.39 Q1262.99 1459.64 1266.05 1455.06 Q1269.13 1450.45 1274.94 1450.45 Z\" fill=\"#000000\" fill-rule=\"evenodd\" fill-opacity=\"1\" /><path clip-path=\"url(#clip010)\" d=\"M 0 0 M1266.97 1280.69 L1274.61 1280.69 L1274.61 1254.33 L1266.3 1256 L1266.3 1251.74 L1274.57 1250.07 L1279.24 1250.07 L1279.24 1280.69 L1286.88 1280.69 L1286.88 1284.63 L1266.97 1284.63 L1266.97 1280.69 Z\" fill=\"#000000\" fill-rule=\"evenodd\" fill-opacity=\"1\" /><path clip-path=\"url(#clip010)\" d=\"M 0 0 M1270.56 1079.69 L1286.88 1079.69 L1286.88 1083.62 L1264.94 1083.62 L1264.94 1079.69 Q1267.6 1076.93 1272.18 1072.3 Q1276.79 1067.65 1277.97 1066.31 Q1280.21 1063.78 1281.09 1062.05 Q1282 1060.29 1282 1058.6 Q1282 1055.84 1280.05 1054.11 Q1278.13 1052.37 1275.03 1052.37 Q1272.83 1052.37 1270.38 1053.14 Q1267.95 1053.9 1265.17 1055.45 L1265.17 1050.73 Q1267.99 1049.59 1270.45 1049.02 Q1272.9 1048.44 1274.94 1048.44 Q1280.31 1048.44 1283.5 1051.12 Q1286.7 1053.81 1286.7 1058.3 Q1286.7 1060.43 1285.89 1062.35 Q1285.1 1064.25 1282.99 1066.84 Q1282.41 1067.51 1279.31 1070.73 Q1276.21 1073.92 1270.56 1079.69 Z\" fill=\"#000000\" fill-rule=\"evenodd\" fill-opacity=\"1\" /><path clip-path=\"url(#clip010)\" d=\"M 0 0 M1279.75 863.981 Q1283.11 864.698 1284.98 866.967 Q1286.88 869.235 1286.88 872.569 Q1286.88 877.684 1283.36 880.485 Q1279.84 883.286 1273.36 883.286 Q1271.19 883.286 1268.87 882.846 Q1266.58 882.43 1264.13 881.573 L1264.13 877.059 Q1266.07 878.193 1268.39 878.772 Q1270.7 879.351 1273.22 879.351 Q1277.62 879.351 1279.91 877.615 Q1282.23 875.879 1282.23 872.569 Q1282.23 869.513 1280.08 867.8 Q1277.95 866.064 1274.13 866.064 L1270.1 866.064 L1270.1 862.221 L1274.31 862.221 Q1277.76 862.221 1279.59 860.856 Q1281.42 859.467 1281.42 856.874 Q1281.42 854.212 1279.52 852.8 Q1277.64 851.365 1274.13 851.365 Q1272.21 851.365 1270.01 851.782 Q1267.81 852.198 1265.17 853.078 L1265.17 848.911 Q1267.83 848.171 1270.14 847.8 Q1272.48 847.43 1274.54 847.43 Q1279.87 847.43 1282.97 849.86 Q1286.07 852.268 1286.07 856.388 Q1286.07 859.258 1284.43 861.249 Q1282.78 863.217 1279.75 863.981 Z\" fill=\"#000000\" fill-rule=\"evenodd\" fill-opacity=\"1\" /><path clip-path=\"url(#clip015)\" d=\"\n",
       "M1368.19 1066.34 L1368.19 1468.36 L1553.64 1468.36 L1553.64 1066.34 L1368.19 1066.34 L1368.19 1066.34  Z\n",
       "  \" fill=\"#009af9\" fill-rule=\"evenodd\" fill-opacity=\"1\"/>\n",
       "<polyline clip-path=\"url(#clip015)\" style=\"stroke:#000000; stroke-width:4; stroke-opacity:1; fill:none\" points=\"\n",
       "  1368.19,1066.34 1368.19,1468.36 1553.64,1468.36 1553.64,1066.34 1368.19,1066.34 \n",
       "  \"/>\n",
       "<path clip-path=\"url(#clip015)\" d=\"\n",
       "M1553.64 865.335 L1553.64 1468.36 L1739.09 1468.36 L1739.09 865.335 L1553.64 865.335 L1553.64 865.335  Z\n",
       "  \" fill=\"#009af9\" fill-rule=\"evenodd\" fill-opacity=\"1\"/>\n",
       "<polyline clip-path=\"url(#clip015)\" style=\"stroke:#000000; stroke-width:4; stroke-opacity:1; fill:none\" points=\"\n",
       "  1553.64,865.335 1553.64,1468.36 1739.09,1468.36 1739.09,865.335 1553.64,865.335 \n",
       "  \"/>\n",
       "<path clip-path=\"url(#clip015)\" d=\"\n",
       "M1739.09 1066.34 L1739.09 1468.36 L1924.54 1468.36 L1924.54 1066.34 L1739.09 1066.34 L1739.09 1066.34  Z\n",
       "  \" fill=\"#009af9\" fill-rule=\"evenodd\" fill-opacity=\"1\"/>\n",
       "<polyline clip-path=\"url(#clip015)\" style=\"stroke:#000000; stroke-width:4; stroke-opacity:1; fill:none\" points=\"\n",
       "  1739.09,1066.34 1739.09,1468.36 1924.54,1468.36 1924.54,1066.34 1739.09,1066.34 \n",
       "  \"/>\n",
       "<path clip-path=\"url(#clip015)\" d=\"\n",
       "M1924.54 1267.35 L1924.54 1468.36 L2110 1468.36 L2110 1267.35 L1924.54 1267.35 L1924.54 1267.35  Z\n",
       "  \" fill=\"#009af9\" fill-rule=\"evenodd\" fill-opacity=\"1\"/>\n",
       "<polyline clip-path=\"url(#clip015)\" style=\"stroke:#000000; stroke-width:4; stroke-opacity:1; fill:none\" points=\"\n",
       "  1924.54,1267.35 1924.54,1468.36 2110,1468.36 2110,1267.35 1924.54,1267.35 \n",
       "  \"/>\n",
       "<path clip-path=\"url(#clip015)\" d=\"\n",
       "M2110 1066.34 L2110 1468.36 L2295.45 1468.36 L2295.45 1066.34 L2110 1066.34 L2110 1066.34  Z\n",
       "  \" fill=\"#009af9\" fill-rule=\"evenodd\" fill-opacity=\"1\"/>\n",
       "<polyline clip-path=\"url(#clip015)\" style=\"stroke:#000000; stroke-width:4; stroke-opacity:1; fill:none\" points=\"\n",
       "  2110,1066.34 2110,1468.36 2295.45,1468.36 2295.45,1066.34 2110,1066.34 \n",
       "  \"/>\n",
       "</svg>\n"
      ]
     },
     "execution_count": 217,
     "metadata": {},
     "output_type": "execute_result"
    }
   ],
   "source": [
    "# command for combined all plot in sigle frame\n",
    "p1 = plot(x,y)\n",
    "p2 = scatter(x,y)\n",
    "p3 = bar(x,y)\n",
    "p4 = histogram(x,y)\n",
    "plot(p1,p2,p3,p4,layout=(2,2),legend = false)"
   ]
  },
  {
   "cell_type": "code",
   "execution_count": 218,
   "metadata": {},
   "outputs": [
    {
     "data": {
      "image/svg+xml": [
       "<?xml version=\"1.0\" encoding=\"utf-8\"?>\n",
       "<svg xmlns=\"http://www.w3.org/2000/svg\" xmlns:xlink=\"http://www.w3.org/1999/xlink\" width=\"600\" height=\"400\" viewBox=\"0 0 2400 1600\">\n",
       "<defs>\n",
       "  <clipPath id=\"clip050\">\n",
       "    <rect x=\"0\" y=\"0\" width=\"2400\" height=\"1600\"/>\n",
       "  </clipPath>\n",
       "</defs>\n",
       "<path clip-path=\"url(#clip050)\" d=\"\n",
       "M0 1600 L2400 1600 L2400 0 L0 0  Z\n",
       "  \" fill=\"#ffffff\" fill-rule=\"evenodd\" fill-opacity=\"1\"/>\n",
       "<defs>\n",
       "  <clipPath id=\"clip051\">\n",
       "    <rect x=\"480\" y=\"0\" width=\"1681\" height=\"1600\"/>\n",
       "  </clipPath>\n",
       "</defs>\n",
       "<path clip-path=\"url(#clip050)\" d=\"\n",
       "M148.334 286.448 L2352.76 286.448 L2352.76 47.2441 L148.334 47.2441  Z\n",
       "  \" fill=\"#ffffff\" fill-rule=\"evenodd\" fill-opacity=\"1\"/>\n",
       "<defs>\n",
       "  <clipPath id=\"clip052\">\n",
       "    <rect x=\"148\" y=\"47\" width=\"2205\" height=\"240\"/>\n",
       "  </clipPath>\n",
       "</defs>\n",
       "<polyline clip-path=\"url(#clip052)\" style=\"stroke:#000000; stroke-width:2; stroke-opacity:0.1; fill:none\" points=\"\n",
       "  441.795,286.448 441.795,47.2441 \n",
       "  \"/>\n",
       "<polyline clip-path=\"url(#clip052)\" style=\"stroke:#000000; stroke-width:2; stroke-opacity:0.1; fill:none\" points=\"\n",
       "  903.938,286.448 903.938,47.2441 \n",
       "  \"/>\n",
       "<polyline clip-path=\"url(#clip052)\" style=\"stroke:#000000; stroke-width:2; stroke-opacity:0.1; fill:none\" points=\"\n",
       "  1366.08,286.448 1366.08,47.2441 \n",
       "  \"/>\n",
       "<polyline clip-path=\"url(#clip052)\" style=\"stroke:#000000; stroke-width:2; stroke-opacity:0.1; fill:none\" points=\"\n",
       "  1828.22,286.448 1828.22,47.2441 \n",
       "  \"/>\n",
       "<polyline clip-path=\"url(#clip052)\" style=\"stroke:#000000; stroke-width:2; stroke-opacity:0.1; fill:none\" points=\"\n",
       "  2290.37,286.448 2290.37,47.2441 \n",
       "  \"/>\n",
       "<polyline clip-path=\"url(#clip052)\" style=\"stroke:#000000; stroke-width:2; stroke-opacity:0.1; fill:none\" points=\"\n",
       "  148.334,249.219 2352.76,249.219 \n",
       "  \"/>\n",
       "<polyline clip-path=\"url(#clip052)\" style=\"stroke:#000000; stroke-width:2; stroke-opacity:0.1; fill:none\" points=\"\n",
       "  148.334,190.781 2352.76,190.781 \n",
       "  \"/>\n",
       "<polyline clip-path=\"url(#clip052)\" style=\"stroke:#000000; stroke-width:2; stroke-opacity:0.1; fill:none\" points=\"\n",
       "  148.334,132.343 2352.76,132.343 \n",
       "  \"/>\n",
       "<polyline clip-path=\"url(#clip052)\" style=\"stroke:#000000; stroke-width:2; stroke-opacity:0.1; fill:none\" points=\"\n",
       "  148.334,73.9052 2352.76,73.9052 \n",
       "  \"/>\n",
       "<polyline clip-path=\"url(#clip050)\" style=\"stroke:#000000; stroke-width:4; stroke-opacity:1; fill:none\" points=\"\n",
       "  148.334,286.448 2352.76,286.448 \n",
       "  \"/>\n",
       "<polyline clip-path=\"url(#clip050)\" style=\"stroke:#000000; stroke-width:4; stroke-opacity:1; fill:none\" points=\"\n",
       "  148.334,286.448 148.334,47.2441 \n",
       "  \"/>\n",
       "<polyline clip-path=\"url(#clip050)\" style=\"stroke:#000000; stroke-width:4; stroke-opacity:1; fill:none\" points=\"\n",
       "  441.795,286.448 441.795,283.577 \n",
       "  \"/>\n",
       "<polyline clip-path=\"url(#clip050)\" style=\"stroke:#000000; stroke-width:4; stroke-opacity:1; fill:none\" points=\"\n",
       "  903.938,286.448 903.938,283.577 \n",
       "  \"/>\n",
       "<polyline clip-path=\"url(#clip050)\" style=\"stroke:#000000; stroke-width:4; stroke-opacity:1; fill:none\" points=\"\n",
       "  1366.08,286.448 1366.08,283.577 \n",
       "  \"/>\n",
       "<polyline clip-path=\"url(#clip050)\" style=\"stroke:#000000; stroke-width:4; stroke-opacity:1; fill:none\" points=\"\n",
       "  1828.22,286.448 1828.22,283.577 \n",
       "  \"/>\n",
       "<polyline clip-path=\"url(#clip050)\" style=\"stroke:#000000; stroke-width:4; stroke-opacity:1; fill:none\" points=\"\n",
       "  2290.37,286.448 2290.37,283.577 \n",
       "  \"/>\n",
       "<polyline clip-path=\"url(#clip050)\" style=\"stroke:#000000; stroke-width:4; stroke-opacity:1; fill:none\" points=\"\n",
       "  148.334,249.219 174.787,249.219 \n",
       "  \"/>\n",
       "<polyline clip-path=\"url(#clip050)\" style=\"stroke:#000000; stroke-width:4; stroke-opacity:1; fill:none\" points=\"\n",
       "  148.334,190.781 174.787,190.781 \n",
       "  \"/>\n",
       "<polyline clip-path=\"url(#clip050)\" style=\"stroke:#000000; stroke-width:4; stroke-opacity:1; fill:none\" points=\"\n",
       "  148.334,132.343 174.787,132.343 \n",
       "  \"/>\n",
       "<polyline clip-path=\"url(#clip050)\" style=\"stroke:#000000; stroke-width:4; stroke-opacity:1; fill:none\" points=\"\n",
       "  148.334,73.9052 174.787,73.9052 \n",
       "  \"/>\n",
       "<path clip-path=\"url(#clip050)\" d=\"M 0 0 M436.448 335.985 L452.767 335.985 L452.767 339.92 L430.823 339.92 L430.823 335.985 Q433.485 333.23 438.068 328.6 Q442.675 323.948 443.855 322.605 Q446.101 320.082 446.98 318.346 Q447.883 316.587 447.883 314.897 Q447.883 312.142 445.939 310.406 Q444.017 308.67 440.915 308.67 Q438.716 308.67 436.263 309.434 Q433.832 310.198 431.054 311.749 L431.054 307.027 Q433.878 305.892 436.332 305.314 Q438.786 304.735 440.823 304.735 Q446.193 304.735 449.388 307.42 Q452.582 310.105 452.582 314.596 Q452.582 316.726 451.772 318.647 Q450.985 320.545 448.878 323.138 Q448.3 323.809 445.198 327.026 Q442.096 330.221 436.448 335.985 Z\" fill=\"#000000\" fill-rule=\"evenodd\" fill-opacity=\"1\" /><path clip-path=\"url(#clip050)\" d=\"M 0 0 M906.947 309.434 L895.142 327.883 L906.947 327.883 L906.947 309.434 M905.72 305.36 L911.6 305.36 L911.6 327.883 L916.531 327.883 L916.531 331.772 L911.6 331.772 L911.6 339.92 L906.947 339.92 L906.947 331.772 L891.345 331.772 L891.345 327.258 L905.72 305.36 Z\" fill=\"#000000\" fill-rule=\"evenodd\" fill-opacity=\"1\" /><path clip-path=\"url(#clip050)\" d=\"M 0 0 M1366.49 320.776 Q1363.34 320.776 1361.49 322.929 Q1359.66 325.082 1359.66 328.832 Q1359.66 332.559 1361.49 334.735 Q1363.34 336.887 1366.49 336.887 Q1369.63 336.887 1371.46 334.735 Q1373.31 332.559 1373.31 328.832 Q1373.31 325.082 1371.46 322.929 Q1369.63 320.776 1366.49 320.776 M1375.77 306.124 L1375.77 310.383 Q1374.01 309.55 1372.2 309.11 Q1370.42 308.67 1368.66 308.67 Q1364.03 308.67 1361.58 311.795 Q1359.15 314.92 1358.8 321.239 Q1360.17 319.226 1362.23 318.161 Q1364.29 317.073 1366.76 317.073 Q1371.97 317.073 1374.98 320.244 Q1378.01 323.392 1378.01 328.832 Q1378.01 334.156 1374.87 337.374 Q1371.72 340.591 1366.49 340.591 Q1360.49 340.591 1357.32 336.008 Q1354.15 331.401 1354.15 322.675 Q1354.15 314.48 1358.04 309.619 Q1361.93 304.735 1368.48 304.735 Q1370.24 304.735 1372.02 305.082 Q1373.82 305.429 1375.77 306.124 Z\" fill=\"#000000\" fill-rule=\"evenodd\" fill-opacity=\"1\" /><path clip-path=\"url(#clip050)\" d=\"M 0 0 M1828.22 323.508 Q1824.89 323.508 1822.97 325.29 Q1821.07 327.073 1821.07 330.198 Q1821.07 333.323 1822.97 335.105 Q1824.89 336.887 1828.22 336.887 Q1831.56 336.887 1833.48 335.105 Q1835.4 333.3 1835.4 330.198 Q1835.4 327.073 1833.48 325.29 Q1831.58 323.508 1828.22 323.508 M1823.55 321.517 Q1820.54 320.776 1818.85 318.716 Q1817.18 316.656 1817.18 313.693 Q1817.18 309.55 1820.12 307.142 Q1823.08 304.735 1828.22 304.735 Q1833.39 304.735 1836.33 307.142 Q1839.27 309.55 1839.27 313.693 Q1839.27 316.656 1837.58 318.716 Q1835.91 320.776 1832.92 321.517 Q1836.3 322.304 1838.18 324.596 Q1840.08 326.888 1840.08 330.198 Q1840.08 335.221 1837 337.906 Q1833.94 340.591 1828.22 340.591 Q1822.51 340.591 1819.43 337.906 Q1816.37 335.221 1816.37 330.198 Q1816.37 326.888 1818.27 324.596 Q1820.17 322.304 1823.55 321.517 M1821.83 314.133 Q1821.83 316.818 1823.5 318.323 Q1825.19 319.827 1828.22 319.827 Q1831.23 319.827 1832.92 318.323 Q1834.64 316.818 1834.64 314.133 Q1834.64 311.448 1832.92 309.943 Q1831.23 308.439 1828.22 308.439 Q1825.19 308.439 1823.5 309.943 Q1821.83 311.448 1821.83 314.133 Z\" fill=\"#000000\" fill-rule=\"evenodd\" fill-opacity=\"1\" /><path clip-path=\"url(#clip050)\" d=\"M 0 0 M2267.24 335.985 L2274.88 335.985 L2274.88 309.619 L2266.57 311.286 L2266.57 307.027 L2274.83 305.36 L2279.51 305.36 L2279.51 335.985 L2287.15 335.985 L2287.15 339.92 L2267.24 339.92 L2267.24 335.985 Z\" fill=\"#000000\" fill-rule=\"evenodd\" fill-opacity=\"1\" /><path clip-path=\"url(#clip050)\" d=\"M 0 0 M2302.22 308.439 Q2298.61 308.439 2296.78 312.003 Q2294.97 315.545 2294.97 322.675 Q2294.97 329.781 2296.78 333.346 Q2298.61 336.887 2302.22 336.887 Q2305.85 336.887 2307.66 333.346 Q2309.49 329.781 2309.49 322.675 Q2309.49 315.545 2307.66 312.003 Q2305.85 308.439 2302.22 308.439 M2302.22 304.735 Q2308.03 304.735 2311.08 309.341 Q2314.16 313.925 2314.16 322.675 Q2314.16 331.401 2311.08 336.008 Q2308.03 340.591 2302.22 340.591 Q2296.41 340.591 2293.33 336.008 Q2290.27 331.401 2290.27 322.675 Q2290.27 313.925 2293.33 309.341 Q2296.41 304.735 2302.22 304.735 Z\" fill=\"#000000\" fill-rule=\"evenodd\" fill-opacity=\"1\" /><path clip-path=\"url(#clip050)\" d=\"M 0 0 M77.0198 235.017 Q73.4087 235.017 71.58 238.582 Q69.7745 242.124 69.7745 249.253 Q69.7745 256.36 71.58 259.925 Q73.4087 263.466 77.0198 263.466 Q80.6541 263.466 82.4596 259.925 Q84.2883 256.36 84.2883 249.253 Q84.2883 242.124 82.4596 238.582 Q80.6541 235.017 77.0198 235.017 M77.0198 231.314 Q82.83 231.314 85.8855 235.92 Q88.9642 240.504 88.9642 249.253 Q88.9642 257.98 85.8855 262.587 Q82.83 267.17 77.0198 267.17 Q71.2097 267.17 68.131 262.587 Q65.0754 257.98 65.0754 249.253 Q65.0754 240.504 68.131 235.92 Q71.2097 231.314 77.0198 231.314 Z\" fill=\"#000000\" fill-rule=\"evenodd\" fill-opacity=\"1\" /><path clip-path=\"url(#clip050)\" d=\"M 0 0 M94.0336 260.619 L98.9179 260.619 L98.9179 266.499 L94.0336 266.499 L94.0336 260.619 Z\" fill=\"#000000\" fill-rule=\"evenodd\" fill-opacity=\"1\" /><path clip-path=\"url(#clip050)\" d=\"M 0 0 M108.015 262.564 L124.334 262.564 L124.334 266.499 L102.39 266.499 L102.39 262.564 Q105.052 259.809 109.635 255.179 Q114.242 250.527 115.422 249.184 Q117.668 246.661 118.547 244.925 Q119.45 243.166 119.45 241.476 Q119.45 238.721 117.506 236.985 Q115.584 235.249 112.483 235.249 Q110.284 235.249 107.83 236.013 Q105.399 236.777 102.622 238.328 L102.622 233.605 Q105.446 232.471 107.899 231.892 Q110.353 231.314 112.39 231.314 Q117.76 231.314 120.955 233.999 Q124.149 236.684 124.149 241.175 Q124.149 243.304 123.339 245.226 Q122.552 247.124 120.446 249.716 Q119.867 250.388 116.765 253.605 Q113.663 256.8 108.015 262.564 Z\" fill=\"#000000\" fill-rule=\"evenodd\" fill-opacity=\"1\" /><path clip-path=\"url(#clip050)\" d=\"M 0 0 M74.9365 176.58 Q71.3254 176.58 69.4967 180.144 Q67.6912 183.686 67.6912 190.816 Q67.6912 197.922 69.4967 201.487 Q71.3254 205.029 74.9365 205.029 Q78.5707 205.029 80.3763 201.487 Q82.205 197.922 82.205 190.816 Q82.205 183.686 80.3763 180.144 Q78.5707 176.58 74.9365 176.58 M74.9365 172.876 Q80.7467 172.876 83.8022 177.482 Q86.8809 182.066 86.8809 190.816 Q86.8809 199.542 83.8022 204.149 Q80.7467 208.732 74.9365 208.732 Q69.1264 208.732 66.0477 204.149 Q62.9921 199.542 62.9921 190.816 Q62.9921 182.066 66.0477 177.482 Q69.1264 172.876 74.9365 172.876 Z\" fill=\"#000000\" fill-rule=\"evenodd\" fill-opacity=\"1\" /><path clip-path=\"url(#clip050)\" d=\"M 0 0 M91.9503 202.181 L96.8345 202.181 L96.8345 208.061 L91.9503 208.061 L91.9503 202.181 Z\" fill=\"#000000\" fill-rule=\"evenodd\" fill-opacity=\"1\" /><path clip-path=\"url(#clip050)\" d=\"M 0 0 M114.751 177.575 L102.946 196.024 L114.751 196.024 L114.751 177.575 M113.524 173.501 L119.404 173.501 L119.404 196.024 L124.334 196.024 L124.334 199.913 L119.404 199.913 L119.404 208.061 L114.751 208.061 L114.751 199.913 L99.1493 199.913 L99.1493 195.399 L113.524 173.501 Z\" fill=\"#000000\" fill-rule=\"evenodd\" fill-opacity=\"1\" /><path clip-path=\"url(#clip050)\" d=\"M 0 0 M75.2606 118.142 Q71.6495 118.142 69.8208 121.707 Q68.0152 125.248 68.0152 132.378 Q68.0152 139.484 69.8208 143.049 Q71.6495 146.591 75.2606 146.591 Q78.8948 146.591 80.7004 143.049 Q82.5291 139.484 82.5291 132.378 Q82.5291 125.248 80.7004 121.707 Q78.8948 118.142 75.2606 118.142 M75.2606 114.438 Q81.0707 114.438 84.1263 119.045 Q87.205 123.628 87.205 132.378 Q87.205 141.105 84.1263 145.711 Q81.0707 150.294 75.2606 150.294 Q69.4504 150.294 66.3717 145.711 Q63.3162 141.105 63.3162 132.378 Q63.3162 123.628 66.3717 119.045 Q69.4504 114.438 75.2606 114.438 Z\" fill=\"#000000\" fill-rule=\"evenodd\" fill-opacity=\"1\" /><path clip-path=\"url(#clip050)\" d=\"M 0 0 M92.2744 143.743 L97.1586 143.743 L97.1586 149.623 L92.2744 149.623 L92.2744 143.743 Z\" fill=\"#000000\" fill-rule=\"evenodd\" fill-opacity=\"1\" /><path clip-path=\"url(#clip050)\" d=\"M 0 0 M112.807 130.48 Q109.659 130.48 107.807 132.632 Q105.978 134.785 105.978 138.535 Q105.978 142.262 107.807 144.438 Q109.659 146.591 112.807 146.591 Q115.955 146.591 117.783 144.438 Q119.635 142.262 119.635 138.535 Q119.635 134.785 117.783 132.632 Q115.955 130.48 112.807 130.48 M122.089 115.827 L122.089 120.086 Q120.33 119.253 118.524 118.813 Q116.742 118.373 114.983 118.373 Q110.353 118.373 107.899 121.498 Q105.469 124.623 105.122 130.943 Q106.487 128.929 108.547 127.864 Q110.608 126.776 113.084 126.776 Q118.293 126.776 121.302 129.947 Q124.334 133.095 124.334 138.535 Q124.334 143.859 121.186 147.077 Q118.038 150.294 112.807 150.294 Q106.811 150.294 103.64 145.711 Q100.469 141.105 100.469 132.378 Q100.469 124.183 104.358 119.322 Q108.247 114.438 114.797 114.438 Q116.557 114.438 118.339 114.785 Q120.145 115.133 122.089 115.827 Z\" fill=\"#000000\" fill-rule=\"evenodd\" fill-opacity=\"1\" /><path clip-path=\"url(#clip050)\" d=\"M 0 0 M75.5152 59.7039 Q71.9041 59.7039 70.0754 63.2687 Q68.2699 66.8103 68.2699 73.9399 Q68.2699 81.0464 70.0754 84.6112 Q71.9041 88.1528 75.5152 88.1528 Q79.1494 88.1528 80.955 84.6112 Q82.7837 81.0464 82.7837 73.9399 Q82.7837 66.8103 80.955 63.2687 Q79.1494 59.7039 75.5152 59.7039 M75.5152 56.0002 Q81.3254 56.0002 84.3809 60.6067 Q87.4596 65.19 87.4596 73.9399 Q87.4596 82.6667 84.3809 87.2732 Q81.3254 91.8565 75.5152 91.8565 Q69.7051 91.8565 66.6264 87.2732 Q63.5708 82.6667 63.5708 73.9399 Q63.5708 65.19 66.6264 60.6067 Q69.7051 56.0002 75.5152 56.0002 Z\" fill=\"#000000\" fill-rule=\"evenodd\" fill-opacity=\"1\" /><path clip-path=\"url(#clip050)\" d=\"M 0 0 M92.529 85.3056 L97.4132 85.3056 L97.4132 91.1852 L92.529 91.1852 L92.529 85.3056 Z\" fill=\"#000000\" fill-rule=\"evenodd\" fill-opacity=\"1\" /><path clip-path=\"url(#clip050)\" d=\"M 0 0 M112.483 74.7733 Q109.149 74.7733 107.228 76.5557 Q105.33 78.3381 105.33 81.463 Q105.33 84.588 107.228 86.3704 Q109.149 88.1528 112.483 88.1528 Q115.816 88.1528 117.737 86.3704 Q119.658 84.5649 119.658 81.463 Q119.658 78.3381 117.737 76.5557 Q115.839 74.7733 112.483 74.7733 M107.807 72.7825 Q104.797 72.0418 103.108 69.9816 Q101.441 67.9214 101.441 64.9585 Q101.441 60.815 104.381 58.4076 Q107.344 56.0002 112.483 56.0002 Q117.645 56.0002 120.584 58.4076 Q123.524 60.815 123.524 64.9585 Q123.524 67.9214 121.834 69.9816 Q120.168 72.0418 117.182 72.7825 Q120.561 73.5696 122.436 75.8612 Q124.334 78.1529 124.334 81.463 Q124.334 86.4862 121.256 89.1713 Q118.2 91.8565 112.483 91.8565 Q106.765 91.8565 103.686 89.1713 Q100.631 86.4862 100.631 81.463 Q100.631 78.1529 102.529 75.8612 Q104.427 73.5696 107.807 72.7825 M106.094 65.3983 Q106.094 68.0835 107.76 69.5881 Q109.45 71.0927 112.483 71.0927 Q115.492 71.0927 117.182 69.5881 Q118.895 68.0835 118.895 65.3983 Q118.895 62.7131 117.182 61.2085 Q115.492 59.7039 112.483 59.7039 Q109.45 59.7039 107.76 61.2085 Q106.094 62.7131 106.094 65.3983 Z\" fill=\"#000000\" fill-rule=\"evenodd\" fill-opacity=\"1\" /><polyline clip-path=\"url(#clip052)\" style=\"stroke:#009af9; stroke-width:4; stroke-opacity:1; fill:none\" points=\"\n",
       "  210.724,109.329 441.795,138.758 672.867,56.1958 903.938,218.353 1135.01,209.253 1366.08,54.014 1597.15,266.986 1828.22,130.345 2059.3,188.423 2290.37,279.678 \n",
       "  \n",
       "  \"/>\n",
       "<path clip-path=\"url(#clip050)\" d=\"\n",
       "M1989.74 251.724 L2280.76 251.724 L2280.76 130.764 L1989.74 130.764  Z\n",
       "  \" fill=\"#ffffff\" fill-rule=\"evenodd\" fill-opacity=\"1\"/>\n",
       "<polyline clip-path=\"url(#clip050)\" style=\"stroke:#000000; stroke-width:4; stroke-opacity:1; fill:none\" points=\"\n",
       "  1989.74,251.724 2280.76,251.724 2280.76,130.764 1989.74,130.764 1989.74,251.724 \n",
       "  \"/>\n",
       "<polyline clip-path=\"url(#clip050)\" style=\"stroke:#009af9; stroke-width:4; stroke-opacity:1; fill:none\" points=\"\n",
       "  2013.74,191.244 2157.74,191.244 \n",
       "  \"/>\n",
       "<path clip-path=\"url(#clip050)\" d=\"M 0 0 M2195.58 210.931 Q2193.77 215.561 2192.06 216.973 Q2190.35 218.385 2187.48 218.385 L2184.08 218.385 L2184.08 214.82 L2186.58 214.82 Q2188.33 214.82 2189.31 213.987 Q2190.28 213.154 2191.46 210.052 L2192.22 208.107 L2181.74 182.598 L2186.25 182.598 L2194.35 202.876 L2202.46 182.598 L2206.97 182.598 L2195.58 210.931 Z\" fill=\"#000000\" fill-rule=\"evenodd\" fill-opacity=\"1\" /><path clip-path=\"url(#clip050)\" d=\"M 0 0 M2212.85 204.589 L2220.49 204.589 L2220.49 178.223 L2212.18 179.89 L2212.18 175.631 L2220.44 173.964 L2225.12 173.964 L2225.12 204.589 L2232.76 204.589 L2232.76 208.524 L2212.85 208.524 L2212.85 204.589 Z\" fill=\"#000000\" fill-rule=\"evenodd\" fill-opacity=\"1\" /><path clip-path=\"url(#clip050)\" d=\"\n",
       "M148.334 686.448 L2352.76 686.448 L2352.76 447.244 L148.334 447.244  Z\n",
       "  \" fill=\"#ffffff\" fill-rule=\"evenodd\" fill-opacity=\"1\"/>\n",
       "<defs>\n",
       "  <clipPath id=\"clip053\">\n",
       "    <rect x=\"148\" y=\"447\" width=\"2205\" height=\"240\"/>\n",
       "  </clipPath>\n",
       "</defs>\n",
       "<polyline clip-path=\"url(#clip053)\" style=\"stroke:#000000; stroke-width:2; stroke-opacity:0.1; fill:none\" points=\"\n",
       "  441.795,686.448 441.795,447.244 \n",
       "  \"/>\n",
       "<polyline clip-path=\"url(#clip053)\" style=\"stroke:#000000; stroke-width:2; stroke-opacity:0.1; fill:none\" points=\"\n",
       "  903.938,686.448 903.938,447.244 \n",
       "  \"/>\n",
       "<polyline clip-path=\"url(#clip053)\" style=\"stroke:#000000; stroke-width:2; stroke-opacity:0.1; fill:none\" points=\"\n",
       "  1366.08,686.448 1366.08,447.244 \n",
       "  \"/>\n",
       "<polyline clip-path=\"url(#clip053)\" style=\"stroke:#000000; stroke-width:2; stroke-opacity:0.1; fill:none\" points=\"\n",
       "  1828.22,686.448 1828.22,447.244 \n",
       "  \"/>\n",
       "<polyline clip-path=\"url(#clip053)\" style=\"stroke:#000000; stroke-width:2; stroke-opacity:0.1; fill:none\" points=\"\n",
       "  2290.37,686.448 2290.37,447.244 \n",
       "  \"/>\n",
       "<polyline clip-path=\"url(#clip053)\" style=\"stroke:#000000; stroke-width:2; stroke-opacity:0.1; fill:none\" points=\"\n",
       "  148.334,628.686 2352.76,628.686 \n",
       "  \"/>\n",
       "<polyline clip-path=\"url(#clip053)\" style=\"stroke:#000000; stroke-width:2; stroke-opacity:0.1; fill:none\" points=\"\n",
       "  148.334,569.39 2352.76,569.39 \n",
       "  \"/>\n",
       "<polyline clip-path=\"url(#clip053)\" style=\"stroke:#000000; stroke-width:2; stroke-opacity:0.1; fill:none\" points=\"\n",
       "  148.334,510.093 2352.76,510.093 \n",
       "  \"/>\n",
       "<polyline clip-path=\"url(#clip053)\" style=\"stroke:#000000; stroke-width:2; stroke-opacity:0.1; fill:none\" points=\"\n",
       "  148.334,450.797 2352.76,450.797 \n",
       "  \"/>\n",
       "<polyline clip-path=\"url(#clip050)\" style=\"stroke:#000000; stroke-width:4; stroke-opacity:1; fill:none\" points=\"\n",
       "  148.334,686.448 2352.76,686.448 \n",
       "  \"/>\n",
       "<polyline clip-path=\"url(#clip050)\" style=\"stroke:#000000; stroke-width:4; stroke-opacity:1; fill:none\" points=\"\n",
       "  148.334,686.448 148.334,447.244 \n",
       "  \"/>\n",
       "<polyline clip-path=\"url(#clip050)\" style=\"stroke:#000000; stroke-width:4; stroke-opacity:1; fill:none\" points=\"\n",
       "  441.795,686.448 441.795,683.577 \n",
       "  \"/>\n",
       "<polyline clip-path=\"url(#clip050)\" style=\"stroke:#000000; stroke-width:4; stroke-opacity:1; fill:none\" points=\"\n",
       "  903.938,686.448 903.938,683.577 \n",
       "  \"/>\n",
       "<polyline clip-path=\"url(#clip050)\" style=\"stroke:#000000; stroke-width:4; stroke-opacity:1; fill:none\" points=\"\n",
       "  1366.08,686.448 1366.08,683.577 \n",
       "  \"/>\n",
       "<polyline clip-path=\"url(#clip050)\" style=\"stroke:#000000; stroke-width:4; stroke-opacity:1; fill:none\" points=\"\n",
       "  1828.22,686.448 1828.22,683.577 \n",
       "  \"/>\n",
       "<polyline clip-path=\"url(#clip050)\" style=\"stroke:#000000; stroke-width:4; stroke-opacity:1; fill:none\" points=\"\n",
       "  2290.37,686.448 2290.37,683.577 \n",
       "  \"/>\n",
       "<polyline clip-path=\"url(#clip050)\" style=\"stroke:#000000; stroke-width:4; stroke-opacity:1; fill:none\" points=\"\n",
       "  148.334,628.686 174.787,628.686 \n",
       "  \"/>\n",
       "<polyline clip-path=\"url(#clip050)\" style=\"stroke:#000000; stroke-width:4; stroke-opacity:1; fill:none\" points=\"\n",
       "  148.334,569.39 174.787,569.39 \n",
       "  \"/>\n",
       "<polyline clip-path=\"url(#clip050)\" style=\"stroke:#000000; stroke-width:4; stroke-opacity:1; fill:none\" points=\"\n",
       "  148.334,510.093 174.787,510.093 \n",
       "  \"/>\n",
       "<polyline clip-path=\"url(#clip050)\" style=\"stroke:#000000; stroke-width:4; stroke-opacity:1; fill:none\" points=\"\n",
       "  148.334,450.797 174.787,450.797 \n",
       "  \"/>\n",
       "<path clip-path=\"url(#clip050)\" d=\"M 0 0 M436.448 735.985 L452.767 735.985 L452.767 739.92 L430.823 739.92 L430.823 735.985 Q433.485 733.23 438.068 728.6 Q442.675 723.948 443.855 722.605 Q446.101 720.082 446.98 718.346 Q447.883 716.587 447.883 714.897 Q447.883 712.142 445.939 710.406 Q444.017 708.67 440.915 708.67 Q438.716 708.67 436.263 709.434 Q433.832 710.198 431.054 711.749 L431.054 707.027 Q433.878 705.892 436.332 705.314 Q438.786 704.735 440.823 704.735 Q446.193 704.735 449.388 707.42 Q452.582 710.105 452.582 714.596 Q452.582 716.726 451.772 718.647 Q450.985 720.545 448.878 723.138 Q448.3 723.809 445.198 727.026 Q442.096 730.221 436.448 735.985 Z\" fill=\"#000000\" fill-rule=\"evenodd\" fill-opacity=\"1\" /><path clip-path=\"url(#clip050)\" d=\"M 0 0 M906.947 709.434 L895.142 727.883 L906.947 727.883 L906.947 709.434 M905.72 705.36 L911.6 705.36 L911.6 727.883 L916.531 727.883 L916.531 731.772 L911.6 731.772 L911.6 739.92 L906.947 739.92 L906.947 731.772 L891.345 731.772 L891.345 727.258 L905.72 705.36 Z\" fill=\"#000000\" fill-rule=\"evenodd\" fill-opacity=\"1\" /><path clip-path=\"url(#clip050)\" d=\"M 0 0 M1366.49 720.776 Q1363.34 720.776 1361.49 722.929 Q1359.66 725.082 1359.66 728.832 Q1359.66 732.559 1361.49 734.735 Q1363.34 736.887 1366.49 736.887 Q1369.63 736.887 1371.46 734.735 Q1373.31 732.559 1373.31 728.832 Q1373.31 725.082 1371.46 722.929 Q1369.63 720.776 1366.49 720.776 M1375.77 706.124 L1375.77 710.383 Q1374.01 709.55 1372.2 709.11 Q1370.42 708.67 1368.66 708.67 Q1364.03 708.67 1361.58 711.795 Q1359.15 714.92 1358.8 721.239 Q1360.17 719.226 1362.23 718.161 Q1364.29 717.073 1366.76 717.073 Q1371.97 717.073 1374.98 720.244 Q1378.01 723.392 1378.01 728.832 Q1378.01 734.156 1374.87 737.374 Q1371.72 740.591 1366.49 740.591 Q1360.49 740.591 1357.32 736.008 Q1354.15 731.401 1354.15 722.675 Q1354.15 714.48 1358.04 709.619 Q1361.93 704.735 1368.48 704.735 Q1370.24 704.735 1372.02 705.082 Q1373.82 705.429 1375.77 706.124 Z\" fill=\"#000000\" fill-rule=\"evenodd\" fill-opacity=\"1\" /><path clip-path=\"url(#clip050)\" d=\"M 0 0 M1828.22 723.508 Q1824.89 723.508 1822.97 725.29 Q1821.07 727.073 1821.07 730.198 Q1821.07 733.323 1822.97 735.105 Q1824.89 736.887 1828.22 736.887 Q1831.56 736.887 1833.48 735.105 Q1835.4 733.3 1835.4 730.198 Q1835.4 727.073 1833.48 725.29 Q1831.58 723.508 1828.22 723.508 M1823.55 721.517 Q1820.54 720.776 1818.85 718.716 Q1817.18 716.656 1817.18 713.693 Q1817.18 709.55 1820.12 707.142 Q1823.08 704.735 1828.22 704.735 Q1833.39 704.735 1836.33 707.142 Q1839.27 709.55 1839.27 713.693 Q1839.27 716.656 1837.58 718.716 Q1835.91 720.776 1832.92 721.517 Q1836.3 722.304 1838.18 724.596 Q1840.08 726.888 1840.08 730.198 Q1840.08 735.221 1837 737.906 Q1833.94 740.591 1828.22 740.591 Q1822.51 740.591 1819.43 737.906 Q1816.37 735.221 1816.37 730.198 Q1816.37 726.888 1818.27 724.596 Q1820.17 722.304 1823.55 721.517 M1821.83 714.133 Q1821.83 716.818 1823.5 718.323 Q1825.19 719.827 1828.22 719.827 Q1831.23 719.827 1832.92 718.323 Q1834.64 716.818 1834.64 714.133 Q1834.64 711.448 1832.92 709.943 Q1831.23 708.439 1828.22 708.439 Q1825.19 708.439 1823.5 709.943 Q1821.83 711.448 1821.83 714.133 Z\" fill=\"#000000\" fill-rule=\"evenodd\" fill-opacity=\"1\" /><path clip-path=\"url(#clip050)\" d=\"M 0 0 M2267.24 735.985 L2274.88 735.985 L2274.88 709.619 L2266.57 711.286 L2266.57 707.027 L2274.83 705.36 L2279.51 705.36 L2279.51 735.985 L2287.15 735.985 L2287.15 739.92 L2267.24 739.92 L2267.24 735.985 Z\" fill=\"#000000\" fill-rule=\"evenodd\" fill-opacity=\"1\" /><path clip-path=\"url(#clip050)\" d=\"M 0 0 M2302.22 708.439 Q2298.61 708.439 2296.78 712.003 Q2294.97 715.545 2294.97 722.675 Q2294.97 729.781 2296.78 733.346 Q2298.61 736.887 2302.22 736.887 Q2305.85 736.887 2307.66 733.346 Q2309.49 729.781 2309.49 722.675 Q2309.49 715.545 2307.66 712.003 Q2305.85 708.439 2302.22 708.439 M2302.22 704.735 Q2308.03 704.735 2311.08 709.341 Q2314.16 713.925 2314.16 722.675 Q2314.16 731.401 2311.08 736.008 Q2308.03 740.591 2302.22 740.591 Q2296.41 740.591 2293.33 736.008 Q2290.27 731.401 2290.27 722.675 Q2290.27 713.925 2293.33 709.341 Q2296.41 704.735 2302.22 704.735 Z\" fill=\"#000000\" fill-rule=\"evenodd\" fill-opacity=\"1\" /><path clip-path=\"url(#clip050)\" d=\"M 0 0 M74.9365 614.484 Q71.3254 614.484 69.4967 618.049 Q67.6912 621.591 67.6912 628.72 Q67.6912 635.827 69.4967 639.392 Q71.3254 642.933 74.9365 642.933 Q78.5707 642.933 80.3763 639.392 Q82.205 635.827 82.205 628.72 Q82.205 621.591 80.3763 618.049 Q78.5707 614.484 74.9365 614.484 M74.9365 610.781 Q80.7467 610.781 83.8022 615.387 Q86.8809 619.971 86.8809 628.72 Q86.8809 637.447 83.8022 642.054 Q80.7467 646.637 74.9365 646.637 Q69.1264 646.637 66.0477 642.054 Q62.9921 637.447 62.9921 628.72 Q62.9921 619.971 66.0477 615.387 Q69.1264 610.781 74.9365 610.781 Z\" fill=\"#000000\" fill-rule=\"evenodd\" fill-opacity=\"1\" /><path clip-path=\"url(#clip050)\" d=\"M 0 0 M91.9503 640.086 L96.8345 640.086 L96.8345 645.966 L91.9503 645.966 L91.9503 640.086 Z\" fill=\"#000000\" fill-rule=\"evenodd\" fill-opacity=\"1\" /><path clip-path=\"url(#clip050)\" d=\"M 0 0 M114.751 615.48 L102.946 633.929 L114.751 633.929 L114.751 615.48 M113.524 611.406 L119.404 611.406 L119.404 633.929 L124.334 633.929 L124.334 637.818 L119.404 637.818 L119.404 645.966 L114.751 645.966 L114.751 637.818 L99.1493 637.818 L99.1493 633.304 L113.524 611.406 Z\" fill=\"#000000\" fill-rule=\"evenodd\" fill-opacity=\"1\" /><path clip-path=\"url(#clip050)\" d=\"M 0 0 M75.2606 555.188 Q71.6495 555.188 69.8208 558.753 Q68.0152 562.295 68.0152 569.424 Q68.0152 576.531 69.8208 580.095 Q71.6495 583.637 75.2606 583.637 Q78.8948 583.637 80.7004 580.095 Q82.5291 576.531 82.5291 569.424 Q82.5291 562.295 80.7004 558.753 Q78.8948 555.188 75.2606 555.188 M75.2606 551.485 Q81.0707 551.485 84.1263 556.091 Q87.205 560.674 87.205 569.424 Q87.205 578.151 84.1263 582.758 Q81.0707 587.341 75.2606 587.341 Q69.4504 587.341 66.3717 582.758 Q63.3162 578.151 63.3162 569.424 Q63.3162 560.674 66.3717 556.091 Q69.4504 551.485 75.2606 551.485 Z\" fill=\"#000000\" fill-rule=\"evenodd\" fill-opacity=\"1\" /><path clip-path=\"url(#clip050)\" d=\"M 0 0 M92.2744 580.79 L97.1586 580.79 L97.1586 586.67 L92.2744 586.67 L92.2744 580.79 Z\" fill=\"#000000\" fill-rule=\"evenodd\" fill-opacity=\"1\" /><path clip-path=\"url(#clip050)\" d=\"M 0 0 M112.807 567.526 Q109.659 567.526 107.807 569.679 Q105.978 571.832 105.978 575.582 Q105.978 579.308 107.807 581.484 Q109.659 583.637 112.807 583.637 Q115.955 583.637 117.783 581.484 Q119.635 579.308 119.635 575.582 Q119.635 571.832 117.783 569.679 Q115.955 567.526 112.807 567.526 M122.089 552.873 L122.089 557.133 Q120.33 556.299 118.524 555.859 Q116.742 555.42 114.983 555.42 Q110.353 555.42 107.899 558.545 Q105.469 561.67 105.122 567.989 Q106.487 565.975 108.547 564.91 Q110.608 563.822 113.084 563.822 Q118.293 563.822 121.302 566.994 Q124.334 570.142 124.334 575.582 Q124.334 580.906 121.186 584.123 Q118.038 587.341 112.807 587.341 Q106.811 587.341 103.64 582.758 Q100.469 578.151 100.469 569.424 Q100.469 561.23 104.358 556.369 Q108.247 551.485 114.797 551.485 Q116.557 551.485 118.339 551.832 Q120.145 552.179 122.089 552.873 Z\" fill=\"#000000\" fill-rule=\"evenodd\" fill-opacity=\"1\" /><path clip-path=\"url(#clip050)\" d=\"M 0 0 M75.5152 495.892 Q71.9041 495.892 70.0754 499.457 Q68.2699 502.998 68.2699 510.128 Q68.2699 517.234 70.0754 520.799 Q71.9041 524.341 75.5152 524.341 Q79.1494 524.341 80.955 520.799 Q82.7837 517.234 82.7837 510.128 Q82.7837 502.998 80.955 499.457 Q79.1494 495.892 75.5152 495.892 M75.5152 492.188 Q81.3254 492.188 84.3809 496.795 Q87.4596 501.378 87.4596 510.128 Q87.4596 518.855 84.3809 523.461 Q81.3254 528.045 75.5152 528.045 Q69.7051 528.045 66.6264 523.461 Q63.5708 518.855 63.5708 510.128 Q63.5708 501.378 66.6264 496.795 Q69.7051 492.188 75.5152 492.188 Z\" fill=\"#000000\" fill-rule=\"evenodd\" fill-opacity=\"1\" /><path clip-path=\"url(#clip050)\" d=\"M 0 0 M92.529 521.494 L97.4132 521.494 L97.4132 527.373 L92.529 527.373 L92.529 521.494 Z\" fill=\"#000000\" fill-rule=\"evenodd\" fill-opacity=\"1\" /><path clip-path=\"url(#clip050)\" d=\"M 0 0 M112.483 510.961 Q109.149 510.961 107.228 512.744 Q105.33 514.526 105.33 517.651 Q105.33 520.776 107.228 522.558 Q109.149 524.341 112.483 524.341 Q115.816 524.341 117.737 522.558 Q119.658 520.753 119.658 517.651 Q119.658 514.526 117.737 512.744 Q115.839 510.961 112.483 510.961 M107.807 508.971 Q104.797 508.23 103.108 506.17 Q101.441 504.11 101.441 501.147 Q101.441 497.003 104.381 494.596 Q107.344 492.188 112.483 492.188 Q117.645 492.188 120.584 494.596 Q123.524 497.003 123.524 501.147 Q123.524 504.11 121.834 506.17 Q120.168 508.23 117.182 508.971 Q120.561 509.758 122.436 512.049 Q124.334 514.341 124.334 517.651 Q124.334 522.674 121.256 525.359 Q118.2 528.045 112.483 528.045 Q106.765 528.045 103.686 525.359 Q100.631 522.674 100.631 517.651 Q100.631 514.341 102.529 512.049 Q104.427 509.758 107.807 508.971 M106.094 501.586 Q106.094 504.272 107.76 505.776 Q109.45 507.281 112.483 507.281 Q115.492 507.281 117.182 505.776 Q118.895 504.272 118.895 501.586 Q118.895 498.901 117.182 497.397 Q115.492 495.892 112.483 495.892 Q109.45 495.892 107.76 497.397 Q106.094 498.901 106.094 501.586 Z\" fill=\"#000000\" fill-rule=\"evenodd\" fill-opacity=\"1\" /><path clip-path=\"url(#clip050)\" d=\"M 0 0 M67.4597 464.142 L75.0985 464.142 L75.0985 437.776 L66.7884 439.443 L66.7884 435.184 L75.0522 433.517 L79.7281 433.517 L79.7281 464.142 L87.367 464.142 L87.367 468.077 L67.4597 468.077 L67.4597 464.142 Z\" fill=\"#000000\" fill-rule=\"evenodd\" fill-opacity=\"1\" /><path clip-path=\"url(#clip050)\" d=\"M 0 0 M92.4364 462.197 L97.3206 462.197 L97.3206 468.077 L92.4364 468.077 L92.4364 462.197 Z\" fill=\"#000000\" fill-rule=\"evenodd\" fill-opacity=\"1\" /><path clip-path=\"url(#clip050)\" d=\"M 0 0 M112.39 436.596 Q108.779 436.596 106.95 440.161 Q105.145 443.702 105.145 450.832 Q105.145 457.938 106.95 461.503 Q108.779 465.045 112.39 465.045 Q116.024 465.045 117.83 461.503 Q119.658 457.938 119.658 450.832 Q119.658 443.702 117.83 440.161 Q116.024 436.596 112.39 436.596 M112.39 432.892 Q118.2 432.892 121.256 437.498 Q124.334 442.082 124.334 450.832 Q124.334 459.559 121.256 464.165 Q118.2 468.748 112.39 468.748 Q106.58 468.748 103.501 464.165 Q100.446 459.559 100.446 450.832 Q100.446 442.082 103.501 437.498 Q106.58 432.892 112.39 432.892 Z\" fill=\"#000000\" fill-rule=\"evenodd\" fill-opacity=\"1\" /><polyline clip-path=\"url(#clip053)\" style=\"stroke:#009af9; stroke-width:4; stroke-opacity:1; fill:none\" points=\"\n",
       "  210.724,578.821 441.795,679.678 672.867,454.014 903.938,589.91 1135.01,518.761 1366.08,619.927 1597.15,460.037 1828.22,517.067 2059.3,639.417 2290.37,652.144 \n",
       "  \n",
       "  \"/>\n",
       "<path clip-path=\"url(#clip050)\" d=\"\n",
       "M1990.11 651.724 L2280.76 651.724 L2280.76 530.764 L1990.11 530.764  Z\n",
       "  \" fill=\"#ffffff\" fill-rule=\"evenodd\" fill-opacity=\"1\"/>\n",
       "<polyline clip-path=\"url(#clip050)\" style=\"stroke:#000000; stroke-width:4; stroke-opacity:1; fill:none\" points=\"\n",
       "  1990.11,651.724 2280.76,651.724 2280.76,530.764 1990.11,530.764 1990.11,651.724 \n",
       "  \"/>\n",
       "<polyline clip-path=\"url(#clip050)\" style=\"stroke:#009af9; stroke-width:4; stroke-opacity:1; fill:none\" points=\"\n",
       "  2014.11,591.244 2158.11,591.244 \n",
       "  \"/>\n",
       "<path clip-path=\"url(#clip050)\" d=\"M 0 0 M2195.95 610.931 Q2194.15 615.561 2192.43 616.973 Q2190.72 618.385 2187.85 618.385 L2184.45 618.385 L2184.45 614.82 L2186.95 614.82 Q2188.71 614.82 2189.68 613.987 Q2190.65 613.154 2191.83 610.052 L2192.59 608.107 L2182.11 582.598 L2186.62 582.598 L2194.72 602.876 L2202.83 582.598 L2207.34 582.598 L2195.95 610.931 Z\" fill=\"#000000\" fill-rule=\"evenodd\" fill-opacity=\"1\" /><path clip-path=\"url(#clip050)\" d=\"M 0 0 M2216.44 604.589 L2232.76 604.589 L2232.76 608.524 L2210.81 608.524 L2210.81 604.589 Q2213.47 601.834 2218.06 597.205 Q2222.66 592.552 2223.84 591.209 Q2226.09 588.686 2226.97 586.95 Q2227.87 585.191 2227.87 583.501 Q2227.87 580.746 2225.93 579.01 Q2224.01 577.274 2220.9 577.274 Q2218.71 577.274 2216.25 578.038 Q2213.82 578.802 2211.04 580.353 L2211.04 575.631 Q2213.87 574.496 2216.32 573.918 Q2218.77 573.339 2220.81 573.339 Q2226.18 573.339 2229.38 576.024 Q2232.57 578.709 2232.57 583.2 Q2232.57 585.33 2231.76 587.251 Q2230.97 589.149 2228.87 591.742 Q2228.29 592.413 2225.19 595.631 Q2222.08 598.825 2216.44 604.589 Z\" fill=\"#000000\" fill-rule=\"evenodd\" fill-opacity=\"1\" /><path clip-path=\"url(#clip050)\" d=\"\n",
       "M148.334 1086.45 L2352.76 1086.45 L2352.76 847.244 L148.334 847.244  Z\n",
       "  \" fill=\"#ffffff\" fill-rule=\"evenodd\" fill-opacity=\"1\"/>\n",
       "<defs>\n",
       "  <clipPath id=\"clip054\">\n",
       "    <rect x=\"148\" y=\"847\" width=\"2205\" height=\"240\"/>\n",
       "  </clipPath>\n",
       "</defs>\n",
       "<polyline clip-path=\"url(#clip054)\" style=\"stroke:#000000; stroke-width:2; stroke-opacity:0.1; fill:none\" points=\"\n",
       "  441.795,1086.45 441.795,847.244 \n",
       "  \"/>\n",
       "<polyline clip-path=\"url(#clip054)\" style=\"stroke:#000000; stroke-width:2; stroke-opacity:0.1; fill:none\" points=\"\n",
       "  903.938,1086.45 903.938,847.244 \n",
       "  \"/>\n",
       "<polyline clip-path=\"url(#clip054)\" style=\"stroke:#000000; stroke-width:2; stroke-opacity:0.1; fill:none\" points=\"\n",
       "  1366.08,1086.45 1366.08,847.244 \n",
       "  \"/>\n",
       "<polyline clip-path=\"url(#clip054)\" style=\"stroke:#000000; stroke-width:2; stroke-opacity:0.1; fill:none\" points=\"\n",
       "  1828.22,1086.45 1828.22,847.244 \n",
       "  \"/>\n",
       "<polyline clip-path=\"url(#clip054)\" style=\"stroke:#000000; stroke-width:2; stroke-opacity:0.1; fill:none\" points=\"\n",
       "  2290.37,1086.45 2290.37,847.244 \n",
       "  \"/>\n",
       "<polyline clip-path=\"url(#clip054)\" style=\"stroke:#000000; stroke-width:2; stroke-opacity:0.1; fill:none\" points=\"\n",
       "  148.334,1042.9 2352.76,1042.9 \n",
       "  \"/>\n",
       "<polyline clip-path=\"url(#clip054)\" style=\"stroke:#000000; stroke-width:2; stroke-opacity:0.1; fill:none\" points=\"\n",
       "  148.334,994.11 2352.76,994.11 \n",
       "  \"/>\n",
       "<polyline clip-path=\"url(#clip054)\" style=\"stroke:#000000; stroke-width:2; stroke-opacity:0.1; fill:none\" points=\"\n",
       "  148.334,945.316 2352.76,945.316 \n",
       "  \"/>\n",
       "<polyline clip-path=\"url(#clip054)\" style=\"stroke:#000000; stroke-width:2; stroke-opacity:0.1; fill:none\" points=\"\n",
       "  148.334,896.522 2352.76,896.522 \n",
       "  \"/>\n",
       "<polyline clip-path=\"url(#clip054)\" style=\"stroke:#000000; stroke-width:2; stroke-opacity:0.1; fill:none\" points=\"\n",
       "  148.334,847.727 2352.76,847.727 \n",
       "  \"/>\n",
       "<polyline clip-path=\"url(#clip050)\" style=\"stroke:#000000; stroke-width:4; stroke-opacity:1; fill:none\" points=\"\n",
       "  148.334,1086.45 2352.76,1086.45 \n",
       "  \"/>\n",
       "<polyline clip-path=\"url(#clip050)\" style=\"stroke:#000000; stroke-width:4; stroke-opacity:1; fill:none\" points=\"\n",
       "  148.334,1086.45 148.334,847.244 \n",
       "  \"/>\n",
       "<polyline clip-path=\"url(#clip050)\" style=\"stroke:#000000; stroke-width:4; stroke-opacity:1; fill:none\" points=\"\n",
       "  441.795,1086.45 441.795,1083.58 \n",
       "  \"/>\n",
       "<polyline clip-path=\"url(#clip050)\" style=\"stroke:#000000; stroke-width:4; stroke-opacity:1; fill:none\" points=\"\n",
       "  903.938,1086.45 903.938,1083.58 \n",
       "  \"/>\n",
       "<polyline clip-path=\"url(#clip050)\" style=\"stroke:#000000; stroke-width:4; stroke-opacity:1; fill:none\" points=\"\n",
       "  1366.08,1086.45 1366.08,1083.58 \n",
       "  \"/>\n",
       "<polyline clip-path=\"url(#clip050)\" style=\"stroke:#000000; stroke-width:4; stroke-opacity:1; fill:none\" points=\"\n",
       "  1828.22,1086.45 1828.22,1083.58 \n",
       "  \"/>\n",
       "<polyline clip-path=\"url(#clip050)\" style=\"stroke:#000000; stroke-width:4; stroke-opacity:1; fill:none\" points=\"\n",
       "  2290.37,1086.45 2290.37,1083.58 \n",
       "  \"/>\n",
       "<polyline clip-path=\"url(#clip050)\" style=\"stroke:#000000; stroke-width:4; stroke-opacity:1; fill:none\" points=\"\n",
       "  148.334,1042.9 174.787,1042.9 \n",
       "  \"/>\n",
       "<polyline clip-path=\"url(#clip050)\" style=\"stroke:#000000; stroke-width:4; stroke-opacity:1; fill:none\" points=\"\n",
       "  148.334,994.11 174.787,994.11 \n",
       "  \"/>\n",
       "<polyline clip-path=\"url(#clip050)\" style=\"stroke:#000000; stroke-width:4; stroke-opacity:1; fill:none\" points=\"\n",
       "  148.334,945.316 174.787,945.316 \n",
       "  \"/>\n",
       "<polyline clip-path=\"url(#clip050)\" style=\"stroke:#000000; stroke-width:4; stroke-opacity:1; fill:none\" points=\"\n",
       "  148.334,896.522 174.787,896.522 \n",
       "  \"/>\n",
       "<polyline clip-path=\"url(#clip050)\" style=\"stroke:#000000; stroke-width:4; stroke-opacity:1; fill:none\" points=\"\n",
       "  148.334,847.727 174.787,847.727 \n",
       "  \"/>\n",
       "<path clip-path=\"url(#clip050)\" d=\"M 0 0 M436.448 1135.98 L452.767 1135.98 L452.767 1139.92 L430.823 1139.92 L430.823 1135.98 Q433.485 1133.23 438.068 1128.6 Q442.675 1123.95 443.855 1122.61 Q446.101 1120.08 446.98 1118.35 Q447.883 1116.59 447.883 1114.9 Q447.883 1112.14 445.939 1110.41 Q444.017 1108.67 440.915 1108.67 Q438.716 1108.67 436.263 1109.43 Q433.832 1110.2 431.054 1111.75 L431.054 1107.03 Q433.878 1105.89 436.332 1105.31 Q438.786 1104.73 440.823 1104.73 Q446.193 1104.73 449.388 1107.42 Q452.582 1110.11 452.582 1114.6 Q452.582 1116.73 451.772 1118.65 Q450.985 1120.54 448.878 1123.14 Q448.3 1123.81 445.198 1127.03 Q442.096 1130.22 436.448 1135.98 Z\" fill=\"#000000\" fill-rule=\"evenodd\" fill-opacity=\"1\" /><path clip-path=\"url(#clip050)\" d=\"M 0 0 M906.947 1109.43 L895.142 1127.88 L906.947 1127.88 L906.947 1109.43 M905.72 1105.36 L911.6 1105.36 L911.6 1127.88 L916.531 1127.88 L916.531 1131.77 L911.6 1131.77 L911.6 1139.92 L906.947 1139.92 L906.947 1131.77 L891.345 1131.77 L891.345 1127.26 L905.72 1105.36 Z\" fill=\"#000000\" fill-rule=\"evenodd\" fill-opacity=\"1\" /><path clip-path=\"url(#clip050)\" d=\"M 0 0 M1366.49 1120.78 Q1363.34 1120.78 1361.49 1122.93 Q1359.66 1125.08 1359.66 1128.83 Q1359.66 1132.56 1361.49 1134.73 Q1363.34 1136.89 1366.49 1136.89 Q1369.63 1136.89 1371.46 1134.73 Q1373.31 1132.56 1373.31 1128.83 Q1373.31 1125.08 1371.46 1122.93 Q1369.63 1120.78 1366.49 1120.78 M1375.77 1106.12 L1375.77 1110.38 Q1374.01 1109.55 1372.2 1109.11 Q1370.42 1108.67 1368.66 1108.67 Q1364.03 1108.67 1361.58 1111.8 Q1359.15 1114.92 1358.8 1121.24 Q1360.17 1119.23 1362.23 1118.16 Q1364.29 1117.07 1366.76 1117.07 Q1371.97 1117.07 1374.98 1120.24 Q1378.01 1123.39 1378.01 1128.83 Q1378.01 1134.16 1374.87 1137.37 Q1371.72 1140.59 1366.49 1140.59 Q1360.49 1140.59 1357.32 1136.01 Q1354.15 1131.4 1354.15 1122.67 Q1354.15 1114.48 1358.04 1109.62 Q1361.93 1104.73 1368.48 1104.73 Q1370.24 1104.73 1372.02 1105.08 Q1373.82 1105.43 1375.77 1106.12 Z\" fill=\"#000000\" fill-rule=\"evenodd\" fill-opacity=\"1\" /><path clip-path=\"url(#clip050)\" d=\"M 0 0 M1828.22 1123.51 Q1824.89 1123.51 1822.97 1125.29 Q1821.07 1127.07 1821.07 1130.2 Q1821.07 1133.32 1822.97 1135.11 Q1824.89 1136.89 1828.22 1136.89 Q1831.56 1136.89 1833.48 1135.11 Q1835.4 1133.3 1835.4 1130.2 Q1835.4 1127.07 1833.48 1125.29 Q1831.58 1123.51 1828.22 1123.51 M1823.55 1121.52 Q1820.54 1120.78 1818.85 1118.72 Q1817.18 1116.66 1817.18 1113.69 Q1817.18 1109.55 1820.12 1107.14 Q1823.08 1104.73 1828.22 1104.73 Q1833.39 1104.73 1836.33 1107.14 Q1839.27 1109.55 1839.27 1113.69 Q1839.27 1116.66 1837.58 1118.72 Q1835.91 1120.78 1832.92 1121.52 Q1836.3 1122.3 1838.18 1124.6 Q1840.08 1126.89 1840.08 1130.2 Q1840.08 1135.22 1837 1137.91 Q1833.94 1140.59 1828.22 1140.59 Q1822.51 1140.59 1819.43 1137.91 Q1816.37 1135.22 1816.37 1130.2 Q1816.37 1126.89 1818.27 1124.6 Q1820.17 1122.3 1823.55 1121.52 M1821.83 1114.13 Q1821.83 1116.82 1823.5 1118.32 Q1825.19 1119.83 1828.22 1119.83 Q1831.23 1119.83 1832.92 1118.32 Q1834.64 1116.82 1834.64 1114.13 Q1834.64 1111.45 1832.92 1109.94 Q1831.23 1108.44 1828.22 1108.44 Q1825.19 1108.44 1823.5 1109.94 Q1821.83 1111.45 1821.83 1114.13 Z\" fill=\"#000000\" fill-rule=\"evenodd\" fill-opacity=\"1\" /><path clip-path=\"url(#clip050)\" d=\"M 0 0 M2267.24 1135.98 L2274.88 1135.98 L2274.88 1109.62 L2266.57 1111.29 L2266.57 1107.03 L2274.83 1105.36 L2279.51 1105.36 L2279.51 1135.98 L2287.15 1135.98 L2287.15 1139.92 L2267.24 1139.92 L2267.24 1135.98 Z\" fill=\"#000000\" fill-rule=\"evenodd\" fill-opacity=\"1\" /><path clip-path=\"url(#clip050)\" d=\"M 0 0 M2302.22 1108.44 Q2298.61 1108.44 2296.78 1112 Q2294.97 1115.55 2294.97 1122.67 Q2294.97 1129.78 2296.78 1133.35 Q2298.61 1136.89 2302.22 1136.89 Q2305.85 1136.89 2307.66 1133.35 Q2309.49 1129.78 2309.49 1122.67 Q2309.49 1115.55 2307.66 1112 Q2305.85 1108.44 2302.22 1108.44 M2302.22 1104.73 Q2308.03 1104.73 2311.08 1109.34 Q2314.16 1113.92 2314.16 1122.67 Q2314.16 1131.4 2311.08 1136.01 Q2308.03 1140.59 2302.22 1140.59 Q2296.41 1140.59 2293.33 1136.01 Q2290.27 1131.4 2290.27 1122.67 Q2290.27 1113.92 2293.33 1109.34 Q2296.41 1104.73 2302.22 1104.73 Z\" fill=\"#000000\" fill-rule=\"evenodd\" fill-opacity=\"1\" /><path clip-path=\"url(#clip050)\" d=\"M 0 0 M77.0198 1028.7 Q73.4087 1028.7 71.58 1032.27 Q69.7745 1035.81 69.7745 1042.94 Q69.7745 1050.05 71.58 1053.61 Q73.4087 1057.15 77.0198 1057.15 Q80.6541 1057.15 82.4596 1053.61 Q84.2883 1050.05 84.2883 1042.94 Q84.2883 1035.81 82.4596 1032.27 Q80.6541 1028.7 77.0198 1028.7 M77.0198 1025 Q82.83 1025 85.8855 1029.61 Q88.9642 1034.19 88.9642 1042.94 Q88.9642 1051.67 85.8855 1056.27 Q82.83 1060.86 77.0198 1060.86 Q71.2097 1060.86 68.131 1056.27 Q65.0754 1051.67 65.0754 1042.94 Q65.0754 1034.19 68.131 1029.61 Q71.2097 1025 77.0198 1025 Z\" fill=\"#000000\" fill-rule=\"evenodd\" fill-opacity=\"1\" /><path clip-path=\"url(#clip050)\" d=\"M 0 0 M94.0336 1054.31 L98.9179 1054.31 L98.9179 1060.18 L94.0336 1060.18 L94.0336 1054.31 Z\" fill=\"#000000\" fill-rule=\"evenodd\" fill-opacity=\"1\" /><path clip-path=\"url(#clip050)\" d=\"M 0 0 M108.015 1056.25 L124.334 1056.25 L124.334 1060.18 L102.39 1060.18 L102.39 1056.25 Q105.052 1053.5 109.635 1048.87 Q114.242 1044.21 115.422 1042.87 Q117.668 1040.35 118.547 1038.61 Q119.45 1036.85 119.45 1035.16 Q119.45 1032.41 117.506 1030.67 Q115.584 1028.94 112.483 1028.94 Q110.284 1028.94 107.83 1029.7 Q105.399 1030.46 102.622 1032.01 L102.622 1027.29 Q105.446 1026.16 107.899 1025.58 Q110.353 1025 112.39 1025 Q117.76 1025 120.955 1027.69 Q124.149 1030.37 124.149 1034.86 Q124.149 1036.99 123.339 1038.91 Q122.552 1040.81 120.446 1043.4 Q119.867 1044.07 116.765 1047.29 Q113.663 1050.49 108.015 1056.25 Z\" fill=\"#000000\" fill-rule=\"evenodd\" fill-opacity=\"1\" /><path clip-path=\"url(#clip050)\" d=\"M 0 0 M74.9365 979.909 Q71.3254 979.909 69.4967 983.474 Q67.6912 987.016 67.6912 994.145 Q67.6912 1001.25 69.4967 1004.82 Q71.3254 1008.36 74.9365 1008.36 Q78.5707 1008.36 80.3763 1004.82 Q82.205 1001.25 82.205 994.145 Q82.205 987.016 80.3763 983.474 Q78.5707 979.909 74.9365 979.909 M74.9365 976.205 Q80.7467 976.205 83.8022 980.812 Q86.8809 985.395 86.8809 994.145 Q86.8809 1002.87 83.8022 1007.48 Q80.7467 1012.06 74.9365 1012.06 Q69.1264 1012.06 66.0477 1007.48 Q62.9921 1002.87 62.9921 994.145 Q62.9921 985.395 66.0477 980.812 Q69.1264 976.205 74.9365 976.205 Z\" fill=\"#000000\" fill-rule=\"evenodd\" fill-opacity=\"1\" /><path clip-path=\"url(#clip050)\" d=\"M 0 0 M91.9503 1005.51 L96.8345 1005.51 L96.8345 1011.39 L91.9503 1011.39 L91.9503 1005.51 Z\" fill=\"#000000\" fill-rule=\"evenodd\" fill-opacity=\"1\" /><path clip-path=\"url(#clip050)\" d=\"M 0 0 M114.751 980.905 L102.946 999.354 L114.751 999.354 L114.751 980.905 M113.524 976.83 L119.404 976.83 L119.404 999.354 L124.334 999.354 L124.334 1003.24 L119.404 1003.24 L119.404 1011.39 L114.751 1011.39 L114.751 1003.24 L99.1493 1003.24 L99.1493 998.729 L113.524 976.83 Z\" fill=\"#000000\" fill-rule=\"evenodd\" fill-opacity=\"1\" /><path clip-path=\"url(#clip050)\" d=\"M 0 0 M75.2606 931.115 Q71.6495 931.115 69.8208 934.679 Q68.0152 938.221 68.0152 945.351 Q68.0152 952.457 69.8208 956.022 Q71.6495 959.564 75.2606 959.564 Q78.8948 959.564 80.7004 956.022 Q82.5291 952.457 82.5291 945.351 Q82.5291 938.221 80.7004 934.679 Q78.8948 931.115 75.2606 931.115 M75.2606 927.411 Q81.0707 927.411 84.1263 932.017 Q87.205 936.601 87.205 945.351 Q87.205 954.078 84.1263 958.684 Q81.0707 963.267 75.2606 963.267 Q69.4504 963.267 66.3717 958.684 Q63.3162 954.078 63.3162 945.351 Q63.3162 936.601 66.3717 932.017 Q69.4504 927.411 75.2606 927.411 Z\" fill=\"#000000\" fill-rule=\"evenodd\" fill-opacity=\"1\" /><path clip-path=\"url(#clip050)\" d=\"M 0 0 M92.2744 956.716 L97.1586 956.716 L97.1586 962.596 L92.2744 962.596 L92.2744 956.716 Z\" fill=\"#000000\" fill-rule=\"evenodd\" fill-opacity=\"1\" /><path clip-path=\"url(#clip050)\" d=\"M 0 0 M112.807 943.453 Q109.659 943.453 107.807 945.605 Q105.978 947.758 105.978 951.508 Q105.978 955.235 107.807 957.411 Q109.659 959.564 112.807 959.564 Q115.955 959.564 117.783 957.411 Q119.635 955.235 119.635 951.508 Q119.635 947.758 117.783 945.605 Q115.955 943.453 112.807 943.453 M122.089 928.8 L122.089 933.059 Q120.33 932.226 118.524 931.786 Q116.742 931.346 114.983 931.346 Q110.353 931.346 107.899 934.471 Q105.469 937.596 105.122 943.916 Q106.487 941.902 108.547 940.837 Q110.608 939.749 113.084 939.749 Q118.293 939.749 121.302 942.92 Q124.334 946.068 124.334 951.508 Q124.334 956.832 121.186 960.05 Q118.038 963.267 112.807 963.267 Q106.811 963.267 103.64 958.684 Q100.469 954.078 100.469 945.351 Q100.469 937.156 104.358 932.295 Q108.247 927.411 114.797 927.411 Q116.557 927.411 118.339 927.758 Q120.145 928.105 122.089 928.8 Z\" fill=\"#000000\" fill-rule=\"evenodd\" fill-opacity=\"1\" /><path clip-path=\"url(#clip050)\" d=\"M 0 0 M75.5152 882.32 Q71.9041 882.32 70.0754 885.885 Q68.2699 889.427 68.2699 896.556 Q68.2699 903.663 70.0754 907.227 Q71.9041 910.769 75.5152 910.769 Q79.1494 910.769 80.955 907.227 Q82.7837 903.663 82.7837 896.556 Q82.7837 889.427 80.955 885.885 Q79.1494 882.32 75.5152 882.32 M75.5152 878.617 Q81.3254 878.617 84.3809 883.223 Q87.4596 887.806 87.4596 896.556 Q87.4596 905.283 84.3809 909.89 Q81.3254 914.473 75.5152 914.473 Q69.7051 914.473 66.6264 909.89 Q63.5708 905.283 63.5708 896.556 Q63.5708 887.806 66.6264 883.223 Q69.7051 878.617 75.5152 878.617 Z\" fill=\"#000000\" fill-rule=\"evenodd\" fill-opacity=\"1\" /><path clip-path=\"url(#clip050)\" d=\"M 0 0 M92.529 907.922 L97.4132 907.922 L97.4132 913.802 L92.529 913.802 L92.529 907.922 Z\" fill=\"#000000\" fill-rule=\"evenodd\" fill-opacity=\"1\" /><path clip-path=\"url(#clip050)\" d=\"M 0 0 M112.483 897.39 Q109.149 897.39 107.228 899.172 Q105.33 900.954 105.33 904.079 Q105.33 907.204 107.228 908.987 Q109.149 910.769 112.483 910.769 Q115.816 910.769 117.737 908.987 Q119.658 907.181 119.658 904.079 Q119.658 900.954 117.737 899.172 Q115.839 897.39 112.483 897.39 M107.807 895.399 Q104.797 894.658 103.108 892.598 Q101.441 890.538 101.441 887.575 Q101.441 883.431 104.381 881.024 Q107.344 878.617 112.483 878.617 Q117.645 878.617 120.584 881.024 Q123.524 883.431 123.524 887.575 Q123.524 890.538 121.834 892.598 Q120.168 894.658 117.182 895.399 Q120.561 896.186 122.436 898.478 Q124.334 900.769 124.334 904.079 Q124.334 909.102 121.256 911.788 Q118.2 914.473 112.483 914.473 Q106.765 914.473 103.686 911.788 Q100.631 909.102 100.631 904.079 Q100.631 900.769 102.529 898.478 Q104.427 896.186 107.807 895.399 M106.094 888.015 Q106.094 890.7 107.76 892.204 Q109.45 893.709 112.483 893.709 Q115.492 893.709 117.182 892.204 Q118.895 890.7 118.895 888.015 Q118.895 885.329 117.182 883.825 Q115.492 882.32 112.483 882.32 Q109.45 882.32 107.76 883.825 Q106.094 885.329 106.094 888.015 Z\" fill=\"#000000\" fill-rule=\"evenodd\" fill-opacity=\"1\" /><path clip-path=\"url(#clip050)\" d=\"M 0 0 M67.4597 861.072 L75.0985 861.072 L75.0985 834.706 L66.7884 836.373 L66.7884 832.114 L75.0522 830.447 L79.7281 830.447 L79.7281 861.072 L87.367 861.072 L87.367 865.007 L67.4597 865.007 L67.4597 861.072 Z\" fill=\"#000000\" fill-rule=\"evenodd\" fill-opacity=\"1\" /><path clip-path=\"url(#clip050)\" d=\"M 0 0 M92.4364 859.127 L97.3206 859.127 L97.3206 865.007 L92.4364 865.007 L92.4364 859.127 Z\" fill=\"#000000\" fill-rule=\"evenodd\" fill-opacity=\"1\" /><path clip-path=\"url(#clip050)\" d=\"M 0 0 M112.39 833.526 Q108.779 833.526 106.95 837.091 Q105.145 840.632 105.145 847.762 Q105.145 854.868 106.95 858.433 Q108.779 861.975 112.39 861.975 Q116.024 861.975 117.83 858.433 Q119.658 854.868 119.658 847.762 Q119.658 840.632 117.83 837.091 Q116.024 833.526 112.39 833.526 M112.39 829.822 Q118.2 829.822 121.256 834.429 Q124.334 839.012 124.334 847.762 Q124.334 856.489 121.256 861.095 Q118.2 865.678 112.39 865.678 Q106.58 865.678 103.501 861.095 Q100.446 856.489 100.446 847.762 Q100.446 839.012 103.501 834.429 Q106.58 829.822 112.39 829.822 Z\" fill=\"#000000\" fill-rule=\"evenodd\" fill-opacity=\"1\" /><polyline clip-path=\"url(#clip054)\" style=\"stroke:#009af9; stroke-width:4; stroke-opacity:1; fill:none\" points=\"\n",
       "  210.724,1079.68 441.795,1014.6 672.867,951.632 903.938,1028.51 1135.01,905.836 1366.08,854.014 1597.15,1031.68 1828.22,977.357 2059.3,953.511 2290.37,880.74 \n",
       "  \n",
       "  \"/>\n",
       "<path clip-path=\"url(#clip050)\" d=\"\n",
       "M1989.16 1051.72 L2280.76 1051.72 L2280.76 930.764 L1989.16 930.764  Z\n",
       "  \" fill=\"#ffffff\" fill-rule=\"evenodd\" fill-opacity=\"1\"/>\n",
       "<polyline clip-path=\"url(#clip050)\" style=\"stroke:#000000; stroke-width:4; stroke-opacity:1; fill:none\" points=\"\n",
       "  1989.16,1051.72 2280.76,1051.72 2280.76,930.764 1989.16,930.764 1989.16,1051.72 \n",
       "  \"/>\n",
       "<polyline clip-path=\"url(#clip050)\" style=\"stroke:#009af9; stroke-width:4; stroke-opacity:1; fill:none\" points=\"\n",
       "  2013.16,991.244 2157.16,991.244 \n",
       "  \"/>\n",
       "<path clip-path=\"url(#clip050)\" d=\"M 0 0 M2195 1010.93 Q2193.2 1015.56 2191.48 1016.97 Q2189.77 1018.39 2186.9 1018.39 L2183.5 1018.39 L2183.5 1014.82 L2186 1014.82 Q2187.76 1014.82 2188.73 1013.99 Q2189.7 1013.15 2190.88 1010.05 L2191.65 1008.11 L2181.16 982.598 L2185.67 982.598 L2193.77 1002.88 L2201.88 982.598 L2206.39 982.598 L2195 1010.93 Z\" fill=\"#000000\" fill-rule=\"evenodd\" fill-opacity=\"1\" /><path clip-path=\"url(#clip050)\" d=\"M 0 0 M2225.63 989.89 Q2228.98 990.608 2230.86 992.876 Q2232.76 995.145 2232.76 998.478 Q2232.76 1003.59 2229.24 1006.39 Q2225.72 1009.2 2219.24 1009.2 Q2217.06 1009.2 2214.75 1008.76 Q2212.46 1008.34 2210 1007.48 L2210 1002.97 Q2211.95 1004.1 2214.26 1004.68 Q2216.58 1005.26 2219.1 1005.26 Q2223.5 1005.26 2225.79 1003.52 Q2228.1 1001.79 2228.1 998.478 Q2228.1 995.422 2225.95 993.709 Q2223.82 991.973 2220 991.973 L2215.97 991.973 L2215.97 988.131 L2220.19 988.131 Q2223.64 988.131 2225.46 986.765 Q2227.29 985.376 2227.29 982.783 Q2227.29 980.121 2225.39 978.709 Q2223.52 977.274 2220 977.274 Q2218.08 977.274 2215.88 977.691 Q2213.68 978.108 2211.04 978.987 L2211.04 974.821 Q2213.71 974.08 2216.02 973.709 Q2218.36 973.339 2220.42 973.339 Q2225.74 973.339 2228.84 975.77 Q2231.95 978.177 2231.95 982.297 Q2231.95 985.168 2230.3 987.158 Q2228.66 989.126 2225.63 989.89 Z\" fill=\"#000000\" fill-rule=\"evenodd\" fill-opacity=\"1\" /><path clip-path=\"url(#clip050)\" d=\"\n",
       "M148.334 1486.45 L2352.76 1486.45 L2352.76 1247.24 L148.334 1247.24  Z\n",
       "  \" fill=\"#ffffff\" fill-rule=\"evenodd\" fill-opacity=\"1\"/>\n",
       "<defs>\n",
       "  <clipPath id=\"clip055\">\n",
       "    <rect x=\"148\" y=\"1247\" width=\"2205\" height=\"240\"/>\n",
       "  </clipPath>\n",
       "</defs>\n",
       "<polyline clip-path=\"url(#clip055)\" style=\"stroke:#000000; stroke-width:2; stroke-opacity:0.1; fill:none\" points=\"\n",
       "  441.795,1486.45 441.795,1247.24 \n",
       "  \"/>\n",
       "<polyline clip-path=\"url(#clip055)\" style=\"stroke:#000000; stroke-width:2; stroke-opacity:0.1; fill:none\" points=\"\n",
       "  903.938,1486.45 903.938,1247.24 \n",
       "  \"/>\n",
       "<polyline clip-path=\"url(#clip055)\" style=\"stroke:#000000; stroke-width:2; stroke-opacity:0.1; fill:none\" points=\"\n",
       "  1366.08,1486.45 1366.08,1247.24 \n",
       "  \"/>\n",
       "<polyline clip-path=\"url(#clip055)\" style=\"stroke:#000000; stroke-width:2; stroke-opacity:0.1; fill:none\" points=\"\n",
       "  1828.22,1486.45 1828.22,1247.24 \n",
       "  \"/>\n",
       "<polyline clip-path=\"url(#clip055)\" style=\"stroke:#000000; stroke-width:2; stroke-opacity:0.1; fill:none\" points=\"\n",
       "  2290.37,1486.45 2290.37,1247.24 \n",
       "  \"/>\n",
       "<polyline clip-path=\"url(#clip055)\" style=\"stroke:#000000; stroke-width:2; stroke-opacity:0.1; fill:none\" points=\"\n",
       "  148.334,1444.14 2352.76,1444.14 \n",
       "  \"/>\n",
       "<polyline clip-path=\"url(#clip055)\" style=\"stroke:#000000; stroke-width:2; stroke-opacity:0.1; fill:none\" points=\"\n",
       "  148.334,1392.45 2352.76,1392.45 \n",
       "  \"/>\n",
       "<polyline clip-path=\"url(#clip055)\" style=\"stroke:#000000; stroke-width:2; stroke-opacity:0.1; fill:none\" points=\"\n",
       "  148.334,1340.76 2352.76,1340.76 \n",
       "  \"/>\n",
       "<polyline clip-path=\"url(#clip055)\" style=\"stroke:#000000; stroke-width:2; stroke-opacity:0.1; fill:none\" points=\"\n",
       "  148.334,1289.07 2352.76,1289.07 \n",
       "  \"/>\n",
       "<polyline clip-path=\"url(#clip050)\" style=\"stroke:#000000; stroke-width:4; stroke-opacity:1; fill:none\" points=\"\n",
       "  148.334,1486.45 2352.76,1486.45 \n",
       "  \"/>\n",
       "<polyline clip-path=\"url(#clip050)\" style=\"stroke:#000000; stroke-width:4; stroke-opacity:1; fill:none\" points=\"\n",
       "  148.334,1486.45 148.334,1247.24 \n",
       "  \"/>\n",
       "<polyline clip-path=\"url(#clip050)\" style=\"stroke:#000000; stroke-width:4; stroke-opacity:1; fill:none\" points=\"\n",
       "  441.795,1486.45 441.795,1483.58 \n",
       "  \"/>\n",
       "<polyline clip-path=\"url(#clip050)\" style=\"stroke:#000000; stroke-width:4; stroke-opacity:1; fill:none\" points=\"\n",
       "  903.938,1486.45 903.938,1483.58 \n",
       "  \"/>\n",
       "<polyline clip-path=\"url(#clip050)\" style=\"stroke:#000000; stroke-width:4; stroke-opacity:1; fill:none\" points=\"\n",
       "  1366.08,1486.45 1366.08,1483.58 \n",
       "  \"/>\n",
       "<polyline clip-path=\"url(#clip050)\" style=\"stroke:#000000; stroke-width:4; stroke-opacity:1; fill:none\" points=\"\n",
       "  1828.22,1486.45 1828.22,1483.58 \n",
       "  \"/>\n",
       "<polyline clip-path=\"url(#clip050)\" style=\"stroke:#000000; stroke-width:4; stroke-opacity:1; fill:none\" points=\"\n",
       "  2290.37,1486.45 2290.37,1483.58 \n",
       "  \"/>\n",
       "<polyline clip-path=\"url(#clip050)\" style=\"stroke:#000000; stroke-width:4; stroke-opacity:1; fill:none\" points=\"\n",
       "  148.334,1444.14 174.787,1444.14 \n",
       "  \"/>\n",
       "<polyline clip-path=\"url(#clip050)\" style=\"stroke:#000000; stroke-width:4; stroke-opacity:1; fill:none\" points=\"\n",
       "  148.334,1392.45 174.787,1392.45 \n",
       "  \"/>\n",
       "<polyline clip-path=\"url(#clip050)\" style=\"stroke:#000000; stroke-width:4; stroke-opacity:1; fill:none\" points=\"\n",
       "  148.334,1340.76 174.787,1340.76 \n",
       "  \"/>\n",
       "<polyline clip-path=\"url(#clip050)\" style=\"stroke:#000000; stroke-width:4; stroke-opacity:1; fill:none\" points=\"\n",
       "  148.334,1289.07 174.787,1289.07 \n",
       "  \"/>\n",
       "<path clip-path=\"url(#clip050)\" d=\"M 0 0 M436.448 1535.98 L452.767 1535.98 L452.767 1539.92 L430.823 1539.92 L430.823 1535.98 Q433.485 1533.23 438.068 1528.6 Q442.675 1523.95 443.855 1522.61 Q446.101 1520.08 446.98 1518.35 Q447.883 1516.59 447.883 1514.9 Q447.883 1512.14 445.939 1510.41 Q444.017 1508.67 440.915 1508.67 Q438.716 1508.67 436.263 1509.43 Q433.832 1510.2 431.054 1511.75 L431.054 1507.03 Q433.878 1505.89 436.332 1505.31 Q438.786 1504.73 440.823 1504.73 Q446.193 1504.73 449.388 1507.42 Q452.582 1510.11 452.582 1514.6 Q452.582 1516.73 451.772 1518.65 Q450.985 1520.54 448.878 1523.14 Q448.3 1523.81 445.198 1527.03 Q442.096 1530.22 436.448 1535.98 Z\" fill=\"#000000\" fill-rule=\"evenodd\" fill-opacity=\"1\" /><path clip-path=\"url(#clip050)\" d=\"M 0 0 M906.947 1509.43 L895.142 1527.88 L906.947 1527.88 L906.947 1509.43 M905.72 1505.36 L911.6 1505.36 L911.6 1527.88 L916.531 1527.88 L916.531 1531.77 L911.6 1531.77 L911.6 1539.92 L906.947 1539.92 L906.947 1531.77 L891.345 1531.77 L891.345 1527.26 L905.72 1505.36 Z\" fill=\"#000000\" fill-rule=\"evenodd\" fill-opacity=\"1\" /><path clip-path=\"url(#clip050)\" d=\"M 0 0 M1366.49 1520.78 Q1363.34 1520.78 1361.49 1522.93 Q1359.66 1525.08 1359.66 1528.83 Q1359.66 1532.56 1361.49 1534.73 Q1363.34 1536.89 1366.49 1536.89 Q1369.63 1536.89 1371.46 1534.73 Q1373.31 1532.56 1373.31 1528.83 Q1373.31 1525.08 1371.46 1522.93 Q1369.63 1520.78 1366.49 1520.78 M1375.77 1506.12 L1375.77 1510.38 Q1374.01 1509.55 1372.2 1509.11 Q1370.42 1508.67 1368.66 1508.67 Q1364.03 1508.67 1361.58 1511.8 Q1359.15 1514.92 1358.8 1521.24 Q1360.17 1519.23 1362.23 1518.16 Q1364.29 1517.07 1366.76 1517.07 Q1371.97 1517.07 1374.98 1520.24 Q1378.01 1523.39 1378.01 1528.83 Q1378.01 1534.16 1374.87 1537.37 Q1371.72 1540.59 1366.49 1540.59 Q1360.49 1540.59 1357.32 1536.01 Q1354.15 1531.4 1354.15 1522.67 Q1354.15 1514.48 1358.04 1509.62 Q1361.93 1504.73 1368.48 1504.73 Q1370.24 1504.73 1372.02 1505.08 Q1373.82 1505.43 1375.77 1506.12 Z\" fill=\"#000000\" fill-rule=\"evenodd\" fill-opacity=\"1\" /><path clip-path=\"url(#clip050)\" d=\"M 0 0 M1828.22 1523.51 Q1824.89 1523.51 1822.97 1525.29 Q1821.07 1527.07 1821.07 1530.2 Q1821.07 1533.32 1822.97 1535.11 Q1824.89 1536.89 1828.22 1536.89 Q1831.56 1536.89 1833.48 1535.11 Q1835.4 1533.3 1835.4 1530.2 Q1835.4 1527.07 1833.48 1525.29 Q1831.58 1523.51 1828.22 1523.51 M1823.55 1521.52 Q1820.54 1520.78 1818.85 1518.72 Q1817.18 1516.66 1817.18 1513.69 Q1817.18 1509.55 1820.12 1507.14 Q1823.08 1504.73 1828.22 1504.73 Q1833.39 1504.73 1836.33 1507.14 Q1839.27 1509.55 1839.27 1513.69 Q1839.27 1516.66 1837.58 1518.72 Q1835.91 1520.78 1832.92 1521.52 Q1836.3 1522.3 1838.18 1524.6 Q1840.08 1526.89 1840.08 1530.2 Q1840.08 1535.22 1837 1537.91 Q1833.94 1540.59 1828.22 1540.59 Q1822.51 1540.59 1819.43 1537.91 Q1816.37 1535.22 1816.37 1530.2 Q1816.37 1526.89 1818.27 1524.6 Q1820.17 1522.3 1823.55 1521.52 M1821.83 1514.13 Q1821.83 1516.82 1823.5 1518.32 Q1825.19 1519.83 1828.22 1519.83 Q1831.23 1519.83 1832.92 1518.32 Q1834.64 1516.82 1834.64 1514.13 Q1834.64 1511.45 1832.92 1509.94 Q1831.23 1508.44 1828.22 1508.44 Q1825.19 1508.44 1823.5 1509.94 Q1821.83 1511.45 1821.83 1514.13 Z\" fill=\"#000000\" fill-rule=\"evenodd\" fill-opacity=\"1\" /><path clip-path=\"url(#clip050)\" d=\"M 0 0 M2267.24 1535.98 L2274.88 1535.98 L2274.88 1509.62 L2266.57 1511.29 L2266.57 1507.03 L2274.83 1505.36 L2279.51 1505.36 L2279.51 1535.98 L2287.15 1535.98 L2287.15 1539.92 L2267.24 1539.92 L2267.24 1535.98 Z\" fill=\"#000000\" fill-rule=\"evenodd\" fill-opacity=\"1\" /><path clip-path=\"url(#clip050)\" d=\"M 0 0 M2302.22 1508.44 Q2298.61 1508.44 2296.78 1512 Q2294.97 1515.55 2294.97 1522.67 Q2294.97 1529.78 2296.78 1533.35 Q2298.61 1536.89 2302.22 1536.89 Q2305.85 1536.89 2307.66 1533.35 Q2309.49 1529.78 2309.49 1522.67 Q2309.49 1515.55 2307.66 1512 Q2305.85 1508.44 2302.22 1508.44 M2302.22 1504.73 Q2308.03 1504.73 2311.08 1509.34 Q2314.16 1513.92 2314.16 1522.67 Q2314.16 1531.4 2311.08 1536.01 Q2308.03 1540.59 2302.22 1540.59 Q2296.41 1540.59 2293.33 1536.01 Q2290.27 1531.4 2290.27 1522.67 Q2290.27 1513.92 2293.33 1509.34 Q2296.41 1504.73 2302.22 1504.73 Z\" fill=\"#000000\" fill-rule=\"evenodd\" fill-opacity=\"1\" /><path clip-path=\"url(#clip050)\" d=\"M 0 0 M77.0198 1429.93 Q73.4087 1429.93 71.58 1433.5 Q69.7745 1437.04 69.7745 1444.17 Q69.7745 1451.28 71.58 1454.84 Q73.4087 1458.38 77.0198 1458.38 Q80.6541 1458.38 82.4596 1454.84 Q84.2883 1451.28 84.2883 1444.17 Q84.2883 1437.04 82.4596 1433.5 Q80.6541 1429.93 77.0198 1429.93 M77.0198 1426.23 Q82.83 1426.23 85.8855 1430.84 Q88.9642 1435.42 88.9642 1444.17 Q88.9642 1452.9 85.8855 1457.5 Q82.83 1462.09 77.0198 1462.09 Q71.2097 1462.09 68.131 1457.5 Q65.0754 1452.9 65.0754 1444.17 Q65.0754 1435.42 68.131 1430.84 Q71.2097 1426.23 77.0198 1426.23 Z\" fill=\"#000000\" fill-rule=\"evenodd\" fill-opacity=\"1\" /><path clip-path=\"url(#clip050)\" d=\"M 0 0 M94.0336 1455.54 L98.9179 1455.54 L98.9179 1461.42 L94.0336 1461.42 L94.0336 1455.54 Z\" fill=\"#000000\" fill-rule=\"evenodd\" fill-opacity=\"1\" /><path clip-path=\"url(#clip050)\" d=\"M 0 0 M108.015 1457.48 L124.334 1457.48 L124.334 1461.42 L102.39 1461.42 L102.39 1457.48 Q105.052 1454.73 109.635 1450.1 Q114.242 1445.44 115.422 1444.1 Q117.668 1441.58 118.547 1439.84 Q119.45 1438.08 119.45 1436.39 Q119.45 1433.64 117.506 1431.9 Q115.584 1430.17 112.483 1430.17 Q110.284 1430.17 107.83 1430.93 Q105.399 1431.69 102.622 1433.24 L102.622 1428.52 Q105.446 1427.39 107.899 1426.81 Q110.353 1426.23 112.39 1426.23 Q117.76 1426.23 120.955 1428.92 Q124.149 1431.6 124.149 1436.09 Q124.149 1438.22 123.339 1440.14 Q122.552 1442.04 120.446 1444.63 Q119.867 1445.3 116.765 1448.52 Q113.663 1451.72 108.015 1457.48 Z\" fill=\"#000000\" fill-rule=\"evenodd\" fill-opacity=\"1\" /><path clip-path=\"url(#clip050)\" d=\"M 0 0 M74.9365 1378.25 Q71.3254 1378.25 69.4967 1381.81 Q67.6912 1385.35 67.6912 1392.48 Q67.6912 1399.59 69.4967 1403.15 Q71.3254 1406.69 74.9365 1406.69 Q78.5707 1406.69 80.3763 1403.15 Q82.205 1399.59 82.205 1392.48 Q82.205 1385.35 80.3763 1381.81 Q78.5707 1378.25 74.9365 1378.25 M74.9365 1374.54 Q80.7467 1374.54 83.8022 1379.15 Q86.8809 1383.73 86.8809 1392.48 Q86.8809 1401.21 83.8022 1405.81 Q80.7467 1410.4 74.9365 1410.4 Q69.1264 1410.4 66.0477 1405.81 Q62.9921 1401.21 62.9921 1392.48 Q62.9921 1383.73 66.0477 1379.15 Q69.1264 1374.54 74.9365 1374.54 Z\" fill=\"#000000\" fill-rule=\"evenodd\" fill-opacity=\"1\" /><path clip-path=\"url(#clip050)\" d=\"M 0 0 M91.9503 1403.85 L96.8345 1403.85 L96.8345 1409.73 L91.9503 1409.73 L91.9503 1403.85 Z\" fill=\"#000000\" fill-rule=\"evenodd\" fill-opacity=\"1\" /><path clip-path=\"url(#clip050)\" d=\"M 0 0 M114.751 1379.24 L102.946 1397.69 L114.751 1397.69 L114.751 1379.24 M113.524 1375.17 L119.404 1375.17 L119.404 1397.69 L124.334 1397.69 L124.334 1401.58 L119.404 1401.58 L119.404 1409.73 L114.751 1409.73 L114.751 1401.58 L99.1493 1401.58 L99.1493 1397.06 L113.524 1375.17 Z\" fill=\"#000000\" fill-rule=\"evenodd\" fill-opacity=\"1\" /><path clip-path=\"url(#clip050)\" d=\"M 0 0 M75.2606 1326.56 Q71.6495 1326.56 69.8208 1330.12 Q68.0152 1333.66 68.0152 1340.79 Q68.0152 1347.9 69.8208 1351.46 Q71.6495 1355.01 75.2606 1355.01 Q78.8948 1355.01 80.7004 1351.46 Q82.5291 1347.9 82.5291 1340.79 Q82.5291 1333.66 80.7004 1330.12 Q78.8948 1326.56 75.2606 1326.56 M75.2606 1322.85 Q81.0707 1322.85 84.1263 1327.46 Q87.205 1332.04 87.205 1340.79 Q87.205 1349.52 84.1263 1354.13 Q81.0707 1358.71 75.2606 1358.71 Q69.4504 1358.71 66.3717 1354.13 Q63.3162 1349.52 63.3162 1340.79 Q63.3162 1332.04 66.3717 1327.46 Q69.4504 1322.85 75.2606 1322.85 Z\" fill=\"#000000\" fill-rule=\"evenodd\" fill-opacity=\"1\" /><path clip-path=\"url(#clip050)\" d=\"M 0 0 M92.2744 1352.16 L97.1586 1352.16 L97.1586 1358.04 L92.2744 1358.04 L92.2744 1352.16 Z\" fill=\"#000000\" fill-rule=\"evenodd\" fill-opacity=\"1\" /><path clip-path=\"url(#clip050)\" d=\"M 0 0 M112.807 1338.89 Q109.659 1338.89 107.807 1341.05 Q105.978 1343.2 105.978 1346.95 Q105.978 1350.68 107.807 1352.85 Q109.659 1355.01 112.807 1355.01 Q115.955 1355.01 117.783 1352.85 Q119.635 1350.68 119.635 1346.95 Q119.635 1343.2 117.783 1341.05 Q115.955 1338.89 112.807 1338.89 M122.089 1324.24 L122.089 1328.5 Q120.33 1327.67 118.524 1327.23 Q116.742 1326.79 114.983 1326.79 Q110.353 1326.79 107.899 1329.91 Q105.469 1333.04 105.122 1339.36 Q106.487 1337.34 108.547 1336.28 Q110.608 1335.19 113.084 1335.19 Q118.293 1335.19 121.302 1338.36 Q124.334 1341.51 124.334 1346.95 Q124.334 1352.27 121.186 1355.49 Q118.038 1358.71 112.807 1358.71 Q106.811 1358.71 103.64 1354.13 Q100.469 1349.52 100.469 1340.79 Q100.469 1332.6 104.358 1327.74 Q108.247 1322.85 114.797 1322.85 Q116.557 1322.85 118.339 1323.2 Q120.145 1323.55 122.089 1324.24 Z\" fill=\"#000000\" fill-rule=\"evenodd\" fill-opacity=\"1\" /><path clip-path=\"url(#clip050)\" d=\"M 0 0 M75.5152 1274.87 Q71.9041 1274.87 70.0754 1278.43 Q68.2699 1281.97 68.2699 1289.1 Q68.2699 1296.21 70.0754 1299.78 Q71.9041 1303.32 75.5152 1303.32 Q79.1494 1303.32 80.955 1299.78 Q82.7837 1296.21 82.7837 1289.1 Q82.7837 1281.97 80.955 1278.43 Q79.1494 1274.87 75.5152 1274.87 M75.5152 1271.16 Q81.3254 1271.16 84.3809 1275.77 Q87.4596 1280.35 87.4596 1289.1 Q87.4596 1297.83 84.3809 1302.44 Q81.3254 1307.02 75.5152 1307.02 Q69.7051 1307.02 66.6264 1302.44 Q63.5708 1297.83 63.5708 1289.1 Q63.5708 1280.35 66.6264 1275.77 Q69.7051 1271.16 75.5152 1271.16 Z\" fill=\"#000000\" fill-rule=\"evenodd\" fill-opacity=\"1\" /><path clip-path=\"url(#clip050)\" d=\"M 0 0 M92.529 1300.47 L97.4132 1300.47 L97.4132 1306.35 L92.529 1306.35 L92.529 1300.47 Z\" fill=\"#000000\" fill-rule=\"evenodd\" fill-opacity=\"1\" /><path clip-path=\"url(#clip050)\" d=\"M 0 0 M112.483 1289.94 Q109.149 1289.94 107.228 1291.72 Q105.33 1293.5 105.33 1296.63 Q105.33 1299.75 107.228 1301.53 Q109.149 1303.32 112.483 1303.32 Q115.816 1303.32 117.737 1301.53 Q119.658 1299.73 119.658 1296.63 Q119.658 1293.5 117.737 1291.72 Q115.839 1289.94 112.483 1289.94 M107.807 1287.95 Q104.797 1287.21 103.108 1285.15 Q101.441 1283.09 101.441 1280.12 Q101.441 1275.98 104.381 1273.57 Q107.344 1271.16 112.483 1271.16 Q117.645 1271.16 120.584 1273.57 Q123.524 1275.98 123.524 1280.12 Q123.524 1283.09 121.834 1285.15 Q120.168 1287.21 117.182 1287.95 Q120.561 1288.73 122.436 1291.03 Q124.334 1293.32 124.334 1296.63 Q124.334 1301.65 121.256 1304.34 Q118.2 1307.02 112.483 1307.02 Q106.765 1307.02 103.686 1304.34 Q100.631 1301.65 100.631 1296.63 Q100.631 1293.32 102.529 1291.03 Q104.427 1288.73 107.807 1287.95 M106.094 1280.56 Q106.094 1283.25 107.76 1284.75 Q109.45 1286.26 112.483 1286.26 Q115.492 1286.26 117.182 1284.75 Q118.895 1283.25 118.895 1280.56 Q118.895 1277.88 117.182 1276.37 Q115.492 1274.87 112.483 1274.87 Q109.45 1274.87 107.76 1276.37 Q106.094 1277.88 106.094 1280.56 Z\" fill=\"#000000\" fill-rule=\"evenodd\" fill-opacity=\"1\" /><polyline clip-path=\"url(#clip055)\" style=\"stroke:#009af9; stroke-width:4; stroke-opacity:1; fill:none\" points=\"\n",
       "  210.724,1346.06 441.795,1479.68 672.867,1279.81 903.938,1442.53 1135.01,1347.51 1366.08,1356.9 1597.15,1305.59 1828.22,1401.33 2059.3,1415.66 2290.37,1254.01 \n",
       "  \n",
       "  \"/>\n",
       "<path clip-path=\"url(#clip050)\" d=\"\n",
       "M1988.02 1451.72 L2280.76 1451.72 L2280.76 1330.76 L1988.02 1330.76  Z\n",
       "  \" fill=\"#ffffff\" fill-rule=\"evenodd\" fill-opacity=\"1\"/>\n",
       "<polyline clip-path=\"url(#clip050)\" style=\"stroke:#000000; stroke-width:4; stroke-opacity:1; fill:none\" points=\"\n",
       "  1988.02,1451.72 2280.76,1451.72 2280.76,1330.76 1988.02,1330.76 1988.02,1451.72 \n",
       "  \"/>\n",
       "<polyline clip-path=\"url(#clip050)\" style=\"stroke:#009af9; stroke-width:4; stroke-opacity:1; fill:none\" points=\"\n",
       "  2012.02,1391.24 2156.02,1391.24 \n",
       "  \"/>\n",
       "<path clip-path=\"url(#clip050)\" d=\"M 0 0 M2193.87 1410.93 Q2192.06 1415.56 2190.35 1416.97 Q2188.64 1418.39 2185.77 1418.39 L2182.36 1418.39 L2182.36 1414.82 L2184.86 1414.82 Q2186.62 1414.82 2187.59 1413.99 Q2188.57 1413.15 2189.75 1410.05 L2190.51 1408.11 L2180.02 1382.6 L2184.54 1382.6 L2192.64 1402.88 L2200.74 1382.6 L2205.26 1382.6 L2193.87 1410.93 Z\" fill=\"#000000\" fill-rule=\"evenodd\" fill-opacity=\"1\" /><path clip-path=\"url(#clip050)\" d=\"M 0 0 M2223.17 1378.04 L2211.37 1396.49 L2223.17 1396.49 L2223.17 1378.04 M2221.95 1373.96 L2227.83 1373.96 L2227.83 1396.49 L2232.76 1396.49 L2232.76 1400.38 L2227.83 1400.38 L2227.83 1408.52 L2223.17 1408.52 L2223.17 1400.38 L2207.57 1400.38 L2207.57 1395.86 L2221.95 1373.96 Z\" fill=\"#000000\" fill-rule=\"evenodd\" fill-opacity=\"1\" /></svg>\n"
      ]
     },
     "execution_count": 218,
     "metadata": {},
     "output_type": "execute_result"
    }
   ],
   "source": [
    "# command for print multiple plots\n",
    "y = rand(10,4)\n",
    "plot(x,y,layout=(4,1))"
   ]
  },
  {
   "cell_type": "code",
   "execution_count": 219,
   "metadata": {},
   "outputs": [],
   "source": [
    "using CSV"
   ]
  },
  {
   "cell_type": "code",
   "execution_count": 221,
   "metadata": {},
   "outputs": [
    {
     "data": {
      "text/html": [
       "<table class=\"data-frame\"><thead><tr><th></th><th>Student_name</th><th>English</th><th>Math</th><th>Computer</th><th>Science</th></tr><tr><th></th><th>String</th><th>Int64</th><th>Int64</th><th>Int64</th><th>Int64</th></tr></thead><tbody><p>4 rows × 5 columns</p><tr><th>1</th><td>Manik =&gt;</td><td>98</td><td>83</td><td>85</td><td>90</td></tr><tr><th>2</th><td>Rudra =&gt;</td><td>97</td><td>87</td><td>89</td><td>78</td></tr><tr><th>3</th><td>Akshay =&gt;</td><td>99</td><td>87</td><td>66</td><td>86</td></tr><tr><th>4</th><td>vishal =&gt;</td><td>88</td><td>86</td><td>77</td><td>88</td></tr></tbody></table>"
      ],
      "text/latex": [
       "\\begin{tabular}{r|ccccc}\n",
       "\t& Student\\_name & English & Math & Computer & Science\\\\\n",
       "\t\\hline\n",
       "\t& String & Int64 & Int64 & Int64 & Int64\\\\\n",
       "\t\\hline\n",
       "\t1 & Manik => & 98 & 83 & 85 & 90 \\\\\n",
       "\t2 & Rudra => & 97 & 87 & 89 & 78 \\\\\n",
       "\t3 & Akshay => & 99 & 87 & 66 & 86 \\\\\n",
       "\t4 & vishal => & 88 & 86 & 77 & 88 \\\\\n",
       "\\end{tabular}\n"
      ],
      "text/plain": [
       "4×5 DataFrame\n",
       "│ Row │ Student_name │ English │ Math  │ Computer │ Science │\n",
       "│     │ \u001b[90mString\u001b[39m       │ \u001b[90mInt64\u001b[39m   │ \u001b[90mInt64\u001b[39m │ \u001b[90mInt64\u001b[39m    │ \u001b[90mInt64\u001b[39m   │\n",
       "├─────┼──────────────┼─────────┼───────┼──────────┼─────────┤\n",
       "│ 1   │ Manik =>     │ 98      │ 83    │ 85       │ 90      │\n",
       "│ 2   │ Rudra =>     │ 97      │ 87    │ 89       │ 78      │\n",
       "│ 3   │ Akshay =>    │ 99      │ 87    │ 66       │ 86      │\n",
       "│ 4   │ vishal =>    │ 88      │ 86    │ 77       │ 88      │"
      ]
     },
     "execution_count": 221,
     "metadata": {},
     "output_type": "execute_result"
    }
   ],
   "source": [
    "manik = CSV.read(\"manik.csv\",normalizenames = true)"
   ]
  },
  {
   "cell_type": "code",
   "execution_count": 223,
   "metadata": {},
   "outputs": [
    {
     "data": {
      "image/svg+xml": [
       "<?xml version=\"1.0\" encoding=\"utf-8\"?>\n",
       "<svg xmlns=\"http://www.w3.org/2000/svg\" xmlns:xlink=\"http://www.w3.org/1999/xlink\" width=\"600\" height=\"400\" viewBox=\"0 0 2400 1600\">\n",
       "<defs>\n",
       "  <clipPath id=\"clip090\">\n",
       "    <rect x=\"0\" y=\"0\" width=\"2400\" height=\"1600\"/>\n",
       "  </clipPath>\n",
       "</defs>\n",
       "<path clip-path=\"url(#clip090)\" d=\"\n",
       "M0 1600 L2400 1600 L2400 0 L0 0  Z\n",
       "  \" fill=\"#ffffff\" fill-rule=\"evenodd\" fill-opacity=\"1\"/>\n",
       "<defs>\n",
       "  <clipPath id=\"clip091\">\n",
       "    <rect x=\"480\" y=\"0\" width=\"1681\" height=\"1600\"/>\n",
       "  </clipPath>\n",
       "</defs>\n",
       "<path clip-path=\"url(#clip090)\" d=\"\n",
       "M174.816 1486.45 L2352.76 1486.45 L2352.76 47.2441 L174.816 47.2441  Z\n",
       "  \" fill=\"#ffffff\" fill-rule=\"evenodd\" fill-opacity=\"1\"/>\n",
       "<defs>\n",
       "  <clipPath id=\"clip092\">\n",
       "    <rect x=\"174\" y=\"47\" width=\"2179\" height=\"1440\"/>\n",
       "  </clipPath>\n",
       "</defs>\n",
       "<polyline clip-path=\"url(#clip092)\" style=\"stroke:#000000; stroke-width:2; stroke-opacity:0.1; fill:none\" points=\"\n",
       "  236.456,1486.45 236.456,47.2441 \n",
       "  \"/>\n",
       "<polyline clip-path=\"url(#clip092)\" style=\"stroke:#000000; stroke-width:2; stroke-opacity:0.1; fill:none\" points=\"\n",
       "  921.342,1486.45 921.342,47.2441 \n",
       "  \"/>\n",
       "<polyline clip-path=\"url(#clip092)\" style=\"stroke:#000000; stroke-width:2; stroke-opacity:0.1; fill:none\" points=\"\n",
       "  1606.23,1486.45 1606.23,47.2441 \n",
       "  \"/>\n",
       "<polyline clip-path=\"url(#clip092)\" style=\"stroke:#000000; stroke-width:2; stroke-opacity:0.1; fill:none\" points=\"\n",
       "  2291.12,1486.45 2291.12,47.2441 \n",
       "  \"/>\n",
       "<polyline clip-path=\"url(#clip092)\" style=\"stroke:#000000; stroke-width:2; stroke-opacity:0.1; fill:none\" points=\"\n",
       "  174.816,1198.85 2352.76,1198.85 \n",
       "  \"/>\n",
       "<polyline clip-path=\"url(#clip092)\" style=\"stroke:#000000; stroke-width:2; stroke-opacity:0.1; fill:none\" points=\"\n",
       "  174.816,890.277 2352.76,890.277 \n",
       "  \"/>\n",
       "<polyline clip-path=\"url(#clip092)\" style=\"stroke:#000000; stroke-width:2; stroke-opacity:0.1; fill:none\" points=\"\n",
       "  174.816,581.7 2352.76,581.7 \n",
       "  \"/>\n",
       "<polyline clip-path=\"url(#clip092)\" style=\"stroke:#000000; stroke-width:2; stroke-opacity:0.1; fill:none\" points=\"\n",
       "  174.816,273.123 2352.76,273.123 \n",
       "  \"/>\n",
       "<polyline clip-path=\"url(#clip090)\" style=\"stroke:#000000; stroke-width:4; stroke-opacity:1; fill:none\" points=\"\n",
       "  174.816,1486.45 2352.76,1486.45 \n",
       "  \"/>\n",
       "<polyline clip-path=\"url(#clip090)\" style=\"stroke:#000000; stroke-width:4; stroke-opacity:1; fill:none\" points=\"\n",
       "  174.816,1486.45 174.816,47.2441 \n",
       "  \"/>\n",
       "<polyline clip-path=\"url(#clip090)\" style=\"stroke:#000000; stroke-width:4; stroke-opacity:1; fill:none\" points=\"\n",
       "  236.456,1486.45 236.456,1469.18 \n",
       "  \"/>\n",
       "<polyline clip-path=\"url(#clip090)\" style=\"stroke:#000000; stroke-width:4; stroke-opacity:1; fill:none\" points=\"\n",
       "  921.342,1486.45 921.342,1469.18 \n",
       "  \"/>\n",
       "<polyline clip-path=\"url(#clip090)\" style=\"stroke:#000000; stroke-width:4; stroke-opacity:1; fill:none\" points=\"\n",
       "  1606.23,1486.45 1606.23,1469.18 \n",
       "  \"/>\n",
       "<polyline clip-path=\"url(#clip090)\" style=\"stroke:#000000; stroke-width:4; stroke-opacity:1; fill:none\" points=\"\n",
       "  2291.12,1486.45 2291.12,1469.18 \n",
       "  \"/>\n",
       "<polyline clip-path=\"url(#clip090)\" style=\"stroke:#000000; stroke-width:4; stroke-opacity:1; fill:none\" points=\"\n",
       "  174.816,1198.85 200.951,1198.85 \n",
       "  \"/>\n",
       "<polyline clip-path=\"url(#clip090)\" style=\"stroke:#000000; stroke-width:4; stroke-opacity:1; fill:none\" points=\"\n",
       "  174.816,890.277 200.951,890.277 \n",
       "  \"/>\n",
       "<polyline clip-path=\"url(#clip090)\" style=\"stroke:#000000; stroke-width:4; stroke-opacity:1; fill:none\" points=\"\n",
       "  174.816,581.7 200.951,581.7 \n",
       "  \"/>\n",
       "<polyline clip-path=\"url(#clip090)\" style=\"stroke:#000000; stroke-width:4; stroke-opacity:1; fill:none\" points=\"\n",
       "  174.816,273.123 200.951,273.123 \n",
       "  \"/>\n",
       "<path clip-path=\"url(#clip090)\" d=\"M 0 0 M226.838 1535.98 L234.476 1535.98 L234.476 1509.62 L226.166 1511.29 L226.166 1507.03 L234.43 1505.36 L239.106 1505.36 L239.106 1535.98 L246.745 1535.98 L246.745 1539.92 L226.838 1539.92 L226.838 1535.98 Z\" fill=\"#000000\" fill-rule=\"evenodd\" fill-opacity=\"1\" /><path clip-path=\"url(#clip090)\" d=\"M 0 0 M915.995 1535.98 L932.315 1535.98 L932.315 1539.92 L910.37 1539.92 L910.37 1535.98 Q913.032 1533.23 917.616 1528.6 Q922.222 1523.95 923.403 1522.61 Q925.648 1520.08 926.528 1518.35 Q927.43 1516.59 927.43 1514.9 Q927.43 1512.14 925.486 1510.41 Q923.565 1508.67 920.463 1508.67 Q918.264 1508.67 915.81 1509.43 Q913.379 1510.2 910.602 1511.75 L910.602 1507.03 Q913.426 1505.89 915.879 1505.31 Q918.333 1504.73 920.37 1504.73 Q925.741 1504.73 928.935 1507.42 Q932.129 1510.11 932.129 1514.6 Q932.129 1516.73 931.319 1518.65 Q930.532 1520.54 928.426 1523.14 Q927.847 1523.81 924.745 1527.03 Q921.643 1530.22 915.995 1535.98 Z\" fill=\"#000000\" fill-rule=\"evenodd\" fill-opacity=\"1\" /><path clip-path=\"url(#clip090)\" d=\"M 0 0 M1610.48 1521.29 Q1613.83 1522 1615.71 1524.27 Q1617.61 1526.54 1617.61 1529.87 Q1617.61 1534.99 1614.09 1537.79 Q1610.57 1540.59 1604.09 1540.59 Q1601.91 1540.59 1599.6 1540.15 Q1597.31 1539.73 1594.85 1538.88 L1594.85 1534.36 Q1596.8 1535.5 1599.11 1536.08 Q1601.43 1536.66 1603.95 1536.66 Q1608.35 1536.66 1610.64 1534.92 Q1612.95 1533.18 1612.95 1529.87 Q1612.95 1526.82 1610.8 1525.11 Q1608.67 1523.37 1604.85 1523.37 L1600.82 1523.37 L1600.82 1519.53 L1605.04 1519.53 Q1608.49 1519.53 1610.31 1518.16 Q1612.14 1516.77 1612.14 1514.18 Q1612.14 1511.52 1610.25 1510.11 Q1608.37 1508.67 1604.85 1508.67 Q1602.93 1508.67 1600.73 1509.09 Q1598.53 1509.5 1595.89 1510.38 L1595.89 1506.22 Q1598.56 1505.48 1600.87 1505.11 Q1603.21 1504.73 1605.27 1504.73 Q1610.59 1504.73 1613.69 1507.17 Q1616.8 1509.57 1616.8 1513.69 Q1616.8 1516.56 1615.15 1518.55 Q1613.51 1520.52 1610.48 1521.29 Z\" fill=\"#000000\" fill-rule=\"evenodd\" fill-opacity=\"1\" /><path clip-path=\"url(#clip090)\" d=\"M 0 0 M2294.13 1509.43 L2282.32 1527.88 L2294.13 1527.88 L2294.13 1509.43 M2292.9 1505.36 L2298.78 1505.36 L2298.78 1527.88 L2303.71 1527.88 L2303.71 1531.77 L2298.78 1531.77 L2298.78 1539.92 L2294.13 1539.92 L2294.13 1531.77 L2278.52 1531.77 L2278.52 1527.26 L2292.9 1505.36 Z\" fill=\"#000000\" fill-rule=\"evenodd\" fill-opacity=\"1\" /><path clip-path=\"url(#clip090)\" d=\"M 0 0 M65.2143 1215.42 L65.2143 1211.16 Q66.9736 1211.99 68.7791 1212.43 Q70.5847 1212.87 72.3208 1212.87 Q76.9504 1212.87 79.3809 1209.77 Q81.8346 1206.64 82.1818 1200.3 Q80.8393 1202.29 78.7791 1203.36 Q76.7189 1204.42 74.2189 1204.42 Q69.0338 1204.42 66.0014 1201.3 Q62.9921 1198.15 62.9921 1192.71 Q62.9921 1187.38 66.1403 1184.17 Q69.2884 1180.95 74.5198 1180.95 Q80.5152 1180.95 83.6633 1185.56 Q86.8346 1190.14 86.8346 1198.89 Q86.8346 1207.06 82.9457 1211.94 Q79.08 1216.81 72.5291 1216.81 Q70.7699 1216.81 68.9643 1216.46 Q67.1588 1216.11 65.2143 1215.42 M74.5198 1200.76 Q77.668 1200.76 79.4967 1198.61 Q81.3485 1196.46 81.3485 1192.71 Q81.3485 1188.98 79.4967 1186.83 Q77.668 1184.65 74.5198 1184.65 Q71.3717 1184.65 69.5199 1186.83 Q67.6912 1188.98 67.6912 1192.71 Q67.6912 1196.46 69.5199 1198.61 Q71.3717 1200.76 74.5198 1200.76 Z\" fill=\"#000000\" fill-rule=\"evenodd\" fill-opacity=\"1\" /><path clip-path=\"url(#clip090)\" d=\"M 0 0 M101.904 1184.65 Q98.2929 1184.65 96.4642 1188.22 Q94.6586 1191.76 94.6586 1198.89 Q94.6586 1206 96.4642 1209.56 Q98.2929 1213.1 101.904 1213.1 Q105.538 1213.1 107.344 1209.56 Q109.172 1206 109.172 1198.89 Q109.172 1191.76 107.344 1188.22 Q105.538 1184.65 101.904 1184.65 M101.904 1180.95 Q107.714 1180.95 110.77 1185.56 Q113.848 1190.14 113.848 1198.89 Q113.848 1207.62 110.77 1212.22 Q107.714 1216.81 101.904 1216.81 Q96.0938 1216.81 93.0151 1212.22 Q89.9596 1207.62 89.9596 1198.89 Q89.9596 1190.14 93.0151 1185.56 Q96.0938 1180.95 101.904 1180.95 Z\" fill=\"#000000\" fill-rule=\"evenodd\" fill-opacity=\"1\" /><path clip-path=\"url(#clip090)\" d=\"M 0 0 M118.918 1210.25 L123.802 1210.25 L123.802 1216.13 L118.918 1216.13 L118.918 1210.25 Z\" fill=\"#000000\" fill-rule=\"evenodd\" fill-opacity=\"1\" /><path clip-path=\"url(#clip090)\" d=\"M 0 0 M138.871 1184.65 Q135.26 1184.65 133.432 1188.22 Q131.626 1191.76 131.626 1198.89 Q131.626 1206 133.432 1209.56 Q135.26 1213.1 138.871 1213.1 Q142.506 1213.1 144.311 1209.56 Q146.14 1206 146.14 1198.89 Q146.14 1191.76 144.311 1188.22 Q142.506 1184.65 138.871 1184.65 M138.871 1180.95 Q144.682 1180.95 147.737 1185.56 Q150.816 1190.14 150.816 1198.89 Q150.816 1207.62 147.737 1212.22 Q144.682 1216.81 138.871 1216.81 Q133.061 1216.81 129.983 1212.22 Q126.927 1207.62 126.927 1198.89 Q126.927 1190.14 129.983 1185.56 Q133.061 1180.95 138.871 1180.95 Z\" fill=\"#000000\" fill-rule=\"evenodd\" fill-opacity=\"1\" /><path clip-path=\"url(#clip090)\" d=\"M 0 0 M67.8069 906.839 L67.8069 902.58 Q69.5662 903.413 71.3717 903.853 Q73.1773 904.293 74.9134 904.293 Q79.543 904.293 81.9735 901.191 Q84.4272 898.066 84.7744 891.724 Q83.4318 893.714 81.3717 894.779 Q79.3115 895.844 76.8115 895.844 Q71.6263 895.844 68.5939 892.719 Q65.5847 889.571 65.5847 884.131 Q65.5847 878.807 68.7328 875.589 Q71.881 872.372 77.1124 872.372 Q83.1078 872.372 86.2559 876.978 Q89.4272 881.562 89.4272 890.312 Q89.4272 898.483 85.5383 903.367 Q81.6726 908.228 75.1217 908.228 Q73.3624 908.228 71.5569 907.881 Q69.7513 907.534 67.8069 906.839 M77.1124 892.187 Q80.2606 892.187 82.0892 890.034 Q83.9411 887.881 83.9411 884.131 Q83.9411 880.404 82.0892 878.251 Q80.2606 876.076 77.1124 876.076 Q73.9643 876.076 72.1124 878.251 Q70.2838 880.404 70.2838 884.131 Q70.2838 887.881 72.1124 890.034 Q73.9643 892.187 77.1124 892.187 Z\" fill=\"#000000\" fill-rule=\"evenodd\" fill-opacity=\"1\" /><path clip-path=\"url(#clip090)\" d=\"M 0 0 M98.5243 903.622 L114.844 903.622 L114.844 907.557 L92.8994 907.557 L92.8994 903.622 Q95.5614 900.867 100.145 896.237 Q104.751 891.585 105.932 890.242 Q108.177 887.719 109.057 885.983 Q109.959 884.224 109.959 882.534 Q109.959 879.779 108.015 878.043 Q106.094 876.307 102.992 876.307 Q100.793 876.307 98.3392 877.071 Q95.9086 877.835 93.1309 879.386 L93.1309 874.663 Q95.9549 873.529 98.4086 872.951 Q100.862 872.372 102.899 872.372 Q108.27 872.372 111.464 875.057 Q114.659 877.742 114.659 882.233 Q114.659 884.363 113.848 886.284 Q113.061 888.182 110.955 890.775 Q110.376 891.446 107.274 894.663 Q104.172 897.858 98.5243 903.622 Z\" fill=\"#000000\" fill-rule=\"evenodd\" fill-opacity=\"1\" /><path clip-path=\"url(#clip090)\" d=\"M 0 0 M119.913 901.677 L124.797 901.677 L124.797 907.557 L119.913 907.557 L119.913 901.677 Z\" fill=\"#000000\" fill-rule=\"evenodd\" fill-opacity=\"1\" /><path clip-path=\"url(#clip090)\" d=\"M 0 0 M129.913 872.997 L148.269 872.997 L148.269 876.932 L134.195 876.932 L134.195 885.404 Q135.214 885.057 136.232 884.895 Q137.251 884.71 138.27 884.71 Q144.057 884.71 147.436 887.881 Q150.816 891.052 150.816 896.469 Q150.816 902.048 147.344 905.149 Q143.871 908.228 137.552 908.228 Q135.376 908.228 133.107 907.858 Q130.862 907.487 128.455 906.747 L128.455 902.048 Q130.538 903.182 132.76 903.737 Q134.982 904.293 137.459 904.293 Q141.464 904.293 143.802 902.186 Q146.14 900.08 146.14 896.469 Q146.14 892.858 143.802 890.751 Q141.464 888.645 137.459 888.645 Q135.584 888.645 133.709 889.062 Q131.857 889.478 129.913 890.358 L129.913 872.997 Z\" fill=\"#000000\" fill-rule=\"evenodd\" fill-opacity=\"1\" /><path clip-path=\"url(#clip090)\" d=\"M 0 0 M66.2097 598.262 L66.2097 594.003 Q67.969 594.836 69.7745 595.276 Q71.58 595.716 73.3161 595.716 Q77.9457 595.716 80.3763 592.614 Q82.83 589.489 83.1772 583.146 Q81.8346 585.137 79.7744 586.202 Q77.7143 587.267 75.2143 587.267 Q70.0291 587.267 66.9967 584.142 Q63.9875 580.994 63.9875 575.554 Q63.9875 570.23 67.1356 567.012 Q70.2838 563.795 75.5152 563.795 Q81.5105 563.795 84.6587 568.401 Q87.83 572.984 87.83 581.734 Q87.83 589.906 83.9411 594.79 Q80.0754 599.651 73.5245 599.651 Q71.7652 599.651 69.9597 599.304 Q68.1541 598.957 66.2097 598.262 M75.5152 583.609 Q78.6633 583.609 80.492 581.457 Q82.3439 579.304 82.3439 575.554 Q82.3439 571.827 80.492 569.674 Q78.6633 567.498 75.5152 567.498 Q72.3671 567.498 70.5152 569.674 Q68.6865 571.827 68.6865 575.554 Q68.6865 579.304 70.5152 581.457 Q72.3671 583.609 75.5152 583.609 Z\" fill=\"#000000\" fill-rule=\"evenodd\" fill-opacity=\"1\" /><path clip-path=\"url(#clip090)\" d=\"M 0 0 M92.9457 564.42 L111.302 564.42 L111.302 568.355 L97.2281 568.355 L97.2281 576.827 Q98.2466 576.48 99.2651 576.318 Q100.284 576.133 101.302 576.133 Q107.089 576.133 110.469 579.304 Q113.848 582.475 113.848 587.892 Q113.848 593.47 110.376 596.572 Q106.904 599.651 100.585 599.651 Q98.4086 599.651 96.1401 599.281 Q93.8947 598.91 91.4873 598.17 L91.4873 593.47 Q93.5707 594.605 95.7929 595.16 Q98.0151 595.716 100.492 595.716 Q104.497 595.716 106.834 593.609 Q109.172 591.503 109.172 587.892 Q109.172 584.281 106.834 582.174 Q104.497 580.068 100.492 580.068 Q98.6169 580.068 96.7419 580.484 Q94.8901 580.901 92.9457 581.781 L92.9457 564.42 Z\" fill=\"#000000\" fill-rule=\"evenodd\" fill-opacity=\"1\" /><path clip-path=\"url(#clip090)\" d=\"M 0 0 M118.918 593.1 L123.802 593.1 L123.802 598.98 L118.918 598.98 L118.918 593.1 Z\" fill=\"#000000\" fill-rule=\"evenodd\" fill-opacity=\"1\" /><path clip-path=\"url(#clip090)\" d=\"M 0 0 M138.871 567.498 Q135.26 567.498 133.432 571.063 Q131.626 574.605 131.626 581.734 Q131.626 588.841 133.432 592.406 Q135.26 595.947 138.871 595.947 Q142.506 595.947 144.311 592.406 Q146.14 588.841 146.14 581.734 Q146.14 574.605 144.311 571.063 Q142.506 567.498 138.871 567.498 M138.871 563.795 Q144.682 563.795 147.737 568.401 Q150.816 572.984 150.816 581.734 Q150.816 590.461 147.737 595.068 Q144.682 599.651 138.871 599.651 Q133.061 599.651 129.983 595.068 Q126.927 590.461 126.927 581.734 Q126.927 572.984 129.983 568.401 Q133.061 563.795 138.871 563.795 Z\" fill=\"#000000\" fill-rule=\"evenodd\" fill-opacity=\"1\" /><path clip-path=\"url(#clip090)\" d=\"M 0 0 M67.1125 289.685 L67.1125 285.426 Q68.8717 286.259 70.6773 286.699 Q72.4828 287.139 74.2189 287.139 Q78.8485 287.139 81.2791 284.037 Q83.7328 280.912 84.08 274.569 Q82.7374 276.56 80.6772 277.625 Q78.617 278.69 76.1171 278.69 Q70.9319 278.69 67.8995 275.565 Q64.8903 272.417 64.8903 266.977 Q64.8903 261.653 68.0384 258.435 Q71.1865 255.218 76.418 255.218 Q82.4133 255.218 85.5614 259.824 Q88.7327 264.407 88.7327 273.157 Q88.7327 281.329 84.8439 286.213 Q80.9781 291.074 74.4272 291.074 Q72.668 291.074 70.8625 290.727 Q69.0569 290.379 67.1125 289.685 M76.418 275.032 Q79.5661 275.032 81.3948 272.88 Q83.2466 270.727 83.2466 266.977 Q83.2466 263.25 81.3948 261.097 Q79.5661 258.921 76.418 258.921 Q73.2698 258.921 71.418 261.097 Q69.5893 263.25 69.5893 266.977 Q69.5893 270.727 71.418 272.88 Q73.2698 275.032 76.418 275.032 Z\" fill=\"#000000\" fill-rule=\"evenodd\" fill-opacity=\"1\" /><path clip-path=\"url(#clip090)\" d=\"M 0 0 M92.6216 255.843 L114.844 255.843 L114.844 257.833 L102.297 290.403 L97.4132 290.403 L109.219 259.778 L92.6216 259.778 L92.6216 255.843 Z\" fill=\"#000000\" fill-rule=\"evenodd\" fill-opacity=\"1\" /><path clip-path=\"url(#clip090)\" d=\"M 0 0 M119.913 284.523 L124.797 284.523 L124.797 290.403 L119.913 290.403 L119.913 284.523 Z\" fill=\"#000000\" fill-rule=\"evenodd\" fill-opacity=\"1\" /><path clip-path=\"url(#clip090)\" d=\"M 0 0 M129.913 255.843 L148.269 255.843 L148.269 259.778 L134.195 259.778 L134.195 268.25 Q135.214 267.903 136.232 267.741 Q137.251 267.555 138.27 267.555 Q144.057 267.555 147.436 270.727 Q150.816 273.898 150.816 279.315 Q150.816 284.893 147.344 287.995 Q143.871 291.074 137.552 291.074 Q135.376 291.074 133.107 290.703 Q130.862 290.333 128.455 289.592 L128.455 284.893 Q130.538 286.028 132.76 286.583 Q134.982 287.139 137.459 287.139 Q141.464 287.139 143.802 285.032 Q146.14 282.926 146.14 279.315 Q146.14 275.704 143.802 273.597 Q141.464 271.491 137.459 271.491 Q135.584 271.491 133.709 271.907 Q131.857 272.324 129.913 273.204 L129.913 255.843 Z\" fill=\"#000000\" fill-rule=\"evenodd\" fill-opacity=\"1\" /><polyline clip-path=\"url(#clip092)\" style=\"stroke:#009af9; stroke-width:4; stroke-opacity:1; fill:none\" points=\"\n",
       "  236.456,211.407 921.342,334.838 1606.23,87.9763 2291.12,1445.72 \n",
       "  \"/>\n",
       "<path clip-path=\"url(#clip090)\" d=\"\n",
       "M1989.74 251.724 L2280.76 251.724 L2280.76 130.764 L1989.74 130.764  Z\n",
       "  \" fill=\"#ffffff\" fill-rule=\"evenodd\" fill-opacity=\"1\"/>\n",
       "<polyline clip-path=\"url(#clip090)\" style=\"stroke:#000000; stroke-width:4; stroke-opacity:1; fill:none\" points=\"\n",
       "  1989.74,251.724 2280.76,251.724 2280.76,130.764 1989.74,130.764 1989.74,251.724 \n",
       "  \"/>\n",
       "<polyline clip-path=\"url(#clip090)\" style=\"stroke:#009af9; stroke-width:4; stroke-opacity:1; fill:none\" points=\"\n",
       "  2013.74,191.244 2157.74,191.244 \n",
       "  \"/>\n",
       "<path clip-path=\"url(#clip090)\" d=\"M 0 0 M2195.58 210.931 Q2193.77 215.561 2192.06 216.973 Q2190.35 218.385 2187.48 218.385 L2184.08 218.385 L2184.08 214.82 L2186.58 214.82 Q2188.33 214.82 2189.31 213.987 Q2190.28 213.154 2191.46 210.052 L2192.22 208.107 L2181.74 182.598 L2186.25 182.598 L2194.35 202.876 L2202.46 182.598 L2206.97 182.598 L2195.58 210.931 Z\" fill=\"#000000\" fill-rule=\"evenodd\" fill-opacity=\"1\" /><path clip-path=\"url(#clip090)\" d=\"M 0 0 M2212.85 204.589 L2220.49 204.589 L2220.49 178.223 L2212.18 179.89 L2212.18 175.631 L2220.44 173.964 L2225.12 173.964 L2225.12 204.589 L2232.76 204.589 L2232.76 208.524 L2212.85 208.524 L2212.85 204.589 Z\" fill=\"#000000\" fill-rule=\"evenodd\" fill-opacity=\"1\" /></svg>\n"
      ]
     },
     "execution_count": 223,
     "metadata": {},
     "output_type": "execute_result"
    }
   ],
   "source": [
    "# command for show csv file in line plot or line graph\n",
    "plot(manik.English)"
   ]
  },
  {
   "cell_type": "code",
   "execution_count": 232,
   "metadata": {},
   "outputs": [
    {
     "data": {
      "image/svg+xml": [
       "<?xml version=\"1.0\" encoding=\"utf-8\"?>\n",
       "<svg xmlns=\"http://www.w3.org/2000/svg\" xmlns:xlink=\"http://www.w3.org/1999/xlink\" width=\"600\" height=\"400\" viewBox=\"0 0 2400 1600\">\n",
       "<defs>\n",
       "  <clipPath id=\"clip170\">\n",
       "    <rect x=\"0\" y=\"0\" width=\"2400\" height=\"1600\"/>\n",
       "  </clipPath>\n",
       "</defs>\n",
       "<path clip-path=\"url(#clip170)\" d=\"\n",
       "M0 1600 L2400 1600 L2400 0 L0 0  Z\n",
       "  \" fill=\"#ffffff\" fill-rule=\"evenodd\" fill-opacity=\"1\"/>\n",
       "<defs>\n",
       "  <clipPath id=\"clip171\">\n",
       "    <rect x=\"480\" y=\"0\" width=\"1681\" height=\"1600\"/>\n",
       "  </clipPath>\n",
       "</defs>\n",
       "<path clip-path=\"url(#clip170)\" d=\"\n",
       "M139.191 1486.45 L2352.76 1486.45 L2352.76 47.2441 L139.191 47.2441  Z\n",
       "  \" fill=\"#ffffff\" fill-rule=\"evenodd\" fill-opacity=\"1\"/>\n",
       "<defs>\n",
       "  <clipPath id=\"clip172\">\n",
       "    <rect x=\"139\" y=\"47\" width=\"2215\" height=\"1440\"/>\n",
       "  </clipPath>\n",
       "</defs>\n",
       "<polyline clip-path=\"url(#clip172)\" style=\"stroke:#000000; stroke-width:2; stroke-opacity:0.1; fill:none\" points=\"\n",
       "  468.316,1486.45 468.316,47.2441 \n",
       "  \"/>\n",
       "<polyline clip-path=\"url(#clip172)\" style=\"stroke:#000000; stroke-width:2; stroke-opacity:0.1; fill:none\" points=\"\n",
       "  986.754,1486.45 986.754,47.2441 \n",
       "  \"/>\n",
       "<polyline clip-path=\"url(#clip172)\" style=\"stroke:#000000; stroke-width:2; stroke-opacity:0.1; fill:none\" points=\"\n",
       "  1505.19,1486.45 1505.19,47.2441 \n",
       "  \"/>\n",
       "<polyline clip-path=\"url(#clip172)\" style=\"stroke:#000000; stroke-width:2; stroke-opacity:0.1; fill:none\" points=\"\n",
       "  2023.63,1486.45 2023.63,47.2441 \n",
       "  \"/>\n",
       "<polyline clip-path=\"url(#clip172)\" style=\"stroke:#000000; stroke-width:2; stroke-opacity:0.1; fill:none\" points=\"\n",
       "  139.191,1445.72 2352.76,1445.72 \n",
       "  \"/>\n",
       "<polyline clip-path=\"url(#clip172)\" style=\"stroke:#000000; stroke-width:2; stroke-opacity:0.1; fill:none\" points=\"\n",
       "  139.191,1133.59 2352.76,1133.59 \n",
       "  \"/>\n",
       "<polyline clip-path=\"url(#clip172)\" style=\"stroke:#000000; stroke-width:2; stroke-opacity:0.1; fill:none\" points=\"\n",
       "  139.191,821.468 2352.76,821.468 \n",
       "  \"/>\n",
       "<polyline clip-path=\"url(#clip172)\" style=\"stroke:#000000; stroke-width:2; stroke-opacity:0.1; fill:none\" points=\"\n",
       "  139.191,509.344 2352.76,509.344 \n",
       "  \"/>\n",
       "<polyline clip-path=\"url(#clip172)\" style=\"stroke:#000000; stroke-width:2; stroke-opacity:0.1; fill:none\" points=\"\n",
       "  139.191,197.22 2352.76,197.22 \n",
       "  \"/>\n",
       "<polyline clip-path=\"url(#clip170)\" style=\"stroke:#000000; stroke-width:4; stroke-opacity:1; fill:none\" points=\"\n",
       "  139.191,1486.45 2352.76,1486.45 \n",
       "  \"/>\n",
       "<polyline clip-path=\"url(#clip170)\" style=\"stroke:#000000; stroke-width:4; stroke-opacity:1; fill:none\" points=\"\n",
       "  139.191,1486.45 139.191,47.2441 \n",
       "  \"/>\n",
       "<polyline clip-path=\"url(#clip170)\" style=\"stroke:#000000; stroke-width:4; stroke-opacity:1; fill:none\" points=\"\n",
       "  468.316,1486.45 468.316,1469.18 \n",
       "  \"/>\n",
       "<polyline clip-path=\"url(#clip170)\" style=\"stroke:#000000; stroke-width:4; stroke-opacity:1; fill:none\" points=\"\n",
       "  986.754,1486.45 986.754,1469.18 \n",
       "  \"/>\n",
       "<polyline clip-path=\"url(#clip170)\" style=\"stroke:#000000; stroke-width:4; stroke-opacity:1; fill:none\" points=\"\n",
       "  1505.19,1486.45 1505.19,1469.18 \n",
       "  \"/>\n",
       "<polyline clip-path=\"url(#clip170)\" style=\"stroke:#000000; stroke-width:4; stroke-opacity:1; fill:none\" points=\"\n",
       "  2023.63,1486.45 2023.63,1469.18 \n",
       "  \"/>\n",
       "<polyline clip-path=\"url(#clip170)\" style=\"stroke:#000000; stroke-width:4; stroke-opacity:1; fill:none\" points=\"\n",
       "  139.191,1445.72 165.754,1445.72 \n",
       "  \"/>\n",
       "<polyline clip-path=\"url(#clip170)\" style=\"stroke:#000000; stroke-width:4; stroke-opacity:1; fill:none\" points=\"\n",
       "  139.191,1133.59 165.754,1133.59 \n",
       "  \"/>\n",
       "<polyline clip-path=\"url(#clip170)\" style=\"stroke:#000000; stroke-width:4; stroke-opacity:1; fill:none\" points=\"\n",
       "  139.191,821.468 165.754,821.468 \n",
       "  \"/>\n",
       "<polyline clip-path=\"url(#clip170)\" style=\"stroke:#000000; stroke-width:4; stroke-opacity:1; fill:none\" points=\"\n",
       "  139.191,509.344 165.754,509.344 \n",
       "  \"/>\n",
       "<polyline clip-path=\"url(#clip170)\" style=\"stroke:#000000; stroke-width:4; stroke-opacity:1; fill:none\" points=\"\n",
       "  139.191,197.22 165.754,197.22 \n",
       "  \"/>\n",
       "<path clip-path=\"url(#clip170)\" d=\"M 0 0 M366.87 1505.36 L373.838 1505.36 L382.657 1528.88 L391.523 1505.36 L398.49 1505.36 L398.49 1539.92 L393.93 1539.92 L393.93 1509.57 L385.018 1533.28 L380.319 1533.28 L371.407 1509.57 L371.407 1539.92 L366.87 1539.92 L366.87 1505.36 Z\" fill=\"#000000\" fill-rule=\"evenodd\" fill-opacity=\"1\" /><path clip-path=\"url(#clip170)\" d=\"M 0 0 M414.74 1526.89 Q409.578 1526.89 407.587 1528.07 Q405.597 1529.25 405.597 1532.1 Q405.597 1534.36 407.078 1535.71 Q408.583 1537.03 411.152 1537.03 Q414.694 1537.03 416.823 1534.53 Q418.976 1532 418.976 1527.84 L418.976 1526.89 L414.74 1526.89 M423.235 1525.13 L423.235 1539.92 L418.976 1539.92 L418.976 1535.98 Q417.518 1538.35 415.342 1539.48 Q413.166 1540.59 410.018 1540.59 Q406.036 1540.59 403.675 1538.37 Q401.337 1536.12 401.337 1532.37 Q401.337 1528 404.254 1525.78 Q407.194 1523.55 413.004 1523.55 L418.976 1523.55 L418.976 1523.14 Q418.976 1520.2 417.032 1518.6 Q415.11 1516.98 411.615 1516.98 Q409.393 1516.98 407.286 1517.51 Q405.18 1518.04 403.236 1519.11 L403.236 1515.17 Q405.573 1514.27 407.773 1513.83 Q409.972 1513.37 412.055 1513.37 Q417.68 1513.37 420.458 1516.29 Q423.235 1519.2 423.235 1525.13 Z\" fill=\"#000000\" fill-rule=\"evenodd\" fill-opacity=\"1\" /><path clip-path=\"url(#clip170)\" d=\"M 0 0 M449.254 1524.27 L449.254 1539.92 L444.995 1539.92 L444.995 1524.41 Q444.995 1520.73 443.559 1518.9 Q442.124 1517.07 439.254 1517.07 Q435.805 1517.07 433.814 1519.27 Q431.823 1521.47 431.823 1525.27 L431.823 1539.92 L427.541 1539.92 L427.541 1513.99 L431.823 1513.99 L431.823 1518.02 Q433.351 1515.68 435.411 1514.53 Q437.495 1513.37 440.203 1513.37 Q444.67 1513.37 446.962 1516.15 Q449.254 1518.9 449.254 1524.27 Z\" fill=\"#000000\" fill-rule=\"evenodd\" fill-opacity=\"1\" /><path clip-path=\"url(#clip170)\" d=\"M 0 0 M453.721 1513.99 L457.981 1513.99 L457.981 1539.92 L453.721 1539.92 L453.721 1513.99 M453.721 1503.9 L457.981 1503.9 L457.981 1509.3 L453.721 1509.3 L453.721 1503.9 Z\" fill=\"#000000\" fill-rule=\"evenodd\" fill-opacity=\"1\" /><path clip-path=\"url(#clip170)\" d=\"M 0 0 M462.286 1503.9 L466.569 1503.9 L466.569 1525.17 L479.277 1513.99 L484.717 1513.99 L470.967 1526.12 L485.295 1539.92 L479.74 1539.92 L466.569 1527.26 L466.569 1539.92 L462.286 1539.92 L462.286 1503.9 Z\" fill=\"#000000\" fill-rule=\"evenodd\" fill-opacity=\"1\" /><path clip-path=\"url(#clip170)\" d=\"M 0 0 M505.388 1518.39 L535.064 1518.39 L535.064 1522.28 L505.388 1522.28 L505.388 1518.39 M505.388 1527.84 L535.064 1527.84 L535.064 1531.77 L505.388 1531.77 L505.388 1527.84 Z\" fill=\"#000000\" fill-rule=\"evenodd\" fill-opacity=\"1\" /><path clip-path=\"url(#clip170)\" d=\"M 0 0 M540.087 1516.59 L540.087 1512.37 L569.762 1523.14 L569.762 1526.98 L540.087 1537.74 L540.087 1533.53 L563.929 1525.08 L540.087 1516.59 Z\" fill=\"#000000\" fill-rule=\"evenodd\" fill-opacity=\"1\" /><path clip-path=\"url(#clip170)\" d=\"M 0 0 M900.632 1523.72 Q902.137 1524.23 903.549 1525.89 Q904.984 1527.56 906.419 1530.48 L911.164 1539.92 L906.141 1539.92 L901.72 1531.05 Q900.007 1527.58 898.387 1526.45 Q896.79 1525.31 894.012 1525.31 L888.919 1525.31 L888.919 1539.92 L884.243 1539.92 L884.243 1505.36 L894.799 1505.36 Q900.725 1505.36 903.641 1507.84 Q906.558 1510.31 906.558 1515.31 Q906.558 1518.58 905.03 1520.73 Q903.526 1522.88 900.632 1523.72 M888.919 1509.2 L888.919 1521.47 L894.799 1521.47 Q898.178 1521.47 899.891 1519.92 Q901.627 1518.35 901.627 1515.31 Q901.627 1512.28 899.891 1510.75 Q898.178 1509.2 894.799 1509.2 L888.919 1509.2 Z\" fill=\"#000000\" fill-rule=\"evenodd\" fill-opacity=\"1\" /><path clip-path=\"url(#clip170)\" d=\"M 0 0 M913.063 1529.69 L913.063 1513.99 L917.322 1513.99 L917.322 1529.53 Q917.322 1533.21 918.757 1535.06 Q920.192 1536.89 923.063 1536.89 Q926.512 1536.89 928.502 1534.69 Q930.516 1532.49 930.516 1528.69 L930.516 1513.99 L934.775 1513.99 L934.775 1539.92 L930.516 1539.92 L930.516 1535.94 Q928.965 1538.3 926.905 1539.46 Q924.868 1540.59 922.16 1540.59 Q917.692 1540.59 915.377 1537.81 Q913.063 1535.04 913.063 1529.69 M923.78 1513.37 L923.78 1513.37 Z\" fill=\"#000000\" fill-rule=\"evenodd\" fill-opacity=\"1\" /><path clip-path=\"url(#clip170)\" d=\"M 0 0 M956.303 1517.93 L956.303 1503.9 L960.562 1503.9 L960.562 1539.92 L956.303 1539.92 L956.303 1536.03 Q954.961 1538.35 952.9 1539.48 Q950.863 1540.59 947.993 1540.59 Q943.294 1540.59 940.331 1536.84 Q937.391 1533.09 937.391 1526.98 Q937.391 1520.87 940.331 1517.12 Q943.294 1513.37 947.993 1513.37 Q950.863 1513.37 952.9 1514.5 Q954.961 1515.61 956.303 1517.93 M941.789 1526.98 Q941.789 1531.68 943.711 1534.36 Q945.655 1537.03 949.035 1537.03 Q952.414 1537.03 954.359 1534.36 Q956.303 1531.68 956.303 1526.98 Q956.303 1522.28 954.359 1519.62 Q952.414 1516.93 949.035 1516.93 Q945.655 1516.93 943.711 1519.62 Q941.789 1522.28 941.789 1526.98 Z\" fill=\"#000000\" fill-rule=\"evenodd\" fill-opacity=\"1\" /><path clip-path=\"url(#clip170)\" d=\"M 0 0 M980.053 1517.98 Q979.335 1517.56 978.479 1517.37 Q977.646 1517.17 976.627 1517.17 Q973.016 1517.17 971.072 1519.53 Q969.15 1521.86 969.15 1526.26 L969.15 1539.92 L964.868 1539.92 L964.868 1513.99 L969.15 1513.99 L969.15 1518.02 Q970.493 1515.66 972.646 1514.53 Q974.798 1513.37 977.877 1513.37 Q978.317 1513.37 978.849 1513.44 Q979.382 1513.48 980.03 1513.6 L980.053 1517.98 Z\" fill=\"#000000\" fill-rule=\"evenodd\" fill-opacity=\"1\" /><path clip-path=\"url(#clip170)\" d=\"M 0 0 M996.303 1526.89 Q991.141 1526.89 989.15 1528.07 Q987.159 1529.25 987.159 1532.1 Q987.159 1534.36 988.641 1535.71 Q990.146 1537.03 992.715 1537.03 Q996.257 1537.03 998.386 1534.53 Q1000.54 1532 1000.54 1527.84 L1000.54 1526.89 L996.303 1526.89 M1004.8 1525.13 L1004.8 1539.92 L1000.54 1539.92 L1000.54 1535.98 Q999.081 1538.35 996.905 1539.48 Q994.729 1540.59 991.581 1540.59 Q987.599 1540.59 985.238 1538.37 Q982.9 1536.12 982.9 1532.37 Q982.9 1528 985.817 1525.78 Q988.757 1523.55 994.567 1523.55 L1000.54 1523.55 L1000.54 1523.14 Q1000.54 1520.2 998.595 1518.6 Q996.673 1516.98 993.178 1516.98 Q990.956 1516.98 988.849 1517.51 Q986.743 1518.04 984.798 1519.11 L984.798 1515.17 Q987.136 1514.27 989.335 1513.83 Q991.534 1513.37 993.618 1513.37 Q999.243 1513.37 1002.02 1516.29 Q1004.8 1519.2 1004.8 1525.13 Z\" fill=\"#000000\" fill-rule=\"evenodd\" fill-opacity=\"1\" /><path clip-path=\"url(#clip170)\" d=\"M 0 0 M1024.89 1518.39 L1054.57 1518.39 L1054.57 1522.28 L1024.89 1522.28 L1024.89 1518.39 M1024.89 1527.84 L1054.57 1527.84 L1054.57 1531.77 L1024.89 1531.77 L1024.89 1527.84 Z\" fill=\"#000000\" fill-rule=\"evenodd\" fill-opacity=\"1\" /><path clip-path=\"url(#clip170)\" d=\"M 0 0 M1059.59 1516.59 L1059.59 1512.37 L1089.27 1523.14 L1089.27 1526.98 L1059.59 1537.74 L1059.59 1533.53 L1083.43 1525.08 L1059.59 1516.59 Z\" fill=\"#000000\" fill-rule=\"evenodd\" fill-opacity=\"1\" /><path clip-path=\"url(#clip170)\" d=\"M 0 0 M1399.41 1509.97 L1393.06 1527.17 L1405.77 1527.17 L1399.41 1509.97 M1396.77 1505.36 L1402.07 1505.36 L1415.24 1539.92 L1410.38 1539.92 L1407.23 1531.05 L1391.65 1531.05 L1388.5 1539.92 L1383.57 1539.92 L1396.77 1505.36 Z\" fill=\"#000000\" fill-rule=\"evenodd\" fill-opacity=\"1\" /><path clip-path=\"url(#clip170)\" d=\"M 0 0 M1419.54 1503.9 L1423.83 1503.9 L1423.83 1525.17 L1436.54 1513.99 L1441.98 1513.99 L1428.23 1526.12 L1442.55 1539.92 L1437 1539.92 L1423.83 1527.26 L1423.83 1539.92 L1419.54 1539.92 L1419.54 1503.9 Z\" fill=\"#000000\" fill-rule=\"evenodd\" fill-opacity=\"1\" /><path clip-path=\"url(#clip170)\" d=\"M 0 0 M1463.55 1514.76 L1463.55 1518.79 Q1461.74 1517.86 1459.8 1517.4 Q1457.85 1516.93 1455.77 1516.93 Q1452.6 1516.93 1451 1517.91 Q1449.43 1518.88 1449.43 1520.82 Q1449.43 1522.3 1450.56 1523.16 Q1451.7 1523.99 1455.12 1524.76 L1456.58 1525.08 Q1461.12 1526.05 1463.02 1527.84 Q1464.94 1529.6 1464.94 1532.77 Q1464.94 1536.38 1462.07 1538.48 Q1459.22 1540.59 1454.22 1540.59 Q1452.14 1540.59 1449.87 1540.17 Q1447.62 1539.78 1445.12 1538.97 L1445.12 1534.57 Q1447.48 1535.8 1449.78 1536.42 Q1452.07 1537.03 1454.31 1537.03 Q1457.32 1537.03 1458.94 1536.01 Q1460.56 1534.97 1460.56 1533.09 Q1460.56 1531.36 1459.38 1530.43 Q1458.23 1529.5 1454.27 1528.65 L1452.79 1528.3 Q1448.83 1527.47 1447.07 1525.75 Q1445.31 1524.02 1445.31 1521.01 Q1445.31 1517.35 1447.9 1515.36 Q1450.49 1513.37 1455.26 1513.37 Q1457.62 1513.37 1459.71 1513.72 Q1461.79 1514.06 1463.55 1514.76 Z\" fill=\"#000000\" fill-rule=\"evenodd\" fill-opacity=\"1\" /><path clip-path=\"url(#clip170)\" d=\"M 0 0 M1490.96 1524.27 L1490.96 1539.92 L1486.7 1539.92 L1486.7 1524.41 Q1486.7 1520.73 1485.26 1518.9 Q1483.83 1517.07 1480.96 1517.07 Q1477.51 1517.07 1475.52 1519.27 Q1473.53 1521.47 1473.53 1525.27 L1473.53 1539.92 L1469.24 1539.92 L1469.24 1503.9 L1473.53 1503.9 L1473.53 1518.02 Q1475.05 1515.68 1477.11 1514.53 Q1479.2 1513.37 1481.91 1513.37 Q1486.37 1513.37 1488.66 1516.15 Q1490.96 1518.9 1490.96 1524.27 Z\" fill=\"#000000\" fill-rule=\"evenodd\" fill-opacity=\"1\" /><path clip-path=\"url(#clip170)\" d=\"M 0 0 M1507.21 1526.89 Q1502.04 1526.89 1500.05 1528.07 Q1498.06 1529.25 1498.06 1532.1 Q1498.06 1534.36 1499.54 1535.71 Q1501.05 1537.03 1503.62 1537.03 Q1507.16 1537.03 1509.29 1534.53 Q1511.44 1532 1511.44 1527.84 L1511.44 1526.89 L1507.21 1526.89 M1515.7 1525.13 L1515.7 1539.92 L1511.44 1539.92 L1511.44 1535.98 Q1509.98 1538.35 1507.81 1539.48 Q1505.63 1540.59 1502.48 1540.59 Q1498.5 1540.59 1496.14 1538.37 Q1493.8 1536.12 1493.8 1532.37 Q1493.8 1528 1496.72 1525.78 Q1499.66 1523.55 1505.47 1523.55 L1511.44 1523.55 L1511.44 1523.14 Q1511.44 1520.2 1509.5 1518.6 Q1507.58 1516.98 1504.08 1516.98 Q1501.86 1516.98 1499.75 1517.51 Q1497.65 1518.04 1495.7 1519.11 L1495.7 1515.17 Q1498.04 1514.27 1500.24 1513.83 Q1502.44 1513.37 1504.52 1513.37 Q1510.15 1513.37 1512.92 1516.29 Q1515.7 1519.2 1515.7 1525.13 Z\" fill=\"#000000\" fill-rule=\"evenodd\" fill-opacity=\"1\" /><path clip-path=\"url(#clip170)\" d=\"M 0 0 M1530.96 1542.33 Q1529.15 1546.96 1527.44 1548.37 Q1525.72 1549.78 1522.85 1549.78 L1519.45 1549.78 L1519.45 1546.22 L1521.95 1546.22 Q1523.71 1546.22 1524.68 1545.38 Q1525.66 1544.55 1526.84 1541.45 L1527.6 1539.5 L1517.11 1513.99 L1521.63 1513.99 L1529.73 1534.27 L1537.83 1513.99 L1542.35 1513.99 L1530.96 1542.33 Z\" fill=\"#000000\" fill-rule=\"evenodd\" fill-opacity=\"1\" /><path clip-path=\"url(#clip170)\" d=\"M 0 0 M1562.44 1518.39 L1592.11 1518.39 L1592.11 1522.28 L1562.44 1522.28 L1562.44 1518.39 M1562.44 1527.84 L1592.11 1527.84 L1592.11 1531.77 L1562.44 1531.77 L1562.44 1527.84 Z\" fill=\"#000000\" fill-rule=\"evenodd\" fill-opacity=\"1\" /><path clip-path=\"url(#clip170)\" d=\"M 0 0 M1597.14 1516.59 L1597.14 1512.37 L1626.81 1523.14 L1626.81 1526.98 L1597.14 1537.74 L1597.14 1533.53 L1620.98 1525.08 L1597.14 1516.59 Z\" fill=\"#000000\" fill-rule=\"evenodd\" fill-opacity=\"1\" /><path clip-path=\"url(#clip170)\" d=\"M 0 0 M1923.48 1513.99 L1927.99 1513.99 L1936.1 1535.75 L1944.2 1513.99 L1948.71 1513.99 L1938.99 1539.92 L1933.2 1539.92 L1923.48 1513.99 Z\" fill=\"#000000\" fill-rule=\"evenodd\" fill-opacity=\"1\" /><path clip-path=\"url(#clip170)\" d=\"M 0 0 M1953.18 1513.99 L1957.44 1513.99 L1957.44 1539.92 L1953.18 1539.92 L1953.18 1513.99 M1953.18 1503.9 L1957.44 1503.9 L1957.44 1509.3 L1953.18 1509.3 L1953.18 1503.9 Z\" fill=\"#000000\" fill-rule=\"evenodd\" fill-opacity=\"1\" /><path clip-path=\"url(#clip170)\" d=\"M 0 0 M1978.43 1514.76 L1978.43 1518.79 Q1976.63 1517.86 1974.68 1517.4 Q1972.74 1516.93 1970.66 1516.93 Q1967.49 1516.93 1965.89 1517.91 Q1964.31 1518.88 1964.31 1520.82 Q1964.31 1522.3 1965.45 1523.16 Q1966.58 1523.99 1970.01 1524.76 L1971.47 1525.08 Q1976 1526.05 1977.9 1527.84 Q1979.82 1529.6 1979.82 1532.77 Q1979.82 1536.38 1976.95 1538.48 Q1974.11 1540.59 1969.11 1540.59 Q1967.02 1540.59 1964.75 1540.17 Q1962.51 1539.78 1960.01 1538.97 L1960.01 1534.57 Q1962.37 1535.8 1964.66 1536.42 Q1966.95 1537.03 1969.2 1537.03 Q1972.21 1537.03 1973.83 1536.01 Q1975.45 1534.97 1975.45 1533.09 Q1975.45 1531.36 1974.27 1530.43 Q1973.11 1529.5 1969.15 1528.65 L1967.67 1528.3 Q1963.71 1527.47 1961.95 1525.75 Q1960.19 1524.02 1960.19 1521.01 Q1960.19 1517.35 1962.79 1515.36 Q1965.38 1513.37 1970.15 1513.37 Q1972.51 1513.37 1974.59 1513.72 Q1976.67 1514.06 1978.43 1514.76 Z\" fill=\"#000000\" fill-rule=\"evenodd\" fill-opacity=\"1\" /><path clip-path=\"url(#clip170)\" d=\"M 0 0 M2005.84 1524.27 L2005.84 1539.92 L2001.58 1539.92 L2001.58 1524.41 Q2001.58 1520.73 2000.15 1518.9 Q1998.71 1517.07 1995.84 1517.07 Q1992.39 1517.07 1990.4 1519.27 Q1988.41 1521.47 1988.41 1525.27 L1988.41 1539.92 L1984.13 1539.92 L1984.13 1503.9 L1988.41 1503.9 L1988.41 1518.02 Q1989.94 1515.68 1992 1514.53 Q1994.08 1513.37 1996.79 1513.37 Q2001.26 1513.37 2003.55 1516.15 Q2005.84 1518.9 2005.84 1524.27 Z\" fill=\"#000000\" fill-rule=\"evenodd\" fill-opacity=\"1\" /><path clip-path=\"url(#clip170)\" d=\"M 0 0 M2022.09 1526.89 Q2016.93 1526.89 2014.94 1528.07 Q2012.95 1529.25 2012.95 1532.1 Q2012.95 1534.36 2014.43 1535.71 Q2015.93 1537.03 2018.5 1537.03 Q2022.04 1537.03 2024.17 1534.53 Q2026.33 1532 2026.33 1527.84 L2026.33 1526.89 L2022.09 1526.89 M2030.59 1525.13 L2030.59 1539.92 L2026.33 1539.92 L2026.33 1535.98 Q2024.87 1538.35 2022.69 1539.48 Q2020.52 1540.59 2017.37 1540.59 Q2013.39 1540.59 2011.03 1538.37 Q2008.69 1536.12 2008.69 1532.37 Q2008.69 1528 2011.61 1525.78 Q2014.55 1523.55 2020.36 1523.55 L2026.33 1523.55 L2026.33 1523.14 Q2026.33 1520.2 2024.38 1518.6 Q2022.46 1516.98 2018.97 1516.98 Q2016.74 1516.98 2014.64 1517.51 Q2012.53 1518.04 2010.59 1519.11 L2010.59 1515.17 Q2012.92 1514.27 2015.12 1513.83 Q2017.32 1513.37 2019.41 1513.37 Q2025.03 1513.37 2027.81 1516.29 Q2030.59 1519.2 2030.59 1525.13 Z\" fill=\"#000000\" fill-rule=\"evenodd\" fill-opacity=\"1\" /><path clip-path=\"url(#clip170)\" d=\"M 0 0 M2035.05 1503.9 L2039.31 1503.9 L2039.31 1539.92 L2035.05 1539.92 L2035.05 1503.9 Z\" fill=\"#000000\" fill-rule=\"evenodd\" fill-opacity=\"1\" /><path clip-path=\"url(#clip170)\" d=\"M 0 0 M2059.41 1518.39 L2089.08 1518.39 L2089.08 1522.28 L2059.41 1522.28 L2059.41 1518.39 M2059.41 1527.84 L2089.08 1527.84 L2089.08 1531.77 L2059.41 1531.77 L2059.41 1527.84 Z\" fill=\"#000000\" fill-rule=\"evenodd\" fill-opacity=\"1\" /><path clip-path=\"url(#clip170)\" d=\"M 0 0 M2094.1 1516.59 L2094.1 1512.37 L2123.78 1523.14 L2123.78 1526.98 L2094.1 1537.74 L2094.1 1533.53 L2117.95 1525.08 L2094.1 1516.59 Z\" fill=\"#000000\" fill-rule=\"evenodd\" fill-opacity=\"1\" /><path clip-path=\"url(#clip170)\" d=\"M 0 0 M103.247 1431.51 Q99.6354 1431.51 97.8068 1435.08 Q96.0012 1438.62 96.0012 1445.75 Q96.0012 1452.86 97.8068 1456.42 Q99.6354 1459.96 103.247 1459.96 Q106.881 1459.96 108.686 1456.42 Q110.515 1452.86 110.515 1445.75 Q110.515 1438.62 108.686 1435.08 Q106.881 1431.51 103.247 1431.51 M103.247 1427.81 Q109.057 1427.81 112.112 1432.42 Q115.191 1437 115.191 1445.75 Q115.191 1454.48 112.112 1459.08 Q109.057 1463.67 103.247 1463.67 Q97.4364 1463.67 94.3577 1459.08 Q91.3022 1454.48 91.3022 1445.75 Q91.3022 1437 94.3577 1432.42 Q97.4364 1427.81 103.247 1427.81 Z\" fill=\"#000000\" fill-rule=\"evenodd\" fill-opacity=\"1\" /><path clip-path=\"url(#clip170)\" d=\"M 0 0 M71.8578 1146.94 L88.1772 1146.94 L88.1772 1150.87 L66.2328 1150.87 L66.2328 1146.94 Q68.8949 1144.18 73.4782 1139.55 Q78.0846 1134.9 79.2652 1133.56 Q81.5105 1131.03 82.3902 1129.3 Q83.2929 1127.54 83.2929 1125.85 Q83.2929 1123.09 81.3485 1121.36 Q79.4272 1119.62 76.3254 1119.62 Q74.1263 1119.62 71.6726 1120.39 Q69.2421 1121.15 66.4643 1122.7 L66.4643 1117.98 Q69.2884 1116.84 71.7421 1116.27 Q74.1958 1115.69 76.2328 1115.69 Q81.6031 1115.69 84.7976 1118.37 Q87.992 1121.06 87.992 1125.55 Q87.992 1127.68 87.1818 1129.6 Q86.3948 1131.5 84.2883 1134.09 Q83.7096 1134.76 80.6078 1137.98 Q77.5059 1141.17 71.8578 1146.94 Z\" fill=\"#000000\" fill-rule=\"evenodd\" fill-opacity=\"1\" /><path clip-path=\"url(#clip170)\" d=\"M 0 0 M103.247 1119.39 Q99.6354 1119.39 97.8068 1122.96 Q96.0012 1126.5 96.0012 1133.63 Q96.0012 1140.73 97.8068 1144.3 Q99.6354 1147.84 103.247 1147.84 Q106.881 1147.84 108.686 1144.3 Q110.515 1140.73 110.515 1133.63 Q110.515 1126.5 108.686 1122.96 Q106.881 1119.39 103.247 1119.39 M103.247 1115.69 Q109.057 1115.69 112.112 1120.29 Q115.191 1124.88 115.191 1133.63 Q115.191 1142.35 112.112 1146.96 Q109.057 1151.54 103.247 1151.54 Q97.4364 1151.54 94.3577 1146.96 Q91.3022 1142.35 91.3022 1133.63 Q91.3022 1124.88 94.3577 1120.29 Q97.4364 1115.69 103.247 1115.69 Z\" fill=\"#000000\" fill-rule=\"evenodd\" fill-opacity=\"1\" /><path clip-path=\"url(#clip170)\" d=\"M 0 0 M78.5939 808.262 L66.7884 826.711 L78.5939 826.711 L78.5939 808.262 M77.367 804.188 L83.2466 804.188 L83.2466 826.711 L88.1772 826.711 L88.1772 830.6 L83.2466 830.6 L83.2466 838.748 L78.5939 838.748 L78.5939 830.6 L62.9921 830.6 L62.9921 826.086 L77.367 804.188 Z\" fill=\"#000000\" fill-rule=\"evenodd\" fill-opacity=\"1\" /><path clip-path=\"url(#clip170)\" d=\"M 0 0 M103.247 807.266 Q99.6354 807.266 97.8068 810.831 Q96.0012 814.373 96.0012 821.502 Q96.0012 828.609 97.8068 832.174 Q99.6354 835.715 103.247 835.715 Q106.881 835.715 108.686 832.174 Q110.515 828.609 110.515 821.502 Q110.515 814.373 108.686 810.831 Q106.881 807.266 103.247 807.266 M103.247 803.563 Q109.057 803.563 112.112 808.169 Q115.191 812.752 115.191 821.502 Q115.191 830.229 112.112 834.836 Q109.057 839.419 103.247 839.419 Q97.4364 839.419 94.3577 834.836 Q91.3022 830.229 91.3022 821.502 Q91.3022 812.752 94.3577 808.169 Q97.4364 803.563 103.247 803.563 Z\" fill=\"#000000\" fill-rule=\"evenodd\" fill-opacity=\"1\" /><path clip-path=\"url(#clip170)\" d=\"M 0 0 M76.6495 507.48 Q73.5013 507.48 71.6495 509.633 Q69.8208 511.786 69.8208 515.536 Q69.8208 519.263 71.6495 521.439 Q73.5013 523.591 76.6495 523.591 Q79.7976 523.591 81.6263 521.439 Q83.4781 519.263 83.4781 515.536 Q83.4781 511.786 81.6263 509.633 Q79.7976 507.48 76.6495 507.48 M85.9318 492.828 L85.9318 497.087 Q84.1726 496.253 82.367 495.814 Q80.5846 495.374 78.8254 495.374 Q74.1958 495.374 71.7421 498.499 Q69.3115 501.624 68.9643 507.943 Q70.33 505.929 72.3902 504.865 Q74.4504 503.777 76.9272 503.777 Q82.1355 503.777 85.1448 506.948 Q88.1772 510.096 88.1772 515.536 Q88.1772 520.86 85.029 524.077 Q81.8809 527.295 76.6495 527.295 Q70.6541 527.295 67.4828 522.712 Q64.3116 518.105 64.3116 509.378 Q64.3116 501.184 68.2004 496.323 Q72.0893 491.439 78.6402 491.439 Q80.3994 491.439 82.1818 491.786 Q83.9874 492.133 85.9318 492.828 Z\" fill=\"#000000\" fill-rule=\"evenodd\" fill-opacity=\"1\" /><path clip-path=\"url(#clip170)\" d=\"M 0 0 M103.247 495.142 Q99.6354 495.142 97.8068 498.707 Q96.0012 502.249 96.0012 509.378 Q96.0012 516.485 97.8068 520.05 Q99.6354 523.591 103.247 523.591 Q106.881 523.591 108.686 520.05 Q110.515 516.485 110.515 509.378 Q110.515 502.249 108.686 498.707 Q106.881 495.142 103.247 495.142 M103.247 491.439 Q109.057 491.439 112.112 496.045 Q115.191 500.628 115.191 509.378 Q115.191 518.105 112.112 522.712 Q109.057 527.295 103.247 527.295 Q97.4364 527.295 94.3577 522.712 Q91.3022 518.105 91.3022 509.378 Q91.3022 500.628 94.3577 496.045 Q97.4364 491.439 103.247 491.439 Z\" fill=\"#000000\" fill-rule=\"evenodd\" fill-opacity=\"1\" /><path clip-path=\"url(#clip170)\" d=\"M 0 0 M76.3254 198.088 Q72.9921 198.088 71.0708 199.87 Q69.1726 201.653 69.1726 204.778 Q69.1726 207.902 71.0708 209.685 Q72.9921 211.467 76.3254 211.467 Q79.6587 211.467 81.58 209.685 Q83.5013 207.879 83.5013 204.778 Q83.5013 201.653 81.58 199.87 Q79.6819 198.088 76.3254 198.088 M71.6495 196.097 Q68.6402 195.356 66.9504 193.296 Q65.2838 191.236 65.2838 188.273 Q65.2838 184.129 68.2236 181.722 Q71.1865 179.315 76.3254 179.315 Q81.4874 179.315 84.4272 181.722 Q87.367 184.129 87.367 188.273 Q87.367 191.236 85.6772 193.296 Q84.0105 195.356 81.0244 196.097 Q84.404 196.884 86.279 199.176 Q88.1772 201.467 88.1772 204.778 Q88.1772 209.801 85.0985 212.486 Q82.0429 215.171 76.3254 215.171 Q70.6078 215.171 67.5291 212.486 Q64.4736 209.801 64.4736 204.778 Q64.4736 201.467 66.3717 199.176 Q68.2699 196.884 71.6495 196.097 M69.9365 188.713 Q69.9365 191.398 71.6032 192.903 Q73.293 194.407 76.3254 194.407 Q79.3346 194.407 81.0244 192.903 Q82.7374 191.398 82.7374 188.713 Q82.7374 186.028 81.0244 184.523 Q79.3346 183.018 76.3254 183.018 Q73.293 183.018 71.6032 184.523 Q69.9365 186.028 69.9365 188.713 Z\" fill=\"#000000\" fill-rule=\"evenodd\" fill-opacity=\"1\" /><path clip-path=\"url(#clip170)\" d=\"M 0 0 M103.247 183.018 Q99.6354 183.018 97.8068 186.583 Q96.0012 190.125 96.0012 197.254 Q96.0012 204.361 97.8068 207.926 Q99.6354 211.467 103.247 211.467 Q106.881 211.467 108.686 207.926 Q110.515 204.361 110.515 197.254 Q110.515 190.125 108.686 186.583 Q106.881 183.018 103.247 183.018 M103.247 179.315 Q109.057 179.315 112.112 183.921 Q115.191 188.504 115.191 197.254 Q115.191 205.981 112.112 210.588 Q109.057 215.171 103.247 215.171 Q97.4364 215.171 94.3577 210.588 Q91.3022 205.981 91.3022 197.254 Q91.3022 188.504 94.3577 183.921 Q97.4364 179.315 103.247 179.315 Z\" fill=\"#000000\" fill-rule=\"evenodd\" fill-opacity=\"1\" /><path clip-path=\"url(#clip172)\" d=\"\n",
       "M260.941 150.401 L260.941 1445.72 L675.691 1445.72 L675.691 150.401 L260.941 150.401 L260.941 150.401  Z\n",
       "  \" fill=\"#009af9\" fill-rule=\"evenodd\" fill-opacity=\"1\"/>\n",
       "<polyline clip-path=\"url(#clip172)\" style=\"stroke:#000000; stroke-width:4; stroke-opacity:1; fill:none\" points=\"\n",
       "  260.941,150.401 260.941,1445.72 675.691,1445.72 675.691,150.401 260.941,150.401 \n",
       "  \"/>\n",
       "<path clip-path=\"url(#clip172)\" d=\"\n",
       "M779.379 87.9763 L779.379 1445.72 L1194.13 1445.72 L1194.13 87.9763 L779.379 87.9763 L779.379 87.9763  Z\n",
       "  \" fill=\"#009af9\" fill-rule=\"evenodd\" fill-opacity=\"1\"/>\n",
       "<polyline clip-path=\"url(#clip172)\" style=\"stroke:#000000; stroke-width:4; stroke-opacity:1; fill:none\" points=\"\n",
       "  779.379,87.9763 779.379,1445.72 1194.13,1445.72 1194.13,87.9763 779.379,87.9763 \n",
       "  \"/>\n",
       "<path clip-path=\"url(#clip172)\" d=\"\n",
       "M1297.82 87.9763 L1297.82 1445.72 L1712.57 1445.72 L1712.57 87.9763 L1297.82 87.9763 L1297.82 87.9763  Z\n",
       "  \" fill=\"#009af9\" fill-rule=\"evenodd\" fill-opacity=\"1\"/>\n",
       "<polyline clip-path=\"url(#clip172)\" style=\"stroke:#000000; stroke-width:4; stroke-opacity:1; fill:none\" points=\"\n",
       "  1297.82,87.9763 1297.82,1445.72 1712.57,1445.72 1712.57,87.9763 1297.82,87.9763 \n",
       "  \"/>\n",
       "<path clip-path=\"url(#clip172)\" d=\"\n",
       "M1816.26 103.582 L1816.26 1445.72 L2231.01 1445.72 L2231.01 103.582 L1816.26 103.582 L1816.26 103.582  Z\n",
       "  \" fill=\"#009af9\" fill-rule=\"evenodd\" fill-opacity=\"1\"/>\n",
       "<polyline clip-path=\"url(#clip172)\" style=\"stroke:#000000; stroke-width:4; stroke-opacity:1; fill:none\" points=\"\n",
       "  1816.26,103.582 1816.26,1445.72 2231.01,1445.72 2231.01,103.582 1816.26,103.582 \n",
       "  \"/>\n",
       "<path clip-path=\"url(#clip170)\" d=\"\n",
       "M1989.74 251.724 L2280.76 251.724 L2280.76 130.764 L1989.74 130.764  Z\n",
       "  \" fill=\"#ffffff\" fill-rule=\"evenodd\" fill-opacity=\"1\"/>\n",
       "<polyline clip-path=\"url(#clip170)\" style=\"stroke:#000000; stroke-width:4; stroke-opacity:1; fill:none\" points=\"\n",
       "  1989.74,251.724 2280.76,251.724 2280.76,130.764 1989.74,130.764 1989.74,251.724 \n",
       "  \"/>\n",
       "<path clip-path=\"url(#clip170)\" d=\"\n",
       "M2013.74 215.436 L2157.74 215.436 L2157.74 167.052 L2013.74 167.052 L2013.74 215.436  Z\n",
       "  \" fill=\"#009af9\" fill-rule=\"evenodd\" fill-opacity=\"1\"/>\n",
       "<polyline clip-path=\"url(#clip170)\" style=\"stroke:#000000; stroke-width:4; stroke-opacity:1; fill:none\" points=\"\n",
       "  2013.74,215.436 2157.74,215.436 2157.74,167.052 2013.74,167.052 2013.74,215.436 \n",
       "  \"/>\n",
       "<path clip-path=\"url(#clip170)\" d=\"M 0 0 M2195.58 210.931 Q2193.77 215.561 2192.06 216.973 Q2190.35 218.385 2187.48 218.385 L2184.08 218.385 L2184.08 214.82 L2186.58 214.82 Q2188.33 214.82 2189.31 213.987 Q2190.28 213.154 2191.46 210.052 L2192.22 208.107 L2181.74 182.598 L2186.25 182.598 L2194.35 202.876 L2202.46 182.598 L2206.97 182.598 L2195.58 210.931 Z\" fill=\"#000000\" fill-rule=\"evenodd\" fill-opacity=\"1\" /><path clip-path=\"url(#clip170)\" d=\"M 0 0 M2212.85 204.589 L2220.49 204.589 L2220.49 178.223 L2212.18 179.89 L2212.18 175.631 L2220.44 173.964 L2225.12 173.964 L2225.12 204.589 L2232.76 204.589 L2232.76 208.524 L2212.85 208.524 L2212.85 204.589 Z\" fill=\"#000000\" fill-rule=\"evenodd\" fill-opacity=\"1\" /></svg>\n"
      ]
     },
     "execution_count": 232,
     "metadata": {},
     "output_type": "execute_result"
    }
   ],
   "source": [
    "# command for show csv file in bar plot or bar graph\n",
    "bar(manik.Student_name,manik.Math)"
   ]
  },
  {
   "cell_type": "code",
   "execution_count": 233,
   "metadata": {},
   "outputs": [
    {
     "data": {
      "image/svg+xml": [
       "<?xml version=\"1.0\" encoding=\"utf-8\"?>\n",
       "<svg xmlns=\"http://www.w3.org/2000/svg\" xmlns:xlink=\"http://www.w3.org/1999/xlink\" width=\"600\" height=\"400\" viewBox=\"0 0 2400 1600\">\n",
       "<defs>\n",
       "  <clipPath id=\"clip210\">\n",
       "    <rect x=\"0\" y=\"0\" width=\"2400\" height=\"1600\"/>\n",
       "  </clipPath>\n",
       "</defs>\n",
       "<path clip-path=\"url(#clip210)\" d=\"\n",
       "M0 1600 L2400 1600 L2400 0 L0 0  Z\n",
       "  \" fill=\"#ffffff\" fill-rule=\"evenodd\" fill-opacity=\"1\"/>\n",
       "<defs>\n",
       "  <clipPath id=\"clip211\">\n",
       "    <rect x=\"480\" y=\"0\" width=\"1681\" height=\"1600\"/>\n",
       "  </clipPath>\n",
       "</defs>\n",
       "<path clip-path=\"url(#clip210)\" d=\"\n",
       "M174.816 1486.45 L2352.76 1486.45 L2352.76 47.2441 L174.816 47.2441  Z\n",
       "  \" fill=\"#ffffff\" fill-rule=\"evenodd\" fill-opacity=\"1\"/>\n",
       "<defs>\n",
       "  <clipPath id=\"clip212\">\n",
       "    <rect x=\"174\" y=\"47\" width=\"2179\" height=\"1440\"/>\n",
       "  </clipPath>\n",
       "</defs>\n",
       "<polyline clip-path=\"url(#clip212)\" style=\"stroke:#000000; stroke-width:2; stroke-opacity:0.1; fill:none\" points=\"\n",
       "  610.03,1486.45 610.03,47.2441 \n",
       "  \"/>\n",
       "<polyline clip-path=\"url(#clip212)\" style=\"stroke:#000000; stroke-width:2; stroke-opacity:0.1; fill:none\" points=\"\n",
       "  1077,1486.45 1077,47.2441 \n",
       "  \"/>\n",
       "<polyline clip-path=\"url(#clip212)\" style=\"stroke:#000000; stroke-width:2; stroke-opacity:0.1; fill:none\" points=\"\n",
       "  1543.97,1486.45 1543.97,47.2441 \n",
       "  \"/>\n",
       "<polyline clip-path=\"url(#clip212)\" style=\"stroke:#000000; stroke-width:2; stroke-opacity:0.1; fill:none\" points=\"\n",
       "  2010.94,1486.45 2010.94,47.2441 \n",
       "  \"/>\n",
       "<polyline clip-path=\"url(#clip212)\" style=\"stroke:#000000; stroke-width:2; stroke-opacity:0.1; fill:none\" points=\"\n",
       "  174.816,1219.43 2352.76,1219.43 \n",
       "  \"/>\n",
       "<polyline clip-path=\"url(#clip212)\" style=\"stroke:#000000; stroke-width:2; stroke-opacity:0.1; fill:none\" points=\"\n",
       "  174.816,936.563 2352.76,936.563 \n",
       "  \"/>\n",
       "<polyline clip-path=\"url(#clip212)\" style=\"stroke:#000000; stroke-width:2; stroke-opacity:0.1; fill:none\" points=\"\n",
       "  174.816,653.701 2352.76,653.701 \n",
       "  \"/>\n",
       "<polyline clip-path=\"url(#clip212)\" style=\"stroke:#000000; stroke-width:2; stroke-opacity:0.1; fill:none\" points=\"\n",
       "  174.816,370.839 2352.76,370.839 \n",
       "  \"/>\n",
       "<polyline clip-path=\"url(#clip212)\" style=\"stroke:#000000; stroke-width:2; stroke-opacity:0.1; fill:none\" points=\"\n",
       "  174.816,87.9763 2352.76,87.9763 \n",
       "  \"/>\n",
       "<polyline clip-path=\"url(#clip210)\" style=\"stroke:#000000; stroke-width:4; stroke-opacity:1; fill:none\" points=\"\n",
       "  174.816,1486.45 2352.76,1486.45 \n",
       "  \"/>\n",
       "<polyline clip-path=\"url(#clip210)\" style=\"stroke:#000000; stroke-width:4; stroke-opacity:1; fill:none\" points=\"\n",
       "  174.816,1486.45 174.816,47.2441 \n",
       "  \"/>\n",
       "<polyline clip-path=\"url(#clip210)\" style=\"stroke:#000000; stroke-width:4; stroke-opacity:1; fill:none\" points=\"\n",
       "  610.03,1486.45 610.03,1469.18 \n",
       "  \"/>\n",
       "<polyline clip-path=\"url(#clip210)\" style=\"stroke:#000000; stroke-width:4; stroke-opacity:1; fill:none\" points=\"\n",
       "  1077,1486.45 1077,1469.18 \n",
       "  \"/>\n",
       "<polyline clip-path=\"url(#clip210)\" style=\"stroke:#000000; stroke-width:4; stroke-opacity:1; fill:none\" points=\"\n",
       "  1543.97,1486.45 1543.97,1469.18 \n",
       "  \"/>\n",
       "<polyline clip-path=\"url(#clip210)\" style=\"stroke:#000000; stroke-width:4; stroke-opacity:1; fill:none\" points=\"\n",
       "  2010.94,1486.45 2010.94,1469.18 \n",
       "  \"/>\n",
       "<polyline clip-path=\"url(#clip210)\" style=\"stroke:#000000; stroke-width:4; stroke-opacity:1; fill:none\" points=\"\n",
       "  174.816,1219.43 200.951,1219.43 \n",
       "  \"/>\n",
       "<polyline clip-path=\"url(#clip210)\" style=\"stroke:#000000; stroke-width:4; stroke-opacity:1; fill:none\" points=\"\n",
       "  174.816,936.563 200.951,936.563 \n",
       "  \"/>\n",
       "<polyline clip-path=\"url(#clip210)\" style=\"stroke:#000000; stroke-width:4; stroke-opacity:1; fill:none\" points=\"\n",
       "  174.816,653.701 200.951,653.701 \n",
       "  \"/>\n",
       "<polyline clip-path=\"url(#clip210)\" style=\"stroke:#000000; stroke-width:4; stroke-opacity:1; fill:none\" points=\"\n",
       "  174.816,370.839 200.951,370.839 \n",
       "  \"/>\n",
       "<polyline clip-path=\"url(#clip210)\" style=\"stroke:#000000; stroke-width:4; stroke-opacity:1; fill:none\" points=\"\n",
       "  174.816,87.9763 200.951,87.9763 \n",
       "  \"/>\n",
       "<path clip-path=\"url(#clip210)\" d=\"M 0 0 M568.341 1539.2 L568.341 1534.94 Q570.1 1535.78 571.905 1536.22 Q573.711 1536.66 575.447 1536.66 Q580.077 1536.66 582.507 1533.55 Q584.961 1530.43 585.308 1524.09 Q583.966 1526.08 581.905 1527.14 Q579.845 1528.21 577.345 1528.21 Q572.16 1528.21 569.128 1525.08 Q566.118 1521.93 566.118 1516.49 Q566.118 1511.17 569.267 1507.95 Q572.415 1504.73 577.646 1504.73 Q583.641 1504.73 586.79 1509.34 Q589.961 1513.92 589.961 1522.67 Q589.961 1530.85 586.072 1535.73 Q582.206 1540.59 575.655 1540.59 Q573.896 1540.59 572.091 1540.24 Q570.285 1539.9 568.341 1539.2 M577.646 1524.55 Q580.794 1524.55 582.623 1522.4 Q584.475 1520.24 584.475 1516.49 Q584.475 1512.77 582.623 1510.61 Q580.794 1508.44 577.646 1508.44 Q574.498 1508.44 572.646 1510.61 Q570.817 1512.77 570.817 1516.49 Q570.817 1520.24 572.646 1522.4 Q574.498 1524.55 577.646 1524.55 Z\" fill=\"#000000\" fill-rule=\"evenodd\" fill-opacity=\"1\" /><path clip-path=\"url(#clip210)\" d=\"M 0 0 M605.03 1508.44 Q601.419 1508.44 599.59 1512 Q597.785 1515.55 597.785 1522.67 Q597.785 1529.78 599.59 1533.35 Q601.419 1536.89 605.03 1536.89 Q608.664 1536.89 610.47 1533.35 Q612.299 1529.78 612.299 1522.67 Q612.299 1515.55 610.47 1512 Q608.664 1508.44 605.03 1508.44 M605.03 1504.73 Q610.84 1504.73 613.896 1509.34 Q616.975 1513.92 616.975 1522.67 Q616.975 1531.4 613.896 1536.01 Q610.84 1540.59 605.03 1540.59 Q599.22 1540.59 596.141 1536.01 Q593.086 1531.4 593.086 1522.67 Q593.086 1513.92 596.141 1509.34 Q599.22 1504.73 605.03 1504.73 Z\" fill=\"#000000\" fill-rule=\"evenodd\" fill-opacity=\"1\" /><path clip-path=\"url(#clip210)\" d=\"M 0 0 M622.044 1534.04 L626.928 1534.04 L626.928 1539.92 L622.044 1539.92 L622.044 1534.04 Z\" fill=\"#000000\" fill-rule=\"evenodd\" fill-opacity=\"1\" /><path clip-path=\"url(#clip210)\" d=\"M 0 0 M641.998 1508.44 Q638.387 1508.44 636.558 1512 Q634.752 1515.55 634.752 1522.67 Q634.752 1529.78 636.558 1533.35 Q638.387 1536.89 641.998 1536.89 Q645.632 1536.89 647.437 1533.35 Q649.266 1529.78 649.266 1522.67 Q649.266 1515.55 647.437 1512 Q645.632 1508.44 641.998 1508.44 M641.998 1504.73 Q647.808 1504.73 650.863 1509.34 Q653.942 1513.92 653.942 1522.67 Q653.942 1531.4 650.863 1536.01 Q647.808 1540.59 641.998 1540.59 Q636.187 1540.59 633.109 1536.01 Q630.053 1531.4 630.053 1522.67 Q630.053 1513.92 633.109 1509.34 Q636.187 1504.73 641.998 1504.73 Z\" fill=\"#000000\" fill-rule=\"evenodd\" fill-opacity=\"1\" /><path clip-path=\"url(#clip210)\" d=\"M 0 0 M1036.61 1539.2 L1036.61 1534.94 Q1038.36 1535.78 1040.17 1536.22 Q1041.98 1536.66 1043.71 1536.66 Q1048.34 1536.66 1050.77 1533.55 Q1053.23 1530.43 1053.57 1524.09 Q1052.23 1526.08 1050.17 1527.14 Q1048.11 1528.21 1045.61 1528.21 Q1040.42 1528.21 1037.39 1525.08 Q1034.38 1521.93 1034.38 1516.49 Q1034.38 1511.17 1037.53 1507.95 Q1040.68 1504.73 1045.91 1504.73 Q1051.91 1504.73 1055.05 1509.34 Q1058.23 1513.92 1058.23 1522.67 Q1058.23 1530.85 1054.34 1535.73 Q1050.47 1540.59 1043.92 1540.59 Q1042.16 1540.59 1040.36 1540.24 Q1038.55 1539.9 1036.61 1539.2 M1045.91 1524.55 Q1049.06 1524.55 1050.89 1522.4 Q1052.74 1520.24 1052.74 1516.49 Q1052.74 1512.77 1050.89 1510.61 Q1049.06 1508.44 1045.91 1508.44 Q1042.76 1508.44 1040.91 1510.61 Q1039.08 1512.77 1039.08 1516.49 Q1039.08 1520.24 1040.91 1522.4 Q1042.76 1524.55 1045.91 1524.55 Z\" fill=\"#000000\" fill-rule=\"evenodd\" fill-opacity=\"1\" /><path clip-path=\"url(#clip210)\" d=\"M 0 0 M1067.32 1535.98 L1083.64 1535.98 L1083.64 1539.92 L1061.7 1539.92 L1061.7 1535.98 Q1064.36 1533.23 1068.94 1528.6 Q1073.55 1523.95 1074.73 1522.61 Q1076.98 1520.08 1077.85 1518.35 Q1078.76 1516.59 1078.76 1514.9 Q1078.76 1512.14 1076.81 1510.41 Q1074.89 1508.67 1071.79 1508.67 Q1069.59 1508.67 1067.14 1509.43 Q1064.71 1510.2 1061.93 1511.75 L1061.93 1507.03 Q1064.75 1505.89 1067.21 1505.31 Q1069.66 1504.73 1071.7 1504.73 Q1077.07 1504.73 1080.26 1507.42 Q1083.46 1510.11 1083.46 1514.6 Q1083.46 1516.73 1082.65 1518.65 Q1081.86 1520.54 1079.75 1523.14 Q1079.17 1523.81 1076.07 1527.03 Q1072.97 1530.22 1067.32 1535.98 Z\" fill=\"#000000\" fill-rule=\"evenodd\" fill-opacity=\"1\" /><path clip-path=\"url(#clip210)\" d=\"M 0 0 M1088.71 1534.04 L1093.6 1534.04 L1093.6 1539.92 L1088.71 1539.92 L1088.71 1534.04 Z\" fill=\"#000000\" fill-rule=\"evenodd\" fill-opacity=\"1\" /><path clip-path=\"url(#clip210)\" d=\"M 0 0 M1098.71 1505.36 L1117.07 1505.36 L1117.07 1509.3 L1102.99 1509.3 L1102.99 1517.77 Q1104.01 1517.42 1105.03 1517.26 Q1106.05 1517.07 1107.07 1517.07 Q1112.85 1517.07 1116.23 1520.24 Q1119.61 1523.42 1119.61 1528.83 Q1119.61 1534.41 1116.14 1537.51 Q1112.67 1540.59 1106.35 1540.59 Q1104.17 1540.59 1101.91 1540.22 Q1099.66 1539.85 1097.25 1539.11 L1097.25 1534.41 Q1099.34 1535.54 1101.56 1536.1 Q1103.78 1536.66 1106.26 1536.66 Q1110.26 1536.66 1112.6 1534.55 Q1114.94 1532.44 1114.94 1528.83 Q1114.94 1525.22 1112.6 1523.11 Q1110.26 1521.01 1106.26 1521.01 Q1104.38 1521.01 1102.51 1521.42 Q1100.66 1521.84 1098.71 1522.72 L1098.71 1505.36 Z\" fill=\"#000000\" fill-rule=\"evenodd\" fill-opacity=\"1\" /><path clip-path=\"url(#clip210)\" d=\"M 0 0 M1502.77 1539.2 L1502.77 1534.94 Q1504.53 1535.78 1506.34 1536.22 Q1508.15 1536.66 1509.88 1536.66 Q1514.51 1536.66 1516.94 1533.55 Q1519.4 1530.43 1519.74 1524.09 Q1518.4 1526.08 1516.34 1527.14 Q1514.28 1528.21 1511.78 1528.21 Q1506.59 1528.21 1503.56 1525.08 Q1500.55 1521.93 1500.55 1516.49 Q1500.55 1511.17 1503.7 1507.95 Q1506.85 1504.73 1512.08 1504.73 Q1518.08 1504.73 1521.22 1509.34 Q1524.4 1513.92 1524.4 1522.67 Q1524.4 1530.85 1520.51 1535.73 Q1516.64 1540.59 1510.09 1540.59 Q1508.33 1540.59 1506.52 1540.24 Q1504.72 1539.9 1502.77 1539.2 M1512.08 1524.55 Q1515.23 1524.55 1517.06 1522.4 Q1518.91 1520.24 1518.91 1516.49 Q1518.91 1512.77 1517.06 1510.61 Q1515.23 1508.44 1512.08 1508.44 Q1508.93 1508.44 1507.08 1510.61 Q1505.25 1512.77 1505.25 1516.49 Q1505.25 1520.24 1507.08 1522.4 Q1508.93 1524.55 1512.08 1524.55 Z\" fill=\"#000000\" fill-rule=\"evenodd\" fill-opacity=\"1\" /><path clip-path=\"url(#clip210)\" d=\"M 0 0 M1529.51 1505.36 L1547.87 1505.36 L1547.87 1509.3 L1533.79 1509.3 L1533.79 1517.77 Q1534.81 1517.42 1535.83 1517.26 Q1536.85 1517.07 1537.87 1517.07 Q1543.65 1517.07 1547.03 1520.24 Q1550.41 1523.42 1550.41 1528.83 Q1550.41 1534.41 1546.94 1537.51 Q1543.47 1540.59 1537.15 1540.59 Q1534.97 1540.59 1532.71 1540.22 Q1530.46 1539.85 1528.05 1539.11 L1528.05 1534.41 Q1530.14 1535.54 1532.36 1536.1 Q1534.58 1536.66 1537.06 1536.66 Q1541.06 1536.66 1543.4 1534.55 Q1545.74 1532.44 1545.74 1528.83 Q1545.74 1525.22 1543.4 1523.11 Q1541.06 1521.01 1537.06 1521.01 Q1535.18 1521.01 1533.31 1521.42 Q1531.46 1521.84 1529.51 1522.72 L1529.51 1505.36 Z\" fill=\"#000000\" fill-rule=\"evenodd\" fill-opacity=\"1\" /><path clip-path=\"url(#clip210)\" d=\"M 0 0 M1555.48 1534.04 L1560.37 1534.04 L1560.37 1539.92 L1555.48 1539.92 L1555.48 1534.04 Z\" fill=\"#000000\" fill-rule=\"evenodd\" fill-opacity=\"1\" /><path clip-path=\"url(#clip210)\" d=\"M 0 0 M1575.44 1508.44 Q1571.83 1508.44 1570 1512 Q1568.19 1515.55 1568.19 1522.67 Q1568.19 1529.78 1570 1533.35 Q1571.83 1536.89 1575.44 1536.89 Q1579.07 1536.89 1580.88 1533.35 Q1582.71 1529.78 1582.71 1522.67 Q1582.71 1515.55 1580.88 1512 Q1579.07 1508.44 1575.44 1508.44 M1575.44 1504.73 Q1581.25 1504.73 1584.3 1509.34 Q1587.38 1513.92 1587.38 1522.67 Q1587.38 1531.4 1584.3 1536.01 Q1581.25 1540.59 1575.44 1540.59 Q1569.63 1540.59 1566.55 1536.01 Q1563.49 1531.4 1563.49 1522.67 Q1563.49 1513.92 1566.55 1509.34 Q1569.63 1504.73 1575.44 1504.73 Z\" fill=\"#000000\" fill-rule=\"evenodd\" fill-opacity=\"1\" /><path clip-path=\"url(#clip210)\" d=\"M 0 0 M1970.19 1539.2 L1970.19 1534.94 Q1971.95 1535.78 1973.76 1536.22 Q1975.56 1536.66 1977.3 1536.66 Q1981.93 1536.66 1984.36 1533.55 Q1986.81 1530.43 1987.16 1524.09 Q1985.82 1526.08 1983.76 1527.14 Q1981.7 1528.21 1979.2 1528.21 Q1974.01 1528.21 1970.98 1525.08 Q1967.97 1521.93 1967.97 1516.49 Q1967.97 1511.17 1971.12 1507.95 Q1974.27 1504.73 1979.5 1504.73 Q1985.5 1504.73 1988.64 1509.34 Q1991.81 1513.92 1991.81 1522.67 Q1991.81 1530.85 1987.93 1535.73 Q1984.06 1540.59 1977.51 1540.59 Q1975.75 1540.59 1973.94 1540.24 Q1972.14 1539.9 1970.19 1539.2 M1979.5 1524.55 Q1982.65 1524.55 1984.48 1522.4 Q1986.33 1520.24 1986.33 1516.49 Q1986.33 1512.77 1984.48 1510.61 Q1982.65 1508.44 1979.5 1508.44 Q1976.35 1508.44 1974.5 1510.61 Q1972.67 1512.77 1972.67 1516.49 Q1972.67 1520.24 1974.5 1522.4 Q1976.35 1524.55 1979.5 1524.55 Z\" fill=\"#000000\" fill-rule=\"evenodd\" fill-opacity=\"1\" /><path clip-path=\"url(#clip210)\" d=\"M 0 0 M1995.7 1505.36 L2017.93 1505.36 L2017.93 1507.35 L2005.38 1539.92 L2000.5 1539.92 L2012.3 1509.3 L1995.7 1509.3 L1995.7 1505.36 Z\" fill=\"#000000\" fill-rule=\"evenodd\" fill-opacity=\"1\" /><path clip-path=\"url(#clip210)\" d=\"M 0 0 M2023 1534.04 L2027.88 1534.04 L2027.88 1539.92 L2023 1539.92 L2023 1534.04 Z\" fill=\"#000000\" fill-rule=\"evenodd\" fill-opacity=\"1\" /><path clip-path=\"url(#clip210)\" d=\"M 0 0 M2033 1505.36 L2051.35 1505.36 L2051.35 1509.3 L2037.28 1509.3 L2037.28 1517.77 Q2038.3 1517.42 2039.31 1517.26 Q2040.33 1517.07 2041.35 1517.07 Q2047.14 1517.07 2050.52 1520.24 Q2053.9 1523.42 2053.9 1528.83 Q2053.9 1534.41 2050.43 1537.51 Q2046.95 1540.59 2040.63 1540.59 Q2038.46 1540.59 2036.19 1540.22 Q2033.94 1539.85 2031.54 1539.11 L2031.54 1534.41 Q2033.62 1535.54 2035.84 1536.1 Q2038.06 1536.66 2040.54 1536.66 Q2044.55 1536.66 2046.88 1534.55 Q2049.22 1532.44 2049.22 1528.83 Q2049.22 1525.22 2046.88 1523.11 Q2044.55 1521.01 2040.54 1521.01 Q2038.67 1521.01 2036.79 1521.42 Q2034.94 1521.84 2033 1522.72 L2033 1505.36 Z\" fill=\"#000000\" fill-rule=\"evenodd\" fill-opacity=\"1\" /><path clip-path=\"url(#clip210)\" d=\"M 0 0 M74.9828 1220.29 Q71.6495 1220.29 69.7282 1222.08 Q67.8301 1223.86 67.8301 1226.98 Q67.8301 1230.11 69.7282 1231.89 Q71.6495 1233.67 74.9828 1233.67 Q78.3161 1233.67 80.2374 1231.89 Q82.1587 1230.09 82.1587 1226.98 Q82.1587 1223.86 80.2374 1222.08 Q78.3393 1220.29 74.9828 1220.29 M70.3069 1218.3 Q67.2977 1217.56 65.6079 1215.5 Q63.9412 1213.44 63.9412 1210.48 Q63.9412 1206.34 66.881 1203.93 Q69.8439 1201.52 74.9828 1201.52 Q80.1448 1201.52 83.0846 1203.93 Q86.0244 1206.34 86.0244 1210.48 Q86.0244 1213.44 84.3346 1215.5 Q82.6679 1217.56 79.6819 1218.3 Q83.0615 1219.09 84.9365 1221.38 Q86.8346 1223.67 86.8346 1226.98 Q86.8346 1232.01 83.7559 1234.69 Q80.7004 1237.38 74.9828 1237.38 Q69.2652 1237.38 66.1866 1234.69 Q63.131 1232.01 63.131 1226.98 Q63.131 1223.67 65.0292 1221.38 Q66.9273 1219.09 70.3069 1218.3 M68.5939 1210.92 Q68.5939 1213.6 70.2606 1215.11 Q71.9504 1216.61 74.9828 1216.61 Q77.992 1216.61 79.6819 1215.11 Q81.3948 1213.6 81.3948 1210.92 Q81.3948 1208.23 79.6819 1206.73 Q77.992 1205.22 74.9828 1205.22 Q71.9504 1205.22 70.2606 1206.73 Q68.5939 1208.23 68.5939 1210.92 Z\" fill=\"#000000\" fill-rule=\"evenodd\" fill-opacity=\"1\" /><path clip-path=\"url(#clip210)\" d=\"M 0 0 M101.904 1205.22 Q98.2929 1205.22 96.4642 1208.79 Q94.6586 1212.33 94.6586 1219.46 Q94.6586 1226.57 96.4642 1230.13 Q98.2929 1233.67 101.904 1233.67 Q105.538 1233.67 107.344 1230.13 Q109.172 1226.57 109.172 1219.46 Q109.172 1212.33 107.344 1208.79 Q105.538 1205.22 101.904 1205.22 M101.904 1201.52 Q107.714 1201.52 110.77 1206.13 Q113.848 1210.71 113.848 1219.46 Q113.848 1228.19 110.77 1232.79 Q107.714 1237.38 101.904 1237.38 Q96.0938 1237.38 93.0151 1232.79 Q89.9596 1228.19 89.9596 1219.46 Q89.9596 1210.71 93.0151 1206.13 Q96.0938 1201.52 101.904 1201.52 Z\" fill=\"#000000\" fill-rule=\"evenodd\" fill-opacity=\"1\" /><path clip-path=\"url(#clip210)\" d=\"M 0 0 M118.918 1230.83 L123.802 1230.83 L123.802 1236.71 L118.918 1236.71 L118.918 1230.83 Z\" fill=\"#000000\" fill-rule=\"evenodd\" fill-opacity=\"1\" /><path clip-path=\"url(#clip210)\" d=\"M 0 0 M138.871 1205.22 Q135.26 1205.22 133.432 1208.79 Q131.626 1212.33 131.626 1219.46 Q131.626 1226.57 133.432 1230.13 Q135.26 1233.67 138.871 1233.67 Q142.506 1233.67 144.311 1230.13 Q146.14 1226.57 146.14 1219.46 Q146.14 1212.33 144.311 1208.79 Q142.506 1205.22 138.871 1205.22 M138.871 1201.52 Q144.682 1201.52 147.737 1206.13 Q150.816 1210.71 150.816 1219.46 Q150.816 1228.19 147.737 1232.79 Q144.682 1237.38 138.871 1237.38 Q133.061 1237.38 129.983 1232.79 Q126.927 1228.19 126.927 1219.46 Q126.927 1210.71 129.983 1206.13 Q133.061 1201.52 138.871 1201.52 Z\" fill=\"#000000\" fill-rule=\"evenodd\" fill-opacity=\"1\" /><path clip-path=\"url(#clip210)\" d=\"M 0 0 M77.5754 937.431 Q74.2421 937.431 72.3208 939.214 Q70.4226 940.996 70.4226 944.121 Q70.4226 947.246 72.3208 949.029 Q74.2421 950.811 77.5754 950.811 Q80.9087 950.811 82.83 949.029 Q84.7513 947.223 84.7513 944.121 Q84.7513 940.996 82.83 939.214 Q80.9318 937.431 77.5754 937.431 M72.8995 935.441 Q69.8902 934.7 68.2004 932.64 Q66.5338 930.58 66.5338 927.617 Q66.5338 923.473 69.4736 921.066 Q72.4365 918.658 77.5754 918.658 Q82.7374 918.658 85.6772 921.066 Q88.617 923.473 88.617 927.617 Q88.617 930.58 86.9272 932.64 Q85.2605 934.7 82.2744 935.441 Q85.654 936.228 87.529 938.519 Q89.4272 940.811 89.4272 944.121 Q89.4272 949.144 86.3485 951.83 Q83.2929 954.515 77.5754 954.515 Q71.8578 954.515 68.7791 951.83 Q65.7236 949.144 65.7236 944.121 Q65.7236 940.811 67.6217 938.519 Q69.5199 936.228 72.8995 935.441 M71.1865 928.057 Q71.1865 930.742 72.8532 932.246 Q74.543 933.751 77.5754 933.751 Q80.5846 933.751 82.2744 932.246 Q83.9874 930.742 83.9874 928.057 Q83.9874 925.371 82.2744 923.867 Q80.5846 922.362 77.5754 922.362 Q74.543 922.362 72.8532 923.867 Q71.1865 925.371 71.1865 928.057 Z\" fill=\"#000000\" fill-rule=\"evenodd\" fill-opacity=\"1\" /><path clip-path=\"url(#clip210)\" d=\"M 0 0 M98.5243 949.908 L114.844 949.908 L114.844 953.843 L92.8994 953.843 L92.8994 949.908 Q95.5614 947.154 100.145 942.524 Q104.751 937.871 105.932 936.529 Q108.177 934.006 109.057 932.269 Q109.959 930.51 109.959 928.82 Q109.959 926.066 108.015 924.33 Q106.094 922.594 102.992 922.594 Q100.793 922.594 98.3392 923.357 Q95.9086 924.121 93.1309 925.672 L93.1309 920.95 Q95.9549 919.816 98.4086 919.237 Q100.862 918.658 102.899 918.658 Q108.27 918.658 111.464 921.344 Q114.659 924.029 114.659 928.519 Q114.659 930.649 113.848 932.57 Q113.061 934.469 110.955 937.061 Q110.376 937.732 107.274 940.95 Q104.172 944.144 98.5243 949.908 Z\" fill=\"#000000\" fill-rule=\"evenodd\" fill-opacity=\"1\" /><path clip-path=\"url(#clip210)\" d=\"M 0 0 M119.913 947.964 L124.797 947.964 L124.797 953.843 L119.913 953.843 L119.913 947.964 Z\" fill=\"#000000\" fill-rule=\"evenodd\" fill-opacity=\"1\" /><path clip-path=\"url(#clip210)\" d=\"M 0 0 M129.913 919.283 L148.269 919.283 L148.269 923.219 L134.195 923.219 L134.195 931.691 Q135.214 931.344 136.232 931.181 Q137.251 930.996 138.27 930.996 Q144.057 930.996 147.436 934.168 Q150.816 937.339 150.816 942.756 Q150.816 948.334 147.344 951.436 Q143.871 954.515 137.552 954.515 Q135.376 954.515 133.107 954.144 Q130.862 953.774 128.455 953.033 L128.455 948.334 Q130.538 949.468 132.76 950.024 Q134.982 950.58 137.459 950.58 Q141.464 950.58 143.802 948.473 Q146.14 946.367 146.14 942.756 Q146.14 939.144 143.802 937.038 Q141.464 934.931 137.459 934.931 Q135.584 934.931 133.709 935.348 Q131.857 935.765 129.913 936.644 L129.913 919.283 Z\" fill=\"#000000\" fill-rule=\"evenodd\" fill-opacity=\"1\" /><path clip-path=\"url(#clip210)\" d=\"M 0 0 M75.9782 654.569 Q72.6449 654.569 70.7236 656.351 Q68.8254 658.134 68.8254 661.259 Q68.8254 664.384 70.7236 666.166 Q72.6449 667.949 75.9782 667.949 Q79.3115 667.949 81.2328 666.166 Q83.1541 664.361 83.1541 661.259 Q83.1541 658.134 81.2328 656.351 Q79.3346 654.569 75.9782 654.569 M71.3023 652.578 Q68.293 651.838 66.6032 649.777 Q64.9366 647.717 64.9366 644.754 Q64.9366 640.611 67.8764 638.203 Q70.8393 635.796 75.9782 635.796 Q81.1402 635.796 84.08 638.203 Q87.0198 640.611 87.0198 644.754 Q87.0198 647.717 85.33 649.777 Q83.6633 651.838 80.6772 652.578 Q84.0568 653.365 85.9318 655.657 Q87.83 657.949 87.83 661.259 Q87.83 666.282 84.7513 668.967 Q81.6957 671.652 75.9782 671.652 Q70.2606 671.652 67.1819 668.967 Q64.1264 666.282 64.1264 661.259 Q64.1264 657.949 66.0245 655.657 Q67.9227 653.365 71.3023 652.578 M69.5893 645.194 Q69.5893 647.879 71.256 649.384 Q72.9458 650.889 75.9782 650.889 Q78.9874 650.889 80.6772 649.384 Q82.3902 647.879 82.3902 645.194 Q82.3902 642.509 80.6772 641.004 Q78.9874 639.5 75.9782 639.5 Q72.9458 639.5 71.256 641.004 Q69.5893 642.509 69.5893 645.194 Z\" fill=\"#000000\" fill-rule=\"evenodd\" fill-opacity=\"1\" /><path clip-path=\"url(#clip210)\" d=\"M 0 0 M92.9457 636.421 L111.302 636.421 L111.302 640.356 L97.2281 640.356 L97.2281 648.828 Q98.2466 648.481 99.2651 648.319 Q100.284 648.134 101.302 648.134 Q107.089 648.134 110.469 651.305 Q113.848 654.476 113.848 659.893 Q113.848 665.472 110.376 668.574 Q106.904 671.652 100.585 671.652 Q98.4086 671.652 96.1401 671.282 Q93.8947 670.912 91.4873 670.171 L91.4873 665.472 Q93.5707 666.606 95.7929 667.162 Q98.0151 667.717 100.492 667.717 Q104.497 667.717 106.834 665.611 Q109.172 663.504 109.172 659.893 Q109.172 656.282 106.834 654.176 Q104.497 652.069 100.492 652.069 Q98.6169 652.069 96.7419 652.486 Q94.8901 652.902 92.9457 653.782 L92.9457 636.421 Z\" fill=\"#000000\" fill-rule=\"evenodd\" fill-opacity=\"1\" /><path clip-path=\"url(#clip210)\" d=\"M 0 0 M118.918 665.101 L123.802 665.101 L123.802 670.981 L118.918 670.981 L118.918 665.101 Z\" fill=\"#000000\" fill-rule=\"evenodd\" fill-opacity=\"1\" /><path clip-path=\"url(#clip210)\" d=\"M 0 0 M138.871 639.5 Q135.26 639.5 133.432 643.065 Q131.626 646.606 131.626 653.736 Q131.626 660.842 133.432 664.407 Q135.26 667.949 138.871 667.949 Q142.506 667.949 144.311 664.407 Q146.14 660.842 146.14 653.736 Q146.14 646.606 144.311 643.065 Q142.506 639.5 138.871 639.5 M138.871 635.796 Q144.682 635.796 147.737 640.402 Q150.816 644.986 150.816 653.736 Q150.816 662.463 147.737 667.069 Q144.682 671.652 138.871 671.652 Q133.061 671.652 129.983 667.069 Q126.927 662.463 126.927 653.736 Q126.927 644.986 129.983 640.402 Q133.061 635.796 138.871 635.796 Z\" fill=\"#000000\" fill-rule=\"evenodd\" fill-opacity=\"1\" /><path clip-path=\"url(#clip210)\" d=\"M 0 0 M76.8809 371.707 Q73.5476 371.707 71.6263 373.489 Q69.7282 375.272 69.7282 378.396 Q69.7282 381.521 71.6263 383.304 Q73.5476 385.086 76.8809 385.086 Q80.2143 385.086 82.1355 383.304 Q84.0568 381.498 84.0568 378.396 Q84.0568 375.272 82.1355 373.489 Q80.2374 371.707 76.8809 371.707 M72.205 369.716 Q69.1958 368.975 67.506 366.915 Q65.8393 364.855 65.8393 361.892 Q65.8393 357.748 68.7791 355.341 Q71.7421 352.934 76.8809 352.934 Q82.0429 352.934 84.9827 355.341 Q87.9225 357.748 87.9225 361.892 Q87.9225 364.855 86.2327 366.915 Q84.5661 368.975 81.58 369.716 Q84.9596 370.503 86.8346 372.795 Q88.7327 375.086 88.7327 378.396 Q88.7327 383.42 85.654 386.105 Q82.5985 388.79 76.8809 388.79 Q71.1634 388.79 68.0847 386.105 Q65.0292 383.42 65.0292 378.396 Q65.0292 375.086 66.9273 372.795 Q68.8254 370.503 72.205 369.716 M70.4921 362.332 Q70.4921 365.017 72.1587 366.522 Q73.8485 368.026 76.8809 368.026 Q79.8902 368.026 81.58 366.522 Q83.2929 365.017 83.2929 362.332 Q83.2929 359.647 81.58 358.142 Q79.8902 356.637 76.8809 356.637 Q73.8485 356.637 72.1587 358.142 Q70.4921 359.647 70.4921 362.332 Z\" fill=\"#000000\" fill-rule=\"evenodd\" fill-opacity=\"1\" /><path clip-path=\"url(#clip210)\" d=\"M 0 0 M92.6216 353.559 L114.844 353.559 L114.844 355.549 L102.297 388.119 L97.4132 388.119 L109.219 357.494 L92.6216 357.494 L92.6216 353.559 Z\" fill=\"#000000\" fill-rule=\"evenodd\" fill-opacity=\"1\" /><path clip-path=\"url(#clip210)\" d=\"M 0 0 M119.913 382.239 L124.797 382.239 L124.797 388.119 L119.913 388.119 L119.913 382.239 Z\" fill=\"#000000\" fill-rule=\"evenodd\" fill-opacity=\"1\" /><path clip-path=\"url(#clip210)\" d=\"M 0 0 M129.913 353.559 L148.269 353.559 L148.269 357.494 L134.195 357.494 L134.195 365.966 Q135.214 365.619 136.232 365.457 Q137.251 365.272 138.27 365.272 Q144.057 365.272 147.436 368.443 Q150.816 371.614 150.816 377.031 Q150.816 382.609 147.344 385.711 Q143.871 388.79 137.552 388.79 Q135.376 388.79 133.107 388.42 Q130.862 388.049 128.455 387.308 L128.455 382.609 Q130.538 383.744 132.76 384.299 Q134.982 384.855 137.459 384.855 Q141.464 384.855 143.802 382.748 Q146.14 380.642 146.14 377.031 Q146.14 373.42 143.802 371.313 Q141.464 369.207 137.459 369.207 Q135.584 369.207 133.709 369.623 Q131.857 370.04 129.913 370.92 L129.913 353.559 Z\" fill=\"#000000\" fill-rule=\"evenodd\" fill-opacity=\"1\" /><path clip-path=\"url(#clip210)\" d=\"M 0 0 M65.2143 104.539 L65.2143 100.279 Q66.9736 101.113 68.7791 101.553 Q70.5847 101.992 72.3208 101.992 Q76.9504 101.992 79.3809 98.8906 Q81.8346 95.7656 82.1818 89.423 Q80.8393 91.4138 78.7791 92.4786 Q76.7189 93.5434 74.2189 93.5434 Q69.0338 93.5434 66.0014 90.4184 Q62.9921 87.2703 62.9921 81.8305 Q62.9921 76.5064 66.1403 73.2889 Q69.2884 70.0713 74.5198 70.0713 Q80.5152 70.0713 83.6633 74.6777 Q86.8346 79.261 86.8346 88.011 Q86.8346 96.1823 82.9457 101.066 Q79.08 105.928 72.5291 105.928 Q70.7699 105.928 68.9643 105.58 Q67.1588 105.233 65.2143 104.539 M74.5198 89.886 Q77.668 89.886 79.4967 87.7332 Q81.3485 85.5805 81.3485 81.8305 Q81.3485 78.1036 79.4967 75.9509 Q77.668 73.775 74.5198 73.775 Q71.3717 73.775 69.5199 75.9509 Q67.6912 78.1036 67.6912 81.8305 Q67.6912 85.5805 69.5199 87.7332 Q71.3717 89.886 74.5198 89.886 Z\" fill=\"#000000\" fill-rule=\"evenodd\" fill-opacity=\"1\" /><path clip-path=\"url(#clip210)\" d=\"M 0 0 M101.904 73.775 Q98.2929 73.775 96.4642 77.3398 Q94.6586 80.8814 94.6586 88.011 Q94.6586 95.1174 96.4642 98.6822 Q98.2929 102.224 101.904 102.224 Q105.538 102.224 107.344 98.6822 Q109.172 95.1174 109.172 88.011 Q109.172 80.8814 107.344 77.3398 Q105.538 73.775 101.904 73.775 M101.904 70.0713 Q107.714 70.0713 110.77 74.6777 Q113.848 79.261 113.848 88.011 Q113.848 96.7378 110.77 101.344 Q107.714 105.928 101.904 105.928 Q96.0938 105.928 93.0151 101.344 Q89.9596 96.7378 89.9596 88.011 Q89.9596 79.261 93.0151 74.6777 Q96.0938 70.0713 101.904 70.0713 Z\" fill=\"#000000\" fill-rule=\"evenodd\" fill-opacity=\"1\" /><path clip-path=\"url(#clip210)\" d=\"M 0 0 M118.918 99.3767 L123.802 99.3767 L123.802 105.256 L118.918 105.256 L118.918 99.3767 Z\" fill=\"#000000\" fill-rule=\"evenodd\" fill-opacity=\"1\" /><path clip-path=\"url(#clip210)\" d=\"M 0 0 M138.871 73.775 Q135.26 73.775 133.432 77.3398 Q131.626 80.8814 131.626 88.011 Q131.626 95.1174 133.432 98.6822 Q135.26 102.224 138.871 102.224 Q142.506 102.224 144.311 98.6822 Q146.14 95.1174 146.14 88.011 Q146.14 80.8814 144.311 77.3398 Q142.506 73.775 138.871 73.775 M138.871 70.0713 Q144.682 70.0713 147.737 74.6777 Q150.816 79.261 150.816 88.011 Q150.816 96.7378 147.737 101.344 Q144.682 105.928 138.871 105.928 Q133.061 105.928 129.983 101.344 Q126.927 96.7378 126.927 88.011 Q126.927 79.261 129.983 74.6777 Q133.061 70.0713 138.871 70.0713 Z\" fill=\"#000000\" fill-rule=\"evenodd\" fill-opacity=\"1\" /><circle clip-path=\"url(#clip212)\" cx=\"2104.33\" cy=\"87.9763\" r=\"14\" fill=\"#009af9\" fill-rule=\"evenodd\" fill-opacity=\"1\" stroke=\"#000000\" stroke-opacity=\"1\" stroke-width=\"3.2\"/>\n",
       "<circle clip-path=\"url(#clip212)\" cx=\"1917.54\" cy=\"1445.72\" r=\"14\" fill=\"#009af9\" fill-rule=\"evenodd\" fill-opacity=\"1\" stroke=\"#000000\" stroke-opacity=\"1\" stroke-width=\"3.2\"/>\n",
       "<circle clip-path=\"url(#clip212)\" cx=\"2291.12\" cy=\"540.556\" r=\"14\" fill=\"#009af9\" fill-rule=\"evenodd\" fill-opacity=\"1\" stroke=\"#000000\" stroke-opacity=\"1\" stroke-width=\"3.2\"/>\n",
       "<circle clip-path=\"url(#clip212)\" cx=\"236.456\" cy=\"314.266\" r=\"14\" fill=\"#009af9\" fill-rule=\"evenodd\" fill-opacity=\"1\" stroke=\"#000000\" stroke-opacity=\"1\" stroke-width=\"3.2\"/>\n",
       "<path clip-path=\"url(#clip210)\" d=\"\n",
       "M1989.74 251.724 L2280.76 251.724 L2280.76 130.764 L1989.74 130.764  Z\n",
       "  \" fill=\"#ffffff\" fill-rule=\"evenodd\" fill-opacity=\"1\"/>\n",
       "<polyline clip-path=\"url(#clip210)\" style=\"stroke:#000000; stroke-width:4; stroke-opacity:1; fill:none\" points=\"\n",
       "  1989.74,251.724 2280.76,251.724 2280.76,130.764 1989.74,130.764 1989.74,251.724 \n",
       "  \"/>\n",
       "<circle clip-path=\"url(#clip210)\" cx=\"2097.74\" cy=\"191.244\" r=\"23\" fill=\"#009af9\" fill-rule=\"evenodd\" fill-opacity=\"1\" stroke=\"#000000\" stroke-opacity=\"1\" stroke-width=\"5.12\"/>\n",
       "<path clip-path=\"url(#clip210)\" d=\"M 0 0 M2195.58 210.931 Q2193.77 215.561 2192.06 216.973 Q2190.35 218.385 2187.48 218.385 L2184.08 218.385 L2184.08 214.82 L2186.58 214.82 Q2188.33 214.82 2189.31 213.987 Q2190.28 213.154 2191.46 210.052 L2192.22 208.107 L2181.74 182.598 L2186.25 182.598 L2194.35 202.876 L2202.46 182.598 L2206.97 182.598 L2195.58 210.931 Z\" fill=\"#000000\" fill-rule=\"evenodd\" fill-opacity=\"1\" /><path clip-path=\"url(#clip210)\" d=\"M 0 0 M2212.85 204.589 L2220.49 204.589 L2220.49 178.223 L2212.18 179.89 L2212.18 175.631 L2220.44 173.964 L2225.12 173.964 L2225.12 204.589 L2232.76 204.589 L2232.76 208.524 L2212.85 208.524 L2212.85 204.589 Z\" fill=\"#000000\" fill-rule=\"evenodd\" fill-opacity=\"1\" /></svg>\n"
      ]
     },
     "execution_count": 233,
     "metadata": {},
     "output_type": "execute_result"
    }
   ],
   "source": [
    "# command for show csv file in scatter plot or scatter graph\n",
    "scatter(manik.English,manik.Science)"
   ]
  },
  {
   "cell_type": "code",
   "execution_count": 234,
   "metadata": {},
   "outputs": [
    {
     "data": {
      "image/svg+xml": [
       "<?xml version=\"1.0\" encoding=\"utf-8\"?>\n",
       "<svg xmlns=\"http://www.w3.org/2000/svg\" xmlns:xlink=\"http://www.w3.org/1999/xlink\" width=\"600\" height=\"400\" viewBox=\"0 0 2400 1600\">\n",
       "<defs>\n",
       "  <clipPath id=\"clip250\">\n",
       "    <rect x=\"0\" y=\"0\" width=\"2400\" height=\"1600\"/>\n",
       "  </clipPath>\n",
       "</defs>\n",
       "<path clip-path=\"url(#clip250)\" d=\"\n",
       "M0 1600 L2400 1600 L2400 0 L0 0  Z\n",
       "  \" fill=\"#ffffff\" fill-rule=\"evenodd\" fill-opacity=\"1\"/>\n",
       "<defs>\n",
       "  <clipPath id=\"clip251\">\n",
       "    <rect x=\"480\" y=\"0\" width=\"1681\" height=\"1600\"/>\n",
       "  </clipPath>\n",
       "</defs>\n",
       "<path clip-path=\"url(#clip250)\" d=\"\n",
       "M147.848 1486.45 L2352.76 1486.45 L2352.76 47.2441 L147.848 47.2441  Z\n",
       "  \" fill=\"#ffffff\" fill-rule=\"evenodd\" fill-opacity=\"1\"/>\n",
       "<defs>\n",
       "  <clipPath id=\"clip252\">\n",
       "    <rect x=\"147\" y=\"47\" width=\"2206\" height=\"1440\"/>\n",
       "  </clipPath>\n",
       "</defs>\n",
       "<polyline clip-path=\"url(#clip252)\" style=\"stroke:#000000; stroke-width:2; stroke-opacity:0.1; fill:none\" points=\"\n",
       "  269.122,1486.45 269.122,47.2441 \n",
       "  \"/>\n",
       "<polyline clip-path=\"url(#clip252)\" style=\"stroke:#000000; stroke-width:2; stroke-opacity:0.1; fill:none\" points=\"\n",
       "  759.712,1486.45 759.712,47.2441 \n",
       "  \"/>\n",
       "<polyline clip-path=\"url(#clip252)\" style=\"stroke:#000000; stroke-width:2; stroke-opacity:0.1; fill:none\" points=\"\n",
       "  1250.3,1486.45 1250.3,47.2441 \n",
       "  \"/>\n",
       "<polyline clip-path=\"url(#clip252)\" style=\"stroke:#000000; stroke-width:2; stroke-opacity:0.1; fill:none\" points=\"\n",
       "  1740.89,1486.45 1740.89,47.2441 \n",
       "  \"/>\n",
       "<polyline clip-path=\"url(#clip252)\" style=\"stroke:#000000; stroke-width:2; stroke-opacity:0.1; fill:none\" points=\"\n",
       "  2231.48,1486.45 2231.48,47.2441 \n",
       "  \"/>\n",
       "<polyline clip-path=\"url(#clip252)\" style=\"stroke:#000000; stroke-width:2; stroke-opacity:0.1; fill:none\" points=\"\n",
       "  147.848,1445.72 2352.76,1445.72 \n",
       "  \"/>\n",
       "<polyline clip-path=\"url(#clip252)\" style=\"stroke:#000000; stroke-width:2; stroke-opacity:0.1; fill:none\" points=\"\n",
       "  147.848,1106.28 2352.76,1106.28 \n",
       "  \"/>\n",
       "<polyline clip-path=\"url(#clip252)\" style=\"stroke:#000000; stroke-width:2; stroke-opacity:0.1; fill:none\" points=\"\n",
       "  147.848,766.846 2352.76,766.846 \n",
       "  \"/>\n",
       "<polyline clip-path=\"url(#clip252)\" style=\"stroke:#000000; stroke-width:2; stroke-opacity:0.1; fill:none\" points=\"\n",
       "  147.848,427.411 2352.76,427.411 \n",
       "  \"/>\n",
       "<polyline clip-path=\"url(#clip252)\" style=\"stroke:#000000; stroke-width:2; stroke-opacity:0.1; fill:none\" points=\"\n",
       "  147.848,87.9763 2352.76,87.9763 \n",
       "  \"/>\n",
       "<polyline clip-path=\"url(#clip250)\" style=\"stroke:#000000; stroke-width:4; stroke-opacity:1; fill:none\" points=\"\n",
       "  147.848,1486.45 2352.76,1486.45 \n",
       "  \"/>\n",
       "<polyline clip-path=\"url(#clip250)\" style=\"stroke:#000000; stroke-width:4; stroke-opacity:1; fill:none\" points=\"\n",
       "  147.848,1486.45 147.848,47.2441 \n",
       "  \"/>\n",
       "<polyline clip-path=\"url(#clip250)\" style=\"stroke:#000000; stroke-width:4; stroke-opacity:1; fill:none\" points=\"\n",
       "  269.122,1486.45 269.122,1469.18 \n",
       "  \"/>\n",
       "<polyline clip-path=\"url(#clip250)\" style=\"stroke:#000000; stroke-width:4; stroke-opacity:1; fill:none\" points=\"\n",
       "  759.712,1486.45 759.712,1469.18 \n",
       "  \"/>\n",
       "<polyline clip-path=\"url(#clip250)\" style=\"stroke:#000000; stroke-width:4; stroke-opacity:1; fill:none\" points=\"\n",
       "  1250.3,1486.45 1250.3,1469.18 \n",
       "  \"/>\n",
       "<polyline clip-path=\"url(#clip250)\" style=\"stroke:#000000; stroke-width:4; stroke-opacity:1; fill:none\" points=\"\n",
       "  1740.89,1486.45 1740.89,1469.18 \n",
       "  \"/>\n",
       "<polyline clip-path=\"url(#clip250)\" style=\"stroke:#000000; stroke-width:4; stroke-opacity:1; fill:none\" points=\"\n",
       "  2231.48,1486.45 2231.48,1469.18 \n",
       "  \"/>\n",
       "<polyline clip-path=\"url(#clip250)\" style=\"stroke:#000000; stroke-width:4; stroke-opacity:1; fill:none\" points=\"\n",
       "  147.848,1445.72 174.307,1445.72 \n",
       "  \"/>\n",
       "<polyline clip-path=\"url(#clip250)\" style=\"stroke:#000000; stroke-width:4; stroke-opacity:1; fill:none\" points=\"\n",
       "  147.848,1106.28 174.307,1106.28 \n",
       "  \"/>\n",
       "<polyline clip-path=\"url(#clip250)\" style=\"stroke:#000000; stroke-width:4; stroke-opacity:1; fill:none\" points=\"\n",
       "  147.848,766.846 174.307,766.846 \n",
       "  \"/>\n",
       "<polyline clip-path=\"url(#clip250)\" style=\"stroke:#000000; stroke-width:4; stroke-opacity:1; fill:none\" points=\"\n",
       "  147.848,427.411 174.307,427.411 \n",
       "  \"/>\n",
       "<polyline clip-path=\"url(#clip250)\" style=\"stroke:#000000; stroke-width:4; stroke-opacity:1; fill:none\" points=\"\n",
       "  147.848,87.9763 174.307,87.9763 \n",
       "  \"/>\n",
       "<path clip-path=\"url(#clip250)\" d=\"M 0 0 M245.002 1505.36 L267.224 1505.36 L267.224 1507.35 L254.678 1539.92 L249.794 1539.92 L261.599 1509.3 L245.002 1509.3 L245.002 1505.36 Z\" fill=\"#000000\" fill-rule=\"evenodd\" fill-opacity=\"1\" /><path clip-path=\"url(#clip250)\" d=\"M 0 0 M272.34 1505.36 L290.696 1505.36 L290.696 1509.3 L276.622 1509.3 L276.622 1517.77 Q277.641 1517.42 278.659 1517.26 Q279.678 1517.07 280.696 1517.07 Q286.483 1517.07 289.863 1520.24 Q293.242 1523.42 293.242 1528.83 Q293.242 1534.41 289.77 1537.51 Q286.298 1540.59 279.979 1540.59 Q277.803 1540.59 275.534 1540.22 Q273.289 1539.85 270.881 1539.11 L270.881 1534.41 Q272.965 1535.54 275.187 1536.1 Q277.409 1536.66 279.886 1536.66 Q283.891 1536.66 286.229 1534.55 Q288.566 1532.44 288.566 1528.83 Q288.566 1525.22 286.229 1523.11 Q283.891 1521.01 279.886 1521.01 Q278.011 1521.01 276.136 1521.42 Q274.284 1521.84 272.34 1522.72 L272.34 1505.36 Z\" fill=\"#000000\" fill-rule=\"evenodd\" fill-opacity=\"1\" /><path clip-path=\"url(#clip250)\" d=\"M 0 0 M746.205 1523.51 Q742.872 1523.51 740.951 1525.29 Q739.052 1527.07 739.052 1530.2 Q739.052 1533.32 740.951 1535.11 Q742.872 1536.89 746.205 1536.89 Q749.539 1536.89 751.46 1535.11 Q753.381 1533.3 753.381 1530.2 Q753.381 1527.07 751.46 1525.29 Q749.562 1523.51 746.205 1523.51 M741.529 1521.52 Q738.52 1520.78 736.83 1518.72 Q735.164 1516.66 735.164 1513.69 Q735.164 1509.55 738.103 1507.14 Q741.066 1504.73 746.205 1504.73 Q751.367 1504.73 754.307 1507.14 Q757.247 1509.55 757.247 1513.69 Q757.247 1516.66 755.557 1518.72 Q753.89 1520.78 750.904 1521.52 Q754.284 1522.3 756.159 1524.6 Q758.057 1526.89 758.057 1530.2 Q758.057 1535.22 754.978 1537.91 Q751.923 1540.59 746.205 1540.59 Q740.488 1540.59 737.409 1537.91 Q734.353 1535.22 734.353 1530.2 Q734.353 1526.89 736.252 1524.6 Q738.15 1522.3 741.529 1521.52 M739.816 1514.13 Q739.816 1516.82 741.483 1518.32 Q743.173 1519.83 746.205 1519.83 Q749.214 1519.83 750.904 1518.32 Q752.617 1516.82 752.617 1514.13 Q752.617 1511.45 750.904 1509.94 Q749.214 1508.44 746.205 1508.44 Q743.173 1508.44 741.483 1509.94 Q739.816 1511.45 739.816 1514.13 Z\" fill=\"#000000\" fill-rule=\"evenodd\" fill-opacity=\"1\" /><path clip-path=\"url(#clip250)\" d=\"M 0 0 M773.126 1508.44 Q769.515 1508.44 767.687 1512 Q765.881 1515.55 765.881 1522.67 Q765.881 1529.78 767.687 1533.35 Q769.515 1536.89 773.126 1536.89 Q776.761 1536.89 778.566 1533.35 Q780.395 1529.78 780.395 1522.67 Q780.395 1515.55 778.566 1512 Q776.761 1508.44 773.126 1508.44 M773.126 1504.73 Q778.937 1504.73 781.992 1509.34 Q785.071 1513.92 785.071 1522.67 Q785.071 1531.4 781.992 1536.01 Q778.937 1540.59 773.126 1540.59 Q767.316 1540.59 764.238 1536.01 Q761.182 1531.4 761.182 1522.67 Q761.182 1513.92 764.238 1509.34 Q767.316 1504.73 773.126 1504.73 Z\" fill=\"#000000\" fill-rule=\"evenodd\" fill-opacity=\"1\" /><path clip-path=\"url(#clip250)\" d=\"M 0 0 M1237.29 1523.51 Q1233.96 1523.51 1232.04 1525.29 Q1230.14 1527.07 1230.14 1530.2 Q1230.14 1533.32 1232.04 1535.11 Q1233.96 1536.89 1237.29 1536.89 Q1240.63 1536.89 1242.55 1535.11 Q1244.47 1533.3 1244.47 1530.2 Q1244.47 1527.07 1242.55 1525.29 Q1240.65 1523.51 1237.29 1523.51 M1232.62 1521.52 Q1229.61 1520.78 1227.92 1518.72 Q1226.25 1516.66 1226.25 1513.69 Q1226.25 1509.55 1229.19 1507.14 Q1232.15 1504.73 1237.29 1504.73 Q1242.45 1504.73 1245.39 1507.14 Q1248.33 1509.55 1248.33 1513.69 Q1248.33 1516.66 1246.64 1518.72 Q1244.98 1520.78 1241.99 1521.52 Q1245.37 1522.3 1247.25 1524.6 Q1249.14 1526.89 1249.14 1530.2 Q1249.14 1535.22 1246.07 1537.91 Q1243.01 1540.59 1237.29 1540.59 Q1231.58 1540.59 1228.5 1537.91 Q1225.44 1535.22 1225.44 1530.2 Q1225.44 1526.89 1227.34 1524.6 Q1229.24 1522.3 1232.62 1521.52 M1230.9 1514.13 Q1230.9 1516.82 1232.57 1518.32 Q1234.26 1519.83 1237.29 1519.83 Q1240.3 1519.83 1241.99 1518.32 Q1243.7 1516.82 1243.7 1514.13 Q1243.7 1511.45 1241.99 1509.94 Q1240.3 1508.44 1237.29 1508.44 Q1234.26 1508.44 1232.57 1509.94 Q1230.9 1511.45 1230.9 1514.13 Z\" fill=\"#000000\" fill-rule=\"evenodd\" fill-opacity=\"1\" /><path clip-path=\"url(#clip250)\" d=\"M 0 0 M1254.26 1505.36 L1272.62 1505.36 L1272.62 1509.3 L1258.54 1509.3 L1258.54 1517.77 Q1259.56 1517.42 1260.58 1517.26 Q1261.6 1517.07 1262.62 1517.07 Q1268.4 1517.07 1271.78 1520.24 Q1275.16 1523.42 1275.16 1528.83 Q1275.16 1534.41 1271.69 1537.51 Q1268.22 1540.59 1261.9 1540.59 Q1259.72 1540.59 1257.45 1540.22 Q1255.21 1539.85 1252.8 1539.11 L1252.8 1534.41 Q1254.89 1535.54 1257.11 1536.1 Q1259.33 1536.66 1261.81 1536.66 Q1265.81 1536.66 1268.15 1534.55 Q1270.49 1532.44 1270.49 1528.83 Q1270.49 1525.22 1268.15 1523.11 Q1265.81 1521.01 1261.81 1521.01 Q1259.93 1521.01 1258.06 1521.42 Q1256.2 1521.84 1254.26 1522.72 L1254.26 1505.36 Z\" fill=\"#000000\" fill-rule=\"evenodd\" fill-opacity=\"1\" /><path clip-path=\"url(#clip250)\" d=\"M 0 0 M1717.69 1539.2 L1717.69 1534.94 Q1719.45 1535.78 1721.25 1536.22 Q1723.06 1536.66 1724.79 1536.66 Q1729.42 1536.66 1731.85 1533.55 Q1734.31 1530.43 1734.65 1524.09 Q1733.31 1526.08 1731.25 1527.14 Q1729.19 1528.21 1726.69 1528.21 Q1721.51 1528.21 1718.47 1525.08 Q1715.46 1521.93 1715.46 1516.49 Q1715.46 1511.17 1718.61 1507.95 Q1721.76 1504.73 1726.99 1504.73 Q1732.99 1504.73 1736.14 1509.34 Q1739.31 1513.92 1739.31 1522.67 Q1739.31 1530.85 1735.42 1535.73 Q1731.55 1540.59 1725 1540.59 Q1723.24 1540.59 1721.44 1540.24 Q1719.63 1539.9 1717.69 1539.2 M1726.99 1524.55 Q1730.14 1524.55 1731.97 1522.4 Q1733.82 1520.24 1733.82 1516.49 Q1733.82 1512.77 1731.97 1510.61 Q1730.14 1508.44 1726.99 1508.44 Q1723.84 1508.44 1721.99 1510.61 Q1720.16 1512.77 1720.16 1516.49 Q1720.16 1520.24 1721.99 1522.4 Q1723.84 1524.55 1726.99 1524.55 Z\" fill=\"#000000\" fill-rule=\"evenodd\" fill-opacity=\"1\" /><path clip-path=\"url(#clip250)\" d=\"M 0 0 M1754.38 1508.44 Q1750.76 1508.44 1748.94 1512 Q1747.13 1515.55 1747.13 1522.67 Q1747.13 1529.78 1748.94 1533.35 Q1750.76 1536.89 1754.38 1536.89 Q1758.01 1536.89 1759.82 1533.35 Q1761.64 1529.78 1761.64 1522.67 Q1761.64 1515.55 1759.82 1512 Q1758.01 1508.44 1754.38 1508.44 M1754.38 1504.73 Q1760.19 1504.73 1763.24 1509.34 Q1766.32 1513.92 1766.32 1522.67 Q1766.32 1531.4 1763.24 1536.01 Q1760.19 1540.59 1754.38 1540.59 Q1748.57 1540.59 1745.49 1536.01 Q1742.43 1531.4 1742.43 1522.67 Q1742.43 1513.92 1745.49 1509.34 Q1748.57 1504.73 1754.38 1504.73 Z\" fill=\"#000000\" fill-rule=\"evenodd\" fill-opacity=\"1\" /><path clip-path=\"url(#clip250)\" d=\"M 0 0 M2208.77 1539.2 L2208.77 1534.94 Q2210.53 1535.78 2212.34 1536.22 Q2214.14 1536.66 2215.88 1536.66 Q2220.51 1536.66 2222.94 1533.55 Q2225.39 1530.43 2225.74 1524.09 Q2224.4 1526.08 2222.34 1527.14 Q2220.28 1528.21 2217.78 1528.21 Q2212.59 1528.21 2209.56 1525.08 Q2206.55 1521.93 2206.55 1516.49 Q2206.55 1511.17 2209.7 1507.95 Q2212.85 1504.73 2218.08 1504.73 Q2224.07 1504.73 2227.22 1509.34 Q2230.39 1513.92 2230.39 1522.67 Q2230.39 1530.85 2226.51 1535.73 Q2222.64 1540.59 2216.09 1540.59 Q2214.33 1540.59 2212.52 1540.24 Q2210.72 1539.9 2208.77 1539.2 M2218.08 1524.55 Q2221.23 1524.55 2223.06 1522.4 Q2224.91 1520.24 2224.91 1516.49 Q2224.91 1512.77 2223.06 1510.61 Q2221.23 1508.44 2218.08 1508.44 Q2214.93 1508.44 2213.08 1510.61 Q2211.25 1512.77 2211.25 1516.49 Q2211.25 1520.24 2213.08 1522.4 Q2214.93 1524.55 2218.08 1524.55 Z\" fill=\"#000000\" fill-rule=\"evenodd\" fill-opacity=\"1\" /><path clip-path=\"url(#clip250)\" d=\"M 0 0 M2235.51 1505.36 L2253.87 1505.36 L2253.87 1509.3 L2239.79 1509.3 L2239.79 1517.77 Q2240.81 1517.42 2241.83 1517.26 Q2242.85 1517.07 2243.87 1517.07 Q2249.65 1517.07 2253.03 1520.24 Q2256.41 1523.42 2256.41 1528.83 Q2256.41 1534.41 2252.94 1537.51 Q2249.47 1540.59 2243.15 1540.59 Q2240.97 1540.59 2238.7 1540.22 Q2236.46 1539.85 2234.05 1539.11 L2234.05 1534.41 Q2236.13 1535.54 2238.36 1536.1 Q2240.58 1536.66 2243.06 1536.66 Q2247.06 1536.66 2249.4 1534.55 Q2251.74 1532.44 2251.74 1528.83 Q2251.74 1525.22 2249.4 1523.11 Q2247.06 1521.01 2243.06 1521.01 Q2241.18 1521.01 2239.31 1521.42 Q2237.45 1521.84 2235.51 1522.72 L2235.51 1505.36 Z\" fill=\"#000000\" fill-rule=\"evenodd\" fill-opacity=\"1\" /><path clip-path=\"url(#clip250)\" d=\"M 0 0 M74.9365 1431.51 Q71.3254 1431.51 69.4967 1435.08 Q67.6912 1438.62 67.6912 1445.75 Q67.6912 1452.86 69.4967 1456.42 Q71.3254 1459.96 74.9365 1459.96 Q78.5707 1459.96 80.3763 1456.42 Q82.205 1452.86 82.205 1445.75 Q82.205 1438.62 80.3763 1435.08 Q78.5707 1431.51 74.9365 1431.51 M74.9365 1427.81 Q80.7467 1427.81 83.8022 1432.42 Q86.8809 1437 86.8809 1445.75 Q86.8809 1454.48 83.8022 1459.08 Q80.7467 1463.67 74.9365 1463.67 Q69.1264 1463.67 66.0477 1459.08 Q62.9921 1454.48 62.9921 1445.75 Q62.9921 1437 66.0477 1432.42 Q69.1264 1427.81 74.9365 1427.81 Z\" fill=\"#000000\" fill-rule=\"evenodd\" fill-opacity=\"1\" /><path clip-path=\"url(#clip250)\" d=\"M 0 0 M91.9503 1457.12 L96.8345 1457.12 L96.8345 1463 L91.9503 1463 L91.9503 1457.12 Z\" fill=\"#000000\" fill-rule=\"evenodd\" fill-opacity=\"1\" /><path clip-path=\"url(#clip250)\" d=\"M 0 0 M111.904 1431.51 Q108.293 1431.51 106.464 1435.08 Q104.659 1438.62 104.659 1445.75 Q104.659 1452.86 106.464 1456.42 Q108.293 1459.96 111.904 1459.96 Q115.538 1459.96 117.344 1456.42 Q119.172 1452.86 119.172 1445.75 Q119.172 1438.62 117.344 1435.08 Q115.538 1431.51 111.904 1431.51 M111.904 1427.81 Q117.714 1427.81 120.77 1432.42 Q123.848 1437 123.848 1445.75 Q123.848 1454.48 120.77 1459.08 Q117.714 1463.67 111.904 1463.67 Q106.094 1463.67 103.015 1459.08 Q99.9595 1454.48 99.9595 1445.75 Q99.9595 1437 103.015 1432.42 Q106.094 1427.81 111.904 1427.81 Z\" fill=\"#000000\" fill-rule=\"evenodd\" fill-opacity=\"1\" /><path clip-path=\"url(#clip250)\" d=\"M 0 0 M75.9319 1092.08 Q72.3208 1092.08 70.4921 1095.64 Q68.6865 1099.19 68.6865 1106.32 Q68.6865 1113.42 70.4921 1116.99 Q72.3208 1120.53 75.9319 1120.53 Q79.5661 1120.53 81.3717 1116.99 Q83.2004 1113.42 83.2004 1106.32 Q83.2004 1099.19 81.3717 1095.64 Q79.5661 1092.08 75.9319 1092.08 M75.9319 1088.38 Q81.742 1088.38 84.7976 1092.98 Q87.8763 1097.57 87.8763 1106.32 Q87.8763 1115.04 84.7976 1119.65 Q81.742 1124.23 75.9319 1124.23 Q70.1217 1124.23 67.043 1119.65 Q63.9875 1115.04 63.9875 1106.32 Q63.9875 1097.57 67.043 1092.98 Q70.1217 1088.38 75.9319 1088.38 Z\" fill=\"#000000\" fill-rule=\"evenodd\" fill-opacity=\"1\" /><path clip-path=\"url(#clip250)\" d=\"M 0 0 M92.9457 1117.68 L97.8299 1117.68 L97.8299 1123.56 L92.9457 1123.56 L92.9457 1117.68 Z\" fill=\"#000000\" fill-rule=\"evenodd\" fill-opacity=\"1\" /><path clip-path=\"url(#clip250)\" d=\"M 0 0 M102.946 1089 L121.302 1089 L121.302 1092.94 L107.228 1092.94 L107.228 1101.41 Q108.247 1101.06 109.265 1100.9 Q110.284 1100.71 111.302 1100.71 Q117.089 1100.71 120.469 1103.89 Q123.848 1107.06 123.848 1112.47 Q123.848 1118.05 120.376 1121.15 Q116.904 1124.23 110.584 1124.23 Q108.409 1124.23 106.14 1123.86 Q103.895 1123.49 101.487 1122.75 L101.487 1118.05 Q103.571 1119.19 105.793 1119.74 Q108.015 1120.3 110.492 1120.3 Q114.496 1120.3 116.834 1118.19 Q119.172 1116.08 119.172 1112.47 Q119.172 1108.86 116.834 1106.76 Q114.496 1104.65 110.492 1104.65 Q108.617 1104.65 106.742 1105.07 Q104.89 1105.48 102.946 1106.36 L102.946 1089 Z\" fill=\"#000000\" fill-rule=\"evenodd\" fill-opacity=\"1\" /><path clip-path=\"url(#clip250)\" d=\"M 0 0 M66.9736 780.191 L74.6124 780.191 L74.6124 753.825 L66.3023 755.492 L66.3023 751.233 L74.5661 749.566 L79.242 749.566 L79.242 780.191 L86.8809 780.191 L86.8809 784.126 L66.9736 784.126 L66.9736 780.191 Z\" fill=\"#000000\" fill-rule=\"evenodd\" fill-opacity=\"1\" /><path clip-path=\"url(#clip250)\" d=\"M 0 0 M91.9503 778.246 L96.8345 778.246 L96.8345 784.126 L91.9503 784.126 L91.9503 778.246 Z\" fill=\"#000000\" fill-rule=\"evenodd\" fill-opacity=\"1\" /><path clip-path=\"url(#clip250)\" d=\"M 0 0 M111.904 752.645 Q108.293 752.645 106.464 756.209 Q104.659 759.751 104.659 766.881 Q104.659 773.987 106.464 777.552 Q108.293 781.094 111.904 781.094 Q115.538 781.094 117.344 777.552 Q119.172 773.987 119.172 766.881 Q119.172 759.751 117.344 756.209 Q115.538 752.645 111.904 752.645 M111.904 748.941 Q117.714 748.941 120.77 753.547 Q123.848 758.131 123.848 766.881 Q123.848 775.608 120.77 780.214 Q117.714 784.797 111.904 784.797 Q106.094 784.797 103.015 780.214 Q99.9595 775.608 99.9595 766.881 Q99.9595 758.131 103.015 753.547 Q106.094 748.941 111.904 748.941 Z\" fill=\"#000000\" fill-rule=\"evenodd\" fill-opacity=\"1\" /><path clip-path=\"url(#clip250)\" d=\"M 0 0 M67.969 440.756 L75.6078 440.756 L75.6078 414.39 L67.2977 416.057 L67.2977 411.798 L75.5615 410.131 L80.2374 410.131 L80.2374 440.756 L87.8763 440.756 L87.8763 444.691 L67.969 444.691 L67.969 440.756 Z\" fill=\"#000000\" fill-rule=\"evenodd\" fill-opacity=\"1\" /><path clip-path=\"url(#clip250)\" d=\"M 0 0 M92.9457 438.812 L97.8299 438.812 L97.8299 444.691 L92.9457 444.691 L92.9457 438.812 Z\" fill=\"#000000\" fill-rule=\"evenodd\" fill-opacity=\"1\" /><path clip-path=\"url(#clip250)\" d=\"M 0 0 M102.946 410.131 L121.302 410.131 L121.302 414.066 L107.228 414.066 L107.228 422.538 Q108.247 422.191 109.265 422.029 Q110.284 421.844 111.302 421.844 Q117.089 421.844 120.469 425.015 Q123.848 428.187 123.848 433.603 Q123.848 439.182 120.376 442.284 Q116.904 445.362 110.584 445.362 Q108.409 445.362 106.14 444.992 Q103.895 444.622 101.487 443.881 L101.487 439.182 Q103.571 440.316 105.793 440.872 Q108.015 441.427 110.492 441.427 Q114.496 441.427 116.834 439.321 Q119.172 437.214 119.172 433.603 Q119.172 429.992 116.834 427.886 Q114.496 425.779 110.492 425.779 Q108.617 425.779 106.742 426.196 Q104.89 426.613 102.946 427.492 L102.946 410.131 Z\" fill=\"#000000\" fill-rule=\"evenodd\" fill-opacity=\"1\" /><path clip-path=\"url(#clip250)\" d=\"M 0 0 M70.5615 101.321 L86.8809 101.321 L86.8809 105.256 L64.9366 105.256 L64.9366 101.321 Q67.5986 98.5665 72.1819 93.9369 Q76.7883 89.2841 77.9689 87.9416 Q80.2143 85.4184 81.0939 83.6823 Q81.9967 81.9231 81.9967 80.2333 Q81.9967 77.4786 80.0522 75.7425 Q78.1309 74.0064 75.0291 74.0064 Q72.83 74.0064 70.3763 74.7703 Q67.9458 75.5342 65.168 77.0851 L65.168 72.3629 Q67.9921 71.2287 70.4458 70.65 Q72.8995 70.0713 74.9365 70.0713 Q80.3068 70.0713 83.5013 72.7565 Q86.6957 75.4416 86.6957 79.9323 Q86.6957 82.062 85.8855 83.9832 Q85.0985 85.8814 82.992 88.474 Q82.4133 89.1453 79.3115 92.3628 Q76.2096 95.5573 70.5615 101.321 Z\" fill=\"#000000\" fill-rule=\"evenodd\" fill-opacity=\"1\" /><path clip-path=\"url(#clip250)\" d=\"M 0 0 M91.9503 99.3767 L96.8345 99.3767 L96.8345 105.256 L91.9503 105.256 L91.9503 99.3767 Z\" fill=\"#000000\" fill-rule=\"evenodd\" fill-opacity=\"1\" /><path clip-path=\"url(#clip250)\" d=\"M 0 0 M111.904 73.775 Q108.293 73.775 106.464 77.3398 Q104.659 80.8814 104.659 88.011 Q104.659 95.1174 106.464 98.6822 Q108.293 102.224 111.904 102.224 Q115.538 102.224 117.344 98.6822 Q119.172 95.1174 119.172 88.011 Q119.172 80.8814 117.344 77.3398 Q115.538 73.775 111.904 73.775 M111.904 70.0713 Q117.714 70.0713 120.77 74.6777 Q123.848 79.261 123.848 88.011 Q123.848 96.7378 120.77 101.344 Q117.714 105.928 111.904 105.928 Q106.094 105.928 103.015 101.344 Q99.9595 96.7378 99.9595 88.011 Q99.9595 79.261 103.015 74.6777 Q106.094 70.0713 111.904 70.0713 Z\" fill=\"#000000\" fill-rule=\"evenodd\" fill-opacity=\"1\" /><path clip-path=\"url(#clip252)\" d=\"\n",
       "M269.122 766.846 L269.122 1445.72 L759.712 1445.72 L759.712 766.846 L269.122 766.846 L269.122 766.846  Z\n",
       "  \" fill=\"#009af9\" fill-rule=\"evenodd\" fill-opacity=\"1\"/>\n",
       "<polyline clip-path=\"url(#clip252)\" style=\"stroke:#000000; stroke-width:4; stroke-opacity:1; fill:none\" points=\"\n",
       "  269.122,766.846 269.122,1445.72 759.712,1445.72 759.712,766.846 269.122,766.846 \n",
       "  \"/>\n",
       "<path clip-path=\"url(#clip252)\" d=\"\n",
       "M759.712 1445.72 L759.712 1445.72 L1250.3 1445.72 L1250.3 1445.72 L759.712 1445.72 L759.712 1445.72  Z\n",
       "  \" fill=\"#009af9\" fill-rule=\"evenodd\" fill-opacity=\"1\"/>\n",
       "<polyline clip-path=\"url(#clip252)\" style=\"stroke:#000000; stroke-width:4; stroke-opacity:1; fill:none\" points=\"\n",
       "  759.712,1445.72 759.712,1445.72 1250.3,1445.72 759.712,1445.72 \n",
       "  \"/>\n",
       "<path clip-path=\"url(#clip252)\" d=\"\n",
       "M1250.3 87.9763 L1250.3 1445.72 L1740.89 1445.72 L1740.89 87.9763 L1250.3 87.9763 L1250.3 87.9763  Z\n",
       "  \" fill=\"#009af9\" fill-rule=\"evenodd\" fill-opacity=\"1\"/>\n",
       "<polyline clip-path=\"url(#clip252)\" style=\"stroke:#000000; stroke-width:4; stroke-opacity:1; fill:none\" points=\"\n",
       "  1250.3,87.9763 1250.3,1445.72 1740.89,1445.72 1740.89,87.9763 1250.3,87.9763 \n",
       "  \"/>\n",
       "<path clip-path=\"url(#clip252)\" d=\"\n",
       "M1740.89 766.846 L1740.89 1445.72 L2231.48 1445.72 L2231.48 766.846 L1740.89 766.846 L1740.89 766.846  Z\n",
       "  \" fill=\"#009af9\" fill-rule=\"evenodd\" fill-opacity=\"1\"/>\n",
       "<polyline clip-path=\"url(#clip252)\" style=\"stroke:#000000; stroke-width:4; stroke-opacity:1; fill:none\" points=\"\n",
       "  1740.89,766.846 1740.89,1445.72 2231.48,1445.72 2231.48,766.846 1740.89,766.846 \n",
       "  \"/>\n",
       "<path clip-path=\"url(#clip250)\" d=\"\n",
       "M1989.74 251.724 L2280.76 251.724 L2280.76 130.764 L1989.74 130.764  Z\n",
       "  \" fill=\"#ffffff\" fill-rule=\"evenodd\" fill-opacity=\"1\"/>\n",
       "<polyline clip-path=\"url(#clip250)\" style=\"stroke:#000000; stroke-width:4; stroke-opacity:1; fill:none\" points=\"\n",
       "  1989.74,251.724 2280.76,251.724 2280.76,130.764 1989.74,130.764 1989.74,251.724 \n",
       "  \"/>\n",
       "<path clip-path=\"url(#clip250)\" d=\"\n",
       "M2013.74 215.436 L2157.74 215.436 L2157.74 167.052 L2013.74 167.052 L2013.74 215.436  Z\n",
       "  \" fill=\"#009af9\" fill-rule=\"evenodd\" fill-opacity=\"1\"/>\n",
       "<polyline clip-path=\"url(#clip250)\" style=\"stroke:#000000; stroke-width:4; stroke-opacity:1; fill:none\" points=\"\n",
       "  2013.74,215.436 2157.74,215.436 2157.74,167.052 2013.74,167.052 2013.74,215.436 \n",
       "  \"/>\n",
       "<path clip-path=\"url(#clip250)\" d=\"M 0 0 M2195.58 210.931 Q2193.77 215.561 2192.06 216.973 Q2190.35 218.385 2187.48 218.385 L2184.08 218.385 L2184.08 214.82 L2186.58 214.82 Q2188.33 214.82 2189.31 213.987 Q2190.28 213.154 2191.46 210.052 L2192.22 208.107 L2181.74 182.598 L2186.25 182.598 L2194.35 202.876 L2202.46 182.598 L2206.97 182.598 L2195.58 210.931 Z\" fill=\"#000000\" fill-rule=\"evenodd\" fill-opacity=\"1\" /><path clip-path=\"url(#clip250)\" d=\"M 0 0 M2212.85 204.589 L2220.49 204.589 L2220.49 178.223 L2212.18 179.89 L2212.18 175.631 L2220.44 173.964 L2225.12 173.964 L2225.12 204.589 L2232.76 204.589 L2232.76 208.524 L2212.85 208.524 L2212.85 204.589 Z\" fill=\"#000000\" fill-rule=\"evenodd\" fill-opacity=\"1\" /></svg>\n"
      ]
     },
     "execution_count": 234,
     "metadata": {},
     "output_type": "execute_result"
    }
   ],
   "source": [
    "# command for show csv file in histogram plot or histogram graph\n",
    "histogram(manik.Science)"
   ]
  },
  {
   "cell_type": "markdown",
   "metadata": {},
   "source": [
    "# WORKING WITH DATA BASE (SQL LITE,MY SQL , ETC)"
   ]
  },
  {
   "cell_type": "markdown",
   "metadata": {},
   "source": [
    "#### Basically three type of operation \n",
    "#### DDL (data defination language) - create , Alter and drop\n",
    "#### DML(data manipulation language) - Insert , update and Delete\n",
    "#### DQL(data querry language) - Select\n",
    "### Command for import this in program\n",
    "#### DDL - \"SQLite.DB\"\n",
    "#### DML -\"SQLite.execute\"\n",
    "#### DQL -\"SQLite.Query\""
   ]
  },
  {
   "cell_type": "code",
   "execution_count": 348,
   "metadata": {},
   "outputs": [],
   "source": [
    "using Pkg"
   ]
  },
  {
   "cell_type": "code",
   "execution_count": 349,
   "metadata": {},
   "outputs": [
    {
     "name": "stderr",
     "output_type": "stream",
     "text": [
      "\u001b[32m\u001b[1m  Resolving\u001b[22m\u001b[39m package versions...\n",
      "\u001b[32m\u001b[1m   Updating\u001b[22m\u001b[39m `C:\\Users\\aksha\\.julia\\environments\\v1.4\\Project.toml`\n",
      "\u001b[90m [no changes]\u001b[39m\n",
      "\u001b[32m\u001b[1m   Updating\u001b[22m\u001b[39m `C:\\Users\\aksha\\.julia\\environments\\v1.4\\Manifest.toml`\n",
      "\u001b[90m [no changes]\u001b[39m\n"
     ]
    }
   ],
   "source": [
    "Pkg.add(\"SQLite\")"
   ]
  },
  {
   "cell_type": "code",
   "execution_count": 350,
   "metadata": {},
   "outputs": [],
   "source": [
    "using SQLite"
   ]
  },
  {
   "cell_type": "code",
   "execution_count": 351,
   "metadata": {},
   "outputs": [
    {
     "data": {
      "text/plain": [
       "SQLite.DB(\"Movies\")"
      ]
     },
     "execution_count": 351,
     "metadata": {},
     "output_type": "execute_result"
    }
   ],
   "source": [
    "#for creating database in system\n",
    "db = SQLite.DB(\"Movies\")"
   ]
  },
  {
   "cell_type": "code",
   "execution_count": 352,
   "metadata": {},
   "outputs": [
    {
     "data": {
      "text/plain": [
       "101"
      ]
     },
     "execution_count": 352,
     "metadata": {},
     "output_type": "execute_result"
    }
   ],
   "source": [
    "# for creating table in database\n",
    "SQLite.execute(db,\"CREATE TABLE IF NOT EXISTS movies(movie_id REAL,movie_name TEXT, location TEXT)\")"
   ]
  },
  {
   "cell_type": "code",
   "execution_count": 353,
   "metadata": {},
   "outputs": [
    {
     "data": {
      "text/plain": [
       "(name = [\"movies\"],)"
      ]
     },
     "execution_count": 353,
     "metadata": {},
     "output_type": "execute_result"
    }
   ],
   "source": [
    "# for showing table in database\n",
    "SQLite.tables(db)"
   ]
  },
  {
   "cell_type": "code",
   "execution_count": 354,
   "metadata": {},
   "outputs": [
    {
     "data": {
      "text/plain": [
       "101"
      ]
     },
     "execution_count": 354,
     "metadata": {},
     "output_type": "execute_result"
    }
   ],
   "source": [
    "#for inserting the value in movies database\n",
    "SQLite.execute(db,\"INSERT INTO movies(movie_id,movie_name,location) VALUES(1,'Avengers','mathura')\")"
   ]
  },
  {
   "cell_type": "code",
   "execution_count": 355,
   "metadata": {},
   "outputs": [
    {
     "ename": "MethodError",
     "evalue": "MethodError: no method matching SQLite.Query(::SQLite.DB, ::String)\nClosest candidates are:\n  SQLite.Query(::Any, ::Any, !Matched::Any, !Matched::Any, !Matched::Any) at C:\\Users\\aksha\\.julia\\packages\\SQLite\\KwDwo\\src\\tables.jl:6",
     "output_type": "error",
     "traceback": [
      "MethodError: no method matching SQLite.Query(::SQLite.DB, ::String)\nClosest candidates are:\n  SQLite.Query(::Any, ::Any, !Matched::Any, !Matched::Any, !Matched::Any) at C:\\Users\\aksha\\.julia\\packages\\SQLite\\KwDwo\\src\\tables.jl:6",
      "",
      "Stacktrace:",
      " [1] top-level scope at In[355]:1"
     ]
    }
   ],
   "source": [
    "#for showing query from movies in database\n",
    "SQLite.Query(db,\"SELECT * FROM movies\")"
   ]
  },
  {
   "cell_type": "code",
   "execution_count": 356,
   "metadata": {},
   "outputs": [
    {
     "data": {
      "text/html": [
       "<table class=\"data-frame\"><thead><tr><th></th><th>cid</th><th>name</th><th>type</th><th>notnull</th><th>dflt_value</th><th>pk</th></tr><tr><th></th><th>Int64</th><th>String</th><th>String</th><th>Int64</th><th>Missing</th><th>Int64</th></tr></thead><tbody><p>3 rows × 6 columns</p><tr><th>1</th><td>0</td><td>movie_id</td><td>REAL</td><td>0</td><td><em>missing</em></td><td>0</td></tr><tr><th>2</th><td>1</td><td>movie_name</td><td>TEXT</td><td>0</td><td><em>missing</em></td><td>0</td></tr><tr><th>3</th><td>2</td><td>location</td><td>TEXT</td><td>0</td><td><em>missing</em></td><td>0</td></tr></tbody></table>"
      ],
      "text/latex": [
       "\\begin{tabular}{r|cccccc}\n",
       "\t& cid & name & type & notnull & dflt\\_value & pk\\\\\n",
       "\t\\hline\n",
       "\t& Int64 & String & String & Int64 & Missing & Int64\\\\\n",
       "\t\\hline\n",
       "\t1 & 0 & movie\\_id & REAL & 0 & \\emph{missing} & 0 \\\\\n",
       "\t2 & 1 & movie\\_name & TEXT & 0 & \\emph{missing} & 0 \\\\\n",
       "\t3 & 2 & location & TEXT & 0 & \\emph{missing} & 0 \\\\\n",
       "\\end{tabular}\n"
      ],
      "text/plain": [
       "3×6 DataFrame\n",
       "│ Row │ cid   │ name       │ type   │ notnull │ dflt_value │ pk    │\n",
       "│     │ \u001b[90mInt64\u001b[39m │ \u001b[90mString\u001b[39m     │ \u001b[90mString\u001b[39m │ \u001b[90mInt64\u001b[39m   │ \u001b[90mMissing\u001b[39m    │ \u001b[90mInt64\u001b[39m │\n",
       "├─────┼───────┼────────────┼────────┼─────────┼────────────┼───────┤\n",
       "│ 1   │ 0     │ movie_id   │ REAL   │ 0       │ \u001b[90mmissing\u001b[39m    │ 0     │\n",
       "│ 2   │ 1     │ movie_name │ TEXT   │ 0       │ \u001b[90mmissing\u001b[39m    │ 0     │\n",
       "│ 3   │ 2     │ location   │ TEXT   │ 0       │ \u001b[90mmissing\u001b[39m    │ 0     │"
      ]
     },
     "execution_count": 356,
     "metadata": {},
     "output_type": "execute_result"
    }
   ],
   "source": [
    "# command for showing the table in  Dataframe\n",
    "DataFrame(SQLite.columns(db,\"movies\"))"
   ]
  },
  {
   "cell_type": "markdown",
   "metadata": {},
   "source": [
    "MOST USEFULL CLAUSE IN DATABASE(WHERE CONDITION, GROUP BY, ORDER BY, HAVING , JOIN ETC... )"
   ]
  },
  {
   "cell_type": "markdown",
   "metadata": {},
   "source": [
    "# WORKING WITH PYTHON PACKAGED\n",
    "#### IT IS BEST PART OF JULIA THAT YOU CAN EASILY USE PYTHON PACKAGED OR LIBRARY IN JULIA PROGRAMING"
   ]
  },
  {
   "cell_type": "code",
   "execution_count": 24,
   "metadata": {},
   "outputs": [],
   "source": [
    "# first you need to import python package\n",
    "using Pkg"
   ]
  },
  {
   "cell_type": "code",
   "execution_count": 25,
   "metadata": {},
   "outputs": [
    {
     "name": "stderr",
     "output_type": "stream",
     "text": [
      "\u001b[32m\u001b[1m  Resolving\u001b[22m\u001b[39m package versions...\n",
      "\u001b[32m\u001b[1m   Updating\u001b[22m\u001b[39m `C:\\Users\\aksha\\.julia\\environments\\v1.4\\Project.toml`\n",
      "\u001b[90m [no changes]\u001b[39m\n",
      "\u001b[32m\u001b[1m   Updating\u001b[22m\u001b[39m `C:\\Users\\aksha\\.julia\\environments\\v1.4\\Manifest.toml`\n",
      "\u001b[90m [no changes]\u001b[39m\n"
     ]
    }
   ],
   "source": [
    "# command for import PyCall(means python package) in julia programing\n",
    "Pkg.add(\"PyCall\")"
   ]
  },
  {
   "cell_type": "code",
   "execution_count": 26,
   "metadata": {},
   "outputs": [],
   "source": [
    "using PyCall"
   ]
  },
  {
   "cell_type": "code",
   "execution_count": 27,
   "metadata": {},
   "outputs": [
    {
     "data": {
      "text/plain": [
       "PyObject <module 'numpy' from 'C:\\\\Users\\\\aksha\\\\.julia\\\\conda\\\\3\\\\lib\\\\site-packages\\\\numpy\\\\__init__.py'>"
      ]
     },
     "execution_count": 27,
     "metadata": {},
     "output_type": "execute_result"
    }
   ],
   "source": [
    "# command for call numpy(famous library in python) in julia\n",
    "np = pyimport(\"numpy\")"
   ]
  },
  {
   "cell_type": "code",
   "execution_count": 28,
   "metadata": {},
   "outputs": [
    {
     "data": {
      "text/plain": [
       "6-element Array{Int64,1}:\n",
       " 1\n",
       " 2\n",
       " 3\n",
       " 4\n",
       " 5\n",
       " 6"
      ]
     },
     "execution_count": 28,
     "metadata": {},
     "output_type": "execute_result"
    }
   ],
   "source": [
    "#example of numpy in array\n",
    "a1 = np.array([1,2,3,4,5,6])"
   ]
  },
  {
   "cell_type": "code",
   "execution_count": 29,
   "metadata": {},
   "outputs": [
    {
     "data": {
      "text/plain": [
       "3.5"
      ]
     },
     "execution_count": 29,
     "metadata": {},
     "output_type": "execute_result"
    }
   ],
   "source": [
    "# command for print mean value\n",
    "np.mean(a1)"
   ]
  },
  {
   "cell_type": "code",
   "execution_count": 30,
   "metadata": {},
   "outputs": [
    {
     "data": {
      "text/plain": [
       "3.5"
      ]
     },
     "execution_count": 30,
     "metadata": {},
     "output_type": "execute_result"
    }
   ],
   "source": [
    "# command for print median value\n",
    "np.median(a1)"
   ]
  },
  {
   "cell_type": "code",
   "execution_count": 31,
   "metadata": {},
   "outputs": [
    {
     "data": {
      "text/plain": [
       "6"
      ]
     },
     "execution_count": 31,
     "metadata": {},
     "output_type": "execute_result"
    }
   ],
   "source": [
    "#command for print max value\n",
    "np.max(a1)"
   ]
  },
  {
   "cell_type": "code",
   "execution_count": 32,
   "metadata": {},
   "outputs": [
    {
     "data": {
      "text/plain": [
       "PyObject <module 'math' (built-in)>"
      ]
     },
     "execution_count": 32,
     "metadata": {},
     "output_type": "execute_result"
    }
   ],
   "source": [
    "# importing math python library in julia\n",
    "math = pyimport(\"math\")"
   ]
  },
  {
   "cell_type": "code",
   "execution_count": 33,
   "metadata": {},
   "outputs": [
    {
     "data": {
      "text/plain": [
       "-0.4161468365471424"
      ]
     },
     "execution_count": 33,
     "metadata": {},
     "output_type": "execute_result"
    }
   ],
   "source": [
    "# example of math library\n",
    "cos(2)"
   ]
  },
  {
   "cell_type": "code",
   "execution_count": 34,
   "metadata": {},
   "outputs": [
    {
     "data": {
      "text/plain": [
       "0.8939966636005579"
      ]
     },
     "execution_count": 34,
     "metadata": {},
     "output_type": "execute_result"
    }
   ],
   "source": [
    "# using math python lib. sin\n",
    "math.sin(90)"
   ]
  },
  {
   "cell_type": "code",
   "execution_count": 35,
   "metadata": {},
   "outputs": [
    {
     "data": {
      "text/plain": [
       "0.17453292519943295"
      ]
     },
     "execution_count": 35,
     "metadata": {},
     "output_type": "execute_result"
    }
   ],
   "source": [
    "# using math python lib. radians\n",
    "math.radians(10)"
   ]
  },
  {
   "cell_type": "markdown",
   "metadata": {},
   "source": [
    "# MACHINE LEARNING IN JULIA"
   ]
  },
  {
   "cell_type": "code",
   "execution_count": 36,
   "metadata": {},
   "outputs": [],
   "source": [
    "using Pkg"
   ]
  },
  {
   "cell_type": "code",
   "execution_count": 37,
   "metadata": {},
   "outputs": [
    {
     "name": "stderr",
     "output_type": "stream",
     "text": [
      "\u001b[32m\u001b[1m  Resolving\u001b[22m\u001b[39m package versions...\n",
      "\u001b[32m\u001b[1m   Updating\u001b[22m\u001b[39m `C:\\Users\\aksha\\.julia\\environments\\v1.4\\Project.toml`\n",
      "\u001b[90m [no changes]\u001b[39m\n",
      "\u001b[32m\u001b[1m   Updating\u001b[22m\u001b[39m `C:\\Users\\aksha\\.julia\\environments\\v1.4\\Manifest.toml`\n",
      "\u001b[90m [no changes]\u001b[39m\n"
     ]
    }
   ],
   "source": [
    "# command for adding machine learning module in julia\n",
    "Pkg.add(\"ScikitLearn\")"
   ]
  },
  {
   "cell_type": "code",
   "execution_count": 38,
   "metadata": {},
   "outputs": [],
   "source": [
    "# using command of module \n",
    "using ScikitLearn"
   ]
  },
  {
   "cell_type": "code",
   "execution_count": 39,
   "metadata": {},
   "outputs": [
    {
     "data": {
      "text/html": [
       "<table class=\"data-frame\"><thead><tr><th></th><th>Student_name</th><th>English</th><th>Math</th><th>Computer</th><th>Science</th><th>status</th></tr><tr><th></th><th>String</th><th>Int64</th><th>Int64</th><th>Int64</th><th>Int64</th><th>String</th></tr></thead><tbody><p>4 rows × 6 columns</p><tr><th>1</th><td>Manik =&gt;</td><td>98</td><td>83</td><td>85</td><td>90</td><td>pass</td></tr><tr><th>2</th><td>Rudra =&gt;</td><td>97</td><td>87</td><td>89</td><td>78</td><td>pass</td></tr><tr><th>3</th><td>Akshay =&gt;</td><td>99</td><td>87</td><td>66</td><td>86</td><td>fail</td></tr><tr><th>4</th><td>vishal =&gt;</td><td>88</td><td>86</td><td>77</td><td>88</td><td>pass</td></tr></tbody></table>"
      ],
      "text/latex": [
       "\\begin{tabular}{r|cccccc}\n",
       "\t& Student\\_name & English & Math & Computer & Science & status\\\\\n",
       "\t\\hline\n",
       "\t& String & Int64 & Int64 & Int64 & Int64 & String\\\\\n",
       "\t\\hline\n",
       "\t1 & Manik => & 98 & 83 & 85 & 90 & pass \\\\\n",
       "\t2 & Rudra => & 97 & 87 & 89 & 78 & pass \\\\\n",
       "\t3 & Akshay => & 99 & 87 & 66 & 86 & fail \\\\\n",
       "\t4 & vishal => & 88 & 86 & 77 & 88 & pass \\\\\n",
       "\\end{tabular}\n"
      ],
      "text/plain": [
       "4×6 DataFrames.DataFrame\n",
       "│ Row │ Student_name │ English │ Math  │ Computer │ Science │ status │\n",
       "│     │ \u001b[90mString\u001b[39m       │ \u001b[90mInt64\u001b[39m   │ \u001b[90mInt64\u001b[39m │ \u001b[90mInt64\u001b[39m    │ \u001b[90mInt64\u001b[39m   │ \u001b[90mString\u001b[39m │\n",
       "├─────┼──────────────┼─────────┼───────┼──────────┼─────────┼────────┤\n",
       "│ 1   │ Manik =>     │ 98      │ 83    │ 85       │ 90      │ pass   │\n",
       "│ 2   │ Rudra =>     │ 97      │ 87    │ 89       │ 78      │ pass   │\n",
       "│ 3   │ Akshay =>    │ 99      │ 87    │ 66       │ 86      │ fail   │\n",
       "│ 4   │ vishal =>    │ 88      │ 86    │ 77       │ 88      │ pass   │"
      ]
     },
     "execution_count": 39,
     "metadata": {},
     "output_type": "execute_result"
    }
   ],
   "source": [
    "# add csv file to testing or training the data in machine learning \n",
    "using CSV\n",
    "manik = CSV.read(\"Manik.csv\",normalizenames = true)"
   ]
  },
  {
   "cell_type": "markdown",
   "metadata": {},
   "source": [
    "##### THIS MACHINE LEARNING LIBRARY ONLY TAKE ARRAYS AS AN X AND Y PARAMETER OR DEPENDENT AND INDEPENDENT VALUE "
   ]
  },
  {
   "cell_type": "code",
   "execution_count": 40,
   "metadata": {},
   "outputs": [
    {
     "data": {
      "text/plain": [
       "4×4 Array{Int64,2}:\n",
       " 98  83  85  90\n",
       " 97  87  89  78\n",
       " 99  87  66  86\n",
       " 88  86  77  88"
      ]
     },
     "execution_count": 40,
     "metadata": {},
     "output_type": "execute_result"
    }
   ],
   "source": [
    "# convert the csv data(row 2,3,4,5) in array\n",
    "manik_x = convert(Array,manik[:,[2,3,4,5]])"
   ]
  },
  {
   "cell_type": "code",
   "execution_count": 74,
   "metadata": {},
   "outputs": [
    {
     "data": {
      "text/plain": [
       "4-element Array{String,1}:\n",
       " \"pass\"\n",
       " \"pass\"\n",
       " \"fail\"\n",
       " \"pass\""
      ]
     },
     "execution_count": 74,
     "metadata": {},
     "output_type": "execute_result"
    }
   ],
   "source": [
    "# convert the csv data(row 6) in array\n",
    "manik_y = convert(Array,manik[:,6])"
   ]
  },
  {
   "cell_type": "code",
   "execution_count": 75,
   "metadata": {},
   "outputs": [
    {
     "name": "stderr",
     "output_type": "stream",
     "text": [
      "WARNING: redefining constant LogisticRegression\n"
     ]
    },
    {
     "data": {
      "text/plain": [
       "PyObject <class 'sklearn.linear_model._logistic.LogisticRegression'>"
      ]
     },
     "execution_count": 75,
     "metadata": {},
     "output_type": "execute_result"
    }
   ],
   "source": [
    "# COMMAND FOR IMPORT MACHINE LEARNING ALGORITHM LOGISTICREGRESSION\n",
    "@sk_import linear_model: LogisticRegression"
   ]
  },
  {
   "cell_type": "code",
   "execution_count": 51,
   "metadata": {},
   "outputs": [
    {
     "data": {
      "text/plain": [
       "PyObject LogisticRegression(C=1.0, class_weight=None, dual=False, fit_intercept=True,\n",
       "                   intercept_scaling=1, l1_ratio=None, max_iter=100,\n",
       "                   multi_class='auto', n_jobs=None, penalty='l2',\n",
       "                   random_state=None, solver='lbfgs', tol=0.0001, verbose=0,\n",
       "                   warm_start=False)"
      ]
     },
     "execution_count": 51,
     "metadata": {},
     "output_type": "execute_result"
    }
   ],
   "source": [
    "#INITIALIZATION OF MODEL \n",
    "log_reg_model = LogisticRegression()"
   ]
  },
  {
   "cell_type": "code",
   "execution_count": 52,
   "metadata": {},
   "outputs": [
    {
     "data": {
      "text/plain": [
       "PyObject LogisticRegression(C=1.0, class_weight=None, dual=False, fit_intercept=True,\n",
       "                   intercept_scaling=1, l1_ratio=None, max_iter=100,\n",
       "                   multi_class='auto', n_jobs=None, penalty='l2',\n",
       "                   random_state=None, solver='lbfgs', tol=0.0001, verbose=0,\n",
       "                   warm_start=False)"
      ]
     },
     "execution_count": 52,
     "metadata": {},
     "output_type": "execute_result"
    }
   ],
   "source": [
    "# FOR FIT THE DATA\n",
    "fit!(log_reg_model,manik_x,manik_y)"
   ]
  },
  {
   "cell_type": "code",
   "execution_count": 53,
   "metadata": {},
   "outputs": [
    {
     "data": {
      "text/plain": [
       "4-element Array{Any,1}:\n",
       " \"pass\"\n",
       " \"pass\"\n",
       " \"fail\"\n",
       " \"pass\""
      ]
     },
     "execution_count": 53,
     "metadata": {},
     "output_type": "execute_result"
    }
   ],
   "source": [
    "# FOR PREDICTION THE DATA EACH ROW\n",
    "predictions = predict(log_reg_model,manik_x)"
   ]
  },
  {
   "cell_type": "code",
   "execution_count": 54,
   "metadata": {},
   "outputs": [
    {
     "data": {
      "text/plain": [
       "PyObject <function accuracy_score at 0x00000000400771F8>"
      ]
     },
     "execution_count": 54,
     "metadata": {},
     "output_type": "execute_result"
    }
   ],
   "source": [
    "# IMPORT THE ACCURACY MODEL TO CHECK ACCURACY OF DATA\n",
    "@sk_import metrics: accuracy_score"
   ]
  },
  {
   "cell_type": "code",
   "execution_count": 55,
   "metadata": {},
   "outputs": [
    {
     "data": {
      "text/plain": [
       "1.0"
      ]
     },
     "execution_count": 55,
     "metadata": {},
     "output_type": "execute_result"
    }
   ],
   "source": [
    "# CHECK THE ACCURACY\n",
    "accuracy = accuracy_score(predictions,manik_y)"
   ]
  },
  {
   "cell_type": "code",
   "execution_count": 76,
   "metadata": {},
   "outputs": [
    {
     "data": {
      "text/plain": [
       "PyObject <class 'sklearn.tree._classes.DecisionTreeClassifier'>"
      ]
     },
     "execution_count": 76,
     "metadata": {},
     "output_type": "execute_result"
    }
   ],
   "source": [
    "@sk_import tree: DecisionTreeClassifier"
   ]
  },
  {
   "cell_type": "code",
   "execution_count": 77,
   "metadata": {},
   "outputs": [
    {
     "data": {
      "text/plain": [
       "PyObject DecisionTreeClassifier(ccp_alpha=0.0, class_weight=None, criterion='gini',\n",
       "                       max_depth=None, max_features=None, max_leaf_nodes=None,\n",
       "                       min_impurity_decrease=0.0, min_impurity_split=None,\n",
       "                       min_samples_leaf=1, min_samples_split=2,\n",
       "                       min_weight_fraction_leaf=0.0, presort='deprecated',\n",
       "                       random_state=None, splitter='best')"
      ]
     },
     "execution_count": 77,
     "metadata": {},
     "output_type": "execute_result"
    }
   ],
   "source": [
    "#command for add DecisionTreeClassifier model\n",
    "tree_model = DecisionTreeClassifier()"
   ]
  },
  {
   "cell_type": "code",
   "execution_count": 78,
   "metadata": {},
   "outputs": [
    {
     "data": {
      "text/plain": [
       "PyObject DecisionTreeClassifier(ccp_alpha=0.0, class_weight=None, criterion='gini',\n",
       "                       max_depth=None, max_features=None, max_leaf_nodes=None,\n",
       "                       min_impurity_decrease=0.0, min_impurity_split=None,\n",
       "                       min_samples_leaf=1, min_samples_split=2,\n",
       "                       min_weight_fraction_leaf=0.0, presort='deprecated',\n",
       "                       random_state=None, splitter='best')"
      ]
     },
     "execution_count": 78,
     "metadata": {},
     "output_type": "execute_result"
    }
   ],
   "source": [
    "fit!(tree_model, manik_x, manik_y)"
   ]
  },
  {
   "cell_type": "code",
   "execution_count": 79,
   "metadata": {},
   "outputs": [
    {
     "data": {
      "text/plain": [
       "4-element Array{Any,1}:\n",
       " \"pass\"\n",
       " \"pass\"\n",
       " \"fail\"\n",
       " \"pass\""
      ]
     },
     "execution_count": 79,
     "metadata": {},
     "output_type": "execute_result"
    }
   ],
   "source": [
    "tree_predictions = predict(tree_model, manik_x)"
   ]
  },
  {
   "cell_type": "code",
   "execution_count": 80,
   "metadata": {},
   "outputs": [
    {
     "data": {
      "text/plain": [
       "1.0"
      ]
     },
     "execution_count": 80,
     "metadata": {},
     "output_type": "execute_result"
    }
   ],
   "source": [
    "tree_accuracy = accuracy_score(tree_predictions, manik_y)"
   ]
  },
  {
   "cell_type": "code",
   "execution_count": null,
   "metadata": {},
   "outputs": [],
   "source": []
  },
  {
   "cell_type": "code",
   "execution_count": 57,
   "metadata": {},
   "outputs": [
    {
     "data": {
      "text/plain": [
       "PyObject <class 'sklearn.ensemble._forest.RandomForestClassifier'>"
      ]
     },
     "execution_count": 57,
     "metadata": {},
     "output_type": "execute_result"
    }
   ],
   "source": [
    "# command for add RandomForestClassifier model\n",
    "@sk_import ensemble: RandomForestClassifier"
   ]
  },
  {
   "cell_type": "code",
   "execution_count": 59,
   "metadata": {},
   "outputs": [
    {
     "data": {
      "text/plain": [
       "PyObject RandomForestClassifier(bootstrap=True, ccp_alpha=0.0, class_weight=None,\n",
       "                       criterion='gini', max_depth=None, max_features='auto',\n",
       "                       max_leaf_nodes=None, max_samples=None,\n",
       "                       min_impurity_decrease=0.0, min_impurity_split=None,\n",
       "                       min_samples_leaf=1, min_samples_split=2,\n",
       "                       min_weight_fraction_leaf=0.0, n_estimators=100,\n",
       "                       n_jobs=None, oob_score=False, random_state=None,\n",
       "                       verbose=0, warm_start=False)"
      ]
     },
     "execution_count": 59,
     "metadata": {},
     "output_type": "execute_result"
    }
   ],
   "source": [
    "rf_model = RandomForestClassifier()"
   ]
  },
  {
   "cell_type": "code",
   "execution_count": 60,
   "metadata": {},
   "outputs": [
    {
     "data": {
      "text/plain": [
       "PyObject RandomForestClassifier(bootstrap=True, ccp_alpha=0.0, class_weight=None,\n",
       "                       criterion='gini', max_depth=None, max_features='auto',\n",
       "                       max_leaf_nodes=None, max_samples=None,\n",
       "                       min_impurity_decrease=0.0, min_impurity_split=None,\n",
       "                       min_samples_leaf=1, min_samples_split=2,\n",
       "                       min_weight_fraction_leaf=0.0, n_estimators=100,\n",
       "                       n_jobs=None, oob_score=False, random_state=None,\n",
       "                       verbose=0, warm_start=False)"
      ]
     },
     "execution_count": 60,
     "metadata": {},
     "output_type": "execute_result"
    }
   ],
   "source": [
    "fit!(rf_model,manik_x,manik_y)"
   ]
  },
  {
   "cell_type": "code",
   "execution_count": 61,
   "metadata": {},
   "outputs": [
    {
     "data": {
      "text/plain": [
       "4-element Array{Any,1}:\n",
       " \"pass\"\n",
       " \"pass\"\n",
       " \"fail\"\n",
       " \"pass\""
      ]
     },
     "execution_count": 61,
     "metadata": {},
     "output_type": "execute_result"
    }
   ],
   "source": [
    "rf_predictions = predict(rf_model,manik_x)"
   ]
  },
  {
   "cell_type": "code",
   "execution_count": 62,
   "metadata": {},
   "outputs": [
    {
     "data": {
      "text/plain": [
       "1.0"
      ]
     },
     "execution_count": 62,
     "metadata": {},
     "output_type": "execute_result"
    }
   ],
   "source": [
    "rf_accuracy = accuracy_score(rf_predictions,manik_y)"
   ]
  },
  {
   "cell_type": "code",
   "execution_count": 63,
   "metadata": {},
   "outputs": [
    {
     "name": "stderr",
     "output_type": "stream",
     "text": [
      "┌ Warning: Module model_selection has been ported to Julia - try `import ScikitLearn: CrossValidation` instead\n",
      "└ @ ScikitLearn.Skcore C:\\Users\\aksha\\.julia\\packages\\ScikitLearn\\bo2Pt\\src\\Skcore.jl:140\n"
     ]
    },
    {
     "data": {
      "text/plain": [
       "PyObject <function train_test_split at 0x0000000040050D38>"
      ]
     },
     "execution_count": 63,
     "metadata": {},
     "output_type": "execute_result"
    }
   ],
   "source": [
    "# command for add model_selection model (data set for training or testing)\n",
    "@sk_import model_selection: train_test_split"
   ]
  },
  {
   "cell_type": "code",
   "execution_count": 64,
   "metadata": {},
   "outputs": [
    {
     "data": {
      "text/plain": [
       "4-element Array{Array,1}:\n",
       " [99 87 66 86; 98 83 85 90; 97 87 89 78]\n",
       " [88 86 77 88]\n",
       " [\"fail\", \"pass\", \"pass\"]\n",
       " [\"pass\"]"
      ]
     },
     "execution_count": 64,
     "metadata": {},
     "output_type": "execute_result"
    }
   ],
   "source": [
    "x_train, x_test, y_train, y_test = train_test_split(manik_x,manik_y,random_state=1)"
   ]
  },
  {
   "cell_type": "code",
   "execution_count": 65,
   "metadata": {},
   "outputs": [
    {
     "data": {
      "text/plain": [
       "PyObject LogisticRegression(C=1.0, class_weight=None, dual=False, fit_intercept=True,\n",
       "                   intercept_scaling=1, l1_ratio=None, max_iter=100,\n",
       "                   multi_class='auto', n_jobs=None, penalty='l2',\n",
       "                   random_state=None, solver='lbfgs', tol=0.0001, verbose=0,\n",
       "                   warm_start=False)"
      ]
     },
     "execution_count": 65,
     "metadata": {},
     "output_type": "execute_result"
    }
   ],
   "source": [
    "log_reg_2 = LogisticRegression()"
   ]
  },
  {
   "cell_type": "code",
   "execution_count": 67,
   "metadata": {},
   "outputs": [
    {
     "data": {
      "text/plain": [
       "PyObject LogisticRegression(C=1.0, class_weight=None, dual=False, fit_intercept=True,\n",
       "                   intercept_scaling=1, l1_ratio=None, max_iter=100,\n",
       "                   multi_class='auto', n_jobs=None, penalty='l2',\n",
       "                   random_state=None, solver='lbfgs', tol=0.0001, verbose=0,\n",
       "                   warm_start=False)"
      ]
     },
     "execution_count": 67,
     "metadata": {},
     "output_type": "execute_result"
    }
   ],
   "source": [
    "fit!(log_reg_2, x_train, y_train)"
   ]
  },
  {
   "cell_type": "code",
   "execution_count": 71,
   "metadata": {},
   "outputs": [
    {
     "data": {
      "text/plain": [
       "1-element Array{Any,1}:\n",
       " \"pass\""
      ]
     },
     "execution_count": 71,
     "metadata": {},
     "output_type": "execute_result"
    }
   ],
   "source": [
    "predictions_log_reg = predict(log_reg_2, x_test)"
   ]
  },
  {
   "cell_type": "code",
   "execution_count": 73,
   "metadata": {},
   "outputs": [
    {
     "data": {
      "text/plain": [
       "1.0"
      ]
     },
     "execution_count": 73,
     "metadata": {},
     "output_type": "execute_result"
    }
   ],
   "source": [
    "accuracy_log_reg = accuracy_score(predictions_log_reg, y_test)"
   ]
  },
  {
   "cell_type": "code",
   "execution_count": null,
   "metadata": {},
   "outputs": [],
   "source": []
  }
 ],
 "metadata": {
  "kernelspec": {
   "display_name": "Julia 1.4.1",
   "language": "julia",
   "name": "julia-1.4"
  },
  "language_info": {
   "file_extension": ".jl",
   "mimetype": "application/julia",
   "name": "julia",
   "version": "1.4.1"
  }
 },
 "nbformat": 4,
 "nbformat_minor": 4
}
